{
 "cells": [
  {
   "cell_type": "markdown",
   "id": "d722e5b7-5d63-4936-865b-c7d3b507401b",
   "metadata": {},
   "source": [
    "### <b>Introduction</b> ###\n",
    "As we dicussed in our previous lesson, Python and its Data Science Libraries are a language with a:\n",
    "\n",
    "1. vocabulary\n",
    "1. grammar\n",
    "1. syntax\n",
    "\n",
    "When you are off by just a little in using this language, Python can generate some cryptic error messages. Remember what I have said in previous Lessons, programming requires precise thinking and precise coding. When it comes to coding, it is usually that case that, <b><i>\"When you are 99% right, you are 100% wrong\"</i></b>.\n",
    "\n",
    "At this early stage of your Python for Data Science development, you will make errors and generate error messages. \n",
    "\n",
    "However, given the knowledge you have developed over the last five lessons on the subjects of Object Oriented Programming and Python basics, these error messages can actually be insightful and useful.\n",
    "\n",
    "A goal of this Jupyter Notebook lesson is: <b>Learn to Embrace Python Error Messages!</b>\n",
    "\n",
    "As always, let's make this theory come to life with hands-on learning.\n"
   ]
  },
  {
   "cell_type": "markdown",
   "id": "5081979d-482e-4492-b620-d1e18a027405",
   "metadata": {},
   "source": [
    "### <b>Using Object Oriented Programming Vocabulary to Categorize Python Error Messages</b> ###\n",
    "\n",
    "The Python errors covered in this Notebook are categorized along the following Object Oriented Programming Terms and Concepts:\n",
    "<b>\n",
    "1. NameErrors\n",
    "1. Syntax Errors\n",
    "1. Type Errors\n",
    "1. Attribute Errors\n",
    "1. Function/Method Errors\n",
    "</b>\n",
    "Let's start with basic Python <b>NameErrors</b>."
   ]
  },
  {
   "cell_type": "markdown",
   "id": "6f7ff23e-17a6-4e0b-bc51-960033dfa30f",
   "metadata": {},
   "source": [
    "### <b>Basic Python NameErrors</b> ###"
   ]
  },
  {
   "cell_type": "code",
   "execution_count": null,
   "id": "1cc1b02b-9e30-4335-92b7-7d53c511bb77",
   "metadata": {},
   "outputs": [],
   "source": [
    "dog"
   ]
  },
  {
   "cell_type": "code",
   "execution_count": null,
   "id": "e0945aaa-d95a-4773-9e2f-a46c1f879840",
   "metadata": {},
   "outputs": [],
   "source": [
    "'dog'"
   ]
  },
  {
   "cell_type": "code",
   "execution_count": null,
   "id": "2f611b62-a688-497e-b61e-8f3ea3397845",
   "metadata": {},
   "outputs": [],
   "source": [
    "print('My favorite pet is a dog.')"
   ]
  },
  {
   "cell_type": "code",
   "execution_count": null,
   "id": "597847a2-d18e-4583-80fd-a9beeeece106",
   "metadata": {},
   "outputs": [],
   "source": [
    "Print(\"My favorite pet is a dog.\") #NameError! Read the error msg: 'Print' with a cap P!"
   ]
  },
  {
   "cell_type": "code",
   "execution_count": null,
   "id": "c21fd888-29a4-455b-9eb3-eedcb170c76f",
   "metadata": {},
   "outputs": [],
   "source": [
    "print(\"My favorite pet is a\", dog) #NameError! \"dog\" is not an assigned a Python Object Oriented Programming name."
   ]
  },
  {
   "cell_type": "markdown",
   "id": "8c44bd62-da00-4ddd-b95c-c243038faf0f",
   "metadata": {},
   "source": [
    "### <b>Basic Python Syntax Errors</b> ###"
   ]
  },
  {
   "cell_type": "code",
   "execution_count": null,
   "id": "9e673fe5-31a1-42f3-9eec-27ecfe5ab0d7",
   "metadata": {},
   "outputs": [],
   "source": [
    "x='dog' #Let's assign the string 'dog' to the Python variable name 'x'."
   ]
  },
  {
   "cell_type": "code",
   "execution_count": null,
   "id": "48318575-b86f-49c4-b4fb-62c039538c34",
   "metadata": {},
   "outputs": [],
   "source": [
    "print(x)"
   ]
  },
  {
   "cell_type": "code",
   "execution_count": null,
   "id": "94360de9-20de-4c42-aed0-f3d9bbc07180",
   "metadata": {},
   "outputs": [],
   "source": [
    "print(My favorite pet is x) #Follow the placement of ^ for invalid syntax. We need quotes around the string \"My favorite pet is a \""
   ]
  },
  {
   "cell_type": "code",
   "execution_count": null,
   "id": "b03649cf-1935-48e1-ba31-9bb04ce28871",
   "metadata": {},
   "outputs": [],
   "source": [
    "print(\"My favorite pet is a\" x) #Follow the placement of ^ for invalid sytax"
   ]
  },
  {
   "cell_type": "code",
   "execution_count": null,
   "id": "658dd949-1717-491d-929e-1c9c07307aa2",
   "metadata": {},
   "outputs": [],
   "source": [
    "print(\"My favorite pet is a\", x) #We needed quotes and a comma. "
   ]
  },
  {
   "cell_type": "code",
   "execution_count": null,
   "id": "910d7e77-9f97-4e69-8d2d-fd18cc4f8f55",
   "metadata": {},
   "outputs": [],
   "source": [
    "x='big dog \n",
    "#This SyntaxError has EOL which means End of Line and the Error Msg says: \"EOL while scanning STRING literal\" "
   ]
  },
  {
   "cell_type": "code",
   "execution_count": null,
   "id": "d5828c4d-6e50-41f0-9854-699d2caa9192",
   "metadata": {},
   "outputs": [],
   "source": [
    "x=\"big dog' \n",
    "#Once a again the EOL message but for a different reason."
   ]
  },
  {
   "cell_type": "markdown",
   "id": "d1a7da22-6975-4203-85ed-cd9ac42551d0",
   "metadata": {},
   "source": [
    "### <b>Python Reserved Words, Built-in Functions and On-line Help</b> ###"
   ]
  },
  {
   "cell_type": "code",
   "execution_count": null,
   "id": "cbf8f929-507a-4587-949f-efe8e99546ab",
   "metadata": {},
   "outputs": [],
   "source": [
    "print\n",
    "#?print #Here is some on-line help on print.\n",
    "#len\n",
    "#?len   #Here is some on-line help on len.\n",
    "#sum\n",
    "#?sum   #Here is some on-line help on sum."
   ]
  },
  {
   "cell_type": "markdown",
   "id": "2a8345bd-103d-4e18-aa83-348f5b370444",
   "metadata": {},
   "source": [
    "### <b>Basic Python TypeErrors</b> ###"
   ]
  },
  {
   "cell_type": "code",
   "execution_count": null,
   "id": "ba79dde0-82e6-40d1-9ba2-d3f29e8a0add",
   "metadata": {},
   "outputs": [],
   "source": [
    "y=10\n",
    "x\n",
    "#x+y # MSG:\"must be str, not int\". Python interpreted 'x' the string first.\n",
    "#y+x #A different error message. Python interpreted 'y' the int first.\n",
    "#x1='big '\n",
    "#x1+x #You can add or \"concatentate\" one Python string to another Python string."
   ]
  },
  {
   "cell_type": "code",
   "execution_count": null,
   "id": "835cf116-9fff-46bc-9498-4c91785acee1",
   "metadata": {},
   "outputs": [],
   "source": [
    "#z=1000\n",
    "#for i in z: print(i) #Note This TypeError. \"z\" is not a Python sequence. Z is an integer.\n",
    "#z='cat' #Let's replace the interger z=100 with a Python sequence - a string c-a-t, which is a sequence of characters.\n",
    "#for i in z: print(i) #Now the for loop works with the string iterable c-a-t."
   ]
  },
  {
   "cell_type": "code",
   "execution_count": null,
   "id": "3f4cc151-d5fe-4cde-bb96-7c7c708f9c9d",
   "metadata": {},
   "outputs": [],
   "source": [
    "demolist1=[1,2,3,2,4,2]\n",
    "#demolist+90,80,70 #Notice this TypeError. You can only \"concatentate\" one list to another list. You can't concatentate an int to a list.\n",
    "#demolist2=[90,80,70]\n",
    "#demolist1+demolist2"
   ]
  },
  {
   "cell_type": "markdown",
   "id": "381e5856-70e1-4405-b966-be77c3262580",
   "metadata": {},
   "source": [
    "### <b>Basic Python IndexErrors</b> ###"
   ]
  },
  {
   "cell_type": "code",
   "execution_count": null,
   "id": "b38d6b7f-c520-41a4-ba8c-c20a7fa42f92",
   "metadata": {},
   "outputs": [],
   "source": [
    "tricky=[1]\n",
    "#tricky[1]\n",
    "tricky2='cat'\n",
    "tricky2[3]"
   ]
  },
  {
   "cell_type": "markdown",
   "id": "99d0ad7b-e195-47d1-bc98-a854bfc7a6d9",
   "metadata": {},
   "source": [
    "### <b>Basic Python AttributeErrors</b> ###"
   ]
  },
  {
   "cell_type": "code",
   "execution_count": null,
   "id": "dece49cf-34b5-4f31-9fab-6de5b8a10200",
   "metadata": {},
   "outputs": [],
   "source": [
    "x='dog'\n",
    "#x.Upper() #What is x? Why does the error msg start with: 'str' object?\n",
    "x. #Use the iPython tab key to see all of the Python string methods.\n",
    "#x.upper()\n",
    "#y\n",
    "#y.Upper() #What is y? Why does the error msg start with: 'int' object?"
   ]
  },
  {
   "cell_type": "code",
   "execution_count": null,
   "id": "d6cf1cf6-7a71-4289-adb6-affb552b9936",
   "metadata": {},
   "outputs": [],
   "source": [
    "demolist1\n",
    "#demolist1.counter(2) # Another Python Attribute Error! Use the iPython tab key again to see all methods associated with a list object.\n",
    "#demolist1.  #Press tab key here.\n",
    "#demolist1.count(2)"
   ]
  },
  {
   "cell_type": "markdown",
   "id": "fb3c0cda-c54d-4561-8d9f-4605c0419983",
   "metadata": {},
   "source": [
    "### <b>Subscriptable/Callable Errors</b> ###"
   ]
  },
  {
   "cell_type": "code",
   "execution_count": null,
   "id": "77bbeedb-6bd4-4f6c-8439-4a5a1a831277",
   "metadata": {},
   "outputs": [],
   "source": [
    "z=['dog','cat','horse']\n",
    "z(0)"
   ]
  },
  {
   "cell_type": "code",
   "execution_count": null,
   "id": "1636bcfa-ce7b-4a98-b2bf-07ed2df4bcd7",
   "metadata": {},
   "outputs": [],
   "source": [
    "'cat'[0]\n",
    "100[0] "
   ]
  },
  {
   "cell_type": "markdown",
   "id": "239d9309-2f9c-4655-8ff3-097814ea03ca",
   "metadata": {},
   "source": [
    "### <b>Function/Method TypeErrors</b> ###"
   ]
  },
  {
   "cell_type": "code",
   "execution_count": null,
   "id": "53dd9b24-961d-472a-86f9-edcdba9d2167",
   "metadata": {},
   "outputs": [],
   "source": [
    "z.append #While no error message was generated, don't you need () for a function?\n",
    "z.append() #The Type error message says, \"append() takes exactly one argument (0 given)\" What does that mean?"
   ]
  },
  {
   "cell_type": "code",
   "execution_count": null,
   "id": "871334f5-d7c9-40f6-bd79-36c738a75c05",
   "metadata": {},
   "outputs": [],
   "source": [
    "z.append('horse','cow') #The Type error message says, \"append() takes exactly one argument (2 given)\" What does that mean?"
   ]
  },
  {
   "cell_type": "code",
   "execution_count": null,
   "id": "e932f2cc-5903-4d31-9681-e000bb151e13",
   "metadata": {},
   "outputs": [],
   "source": [
    "z.insert('cow') #The Type error message says, \"insert() takes exactly 2 arguments (1 given)\" What does that mean?"
   ]
  },
  {
   "cell_type": "code",
   "execution_count": null,
   "id": "aee771b5-0361-465e-abfd-b237aaa0b7bb",
   "metadata": {},
   "outputs": [],
   "source": [
    "z.insert('cow','goat')#The Type error message says, 'str' object cannot be interpreted as an integer\" What does that mean?"
   ]
  },
  {
   "cell_type": "code",
   "execution_count": null,
   "id": "371b76a6-fb9c-4b9a-88e0-e6873148bf07",
   "metadata": {},
   "outputs": [],
   "source": [
    "z.insert('goat', 2) #Again, the TypeError message says, 'str' object cannot be interpreted as an integer\" What does that mean?\n",
    "#?z.insert \n",
    "#Carefully read the on-line help for the list \"insert\" method. The on-line help states: (index, object)"
   ]
  },
  {
   "cell_type": "markdown",
   "id": "5083a3f8-230e-4bcd-a8fb-d2d5fd3d2cea",
   "metadata": {},
   "source": [
    "### <b>Conclusion</b> ###\n",
    "\n",
    "As a Python Data Science student, you are learning a new language with its own vocabulary, grammar and syntax. You will make mistakes and you will generate Python error messages.\n",
    "\n",
    "This Jupyter Notebook lesson introduced you to some of the more common Python error messages and how these error messages relate to Python's Object Oriented Programming framework. \n",
    "\n",
    "Do worry if you still do not have a clue what the heck \"Object Oriented Programming\" is at this time. What is important right now is that:\n",
    "\n",
    "1. You are aware that Python is an Object Oriented Programming Language and many of its help and error messsages refer to object oriented terms like: name, type, attribute, method, etc.\n",
    "1. You perform as much hands-on practice with the content covered in these first six Jupyter Notebook/video lessons. You have 24/7 access to your remote desktop! Use it to practice, practice, practice! \n",
    "\n",
    "Finally, always use your Google search on the Internet to research Python concepts and error messages. A very common Python troubleshooting technique is: \"copy the Python error message and paste it in Google Search\". Very likely many people have encountered the same error message before. With this technique, you will become very familiar with StackExchange.\n",
    "\n",
    "Also, be on the lookout for our new DS4HS SlackChannel to post questions on.\n",
    "\n",
    "Finally, bookmark Internet resources such as http://data8.org/datascience/ for access to the Berkeley datascience library documentation.\n"
   ]
  },
  {
   "cell_type": "markdown",
   "id": "31398c9c-1187-4ba3-a545-a25a8a842825",
   "metadata": {},
   "source": [
    "In our next video, we will apply what we have learned so far to analyze thousands of rows of heartrate data generated by an AppleWatch."
   ]
  },
  {
   "cell_type": "code",
   "execution_count": null,
   "id": "d50e04b5-06f0-41f4-9854-06c11cca9cd0",
   "metadata": {},
   "outputs": [],
   "source": []
  }
 ],
 "metadata": {
  "kernelspec": {
   "display_name": "Python 3",
   "language": "python",
   "name": "python3"
  },
  "language_info": {
   "codemirror_mode": {
    "name": "ipython",
    "version": 3
   },
   "file_extension": ".py",
   "mimetype": "text/x-python",
   "name": "python",
   "nbconvert_exporter": "python",
   "pygments_lexer": "ipython3",
   "version": "3.6.9"
  }
 },
 "nbformat": 4,
 "nbformat_minor": 5
}
