{
 "cells": [
  {
   "cell_type": "markdown",
   "id": "ca6c435d-3942-4d40-9ca3-cad2b2db8139",
   "metadata": {},
   "source": [
    "### <b>Video Four: Exploring the Python [ ] with Strings and Lists</b> ###"
   ]
  },
  {
   "cell_type": "markdown",
   "id": "34fe84df-10a5-49e1-879e-c530b9aeeae5",
   "metadata": {},
   "source": [
    "So far, we have explored:\n",
    "1. Basic Features of Object Oriented Programming in Python: <b>objects, names, types, attributes and methods</b>\n",
    "1. Basic Python Data Types: <b> string, intger, float and list</b>\n",
    "1. <b>Built-in Python Functions</b> and their similarities and differences with Python method functions which are associated with specific Data Types."
   ]
  },
  {
   "cell_type": "markdown",
   "id": "29798968-c685-44e5-a486-0832ff6b2c27",
   "metadata": {},
   "source": [
    "In this video, we will explore the use of square brackets with Python strings and lists. We will also explore when to use parentheses with functions and when to use square brackets. Let's get started."
   ]
  },
  {
   "cell_type": "markdown",
   "id": "c96a048e-24bd-4ec5-a234-862bcde564fd",
   "metadata": {},
   "source": [
    "### <b> Computer Programming Abstraction </b> ### \n",
    "#### <b><i>Both Python String and List Data Types Are Sequences of Data</i></b> ####\n",
    "\n",
    "Both Python string and list data types share the same propeties from a perspective of <b><i>computer abstraction</i></b>: both strings and lists are sequences because they consist of an ordered collection of items:\n",
    "\n",
    "1. a string consists of an ordered collection of characters.\n",
    "1. a list consists of an ordered collection of Python data types: strings, integers, floats and more.\n",
    "\n",
    "Given that both a Python string and list is an ordered collection of items, each item in either a Python string or list is assigned an index number to identify it's precise position in the sequence. Going from left to right, Python index numbers begin with 0 and they are specified in a pair of square brackets <b>[ ]</b> positioned to the immediate right of the string or list object.\n",
    "\n",
    "Let's make this Python theory come alive with the following examples:"
   ]
  },
  {
   "cell_type": "code",
   "execution_count": null,
   "id": "bd8f4206-d838-4f14-8fcc-7a05a40ee43c",
   "metadata": {},
   "outputs": [],
   "source": [
    "#Let's start by defiing a simple string and list of city names using x and y.\n",
    "x='Boston' #x is a sequence of six characters that spell the city name \"Boston\".\n",
    "y=['New York','Baltimore','Chicago','San Francisco','Berkeley', 'Seattle']\n",
    "#y is a sequence of six items, each of which is a Python string data type.\n",
    "#We can say that the variable \"y\" is assigned to a \"list of strings\".\n",
    "\n",
    "x[0] #Extract the first letter in char sequence spelling the city name Boston.\n",
    "#y[0] #Extract the first item in the list of American cities."
   ]
  },
  {
   "cell_type": "code",
   "execution_count": null,
   "id": "2d63a5e0-a577-45f5-8fce-6c7076c84661",
   "metadata": {},
   "outputs": [],
   "source": [
    "x[3] #This will extract the fourth letter in the city name Boston.\n",
    "#y[3] #This will extract the fourth item in the list of American cities."
   ]
  },
  {
   "cell_type": "markdown",
   "id": "28014d82-26c7-4952-8a80-e9acfaa4d888",
   "metadata": {},
   "source": [
    "##### <b>Proof by Python</b> #####\n",
    "Let's introduce a new <b>Python built-in function</b> called <b>enumerate</b> to display:\n",
    "1. a precise sequence of characters in a string along with each character's index number\n",
    "1. a precise sequence of items in a list along with each item's index number"
   ]
  },
  {
   "cell_type": "code",
   "execution_count": null,
   "id": "e1b127ab-07bf-4ab3-ab64-b00873c40df5",
   "metadata": {},
   "outputs": [],
   "source": [
    "list(enumerate(x)) #Show every item in the string sequence with its index number\n",
    "#list(enumerate(y)) #Show every item in the list sequence with its index number"
   ]
  },
  {
   "cell_type": "markdown",
   "id": "9f627c2d-6f36-4741-b0fb-c6266ca23a3a",
   "metadata": {},
   "source": [
    "<b>SYNTAX WARNING: When to use Parentheses ( ) and When to use Square Brackets [ ] </b>"
   ]
  },
  {
   "cell_type": "code",
   "execution_count": null,
   "id": "5d5970dd-f6b2-4351-9c25-a430efa34f08",
   "metadata": {},
   "outputs": [],
   "source": [
    "x(3) #Read the Python error message carefully! \"str object is not callable\"\n",
    "#Only functions can be \"called\" and parthenses are used to call functions.\n",
    "#This is a good contrast between when to use square brackets and when to us ( )."
   ]
  },
  {
   "cell_type": "markdown",
   "id": "fa1dd69c-275e-4db3-9ff2-77c156731ad0",
   "metadata": {},
   "source": [
    "<b> Determine the length of your string or list with the <i>len()</i> built-in function.</b>"
   ]
  },
  {
   "cell_type": "code",
   "execution_count": null,
   "id": "527b7e26-41d8-4a5d-9f37-b084ac20d1df",
   "metadata": {},
   "outputs": [],
   "source": [
    "len(x)\n",
    "#len(y)"
   ]
  },
  {
   "cell_type": "markdown",
   "id": "366e2f81-84de-4c33-a425-381db3fc80b0",
   "metadata": {},
   "source": [
    "With <b>[ ]</b>, you can extract data from left to right or right to left.\n",
    "\n",
    "1. For left to right, start with <b>0</b> and increment up to the integer derived from the following simple math expression using the <b>len</b> built-in function: <b>len(x)-1</b>.\n",
    "1. For right to left, start with <b>-1</b> and decrement down"
   ]
  },
  {
   "cell_type": "code",
   "execution_count": null,
   "id": "5e62d8d6-c396-4de8-bf29-c804f840cc0a",
   "metadata": {},
   "outputs": [],
   "source": [
    "x\n",
    "#y\n",
    "#x[-1]  #Extract the last letter of the name Boston\n",
    "#y[-1]   #Extract the last item in our list of American cities"
   ]
  },
  {
   "cell_type": "markdown",
   "id": "186c209e-6774-448e-a5e4-56b16410889d",
   "metadata": {},
   "source": [
    "<b>INDEX VALUE WARNING: Python Will Generate an Error Message If Your Index Number is Greater Than len(x)</b>"
   ]
  },
  {
   "cell_type": "code",
   "execution_count": null,
   "id": "a5c9335e-afbb-45d9-8049-ac55a87ba843",
   "metadata": {},
   "outputs": [],
   "source": [
    "len(x)\n",
    "x[7] #Read the Python error message carefully: \"string index out of range\"\n",
    "len(y)\n",
    "y[7] #Read the Python error message carefully: \"string index out of range\""
   ]
  },
  {
   "cell_type": "markdown",
   "id": "d7358050-6b85-445c-8b1b-d63ce8d3d6dc",
   "metadata": {},
   "source": [
    "#### <b>String and List Slicing</b> ####\n",
    "\n",
    "Extract out ranges of characters from a string or items from either a string or a list using a start and stop index range separated by <b>colon :  </b>."
   ]
  },
  {
   "cell_type": "code",
   "execution_count": null,
   "id": "6edce269-1c91-425f-9b99-e682b988706c",
   "metadata": {},
   "outputs": [],
   "source": [
    "x[0:3] #Notice the slice starts at index 0 but ends at 3-1 or index number 2.\n",
    "#y[0:3]"
   ]
  },
  {
   "cell_type": "code",
   "execution_count": null,
   "id": "9642955a-9005-4e83-ab8a-d452fd62031e",
   "metadata": {},
   "outputs": [],
   "source": [
    "x[:3] #Here is another format for extracting a range of data starting at 0.\n",
    "#y[:3]"
   ]
  },
  {
   "cell_type": "code",
   "execution_count": null,
   "id": "7275a1a1-b9e5-48a2-8d87-f9ab40050992",
   "metadata": {},
   "outputs": [],
   "source": [
    "x[-3:] #You can reverse this slice method from right to left. Reposition the :\n",
    "#y[-3:]"
   ]
  },
  {
   "cell_type": "code",
   "execution_count": null,
   "id": "2ec3b96b-d61e-4081-a62b-45a97de8688f",
   "metadata": {},
   "outputs": [],
   "source": [
    "x[len(x)-3:] #You can insert functions into square brackets with one KEY caveat\n",
    "#y[len(x)-3:] #The function must produce an integer value for [ ] to interpret."
   ]
  },
  {
   "cell_type": "markdown",
   "id": "84d1b907-73c2-4dfa-978c-9f826fad9471",
   "metadata": {},
   "source": [
    "<b>VALUE WARNING: Python Sequence Square Brackets [ ] Only Accept Integers </b>"
   ]
  },
  {
   "cell_type": "code",
   "execution_count": null,
   "id": "0ebd21ac-76c1-4c38-a9c9-73555b4b89f6",
   "metadata": {},
   "outputs": [],
   "source": [
    "x[2.5] #Notice the error received when you use a float in the square brackets\n",
    "#y[2.5] #READ THE ERROR MSG CAREFULLY! PYTHON ERROR MSGs CAN CONTAIN GOOD INFO!\n",
    "#This error messages explicitly states: \"string indices must be integers\""
   ]
  },
  {
   "cell_type": "markdown",
   "id": "704fd0b4-94e4-47d8-b980-09b396af2f83",
   "metadata": {},
   "source": [
    "<b>Exploring Nesting String Sequences Inside of List Sequences</b>"
   ]
  },
  {
   "cell_type": "code",
   "execution_count": null,
   "id": "57441af6-fcf8-4fb5-abcc-05ac5b99fece",
   "metadata": {},
   "outputs": [],
   "source": [
    "len(x) #Note the length of your sequence whether it is a string or list\n",
    "#len(y)\n",
    "#Now, let's nest the use of the len function and find the len of y[0]\n",
    "#len(y[0]) #This returns the length of the string at index 0 in the list y.\n",
    "#y[0] #the string New York has 8 characters including the space betwn New & York.\n",
    "#Let's nest the use of the len function and find the len of y[1]\n",
    "#len(y[1]) #This returns the length of the string at index 0 in the list y.\n",
    "#y[1] #the 2nd item in the list \"y\", the string Baltimore, has 9 characters."
   ]
  },
  {
   "cell_type": "markdown",
   "id": "9ecc3561-0139-409e-b3f4-d58646e46952",
   "metadata": {},
   "source": [
    "You can extract and manipulate a complete sequence of items in a string or list with a Python <b>for</b> loop.\n",
    "\n",
    "For the purposes of this introductory Data Science Notebook, we will use the following simple <b>for loop</b> syntax:\n",
    "\n",
    "<b>for i in x:</b> \n",
    "\n",
    "1. where <b>\"i\"</b> is the index number of the string or list\n",
    "1. <b>\"x\"</b> is the name of the string or list\n",
    "1. <b>:</b> is syntax used to end the \"for\" loop statement. In Python, the <b>: punctuation symbol</b> is used to introduce a block of code following programmatic operations such as looping, conditional statements (if/elif/else) and function definitions. \n",
    "\n",
    "Given that we are using only the most basic <b>for loops</b> in this notebook, the code block is on the same line as the <b>for loop</b>. For multi-lined code blocks following <b>for loops</b>, <b>if/elif/else</b> statements and <b>function definitions</b>, all lines must be indented.\n",
    "\n",
    "More details on <b>for loops</b> and other code blocks will be supplied in a later Notebook. "
   ]
  },
  {
   "cell_type": "code",
   "execution_count": null,
   "id": "757e7cc1-6c75-4e83-9759-8f771914d4b8",
   "metadata": {},
   "outputs": [],
   "source": [
    "for i in x: print(i)  #i is the index number mapped to each char in the string."
   ]
  },
  {
   "cell_type": "code",
   "execution_count": null,
   "id": "241690b1-b3a1-4bc6-ac85-30775c0c94bb",
   "metadata": {},
   "outputs": [],
   "source": [
    "for i in y: print(i)  #i is the index number mapped to each item in the list."
   ]
  },
  {
   "cell_type": "code",
   "execution_count": null,
   "id": "1da7be7f-68fa-4433-8dff-d509ec974e3a",
   "metadata": {},
   "outputs": [],
   "source": [
    "for i in x[1:4]: print(i) #loop through a slice of a string"
   ]
  },
  {
   "cell_type": "code",
   "execution_count": null,
   "id": "1d78a0b6-be70-4997-8410-2c829be00b60",
   "metadata": {},
   "outputs": [],
   "source": [
    "for i in y[1:4]: print(i) #loop through a slice of a list"
   ]
  },
  {
   "cell_type": "code",
   "execution_count": null,
   "id": "1507a596-cba4-4fc6-8fe8-4d40ffe9f1c7",
   "metadata": {},
   "outputs": [],
   "source": [
    "for i in x: print(i.upper()) #apply a Python method on each item in the for loop"
   ]
  },
  {
   "cell_type": "code",
   "execution_count": null,
   "id": "0958e925-5ce9-4287-906f-095b82bec0c5",
   "metadata": {},
   "outputs": [],
   "source": [
    "for i in y: print(i.upper())"
   ]
  },
  {
   "cell_type": "markdown",
   "id": "734acbbe-6a1b-4187-9a85-60d3fea33643",
   "metadata": {},
   "source": [
    "# <b>Conclusion</b> ###\n",
    "\n",
    "In this Notebook, we explored the square bracket notation as it relates to Python string and list data types. We saw:\n",
    "\n",
    "1. Python lists are delimited by square brackets and strings by quotations.\n",
    "1. Both Python strings and lists are sequences. A string is a sequence of characters and a list is a sequence of items.\n",
    "1. Both Python strings and lists have index numbers starting at zero identifying each and every item in their respective sequences.\n",
    "1. Both Python strings and lists use the square bracket notation to extract  specific items from their respective sequences. This process is oftentimes called <b>\"slicing\"</b>."
   ]
  },
  {
   "cell_type": "markdown",
   "id": "76e6d2fc-88bc-496c-a785-dac95723efe9",
   "metadata": {},
   "source": [
    "#### <b>Topics for Our Next Jupyter Notebook</b> ####\n",
    "\n",
    "<b>Congratulations!!!</b> <i>You have hit a critical mass in your knowledge and skills of <b>Python for Data Science!</b></i>.\n",
    "\n",
    "In your next Jupyter Notebook, you will see how everything you have learned in these first four videos has prepared you to begin using powerful Python Data Science libraries:\n",
    "\n",
    "1. Concepts of Object Oriented Programming in Python: <b>objects, names, types, attributes and methods</b>\n",
    "1. Exploring Basic Python Data Type: <b>string, integer, float and list</b>\n",
    "1. Exploring Python Built-in Functions: <b>print, sum, min, max, len, etc.</b>\n",
    "1. Comparing Python <b>Built-in Functions</b> with <b>Python Object Oriented Methods</b>\n",
    "1. Exploring the Python <b>Square Bracket Notation</b> with <b>strings and lists</b>\n",
    "\n",
    "In your next Notebook, you will dive directly into working with the key libriaries  of <b>Python for Data Science</b>:\n",
    "\n",
    "1. <b>numpy arrays</b>\n",
    "1. <b>University of California at Berkeley Python datascience library</b>\n",
    "1. <b>pandas</b>\n",
    "\n",
    "By the end of the next workbook, you will be empowered to explore data from multiple sources using <b>numpy, the Berkeley datascience module and pandas</b>."
   ]
  },
  {
   "cell_type": "code",
   "execution_count": null,
   "id": "48bc5387-7fc2-4cef-8313-864c809abf03",
   "metadata": {},
   "outputs": [],
   "source": []
  }
 ],
 "metadata": {
  "kernelspec": {
   "display_name": "Python 3",
   "language": "python",
   "name": "python3"
  },
  "language_info": {
   "codemirror_mode": {
    "name": "ipython",
    "version": 3
   },
   "file_extension": ".py",
   "mimetype": "text/x-python",
   "name": "python",
   "nbconvert_exporter": "python",
   "pygments_lexer": "ipython3",
   "version": "3.6.9"
  }
 },
 "nbformat": 4,
 "nbformat_minor": 5
}
