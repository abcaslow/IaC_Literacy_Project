{
 "cells": [
  {
   "cell_type": "markdown",
   "id": "e169dde0-afce-494b-88e2-1a4e11506af9",
   "metadata": {},
   "source": [
    "# <b>Computational Thinking</b> #\n",
    "## <i>All Models Are Wrong. Some Models Are Useful</i> ##\n",
    "### A Simple Model of Python Data Types</i> ###\n",
    "\n",
    "The Simple Periodic Table of Python Data Types!\n",
    "Just as all matter in the universe can be reduced to elements in the Period Table of Elements, all Python Data can be reduced to Python Data Types.\n",
    "\n",
    "While there are many Python Data Types, we will focus on only four in this Jupyter Notebook Lesson: \n",
    "\n",
    "1. <b>Three Simple Python Data Types</b>: (1) String, (2) Integer, (3) Float \n",
    "1. <b>A Compound or Composite Python Data Type</b>: (1) List\n",
    "\n",
    "Other important Python Data Types such as Boolean, Python Dictionaries and Tuples will be covered in a later Jupyter Notebook.\n",
    "\n",
    "Let's begin by exploring the three simple Python Data Types listed above - string, integer, float. "
   ]
  },
  {
   "cell_type": "markdown",
   "id": "1ffde9ce-017e-418a-9e69-76a5155594b4",
   "metadata": {},
   "source": [
    "### <b>Our Starting Point: The Python String Data Type</b> ###\n",
    "A Python String Data Type can include virtually every possible character. Letters, numbers, punctuation symbols, symbols, hidden characters, etc.\n",
    "\n",
    "The key indicator of a Python Data Type is the presence of quotation symbols at the beginning and ending of a string. Examples: <b>\"</b>Data Science<b>\"</b> or <b>'</b>Washington DC 20007<b>'</b>.\n",
    "\n",
    "Either single or double quotes can be used to define a Python string. "
   ]
  },
  {
   "cell_type": "markdown",
   "id": "30c82f6c-e4fb-4a17-a3fc-669c69bdf0fb",
   "metadata": {},
   "source": [
    "What is the variable displayed in the Jupyter cell below:"
   ]
  },
  {
   "cell_type": "code",
   "execution_count": 12,
   "id": "2500134f-40bb-4eff-a853-da53d455d162",
   "metadata": {},
   "outputs": [],
   "source": [
    "x='cat' #The big hint is the value begins and ends with quotation marks."
   ]
  },
  {
   "cell_type": "code",
   "execution_count": 13,
   "id": "8f18d9a3-a076-40f8-8775-7c539651a7d9",
   "metadata": {},
   "outputs": [],
   "source": [
    "#Your Answer"
   ]
  },
  {
   "cell_type": "markdown",
   "id": "0015217d-393a-4d14-888b-a5b7676758b7",
   "metadata": {},
   "source": [
    "Use the DS4HS \"proof by Python\" technique to prove and verify the Python Data Type of variable \"x\" by using the <b>type(x)</b> statement."
   ]
  },
  {
   "cell_type": "code",
   "execution_count": 14,
   "id": "07222be6-e700-4715-8025-6a0b79cdf4ea",
   "metadata": {},
   "outputs": [
    {
     "data": {
      "text/plain": [
       "str"
      ]
     },
     "execution_count": 14,
     "metadata": {},
     "output_type": "execute_result"
    }
   ],
   "source": [
    "type(x)"
   ]
  },
  {
   "cell_type": "markdown",
   "id": "7c5bdaba-d888-4508-9442-24ccddba4a56",
   "metadata": {},
   "source": [
    "Out of the three simple Python Data Types listed above - string, integer and float - what is the variable displayed in the Jupyter cell below.\n",
    "\n",
    "<b>Hint</b>: The assigned value to the variable 'y' is the number <b>10</b>.\n",
    "This value is <b>NOT</b> enclosed with quotation symbols. This value has <b>NO</b> decimal point."
   ]
  },
  {
   "cell_type": "code",
   "execution_count": 15,
   "id": "8d71f0aa-5cad-450b-a91f-eb5b7d4e4137",
   "metadata": {},
   "outputs": [],
   "source": [
    "y=10  # Notice there are NO quotation marks and NO decimal point."
   ]
  },
  {
   "cell_type": "code",
   "execution_count": 16,
   "id": "d739074b-3c79-4620-a537-174229a279d7",
   "metadata": {},
   "outputs": [],
   "source": [
    "#Your Answer"
   ]
  },
  {
   "cell_type": "markdown",
   "id": "9f8732e9-66de-412a-b89a-b4953bf17dc4",
   "metadata": {},
   "source": [
    "Use the DS4HS \"proof by Python\" technique to prove and verify the Python Data Type of variable \"y\" by using the type(y) statement."
   ]
  },
  {
   "cell_type": "code",
   "execution_count": 17,
   "id": "68a74d03-ef78-4eaa-b896-76743778f7f1",
   "metadata": {},
   "outputs": [
    {
     "data": {
      "text/plain": [
       "int"
      ]
     },
     "execution_count": 17,
     "metadata": {},
     "output_type": "execute_result"
    }
   ],
   "source": [
    "type(y)"
   ]
  },
  {
   "cell_type": "markdown",
   "id": "051eef68-45b9-40a8-b859-265d35dbcad4",
   "metadata": {},
   "source": [
    "Out of the three simple Python Data Types listed above - string, integer and float - what is the variable displayed in the Jupyter cell below.\n",
    "\n",
    "<b>Hint</b>: The assigned value to the variable 'z' is the number <b>10</b>.\n",
    "This value is <b>NOT</b> enclosed with quotation symbols. This value has <b>HAS</b> a decimal point."
   ]
  },
  {
   "cell_type": "code",
   "execution_count": 18,
   "id": "966dee84-19ae-4f1c-95f7-1ce42b031876",
   "metadata": {},
   "outputs": [],
   "source": [
    "z=10.5"
   ]
  },
  {
   "cell_type": "code",
   "execution_count": 19,
   "id": "667de546-a5e5-4c1f-bafd-1f3b44307019",
   "metadata": {},
   "outputs": [],
   "source": [
    "#Your Answer."
   ]
  },
  {
   "cell_type": "markdown",
   "id": "30e8af28-1c3e-4a06-949c-a281f86c34eb",
   "metadata": {},
   "source": [
    "Use the DS4HS \"proof by Python\" technique to prove and verify the Python Data Type of variable \"z\" by using the type(z) statement."
   ]
  },
  {
   "cell_type": "code",
   "execution_count": 20,
   "id": "735eea9e-3944-4b25-9508-9f6f4f331e2e",
   "metadata": {},
   "outputs": [
    {
     "data": {
      "text/plain": [
       "float"
      ]
     },
     "execution_count": 20,
     "metadata": {},
     "output_type": "execute_result"
    }
   ],
   "source": [
    "type(z)"
   ]
  },
  {
   "cell_type": "markdown",
   "id": "c22d04c3-86b7-49c4-a6f6-d333ffe03f9a",
   "metadata": {},
   "source": [
    "#### <b><i>DS4HS Assessment of Understanding</i></b> ####"
   ]
  },
  {
   "cell_type": "markdown",
   "id": "401bdf2f-0acf-4560-8d14-8bd7676ab8cd",
   "metadata": {},
   "source": [
    "Use the following number assigned to the Python varaible <b>\"tricky\"</b> and add it to your Python variable <b>\"y\"</b> defined above.\n",
    "\n",
    "Remember <b>y</b>=10"
   ]
  },
  {
   "cell_type": "code",
   "execution_count": 21,
   "id": "c6098064-958f-4ea5-89f6-514ea0afbc78",
   "metadata": {},
   "outputs": [
    {
     "data": {
      "text/plain": [
       "110"
      ]
     },
     "execution_count": 21,
     "metadata": {},
     "output_type": "execute_result"
    }
   ],
   "source": [
    "tricky= '100'  #Hint: Make note that 100 is enclosed within quotation symbols.\n",
    "iamawiz = tricky+y\n",
    "iamawiz"
   ]
  },
  {
   "cell_type": "markdown",
   "id": "beed50d5-12e6-4799-8002-43d0b33c1e55",
   "metadata": {},
   "source": [
    "What is the problem?"
   ]
  },
  {
   "cell_type": "code",
   "execution_count": 13,
   "id": "8ec1d71c-43c2-4e07-be32-28e344332245",
   "metadata": {},
   "outputs": [],
   "source": [
    "#Your answer.., what are the traits of the Python data types covered so far?"
   ]
  },
  {
   "cell_type": "markdown",
   "id": "f80faf7f-b78e-44e1-a313-3fb16e97a3e5",
   "metadata": {},
   "source": [
    "<b>Question</b>: How can you resolve the issue without completely redefining the Python data types of variables <b>y</b> and <b>tricky</b>?\n",
    "<b>Answer</b>: Python has a set of handy built-in functions called:\n",
    "1. str()\n",
    "1. int()\n",
    "1. float()\n",
    "These three built-in functions all you to change the Python data type in code rather than have to redefine a variable's data type from scratch. In our case, we can convert the variable \"tricky\" that is assigned the string '100' to an integer by making the following modification: <b>int(tricky)</b>.\n",
    "\n",
    "Use the following cell to make this theory come to life by correctly revising the Python statement: <b>iamawiz=tricky+y</b>"
   ]
  },
  {
   "cell_type": "code",
   "execution_count": 14,
   "id": "e80c1e31-c12c-4186-bb20-963039832d52",
   "metadata": {},
   "outputs": [],
   "source": [
    "#Your answer in Python code."
   ]
  },
  {
   "cell_type": "markdown",
   "id": "54a0fce1-0160-441d-b0b6-bd491d0777e9",
   "metadata": {},
   "source": [
    "### Introducing Our First Python Data Structure: The Python <b>List</b> ###\n",
    "\n",
    "To review what we have done so far, let's create a list of all of the variables we have created so far: <b>x, y, z, tricky</b>\n",
    "Great! Now, let's place these variables into an actual Python <b>list</b> enclosing them <b>[ ]</b> and separating them with a comma.\n",
    "\n",
    "While we have worked with the most basic Python Data Types - string, int, and float, these Data Types are of minimal value if they are not grouped into clusters or sets of data. A Python <b>list</b> is perhaps the simplest way of grouping sets/clusters of data. With this said, here is our first interaction with a Python <b>list</b>.\n",
    "\n",
    "Make note that the Python <b>list</b> data structure will provide an excellent \"compare/contrast\" learning experience with the central Python data structure for Data Science: the Python <b>numpy array</b>. Python lists and numpy arrays possesses many similarities between each other but also many critical differences that are important for Data Science."
   ]
  },
  {
   "cell_type": "code",
   "execution_count": 22,
   "id": "e78ef2f9-3937-490b-9c9b-fd262666393e",
   "metadata": {},
   "outputs": [],
   "source": [
    "list_of_vars=[x,y,z,tricky]"
   ]
  },
  {
   "cell_type": "markdown",
   "id": "59a0d13b-28dc-4ea0-bcdc-13435cfacbe5",
   "metadata": {},
   "source": [
    "Now let's put this Python <b>list</b> to work by writing a very simple two line Python <b>for loop</b> to list each variable's Python Data Type:"
   ]
  },
  {
   "cell_type": "code",
   "execution_count": 23,
   "id": "fe9f0f7a-2610-402b-9956-d409fbd3affe",
   "metadata": {},
   "outputs": [
    {
     "name": "stdout",
     "output_type": "stream",
     "text": [
      "cat     <class 'str'>\n",
      "10     <class 'int'>\n",
      "10.5     <class 'float'>\n",
      "100     <class 'int'>\n"
     ]
    }
   ],
   "source": [
    "for i in list_of_vars: \n",
    "    print (i, '   ',type(i))"
   ]
  },
  {
   "cell_type": "markdown",
   "id": "6890e1c5-cab1-4bf8-bd4a-1bf06b50a3b0",
   "metadata": {},
   "source": [
    "Notice this Python <b>for</b> loop produced a list of values for each variable in the <b>list_of_vars</b>  along with their specific Python Data Types. \n",
    "\n",
    "In this Notebook, we are focusing on mastering the basics of Python Data Types. The details of using <b>for</b> loops will be covered in a future Jupyter Notebook."
   ]
  },
  {
   "cell_type": "markdown",
   "id": "3668cc9a-3b4d-4ea2-8ad5-073b260133de",
   "metadata": {},
   "source": [
    "Let's modify our list_of_vars <b>for</b> loop in the following manner to list both the variable name and it's Python Data Type:"
   ]
  },
  {
   "cell_type": "code",
   "execution_count": 18,
   "id": "c8314067-a6bf-42e4-8227-e33da79ee065",
   "metadata": {},
   "outputs": [
    {
     "name": "stdout",
     "output_type": "stream",
     "text": [
      "x <class 'str'>\n",
      "y <class 'int'>\n",
      "z <class 'float'>\n",
      "tricky <class 'int'>\n"
     ]
    }
   ],
   "source": [
    "for i in list_of_vars:\n",
    "    print(i,  type(locals()[i])) #\"locals()\" prints out all of the defined Python local variables"
   ]
  },
  {
   "cell_type": "markdown",
   "id": "69356e2e-ec59-4e10-9673-64375d59cd1a",
   "metadata": {},
   "source": [
    "Very nice! As you can see, incrementally adding on snippets of code in a structured manner makes your Python output richer and more informative."
   ]
  },
  {
   "cell_type": "markdown",
   "id": "7a262d74-68be-4f65-8cc2-c02c87ed1a82",
   "metadata": {},
   "source": [
    "### <b>Conclusion</b> ###\n",
    "In this Notebook, we explored the following three basic Python Data Types:\n",
    "\n",
    "1. string\n",
    "1. int\n",
    "1. float\n",
    "\n",
    "We also learned to group these basic data types using yet another Python Data Type: a \"list\". Since a \"list\" contains other Data Types inside of it, a \"list\" is also referred to as a Python <b>Data Structure</b>. \n",
    "\n",
    "We also encountered three Python built-in functions in this Notebook:\n",
    "\n",
    "1. str()\n",
    "1. int()\n",
    "1. float()\n",
    "\n",
    "In our next Notebook, we will explore more built-in Python functions to manipulate the basic Python Data Types we have covered so far: string, int, float and list.\n"
   ]
  },
  {
   "cell_type": "code",
   "execution_count": null,
   "id": "2bbe6df8-b910-4dae-a1fd-e02a239b1225",
   "metadata": {},
   "outputs": [],
   "source": []
  }
 ],
 "metadata": {
  "kernelspec": {
   "display_name": "Python 3",
   "language": "python",
   "name": "python3"
  },
  "language_info": {
   "codemirror_mode": {
    "name": "ipython",
    "version": 3
   },
   "file_extension": ".py",
   "mimetype": "text/x-python",
   "name": "python",
   "nbconvert_exporter": "python",
   "pygments_lexer": "ipython3",
   "version": "3.6.9"
  }
 },
 "nbformat": 4,
 "nbformat_minor": 5
}
