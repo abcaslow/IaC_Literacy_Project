{
 "cells": [
  {
   "cell_type": "markdown",
   "id": "ca6c435d-3942-4d40-9ca3-cad2b2db8139",
   "metadata": {},
   "source": [
    "### <b>Video Four: Exploring the Python [ ] with Strings and Lists</b> ###"
   ]
  },
  {
   "cell_type": "markdown",
   "id": "34fe84df-10a5-49e1-879e-c530b9aeeae5",
   "metadata": {},
   "source": [
    "So far, we have explored:\n",
    "1. Basic Features of Object Oriented Programming in Python: <b>objects, names, types, attributes and methods</b>\n",
    "1. Basic Python Data Types: <b> string, intger, float and list</b>\n",
    "1. Built-in Python Functions and their similarities and differences with Python method functions which are associated with specific Data Types."
   ]
  },
  {
   "cell_type": "markdown",
   "id": "29798968-c685-44e5-a486-0832ff6b2c27",
   "metadata": {},
   "source": [
    "In this video we will explore the use of square brackets with Python strings and lists. We will also explore when to use parentheses with functions and when to use square brackets. Let's get started."
   ]
  },
  {
   "cell_type": "markdown",
   "id": "c96a048e-24bd-4ec5-a234-862bcde564fd",
   "metadata": {},
   "source": [
    "#### <b>Both Python String and List Data Types Are Sequences of Data</b> ####\n",
    "\n",
    "Both Python string and list data types are sequences because they consist of an ordered collection of items:\n",
    "\n",
    "1. a string consists of an ordered collection of characters.\n",
    "1. a list consists of an ordered collection of Python data types: strings, integers, floats and more.\n",
    "\n",
    "Given that both a Python string and list is an ordered collection of items, each item in either a Python string or list is assigned an index number to indentify it's precise position in the sequence. Going from left to right, Python index numbers begin with 0 and they can be specified in a pair of square brackets <b>[ ]</b> positioned to the immediate right of the string or list object.\n",
    "\n",
    "Let's make this Python theory come alive with th following examples:"
   ]
  },
  {
   "cell_type": "code",
   "execution_count": 101,
   "id": "bd8f4206-d838-4f14-8fcc-7a05a40ee43c",
   "metadata": {},
   "outputs": [
    {
     "data": {
      "text/plain": [
       "'B'"
      ]
     },
     "execution_count": 101,
     "metadata": {},
     "output_type": "execute_result"
    }
   ],
   "source": [
    "x='Boston'\n",
    "y=['New York','Baltimore','Chicago','San Francisco','Berkeley', 'Seattle']\n",
    "x[0] #This will extract the first letter in the city name Boston.\n",
    "#y[0] #This will extract the first item in the list of American cities."
   ]
  },
  {
   "cell_type": "code",
   "execution_count": 102,
   "id": "2d63a5e0-a577-45f5-8fce-6c7076c84661",
   "metadata": {},
   "outputs": [
    {
     "data": {
      "text/plain": [
       "'San Francisco'"
      ]
     },
     "execution_count": 102,
     "metadata": {},
     "output_type": "execute_result"
    }
   ],
   "source": [
    "x[3] #This will extract the fourth letter in the city name Boston.\n",
    "y[3] #This will extract the fourth item in the list of American cities."
   ]
  },
  {
   "cell_type": "code",
   "execution_count": 103,
   "id": "5d5970dd-f6b2-4351-9c25-a430efa34f08",
   "metadata": {},
   "outputs": [
    {
     "ename": "TypeError",
     "evalue": "'str' object is not callable",
     "output_type": "error",
     "traceback": [
      "\u001b[0;31m---------------------------------------------------------------------------\u001b[0m",
      "\u001b[0;31mTypeError\u001b[0m                                 Traceback (most recent call last)",
      "\u001b[0;32m<ipython-input-103-59a2e36e1abb>\u001b[0m in \u001b[0;36m<module>\u001b[0;34m\u001b[0m\n\u001b[0;32m----> 1\u001b[0;31m \u001b[0mx\u001b[0m\u001b[0;34m(\u001b[0m\u001b[0;36m3\u001b[0m\u001b[0;34m)\u001b[0m \u001b[0;31m#Read the Python error message carefully! \"str object is not callable\"\u001b[0m\u001b[0;34m\u001b[0m\u001b[0;34m\u001b[0m\u001b[0m\n\u001b[0m\u001b[1;32m      2\u001b[0m \u001b[0;31m#Only functions can be \"called\" and parthenses are used to call functions.\u001b[0m\u001b[0;34m\u001b[0m\u001b[0;34m\u001b[0m\u001b[0;34m\u001b[0m\u001b[0m\n\u001b[1;32m      3\u001b[0m \u001b[0;31m#This is a good contrast between when to use square brackets and when to us ( ).\u001b[0m\u001b[0;34m\u001b[0m\u001b[0;34m\u001b[0m\u001b[0;34m\u001b[0m\u001b[0m\n",
      "\u001b[0;31mTypeError\u001b[0m: 'str' object is not callable"
     ]
    }
   ],
   "source": [
    "x(3) #Read the Python error message carefully! \"str object is not callable\"\n",
    "#Only functions can be \"called\" and parthenses are used to call functions.\n",
    "#This is a good contrast between when to use square brackets and when to us ( )."
   ]
  },
  {
   "cell_type": "markdown",
   "id": "366e2f81-84de-4c33-a425-381db3fc80b0",
   "metadata": {},
   "source": [
    "With <b>[ ]</b>, you can extract data from left to right or right to left.\n",
    "\n",
    "1. For left to right, start with 0 and increment up to len(x)-1.\n",
    "1. For right to left, start with -1 and decrement down"
   ]
  },
  {
   "cell_type": "code",
   "execution_count": 104,
   "id": "5e62d8d6-c396-4de8-bf29-c804f840cc0a",
   "metadata": {},
   "outputs": [
    {
     "data": {
      "text/plain": [
       "'Seattle'"
      ]
     },
     "execution_count": 104,
     "metadata": {},
     "output_type": "execute_result"
    }
   ],
   "source": [
    "x\n",
    "#y\n",
    "#x[-1]  #Extract the last letter of the name Boston\n",
    "y[-1]   #Extract the last item in our list of American cities"
   ]
  },
  {
   "cell_type": "markdown",
   "id": "d7358050-6b85-445c-8b1b-d63ce8d3d6dc",
   "metadata": {},
   "source": [
    "#### <b>List Slicing</b> ####\n",
    "\n",
    "Extract out ranges of characters from a string or items from a list using a start and stop index range separated by colon."
   ]
  },
  {
   "cell_type": "code",
   "execution_count": 105,
   "id": "6edce269-1c91-425f-9b99-e682b988706c",
   "metadata": {},
   "outputs": [
    {
     "data": {
      "text/plain": [
       "['New York', 'Baltimore', 'Chicago']"
      ]
     },
     "execution_count": 105,
     "metadata": {},
     "output_type": "execute_result"
    }
   ],
   "source": [
    "x[0:3] #Notice the slice starts at index 0 but ends at 3-1 or index number 2.\n",
    "y[0:3]"
   ]
  },
  {
   "cell_type": "code",
   "execution_count": 106,
   "id": "9642955a-9005-4e83-ab8a-d452fd62031e",
   "metadata": {},
   "outputs": [
    {
     "data": {
      "text/plain": [
       "['New York', 'Baltimore', 'Chicago']"
      ]
     },
     "execution_count": 106,
     "metadata": {},
     "output_type": "execute_result"
    }
   ],
   "source": [
    "x[:3] #Here is another format for extracting a range of data starting at 0.\n",
    "y[:3]"
   ]
  },
  {
   "cell_type": "code",
   "execution_count": 107,
   "id": "7275a1a1-b9e5-48a2-8d87-f9ab40050992",
   "metadata": {},
   "outputs": [
    {
     "data": {
      "text/plain": [
       "['San Francisco', 'Berkeley', 'Seattle']"
      ]
     },
     "execution_count": 107,
     "metadata": {},
     "output_type": "execute_result"
    }
   ],
   "source": [
    "x[-3:] #You can reverse this slice method from right to left. Reposition the :\n",
    "y[-3:]"
   ]
  },
  {
   "cell_type": "code",
   "execution_count": 108,
   "id": "2ec3b96b-d61e-4081-a62b-45a97de8688f",
   "metadata": {},
   "outputs": [
    {
     "data": {
      "text/plain": [
       "['San Francisco', 'Berkeley', 'Seattle']"
      ]
     },
     "execution_count": 108,
     "metadata": {},
     "output_type": "execute_result"
    }
   ],
   "source": [
    "x[len(x)-3:] #You can insert functions into square brackets with one KEY caveat\n",
    "y[len(x)-3:] #The function must produce an integer value."
   ]
  },
  {
   "cell_type": "code",
   "execution_count": 109,
   "id": "0ebd21ac-76c1-4c38-a9c9-73555b4b89f6",
   "metadata": {},
   "outputs": [
    {
     "ename": "TypeError",
     "evalue": "list indices must be integers or slices, not float",
     "output_type": "error",
     "traceback": [
      "\u001b[0;31m---------------------------------------------------------------------------\u001b[0m",
      "\u001b[0;31mTypeError\u001b[0m                                 Traceback (most recent call last)",
      "\u001b[0;32m<ipython-input-109-10ff8287c9a7>\u001b[0m in \u001b[0;36m<module>\u001b[0;34m\u001b[0m\n\u001b[1;32m      1\u001b[0m \u001b[0;31m#x[2.5] #Notice the error received when you use a float in the square brackets\u001b[0m\u001b[0;34m\u001b[0m\u001b[0;34m\u001b[0m\u001b[0;34m\u001b[0m\u001b[0m\n\u001b[0;32m----> 2\u001b[0;31m \u001b[0my\u001b[0m\u001b[0;34m[\u001b[0m\u001b[0;36m2.5\u001b[0m\u001b[0;34m]\u001b[0m\u001b[0;34m\u001b[0m\u001b[0;34m\u001b[0m\u001b[0m\n\u001b[0m",
      "\u001b[0;31mTypeError\u001b[0m: list indices must be integers or slices, not float"
     ]
    }
   ],
   "source": [
    "#x[2.5] #Notice the error received when you use a float in the square brackets\n",
    "y[2.5] "
   ]
  },
  {
   "cell_type": "code",
   "execution_count": 110,
   "id": "57441af6-fcf8-4fb5-abcc-05ac5b99fece",
   "metadata": {},
   "outputs": [
    {
     "data": {
      "text/plain": [
       "6"
      ]
     },
     "execution_count": 110,
     "metadata": {},
     "output_type": "execute_result"
    }
   ],
   "source": [
    "len(x) #Note the length of your sequence whether it is a string or list\n",
    "#len(y)\n",
    "#len(y[0])\n",
    "#y[0]\n",
    "#len(y[1])\n",
    "#y[1]"
   ]
  },
  {
   "cell_type": "code",
   "execution_count": 111,
   "id": "1dc49c8c-3742-4791-b186-f36066ebe39a",
   "metadata": {},
   "outputs": [
    {
     "ename": "IndexError",
     "evalue": "string index out of range",
     "output_type": "error",
     "traceback": [
      "\u001b[0;31m---------------------------------------------------------------------------\u001b[0m",
      "\u001b[0;31mIndexError\u001b[0m                                Traceback (most recent call last)",
      "\u001b[0;32m<ipython-input-111-2465c6bfd094>\u001b[0m in \u001b[0;36m<module>\u001b[0;34m\u001b[0m\n\u001b[1;32m      1\u001b[0m \u001b[0mlen\u001b[0m\u001b[0;34m(\u001b[0m\u001b[0mx\u001b[0m\u001b[0;34m)\u001b[0m  \u001b[0;31m#6 characters in the name \"Boston\"\u001b[0m\u001b[0;34m\u001b[0m\u001b[0;34m\u001b[0m\u001b[0m\n\u001b[0;32m----> 2\u001b[0;31m \u001b[0mx\u001b[0m\u001b[0;34m[\u001b[0m\u001b[0;36m7\u001b[0m\u001b[0;34m]\u001b[0m  \u001b[0;31m#When an index number greater than the max is entered,an error is flagged.\u001b[0m\u001b[0;34m\u001b[0m\u001b[0;34m\u001b[0m\u001b[0m\n\u001b[0m",
      "\u001b[0;31mIndexError\u001b[0m: string index out of range"
     ]
    }
   ],
   "source": [
    "len(x)  #6 characters in the name \"Boston\"\n",
    "x[7]  #When an index number greater than the max is entered,an error is flagged."
   ]
  },
  {
   "cell_type": "markdown",
   "id": "9ecc3561-0139-409e-b3f4-d58646e46952",
   "metadata": {},
   "source": [
    "You can extract and manipulate a complete sequence of items in a string or list with a Python <b>for</b> loop.\n",
    "\n",
    "For the purposes of this introductory Data Science Notebook, we will use the following simple <b>for loop</b> syntax:\n",
    "\n",
    "<b>for i in x:</b> \n",
    "\n",
    "1. where <b>\"i\"</b> is the index number of the string or list\n",
    "1. <b>\"x\"</b> is the name of the string or list\n",
    "1. <b>:</b> is syntax used to end the \"for\" loop statement. In Python, the <b>: punctuation symbol</b> is used to introduce a block of code following programmatic operations such as looping, conditional statements (if/elif/else) and function definitions. \n",
    "\n",
    "Given that we are using only the most basic <b>for loops</b> in this notebook, the code block is on the same line as the <b>for loop</b>. For multi-lined code blocks following <b>for loops</b>, <b>if/elif/else</b> statements and <b>function definitions</b>, all lines must be indented.\n",
    "\n",
    "More details on <b>for loops</b> and other code blocks will be supplied in a later Notebook. "
   ]
  },
  {
   "cell_type": "code",
   "execution_count": 112,
   "id": "757e7cc1-6c75-4e83-9759-8f771914d4b8",
   "metadata": {},
   "outputs": [
    {
     "name": "stdout",
     "output_type": "stream",
     "text": [
      "B\n",
      "o\n",
      "s\n",
      "t\n",
      "o\n",
      "n\n"
     ]
    }
   ],
   "source": [
    "for i in x: print(i)  #i is the index number mapped to each char in the string."
   ]
  },
  {
   "cell_type": "code",
   "execution_count": 113,
   "id": "241690b1-b3a1-4bc6-ac85-30775c0c94bb",
   "metadata": {},
   "outputs": [
    {
     "name": "stdout",
     "output_type": "stream",
     "text": [
      "New York\n",
      "Baltimore\n",
      "Chicago\n",
      "San Francisco\n",
      "Berkeley\n",
      "Seattle\n"
     ]
    }
   ],
   "source": [
    "for i in y: print(i)  #i is the index number mapped to each item in the list."
   ]
  },
  {
   "cell_type": "code",
   "execution_count": 114,
   "id": "1da7be7f-68fa-4433-8dff-d509ec974e3a",
   "metadata": {},
   "outputs": [
    {
     "name": "stdout",
     "output_type": "stream",
     "text": [
      "o\n",
      "s\n",
      "t\n"
     ]
    }
   ],
   "source": [
    "for i in x[1:4]: print(i) #loop through a slice of a string"
   ]
  },
  {
   "cell_type": "code",
   "execution_count": 115,
   "id": "1d78a0b6-be70-4997-8410-2c829be00b60",
   "metadata": {},
   "outputs": [
    {
     "name": "stdout",
     "output_type": "stream",
     "text": [
      "Baltimore\n",
      "Chicago\n",
      "San Francisco\n"
     ]
    }
   ],
   "source": [
    "for i in y[1:4]: print(i) #loop through a slice of a list"
   ]
  },
  {
   "cell_type": "code",
   "execution_count": 116,
   "id": "1507a596-cba4-4fc6-8fe8-4d40ffe9f1c7",
   "metadata": {},
   "outputs": [
    {
     "name": "stdout",
     "output_type": "stream",
     "text": [
      "B\n",
      "O\n",
      "S\n",
      "T\n",
      "O\n",
      "N\n"
     ]
    }
   ],
   "source": [
    "for i in x: print(i.upper()) #apply a Python method on each item in the for loop"
   ]
  },
  {
   "cell_type": "code",
   "execution_count": 117,
   "id": "0958e925-5ce9-4287-906f-095b82bec0c5",
   "metadata": {},
   "outputs": [
    {
     "name": "stdout",
     "output_type": "stream",
     "text": [
      "NEW YORK\n",
      "BALTIMORE\n",
      "CHICAGO\n",
      "SAN FRANCISCO\n",
      "BERKELEY\n",
      "SEATTLE\n"
     ]
    }
   ],
   "source": [
    "for i in y: print(i.upper())"
   ]
  },
  {
   "cell_type": "code",
   "execution_count": 118,
   "id": "7696b5f0-886b-4cb1-af88-402a30a05b7d",
   "metadata": {},
   "outputs": [
    {
     "name": "stdout",
     "output_type": "stream",
     "text": [
      "B\n",
      "O\n",
      "S\n",
      "T\n",
      "O\n",
      "N\n"
     ]
    }
   ],
   "source": [
    "for i in x: print(i.upper())"
   ]
  },
  {
   "cell_type": "code",
   "execution_count": 119,
   "id": "91e722f7-89b4-4d38-b50d-60aafb090c11",
   "metadata": {},
   "outputs": [
    {
     "data": {
      "text/plain": [
       "'timestamp,heartrate\\n2020-10-01 20:42:22 -0400,99\\n2020-10-01 20:47:46 -0400,67\\n2020-10-01 20:50:14 -0400,107\\n2020-10-01 20:50:19 -0400,107\\n2020-10-01 20:57:39 -0400,63\\n2020-10-01 21:02:07 -0400,57\\n2020-10-01 21:05:08 -0400,67\\n2020-10-01 21:11:29 -0400,77\\n2020-10-01 21:16:27 -0400,70\\n'"
      ]
     },
     "execution_count": 119,
     "metadata": {},
     "output_type": "execute_result"
    }
   ],
   "source": [
    "rawfile=open('heartrate_list_demo.csv')\n",
    "rawfile2string=rawfile.read()\n",
    "rawfile2string"
   ]
  },
  {
   "cell_type": "code",
   "execution_count": 120,
   "id": "426663de-5d1e-4ca6-9b23-bf924d257625",
   "metadata": {},
   "outputs": [
    {
     "data": {
      "text/plain": [
       "str"
      ]
     },
     "execution_count": 120,
     "metadata": {},
     "output_type": "execute_result"
    }
   ],
   "source": [
    "type(rawfile2string) #Notice it is a string\n",
    "#rawfile2string[0:19] #This string starts with  the words timestamp & heartrate. \n",
    "#rawfile2string[20:49] #Then the string has pairs of timestamps & heartrates.\n",
    "#len(rawfile2string) #Wow! 283 characters in this single string of data."
   ]
  },
  {
   "cell_type": "code",
   "execution_count": 121,
   "id": "419cec38-c3b3-4d02-8a76-7ff0a171eaa0",
   "metadata": {},
   "outputs": [
    {
     "name": "stdout",
     "output_type": "stream",
     "text": [
      "timestamp,heartrate\n",
      "2020-10-01 20:42:22 -0400,99\n",
      "2020-10-01 20:47:46 -0400,67\n",
      "2020-10-01 20:50:14 -0400,107\n",
      "2020-10-01 20:50:19 -0400,107\n",
      "2020-10-01 20:57:39 -0400,63\n",
      "2020-10-01 21:02:07 -0400,57\n",
      "2020-10-01 21:05:08 -0400,67\n",
      "2020-10-01 21:11:29 -0400,77\n",
      "2020-10-01 21:16:27 -0400,70\n",
      "\n"
     ]
    }
   ],
   "source": [
    "#Let's use the Python built-in \"print\" function to get a clear view of this data\n",
    "print(rawfile2string) #Wow, look at this! This single string is a table of data! "
   ]
  },
  {
   "cell_type": "code",
   "execution_count": 122,
   "id": "7d183696-ee5d-4d56-a6df-774c57ff2011",
   "metadata": {},
   "outputs": [
    {
     "data": {
      "text/plain": [
       "'timestamp,heartrate\\n2020-10-01 20:42:22 -0400,99\\n2020-10-01 20:47:46 -0400,67\\n2020-10-01 20:50:14 -0400,107\\n2020-10-01 20:50:19 -0400,107\\n2020-10-01 20:57:39 -0400,63\\n2020-10-01 21:02:07 -0400,57\\n2020-10-01 21:05:08 -0400,67\\n2020-10-01 21:11:29 -0400,77\\n2020-10-01 21:16:27 -0400,70\\n'"
      ]
     },
     "execution_count": 122,
     "metadata": {},
     "output_type": "execute_result"
    }
   ],
   "source": [
    "rawfile2string #Notice that all data samples are separated by \\n.\n",
    "#\\n is the string character sequence for a new line."
   ]
  },
  {
   "cell_type": "code",
   "execution_count": 123,
   "id": "88b2c373-7ebe-4d62-88d0-4abf0adfecf7",
   "metadata": {},
   "outputs": [
    {
     "data": {
      "text/plain": [
       "283"
      ]
     },
     "execution_count": 123,
     "metadata": {},
     "output_type": "execute_result"
    }
   ],
   "source": [
    "#Let's use the Python string 'split' method to convert this string into a list.\n",
    "string2list=rawfile2string.split('\\n')\n",
    "string2list #Our single string in rawfile2string is now a list of 11 string items \n",
    "len(string2list)\n",
    "len(rawfile2string) #compare the length of string to list to rawfiletostring"
   ]
  },
  {
   "cell_type": "code",
   "execution_count": 124,
   "id": "12702c56-bd70-4e3a-9483-c9afa047a15b",
   "metadata": {},
   "outputs": [
    {
     "data": {
      "text/plain": [
       "'timestamp,'"
      ]
     },
     "execution_count": 124,
     "metadata": {},
     "output_type": "execute_result"
    }
   ],
   "source": [
    "rawfile2string[0:10] #Compare this string index slice to the next list slice.\n",
    "#string2list[0:10] #The string slice shows 10 chars.The list slice shows 10 items.\n",
    "#string2list[0][0:10] #Compare this slice to the rawfile2string[0:10] slice."
   ]
  },
  {
   "cell_type": "code",
   "execution_count": 125,
   "id": "8e7b382f-2b94-4e8f-8594-31556b37fc4d",
   "metadata": {},
   "outputs": [
    {
     "data": {
      "text/plain": [
       "['timestamp,heartrate',\n",
       " '2020-10-01 20:42:22 -0400,99',\n",
       " '2020-10-01 20:47:46 -0400,67',\n",
       " '2020-10-01 20:50:14 -0400,107',\n",
       " '2020-10-01 20:50:19 -0400,107',\n",
       " '2020-10-01 20:57:39 -0400,63',\n",
       " '2020-10-01 21:02:07 -0400,57',\n",
       " '2020-10-01 21:05:08 -0400,67',\n",
       " '2020-10-01 21:11:29 -0400,77',\n",
       " '2020-10-01 21:16:27 -0400,70',\n",
       " '']"
      ]
     },
     "execution_count": 125,
     "metadata": {},
     "output_type": "execute_result"
    }
   ],
   "source": [
    "#Now let's convert our list of strings to a list of lists of strings!\n",
    "#Once again, we will use the Python string \"split\" method.\n",
    "#Notice the power of mastering a few basic Python techniques for Data Science! \n",
    "string2list #Make careful note of the comma between the timestamp and heartrate.\n",
    "#for i in string2list: print(i.split(',')) #You have a list of lists of strings.\n",
    "#Notice the multiple [ ] brackets denoting each list in this list of lists."
   ]
  },
  {
   "cell_type": "markdown",
   "id": "8e4941c9-df1e-46b6-9547-c81f2217e6cd",
   "metadata": {},
   "source": [
    "#### <b>Conclusion</b> ####\n",
    "In this Notebook, we explored the square bracket notation as it relates to Python string and list data types. We saw:\n",
    "\n",
    "1. Python lists are delimited by square brackets and strings by quoations.\n",
    "1. Both Python strings and lists are sequences. A string is a sequence of characters and a list is a sequence of items.\n",
    "1. Both Python strings and lists have index numbers starting at zero identifying each and every item in their respective sequences.\n",
    "1. Both Python strings and lists use the square bracket notation to extract out specific items from their respective sequences. This process is oftentimes called \"slicing\".\n",
    "1. We also covered how to use a simple for loop to programmatically extract each item out of a string or list.\n",
    "1. Finally, we covered steps for converting a Python string to a list using the Python string <b>split</b> method."
   ]
  },
  {
   "cell_type": "markdown",
   "id": "a5213eeb-4d84-4788-9f60-1b049c5f59c8",
   "metadata": {},
   "source": [
    "We have covered alot in these first four DS4HS videos. In our next video, we are going to consolidate what we have learned so far by exploring exactly what Python error messages can tell us and how we obtain a deeper understanding of Python through its error message.s"
   ]
  },
  {
   "cell_type": "code",
   "execution_count": null,
   "id": "977c9c94-4517-4f7a-b968-ab3fa0e50521",
   "metadata": {},
   "outputs": [],
   "source": []
  },
  {
   "cell_type": "code",
   "execution_count": null,
   "id": "94602885-fcce-487c-a3c8-9c68e4c00d87",
   "metadata": {},
   "outputs": [],
   "source": []
  }
 ],
 "metadata": {
  "kernelspec": {
   "display_name": "Python 3",
   "language": "python",
   "name": "python3"
  },
  "language_info": {
   "codemirror_mode": {
    "name": "ipython",
    "version": 3
   },
   "file_extension": ".py",
   "mimetype": "text/x-python",
   "name": "python",
   "nbconvert_exporter": "python",
   "pygments_lexer": "ipython3",
   "version": "3.6.9"
  }
 },
 "nbformat": 4,
 "nbformat_minor": 5
}
