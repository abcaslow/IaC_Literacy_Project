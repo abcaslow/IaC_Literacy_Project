{
 "cells": [
  {
   "cell_type": "markdown",
   "id": "7ced5c8b-2bae-4f53-8c8f-0d671ae8d047",
   "metadata": {},
   "source": [
    "### Get to Know Your DS4HS Remote-Desktop Interface ###"
   ]
  },
  {
   "cell_type": "markdown",
   "id": "83a98c19-2552-4fe7-b468-d498b290473a",
   "metadata": {},
   "source": [
    "On the far left side of your Remote-Desktop Display, is a column containing:\n",
    "    \n",
    "1. Access to the Public Chat System\n",
    "1. The Shared Notes - <b>VERY IMPORTANT FOR MANY DS4HS LABS!</b>\n",
    "1. A List of Current Users on the System"
   ]
  },
  {
   "cell_type": "markdown",
   "id": "184b4793-d1e3-42a4-a068-24b36593082c",
   "metadata": {},
   "source": [
    "On the bottom left of your Remote-Desktop Display, is a row containing:\n",
    "\n",
    "1. A Microsoft Windows-like Applications link to access a popup menu of all avaiable applications on your remote-desktop\n",
    "1. A Blue Circular Chrome logo to access the Chromium Web Browser\n",
    "1. A Black Terminal Window to access the LINUX Operating System Terminal\n"
   ]
  },
  {
   "cell_type": "markdown",
   "id": "833fd306-1395-4205-b357-92f3e941a272",
   "metadata": {},
   "source": [
    "On the bottom center of your Remote-Desktop Display, is a row containing:\n",
    "\n",
    "1. A Mute Button to turn on and of your microphone only.\n",
    "1. An Audio Button to turn on and off both your microphone and speaker.\n",
    "1. A Video Button to turn on and off your video\n",
    "1. A Screen Share Button\n",
    "1. A Lock/Unlock Remote-Desktop Button\n",
    "\n"
   ]
  },
  {
   "cell_type": "markdown",
   "id": "761d7e41-c8be-44c4-9461-cc50973a44b5",
   "metadata": {},
   "source": [
    "On the upper right corner of your Remote-Desktop Display, is a three vertical dot icon. Click on this icon and you will see:\n",
    "\n",
    "1. A Full Screen option\n",
    "1. Enable Clipboard\n",
    "\n",
    "<b>Enable Clipboard</b> is very useful for cutting and pasting content from your remote-desktop to Apps outside of your remote desktop such as the system's <b>Shared Notes</b> workspace."
   ]
  },
  {
   "cell_type": "code",
   "execution_count": null,
   "id": "50f4904c-8250-41c9-ae01-5370f62117e3",
   "metadata": {},
   "outputs": [],
   "source": []
  }
 ],
 "metadata": {
  "kernelspec": {
   "display_name": "Python 3",
   "language": "python",
   "name": "python3"
  },
  "language_info": {
   "codemirror_mode": {
    "name": "ipython",
    "version": 3
   },
   "file_extension": ".py",
   "mimetype": "text/x-python",
   "name": "python",
   "nbconvert_exporter": "python",
   "pygments_lexer": "ipython3",
   "version": "3.6.9"
  }
 },
 "nbformat": 4,
 "nbformat_minor": 5
}
