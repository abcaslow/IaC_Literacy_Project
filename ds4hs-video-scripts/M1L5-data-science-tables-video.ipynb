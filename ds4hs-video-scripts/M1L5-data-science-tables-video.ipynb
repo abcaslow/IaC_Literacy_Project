{
 "cells": [
  {
   "cell_type": "markdown",
   "id": "136d3dd4-3259-44e3-861b-fb397c1762dd",
   "metadata": {},
   "source": [
    "### <b>Pulling It All Together: Using Square Brackets [  ] and Python Functions to Extract Data from Two Dimensional Data Structures Imported Into Berkeley datascience Tables</b> ###"
   ]
  },
  {
   "cell_type": "markdown",
   "id": "b98e0df3-16e3-4667-a1fa-aee59d80749b",
   "metadata": {},
   "source": [
    "In the previous video, we used square brackets to extract data from one dimensional sequences of data: \n",
    "\n",
    "1. a sequence of characters in a Python <b>string</b> data type\n",
    "1. a sequence of items in a Python <b>list</b> data type\n",
    "\n",
    "When you think about the Python <b>list</b> data type abstractly, you realize that it is a one-dimensional sequence of constituent Python data types. To be precise, when you are referencing a Python <b>list</b> it is best to say:\n",
    "1. <b>list of strings</b>\n",
    "1. <b>list of integers</b>\n",
    "1. <b>list of strings, integers and floats</b>\n",
    "1. <b> list of lists of strings</b>\n",
    "1. etc. \n",
    "\n",
    "We recommend that you get used to engaging in this type of abstract thinking to reveal some overarching concepts that are found repeatedly in computer programming in general and object oriented programming in particular. <b><i>HOWEVER, don't let your abstract thinking mislead you!</i></b> Always be ready to validate your abstract thinking with hands-on proof with techniques such as <b><i>Proof by Python!!!</i></b> Always verify your abstract thoughts with hands-on validation tests."
   ]
  },
  {
   "cell_type": "markdown",
   "id": "1e9e5356-1595-40cc-8a8d-ba3dcb4660b4",
   "metadata": {},
   "source": [
    "#### <b>More Abstract Thinking: Moving from One Dimension of Sequences of Data in Strings and Lists to Two Dimensions of Data with Tables Consisting of Rows and Columns</b> ####\n",
    "In this video, we will build upon the abstract thinking of our previous video. We will move from one dimensional sequences of data stored in strings and lists into two dimensional tables of data composed of rows and columns. We will examine the following two dimensional table-based data structures:\n",
    "\n",
    "1. Spreadsheets such as Microsoft Excel and Google Sheets (a non-Python example)\n",
    "1. <b>University of California at Berkeley datascience Tables (Python based)</b>\n",
    "\n",
    "After exploring different the similarities of these two tables, we will explore using Python functions and square bracket syntax to extract data from <b>Berkeley datascience tables </b>.\n",
    "\n",
    "Now, let's make our theory come to life with hands-on exercises."
   ]
  },
  {
   "cell_type": "markdown",
   "id": "0cdf9de9-87fe-4671-8075-66335ba2a78f",
   "metadata": {},
   "source": [
    "##### <b> Viewing a Table of Data in a Conventional Spreadsheet</b> #####\n",
    "In this video, we are going to work with a table consisting of real data displaying day-to-day expenses from a credit card. Historically, this data would be reviewed and analyzed in a spreadsheet such as <b>Microsoft Excel</b> or <b>GoogleSheets</b>. Let's use our remote desktop resources and open up a new browser tab to take a look at our table of data in <b>GoogleSheets</b>. Notice the two dimensional data. We have 4 columns of data: date,transaction,description and category; and we have about 183 rows of data from late May to mid-March. This is the exact same data we are going to import into Python."
   ]
  },
  {
   "cell_type": "markdown",
   "id": "4b1ef535-7ef7-4224-bf74-6c05ae7e880d",
   "metadata": {},
   "source": [
    "##### <b> Viewing a Table of Data in Jupyter Lab</b> #####\n",
    "Also, it is worth noting that you can quickly pull up your data set in Jupyter Lab for a quick inspection before you load it into Python.\n",
    "By using control keys such as CONTROL+PgDn(ARROW DOWN) or CONTROL+PgUp(ARROW UP), you can quickly inspect the data."
   ]
  },
  {
   "cell_type": "markdown",
   "id": "0bd8e083-8d2e-4699-93f0-b073712ccc07",
   "metadata": {},
   "source": [
    "##### <b> Importing Our Data Using the Berkeley datascience Library and pandas</b> #####\n",
    "To load this same table of data into Python, we are going to use two world-class Python Data Science Libraries:\n",
    "\n",
    "1. <b>the University of California at Berkeley datascience Library</b>\n",
    "1. <b>the pandas Data Science Library</b>\n",
    "\n",
    "<b>pandas</b> stands for <b>\"Python Data Analysis\"</b> Library. In this Notebook, we will use only the <b>Berkeley datascience module</b>. <b>pandas</b> will be featured in an upcoming Notebook.\n",
    "\n",
    "Let' start with entering only two commands to load our data into Python with the <b>Berkeley datascience Library</b>:"
   ]
  },
  {
   "cell_type": "code",
   "execution_count": 148,
   "id": "e82a9a9c-9df4-46c9-a50e-827f6e42a168",
   "metadata": {},
   "outputs": [
    {
     "data": {
      "text/html": [
       "<table border=\"1\" class=\"dataframe\">\n",
       "    <thead>\n",
       "        <tr>\n",
       "            <th>Date</th> <th>Transaction</th> <th>Description</th> <th>Category</th>\n",
       "        </tr>\n",
       "    </thead>\n",
       "    <tbody>\n",
       "        <tr>\n",
       "            <td>05/31/2021</td> <td>-176.58    </td> <td>CACTUS CANTINA WASHINGTON DC          </td> <td>restaurant</td>\n",
       "        </tr>\n",
       "        <tr>\n",
       "            <td>05/31/2021</td> <td>-35.47     </td> <td>TST* CAFE PIZZAIOLO - FERALEXANDRIA VA</td> <td>restaurant</td>\n",
       "        </tr>\n",
       "        <tr>\n",
       "            <td>05/31/2021</td> <td>-6.17      </td> <td>CAPITOL GROUNDS COFFE  VA             </td> <td>coffee    </td>\n",
       "        </tr>\n",
       "        <tr>\n",
       "            <td>05/30/2021</td> <td>-8.23      </td> <td>DUNKIN  FAIRFAX VA                    </td> <td>coffee    </td>\n",
       "        </tr>\n",
       "        <tr>\n",
       "            <td>05/30/2021</td> <td>-3.18      </td> <td>DUNKIN  ALEXANDRIA VA                 </td> <td>coffee    </td>\n",
       "        </tr>\n",
       "        <tr>\n",
       "            <td>05/30/2021</td> <td>-40        </td> <td>SUNOCO  ALEXANDRIA VA                 </td> <td>auto      </td>\n",
       "        </tr>\n",
       "        <tr>\n",
       "            <td>05/30/2021</td> <td>-3.99      </td> <td>SUNOCO  ALEXANDRIA VA                 </td> <td>auto      </td>\n",
       "        </tr>\n",
       "        <tr>\n",
       "            <td>05/29/2021</td> <td>-8.23      </td> <td>DUNKIN  FAIRFAX VA                    </td> <td>coffee    </td>\n",
       "        </tr>\n",
       "        <tr>\n",
       "            <td>05/29/2021</td> <td>-5.29      </td> <td>SUNOCO  FAIRFAX VA                    </td> <td>auto      </td>\n",
       "        </tr>\n",
       "        <tr>\n",
       "            <td>05/28/2021</td> <td>-5.8       </td> <td>DUNKIN  FAIRFAX VA                    </td> <td>coffee    </td>\n",
       "        </tr>\n",
       "    </tbody>\n",
       "</table>\n",
       "<p>... (173 rows omitted)</p>"
      ],
      "text/plain": [
       "Date       | Transaction | Description                            | Category\n",
       "05/31/2021 | -176.58     | CACTUS CANTINA WASHINGTON DC           | restaurant\n",
       "05/31/2021 | -35.47      | TST* CAFE PIZZAIOLO - FERALEXANDRIA VA | restaurant\n",
       "05/31/2021 | -6.17       | CAPITOL GROUNDS COFFE  VA              | coffee\n",
       "05/30/2021 | -8.23       | DUNKIN  FAIRFAX VA                     | coffee\n",
       "05/30/2021 | -3.18       | DUNKIN  ALEXANDRIA VA                  | coffee\n",
       "05/30/2021 | -40         | SUNOCO  ALEXANDRIA VA                  | auto\n",
       "05/30/2021 | -3.99       | SUNOCO  ALEXANDRIA VA                  | auto\n",
       "05/29/2021 | -8.23       | DUNKIN  FAIRFAX VA                     | coffee\n",
       "05/29/2021 | -5.29       | SUNOCO  FAIRFAX VA                     | auto\n",
       "05/28/2021 | -5.8        | DUNKIN  FAIRFAX VA                     | coffee\n",
       "... (173 rows omitted)"
      ]
     },
     "execution_count": 148,
     "metadata": {},
     "output_type": "execute_result"
    }
   ],
   "source": [
    "from datascience import Table #Let's load the Berkeley datascience Python library for Tables\n",
    "table=Table.read_table('M1L5-sample-credit-card-transactions.csv') #Let's load our actual dataset.\n",
    "table #We are all done! Let's quickly review our imported data with the Berkeley datascience Python Library."
   ]
  },
  {
   "cell_type": "code",
   "execution_count": 138,
   "id": "ea44a5a2-1df6-44ed-a970-70161f61c48c",
   "metadata": {},
   "outputs": [
    {
     "data": {
      "text/html": [
       "<table border=\"1\" class=\"dataframe\">\n",
       "    <thead>\n",
       "        <tr>\n",
       "            <th>Date</th> <th>Transaction</th> <th>Description</th> <th>Category</th>\n",
       "        </tr>\n",
       "    </thead>\n",
       "    <tbody>\n",
       "        <tr>\n",
       "            <td>05/27/2021</td> <td>-5.8       </td> <td>DUNKIN  FAIRFAX VA                 </td> <td>coffee  </td>\n",
       "        </tr>\n",
       "        <tr>\n",
       "            <td>05/27/2021</td> <td>-31.34     </td> <td>POKEWORKS - ANNANDALE ANNANDALE VA </td> <td>fastfood</td>\n",
       "        </tr>\n",
       "        <tr>\n",
       "            <td>05/27/2021</td> <td>-36        </td> <td>SUNOCO  FAIRFAX VA                 </td> <td>auto    </td>\n",
       "        </tr>\n",
       "        <tr>\n",
       "            <td>05/25/2021</td> <td>-34.92     </td> <td>DOORDASH*CHIPOTLE WWW.DOORDASH.CA  </td> <td>fastfood</td>\n",
       "        </tr>\n",
       "        <tr>\n",
       "            <td>05/24/2021</td> <td>-8.23      </td> <td>DUNKIN  FAIRFAX VA                 </td> <td>coffee  </td>\n",
       "        </tr>\n",
       "        <tr>\n",
       "            <td>05/24/2021</td> <td>-9.32      </td> <td>DOMINO'S  FAIRFAX VA               </td> <td>fastfood</td>\n",
       "        </tr>\n",
       "        <tr>\n",
       "            <td>05/24/2021</td> <td>-32.06     </td> <td>SHELL OIL  MANASSAS VA             </td> <td>auto    </td>\n",
       "        </tr>\n",
       "        <tr>\n",
       "            <td>05/23/2021</td> <td>-8.23      </td> <td>DUNKIN  FAIRFAX VA                 </td> <td>coffee  </td>\n",
       "        </tr>\n",
       "        <tr>\n",
       "            <td>05/23/2021</td> <td>-12.06     </td> <td>TS CAFE VENTURES INC VA 1FAIRFAX VA</td> <td>fastfood</td>\n",
       "        </tr>\n",
       "        <tr>\n",
       "            <td>05/23/2021</td> <td>-4.19      </td> <td>SQ *GATHERING GROUNDS CAFFairfax VA</td> <td>coffee  </td>\n",
       "        </tr>\n",
       "    </tbody>\n",
       "</table>"
      ],
      "text/plain": [
       "Date       | Transaction | Description                         | Category\n",
       "05/27/2021 | -5.8        | DUNKIN  FAIRFAX VA                  | coffee\n",
       "05/27/2021 | -31.34      | POKEWORKS - ANNANDALE ANNANDALE VA  | fastfood\n",
       "05/27/2021 | -36         | SUNOCO  FAIRFAX VA                  | auto\n",
       "05/25/2021 | -34.92      | DOORDASH*CHIPOTLE WWW.DOORDASH.CA   | fastfood\n",
       "05/24/2021 | -8.23       | DUNKIN  FAIRFAX VA                  | coffee\n",
       "05/24/2021 | -9.32       | DOMINO'S  FAIRFAX VA                | fastfood\n",
       "05/24/2021 | -32.06      | SHELL OIL  MANASSAS VA              | auto\n",
       "05/23/2021 | -8.23       | DUNKIN  FAIRFAX VA                  | coffee\n",
       "05/23/2021 | -12.06      | TS CAFE VENTURES INC VA 1FAIRFAX VA | fastfood\n",
       "05/23/2021 | -4.19       | SQ *GATHERING GROUNDS CAFFairfax VA | coffee"
      ]
     },
     "execution_count": 138,
     "metadata": {},
     "output_type": "execute_result"
    }
   ],
   "source": [
    "table.take[10:20] #Using the Python square bracket data slicing techniques, from the previous video, let's extract specific rows of data.\n",
    "#table.take[-10:]  #Let's view the last 10 rows of data in our sample data set. \n",
    "#table.take[183] #This generates and error message. Why? We have 183 rows of data in our data set. Remember our index #'s start at 0!\n",
    "#table.take[182] # This is the last row of data in our data set. Max-Rows-1= 182"
   ]
  },
  {
   "cell_type": "code",
   "execution_count": 139,
   "id": "dda8254d-6d4d-44c6-b70a-4c93a418d86b",
   "metadata": {},
   "outputs": [
    {
     "data": {
      "text/html": [
       "<table border=\"1\" class=\"dataframe\">\n",
       "    <thead>\n",
       "        <tr>\n",
       "            <th>Category</th> <th>count</th>\n",
       "        </tr>\n",
       "    </thead>\n",
       "    <tbody>\n",
       "        <tr>\n",
       "            <td>restaurant</td> <td>20   </td>\n",
       "        </tr>\n",
       "        <tr>\n",
       "            <td>auto      </td> <td>35   </td>\n",
       "        </tr>\n",
       "        <tr>\n",
       "            <td>fastfood  </td> <td>40   </td>\n",
       "        </tr>\n",
       "        <tr>\n",
       "            <td>coffee    </td> <td>88   </td>\n",
       "        </tr>\n",
       "    </tbody>\n",
       "</table>"
      ],
      "text/plain": [
       "Category   | count\n",
       "restaurant | 20\n",
       "auto       | 35\n",
       "fastfood   | 40\n",
       "coffee     | 88"
      ]
     },
     "execution_count": 139,
     "metadata": {},
     "output_type": "execute_result"
    }
   ],
   "source": [
    "table #Notice the 4th column - the Category column. With this column we can group our transactions by category.\n",
    "table.group('Category') #Interesting! Wow, someone drinks alot of coffee!!! .... or tea!!!! \n",
    "table.group('Category').sort('count') #Let's sort our data."
   ]
  },
  {
   "cell_type": "code",
   "execution_count": 140,
   "id": "ff345e01-d66b-44b0-8abb-bcdb2f9ed29e",
   "metadata": {},
   "outputs": [
    {
     "data": {
      "image/png": "[encoded data removed]",
      "text/plain": [
       "<Figure size 432x288 with 1 Axes>"
      ]
     },
     "metadata": {
      "needs_background": "light"
     },
     "output_type": "display_data"
    }
   ],
   "source": [
    "#Let's now import matplotlib and visualize our data with a bar chart.\n",
    "import matplotlib.pyplot as plt #First, let's import Matplotlib.\n",
    "%matplotlib inline\n",
    "table.group('Category').sort('count').barh('Category') #Next let's add on the Berkeley datascience method \"barh\" to our statement.\n",
    "#Once you know the basics of Python, the Berkeley datascience module is simple to use.\n",
    "#Notice the chaining of Python method functions on the Python statement above: (1) group, (2) sort and (3) barh to draw the bar chart.\n",
    "#This is the power and simplicity of the Berkeley datacience module."
   ]
  },
  {
   "cell_type": "markdown",
   "id": "76f5174f-f0f5-4ea5-9c1d-3efa26665856",
   "metadata": {},
   "source": [
    "#### <b>Analyze a Sub-Category of Our Credit Card Expense: Auto Expenses Only</b> ####"
   ]
  },
  {
   "cell_type": "code",
   "execution_count": 146,
   "id": "b1e79c4c-8d96-4391-8290-2f9663bf67b9",
   "metadata": {},
   "outputs": [
    {
     "data": {
      "text/html": [
       "<table border=\"1\" class=\"dataframe\">\n",
       "    <thead>\n",
       "        <tr>\n",
       "            <th>Date</th> <th>Transaction</th> <th>Description</th> <th>Category</th>\n",
       "        </tr>\n",
       "    </thead>\n",
       "    <tbody>\n",
       "        <tr>\n",
       "            <td>05/30/2021</td> <td>-40        </td> <td>SUNOCO  ALEXANDRIA VA   </td> <td>auto    </td>\n",
       "        </tr>\n",
       "        <tr>\n",
       "            <td>05/30/2021</td> <td>-3.99      </td> <td>SUNOCO  ALEXANDRIA VA   </td> <td>auto    </td>\n",
       "        </tr>\n",
       "        <tr>\n",
       "            <td>05/29/2021</td> <td>-5.29      </td> <td>SUNOCO  FAIRFAX VA      </td> <td>auto    </td>\n",
       "        </tr>\n",
       "        <tr>\n",
       "            <td>05/27/2021</td> <td>-36        </td> <td>SUNOCO  FAIRFAX VA      </td> <td>auto    </td>\n",
       "        </tr>\n",
       "        <tr>\n",
       "            <td>05/24/2021</td> <td>-32.06     </td> <td>SHELL OIL  MANASSAS VA  </td> <td>auto    </td>\n",
       "        </tr>\n",
       "        <tr>\n",
       "            <td>05/22/2021</td> <td>-57.1      </td> <td>EXXONMOBIL  CHANTILLY VA</td> <td>auto    </td>\n",
       "        </tr>\n",
       "        <tr>\n",
       "            <td>05/19/2021</td> <td>-35.19     </td> <td>SHELL OIL  CHANTILLY VA </td> <td>auto    </td>\n",
       "        </tr>\n",
       "        <tr>\n",
       "            <td>05/18/2021</td> <td>-14.08     </td> <td>SUNOCO  FAIRFAX VA      </td> <td>auto    </td>\n",
       "        </tr>\n",
       "        <tr>\n",
       "            <td>05/15/2021</td> <td>-25.8      </td> <td>SHELL OIL  ALEXANDRIA VA</td> <td>auto    </td>\n",
       "        </tr>\n",
       "        <tr>\n",
       "            <td>05/11/2021</td> <td>-43.06     </td> <td>EXXONMOBIL  FAIRFAX VA  </td> <td>auto    </td>\n",
       "        </tr>\n",
       "    </tbody>\n",
       "</table>\n",
       "<p>... (25 rows omitted)</p>"
      ],
      "text/plain": [
       "Date       | Transaction | Description              | Category\n",
       "05/30/2021 | -40         | SUNOCO  ALEXANDRIA VA    | auto\n",
       "05/30/2021 | -3.99       | SUNOCO  ALEXANDRIA VA    | auto\n",
       "05/29/2021 | -5.29       | SUNOCO  FAIRFAX VA       | auto\n",
       "05/27/2021 | -36         | SUNOCO  FAIRFAX VA       | auto\n",
       "05/24/2021 | -32.06      | SHELL OIL  MANASSAS VA   | auto\n",
       "05/22/2021 | -57.1       | EXXONMOBIL  CHANTILLY VA | auto\n",
       "05/19/2021 | -35.19      | SHELL OIL  CHANTILLY VA  | auto\n",
       "05/18/2021 | -14.08      | SUNOCO  FAIRFAX VA       | auto\n",
       "05/15/2021 | -25.8       | SHELL OIL  ALEXANDRIA VA | auto\n",
       "05/11/2021 | -43.06      | EXXONMOBIL  FAIRFAX VA   | auto\n",
       "... (25 rows omitted)"
      ]
     },
     "execution_count": 146,
     "metadata": {},
     "output_type": "execute_result"
    }
   ],
   "source": [
    "auto_expenses=table.where('Category', 'auto') #Let's analyze only auto expenses.\n",
    "auto_expenses #Now, we have only auto expenses.\n",
    "#auto_expenses.take[-10:] #Let's look at the last 10 rows of our auto expenses using square bracket slicing.\n",
    "#auto_expenses.num_rows #Let's confirm the number of rows from our auto expenses table.\n",
    "#Notice the use of the Python Table method where to extract the auto data and then the square brackets to move around this specific table\n",
    "#This video is building on what we covered in Videos 3 and 4: functions, methods and square bracket slicing."
   ]
  },
  {
   "cell_type": "code",
   "execution_count": 118,
   "id": "0ff25de2-1ba2-42d0-bcc8-af9fadd21fdd",
   "metadata": {},
   "outputs": [
    {
     "data": {
      "image/png": "[encoded data removed]",
      "text/plain": [
       "<Figure size 432x432 with 1 Axes>"
      ]
     },
     "metadata": {
      "needs_background": "light"
     },
     "output_type": "display_data"
    }
   ],
   "source": [
    "#Now let's use the Berkeley datascience Table methods group and sort to gain further insights into our data.\n",
    "auto_expenses.group('Description').sort('count')\n",
    "auto_expenses.group('Description').sort('count', descending=True)\n",
    "auto_expenses.group('Description').sort('count', descending=True).take[:6]\n",
    "auto_expenses[1] #Notice this very interesting use of square brackets. We pulled out column 2, the transactions column, from out table.\n",
    "auto_expenses[1].sum() \n",
    "auto_expenses[1].mean()\n",
    "auto_expenses.select('Transaction').plot() #We see one outlier transaction over $70 dollars. Locate it with our Berkeley table methods."
   ]
  },
  {
   "cell_type": "code",
   "execution_count": 147,
   "id": "22ed6009-05eb-4c78-8394-f21e2e41c776",
   "metadata": {},
   "outputs": [
    {
     "data": {
      "text/html": [
       "<table border=\"1\" class=\"dataframe\">\n",
       "    <thead>\n",
       "        <tr>\n",
       "            <th>Date</th> <th>Transaction</th> <th>Description</th> <th>Category</th>\n",
       "        </tr>\n",
       "    </thead>\n",
       "    <tbody>\n",
       "        <tr>\n",
       "            <td>03/29/2021</td> <td>-79.93     </td> <td>Ravensworth Shell Springfield VA</td> <td>auto    </td>\n",
       "        </tr>\n",
       "        <tr>\n",
       "            <td>03/28/2021</td> <td>-15.22     </td> <td>EXXONMOBIL  SPRINGFIELD VA      </td> <td>auto    </td>\n",
       "        </tr>\n",
       "        <tr>\n",
       "            <td>03/28/2021</td> <td>-30.03     </td> <td>SUNOCO  SPRINGFIELD VA          </td> <td>auto    </td>\n",
       "        </tr>\n",
       "        <tr>\n",
       "            <td>03/27/2021</td> <td>-8.56      </td> <td>EXXONMOBIL  FAIRFAX VA          </td> <td>auto    </td>\n",
       "        </tr>\n",
       "        <tr>\n",
       "            <td>03/25/2021</td> <td>-40        </td> <td>SUNOCO  FAIRFAX VA              </td> <td>auto    </td>\n",
       "        </tr>\n",
       "        <tr>\n",
       "            <td>03/24/2021</td> <td>-25.8      </td> <td>EXXONMOBIL  BURKE VA            </td> <td>auto    </td>\n",
       "        </tr>\n",
       "        <tr>\n",
       "            <td>03/22/2021</td> <td>-3.26      </td> <td>SHELL OIL  SPRINGFIELD VA       </td> <td>auto    </td>\n",
       "        </tr>\n",
       "    </tbody>\n",
       "</table>"
      ],
      "text/plain": [
       "Date       | Transaction | Description                      | Category\n",
       "03/29/2021 | -79.93      | Ravensworth Shell Springfield VA | auto\n",
       "03/28/2021 | -15.22      | EXXONMOBIL  SPRINGFIELD VA       | auto\n",
       "03/28/2021 | -30.03      | SUNOCO  SPRINGFIELD VA           | auto\n",
       "03/27/2021 | -8.56       | EXXONMOBIL  FAIRFAX VA           | auto\n",
       "03/25/2021 | -40         | SUNOCO  FAIRFAX VA               | auto\n",
       "03/24/2021 | -25.8       | EXXONMOBIL  BURKE VA             | auto\n",
       "03/22/2021 | -3.26       | SHELL OIL  SPRINGFIELD VA        | auto"
      ]
     },
     "execution_count": 147,
     "metadata": {},
     "output_type": "execute_result"
    }
   ],
   "source": [
    "auto_expenses.where(auto_expenses[1]<-70) #Let's use the Berkeley \"where\" method. Notice the combination of parentheses and [ ].\n",
    "auto_expenses.take[-10:] #Let's locate the row of our outlier. The outlier is among the last 10 transactions in our dataset: take[-10] \n",
    "auto_expenses.take[-7:] #It is the fourth row down from -10.  So, -10,-9,-8,-7. It is row -7 from the end of the dataset.\n",
    "#auto_expenses.select('Transaction').exclude[-7].plot() #Let's exclude the outlier on row -7 and redraw the auto expense graph.\n",
    "#auto_expenses.select('Transaction').exclude[-7].mean() #Now let's look at the average or mean auto expense charge without the outlier.\n",
    "#auto_expenses.select('Transaction').mean() #Let's look at the average or mean auto expense with the outlier included again.\n",
    "#auto_expenses.num_rows #Count the number of rows in the data set. There are 35 rows. Therefore, 79.93/35 is about $2.28. Makes sense."
   ]
  },
  {
   "cell_type": "markdown",
   "id": "e26cdf4f-5245-464d-8a05-105aaf127423",
   "metadata": {},
   "source": [
    "### <b>Conclusion</b> ###\n",
    "\n",
    "Congratulations! After just five videos covering five basic Python and Data Science lessons inside of Jupyter Notebooks, we are able to analyze and visualize real-world data:  actual transactions from a credit card statement.\n",
    "\n",
    "In an upcoming video and Jupyter Notebook, you will analyze over 100,000 rows of real heartrate data from an AppleWatch using the exact same concepts and skills you learned in these last five lessons.\n",
    "\n",
    "The Data Science skills you are learning can be applied to so many areas: accounting, investing, healthcare, cyber-security, global warming, social justice, machine learning, artificial intelligence: the possibilities are endless in our Data Driven world. "
   ]
  },
  {
   "cell_type": "markdown",
   "id": "fc79a1bb-9e52-4fd3-8574-ab4b6d680e0c",
   "metadata": {},
   "source": [
    "#### <b>You Are Learning a New Data Science Language with Its Own Vocabulary, Grammar and Syntax</b> ####\n",
    "\n",
    "You are learning a new language: an Object Oriented Programming-based, Python-based, Data Science Analysis language. \n",
    "\n",
    "Just as with any language you may learn, you are learning a new vocabulary, grammar and syntax. \n",
    "\n",
    "<b>New vocabulary words include:</b> object, type, string, list, function, method.\n",
    "\n",
    "<b>New grammar includes:</b> placing a function before an object and placing a function after an object using a period to call a Python \"method\"\n",
    "\n",
    "<b>New syntax includes:</b> when to use parentheses and when to use square brackets.\n",
    "\n",
    "In our next lesson, we will strenghten our mastery of this new language by reviewing some of the most common Python error messages you will encounter. As mentioned in a previous video, when you work with any computer language, you must be precise in what you type in. <b><i>When you are 99% right, very likely you are 100% wrong!</i></b> Our next lesson will help us adjust our mindset to be as precise as possible as we master Python for Data Science through hands-on learning.  \n"
   ]
  }
 ],
 "metadata": {
  "kernelspec": {
   "display_name": "Python 3",
   "language": "python",
   "name": "python3"
  },
  "language_info": {
   "codemirror_mode": {
    "name": "ipython",
    "version": 3
   },
   "file_extension": ".py",
   "mimetype": "text/x-python",
   "name": "python",
   "nbconvert_exporter": "python",
   "pygments_lexer": "ipython3",
   "version": "3.6.9"
  }
 },
 "nbformat": 4,
 "nbformat_minor": 5
}
