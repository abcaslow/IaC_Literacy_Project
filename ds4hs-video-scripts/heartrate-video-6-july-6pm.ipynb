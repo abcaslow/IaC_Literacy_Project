{
 "cells": [
  {
   "cell_type": "markdown",
   "id": "bf9fe34e-7e90-4d7b-8480-eb3996a18014",
   "metadata": {},
   "source": [
    "### Video Demonstration: ###\n",
    "#### Analyzing Hearrates Using Data Science Tools ####"
   ]
  },
  {
   "cell_type": "markdown",
   "id": "95c16193-6190-4238-85fc-aa7385cbe177",
   "metadata": {},
   "source": [
    "Step One: Import the required Python Modules. We are importing three useful Data Science libraries:\n",
    "1. numpy for array based statistical analysis\n",
    "1. the University of Californina at Berkeley datasciene module for Table operations only\n",
    "1. the pandas Python library\n",
    "1. matplotlib for generating graphs quickly and with a minimum learning curve"
   ]
  },
  {
   "cell_type": "code",
   "execution_count": 45,
   "id": "d1156044-b666-4ea5-b497-2e75b2c4310c",
   "metadata": {},
   "outputs": [],
   "source": [
    "import numpy as np\n",
    "from datascience import Table\n",
    "import pandas as pd\n",
    "import matplotlib.pyplot as plt\n",
    "%matplotlib inline"
   ]
  },
  {
   "cell_type": "markdown",
   "id": "e5917c38-0112-463e-8a53-012851793b25",
   "metadata": {},
   "source": [
    "Step Two: Import our two AppleWatch heartrate data sets the Cal Berkeley datascience Table Python class. Make sure your file path is correct."
   ]
  },
  {
   "cell_type": "code",
   "execution_count": 46,
   "id": "eab48d2a-c852-44d5-8014-db6486e8d6dd",
   "metadata": {},
   "outputs": [],
   "source": [
    "heartrate_male_60 = Table.read_table('heartrate-male60.csv')\n",
    "heartrate_female_54 = Table.read_table('heartrate-female54.csv')"
   ]
  },
  {
   "cell_type": "markdown",
   "id": "cc07496e-8838-48f8-bbe0-40e2f20e9810",
   "metadata": {},
   "source": [
    "Step Three: Let's perform some basic exploratory data analysis on these two data sets."
   ]
  },
  {
   "cell_type": "code",
   "execution_count": 35,
   "id": "6e1637d4-7537-4fd7-93cc-0bca711d61ce",
   "metadata": {},
   "outputs": [
    {
     "data": {
      "text/html": [
       "<table border=\"1\" class=\"dataframe\">\n",
       "    <thead>\n",
       "        <tr>\n",
       "            <th>timestamp</th> <th>heartrate</th>\n",
       "        </tr>\n",
       "    </thead>\n",
       "    <tbody>\n",
       "        <tr>\n",
       "            <td>2020-10-01 20:42:22 -0400</td> <td>99       </td>\n",
       "        </tr>\n",
       "        <tr>\n",
       "            <td>2020-10-01 20:47:46 -0400</td> <td>67       </td>\n",
       "        </tr>\n",
       "        <tr>\n",
       "            <td>2020-10-01 20:50:14 -0400</td> <td>107      </td>\n",
       "        </tr>\n",
       "        <tr>\n",
       "            <td>2020-10-01 20:50:19 -0400</td> <td>107      </td>\n",
       "        </tr>\n",
       "        <tr>\n",
       "            <td>2020-10-01 20:57:39 -0400</td> <td>63       </td>\n",
       "        </tr>\n",
       "        <tr>\n",
       "            <td>2020-10-01 21:02:07 -0400</td> <td>57       </td>\n",
       "        </tr>\n",
       "        <tr>\n",
       "            <td>2020-10-01 21:05:08 -0400</td> <td>67       </td>\n",
       "        </tr>\n",
       "        <tr>\n",
       "            <td>2020-10-01 21:11:29 -0400</td> <td>77       </td>\n",
       "        </tr>\n",
       "        <tr>\n",
       "            <td>2020-10-01 21:16:27 -0400</td> <td>70       </td>\n",
       "        </tr>\n",
       "        <tr>\n",
       "            <td>2020-10-01 21:20:14 -0400</td> <td>74       </td>\n",
       "        </tr>\n",
       "    </tbody>\n",
       "</table>\n",
       "<p>... (32273 rows omitted)</p>"
      ],
      "text/plain": [
       "timestamp                 | heartrate\n",
       "2020-10-01 20:42:22 -0400 | 99\n",
       "2020-10-01 20:47:46 -0400 | 67\n",
       "2020-10-01 20:50:14 -0400 | 107\n",
       "2020-10-01 20:50:19 -0400 | 107\n",
       "2020-10-01 20:57:39 -0400 | 63\n",
       "2020-10-01 21:02:07 -0400 | 57\n",
       "2020-10-01 21:05:08 -0400 | 67\n",
       "2020-10-01 21:11:29 -0400 | 77\n",
       "2020-10-01 21:16:27 -0400 | 70\n",
       "2020-10-01 21:20:14 -0400 | 74\n",
       "... (32273 rows omitted)"
      ]
     },
     "execution_count": 35,
     "metadata": {},
     "output_type": "execute_result"
    }
   ],
   "source": [
    "heartrate_male_60"
   ]
  },
  {
   "cell_type": "markdown",
   "id": "673e0482-303a-4edf-bc10-e07820c9cb64",
   "metadata": {},
   "source": [
    "Notice that this AppleWatch generated table is a simple two column table including a timestamp and a hearrate. However, the dataset includes 32,000+ rows. Notice that the starting time stamp is Oct 1st, 2020. Let's see what the last timestamps are using the same square bracket notation we would use to view the last rows of a standard Python list."
   ]
  },
  {
   "cell_type": "code",
   "execution_count": 36,
   "id": "530f7581-0e80-4c5a-90fe-e0ba6fa7ca04",
   "metadata": {},
   "outputs": [
    {
     "data": {
      "text/html": [
       "<table border=\"1\" class=\"dataframe\">\n",
       "    <thead>\n",
       "        <tr>\n",
       "            <th>timestamp</th> <th>heartrate</th>\n",
       "        </tr>\n",
       "    </thead>\n",
       "    <tbody>\n",
       "        <tr>\n",
       "            <td>2021-06-22 13:47:02 -0400</td> <td>64       </td>\n",
       "        </tr>\n",
       "        <tr>\n",
       "            <td>2021-06-22 13:54:49 -0400</td> <td>62       </td>\n",
       "        </tr>\n",
       "        <tr>\n",
       "            <td>2021-06-22 14:01:05 -0400</td> <td>58       </td>\n",
       "        </tr>\n",
       "        <tr>\n",
       "            <td>2021-06-22 13:56:42 -0400</td> <td>72       </td>\n",
       "        </tr>\n",
       "        <tr>\n",
       "            <td>2021-06-22 14:06:19 -0400</td> <td>78       </td>\n",
       "        </tr>\n",
       "        <tr>\n",
       "            <td>2021-06-22 14:01:35 -0400</td> <td>72       </td>\n",
       "        </tr>\n",
       "        <tr>\n",
       "            <td>2021-06-22 14:07:26 -0400</td> <td>60       </td>\n",
       "        </tr>\n",
       "        <tr>\n",
       "            <td>2021-06-22 14:12:03 -0400</td> <td>77       </td>\n",
       "        </tr>\n",
       "        <tr>\n",
       "            <td>2021-06-22 14:19:09 -0400</td> <td>69       </td>\n",
       "        </tr>\n",
       "        <tr>\n",
       "            <td>2021-06-22 14:23:54 -0400</td> <td>56       </td>\n",
       "        </tr>\n",
       "    </tbody>\n",
       "</table>"
      ],
      "text/plain": [
       "timestamp                 | heartrate\n",
       "2021-06-22 13:47:02 -0400 | 64\n",
       "2021-06-22 13:54:49 -0400 | 62\n",
       "2021-06-22 14:01:05 -0400 | 58\n",
       "2021-06-22 13:56:42 -0400 | 72\n",
       "2021-06-22 14:06:19 -0400 | 78\n",
       "2021-06-22 14:01:35 -0400 | 72\n",
       "2021-06-22 14:07:26 -0400 | 60\n",
       "2021-06-22 14:12:03 -0400 | 77\n",
       "2021-06-22 14:19:09 -0400 | 69\n",
       "2021-06-22 14:23:54 -0400 | 56"
      ]
     },
     "execution_count": 36,
     "metadata": {},
     "output_type": "execute_result"
    }
   ],
   "source": [
    "heartrate_male_60.take[-10:]"
   ]
  },
  {
   "cell_type": "markdown",
   "id": "4464e2ca-d310-4790-929f-3f3f2a5bec6e",
   "metadata": {},
   "source": [
    "Notice the last timestamp is June 22nd 2021. Now, let's do the same with the heartrate_female_54 data set."
   ]
  },
  {
   "cell_type": "code",
   "execution_count": 114,
   "id": "8f70039f-162b-468a-86e3-9f89811e9c38",
   "metadata": {},
   "outputs": [
    {
     "data": {
      "image/png": "[encoded data removed]",
      "text/plain": [
       "<Figure size 432x432 with 1 Axes>"
      ]
     },
     "metadata": {
      "needs_background": "light"
     },
     "output_type": "display_data"
    }
   ],
   "source": [
    "## heartrate_female_54\n",
    "import re\n",
    "hr2hrs=heartrate_male_60.where(\n",
    "  'timestamp', lambda x: re.match(r'2021-01-[0-3][1-9] [0-2][0-9]:[0-5][0-9]:[0-5][0-9].*-0400', x))\n",
    "#hr2hrs\n",
    "hr2hrs.column(1).mean()\n",
    "hr2hrs.select('heartrate').take[:272].plot()\n",
    "plt.grid()"
   ]
  },
  {
   "cell_type": "code",
   "execution_count": 120,
   "id": "ae84bc6f-2f6e-4cc4-9bb9-ff9dfae4ccee",
   "metadata": {},
   "outputs": [
    {
     "data": {
      "text/html": [
       "<table border=\"1\" class=\"dataframe\">\n",
       "    <thead>\n",
       "        <tr>\n",
       "            <th>statistic</th> <th>heartrate</th>\n",
       "        </tr>\n",
       "    </thead>\n",
       "    <tbody>\n",
       "        <tr>\n",
       "            <td>mean     </td> <td>75.2666  </td>\n",
       "        </tr>\n",
       "        <tr>\n",
       "            <td>median   </td> <td>75       </td>\n",
       "        </tr>\n",
       "        <tr>\n",
       "            <td>std      </td> <td>8.86525  </td>\n",
       "        </tr>\n",
       "        <tr>\n",
       "            <td>amax     </td> <td>117      </td>\n",
       "        </tr>\n",
       "        <tr>\n",
       "            <td>amin     </td> <td>46       </td>\n",
       "        </tr>\n",
       "    </tbody>\n",
       "</table>"
      ],
      "text/plain": [
       "statistic | heartrate\n",
       "mean      | 75.2666\n",
       "median    | 75\n",
       "std       | 8.86525\n",
       "amax      | 117\n",
       "amin      | 46"
      ]
     },
     "execution_count": 120,
     "metadata": {},
     "output_type": "execute_result"
    }
   ],
   "source": [
    "#hr2hrs.take[262:274]\n",
    "hr2hrs.select('heartrate').stats(ops=(np.mean, np.median, np.std, np.max, np.min))\n"
   ]
  },
  {
   "cell_type": "markdown",
   "id": "676b91a7-16d2-4757-b4b9-1d58c21212c5",
   "metadata": {},
   "source": [
    "This dataset has the identical structure as the heartrate_male_60 data set; however, this data set has over 100,000 rows of data. Also, notice that the first row has a timestamp of June 8th, 2019. Let's check the timestamp of the last last row of this data set."
   ]
  },
  {
   "cell_type": "code",
   "execution_count": 38,
   "id": "9cff8246-aac2-4034-9df0-c31131ac3442",
   "metadata": {},
   "outputs": [
    {
     "data": {
      "text/html": [
       "<table border=\"1\" class=\"dataframe\">\n",
       "    <thead>\n",
       "        <tr>\n",
       "            <th>timestamp</th> <th>heartrate</th>\n",
       "        </tr>\n",
       "    </thead>\n",
       "    <tbody>\n",
       "        <tr>\n",
       "            <td>2021-06-18 09:25:40 -0400</td> <td>59       </td>\n",
       "        </tr>\n",
       "        <tr>\n",
       "            <td>2021-06-18 09:30:56 -0400</td> <td>62       </td>\n",
       "        </tr>\n",
       "        <tr>\n",
       "            <td>2021-06-18 09:32:07 -0400</td> <td>62       </td>\n",
       "        </tr>\n",
       "        <tr>\n",
       "            <td>2021-06-18 09:38:03 -0400</td> <td>69       </td>\n",
       "        </tr>\n",
       "        <tr>\n",
       "            <td>2021-06-18 09:45:58 -0400</td> <td>61       </td>\n",
       "        </tr>\n",
       "    </tbody>\n",
       "</table>"
      ],
      "text/plain": [
       "timestamp                 | heartrate\n",
       "2021-06-18 09:25:40 -0400 | 59\n",
       "2021-06-18 09:30:56 -0400 | 62\n",
       "2021-06-18 09:32:07 -0400 | 62\n",
       "2021-06-18 09:38:03 -0400 | 69\n",
       "2021-06-18 09:45:58 -0400 | 61"
      ]
     },
     "execution_count": 38,
     "metadata": {},
     "output_type": "execute_result"
    }
   ],
   "source": [
    "heartrate_female_54.take[-5:]"
   ]
  },
  {
   "cell_type": "markdown",
   "id": "c7c797f2-2de2-4b9b-809c-34afb0225b76",
   "metadata": {},
   "source": [
    "The last row is timestamped at June 18th, 2021. Therefore, the heartrate_female_54 data set contains over tow years of data."
   ]
  },
  {
   "cell_type": "markdown",
   "id": "4a148e83-a348-4239-a4a5-5551f2f4c8aa",
   "metadata": {},
   "source": [
    "Now let's generate a quick summary of the standard statistics of each data set using the pandas describe Python method. First, let's load the data into pandas dataframes."
   ]
  },
  {
   "cell_type": "code",
   "execution_count": 40,
   "id": "60e0da8f-58ce-4fe8-a438-48b99c4153e4",
   "metadata": {},
   "outputs": [],
   "source": [
    "heartrate_male_60_4pandas = pd.read_csv('heartrate-male60.csv')\n",
    "heartrate_female_54_4pandas = pd.read_csv('heartrate-female54.csv')"
   ]
  },
  {
   "cell_type": "markdown",
   "id": "1c095e13-b482-45b5-8333-a0d3546294d0",
   "metadata": {},
   "source": [
    "Now, let's generate a summary table of each data set's statistics with the pandas describe() Python method."
   ]
  },
  {
   "cell_type": "code",
   "execution_count": 44,
   "id": "1b031568-c43e-447f-bbe4-e56241b7ca89",
   "metadata": {},
   "outputs": [
    {
     "data": {
      "text/html": [
       "<div>\n",
       "<style scoped>\n",
       "    .dataframe tbody tr th:only-of-type {\n",
       "        vertical-align: middle;\n",
       "    }\n",
       "\n",
       "    .dataframe tbody tr th {\n",
       "        vertical-align: top;\n",
       "    }\n",
       "\n",
       "    .dataframe thead th {\n",
       "        text-align: right;\n",
       "    }\n",
       "</style>\n",
       "<table border=\"1\" class=\"dataframe\">\n",
       "  <thead>\n",
       "    <tr style=\"text-align: right;\">\n",
       "      <th></th>\n",
       "      <th>heartrate</th>\n",
       "    </tr>\n",
       "  </thead>\n",
       "  <tbody>\n",
       "    <tr>\n",
       "      <th>count</th>\n",
       "      <td>32283.000000</td>\n",
       "    </tr>\n",
       "    <tr>\n",
       "      <th>mean</th>\n",
       "      <td>86.067910</td>\n",
       "    </tr>\n",
       "    <tr>\n",
       "      <th>std</th>\n",
       "      <td>26.005963</td>\n",
       "    </tr>\n",
       "    <tr>\n",
       "      <th>min</th>\n",
       "      <td>40.000000</td>\n",
       "    </tr>\n",
       "    <tr>\n",
       "      <th>25%</th>\n",
       "      <td>66.000000</td>\n",
       "    </tr>\n",
       "    <tr>\n",
       "      <th>50%</th>\n",
       "      <td>79.000000</td>\n",
       "    </tr>\n",
       "    <tr>\n",
       "      <th>75%</th>\n",
       "      <td>98.000000</td>\n",
       "    </tr>\n",
       "    <tr>\n",
       "      <th>max</th>\n",
       "      <td>202.000000</td>\n",
       "    </tr>\n",
       "  </tbody>\n",
       "</table>\n",
       "</div>"
      ],
      "text/plain": [
       "          heartrate\n",
       "count  32283.000000\n",
       "mean      86.067910\n",
       "std       26.005963\n",
       "min       40.000000\n",
       "25%       66.000000\n",
       "50%       79.000000\n",
       "75%       98.000000\n",
       "max      202.000000"
      ]
     },
     "execution_count": 44,
     "metadata": {},
     "output_type": "execute_result"
    }
   ],
   "source": [
    "heartrate_male_60_4pandas.describe()"
   ]
  },
  {
   "cell_type": "markdown",
   "id": "f91b4ac0-619b-45bc-b12e-26ae12a75f33",
   "metadata": {},
   "source": [
    "Notice the minimum, maximum, mean and median or 50% heart rate of our 60 year old male. Also, make note of the large standard deviation. The spread out heart rates could be the result of frequently increase the heart rate during daily exercise. "
   ]
  },
  {
   "cell_type": "code",
   "execution_count": 43,
   "id": "e0ceaaba-fea4-475a-9a10-ba33604da9c2",
   "metadata": {},
   "outputs": [
    {
     "data": {
      "text/html": [
       "<div>\n",
       "<style scoped>\n",
       "    .dataframe tbody tr th:only-of-type {\n",
       "        vertical-align: middle;\n",
       "    }\n",
       "\n",
       "    .dataframe tbody tr th {\n",
       "        vertical-align: top;\n",
       "    }\n",
       "\n",
       "    .dataframe thead th {\n",
       "        text-align: right;\n",
       "    }\n",
       "</style>\n",
       "<table border=\"1\" class=\"dataframe\">\n",
       "  <thead>\n",
       "    <tr style=\"text-align: right;\">\n",
       "      <th></th>\n",
       "      <th>heartrate</th>\n",
       "    </tr>\n",
       "  </thead>\n",
       "  <tbody>\n",
       "    <tr>\n",
       "      <th>count</th>\n",
       "      <td>108344.000000</td>\n",
       "    </tr>\n",
       "    <tr>\n",
       "      <th>mean</th>\n",
       "      <td>73.880912</td>\n",
       "    </tr>\n",
       "    <tr>\n",
       "      <th>std</th>\n",
       "      <td>14.653400</td>\n",
       "    </tr>\n",
       "    <tr>\n",
       "      <th>min</th>\n",
       "      <td>40.000000</td>\n",
       "    </tr>\n",
       "    <tr>\n",
       "      <th>25%</th>\n",
       "      <td>65.000000</td>\n",
       "    </tr>\n",
       "    <tr>\n",
       "      <th>50%</th>\n",
       "      <td>71.000000</td>\n",
       "    </tr>\n",
       "    <tr>\n",
       "      <th>75%</th>\n",
       "      <td>79.000000</td>\n",
       "    </tr>\n",
       "    <tr>\n",
       "      <th>max</th>\n",
       "      <td>210.000000</td>\n",
       "    </tr>\n",
       "  </tbody>\n",
       "</table>\n",
       "</div>"
      ],
      "text/plain": [
       "           heartrate\n",
       "count  108344.000000\n",
       "mean       73.880912\n",
       "std        14.653400\n",
       "min        40.000000\n",
       "25%        65.000000\n",
       "50%        71.000000\n",
       "75%        79.000000\n",
       "max       210.000000"
      ]
     },
     "execution_count": 43,
     "metadata": {},
     "output_type": "execute_result"
    }
   ],
   "source": [
    "heartrate_female_54_4pandas.describe()"
   ]
  },
  {
   "cell_type": "markdown",
   "id": "a79e5387-a5e9-47a4-b34d-6f2d6332fdd7",
   "metadata": {},
   "source": [
    "Now, let's review the minimum, maximum, mean and median or 50% heart rate of our 54 year old female. Both our male and female data sets have very similar minimum and maxium heart rates. While their mean heart rates are about 14 points apart, their median is only 6 points apart and their 25th percentile heart rate is only 1 point apart."
   ]
  },
  {
   "cell_type": "markdown",
   "id": "e1a919c0-364e-4130-9ac4-ff2746e97135",
   "metadata": {},
   "source": [
    "Let's visualize these two data sets with the simple single line commands from the Berkeley data science library using matplotlib. First, let's graph our female dataset."
   ]
  },
  {
   "cell_type": "code",
   "execution_count": 64,
   "id": "72e459bd-be97-45f3-a8b7-421958b8e47d",
   "metadata": {},
   "outputs": [
    {
     "data": {
      "image/png": "[encoded data removed]",
      "text/plain": [
       "<Figure size 432x432 with 1 Axes>"
      ]
     },
     "metadata": {
      "needs_background": "light"
     },
     "output_type": "display_data"
    }
   ],
   "source": [
    "heartrate_female_54.select('heartrate').plot()\n",
    "hrmean=heartrate_female_54[1].mean()\n",
    "hr25=np.percentile(heartrate_female_54[1],25)\n",
    "hr75=np.percentile(heartrate_female_54[1],75)\n",
    "import matplotlib.pyplot as plt\n",
    "plt.axhline(y=hrmean, color='r', linestyle='-')\n",
    "plt.axhline(y=hr25, color='r', linestyle='-')\n",
    "plt.axhline(y=hr75, color='r', linestyle='-')\n",
    "plt.grid()\n",
    "plt.show()"
   ]
  },
  {
   "cell_type": "markdown",
   "id": "206040ad-acee-41b9-b131-c23cd1b393e3",
   "metadata": {},
   "source": [
    "We see that the female data set is very solid between 50 and 100 heart beat samples. Make note that the graph is so solid because it is graphing over 100,000 samples. Let's compare this to a graph of our male data set. "
   ]
  },
  {
   "cell_type": "code",
   "execution_count": 63,
   "id": "e9daad83-cabe-463f-b65f-165043fcb459",
   "metadata": {},
   "outputs": [
    {
     "data": {
      "image/png": "[encoded data removed]",
      "text/plain": [
       "<Figure size 432x432 with 1 Axes>"
      ]
     },
     "metadata": {
      "needs_background": "light"
     },
     "output_type": "display_data"
    }
   ],
   "source": [
    "heartrate_male_60.select('heartrate').plot()\n",
    "hrmean=heartrate_male_60[1].mean()\n",
    "hr25=np.percentile(heartrate_male_60[1],25)\n",
    "hr75=np.percentile(heartrate_male_60[1],75)\n",
    "import matplotlib.pyplot as plt\n",
    "plt.axhline(y=hrmean, color='r', linestyle='-')\n",
    "plt.axhline(y=hr25, color='r', linestyle='-')\n",
    "plt.axhline(y=hr75, color='r', linestyle='-')\n",
    "plt.grid()\n",
    "plt.show()"
   ]
  },
  {
   "cell_type": "markdown",
   "id": "ae3132dc-b6c8-4758-9da2-6a810f8d94ba",
   "metadata": {},
   "source": [
    "Notice that high incidence of spikes in the male's graph. This is due to his daily exercise session where his heart rate goes above 120. Now, let's generate a histogram to see how the frequency of heartrates from each data set is placed in bins."
   ]
  },
  {
   "cell_type": "code",
   "execution_count": 49,
   "id": "497550f0-051a-49bc-a385-04316e793c51",
   "metadata": {},
   "outputs": [
    {
     "data": {
      "image/png": "[encoded data removed]",
      "text/plain": [
       "<Figure size 432x288 with 1 Axes>"
      ]
     },
     "metadata": {
      "needs_background": "light"
     },
     "output_type": "display_data"
    }
   ],
   "source": [
    "heartrate_male_60.select('heartrate').hist()"
   ]
  },
  {
   "cell_type": "code",
   "execution_count": 50,
   "id": "7850190f-fc8a-419f-b408-9ab07c3c4784",
   "metadata": {},
   "outputs": [
    {
     "data": {
      "image/png": "[encoded data removed]",
      "text/plain": [
       "<Figure size 432x288 with 1 Axes>"
      ]
     },
     "metadata": {
      "needs_background": "light"
     },
     "output_type": "display_data"
    }
   ],
   "source": [
    "heartrate_female_54.select('heartrate').hist()"
   ]
  },
  {
   "cell_type": "markdown",
   "id": "e3d43006-8039-4897-bf9c-6b2aa597a9c7",
   "metadata": {},
   "source": [
    "From the two historgrams, you can see the effects of the male exercising with larger bins of heart rates in the 100-140 range. The femaildata set has much smaller bins in this range."
   ]
  },
  {
   "cell_type": "markdown",
   "id": "d8be5bfe-0f6d-40a4-a8da-b990bfd42de9",
   "metadata": {},
   "source": [
    "This concludes this Jupyter Notebook analyzing two sets of heart rates collected from AppleWatches."
   ]
  },
  {
   "cell_type": "code",
   "execution_count": 121,
   "id": "04c96844-729a-490a-a8c9-da50da2ea5e3",
   "metadata": {},
   "outputs": [
    {
     "data": {
      "text/plain": [
       "['Row',\n",
       " 'Rows',\n",
       " '_MutableMapping__marker',\n",
       " '__abstractmethods__',\n",
       " '__class__',\n",
       " '__contains__',\n",
       " '__delattr__',\n",
       " '__delitem__',\n",
       " '__dict__',\n",
       " '__dir__',\n",
       " '__doc__',\n",
       " '__eq__',\n",
       " '__format__',\n",
       " '__ge__',\n",
       " '__getattr__',\n",
       " '__getattribute__',\n",
       " '__getitem__',\n",
       " '__gt__',\n",
       " '__hash__',\n",
       " '__init__',\n",
       " '__init_subclass__',\n",
       " '__iter__',\n",
       " '__le__',\n",
       " '__len__',\n",
       " '__lt__',\n",
       " '__module__',\n",
       " '__ne__',\n",
       " '__new__',\n",
       " '__reduce__',\n",
       " '__reduce_ex__',\n",
       " '__repr__',\n",
       " '__reversed__',\n",
       " '__setattr__',\n",
       " '__setitem__',\n",
       " '__sizeof__',\n",
       " '__slots__',\n",
       " '__str__',\n",
       " '__subclasshook__',\n",
       " '__weakref__',\n",
       " '_abc_cache',\n",
       " '_abc_negative_cache',\n",
       " '_abc_negative_cache_version',\n",
       " '_abc_registry',\n",
       " '_add_column_and_format',\n",
       " '_as_label',\n",
       " '_as_labels',\n",
       " '_get_column',\n",
       " '_get_column_formatters',\n",
       " '_import_plotly',\n",
       " '_join',\n",
       " '_join_helper',\n",
       " '_multi_index',\n",
       " '_multiple_join',\n",
       " '_repr_html_',\n",
       " '_split_column_and_labels',\n",
       " '_unused_label',\n",
       " '_unused_label_in_either_table',\n",
       " '_use_html_if_available',\n",
       " '_varargs_as_labels',\n",
       " '_visualize',\n",
       " '_with_columns',\n",
       " 'append',\n",
       " 'append_column',\n",
       " 'apply',\n",
       " 'as_html',\n",
       " 'as_text',\n",
       " 'bar',\n",
       " 'barh',\n",
       " 'bin',\n",
       " 'boxplot',\n",
       " 'chart_colors',\n",
       " 'clear',\n",
       " 'column',\n",
       " 'column_index',\n",
       " 'column_labels',\n",
       " 'columns',\n",
       " 'copy',\n",
       " 'default_alpha',\n",
       " 'default_height',\n",
       " 'default_options',\n",
       " 'default_width',\n",
       " 'drop',\n",
       " 'empty',\n",
       " 'exclude',\n",
       " 'first',\n",
       " 'from_array',\n",
       " 'from_columns_dict',\n",
       " 'from_df',\n",
       " 'from_records',\n",
       " 'from_rows',\n",
       " 'get',\n",
       " 'group',\n",
       " 'group_bar',\n",
       " 'group_barh',\n",
       " 'groups',\n",
       " 'hist',\n",
       " 'hist_of_counts',\n",
       " 'ibarh',\n",
       " 'ihist',\n",
       " 'index_by',\n",
       " 'interactive_plots',\n",
       " 'iplot',\n",
       " 'iscatter',\n",
       " 'iscatter3d',\n",
       " 'items',\n",
       " 'join',\n",
       " 'keys',\n",
       " 'labels',\n",
       " 'last',\n",
       " 'max_str_rows',\n",
       " 'move_column',\n",
       " 'move_to_end',\n",
       " 'move_to_start',\n",
       " 'num_columns',\n",
       " 'num_rows',\n",
       " 'percentile',\n",
       " 'pivot',\n",
       " 'pivot_bin',\n",
       " 'pivot_hist',\n",
       " 'plot',\n",
       " 'plotly_chart_colors',\n",
       " 'plots',\n",
       " 'pop',\n",
       " 'popitem',\n",
       " 'read_table',\n",
       " 'relabel',\n",
       " 'relabeled',\n",
       " 'remove',\n",
       " 'row',\n",
       " 'rows',\n",
       " 'sample',\n",
       " 'sample_from_distribution',\n",
       " 'scatter',\n",
       " 'scatter3d',\n",
       " 'select',\n",
       " 'set_format',\n",
       " 'setdefault',\n",
       " 'show',\n",
       " 'shuffle',\n",
       " 'sort',\n",
       " 'split',\n",
       " 'stack',\n",
       " 'static_plots',\n",
       " 'stats',\n",
       " 'take',\n",
       " 'to_array',\n",
       " 'to_csv',\n",
       " 'to_df',\n",
       " 'update',\n",
       " 'values',\n",
       " 'where',\n",
       " 'with_column',\n",
       " 'with_columns',\n",
       " 'with_relabeling',\n",
       " 'with_row',\n",
       " 'with_rows']"
      ]
     },
     "execution_count": 121,
     "metadata": {},
     "output_type": "execute_result"
    }
   ],
   "source": [
    "dir(Table)"
   ]
  },
  {
   "cell_type": "code",
   "execution_count": null,
   "id": "4b4ff057-f058-44b7-ab7a-e27e39855a88",
   "metadata": {},
   "outputs": [],
   "source": []
  }
 ],
 "metadata": {
  "kernelspec": {
   "display_name": "Python 3",
   "language": "python",
   "name": "python3"
  },
  "language_info": {
   "codemirror_mode": {
    "name": "ipython",
    "version": 3
   },
   "file_extension": ".py",
   "mimetype": "text/x-python",
   "name": "python",
   "nbconvert_exporter": "python",
   "pygments_lexer": "ipython3",
   "version": "3.6.9"
  }
 },
 "nbformat": 4,
 "nbformat_minor": 5
}
