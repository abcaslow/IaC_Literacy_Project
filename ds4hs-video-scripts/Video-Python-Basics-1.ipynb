{
 "cells": [
  {
   "cell_type": "markdown",
   "id": "513bbe74-27f2-4625-a663-8175d60c1c74",
   "metadata": {},
   "source": [
    "### Python Basics for Data Science ###"
   ]
  },
  {
   "cell_type": "markdown",
   "id": "50e77a58-9aa1-4ca1-bf65-c4f749e88623",
   "metadata": {},
   "source": [
    "Python is an Object Oriented Programming language like Java and C++. Studying the details of object oriented programming is the subject of computer science and beyond our DS4HS program. Our goal is to learn to use Python as a tool in Data Science. To do this effectively, it is recommended to learn some Object Oriented Programming terminology as it relates to Python. Here are some key Python terms to know."
   ]
  },
  {
   "cell_type": "markdown",
   "id": "99c0723f-492c-48fe-9832-7851dc9190aa",
   "metadata": {},
   "source": [
    "<b>Everything in Python is an object and every object has attributes</b>.\n",
    "Three key attributes of Python objects are:\n",
    "1. Object Name: every Python object is assigned a name\n",
    "1. Object Type: every Python object is assigned a Type. Common Python types are string, integer and float. Think of Python Types as the equivalent of elements in the Periodic Table of Elements for the Python Programming Language.\n",
    "1. Object Attributes, specifically Object Methods: Python methods are specific functions related to a given object using the Python dot notation.\n",
    "\n",
    "Let's make this theory come alive in using our iPython interface inside of this Jupyter Notebook:\n"
   ]
  },
  {
   "cell_type": "code",
   "execution_count": 75,
   "id": "6438c370-a60c-4a3e-a35e-aea2de24d70a",
   "metadata": {},
   "outputs": [
    {
     "ename": "NameError",
     "evalue": "name 'dog' is not defined",
     "output_type": "error",
     "traceback": [
      "\u001b[0;31m---------------------------------------------------------------------------\u001b[0m",
      "\u001b[0;31mNameError\u001b[0m                                 Traceback (most recent call last)",
      "\u001b[0;32m<ipython-input-75-64eb1069272a>\u001b[0m in \u001b[0;36m<module>\u001b[0;34m\u001b[0m\n\u001b[0;32m----> 1\u001b[0;31m \u001b[0mdog\u001b[0m  \u001b[0;31m#Let's start with generating a Python error message.\u001b[0m\u001b[0;34m\u001b[0m\u001b[0;34m\u001b[0m\u001b[0m\n\u001b[0m\u001b[1;32m      2\u001b[0m \u001b[0;31m#The error message states that the Python Object 'name' dog is not defined.\u001b[0m\u001b[0;34m\u001b[0m\u001b[0;34m\u001b[0m\u001b[0;34m\u001b[0m\u001b[0m\n",
      "\u001b[0;31mNameError\u001b[0m: name 'dog' is not defined"
     ]
    }
   ],
   "source": [
    "dog  #Let's start with generating a Python error message.\n",
    "#The error message states that the Python Object 'name' dog is not defined."
   ]
  },
  {
   "cell_type": "code",
   "execution_count": 73,
   "id": "0343e3de-a3e7-4edb-a4f1-908d41e136ec",
   "metadata": {},
   "outputs": [
    {
     "data": {
      "text/plain": [
       "'dog'"
      ]
     },
     "execution_count": 73,
     "metadata": {},
     "output_type": "execute_result"
    }
   ],
   "source": [
    "'dog' #Now we re-type the word dog and place it in quotes to assign it to the Python string object type.\n",
    "#Specifically, we have created a Python object this is classified as a string data type."
   ]
  },
  {
   "cell_type": "markdown",
   "id": "4f56383d-2c10-4e87-b409-d60b50cdc9c5",
   "metadata": {},
   "source": [
    "We can validate that 'dog' is assigned to the Python string data type with the Python <b>type</b> statement."
   ]
  },
  {
   "cell_type": "code",
   "execution_count": 74,
   "id": "efe0b9e7-0b30-4c4a-9e17-e5cb2e0ab8e0",
   "metadata": {},
   "outputs": [
    {
     "data": {
      "text/plain": [
       "str"
      ]
     },
     "execution_count": 74,
     "metadata": {},
     "output_type": "execute_result"
    }
   ],
   "source": [
    "type('dog')"
   ]
  },
  {
   "cell_type": "markdown",
   "id": "8ed052bf-41bd-4d7b-9aa6-3648312321f7",
   "metadata": {},
   "source": [
    "We can examine the Object Oriented Programming methods of an object using the . notation. In both iPython or in Jupyter Notebooks, you can use the tab key to access a popup window that will display all methods of a specific Python object type. Let's do that with our string 'dog'"
   ]
  },
  {
   "cell_type": "code",
   "execution_count": 26,
   "id": "aa2c8dc5-8138-40d7-b36a-d8693540b12e",
   "metadata": {},
   "outputs": [
    {
     "ename": "SyntaxError",
     "evalue": "invalid syntax (<ipython-input-26-5652659b2aa2>, line 1)",
     "output_type": "error",
     "traceback": [
      "\u001b[0;36m  File \u001b[0;32m\"<ipython-input-26-5652659b2aa2>\"\u001b[0;36m, line \u001b[0;32m1\u001b[0m\n\u001b[0;31m    'dog'. #Press the tab key and a pop up window will appear.\u001b[0m\n\u001b[0m                                                               ^\u001b[0m\n\u001b[0;31mSyntaxError\u001b[0m\u001b[0;31m:\u001b[0m invalid syntax\n"
     ]
    }
   ],
   "source": [
    "'dog'. #Press the tab key and a pop up window will appear. \n",
    "# Type in the letter u and the word \"upper\" will appear. Select 'upper' and follow it with ()."
   ]
  },
  {
   "cell_type": "markdown",
   "id": "186aa9cc-4a8d-47d0-b72e-b90b4b64914a",
   "metadata": {},
   "source": [
    "Remember that Jupyter Notebooks is a user friendly front end user interface for the \"under the hood\" iPython programming environment. One of the very nice features of the Jupyter Lab enviroment is that it allows you to work withing a Jupyter Notebook environment or in a direct iPython environment using the Jupyter Lab terminal tab. <b><i>Always remember to use all of the resources in Jupyter Lab and more broadly on your Collaborate Remote Desktop.</i></b> Let's access iPython directly using the Jupyter Lab terminal tab."
   ]
  },
  {
   "cell_type": "markdown",
   "id": "bc0300d8-e4ec-4fa7-a24c-c54cff4fa8d9",
   "metadata": {},
   "source": [
    "let's explore three more common Python objects encountered in Data Science: integers, floats and lists."
   ]
  },
  {
   "cell_type": "code",
   "execution_count": 76,
   "id": "6742a0ad-ddbe-415d-b4e0-f4f023f344f9",
   "metadata": {},
   "outputs": [
    {
     "data": {
      "text/plain": [
       "10"
      ]
     },
     "execution_count": 76,
     "metadata": {},
     "output_type": "execute_result"
    }
   ],
   "source": [
    "10 #Here is an integer. You do not need any quotes around an integer."
   ]
  },
  {
   "cell_type": "code",
   "execution_count": 77,
   "id": "ce5bc4de-fbbd-44c3-b2d3-dc41e13be585",
   "metadata": {},
   "outputs": [
    {
     "data": {
      "text/plain": [
       "12"
      ]
     },
     "execution_count": 77,
     "metadata": {},
     "output_type": "execute_result"
    }
   ],
   "source": [
    "10+2  # You can use Python as a calculator with integers"
   ]
  },
  {
   "cell_type": "code",
   "execution_count": 78,
   "id": "8f25b2b0-8539-4158-9532-4984a22b258d",
   "metadata": {},
   "outputs": [
    {
     "data": {
      "text/plain": [
       "int"
      ]
     },
     "execution_count": 78,
     "metadata": {},
     "output_type": "execute_result"
    }
   ],
   "source": [
    "type(10)"
   ]
  },
  {
   "cell_type": "code",
   "execution_count": 79,
   "id": "ae5c9488-82bd-4dc4-992b-a678dbdcbb7a",
   "metadata": {},
   "outputs": [
    {
     "data": {
      "text/plain": [
       "10.1"
      ]
     },
     "execution_count": 79,
     "metadata": {},
     "output_type": "execute_result"
    }
   ],
   "source": [
    "10.1 #Here is a float or a number with a decimal point. "
   ]
  },
  {
   "cell_type": "code",
   "execution_count": 80,
   "id": "539454db-3d9d-44ce-b5b5-5853992c620e",
   "metadata": {},
   "outputs": [
    {
     "data": {
      "text/plain": [
       "10.7"
      ]
     },
     "execution_count": 80,
     "metadata": {},
     "output_type": "execute_result"
    }
   ],
   "source": [
    "0.5+10.2"
   ]
  },
  {
   "cell_type": "code",
   "execution_count": 81,
   "id": "8c9aedc1-7a44-462c-b141-887b1820a5bd",
   "metadata": {},
   "outputs": [
    {
     "data": {
      "text/plain": [
       "float"
      ]
     },
     "execution_count": 81,
     "metadata": {},
     "output_type": "execute_result"
    }
   ],
   "source": [
    "type(10.7)"
   ]
  },
  {
   "cell_type": "markdown",
   "id": "f1aa39fd-0a8a-4875-8a40-08bfbeb4838c",
   "metadata": {},
   "source": [
    "Every Python object we have worked with so far can be assigned to a variable."
   ]
  },
  {
   "cell_type": "code",
   "execution_count": 82,
   "id": "eaf9c51b-5045-4754-bd00-4863968dab48",
   "metadata": {},
   "outputs": [],
   "source": [
    "x='cat'\n",
    "y=10\n",
    "z= 10.7"
   ]
  },
  {
   "cell_type": "code",
   "execution_count": 83,
   "id": "bb7515e2-dfc0-412b-9f54-ac1e6b31cb41",
   "metadata": {},
   "outputs": [],
   "source": [
    "#Enter x, y and z individually in this cell and press SHIFT+ENTER. Repeat this process."
   ]
  },
  {
   "cell_type": "code",
   "execution_count": 84,
   "id": "998711d2-0654-4b97-84ba-2d23d2513fdd",
   "metadata": {},
   "outputs": [],
   "source": [
    "#Enter type(x), type(y) and type(z) individually in this cell and press SHIFT+ENTER. Repeat this process."
   ]
  },
  {
   "cell_type": "code",
   "execution_count": 85,
   "id": "53dff8a0-c0bd-49de-8468-a046d2371b87",
   "metadata": {},
   "outputs": [
    {
     "data": {
      "text/plain": [
       "\u001b[0;31mType:\u001b[0m        str\n",
       "\u001b[0;31mString form:\u001b[0m cat\n",
       "\u001b[0;31mLength:\u001b[0m      3\n",
       "\u001b[0;31mDocstring:\u001b[0m  \n",
       "str(object='') -> str\n",
       "str(bytes_or_buffer[, encoding[, errors]]) -> str\n",
       "\n",
       "Create a new string object from the given object. If encoding or\n",
       "errors is specified, then the object must expose a data buffer\n",
       "that will be decoded using the given encoding and error handler.\n",
       "Otherwise, returns the result of object.__str__() (if defined)\n",
       "or repr(object).\n",
       "encoding defaults to sys.getdefaultencoding().\n",
       "errors defaults to 'strict'.\n"
      ]
     },
     "metadata": {},
     "output_type": "display_data"
    }
   ],
   "source": [
    "?x \n",
    "#Enter ?x, ?y, ?z and read the useful online help supplied by iPython.\n",
    "#Notice the Python Object Type is listed at the very top of this help message.\n",
    "#The Docstring gives you more detailed information."
   ]
  },
  {
   "cell_type": "code",
   "execution_count": 86,
   "id": "8628dc6d-cc9c-4d3f-94ea-b97d0fb5ca0c",
   "metadata": {},
   "outputs": [
    {
     "data": {
      "text/plain": [
       "20.7"
      ]
     },
     "execution_count": 86,
     "metadata": {},
     "output_type": "execute_result"
    }
   ],
   "source": [
    "y+z  #The Python integer and float object types can interact  mathematically since they are both numeric."
   ]
  },
  {
   "cell_type": "code",
   "execution_count": 87,
   "id": "c7f825fb-4dd0-4d86-8188-227c9c180b11",
   "metadata": {},
   "outputs": [
    {
     "ename": "TypeError",
     "evalue": "must be str, not int",
     "output_type": "error",
     "traceback": [
      "\u001b[0;31m---------------------------------------------------------------------------\u001b[0m",
      "\u001b[0;31mTypeError\u001b[0m                                 Traceback (most recent call last)",
      "\u001b[0;32m<ipython-input-87-8668d148fece>\u001b[0m in \u001b[0;36m<module>\u001b[0;34m\u001b[0m\n\u001b[0;32m----> 1\u001b[0;31m \u001b[0mx\u001b[0m\u001b[0;34m+\u001b[0m\u001b[0my\u001b[0m \u001b[0;31m#A string and an integer cannot due to a Python type mismatch. See the error message below.\u001b[0m\u001b[0;34m\u001b[0m\u001b[0;34m\u001b[0m\u001b[0m\n\u001b[0m",
      "\u001b[0;31mTypeError\u001b[0m: must be str, not int"
     ]
    }
   ],
   "source": [
    "x+y #A string and an integer cannot due to a Python type mismatch. See the error message below."
   ]
  },
  {
   "cell_type": "markdown",
   "id": "ebb0de33-073e-421f-88b7-0b06250f3601",
   "metadata": {},
   "source": [
    "The final Python object we will cover in this video is a list. A list allows us to group other Python objects such as strings, integers, floats and more. Let's create a list and check out it's Object Oriented Programming methods:"
   ]
  },
  {
   "cell_type": "code",
   "execution_count": 88,
   "id": "59dfa663-9088-4203-ad79-2ab3f8509973",
   "metadata": {},
   "outputs": [
    {
     "data": {
      "text/plain": [
       "['dog', 10, 10.7]"
      ]
     },
     "execution_count": 88,
     "metadata": {},
     "output_type": "execute_result"
    }
   ],
   "source": [
    "['dog',10, 10.7]"
   ]
  },
  {
   "cell_type": "code",
   "execution_count": 89,
   "id": "96e84fb7-41a3-42e6-b3c0-a0b7f257447c",
   "metadata": {},
   "outputs": [
    {
     "data": {
      "text/plain": [
       "list"
      ]
     },
     "execution_count": 89,
     "metadata": {},
     "output_type": "execute_result"
    }
   ],
   "source": [
    "type(['dog', 10, 10.7])"
   ]
  },
  {
   "cell_type": "code",
   "execution_count": 90,
   "id": "6da4117e-d883-490d-9b49-961f475a6dae",
   "metadata": {},
   "outputs": [
    {
     "ename": "SyntaxError",
     "evalue": "invalid syntax (<ipython-input-90-b8198da55c63>, line 1)",
     "output_type": "error",
     "traceback": [
      "\u001b[0;36m  File \u001b[0;32m\"<ipython-input-90-b8198da55c63>\"\u001b[0;36m, line \u001b[0;32m1\u001b[0m\n\u001b[0;31m    ['dog',10, 10.7].  #Hit the tab key to see all of the methods available to the list object type.\u001b[0m\n\u001b[0m                                                                                                    ^\u001b[0m\n\u001b[0;31mSyntaxError\u001b[0m\u001b[0;31m:\u001b[0m invalid syntax\n"
     ]
    }
   ],
   "source": [
    "['dog',10, 10.7].  #Hit the tab key to see all of the methods available to the list object type.\n",
    "# Select the append method and add the string object 'horse' to the list."
   ]
  },
  {
   "cell_type": "code",
   "execution_count": 91,
   "id": "64e0970e-31b0-4fed-8a3e-c541452c6dba",
   "metadata": {},
   "outputs": [
    {
     "data": {
      "text/plain": [
       "\u001b[0;31mType:\u001b[0m        list\n",
       "\u001b[0;31mString form:\u001b[0m ['dog', 10, 10.7, 'horse']\n",
       "\u001b[0;31mLength:\u001b[0m      4\n",
       "\u001b[0;31mDocstring:\u001b[0m  \n",
       "list() -> new empty list\n",
       "list(iterable) -> new list initialized from iterable's items\n"
      ]
     },
     "metadata": {},
     "output_type": "display_data"
    }
   ],
   "source": [
    "demolist=['dog',10, 10.7,'horse']\n",
    "?demolist"
   ]
  },
  {
   "cell_type": "markdown",
   "id": "aa78c75b-f618-4cf5-b0f9-6501686d489c",
   "metadata": {},
   "source": [
    "<b> Conclusion </b> \n",
    "Great job in completing this Jupyter Notebook. In this Notebook, we exploring some of the fundamental characteristics of Object Oriented Programming as they relate to Python. By being literate with these concepts, it will make it easier for you to use Python as a Data Science analysis tool. With the fundamentals of Python and Object Oriented Programming covered in this Notebook, you will be ready to advance onto the next steps in our DS4HS journey:\n",
    "\n",
    "1. Exploring Python Basic Data Types: string, integer and float\n",
    "1. Grouping Python Data Types with Lists\n",
    "1. Using Built-in Python Functions and Methods\n",
    "1. Importing Your First Python Data Science Library: numpy\n",
    "1. Exploring numpy arrays for Data Science\n",
    "1. Combining numpy arrays with the Berkeley datascience Library\n",
    "1. Visualizing data with Matplotlib\n",
    "1. Introduction to pandas; the world's leading Data Science Library\n",
    "1. LINUX and git Essentials\n",
    "\n",
    "Each of these topics builds upon each other. Feel free to jump ahead and explore any of the topics in any order you wish. Utilize all of the resources of Jupyter Lab and your entire Collaborate Remote Desktop environment."
   ]
  },
  {
   "cell_type": "code",
   "execution_count": null,
   "id": "ca43b742-07f5-467c-80cd-abeaad56ba7b",
   "metadata": {},
   "outputs": [],
   "source": []
  }
 ],
 "metadata": {
  "kernelspec": {
   "display_name": "Python 3",
   "language": "python",
   "name": "python3"
  },
  "language_info": {
   "codemirror_mode": {
    "name": "ipython",
    "version": 3
   },
   "file_extension": ".py",
   "mimetype": "text/x-python",
   "name": "python",
   "nbconvert_exporter": "python",
   "pygments_lexer": "ipython3",
   "version": "3.6.9"
  }
 },
 "nbformat": 4,
 "nbformat_minor": 5
}
