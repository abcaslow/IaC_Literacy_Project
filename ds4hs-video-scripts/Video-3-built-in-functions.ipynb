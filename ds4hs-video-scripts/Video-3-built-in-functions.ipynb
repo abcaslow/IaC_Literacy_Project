{
 "cells": [
  {
   "cell_type": "markdown",
   "id": "8a6fab27-1683-4c6b-b78a-fb1805ffe64f",
   "metadata": {},
   "source": [
    "### Video Three: Exploring Python Built-in Functions ###\n",
    "\n",
    "In this video, we will build upon what we have learned in our first two videos: \n",
    "1. Video One: Object Oriented Programming Features of Python: names, types and methods.\n",
    "1. Video Two: Four Basic Python Data Types: string, integer, float and list\n",
    "\n",
    "In this video, we will explore some of the basic Python built-in functions that come with all implementations of Python. There is no need to import any additional Python modules to use the built-in functions featured in this video.\n",
    "\n",
    "In fact, we have used four Python built-in functions in our first two videos:\n",
    "1. type()\n",
    "1. str()\n",
    "1. int()\n",
    "1. float()"
   ]
  },
  {
   "cell_type": "markdown",
   "id": "c3e9f341-c019-4544-b7f7-30649c95219c",
   "metadata": {},
   "source": [
    "At the end of this video, we will be able to distinguish between two types of functions used in Python:\n",
    "\n",
    "1. The Object Oriented Programming fuction we encountered in Video One: Python methods. Remember that Python methods are called by Python objects such as a string or a list. Two examples of methods we encountered in Video One were string.upper() and list.append().\n",
    "1. Functions are used independentally of any Python object. You call a function by a name and follow the function name with a pair of parentheses. Some functions require input variables and some don't. \n",
    "\n",
    "Enough of this introductory talk, let's make the theory come to life by working with Python built-in functions with hands-on learning activities."
   ]
  },
  {
   "cell_type": "markdown",
   "id": "60f86a4c-1700-454c-86a6-e1223ddfa586",
   "metadata": {},
   "source": [
    "Let's start by reviewing all of the Python built-in functions from the offical Python Documentation web-site:\n",
    "\n",
    "https://docs.python.org/3/library/functions.html\n",
    "\n",
    "From this list, we see the built-in functions we have already used: <b>float, int, str and type</b>.\n",
    "\n",
    "We are going to start exploring Python built-in functions with the <b>print</b> function and then explore the <b> max, min and sum </b> functions."
   ]
  },
  {
   "cell_type": "code",
   "execution_count": 2,
   "id": "c76d2840-2f0d-4b7e-bcd7-756365e4ee9f",
   "metadata": {},
   "outputs": [
    {
     "data": {
      "text/plain": [
       "<function print>"
      ]
     },
     "execution_count": 2,
     "metadata": {},
     "output_type": "execute_result"
    }
   ],
   "source": [
    "print #let's start by simply typing print. It returns <function print>."
   ]
  },
  {
   "cell_type": "code",
   "execution_count": 3,
   "id": "38acfc05-b1a9-4c20-bfd7-81ac07024747",
   "metadata": {},
   "outputs": [
    {
     "data": {
      "text/plain": [
       "builtin_function_or_method"
      ]
     },
     "execution_count": 3,
     "metadata": {},
     "output_type": "execute_result"
    }
   ],
   "source": [
    "type(print) "
   ]
  },
  {
   "cell_type": "code",
   "execution_count": 4,
   "id": "3687958b-0cb4-4c35-814b-f20f88e2787c",
   "metadata": {},
   "outputs": [
    {
     "data": {
      "text/plain": [
       "\u001b[0;31mDocstring:\u001b[0m\n",
       "print(value, ..., sep=' ', end='\\n', file=sys.stdout, flush=False)\n",
       "\n",
       "Prints the values to a stream, or to sys.stdout by default.\n",
       "Optional keyword arguments:\n",
       "file:  a file-like object (stream); defaults to the current sys.stdout.\n",
       "sep:   string inserted between values, default a space.\n",
       "end:   string appended after the last value, default a newline.\n",
       "flush: whether to forcibly flush the stream.\n",
       "\u001b[0;31mType:\u001b[0m      builtin_function_or_method\n"
      ]
     },
     "metadata": {},
     "output_type": "display_data"
    }
   ],
   "source": [
    "?print"
   ]
  },
  {
   "cell_type": "code",
   "execution_count": 5,
   "id": "e9321514-bb3a-46c2-8028-ca0a8b8d2f0d",
   "metadata": {},
   "outputs": [
    {
     "ename": "SyntaxError",
     "evalue": "invalid syntax (<ipython-input-5-50b4ae29d403>, line 1)",
     "output_type": "error",
     "traceback": [
      "\u001b[0;36m  File \u001b[0;32m\"<ipython-input-5-50b4ae29d403>\"\u001b[0;36m, line \u001b[0;32m1\u001b[0m\n\u001b[0;31m    print(Hello world)\u001b[0m\n\u001b[0m                    ^\u001b[0m\n\u001b[0;31mSyntaxError\u001b[0m\u001b[0;31m:\u001b[0m invalid syntax\n"
     ]
    }
   ],
   "source": [
    "print(Hello world) #What caused this error? Read the error message."
   ]
  },
  {
   "cell_type": "code",
   "execution_count": 6,
   "id": "8ffc4246-4953-46b4-b0ac-738fe6497b5c",
   "metadata": {},
   "outputs": [
    {
     "ename": "SyntaxError",
     "evalue": "invalid syntax (<ipython-input-6-0c3f335de6cc>, line 1)",
     "output_type": "error",
     "traceback": [
      "\u001b[0;36m  File \u001b[0;32m\"<ipython-input-6-0c3f335de6cc>\"\u001b[0;36m, line \u001b[0;32m1\u001b[0m\n\u001b[0;31m    print('Hello' world)\u001b[0m\n\u001b[0m                      ^\u001b[0m\n\u001b[0;31mSyntaxError\u001b[0m\u001b[0;31m:\u001b[0m invalid syntax\n"
     ]
    }
   ],
   "source": [
    "print('Hello world') #We needed quotes around the string message inside print."
   ]
  },
  {
   "cell_type": "code",
   "execution_count": 10,
   "id": "0d6d7e5d-dde9-4e7a-9eb9-d5d44291cdb5",
   "metadata": {},
   "outputs": [
    {
     "name": "stdout",
     "output_type": "stream",
     "text": [
      "Hello West Coast\n"
     ]
    }
   ],
   "source": [
    "world=\"Hello West Coast\"\n",
    "print(world) # No quotes needed because I passed print a variable not a string."
   ]
  },
  {
   "cell_type": "markdown",
   "id": "c9d25393-1a1c-4cff-84d6-b7d83870ad3f",
   "metadata": {},
   "source": [
    "Now let's explore the following basic numeric built-in functions:\n",
    "1. min\n",
    "1. max\n",
    "1. sum"
   ]
  },
  {
   "cell_type": "code",
   "execution_count": 12,
   "id": "d25c0d7a-21d1-41c4-9b75-bd719d03c02b",
   "metadata": {},
   "outputs": [
    {
     "data": {
      "text/plain": [
       "<function min>"
      ]
     },
     "execution_count": 12,
     "metadata": {},
     "output_type": "execute_result"
    }
   ],
   "source": [
    "min"
   ]
  },
  {
   "cell_type": "code",
   "execution_count": 13,
   "id": "c77cecff-cf3f-4bba-96af-6a48313fa0bb",
   "metadata": {},
   "outputs": [
    {
     "data": {
      "text/plain": [
       "builtin_function_or_method"
      ]
     },
     "execution_count": 13,
     "metadata": {},
     "output_type": "execute_result"
    }
   ],
   "source": [
    "type(min)"
   ]
  },
  {
   "cell_type": "code",
   "execution_count": 17,
   "id": "65489ad9-740d-46c9-9ade-d078c8893e1f",
   "metadata": {},
   "outputs": [
    {
     "ename": "TypeError",
     "evalue": "min expected 1 arguments, got 0",
     "output_type": "error",
     "traceback": [
      "\u001b[0;31m---------------------------------------------------------------------------\u001b[0m",
      "\u001b[0;31mTypeError\u001b[0m                                 Traceback (most recent call last)",
      "\u001b[0;32m<ipython-input-17-6d1bf1858f2c>\u001b[0m in \u001b[0;36m<module>\u001b[0;34m\u001b[0m\n\u001b[1;32m      1\u001b[0m \u001b[0mx\u001b[0m\u001b[0;34m=\u001b[0m\u001b[0;34m[\u001b[0m\u001b[0;36m1\u001b[0m\u001b[0;34m,\u001b[0m\u001b[0;36m2\u001b[0m\u001b[0;34m,\u001b[0m\u001b[0;36m3\u001b[0m\u001b[0;34m,\u001b[0m\u001b[0;36m4\u001b[0m\u001b[0;34m]\u001b[0m\u001b[0;34m\u001b[0m\u001b[0;34m\u001b[0m\u001b[0m\n\u001b[0;32m----> 2\u001b[0;31m \u001b[0mmin\u001b[0m\u001b[0;34m(\u001b[0m\u001b[0;34m)\u001b[0m \u001b[0;31m#Error! Read the message carefully! Embrace and welcome Python erros msgs.\u001b[0m\u001b[0;34m\u001b[0m\u001b[0;34m\u001b[0m\u001b[0m\n\u001b[0m\u001b[1;32m      3\u001b[0m \u001b[0;31m#While some Python error messages are cryptic, others are very informative.\u001b[0m\u001b[0;34m\u001b[0m\u001b[0;34m\u001b[0m\u001b[0;34m\u001b[0m\u001b[0m\n",
      "\u001b[0;31mTypeError\u001b[0m: min expected 1 arguments, got 0"
     ]
    }
   ],
   "source": [
    "x=[1,2,3,4]\n",
    "min() #Error! Read the message carefully! Embrace and welcome Python erros msgs.\n",
    "#While some Python error messages are cryptic, others are very informative."
   ]
  },
  {
   "cell_type": "code",
   "execution_count": 18,
   "id": "4f505b77-ae07-49a9-8658-084851b1c9d4",
   "metadata": {},
   "outputs": [
    {
     "data": {
      "text/plain": [
       "1"
      ]
     },
     "execution_count": 18,
     "metadata": {},
     "output_type": "execute_result"
    }
   ],
   "source": [
    "min(x)"
   ]
  },
  {
   "cell_type": "code",
   "execution_count": 20,
   "id": "9f9bd748-0cfc-4e4d-bbfd-8d765b6d5f30",
   "metadata": {},
   "outputs": [
    {
     "data": {
      "text/plain": [
       "4"
      ]
     },
     "execution_count": 20,
     "metadata": {},
     "output_type": "execute_result"
    }
   ],
   "source": [
    "max(x) # now let's use the \"max\" built-in function"
   ]
  },
  {
   "cell_type": "code",
   "execution_count": 21,
   "id": "3edb595e-d2ba-41b0-b640-61a22f27f5d4",
   "metadata": {},
   "outputs": [
    {
     "data": {
      "text/plain": [
       "10"
      ]
     },
     "execution_count": 21,
     "metadata": {},
     "output_type": "execute_result"
    }
   ],
   "source": [
    "sum(x) # now let's use the \"sum\" built-in function"
   ]
  },
  {
   "cell_type": "code",
   "execution_count": 22,
   "id": "dd94c907-39eb-43e5-a99f-27c27730cb47",
   "metadata": {},
   "outputs": [
    {
     "data": {
      "text/plain": [
       "4"
      ]
     },
     "execution_count": 22,
     "metadata": {},
     "output_type": "execute_result"
    }
   ],
   "source": [
    "len(x) # the \"len\" built-in function counts the number of items in a list."
   ]
  },
  {
   "cell_type": "markdown",
   "id": "e431076b-c103-4e2f-b134-28a1f41b4e47",
   "metadata": {},
   "source": [
    "### Assessment of Understanding ### \n",
    "\n",
    "Using only Python built-in functions covered so far in this video, find the statistical mean of the numbers in the list <b>x</b>. Assign the statistical mean to the variable <b>meanx</b>. \n"
   ]
  },
  {
   "cell_type": "code",
   "execution_count": 24,
   "id": "f81a5eb3-8684-4e80-8b37-d92e682cf316",
   "metadata": {},
   "outputs": [],
   "source": [
    "meanx =sum(x)/len(x) #Hint: find the sum of x and divide it by the length of x."
   ]
  },
  {
   "cell_type": "code",
   "execution_count": 25,
   "id": "2f5e6502-648c-4858-ad18-f6b8608c2fea",
   "metadata": {},
   "outputs": [
    {
     "data": {
      "text/plain": [
       "2.5"
      ]
     },
     "execution_count": 25,
     "metadata": {},
     "output_type": "execute_result"
    }
   ],
   "source": [
    "meanx"
   ]
  },
  {
   "cell_type": "code",
   "execution_count": 26,
   "id": "f3b24d30-dfdb-4f92-8e0a-14328fb88db9",
   "metadata": {},
   "outputs": [
    {
     "data": {
      "text/plain": [
       "float"
      ]
     },
     "execution_count": 26,
     "metadata": {},
     "output_type": "execute_result"
    }
   ],
   "source": [
    "type(x)  # x is a Python 'list' object.\n",
    "type(meanx) # meanx is a Python 'float' object even though meanx is a formula\n",
    "#Question: Why is meanx a float & not a formula? Let's do hands-on investigating."
   ]
  },
  {
   "cell_type": "code",
   "execution_count": 28,
   "id": "2d2889d6-9e65-4a05-9432-d52670c6efb0",
   "metadata": {},
   "outputs": [
    {
     "data": {
      "text/plain": [
       "[1, 2, 3, 4, 10, 10]"
      ]
     },
     "execution_count": 28,
     "metadata": {},
     "output_type": "execute_result"
    }
   ],
   "source": [
    "x.append(10)\n",
    "x"
   ]
  },
  {
   "cell_type": "code",
   "execution_count": 30,
   "id": "8bed490f-f9e1-4d9b-8b38-cf956a155c27",
   "metadata": {},
   "outputs": [
    {
     "data": {
      "text/plain": [
       "5.0"
      ]
     },
     "execution_count": 30,
     "metadata": {},
     "output_type": "execute_result"
    }
   ],
   "source": [
    "meanx =sum(x)/len(x)\n",
    "meanx"
   ]
  },
  {
   "cell_type": "code",
   "execution_count": 31,
   "id": "28ace0da-cb79-4710-98fc-cb2da80bff5d",
   "metadata": {},
   "outputs": [
    {
     "data": {
      "text/plain": [
       "147.14285714285714"
      ]
     },
     "execution_count": 31,
     "metadata": {},
     "output_type": "execute_result"
    }
   ],
   "source": [
    "x.append(1000) #Let's add a big number to our list and see how the mean changes.\n",
    "meanx =sum(x)/len(x)\n",
    "meanx"
   ]
  },
  {
   "cell_type": "code",
   "execution_count": 32,
   "id": "f74f3f6e-3f1a-4ba0-9b15-955adfb0603d",
   "metadata": {},
   "outputs": [
    {
     "data": {
      "text/plain": [
       "-496.25"
      ]
     },
     "execution_count": 32,
     "metadata": {},
     "output_type": "execute_result"
    }
   ],
   "source": [
    "x.append(-5000) #Let's now add a big negative number and recalculate our mean.\n",
    "meanx =sum(x)/len(x)\n",
    "meanx"
   ]
  },
  {
   "cell_type": "code",
   "execution_count": 33,
   "id": "1e5093f2-f3eb-442d-bfd6-9780ca44d931",
   "metadata": {},
   "outputs": [
    {
     "data": {
      "text/plain": [
       "[1, 2, 3, 4, 10, 10, 1000, -5000]"
      ]
     },
     "execution_count": 33,
     "metadata": {},
     "output_type": "execute_result"
    }
   ],
   "source": [
    "x # Let's take a look at how our list has expanded using the append list method.\n",
    "sum(x) # let's check the sum of our list with the \"sum\" built-in function.\n",
    "len(x) # let's check the sum of our list with the \"len\" built-in function."
   ]
  },
  {
   "cell_type": "code",
   "execution_count": 35,
   "id": "425234c8-6996-4e12-9011-5721200902ce",
   "metadata": {},
   "outputs": [
    {
     "data": {
      "text/plain": [
       "[-5000, 1, 2, 3, 4, 10, 10, 1000]"
      ]
     },
     "execution_count": 35,
     "metadata": {},
     "output_type": "execute_result"
    }
   ],
   "source": [
    "sorted(x) #let's sort our list from the lowest number to highest number.\n",
    "#Pay attention! We just used yet another Python built-in function: \"sorted\""
   ]
  },
  {
   "cell_type": "markdown",
   "id": "fb1ca31d-72a7-4cde-9906-b3bdfdaca3b1",
   "metadata": {},
   "source": [
    "### Assessment of Understanding ### \n",
    "\n",
    "What is the difference between the following two Python statements:\n",
    "\n",
    "1. <b>len(x)</b>\n",
    "1. <b>x.count(n)</b>           where \"n\" is any item inside of a Python list.\n",
    "\n",
    "Hint: Are both of these Python statements Python built-in functions? Or is one of these statements a Python built-in function and the other a Python Object Oriented \"method\"? Carefully examine the exact placement of the terms \"<b>len</b>\" and \"<b>count</b>\". \"<b>len</b>\" is at the beginning of the Python statement and is followed by parentheses. \"<b>count</b>\" is at the end of a Python stement and is preceded by a period.\n"
   ]
  },
  {
   "cell_type": "code",
   "execution_count": 40,
   "id": "ed29b24a-fca8-42d5-9ab1-00929d7327e2",
   "metadata": {},
   "outputs": [
    {
     "data": {
      "text/plain": [
       "8"
      ]
     },
     "execution_count": 40,
     "metadata": {},
     "output_type": "execute_result"
    }
   ],
   "source": [
    "x\n",
    "#len(x)"
   ]
  },
  {
   "cell_type": "code",
   "execution_count": 39,
   "id": "377dea91-e047-4d17-b3d3-cb4108a2b0c2",
   "metadata": {},
   "outputs": [
    {
     "data": {
      "text/plain": [
       "2"
      ]
     },
     "execution_count": 39,
     "metadata": {},
     "output_type": "execute_result"
    }
   ],
   "source": [
    "x\n",
    "#x.count(10)"
   ]
  },
  {
   "cell_type": "markdown",
   "id": "cdc86ab7-b788-4814-9566-c4d479d1579d",
   "metadata": {},
   "source": [
    "### <b>Conclusion</b> ###\n",
    "Upon concluding this third Jupyter Notebook, we now a basic understanding of:\n",
    "\n",
    "1. Basic features of Object Oriented Programming in Python\n",
    "1. Basic Python Data Types: string, integer, float and list\n",
    "1. Basic Python Built-in Functions: print, min, max, sum, len and sorted\n",
    "1. The Difference between a Python function and a Python \"method\" which is a special type of function associated with the specific Python object such as a string  - <b>string.upper()</b> or a list - <b>list.append(1000)</b> or <b>list.count(1000)</b>.\n",
    "\n",
    "After these three videos, you should be developing an understanding of what the following set of Python messages are telling you and why they list each Python Object Oriented <b>type<b> as either a <b>built-in function</b> or <b>method</b>"
   ]
  },
  {
   "cell_type": "code",
   "execution_count": 45,
   "id": "2d944877-677f-43d6-817f-daa363730631",
   "metadata": {},
   "outputs": [
    {
     "data": {
      "text/plain": [
       "builtin_function_or_method"
      ]
     },
     "execution_count": 45,
     "metadata": {},
     "output_type": "execute_result"
    }
   ],
   "source": [
    "type(print)\n",
    "#type(sum)\n",
    "#type(x.count)\n",
    "#type('cat'.upper)"
   ]
  },
  {
   "cell_type": "markdown",
   "id": "8dc97ef9-e5d0-4a95-ac75-157e0d9485dd",
   "metadata": {},
   "source": [
    "<b>Congratulations! It takes many students studying Python months to know the difference between <i>a Python function</i> and/or a <i>Python Object Oriented method</i>.</b> "
   ]
  },
  {
   "cell_type": "markdown",
   "id": "69a120e4-505b-4edc-8de7-67300d09e8fa",
   "metadata": {},
   "source": [
    "In this video we encountered the parentheses <b>( )</b> used at the end of a Python function or method. In the next video, we will explore what goes inside of square brackets <b>[ ]</b> Developing an understanding of what can go inside of <b>[ ]</b> will empower you with Python and especially Python for Data Science."
   ]
  },
  {
   "cell_type": "markdown",
   "id": "c7da2374-d073-4ddf-98bd-c340728e7935",
   "metadata": {},
   "source": [
    "As always, remember to perform as much hands-on practice as you can with any of the topics covered in these Notebooks. You have 24/7 access to your remote desktop. Use your remote desktop resources to the max! Practice, Practice Practice! <b><i>Remember: Hard work beats talent every time if talent refuses to work hard!</i></b>"
   ]
  },
  {
   "cell_type": "code",
   "execution_count": null,
   "id": "c1c1228e-47d4-49c2-bdee-3af18d1434f4",
   "metadata": {},
   "outputs": [],
   "source": []
  }
 ],
 "metadata": {
  "kernelspec": {
   "display_name": "Python 3",
   "language": "python",
   "name": "python3"
  },
  "language_info": {
   "codemirror_mode": {
    "name": "ipython",
    "version": 3
   },
   "file_extension": ".py",
   "mimetype": "text/x-python",
   "name": "python",
   "nbconvert_exporter": "python",
   "pygments_lexer": "ipython3",
   "version": "3.6.9"
  }
 },
 "nbformat": 4,
 "nbformat_minor": 5
}
