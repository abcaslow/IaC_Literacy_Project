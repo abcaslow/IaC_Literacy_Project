{
 "cells": [
  {
   "cell_type": "markdown",
   "id": "ca6c435d-3942-4d40-9ca3-cad2b2db8139",
   "metadata": {},
   "source": [
    "### <b>Video Four: Exploring the Python [ ] with Strings and Lists</b> ###"
   ]
  },
  {
   "cell_type": "markdown",
   "id": "34fe84df-10a5-49e1-879e-c530b9aeeae5",
   "metadata": {},
   "source": [
    "So far, we have explored:\n",
    "1. Basic Features of Object Oriented Programming in Python: <b>objects, names, types, attributes and methods</b>\n",
    "1. Basic Python Data Types: <b> string, intger, float and list</b>\n",
    "1. Built-in Python Functions and their similarities and differences with Python method functions which are associated with specific Data Types."
   ]
  },
  {
   "cell_type": "markdown",
   "id": "29798968-c685-44e5-a486-0832ff6b2c27",
   "metadata": {},
   "source": [
    "In this video we will explore the use of square brackets with Python strings and lists. We will also explore when to use parentheses with functions and when to use square brackets. Let's get started."
   ]
  },
  {
   "cell_type": "markdown",
   "id": "c96a048e-24bd-4ec5-a234-862bcde564fd",
   "metadata": {},
   "source": [
    "### <b> Computer Programming Abstraction </b> ### \n",
    "#### <b><i>Both Python String and List Data Types Are Sequences of Data</i></b> ####\n",
    "\n",
    "Both Python string and list data types share the same propeties from a perspective of <b><i>computer abstraction</i></b>: both strings and lists are sequences because they consist of an ordered collection of items:\n",
    "\n",
    "1. a string consists of an ordered collection of characters.\n",
    "1. a list consists of an ordered collection of Python data types: strings, integers, floats and more.\n",
    "\n",
    "Given that both a Python string and list is an ordered collection of items, each item in either a Python string or list is assigned an index number to identify it's precise position in the sequence. Going from left to right, Python index numbers begin with 0 and they can be specified in a pair of square brackets <b>[ ]</b> positioned to the immediate right of the string or list object.\n",
    "\n",
    "Let's make this Python theory come alive with the following examples:"
   ]
  },
  {
   "cell_type": "code",
   "execution_count": 147,
   "id": "bd8f4206-d838-4f14-8fcc-7a05a40ee43c",
   "metadata": {},
   "outputs": [
    {
     "data": {
      "text/plain": [
       "'B'"
      ]
     },
     "execution_count": 147,
     "metadata": {},
     "output_type": "execute_result"
    }
   ],
   "source": [
    "x='Boston' #x is a sequence of six characters that spell the city name \"Boston\".\n",
    "y=['New York','Baltimore','Chicago','San Francisco','Berkeley', 'Seattle']\n",
    "#y is a sequence of six items, each of which is a Python string data type.\n",
    "#We can say that the variable \"y\" is assigned to a \"list of strings\".\n",
    "x[0] #This will extract the first letter in the city name Boston.\n",
    "#y[0] #This will extract the first item in the list of American cities."
   ]
  },
  {
   "cell_type": "code",
   "execution_count": 148,
   "id": "2d63a5e0-a577-45f5-8fce-6c7076c84661",
   "metadata": {},
   "outputs": [
    {
     "data": {
      "text/plain": [
       "'t'"
      ]
     },
     "execution_count": 148,
     "metadata": {},
     "output_type": "execute_result"
    }
   ],
   "source": [
    "x[3] #This will extract the fourth letter in the city name Boston.\n",
    "#y[3] #This will extract the fourth item in the list of American cities."
   ]
  },
  {
   "cell_type": "code",
   "execution_count": 149,
   "id": "5d5970dd-f6b2-4351-9c25-a430efa34f08",
   "metadata": {},
   "outputs": [
    {
     "ename": "TypeError",
     "evalue": "'str' object is not callable",
     "output_type": "error",
     "traceback": [
      "\u001b[0;31m---------------------------------------------------------------------------\u001b[0m",
      "\u001b[0;31mTypeError\u001b[0m                                 Traceback (most recent call last)",
      "\u001b[0;32m<ipython-input-149-59a2e36e1abb>\u001b[0m in \u001b[0;36m<module>\u001b[0;34m\u001b[0m\n\u001b[0;32m----> 1\u001b[0;31m \u001b[0mx\u001b[0m\u001b[0;34m(\u001b[0m\u001b[0;36m3\u001b[0m\u001b[0;34m)\u001b[0m \u001b[0;31m#Read the Python error message carefully! \"str object is not callable\"\u001b[0m\u001b[0;34m\u001b[0m\u001b[0;34m\u001b[0m\u001b[0m\n\u001b[0m\u001b[1;32m      2\u001b[0m \u001b[0;31m#Only functions can be \"called\" and parthenses are used to call functions.\u001b[0m\u001b[0;34m\u001b[0m\u001b[0;34m\u001b[0m\u001b[0;34m\u001b[0m\u001b[0m\n\u001b[1;32m      3\u001b[0m \u001b[0;31m#This is a good contrast between when to use square brackets and when to us ( ).\u001b[0m\u001b[0;34m\u001b[0m\u001b[0;34m\u001b[0m\u001b[0;34m\u001b[0m\u001b[0m\n",
      "\u001b[0;31mTypeError\u001b[0m: 'str' object is not callable"
     ]
    }
   ],
   "source": [
    "x(3) #Read the Python error message carefully! \"str object is not callable\"\n",
    "#Only functions can be \"called\" and parthenses are used to call functions.\n",
    "#This is a good contrast between when to use square brackets and when to us ( )."
   ]
  },
  {
   "cell_type": "markdown",
   "id": "366e2f81-84de-4c33-a425-381db3fc80b0",
   "metadata": {},
   "source": [
    "With <b>[ ]</b>, you can extract data from left to right or right to left.\n",
    "\n",
    "1. For left to right, start with 0 and increment up to len(x)-1.\n",
    "1. For right to left, start with -1 and decrement down"
   ]
  },
  {
   "cell_type": "code",
   "execution_count": 150,
   "id": "5e62d8d6-c396-4de8-bf29-c804f840cc0a",
   "metadata": {},
   "outputs": [
    {
     "data": {
      "text/plain": [
       "'Seattle'"
      ]
     },
     "execution_count": 150,
     "metadata": {},
     "output_type": "execute_result"
    }
   ],
   "source": [
    "x\n",
    "#y\n",
    "#x[-1]  #Extract the last letter of the name Boston\n",
    "y[-1]   #Extract the last item in our list of American cities"
   ]
  },
  {
   "cell_type": "markdown",
   "id": "d7358050-6b85-445c-8b1b-d63ce8d3d6dc",
   "metadata": {},
   "source": [
    "#### <b>String and List Slicing</b> ####\n",
    "\n",
    "Extract out ranges of characters from a string or items from either astring or a list using a start and stop index range separated by colon."
   ]
  },
  {
   "cell_type": "code",
   "execution_count": 151,
   "id": "6edce269-1c91-425f-9b99-e682b988706c",
   "metadata": {},
   "outputs": [
    {
     "data": {
      "text/plain": [
       "['New York', 'Baltimore', 'Chicago']"
      ]
     },
     "execution_count": 151,
     "metadata": {},
     "output_type": "execute_result"
    }
   ],
   "source": [
    "x[0:3] #Notice the slice starts at index 0 but ends at 3-1 or index number 2.\n",
    "y[0:3]"
   ]
  },
  {
   "cell_type": "code",
   "execution_count": 152,
   "id": "9642955a-9005-4e83-ab8a-d452fd62031e",
   "metadata": {},
   "outputs": [
    {
     "data": {
      "text/plain": [
       "['New York', 'Baltimore', 'Chicago']"
      ]
     },
     "execution_count": 152,
     "metadata": {},
     "output_type": "execute_result"
    }
   ],
   "source": [
    "x[:3] #Here is another format for extracting a range of data starting at 0.\n",
    "y[:3]"
   ]
  },
  {
   "cell_type": "code",
   "execution_count": 153,
   "id": "7275a1a1-b9e5-48a2-8d87-f9ab40050992",
   "metadata": {},
   "outputs": [
    {
     "data": {
      "text/plain": [
       "['San Francisco', 'Berkeley', 'Seattle']"
      ]
     },
     "execution_count": 153,
     "metadata": {},
     "output_type": "execute_result"
    }
   ],
   "source": [
    "x[-3:] #You can reverse this slice method from right to left. Reposition the :\n",
    "y[-3:]"
   ]
  },
  {
   "cell_type": "code",
   "execution_count": 154,
   "id": "2ec3b96b-d61e-4081-a62b-45a97de8688f",
   "metadata": {},
   "outputs": [
    {
     "data": {
      "text/plain": [
       "['San Francisco', 'Berkeley', 'Seattle']"
      ]
     },
     "execution_count": 154,
     "metadata": {},
     "output_type": "execute_result"
    }
   ],
   "source": [
    "x[len(x)-3:] #You can insert functions into square brackets with one KEY caveat\n",
    "y[len(x)-3:] #The function must produce an integer value."
   ]
  },
  {
   "cell_type": "code",
   "execution_count": 155,
   "id": "0ebd21ac-76c1-4c38-a9c9-73555b4b89f6",
   "metadata": {},
   "outputs": [
    {
     "ename": "TypeError",
     "evalue": "list indices must be integers or slices, not float",
     "output_type": "error",
     "traceback": [
      "\u001b[0;31m---------------------------------------------------------------------------\u001b[0m",
      "\u001b[0;31mTypeError\u001b[0m                                 Traceback (most recent call last)",
      "\u001b[0;32m<ipython-input-155-10ff8287c9a7>\u001b[0m in \u001b[0;36m<module>\u001b[0;34m\u001b[0m\n\u001b[1;32m      1\u001b[0m \u001b[0;31m#x[2.5] #Notice the error received when you use a float in the square brackets\u001b[0m\u001b[0;34m\u001b[0m\u001b[0;34m\u001b[0m\u001b[0;34m\u001b[0m\u001b[0m\n\u001b[0;32m----> 2\u001b[0;31m \u001b[0my\u001b[0m\u001b[0;34m[\u001b[0m\u001b[0;36m2.5\u001b[0m\u001b[0;34m]\u001b[0m\u001b[0;34m\u001b[0m\u001b[0;34m\u001b[0m\u001b[0m\n\u001b[0m",
      "\u001b[0;31mTypeError\u001b[0m: list indices must be integers or slices, not float"
     ]
    }
   ],
   "source": [
    "#x[2.5] #Notice the error received when you use a float in the square brackets\n",
    "y[2.5] "
   ]
  },
  {
   "cell_type": "code",
   "execution_count": 156,
   "id": "57441af6-fcf8-4fb5-abcc-05ac5b99fece",
   "metadata": {},
   "outputs": [
    {
     "data": {
      "text/plain": [
       "6"
      ]
     },
     "execution_count": 156,
     "metadata": {},
     "output_type": "execute_result"
    }
   ],
   "source": [
    "len(x) #Note the length of your sequence whether it is a string or list\n",
    "#len(y)\n",
    "#len(y[0])\n",
    "#y[0]\n",
    "#len(y[1])\n",
    "#y[1]"
   ]
  },
  {
   "cell_type": "code",
   "execution_count": 157,
   "id": "1dc49c8c-3742-4791-b186-f36066ebe39a",
   "metadata": {},
   "outputs": [
    {
     "ename": "IndexError",
     "evalue": "string index out of range",
     "output_type": "error",
     "traceback": [
      "\u001b[0;31m---------------------------------------------------------------------------\u001b[0m",
      "\u001b[0;31mIndexError\u001b[0m                                Traceback (most recent call last)",
      "\u001b[0;32m<ipython-input-157-2465c6bfd094>\u001b[0m in \u001b[0;36m<module>\u001b[0;34m\u001b[0m\n\u001b[1;32m      1\u001b[0m \u001b[0mlen\u001b[0m\u001b[0;34m(\u001b[0m\u001b[0mx\u001b[0m\u001b[0;34m)\u001b[0m  \u001b[0;31m#6 characters in the name \"Boston\"\u001b[0m\u001b[0;34m\u001b[0m\u001b[0;34m\u001b[0m\u001b[0m\n\u001b[0;32m----> 2\u001b[0;31m \u001b[0mx\u001b[0m\u001b[0;34m[\u001b[0m\u001b[0;36m7\u001b[0m\u001b[0;34m]\u001b[0m  \u001b[0;31m#When an index number greater than the max is entered,an error is flagged.\u001b[0m\u001b[0;34m\u001b[0m\u001b[0;34m\u001b[0m\u001b[0m\n\u001b[0m",
      "\u001b[0;31mIndexError\u001b[0m: string index out of range"
     ]
    }
   ],
   "source": [
    "len(x)  #6 characters in the name \"Boston\"\n",
    "x[7]  #When an index number greater than the max is entered,an error is flagged."
   ]
  },
  {
   "cell_type": "markdown",
   "id": "9ecc3561-0139-409e-b3f4-d58646e46952",
   "metadata": {},
   "source": [
    "You can extract and manipulate a complete sequence of items in a string or list with a Python <b>for</b> loop.\n",
    "\n",
    "For the purposes of this introductory Data Science Notebook, we will use the following simple <b>for loop</b> syntax:\n",
    "\n",
    "<b>for i in x:</b> \n",
    "\n",
    "1. where <b>\"i\"</b> is the index number of the string or list\n",
    "1. <b>\"x\"</b> is the name of the string or list\n",
    "1. <b>:</b> is syntax used to end the \"for\" loop statement. In Python, the <b>: punctuation symbol</b> is used to introduce a block of code following programmatic operations such as looping, conditional statements (if/elif/else) and function definitions. \n",
    "\n",
    "Given that we are using only the most basic <b>for loops</b> in this notebook, the code block is on the same line as the <b>for loop</b>. For multi-lined code blocks following <b>for loops</b>, <b>if/elif/else</b> statements and <b>function definitions</b>, all lines must be indented.\n",
    "\n",
    "More details on <b>for loops</b> and other code blocks will be supplied in a later Notebook. "
   ]
  },
  {
   "cell_type": "code",
   "execution_count": 158,
   "id": "757e7cc1-6c75-4e83-9759-8f771914d4b8",
   "metadata": {},
   "outputs": [
    {
     "name": "stdout",
     "output_type": "stream",
     "text": [
      "B\n",
      "o\n",
      "s\n",
      "t\n",
      "o\n",
      "n\n"
     ]
    }
   ],
   "source": [
    "for i in x: print(i)  #i is the index number mapped to each char in the string."
   ]
  },
  {
   "cell_type": "code",
   "execution_count": 159,
   "id": "241690b1-b3a1-4bc6-ac85-30775c0c94bb",
   "metadata": {},
   "outputs": [
    {
     "name": "stdout",
     "output_type": "stream",
     "text": [
      "New York\n",
      "Baltimore\n",
      "Chicago\n",
      "San Francisco\n",
      "Berkeley\n",
      "Seattle\n"
     ]
    }
   ],
   "source": [
    "for i in y: print(i)  #i is the index number mapped to each item in the list."
   ]
  },
  {
   "cell_type": "code",
   "execution_count": 160,
   "id": "1da7be7f-68fa-4433-8dff-d509ec974e3a",
   "metadata": {},
   "outputs": [
    {
     "name": "stdout",
     "output_type": "stream",
     "text": [
      "o\n",
      "s\n",
      "t\n"
     ]
    }
   ],
   "source": [
    "for i in x[1:4]: print(i) #loop through a slice of a string"
   ]
  },
  {
   "cell_type": "code",
   "execution_count": 161,
   "id": "1d78a0b6-be70-4997-8410-2c829be00b60",
   "metadata": {},
   "outputs": [
    {
     "name": "stdout",
     "output_type": "stream",
     "text": [
      "Baltimore\n",
      "Chicago\n",
      "San Francisco\n"
     ]
    }
   ],
   "source": [
    "for i in y[1:4]: print(i) #loop through a slice of a list"
   ]
  },
  {
   "cell_type": "code",
   "execution_count": 162,
   "id": "1507a596-cba4-4fc6-8fe8-4d40ffe9f1c7",
   "metadata": {},
   "outputs": [
    {
     "name": "stdout",
     "output_type": "stream",
     "text": [
      "B\n",
      "O\n",
      "S\n",
      "T\n",
      "O\n",
      "N\n"
     ]
    }
   ],
   "source": [
    "for i in x: print(i.upper()) #apply a Python method on each item in the for loop"
   ]
  },
  {
   "cell_type": "code",
   "execution_count": 163,
   "id": "0958e925-5ce9-4287-906f-095b82bec0c5",
   "metadata": {},
   "outputs": [
    {
     "name": "stdout",
     "output_type": "stream",
     "text": [
      "NEW YORK\n",
      "BALTIMORE\n",
      "CHICAGO\n",
      "SAN FRANCISCO\n",
      "BERKELEY\n",
      "SEATTLE\n"
     ]
    }
   ],
   "source": [
    "for i in y: print(i.upper())"
   ]
  },
  {
   "cell_type": "code",
   "execution_count": 164,
   "id": "7696b5f0-886b-4cb1-af88-402a30a05b7d",
   "metadata": {},
   "outputs": [
    {
     "name": "stdout",
     "output_type": "stream",
     "text": [
      "B\n",
      "O\n",
      "S\n",
      "T\n",
      "O\n",
      "N\n"
     ]
    }
   ],
   "source": [
    "for i in x: print(i.upper())"
   ]
  },
  {
   "cell_type": "markdown",
   "id": "734acbbe-6a1b-4187-9a85-60d3fea33643",
   "metadata": {},
   "source": [
    "# <b>Conclusion</b> ###\n",
    "\n",
    "In this Notebook, we explored the square bracket notation as it relates to Python string and list data types. We saw:\n",
    "\n",
    "1. Python lists are delimited by square brackets and strings by quoations.\n",
    "1. Both Python strings and lists are sequences. A string is a sequence of characters and a list is a sequence of items.\n",
    "1. Both Python strings and lists have index numbers starting at zero identifying each and every item in their respective sequences.\n",
    "1. Both Python strings and lists use the square bracket notation to extract out specific items from their respective sequences. This process is oftentimes called \"slicing\"."
   ]
  },
  {
   "cell_type": "markdown",
   "id": "76e6d2fc-88bc-496c-a785-dac95723efe9",
   "metadata": {},
   "source": [
    "Congratulations you have hit a critical mass in your knowledge and skills of Python for Data Science!\n",
    "\n",
    "In our next Jupyter Notebook, we will see how everything that you have learned in these first four videos:\n",
    "\n",
    "1. Concepts of Object Oriented Programming in Python\n",
    "1. Exploring Basic Python Data Type: string, integer, float and list\n",
    "1. Exploring Python Built-in Functions: print, sum, len, etc.\n",
    "1. Exploring the Python Square Bracket Notation with strings and lists\n",
    "\n",
    "has prepared you to begin to dive into working with the key components of Python for Data Science:\n",
    "\n",
    "1. numpy arrays\n",
    "1. University of California at Berkeley Python datascience library\n",
    "1. pandas\n",
    "\n"
   ]
  }
 ],
 "metadata": {
  "kernelspec": {
   "display_name": "Python 3",
   "language": "python",
   "name": "python3"
  },
  "language_info": {
   "codemirror_mode": {
    "name": "ipython",
    "version": 3
   },
   "file_extension": ".py",
   "mimetype": "text/x-python",
   "name": "python",
   "nbconvert_exporter": "python",
   "pygments_lexer": "ipython3",
   "version": "3.6.9"
  }
 },
 "nbformat": 4,
 "nbformat_minor": 5
}
