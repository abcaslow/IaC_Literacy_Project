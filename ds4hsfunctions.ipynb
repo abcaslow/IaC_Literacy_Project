{
 "cells": [
  {
   "cell_type": "markdown",
   "id": "327f4f07-15fd-4deb-bdc6-65a586b180be",
   "metadata": {},
   "source": [
    "Let's review the following Python functions."
   ]
  },
  {
   "cell_type": "code",
   "execution_count": null,
   "id": "c5d5c99b-b21a-41ca-9100-d9e9bdfdc50a",
   "metadata": {},
   "outputs": [],
   "source": [
    "def mean(l):\n",
    "    return float(sum(l))/len(l)\n"
   ]
  },
  {
   "cell_type": "code",
   "execution_count": null,
   "id": "2887de9a-e707-422b-a4d2-b55c6b2e8231",
   "metadata": {},
   "outputs": [],
   "source": []
  },
  {
   "cell_type": "code",
   "execution_count": null,
   "id": "6ccfb30d-87e0-4e1a-8cf6-c6fc3c22b72f",
   "metadata": {},
   "outputs": [],
   "source": [
    "def greeting():\n",
    "    return ('Hi DH4HS Students! Northern Virginia is the best!!!')"
   ]
  },
  {
   "cell_type": "code",
   "execution_count": null,
   "id": "c4215d79-4b48-4e75-a1e7-4090c516bb9c",
   "metadata": {},
   "outputs": [],
   "source": []
  },
  {
   "cell_type": "code",
   "execution_count": null,
   "id": "b3c7198c-6c63-4dc9-9471-4393c53eea15",
   "metadata": {},
   "outputs": [],
   "source": [
    "def lsquare(l):\n",
    "    return ([i**2 for i in l])"
   ]
  },
  {
   "cell_type": "code",
   "execution_count": null,
   "id": "b3679073-7834-4bf6-9037-e8bbf56a2a5e",
   "metadata": {},
   "outputs": [],
   "source": []
  },
  {
   "cell_type": "code",
   "execution_count": null,
   "id": "2d7aac1c-fc3e-413a-abe8-500064627790",
   "metadata": {},
   "outputs": [],
   "source": [
    "def lsqrt(l):\n",
    "    return ([i**0.5 for i in l])"
   ]
  },
  {
   "cell_type": "code",
   "execution_count": null,
   "id": "3af1ee02-15d2-455e-b42f-2d8daf68d3a8",
   "metadata": {},
   "outputs": [],
   "source": []
  },
  {
   "cell_type": "code",
   "execution_count": null,
   "id": "32902fd8-9357-45b2-a73d-585232159433",
   "metadata": {},
   "outputs": [],
   "source": [
    "def median(l):\n",
    "    l=sorted(l)\n",
    "    i= int(len(l)/2)\n",
    "    if len(l) % 2 == 1:\n",
    "       return l[i]\n",
    "    else:\n",
    "       return float(l[i-1] + l[i])/2"
   ]
  },
  {
   "cell_type": "code",
   "execution_count": null,
   "id": "98926e98-b9da-420f-8948-15e2aaa5a1f0",
   "metadata": {},
   "outputs": [],
   "source": []
  },
  {
   "cell_type": "code",
   "execution_count": null,
   "id": "521df287-a36b-4817-8aca-61e9c02118da",
   "metadata": {},
   "outputs": [],
   "source": []
  },
  {
   "cell_type": "code",
   "execution_count": null,
   "id": "eaff9bf0-fb9f-466d-adae-fe3c5eb62cb7",
   "metadata": {},
   "outputs": [],
   "source": []
  }
 ],
 "metadata": {
  "kernelspec": {
   "display_name": "Python 3",
   "language": "python",
   "name": "python3"
  },
  "language_info": {
   "codemirror_mode": {
    "name": "ipython",
    "version": 3
   },
   "file_extension": ".py",
   "mimetype": "text/x-python",
   "name": "python",
   "nbconvert_exporter": "python",
   "pygments_lexer": "ipython3",
   "version": "3.6.9"
  }
 },
 "nbformat": 4,
 "nbformat_minor": 5
}
