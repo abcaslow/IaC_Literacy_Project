{
 "cells": [
  {
   "cell_type": "markdown",
   "id": "be0f113f-34ee-431b-9f48-cc16c8b0f8a2",
   "metadata": {},
   "source": [
    "<b>Distance = Rate * Time</b>\n",
    "Flaw in the model used in this Notebook: We are applying constant velocity only in the following Notebook.  No runner acceleration is measured.  \n"
   ]
  },
  {
   "cell_type": "code",
   "execution_count": 147,
   "id": "f82895ab-3679-4931-8ed4-de861ab97974",
   "metadata": {},
   "outputs": [],
   "source": [
    "import numpy as np"
   ]
  },
  {
   "cell_type": "code",
   "execution_count": 148,
   "id": "00c05d5a-603c-442d-b27d-6ccb65dd2431",
   "metadata": {},
   "outputs": [],
   "source": [
    "time = np.arange(0,31)\n",
    "time = np.arange(0,16,0.5)"
   ]
  },
  {
   "cell_type": "code",
   "execution_count": 149,
   "id": "0d3afabc-1d76-43a3-a934-5ee452ec1323",
   "metadata": {},
   "outputs": [
    {
     "data": {
      "text/plain": [
       "array([ 0. ,  0.5,  1. ,  1.5,  2. ,  2.5,  3. ,  3.5,  4. ,  4.5,  5. ,\n",
       "        5.5,  6. ,  6.5,  7. ,  7.5,  8. ,  8.5,  9. ,  9.5, 10. , 10.5,\n",
       "       11. , 11.5, 12. , 12.5, 13. , 13.5, 14. , 14.5, 15. , 15.5])"
      ]
     },
     "execution_count": 149,
     "metadata": {},
     "output_type": "execute_result"
    }
   ],
   "source": [
    "time"
   ]
  },
  {
   "cell_type": "code",
   "execution_count": 150,
   "id": "070a4497-3c1e-4b67-98d2-2d28d93f9157",
   "metadata": {},
   "outputs": [],
   "source": [
    "runner1=a*40"
   ]
  },
  {
   "cell_type": "code",
   "execution_count": 151,
   "id": "90a196b5-6fda-4c32-a9c3-744093027bfe",
   "metadata": {},
   "outputs": [
    {
     "data": {
      "text/plain": [
       "array([  0.,  20.,  40.,  60.,  80., 100., 120., 140., 160., 180., 200.,\n",
       "       220., 240., 260., 280., 300., 320., 340., 360., 380., 400., 420.,\n",
       "       440., 460., 480., 500., 520., 540., 560., 580., 600., 620.])"
      ]
     },
     "execution_count": 151,
     "metadata": {},
     "output_type": "execute_result"
    }
   ],
   "source": [
    "runner1"
   ]
  },
  {
   "cell_type": "code",
   "execution_count": 152,
   "id": "f8e35920-48b5-4aac-8fda-0c90b3994001",
   "metadata": {},
   "outputs": [],
   "source": [
    "runner2=(a*20)+40"
   ]
  },
  {
   "cell_type": "code",
   "execution_count": 153,
   "id": "89f5914d-f3bf-4f0a-a2c1-0ad1c955a39a",
   "metadata": {},
   "outputs": [
    {
     "data": {
      "text/plain": [
       "array([ 40.,  50.,  60.,  70.,  80.,  90., 100., 110., 120., 130., 140.,\n",
       "       150., 160., 170., 180., 190., 200., 210., 220., 230., 240., 250.,\n",
       "       260., 270., 280., 290., 300., 310., 320., 330., 340., 350.])"
      ]
     },
     "execution_count": 153,
     "metadata": {},
     "output_type": "execute_result"
    }
   ],
   "source": [
    "runner2"
   ]
  },
  {
   "cell_type": "markdown",
   "id": "502a7eaa-d448-4b54-a607-de53a1fd8b9e",
   "metadata": {},
   "source": [
    "Let's subtract the <b>runner2</b> array from the <b>runner1</b> array."
   ]
  },
  {
   "cell_type": "code",
   "execution_count": 154,
   "id": "1beefa0d-5dff-46f9-b50e-c47a745331a6",
   "metadata": {},
   "outputs": [],
   "source": [
    "x=runner2-runner1"
   ]
  },
  {
   "cell_type": "code",
   "execution_count": 155,
   "id": "dba2d9ca-facc-4bdf-96b7-f49983a17b5f",
   "metadata": {},
   "outputs": [
    {
     "data": {
      "text/plain": [
       "array([  40.,   30.,   20.,   10.,    0.,  -10.,  -20.,  -30.,  -40.,\n",
       "        -50.,  -60.,  -70.,  -80.,  -90., -100., -110., -120., -130.,\n",
       "       -140., -150., -160., -170., -180., -190., -200., -210., -220.,\n",
       "       -230., -240., -250., -260., -270.])"
      ]
     },
     "execution_count": 155,
     "metadata": {},
     "output_type": "execute_result"
    }
   ],
   "source": [
    "x"
   ]
  },
  {
   "cell_type": "markdown",
   "id": "793c7d97-8ff5-4ea0-a7a7-b9857a5b9ce7",
   "metadata": {},
   "source": [
    "Let' construct a Berkeley table with these three arrays"
   ]
  },
  {
   "cell_type": "code",
   "execution_count": 156,
   "id": "661629c3-e277-4aab-8253-59a2d8949f83",
   "metadata": {},
   "outputs": [],
   "source": [
    "from datascience import Table"
   ]
  },
  {
   "cell_type": "code",
   "execution_count": 160,
   "id": "e8fbc1a0-2d5b-4b11-b276-a1186cc9ddca",
   "metadata": {},
   "outputs": [],
   "source": [
    "runner_table=Table().with_columns(['Time',time,'Runner #1',runner1,'Runner #2',runner2])"
   ]
  },
  {
   "cell_type": "code",
   "execution_count": 161,
   "id": "94264761-bf46-4fda-acf0-8d68f5b83f8f",
   "metadata": {},
   "outputs": [
    {
     "data": {
      "text/html": [
       "<table border=\"1\" class=\"dataframe\">\n",
       "    <thead>\n",
       "        <tr>\n",
       "            <th>Time</th> <th>Runner #1</th> <th>Runner #2</th>\n",
       "        </tr>\n",
       "    </thead>\n",
       "    <tbody>\n",
       "        <tr>\n",
       "            <td>0   </td> <td>0        </td> <td>40       </td>\n",
       "        </tr>\n",
       "        <tr>\n",
       "            <td>0.5 </td> <td>20       </td> <td>50       </td>\n",
       "        </tr>\n",
       "        <tr>\n",
       "            <td>1   </td> <td>40       </td> <td>60       </td>\n",
       "        </tr>\n",
       "        <tr>\n",
       "            <td>1.5 </td> <td>60       </td> <td>70       </td>\n",
       "        </tr>\n",
       "        <tr>\n",
       "            <td>2   </td> <td>80       </td> <td>80       </td>\n",
       "        </tr>\n",
       "        <tr>\n",
       "            <td>2.5 </td> <td>100      </td> <td>90       </td>\n",
       "        </tr>\n",
       "        <tr>\n",
       "            <td>3   </td> <td>120      </td> <td>100      </td>\n",
       "        </tr>\n",
       "        <tr>\n",
       "            <td>3.5 </td> <td>140      </td> <td>110      </td>\n",
       "        </tr>\n",
       "        <tr>\n",
       "            <td>4   </td> <td>160      </td> <td>120      </td>\n",
       "        </tr>\n",
       "        <tr>\n",
       "            <td>4.5 </td> <td>180      </td> <td>130      </td>\n",
       "        </tr>\n",
       "    </tbody>\n",
       "</table>\n",
       "<p>... (22 rows omitted)</p>"
      ],
      "text/plain": [
       "Time | Runner #1 | Runner #2\n",
       "0    | 0         | 40\n",
       "0.5  | 20        | 50\n",
       "1    | 40        | 60\n",
       "1.5  | 60        | 70\n",
       "2    | 80        | 80\n",
       "2.5  | 100       | 90\n",
       "3    | 120       | 100\n",
       "3.5  | 140       | 110\n",
       "4    | 160       | 120\n",
       "4.5  | 180       | 130\n",
       "... (22 rows omitted)"
      ]
     },
     "execution_count": 161,
     "metadata": {},
     "output_type": "execute_result"
    }
   ],
   "source": [
    "runner_table"
   ]
  },
  {
   "cell_type": "code",
   "execution_count": 122,
   "id": "3f17cc7b-7bd5-45fc-9442-d28c65dfd754",
   "metadata": {},
   "outputs": [],
   "source": [
    "a = np.arange(1,16,0.5)"
   ]
  },
  {
   "cell_type": "code",
   "execution_count": 123,
   "id": "ede5cd01-d221-4e6c-9ed3-12565cf13f4a",
   "metadata": {},
   "outputs": [],
   "source": [
    "t=Table().with_columns(['a',a,'bruce',bruce,'bolt',bolt])"
   ]
  },
  {
   "cell_type": "code",
   "execution_count": 108,
   "id": "82b1e48e-f792-4d54-88c3-6ea2da126d03",
   "metadata": {},
   "outputs": [
    {
     "data": {
      "text/html": [
       "<table border=\"1\" class=\"dataframe\">\n",
       "    <thead>\n",
       "        <tr>\n",
       "            <th>a</th> <th>bruce</th> <th>bolt</th>\n",
       "        </tr>\n",
       "    </thead>\n",
       "    <tbody>\n",
       "        <tr>\n",
       "            <td>0   </td> <td>40   </td> <td>0   </td>\n",
       "        </tr>\n",
       "        <tr>\n",
       "            <td>1   </td> <td>50   </td> <td>40  </td>\n",
       "        </tr>\n",
       "        <tr>\n",
       "            <td>2   </td> <td>60   </td> <td>80  </td>\n",
       "        </tr>\n",
       "        <tr>\n",
       "            <td>3   </td> <td>70   </td> <td>120 </td>\n",
       "        </tr>\n",
       "        <tr>\n",
       "            <td>4   </td> <td>80   </td> <td>160 </td>\n",
       "        </tr>\n",
       "        <tr>\n",
       "            <td>5   </td> <td>90   </td> <td>200 </td>\n",
       "        </tr>\n",
       "        <tr>\n",
       "            <td>6   </td> <td>100  </td> <td>240 </td>\n",
       "        </tr>\n",
       "        <tr>\n",
       "            <td>7   </td> <td>110  </td> <td>280 </td>\n",
       "        </tr>\n",
       "        <tr>\n",
       "            <td>8   </td> <td>120  </td> <td>320 </td>\n",
       "        </tr>\n",
       "        <tr>\n",
       "            <td>9   </td> <td>130  </td> <td>360 </td>\n",
       "        </tr>\n",
       "    </tbody>\n",
       "</table>\n",
       "<p>... (20 rows omitted)</p>"
      ],
      "text/plain": [
       "a    | bruce | bolt\n",
       "0    | 40    | 0\n",
       "1    | 50    | 40\n",
       "2    | 60    | 80\n",
       "3    | 70    | 120\n",
       "4    | 80    | 160\n",
       "5    | 90    | 200\n",
       "6    | 100   | 240\n",
       "7    | 110   | 280\n",
       "8    | 120   | 320\n",
       "9    | 130   | 360\n",
       "... (20 rows omitted)"
      ]
     },
     "execution_count": 108,
     "metadata": {},
     "output_type": "execute_result"
    }
   ],
   "source": [
    "t"
   ]
  },
  {
   "cell_type": "code",
   "execution_count": null,
   "id": "b622006a-c055-476d-a938-c1353b42500f",
   "metadata": {},
   "outputs": [],
   "source": []
  },
  {
   "cell_type": "code",
   "execution_count": null,
   "id": "beadf6d1-1b38-4b8a-9029-89ef46f9c31a",
   "metadata": {},
   "outputs": [],
   "source": []
  }
 ],
 "metadata": {
  "kernelspec": {
   "display_name": "Python 3",
   "language": "python",
   "name": "python3"
  },
  "language_info": {
   "codemirror_mode": {
    "name": "ipython",
    "version": 3
   },
   "file_extension": ".py",
   "mimetype": "text/x-python",
   "name": "python",
   "nbconvert_exporter": "python",
   "pygments_lexer": "ipython3",
   "version": "3.6.9"
  }
 },
 "nbformat": 4,
 "nbformat_minor": 5
}
