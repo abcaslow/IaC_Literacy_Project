{
 "cells": [
  {
   "cell_type": "markdown",
   "id": "59c4dd3e-88a3-4e19-9b13-081af3a1256d",
   "metadata": {},
   "source": [
    "# \"All Models Are Wrong. Some Are Useful\" #\n",
    "## A Simple Model of Python Data Types ##\n",
    "The Simple Periodic Table of Python Data Types!\n",
    "Just as all matter in the universe can be reduced to elements in the Period Table of Elements, all Python Data can be reduced to Python Data Types.\n",
    "\n",
    "While there are many Python Data Types, we will focus on only six in this Jupyter Notebook Lesson: Four Simple Python Data Types: (1) String, (2) Integer, (3) Float, (4) Boolean and Three Compound or Composite Python Data Types: (1) List, (2) Dictionary, (3) Numpy Array.\n",
    "\n",
    "Let's begin! Out of the four simple Python Data Types listed above - string, integer, float, boolean - what is the variable displayed in the Jupyter cell below:"
   ]
  },
  {
   "cell_type": "code",
   "execution_count": null,
   "id": "2500134f-40bb-4eff-a853-da53d455d162",
   "metadata": {},
   "outputs": [],
   "source": [
    "x='cat'"
   ]
  },
  {
   "cell_type": "code",
   "execution_count": null,
   "id": "8f18d9a3-a076-40f8-8775-7c539651a7d9",
   "metadata": {},
   "outputs": [],
   "source": [
    "#Your Answer"
   ]
  },
  {
   "cell_type": "markdown",
   "id": "0015217d-393a-4d14-888b-a5b7676758b7",
   "metadata": {},
   "source": [
    "Use the DS4HS \"proof by Python\" technique to prove and verify the Python Data Type of variable \"x\" by using the type(x) statement."
   ]
  },
  {
   "cell_type": "code",
   "execution_count": null,
   "id": "07222be6-e700-4715-8025-6a0b79cdf4ea",
   "metadata": {},
   "outputs": [],
   "source": []
  },
  {
   "cell_type": "markdown",
   "id": "7c5bdaba-d888-4508-9442-24ccddba4a56",
   "metadata": {},
   "source": [
    "Out of the four simple Python Data Types listed above - string, integer, float, boolean - what is the variable displayed in the Jupyter cell below:"
   ]
  },
  {
   "cell_type": "code",
   "execution_count": null,
   "id": "8d71f0aa-5cad-450b-a91f-eb5b7d4e4137",
   "metadata": {},
   "outputs": [],
   "source": [
    "y=10"
   ]
  },
  {
   "cell_type": "code",
   "execution_count": null,
   "id": "d739074b-3c79-4620-a537-174229a279d7",
   "metadata": {},
   "outputs": [],
   "source": [
    "#Your Answer"
   ]
  },
  {
   "cell_type": "markdown",
   "id": "9f8732e9-66de-412a-b89a-b4953bf17dc4",
   "metadata": {},
   "source": [
    "Use the DS4HS \"proof by Python\" technique to prove and verify the Python Data Type of variable \"y\" by using the type(y) statement."
   ]
  },
  {
   "cell_type": "code",
   "execution_count": null,
   "id": "68a74d03-ef78-4eaa-b896-76743778f7f1",
   "metadata": {},
   "outputs": [],
   "source": []
  },
  {
   "cell_type": "markdown",
   "id": "051eef68-45b9-40a8-b859-265d35dbcad4",
   "metadata": {},
   "source": [
    "Out of the four simple Python Data Types listed above - string, integer, float, boolean - what is the variable displayed in the Jupyter cell below:"
   ]
  },
  {
   "cell_type": "code",
   "execution_count": null,
   "id": "966dee84-19ae-4f1c-95f7-1ce42b031876",
   "metadata": {},
   "outputs": [],
   "source": [
    "z=10.5"
   ]
  },
  {
   "cell_type": "code",
   "execution_count": null,
   "id": "667de546-a5e5-4c1f-bafd-1f3b44307019",
   "metadata": {},
   "outputs": [],
   "source": [
    "#Your Answer"
   ]
  },
  {
   "cell_type": "markdown",
   "id": "30e8af28-1c3e-4a06-949c-a281f86c34eb",
   "metadata": {},
   "source": [
    "Use the DS4HS \"proof by Python\" technique to prove and verify the Python Data Type of variable \"z\" by using the type(z) statement."
   ]
  },
  {
   "cell_type": "code",
   "execution_count": null,
   "id": "735eea9e-3944-4b25-9508-9f6f4f331e2e",
   "metadata": {},
   "outputs": [],
   "source": []
  },
  {
   "cell_type": "markdown",
   "id": "d7d0003d-2c0d-4226-b35c-d1a7140059e4",
   "metadata": {},
   "source": [
    "Out of the four simple Python Data Types listed above - string, integer, float, boolean - what is the variable displayed in the Jupyter cell below:"
   ]
  },
  {
   "cell_type": "code",
   "execution_count": null,
   "id": "8dddca36-bd5d-4246-a3de-471155a6cb68",
   "metadata": {},
   "outputs": [],
   "source": [
    "b=y<1"
   ]
  },
  {
   "cell_type": "code",
   "execution_count": null,
   "id": "c1ebfcb5-1f79-458a-bd51-efd0418f51ae",
   "metadata": {},
   "outputs": [],
   "source": [
    "#Your Answer"
   ]
  },
  {
   "cell_type": "markdown",
   "id": "324fbe90-97ba-4258-a64d-8df18ee0e2ee",
   "metadata": {},
   "source": [
    "Use the DS4HS \"proof by Python\" technique to prove and verify the Python Data Type of variable \"b\" by using the type(b) statement."
   ]
  },
  {
   "cell_type": "markdown",
   "id": "401bdf2f-0acf-4560-8d14-8bd7676ab8cd",
   "metadata": {},
   "source": [
    "Use the following number assigned to the Python varaible \"tricky\" and add it to your Python variable \"y\" defined above.\n",
    "\n",
    "Remember 'y'=10"
   ]
  },
  {
   "cell_type": "code",
   "execution_count": null,
   "id": "c6098064-958f-4ea5-89f6-514ea0afbc78",
   "metadata": {},
   "outputs": [],
   "source": [
    "tricky='100'\n",
    "iamawiz = tricky+y"
   ]
  },
  {
   "cell_type": "markdown",
   "id": "beed50d5-12e6-4799-8002-43d0b33c1e55",
   "metadata": {},
   "source": [
    "What is the problem?"
   ]
  },
  {
   "cell_type": "code",
   "execution_count": null,
   "id": "8ec1d71c-43c2-4e07-be32-28e344332245",
   "metadata": {},
   "outputs": [],
   "source": [
    "#Your answer."
   ]
  },
  {
   "cell_type": "markdown",
   "id": "34b1d0b8-7047-4eb5-8e88-df0caf677e73",
   "metadata": {},
   "source": [
    "How can you resolve the issue without completely redefining the Python data types of variables 'y' and 'tricky'?"
   ]
  },
  {
   "cell_type": "markdown",
   "id": "35db9993-c6b5-4302-af83-4eb48fa624db",
   "metadata": {},
   "source": [
    "## SECTION TWO ##\n",
    "\n",
    "Exploring Available Python Methods and Functions for the String, Integer, Float and Boolean Data Types\n",
    "Understanding the Python Dot \".\" Notation\n",
    "Using dir(), help() statements and using the Jupyter/iPython ? and ?? feature"
   ]
  },
  {
   "cell_type": "markdown",
   "id": "69f770f7-1a75-4a1b-a162-3b5f5f6b7510",
   "metadata": {},
   "source": [
    "Explore the variable \"x\" with dir(x) and help(x).\n",
    "\n",
    "For dir(x), ignore all items listed the start with an underscore or double underscore"
   ]
  },
  {
   "cell_type": "code",
   "execution_count": null,
   "id": "3e18250e-957d-4790-b187-5e4463ceac02",
   "metadata": {},
   "outputs": [],
   "source": [
    "dir(x)\n",
    "help(x)\n",
    "?x\n",
    "??x\n",
    "help(str)\n",
    "??str"
   ]
  },
  {
   "cell_type": "markdown",
   "id": "8285e3be-b68f-4756-a8ea-de233ea76a81",
   "metadata": {},
   "source": [
    "Explore the variable \"y\" with dir(y) and help(y).\n",
    "\n",
    "For dir(y), ignore all items listed the start with an underscore or double underscore"
   ]
  },
  {
   "cell_type": "code",
   "execution_count": null,
   "id": "93916f69-db72-4d10-aefb-f54e13086f8e",
   "metadata": {},
   "outputs": [],
   "source": [
    "dir(y)\n",
    "help(y)\n",
    "#?y\n",
    "#??y\n",
    "#help(int)\n",
    "#??int"
   ]
  },
  {
   "cell_type": "markdown",
   "id": "21319474-0bc3-4825-8460-12706fd14f6a",
   "metadata": {},
   "source": [
    "Explore the variable \"z\" with dir(z) and help(z).\n",
    "\n",
    "For dir(y), ignore all items listed the start with an underscore or double underscore"
   ]
  },
  {
   "cell_type": "code",
   "execution_count": null,
   "id": "ee59eb31-5f43-4088-ad05-546631f8b73e",
   "metadata": {},
   "outputs": [],
   "source": []
  },
  {
   "cell_type": "markdown",
   "id": "121baa04-fdaa-4c01-b7f3-3bbe5f36069c",
   "metadata": {},
   "source": [
    "Explore the variable \"z\" with dir(z) and help(z).\n",
    "\n",
    "For dir(z), ignore all items listed the start with an underscore or double underscore"
   ]
  },
  {
   "cell_type": "code",
   "execution_count": null,
   "id": "945e6d9a-5a78-4363-95b9-905e1e952124",
   "metadata": {},
   "outputs": [],
   "source": []
  }
 ],
 "metadata": {
  "kernelspec": {
   "display_name": "Python 3",
   "language": "python",
   "name": "python3"
  },
  "language_info": {
   "codemirror_mode": {
    "name": "ipython",
    "version": 3
   },
   "file_extension": ".py",
   "mimetype": "text/x-python",
   "name": "python",
   "nbconvert_exporter": "python",
   "pygments_lexer": "ipython3",
   "version": "3.6.9"
  }
 },
 "nbformat": 4,
 "nbformat_minor": 5
}
