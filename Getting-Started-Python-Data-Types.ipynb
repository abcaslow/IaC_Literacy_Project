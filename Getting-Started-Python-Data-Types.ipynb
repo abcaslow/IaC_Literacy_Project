{
 "cells": [
  {
   "cell_type": "markdown",
   "id": "59c4dd3e-88a3-4e19-9b13-081af3a1256d",
   "metadata": {},
   "source": [
    "# \"All Models Are Wrong. Some Models Are Useful\" #\n",
    "## A Simple Model of Python Data Types ##\n",
    "The Simple Periodic Table of Python Data Types!\n",
    "Just as all matter in the universe can be reduced to elements in the Period Table of Elements, all Python Data can be reduced to Python Data Types.\n",
    "\n",
    "While there are many Python Data Types, we will focus on only seven in this Jupyter Notebook Lesson: Four <b>Simple Python Data Types</b>: (1) String, (2) Integer, (3) Float, (4) Boolean and Three <b>Compound or Composite Python Data Types</b>: (1) List, (2) Dictionary, (3) Numpy Array.\n",
    "\n",
    "Let's begin! Out of the four simple Python Data Types listed above - string, integer, float, boolean. What is the variable displayed in the Jupyter cell below:"
   ]
  },
  {
   "cell_type": "code",
   "execution_count": null,
   "id": "2500134f-40bb-4eff-a853-da53d455d162",
   "metadata": {},
   "outputs": [],
   "source": [
    "x='cat'"
   ]
  },
  {
   "cell_type": "code",
   "execution_count": null,
   "id": "8f18d9a3-a076-40f8-8775-7c539651a7d9",
   "metadata": {},
   "outputs": [],
   "source": [
    "#Your Answer"
   ]
  },
  {
   "cell_type": "markdown",
   "id": "0015217d-393a-4d14-888b-a5b7676758b7",
   "metadata": {},
   "source": [
    "Use the DS4HS \"proof by Python\" technique to prove and verify the Python Data Type of variable \"x\" by using the type(x) statement."
   ]
  },
  {
   "cell_type": "code",
   "execution_count": null,
   "id": "07222be6-e700-4715-8025-6a0b79cdf4ea",
   "metadata": {},
   "outputs": [],
   "source": [
    "type(x)"
   ]
  },
  {
   "cell_type": "markdown",
   "id": "7c5bdaba-d888-4508-9442-24ccddba4a56",
   "metadata": {},
   "source": [
    "Out of the four simple Python Data Types listed above - string, integer, float, boolean - what is the variable displayed in the Jupyter cell below:"
   ]
  },
  {
   "cell_type": "code",
   "execution_count": null,
   "id": "8d71f0aa-5cad-450b-a91f-eb5b7d4e4137",
   "metadata": {},
   "outputs": [],
   "source": [
    "y=10"
   ]
  },
  {
   "cell_type": "code",
   "execution_count": null,
   "id": "d739074b-3c79-4620-a537-174229a279d7",
   "metadata": {},
   "outputs": [],
   "source": [
    "#Integer"
   ]
  },
  {
   "cell_type": "markdown",
   "id": "9f8732e9-66de-412a-b89a-b4953bf17dc4",
   "metadata": {},
   "source": [
    "Use the DS4HS \"proof by Python\" technique to prove and verify the Python Data Type of variable \"y\" by using the type(y) statement."
   ]
  },
  {
   "cell_type": "code",
   "execution_count": null,
   "id": "68a74d03-ef78-4eaa-b896-76743778f7f1",
   "metadata": {},
   "outputs": [],
   "source": [
    "type(y)"
   ]
  },
  {
   "cell_type": "markdown",
   "id": "051eef68-45b9-40a8-b859-265d35dbcad4",
   "metadata": {},
   "source": [
    "Out of the four simple Python Data Types listed above - string, integer, float, boolean - what is the variable displayed in the Jupyter cell below:"
   ]
  },
  {
   "cell_type": "code",
   "execution_count": null,
   "id": "966dee84-19ae-4f1c-95f7-1ce42b031876",
   "metadata": {},
   "outputs": [],
   "source": [
    "z=10.5"
   ]
  },
  {
   "cell_type": "code",
   "execution_count": null,
   "id": "667de546-a5e5-4c1f-bafd-1f3b44307019",
   "metadata": {},
   "outputs": [],
   "source": [
    "#float"
   ]
  },
  {
   "cell_type": "markdown",
   "id": "30e8af28-1c3e-4a06-949c-a281f86c34eb",
   "metadata": {},
   "source": [
    "Use the DS4HS \"proof by Python\" technique to prove and verify the Python Data Type of variable \"z\" by using the type(z) statement."
   ]
  },
  {
   "cell_type": "code",
   "execution_count": null,
   "id": "735eea9e-3944-4b25-9508-9f6f4f331e2e",
   "metadata": {},
   "outputs": [],
   "source": [
    "type(z)"
   ]
  },
  {
   "cell_type": "markdown",
   "id": "d7d0003d-2c0d-4226-b35c-d1a7140059e4",
   "metadata": {},
   "source": [
    "Out of the four simple Python Data Types listed above - string, integer, float, boolean - what is the variable displayed in the Jupyter cell below:"
   ]
  },
  {
   "cell_type": "code",
   "execution_count": null,
   "id": "8dddca36-bd5d-4246-a3de-471155a6cb68",
   "metadata": {},
   "outputs": [],
   "source": [
    "b=y>1 \n",
    "b"
   ]
  },
  {
   "cell_type": "code",
   "execution_count": null,
   "id": "c1ebfcb5-1f79-458a-bd51-efd0418f51ae",
   "metadata": {},
   "outputs": [],
   "source": [
    "#Boolean"
   ]
  },
  {
   "cell_type": "markdown",
   "id": "324fbe90-97ba-4258-a64d-8df18ee0e2ee",
   "metadata": {},
   "source": [
    "Use the DS4HS \"proof by Python\" technique to prove and verify the Python Data Type of variable \"b\" by using the type(b) statement."
   ]
  },
  {
   "cell_type": "code",
   "execution_count": null,
   "id": "6d4372c7-f577-47c6-bf0d-51ad41ca4b08",
   "metadata": {},
   "outputs": [],
   "source": [
    "type(b)"
   ]
  },
  {
   "cell_type": "markdown",
   "id": "401bdf2f-0acf-4560-8d14-8bd7676ab8cd",
   "metadata": {},
   "source": [
    "Use the following number assigned to the Python varaible \"tricky\" and add it to your Python variable \"y\" defined above.\n",
    "\n",
    "Remember 'y'=10"
   ]
  },
  {
   "cell_type": "code",
   "execution_count": null,
   "id": "c6098064-958f-4ea5-89f6-514ea0afbc78",
   "metadata": {},
   "outputs": [],
   "source": [
    "tricky= 100\n",
    "iamawiz = tricky+y\n",
    "iamawiz"
   ]
  },
  {
   "cell_type": "markdown",
   "id": "beed50d5-12e6-4799-8002-43d0b33c1e55",
   "metadata": {},
   "source": [
    "What is the problem?"
   ]
  },
  {
   "cell_type": "code",
   "execution_count": null,
   "id": "8ec1d71c-43c2-4e07-be32-28e344332245",
   "metadata": {},
   "outputs": [],
   "source": [
    "#Your answer."
   ]
  },
  {
   "cell_type": "markdown",
   "id": "34b1d0b8-7047-4eb5-8e88-df0caf677e73",
   "metadata": {},
   "source": [
    "How can you resolve the issue without completely redefining the Python data types of variables 'y' and 'tricky'?"
   ]
  },
  {
   "cell_type": "markdown",
   "id": "35db9993-c6b5-4302-af83-4eb48fa624db",
   "metadata": {
    "jupyter": {
     "source_hidden": true
    },
    "tags": []
   },
   "source": [
    "## SECTION TWO ##\n",
    "\n",
    "Exploring Available Python Methods and Functions for the String, Integer, Float and Boolean Data Types\n",
    "Understanding the Python Dot \".\" Notation\n",
    "Using dir(), help() statements and using the Jupyter/iPython ? and ?? feature"
   ]
  },
  {
   "cell_type": "markdown",
   "id": "69f770f7-1a75-4a1b-a162-3b5f5f6b7510",
   "metadata": {},
   "source": [
    "Explore the variable \"x\" with dir(x) and help(x).\n",
    "\n",
    "For dir(x), ignore all items listed the start with an underscore or double underscore"
   ]
  },
  {
   "cell_type": "code",
   "execution_count": null,
   "id": "3e18250e-957d-4790-b187-5e4463ceac02",
   "metadata": {},
   "outputs": [],
   "source": [
    "#dir(x)\n",
    "#help(str)\n",
    "#??str\n",
    "x=\"Robinson Secondary School Fairfax VA\"\n",
    "xlist=x.split()\n",
    "type(xlist)"
   ]
  },
  {
   "cell_type": "code",
   "execution_count": null,
   "id": "dee9b20e-0751-421d-b531-4902486c87f6",
   "metadata": {},
   "outputs": [],
   "source": [
    "for i in xlist: print(i)"
   ]
  },
  {
   "cell_type": "markdown",
   "id": "8285e3be-b68f-4756-a8ea-de233ea76a81",
   "metadata": {},
   "source": [
    "Explore the variable \"y\" with dir(y) and help(y).\n",
    "\n",
    "For dir(y), ignore all items listed the start with an underscore or double underscore"
   ]
  },
  {
   "cell_type": "code",
   "execution_count": null,
   "id": "93916f69-db72-4d10-aefb-f54e13086f8e",
   "metadata": {},
   "outputs": [],
   "source": [
    "#dir(y)\n",
    "#help(y)\n",
    "#?y\n",
    "#??y\n",
    "#help(int)\n",
    "#??int"
   ]
  },
  {
   "cell_type": "markdown",
   "id": "21319474-0bc3-4825-8460-12706fd14f6a",
   "metadata": {},
   "source": [
    "Explore the variable \"z\" with dir(z) and help(z).\n",
    "\n",
    "For dir(y), ignore all items listed the start with an underscore or double underscore"
   ]
  },
  {
   "cell_type": "code",
   "execution_count": null,
   "id": "ee59eb31-5f43-4088-ad05-546631f8b73e",
   "metadata": {},
   "outputs": [],
   "source": []
  },
  {
   "cell_type": "code",
   "execution_count": null,
   "id": "25261d67-61e8-438f-bca0-27eaa8b82cdc",
   "metadata": {},
   "outputs": [],
   "source": []
  },
  {
   "cell_type": "markdown",
   "id": "121baa04-fdaa-4c01-b7f3-3bbe5f36069c",
   "metadata": {},
   "source": [
    "Explore the variable \"z\" with dir(z) and help(z).\n",
    "\n",
    "For dir(z), ignore all items listed the start with an underscore or double underscore"
   ]
  },
  {
   "cell_type": "code",
   "execution_count": null,
   "id": "945e6d9a-5a78-4363-95b9-905e1e952124",
   "metadata": {},
   "outputs": [],
   "source": [
    "from datascience import Table\n",
    "import numpy as kp"
   ]
  },
  {
   "cell_type": "code",
   "execution_count": null,
   "id": "af0d08de-3ed0-49f1-bc5e-379509ad7c89",
   "metadata": {},
   "outputs": [],
   "source": [
    "arraydata=Table.read_table('/home/abcaslow/heartrate.csv')\n",
    "arraydata.column('heartrate')[800:850]"
   ]
  },
  {
   "cell_type": "code",
   "execution_count": null,
   "id": "e7ac2747-ff13-41a6-b088-231314d668d4",
   "metadata": {},
   "outputs": [],
   "source": [
    "kp.max(arraydata.column('timestamp'))"
   ]
  },
  {
   "cell_type": "code",
   "execution_count": null,
   "id": "162d068e-e64c-43fa-8760-5ceddf73ee05",
   "metadata": {},
   "outputs": [],
   "source": [
    "arraydata.column('heartrate').dtype"
   ]
  },
  {
   "cell_type": "code",
   "execution_count": null,
   "id": "1d3332b2-5086-4406-805a-139457408463",
   "metadata": {},
   "outputs": [],
   "source": [
    "#dir(np)"
   ]
  },
  {
   "cell_type": "code",
   "execution_count": null,
   "id": "e8b896be-d148-43cd-977c-6c17a4efb8c3",
   "metadata": {},
   "outputs": [],
   "source": []
  },
  {
   "cell_type": "code",
   "execution_count": null,
   "id": "257791af-8ede-4031-a2e8-2ef47a1d24f1",
   "metadata": {},
   "outputs": [],
   "source": [
    "f=open('/home/abcaslow/heartrate.csv')"
   ]
  },
  {
   "cell_type": "code",
   "execution_count": null,
   "id": "ab4019c2-0209-42fa-9ee4-28fdb5c27122",
   "metadata": {},
   "outputs": [],
   "source": []
  },
  {
   "cell_type": "code",
   "execution_count": null,
   "id": "3633d1e3-c67b-4814-989f-4361a4768132",
   "metadata": {},
   "outputs": [],
   "source": []
  },
  {
   "cell_type": "code",
   "execution_count": null,
   "id": "2b293468-c17f-4ebf-8335-fbf8fd4f3fe9",
   "metadata": {},
   "outputs": [],
   "source": [
    "s=f.read()"
   ]
  },
  {
   "cell_type": "code",
   "execution_count": null,
   "id": "42521ac2-5cc1-4268-83dd-3bfb46ff8d7b",
   "metadata": {},
   "outputs": [],
   "source": [
    "type(s)"
   ]
  },
  {
   "cell_type": "code",
   "execution_count": null,
   "id": "000a3575-7610-4780-998b-de3af959cd95",
   "metadata": {},
   "outputs": [],
   "source": [
    "robowiz=s.split('\\n')"
   ]
  },
  {
   "cell_type": "code",
   "execution_count": null,
   "id": "f988b174-cc45-4c82-bebb-d19725a080a8",
   "metadata": {},
   "outputs": [],
   "source": [
    "del robowiz[10:]"
   ]
  },
  {
   "cell_type": "code",
   "execution_count": null,
   "id": "fed241b0-ad06-4ac1-b6e6-74f92122b97d",
   "metadata": {},
   "outputs": [],
   "source": [
    "robowiz"
   ]
  },
  {
   "cell_type": "code",
   "execution_count": null,
   "id": "682c2bb1-89b3-461b-a550-a3c6628d507d",
   "metadata": {},
   "outputs": [],
   "source": [
    "robowiz2=robowiz.split(',')\n",
    "robowiz2"
   ]
  },
  {
   "cell_type": "code",
   "execution_count": null,
   "id": "d645a036-d387-42ff-91ca-ff6b93acb54b",
   "metadata": {},
   "outputs": [],
   "source": [
    "for i in robowiz: \n",
    "    print(i.split(','))"
   ]
  },
  {
   "cell_type": "code",
   "execution_count": null,
   "id": "05e2e8ac-60ee-467b-87c5-c69b98657ac8",
   "metadata": {},
   "outputs": [],
   "source": [
    "wiz=[i.split(',') for i in robowiz] # This is called \"list comprehension\""
   ]
  },
  {
   "cell_type": "code",
   "execution_count": null,
   "id": "30f38dce-1de2-4a5b-90c7-4a303ead10e4",
   "metadata": {},
   "outputs": [],
   "source": [
    "wiz # It's a list of lists of strings!!!!"
   ]
  },
  {
   "cell_type": "code",
   "execution_count": null,
   "id": "14e9db73-825e-45a8-a2c3-6ca4705d0e36",
   "metadata": {},
   "outputs": [],
   "source": [
    "wiz[0] # Print the first element of the outer list."
   ]
  },
  {
   "cell_type": "code",
   "execution_count": null,
   "id": "da343d87-7882-4fab-b262-eda714dabc83",
   "metadata": {},
   "outputs": [],
   "source": [
    "x=wiz[0][1] #Assign to x: the 2nd element of the inner list inside of the 1st element of the outer list.\n",
    "x           #Double check that this is the correct value from the list of lists above."
   ]
  },
  {
   "cell_type": "code",
   "execution_count": null,
   "id": "f57d0874-4db4-4ab7-aa7d-9e66fffe65e7",
   "metadata": {},
   "outputs": [],
   "source": [
    "y=wiz[1][1] #Assign to y: the 2nd element of the inner list inside of the 2nd element of the outer list.\n",
    "y           #Double check that this is the correct value from the list of lists above."
   ]
  },
  {
   "cell_type": "code",
   "execution_count": null,
   "id": "3565bd20-26cf-4bfc-a678-505fe5819c41",
   "metadata": {},
   "outputs": [],
   "source": [
    "x+y"
   ]
  },
  {
   "cell_type": "code",
   "execution_count": null,
   "id": "9ea50588-d4e5-4180-bdf3-57f81578d2f9",
   "metadata": {},
   "outputs": [],
   "source": [
    "int(x)+int(y)"
   ]
  },
  {
   "cell_type": "code",
   "execution_count": null,
   "id": "8ff584d4-2612-4aa4-87ef-bc1a6df7ed44",
   "metadata": {},
   "outputs": [],
   "source": []
  },
  {
   "cell_type": "markdown",
   "id": "f6641c3c-63c4-48fe-ab84-9afe7a2a4117",
   "metadata": {},
   "source": [
    "[Orange Theory: What your heartrate is telling you.](https://www.orangetheory.com/en-us/articles/what-your-heartrate-is-telling-you/)\n",
    "\n",
    "Pay special attention to the arm band on Runner #1 and the wrist ban on Runner #2\n",
    "\n",
    "According to this article, Orange Theory has 1 MILLION members worldwide."
   ]
  },
  {
   "cell_type": "code",
   "execution_count": null,
   "id": "725e98f5-d21f-4151-83a4-5031f5710c07",
   "metadata": {},
   "outputs": [],
   "source": []
  }
 ],
 "metadata": {
  "kernelspec": {
   "display_name": "Python 3",
   "language": "python",
   "name": "python3"
  },
  "language_info": {
   "codemirror_mode": {
    "name": "ipython",
    "version": 3
   },
   "file_extension": ".py",
   "mimetype": "text/x-python",
   "name": "python",
   "nbconvert_exporter": "python",
   "pygments_lexer": "ipython3",
   "version": "3.6.9"
  }
 },
 "nbformat": 4,
 "nbformat_minor": 5
}
