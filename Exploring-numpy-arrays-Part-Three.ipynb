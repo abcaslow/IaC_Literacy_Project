{
 "cells": [
  {
   "cell_type": "markdown",
   "id": "be0f113f-34ee-431b-9f48-cc16c8b0f8a2",
   "metadata": {},
   "source": [
    "<b>Distance = Rate * Time</b>\n",
    "Flaw in the model used in this Notebook: We are applying constant velocity only in the following Notebook.  No runner acceleration is measured.  \n"
   ]
  },
  {
   "cell_type": "code",
   "execution_count": 31,
   "id": "f82895ab-3679-4931-8ed4-de861ab97974",
   "metadata": {},
   "outputs": [],
   "source": [
    "import numpy as np"
   ]
  },
  {
   "cell_type": "code",
   "execution_count": 32,
   "id": "00c05d5a-603c-442d-b27d-6ccb65dd2431",
   "metadata": {},
   "outputs": [],
   "source": [
    "time = np.arange(0,31)\n",
    "time = np.arange(0,16,0.5)"
   ]
  },
  {
   "cell_type": "code",
   "execution_count": 33,
   "id": "0d3afabc-1d76-43a3-a934-5ee452ec1323",
   "metadata": {},
   "outputs": [
    {
     "data": {
      "text/plain": [
       "array([ 0. ,  0.5,  1. ,  1.5,  2. ,  2.5,  3. ,  3.5,  4. ,  4.5,  5. ,\n",
       "        5.5,  6. ,  6.5,  7. ,  7.5,  8. ,  8.5,  9. ,  9.5, 10. , 10.5,\n",
       "       11. , 11.5, 12. , 12.5, 13. , 13.5, 14. , 14.5, 15. , 15.5])"
      ]
     },
     "execution_count": 33,
     "metadata": {},
     "output_type": "execute_result"
    }
   ],
   "source": [
    "time"
   ]
  },
  {
   "cell_type": "code",
   "execution_count": 34,
   "id": "070a4497-3c1e-4b67-98d2-2d28d93f9157",
   "metadata": {},
   "outputs": [],
   "source": [
    "runner1=time*40"
   ]
  },
  {
   "cell_type": "code",
   "execution_count": 35,
   "id": "90a196b5-6fda-4c32-a9c3-744093027bfe",
   "metadata": {},
   "outputs": [
    {
     "data": {
      "text/plain": [
       "array([  0.,  20.,  40.,  60.,  80., 100., 120., 140., 160., 180., 200.,\n",
       "       220., 240., 260., 280., 300., 320., 340., 360., 380., 400., 420.,\n",
       "       440., 460., 480., 500., 520., 540., 560., 580., 600., 620.])"
      ]
     },
     "execution_count": 35,
     "metadata": {},
     "output_type": "execute_result"
    }
   ],
   "source": [
    "runner1"
   ]
  },
  {
   "cell_type": "code",
   "execution_count": 36,
   "id": "f8e35920-48b5-4aac-8fda-0c90b3994001",
   "metadata": {},
   "outputs": [],
   "source": [
    "runner2=(time*30)+40"
   ]
  },
  {
   "cell_type": "code",
   "execution_count": 37,
   "id": "89f5914d-f3bf-4f0a-a2c1-0ad1c955a39a",
   "metadata": {},
   "outputs": [
    {
     "data": {
      "text/plain": [
       "array([ 40.,  55.,  70.,  85., 100., 115., 130., 145., 160., 175., 190.,\n",
       "       205., 220., 235., 250., 265., 280., 295., 310., 325., 340., 355.,\n",
       "       370., 385., 400., 415., 430., 445., 460., 475., 490., 505.])"
      ]
     },
     "execution_count": 37,
     "metadata": {},
     "output_type": "execute_result"
    }
   ],
   "source": [
    "runner2"
   ]
  },
  {
   "cell_type": "markdown",
   "id": "502a7eaa-d448-4b54-a607-de53a1fd8b9e",
   "metadata": {},
   "source": [
    "Let's subtract the <b>runner2</b> array from the <b>runner1</b> array."
   ]
  },
  {
   "cell_type": "code",
   "execution_count": 38,
   "id": "1beefa0d-5dff-46f9-b50e-c47a745331a6",
   "metadata": {},
   "outputs": [],
   "source": [
    "x=runner2-runner1"
   ]
  },
  {
   "cell_type": "code",
   "execution_count": 39,
   "id": "dba2d9ca-facc-4bdf-96b7-f49983a17b5f",
   "metadata": {},
   "outputs": [
    {
     "data": {
      "text/plain": [
       "array([  40.,   35.,   30.,   25.,   20.,   15.,   10.,    5.,    0.,\n",
       "         -5.,  -10.,  -15.,  -20.,  -25.,  -30.,  -35.,  -40.,  -45.,\n",
       "        -50.,  -55.,  -60.,  -65.,  -70.,  -75.,  -80.,  -85.,  -90.,\n",
       "        -95., -100., -105., -110., -115.])"
      ]
     },
     "execution_count": 39,
     "metadata": {},
     "output_type": "execute_result"
    }
   ],
   "source": [
    "x"
   ]
  },
  {
   "cell_type": "markdown",
   "id": "793c7d97-8ff5-4ea0-a7a7-b9857a5b9ce7",
   "metadata": {},
   "source": [
    "Let' construct a Berkeley table with these three arrays"
   ]
  },
  {
   "cell_type": "code",
   "execution_count": 40,
   "id": "661629c3-e277-4aab-8253-59a2d8949f83",
   "metadata": {},
   "outputs": [],
   "source": [
    "from datascience import Table"
   ]
  },
  {
   "cell_type": "code",
   "execution_count": 41,
   "id": "e8fbc1a0-2d5b-4b11-b276-a1186cc9ddca",
   "metadata": {},
   "outputs": [],
   "source": [
    "runner_table=Table().with_columns(['Time',time,'Runner #1',runner1,'Runner #2',runner2])"
   ]
  },
  {
   "cell_type": "code",
   "execution_count": 42,
   "id": "94264761-bf46-4fda-acf0-8d68f5b83f8f",
   "metadata": {},
   "outputs": [
    {
     "data": {
      "text/html": [
       "<table border=\"1\" class=\"dataframe\">\n",
       "    <thead>\n",
       "        <tr>\n",
       "            <th>Time</th> <th>Runner #1</th> <th>Runner #2</th>\n",
       "        </tr>\n",
       "    </thead>\n",
       "    <tbody>\n",
       "        <tr>\n",
       "            <td>0   </td> <td>0        </td> <td>40       </td>\n",
       "        </tr>\n",
       "        <tr>\n",
       "            <td>0.5 </td> <td>20       </td> <td>55       </td>\n",
       "        </tr>\n",
       "        <tr>\n",
       "            <td>1   </td> <td>40       </td> <td>70       </td>\n",
       "        </tr>\n",
       "        <tr>\n",
       "            <td>1.5 </td> <td>60       </td> <td>85       </td>\n",
       "        </tr>\n",
       "        <tr>\n",
       "            <td>2   </td> <td>80       </td> <td>100      </td>\n",
       "        </tr>\n",
       "        <tr>\n",
       "            <td>2.5 </td> <td>100      </td> <td>115      </td>\n",
       "        </tr>\n",
       "        <tr>\n",
       "            <td>3   </td> <td>120      </td> <td>130      </td>\n",
       "        </tr>\n",
       "        <tr>\n",
       "            <td>3.5 </td> <td>140      </td> <td>145      </td>\n",
       "        </tr>\n",
       "        <tr>\n",
       "            <td>4   </td> <td>160      </td> <td>160      </td>\n",
       "        </tr>\n",
       "        <tr>\n",
       "            <td>4.5 </td> <td>180      </td> <td>175      </td>\n",
       "        </tr>\n",
       "    </tbody>\n",
       "</table>\n",
       "<p>... (22 rows omitted)</p>"
      ],
      "text/plain": [
       "Time | Runner #1 | Runner #2\n",
       "0    | 0         | 40\n",
       "0.5  | 20        | 55\n",
       "1    | 40        | 70\n",
       "1.5  | 60        | 85\n",
       "2    | 80        | 100\n",
       "2.5  | 100       | 115\n",
       "3    | 120       | 130\n",
       "3.5  | 140       | 145\n",
       "4    | 160       | 160\n",
       "4.5  | 180       | 175\n",
       "... (22 rows omitted)"
      ]
     },
     "execution_count": 42,
     "metadata": {},
     "output_type": "execute_result"
    }
   ],
   "source": [
    "runner_table"
   ]
  },
  {
   "cell_type": "code",
   "execution_count": 43,
   "id": "3f17cc7b-7bd5-45fc-9442-d28c65dfd754",
   "metadata": {},
   "outputs": [],
   "source": [
    "a = np.arange(1,16,0.5)"
   ]
  },
  {
   "cell_type": "code",
   "execution_count": 44,
   "id": "ede5cd01-d221-4e6c-9ed3-12565cf13f4a",
   "metadata": {},
   "outputs": [],
   "source": [
    "#t=Table().with_columns(['a',a,'bruce',bruce,'bolt',bolt])\n",
    "runner_table=Table().with_columns(['Time',time,'Runner #1',runner1,'Runner #2',runner2])"
   ]
  },
  {
   "cell_type": "code",
   "execution_count": 45,
   "id": "82b1e48e-f792-4d54-88c3-6ea2da126d03",
   "metadata": {},
   "outputs": [
    {
     "data": {
      "text/html": [
       "<table border=\"1\" class=\"dataframe\">\n",
       "    <thead>\n",
       "        <tr>\n",
       "            <th>Time</th> <th>Runner #1</th> <th>Runner #2</th>\n",
       "        </tr>\n",
       "    </thead>\n",
       "    <tbody>\n",
       "        <tr>\n",
       "            <td>0   </td> <td>0        </td> <td>40       </td>\n",
       "        </tr>\n",
       "        <tr>\n",
       "            <td>0.5 </td> <td>20       </td> <td>55       </td>\n",
       "        </tr>\n",
       "        <tr>\n",
       "            <td>1   </td> <td>40       </td> <td>70       </td>\n",
       "        </tr>\n",
       "        <tr>\n",
       "            <td>1.5 </td> <td>60       </td> <td>85       </td>\n",
       "        </tr>\n",
       "        <tr>\n",
       "            <td>2   </td> <td>80       </td> <td>100      </td>\n",
       "        </tr>\n",
       "        <tr>\n",
       "            <td>2.5 </td> <td>100      </td> <td>115      </td>\n",
       "        </tr>\n",
       "        <tr>\n",
       "            <td>3   </td> <td>120      </td> <td>130      </td>\n",
       "        </tr>\n",
       "        <tr>\n",
       "            <td>3.5 </td> <td>140      </td> <td>145      </td>\n",
       "        </tr>\n",
       "        <tr>\n",
       "            <td>4   </td> <td>160      </td> <td>160      </td>\n",
       "        </tr>\n",
       "        <tr>\n",
       "            <td>4.5 </td> <td>180      </td> <td>175      </td>\n",
       "        </tr>\n",
       "    </tbody>\n",
       "</table>\n",
       "<p>... (22 rows omitted)</p>"
      ],
      "text/plain": [
       "Time | Runner #1 | Runner #2\n",
       "0    | 0         | 40\n",
       "0.5  | 20        | 55\n",
       "1    | 40        | 70\n",
       "1.5  | 60        | 85\n",
       "2    | 80        | 100\n",
       "2.5  | 100       | 115\n",
       "3    | 120       | 130\n",
       "3.5  | 140       | 145\n",
       "4    | 160       | 160\n",
       "4.5  | 180       | 175\n",
       "... (22 rows omitted)"
      ]
     },
     "execution_count": 45,
     "metadata": {},
     "output_type": "execute_result"
    }
   ],
   "source": [
    "runner_table"
   ]
  },
  {
   "cell_type": "markdown",
   "id": "bc3b37a6-17bb-416d-a2d3-46f7981494f5",
   "metadata": {},
   "source": [
    "Using the Berkeley datascience module's <b>where</b> predicates, let's determine exactly when runner1 overtakes runner2.\n",
    "http://data8.org/datascience/index.html\n",
    "http://data8.org/datascience/predicates.html"
   ]
  },
  {
   "cell_type": "code",
   "execution_count": 46,
   "id": "beadf6d1-1b38-4b8a-9029-89ef46f9c31a",
   "metadata": {},
   "outputs": [],
   "source": [
    "from datascience.predicates import are"
   ]
  },
  {
   "cell_type": "code",
   "execution_count": 48,
   "id": "a0d8f2a3-2d16-4eb9-affc-6df8814e0a1d",
   "metadata": {},
   "outputs": [],
   "source": [
    "#t.where(\"bolt\", are.above(bruce))\n",
    "#t.where('bolt', are.equal_to, t.column('bruce')) #instead of table.where('c', are.equal_to(table.column('d'))).\n",
    "#catchup=runner_table.where('Runner #1', are.above, runner_table.column('Runner #2'))\n",
    "catchup=runner_table.where('Runner #1', are.above_or_equal_to, runner_table.column('Runner #2'))"
   ]
  },
  {
   "cell_type": "code",
   "execution_count": 51,
   "id": "114ecb2e-55ab-4cb2-b7eb-17109d1184ba",
   "metadata": {},
   "outputs": [
    {
     "data": {
      "text/plain": [
       "Row(Time=4.0, Runner #1=160.0, Runner #2=160.0)"
      ]
     },
     "execution_count": 51,
     "metadata": {},
     "output_type": "execute_result"
    }
   ],
   "source": [
    "catchup.row(0)"
   ]
  },
  {
   "cell_type": "markdown",
   "id": "c8be256f-a20c-4629-94f9-9c0eaf689a44",
   "metadata": {},
   "source": [
    "Compare <b>catchup.row(0)</b> to:\n",
    "1. <b>catchup[0]</b>\n",
    "1. <b>catchup[0][0]</b>\n",
    "\n",
    "Explain the differences between these three outputs and carefully explain of the Berkeley datascience <b>Table</b> data structure and the dependent/linked <b>numpy array(s)</b> datastructure."
   ]
  },
  {
   "cell_type": "code",
   "execution_count": 67,
   "id": "9d05d974-b774-457a-94b6-0c029d9348d6",
   "metadata": {},
   "outputs": [
    {
     "data": {
      "text/plain": [
       "4.0"
      ]
     },
     "execution_count": 67,
     "metadata": {},
     "output_type": "execute_result"
    }
   ],
   "source": [
    "#catchup[0]\n",
    "catchup[0][0]"
   ]
  },
  {
   "cell_type": "markdown",
   "id": "86803e89-1f32-4d82-8bf6-4ec783d9edc1",
   "metadata": {},
   "source": [
    "Let's plot this data"
   ]
  },
  {
   "cell_type": "code",
   "execution_count": 64,
   "id": "a8a72cb7-da31-4f96-98f3-c195e52688e9",
   "metadata": {},
   "outputs": [
    {
     "data": {
      "image/png": "[encoded data removed]",
      "text/plain": [
       "<Figure size 432x432 with 1 Axes>"
      ]
     },
     "metadata": {
      "needs_background": "light"
     },
     "output_type": "display_data"
    }
   ],
   "source": [
    "import matplotlib.pyplot as plt\n",
    "%matplotlib inline\n",
    "runner_table.plot('Time') \n",
    "plt.grid(True)"
   ]
  },
  {
   "cell_type": "markdown",
   "id": "2a517043-83a2-4568-9e3c-283374c03bcc",
   "metadata": {},
   "source": [
    "As you can see from the graph above, this model is applying only a constant velocity with ZERO reference to acceleration."
   ]
  },
  {
   "cell_type": "code",
   "execution_count": null,
   "id": "e5f82656-c5da-4045-bbf9-7d8e16aa5848",
   "metadata": {},
   "outputs": [],
   "source": []
  }
 ],
 "metadata": {
  "kernelspec": {
   "display_name": "Python 3",
   "language": "python",
   "name": "python3"
  },
  "language_info": {
   "codemirror_mode": {
    "name": "ipython",
    "version": 3
   },
   "file_extension": ".py",
   "mimetype": "text/x-python",
   "name": "python",
   "nbconvert_exporter": "python",
   "pygments_lexer": "ipython3",
   "version": "3.6.9"
  }
 },
 "nbformat": 4,
 "nbformat_minor": 5
}
