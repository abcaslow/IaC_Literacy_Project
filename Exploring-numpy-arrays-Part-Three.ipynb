{
 "cells": [
  {
   "cell_type": "markdown",
   "id": "be0f113f-34ee-431b-9f48-cc16c8b0f8a2",
   "metadata": {},
   "source": [
    "<b>Distance = Rate * Time</b>\n",
    "Flaw in the model used in this Notebook: We are applying constant velocity only in the following Notebook.  No runner acceleration is measured.  \n"
   ]
  },
  {
   "cell_type": "code",
   "execution_count": null,
   "id": "f82895ab-3679-4931-8ed4-de861ab97974",
   "metadata": {},
   "outputs": [],
   "source": [
    "import numpy as np"
   ]
  },
  {
   "cell_type": "code",
   "execution_count": null,
   "id": "00c05d5a-603c-442d-b27d-6ccb65dd2431",
   "metadata": {},
   "outputs": [],
   "source": [
    "time = np.arange(0,31)\n",
    "time = np.arange(0,16,0.5)"
   ]
  },
  {
   "cell_type": "code",
   "execution_count": null,
   "id": "0d3afabc-1d76-43a3-a934-5ee452ec1323",
   "metadata": {},
   "outputs": [],
   "source": [
    "time"
   ]
  },
  {
   "cell_type": "markdown",
   "id": "2a36ef4f-c548-410f-acd8-22aae78329f9",
   "metadata": {},
   "source": [
    "June 6th: We added acceleration to this notebook with the following cell and the calculation of velocity"
   ]
  },
  {
   "cell_type": "code",
   "execution_count": null,
   "id": "c947aa91-44a8-4163-bbee-ca618772326f",
   "metadata": {},
   "outputs": [],
   "source": [
    "velocity=(time*8).clip(1,40)\n",
    "velocity"
   ]
  },
  {
   "cell_type": "code",
   "execution_count": null,
   "id": "070a4497-3c1e-4b67-98d2-2d28d93f9157",
   "metadata": {},
   "outputs": [],
   "source": [
    "runner1=time*velocity"
   ]
  },
  {
   "cell_type": "code",
   "execution_count": null,
   "id": "90a196b5-6fda-4c32-a9c3-744093027bfe",
   "metadata": {},
   "outputs": [],
   "source": [
    "runner1"
   ]
  },
  {
   "cell_type": "code",
   "execution_count": null,
   "id": "f8e35920-48b5-4aac-8fda-0c90b3994001",
   "metadata": {},
   "outputs": [],
   "source": [
    "runner2=(time*30)+40"
   ]
  },
  {
   "cell_type": "code",
   "execution_count": null,
   "id": "89f5914d-f3bf-4f0a-a2c1-0ad1c955a39a",
   "metadata": {},
   "outputs": [],
   "source": [
    "runner2"
   ]
  },
  {
   "cell_type": "markdown",
   "id": "502a7eaa-d448-4b54-a607-de53a1fd8b9e",
   "metadata": {},
   "source": [
    "Let's subtract the <b>runner2</b> array from the <b>runner1</b> array."
   ]
  },
  {
   "cell_type": "code",
   "execution_count": null,
   "id": "1beefa0d-5dff-46f9-b50e-c47a745331a6",
   "metadata": {},
   "outputs": [],
   "source": [
    "x=runner2-runner1"
   ]
  },
  {
   "cell_type": "code",
   "execution_count": null,
   "id": "dba2d9ca-facc-4bdf-96b7-f49983a17b5f",
   "metadata": {},
   "outputs": [],
   "source": [
    "x"
   ]
  },
  {
   "cell_type": "markdown",
   "id": "793c7d97-8ff5-4ea0-a7a7-b9857a5b9ce7",
   "metadata": {},
   "source": [
    "Let' construct a Berkeley table with these three arrays"
   ]
  },
  {
   "cell_type": "code",
   "execution_count": null,
   "id": "661629c3-e277-4aab-8253-59a2d8949f83",
   "metadata": {},
   "outputs": [],
   "source": [
    "from datascience import Table"
   ]
  },
  {
   "cell_type": "code",
   "execution_count": null,
   "id": "e8fbc1a0-2d5b-4b11-b276-a1186cc9ddca",
   "metadata": {},
   "outputs": [],
   "source": [
    "runner_table=Table().with_columns(['Time',time,'Runner #1',runner1,'Runner #2',runner2])"
   ]
  },
  {
   "cell_type": "code",
   "execution_count": null,
   "id": "94264761-bf46-4fda-acf0-8d68f5b83f8f",
   "metadata": {},
   "outputs": [],
   "source": [
    "runner_table"
   ]
  },
  {
   "cell_type": "code",
   "execution_count": null,
   "id": "3f17cc7b-7bd5-45fc-9442-d28c65dfd754",
   "metadata": {},
   "outputs": [],
   "source": [
    "a = np.arange(1,16,0.5)"
   ]
  },
  {
   "cell_type": "code",
   "execution_count": null,
   "id": "ede5cd01-d221-4e6c-9ed3-12565cf13f4a",
   "metadata": {},
   "outputs": [],
   "source": [
    "#t=Table().with_columns(['a',a,'bruce',bruce,'bolt',bolt])\n",
    "runner_table=Table().with_columns(['Time',time,'Runner #1',runner1,'Runner #2',runner2])"
   ]
  },
  {
   "cell_type": "code",
   "execution_count": null,
   "id": "82b1e48e-f792-4d54-88c3-6ea2da126d03",
   "metadata": {},
   "outputs": [],
   "source": [
    "runner_table"
   ]
  },
  {
   "cell_type": "markdown",
   "id": "bc3b37a6-17bb-416d-a2d3-46f7981494f5",
   "metadata": {},
   "source": [
    "Using the Berkeley datascience module's <b>where</b> predicates, let's determine exactly when runner1 overtakes runner2.\n",
    "http://data8.org/datascience/index.html\n",
    "http://data8.org/datascience/predicates.html"
   ]
  },
  {
   "cell_type": "code",
   "execution_count": null,
   "id": "beadf6d1-1b38-4b8a-9029-89ef46f9c31a",
   "metadata": {},
   "outputs": [],
   "source": [
    "from datascience.predicates import are"
   ]
  },
  {
   "cell_type": "code",
   "execution_count": null,
   "id": "a0d8f2a3-2d16-4eb9-affc-6df8814e0a1d",
   "metadata": {},
   "outputs": [],
   "source": [
    "#t.where(\"bolt\", are.above(bruce))\n",
    "#t.where('bolt', are.equal_to, t.column('bruce')) #instead of table.where('c', are.equal_to(table.column('d'))).\n",
    "#catchup=runner_table.where('Runner #1', are.above, runner_table.column('Runner #2'))\n",
    "catchup=runner_table.where('Runner #1', are.above_or_equal_to, runner_table.column('Runner #2'))"
   ]
  },
  {
   "cell_type": "code",
   "execution_count": null,
   "id": "114ecb2e-55ab-4cb2-b7eb-17109d1184ba",
   "metadata": {},
   "outputs": [],
   "source": [
    "catchup.row(0)"
   ]
  },
  {
   "cell_type": "markdown",
   "id": "c8be256f-a20c-4629-94f9-9c0eaf689a44",
   "metadata": {},
   "source": [
    "Compare <b>catchup.row(0)</b> to:\n",
    "1. <b>catchup[0]</b>\n",
    "1. <b>catchup[0][0]</b>\n",
    "\n",
    "Explain the differences between these three outputs and carefully explain of the Berkeley datascience <b>Table</b> data structure and the dependent/linked <b>numpy array(s)</b> datastructure."
   ]
  },
  {
   "cell_type": "code",
   "execution_count": null,
   "id": "9d05d974-b774-457a-94b6-0c029d9348d6",
   "metadata": {},
   "outputs": [],
   "source": [
    "#catchup[0]\n",
    "catchup[0][0]"
   ]
  },
  {
   "cell_type": "markdown",
   "id": "86803e89-1f32-4d82-8bf6-4ec783d9edc1",
   "metadata": {},
   "source": [
    "Let's plot this data"
   ]
  },
  {
   "cell_type": "code",
   "execution_count": null,
   "id": "a8a72cb7-da31-4f96-98f3-c195e52688e9",
   "metadata": {},
   "outputs": [],
   "source": [
    "import matplotlib.pyplot as plt\n",
    "%matplotlib inline\n",
    "runner_table.plot('Time') \n",
    "plt.grid(True)"
   ]
  },
  {
   "cell_type": "markdown",
   "id": "2a517043-83a2-4568-9e3c-283374c03bcc",
   "metadata": {},
   "source": [
    "As you can see from the graph above, this model is applying only a constant velocity with ZERO reference to acceleration."
   ]
  },
  {
   "cell_type": "code",
   "execution_count": null,
   "id": "e5f82656-c5da-4045-bbf9-7d8e16aa5848",
   "metadata": {},
   "outputs": [],
   "source": []
  }
 ],
 "metadata": {
  "kernelspec": {
   "display_name": "Python 3",
   "language": "python",
   "name": "python3"
  },
  "language_info": {
   "codemirror_mode": {
    "name": "ipython",
    "version": 3
   },
   "file_extension": ".py",
   "mimetype": "text/x-python",
   "name": "python",
   "nbconvert_exporter": "python",
   "pygments_lexer": "ipython3",
   "version": "3.6.9"
  }
 },
 "nbformat": 4,
 "nbformat_minor": 5
}
