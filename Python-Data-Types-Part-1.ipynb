{
 "cells": [
  {
   "cell_type": "markdown",
   "id": "e169dde0-afce-494b-88e2-1a4e11506af9",
   "metadata": {},
   "source": [
    "# <b>Computational Thinking</b> #\n",
    "## <i>All Models Are Wrong. Some Models Are Useful</i> ##\n",
    "### A Simple Model of Python Data Types</i> ###\n",
    "The Simple Periodic Table of Python Data Types!\n",
    "Just as all matter in the universe can be reduced to elements in the Period Table of Elements, all Python Data can be reduced to Python Data Types.\n",
    "\n",
    "While there are many Python Data Types, we will focus on only six in this Jupyter Notebook Lesson: Four <b>Simple Python Data Types</b>: (1) String, (2) Integer, (3) Float, (4) Boolean and Three <b>Compound or Composite Python Data Types</b>: (1) List, (2)  Numpy Array.  \n",
    "\n",
    "Python Dictionaries and Tuples will be covered in a later Jupyter Notebook.\n",
    "\n",
    "Let's begin by exploring the four simple Python Data Types listed above - string, integer, float, boolean. "
   ]
  },
  {
   "cell_type": "markdown",
   "id": "1ffde9ce-017e-418a-9e69-76a5155594b4",
   "metadata": {},
   "source": [
    "## The Python String Data Type ##\n",
    "A Python String Data Type can include virtually every possible character. Letters, numbers, punctuation symbols, symbols, hidden characters, etc.\n",
    "\n",
    "The key indicator of a Python Data Type is the presence of quotation symbols at the beginning and ending of a string. Examples: <b>\"</b>Data Science<b>\"</b> or <b>'</b>Washington DC 20007<b>'</b>.\n",
    "\n",
    "Either single or double quotes can be used to define a Python string. "
   ]
  },
  {
   "cell_type": "markdown",
   "id": "30c82f6c-e4fb-4a17-a3fc-669c69bdf0fb",
   "metadata": {},
   "source": [
    "What is the variable displayed in the Jupyter cell below:"
   ]
  },
  {
   "cell_type": "code",
   "execution_count": null,
   "id": "2500134f-40bb-4eff-a853-da53d455d162",
   "metadata": {},
   "outputs": [],
   "source": [
    "x='cat' #The big hint is the value begins and ends with quotation marks."
   ]
  },
  {
   "cell_type": "code",
   "execution_count": null,
   "id": "8f18d9a3-a076-40f8-8775-7c539651a7d9",
   "metadata": {},
   "outputs": [],
   "source": [
    "#Your Answer"
   ]
  },
  {
   "cell_type": "markdown",
   "id": "0015217d-393a-4d14-888b-a5b7676758b7",
   "metadata": {},
   "source": [
    "Use the DS4HS \"proof by Python\" technique to prove and verify the Python Data Type of variable \"x\" by using the <b>type(x)</b> statement."
   ]
  },
  {
   "cell_type": "code",
   "execution_count": null,
   "id": "07222be6-e700-4715-8025-6a0b79cdf4ea",
   "metadata": {},
   "outputs": [],
   "source": [
    "type(x)"
   ]
  },
  {
   "cell_type": "markdown",
   "id": "7c5bdaba-d888-4508-9442-24ccddba4a56",
   "metadata": {},
   "source": [
    "Out of the four simple Python Data Types listed above - string, integer, float, boolean - what is the variable displayed in the Jupyter cell below.\n",
    "\n",
    "<b>Hint</b>: The assigned value to the variable 'y' is the number <b>10</b>.\n",
    "This value is <b>NOT</b> enclosed with quotation symbols. This value has <b>NO</b> decimal point."
   ]
  },
  {
   "cell_type": "code",
   "execution_count": null,
   "id": "8d71f0aa-5cad-450b-a91f-eb5b7d4e4137",
   "metadata": {},
   "outputs": [],
   "source": [
    "y=10  # Notice there are NO quotation marks and NO decimal point."
   ]
  },
  {
   "cell_type": "code",
   "execution_count": null,
   "id": "d739074b-3c79-4620-a537-174229a279d7",
   "metadata": {},
   "outputs": [],
   "source": [
    "#Your Answer"
   ]
  },
  {
   "cell_type": "markdown",
   "id": "9f8732e9-66de-412a-b89a-b4953bf17dc4",
   "metadata": {},
   "source": [
    "Use the DS4HS \"proof by Python\" technique to prove and verify the Python Data Type of variable \"y\" by using the type(y) statement."
   ]
  },
  {
   "cell_type": "code",
   "execution_count": null,
   "id": "68a74d03-ef78-4eaa-b896-76743778f7f1",
   "metadata": {},
   "outputs": [],
   "source": [
    "type(y)"
   ]
  },
  {
   "cell_type": "markdown",
   "id": "051eef68-45b9-40a8-b859-265d35dbcad4",
   "metadata": {},
   "source": [
    "Out of the four simple Python Data Types listed above - string, integer, float, boolean - what is the variable displayed in the Jupyter cell below.\n",
    "\n",
    "<b>Hint</b>: The assigned value to the variable 'z' is the number <b>10</b>.\n",
    "This value is <b>NOT</b> enclosed with quotation symbols. This value has <b>HAS</b> a decimal point."
   ]
  },
  {
   "cell_type": "code",
   "execution_count": null,
   "id": "966dee84-19ae-4f1c-95f7-1ce42b031876",
   "metadata": {},
   "outputs": [],
   "source": [
    "z=10.5"
   ]
  },
  {
   "cell_type": "code",
   "execution_count": null,
   "id": "667de546-a5e5-4c1f-bafd-1f3b44307019",
   "metadata": {},
   "outputs": [],
   "source": [
    "#Your Answer."
   ]
  },
  {
   "cell_type": "markdown",
   "id": "30e8af28-1c3e-4a06-949c-a281f86c34eb",
   "metadata": {},
   "source": [
    "Use the DS4HS \"proof by Python\" technique to prove and verify the Python Data Type of variable \"z\" by using the type(z) statement."
   ]
  },
  {
   "cell_type": "code",
   "execution_count": null,
   "id": "735eea9e-3944-4b25-9508-9f6f4f331e2e",
   "metadata": {},
   "outputs": [],
   "source": [
    "type(z)"
   ]
  },
  {
   "cell_type": "markdown",
   "id": "d7d0003d-2c0d-4226-b35c-d1a7140059e4",
   "metadata": {},
   "source": [
    "Out of the four simple Python Data Types listed above - string, integer, float, boolean - what is the variable displayed in the Jupyter cell below.\n",
    "\n",
    "<b>Hint</b>: The assigned value to the variable <b>'b'</b> is a simple math expression <b>y==10</b>. The double equal sign <b>==</b> is performing a comparison of the assigned value to <b>y</b> to the number 10.\n",
    "\n",
    "This value is <b>NOT</b> enclosed with quotation symbols. This value will return only two values: (1) <b>True</b> and (2) <b>False</b>."
   ]
  },
  {
   "cell_type": "code",
   "execution_count": null,
   "id": "8dddca36-bd5d-4246-a3de-471155a6cb68",
   "metadata": {},
   "outputs": [],
   "source": [
    "b=y==1 \n",
    "b"
   ]
  },
  {
   "cell_type": "code",
   "execution_count": null,
   "id": "c1ebfcb5-1f79-458a-bd51-efd0418f51ae",
   "metadata": {},
   "outputs": [],
   "source": [
    "#Boolean"
   ]
  },
  {
   "cell_type": "markdown",
   "id": "324fbe90-97ba-4258-a64d-8df18ee0e2ee",
   "metadata": {},
   "source": [
    "Use the DS4HS \"proof by Python\" technique to prove and verify the Python Data Type of variable \"b\" by using the type(b) statement."
   ]
  },
  {
   "cell_type": "code",
   "execution_count": null,
   "id": "6d4372c7-f577-47c6-bf0d-51ad41ca4b08",
   "metadata": {},
   "outputs": [],
   "source": [
    "type(b)"
   ]
  },
  {
   "cell_type": "markdown",
   "id": "401bdf2f-0acf-4560-8d14-8bd7676ab8cd",
   "metadata": {},
   "source": [
    "Use the following number assigned to the Python varaible <b>\"tricky\"</b> and add it to your Python variable <b>\"y\"</b> defined above.\n",
    "\n",
    "Remember <b>y</b>=10"
   ]
  },
  {
   "cell_type": "code",
   "execution_count": null,
   "id": "c6098064-958f-4ea5-89f6-514ea0afbc78",
   "metadata": {},
   "outputs": [],
   "source": [
    "tricky= int('100')  #Hint: Make note that 100 is enclosed within quotation symbols.\n",
    "iamawiz = tricky+y\n",
    "iamawiz"
   ]
  },
  {
   "cell_type": "markdown",
   "id": "beed50d5-12e6-4799-8002-43d0b33c1e55",
   "metadata": {},
   "source": [
    "What is the problem?"
   ]
  },
  {
   "cell_type": "code",
   "execution_count": null,
   "id": "8ec1d71c-43c2-4e07-be32-28e344332245",
   "metadata": {},
   "outputs": [],
   "source": [
    "#Your answer."
   ]
  },
  {
   "cell_type": "markdown",
   "id": "f80faf7f-b78e-44e1-a313-3fb16e97a3e5",
   "metadata": {},
   "source": [
    "How can you resolve the issue without completely redefining the Python data types of variables <b>y</b> and <b>tricky</b>?"
   ]
  },
  {
   "cell_type": "code",
   "execution_count": null,
   "id": "e80c1e31-c12c-4186-bb20-963039832d52",
   "metadata": {},
   "outputs": [],
   "source": [
    "#Your answer in Python code."
   ]
  },
  {
   "cell_type": "markdown",
   "id": "54a0fce1-0160-441d-b0b6-bd491d0777e9",
   "metadata": {},
   "source": [
    "### Introducing Our First Python Data Structure: The Python <b>List</b> ###\n",
    "\n",
    "To review what we have done so far, let's create a list of all of the variables we have created so far: <b>x, y, z, b tricky</b>\n",
    "Great! Now, let's place these variables into an actual Python <b>list</b> enclosing them <b>[ ]</b> and separating them with a comma.\n",
    "\n",
    "While we have worked with the most basic Python Data Types - string, int, float and bool, these Data Types are of minimal value if they are not grouped into clusters or sets of data. A Python <b>list</b> is perhaps the simplest way of grouping sets/clusters of data. With this said, here is our first interaction with a Python <b>list</b>.\n",
    "\n",
    "Make note that the Python <b>list</b> data structure will provide an excellent \"compare/constrast\" learning experience with the central Python data structure for Data Science: the Python <b>numpy array</b>. Python lists and numpy arrays possesses many similarities between each other but also many critical differences that are important for Data Science."
   ]
  },
  {
   "cell_type": "code",
   "execution_count": null,
   "id": "e78ef2f9-3937-490b-9c9b-fd262666393e",
   "metadata": {},
   "outputs": [],
   "source": [
    "list_of_vars=[x,y,z,b,tricky]"
   ]
  },
  {
   "cell_type": "markdown",
   "id": "59a0d13b-28dc-4ea0-bcdc-13435cfacbe5",
   "metadata": {},
   "source": [
    "Now let's put this Python <b>list</b> to work by writing a very simple two line Python <b>for loop</b> to list each variable's Python Data Type:"
   ]
  },
  {
   "cell_type": "code",
   "execution_count": null,
   "id": "fe9f0f7a-2610-402b-9956-d409fbd3affe",
   "metadata": {},
   "outputs": [],
   "source": [
    "for i in list_of_vars: \n",
    "    print (i, '   ',type(i))"
   ]
  },
  {
   "cell_type": "markdown",
   "id": "6890e1c5-cab1-4bf8-bd4a-1bf06b50a3b0",
   "metadata": {},
   "source": [
    "Notice this Python <b>for</b> loop produced a list of values for each variable in the <b>list_of_vars</b>  along with their specific Python Data Types. \n",
    "\n",
    "As a pure extra credit exercise, let's modify this simple Python list_of_vars and its associated for loop so that it provides more complete output in a better format.\n",
    "\n",
    "First, let's convert our list of Python variables into a list of strings with the variable names:"
   ]
  },
  {
   "cell_type": "code",
   "execution_count": null,
   "id": "bc3054a2-6144-4e15-aeb8-2208ac2f895b",
   "metadata": {},
   "outputs": [],
   "source": [
    "list_of_vars='x,y,z,tricky'.split(',') # split converts a Python string into a Python list.\n",
    "list_of_vars"
   ]
  },
  {
   "cell_type": "markdown",
   "id": "3668cc9a-3b4d-4ea2-8ad5-073b260133de",
   "metadata": {},
   "source": [
    "Next, let's modify our list_of_vars <b>for</b> loop in the following manner:"
   ]
  },
  {
   "cell_type": "code",
   "execution_count": null,
   "id": "c8314067-a6bf-42e4-8227-e33da79ee065",
   "metadata": {},
   "outputs": [],
   "source": [
    "for i in list_of_vars:\n",
    "    print(i,  type(locals()[i])) #\"locals()\" prints out all of the defined Python local variables"
   ]
  },
  {
   "cell_type": "markdown",
   "id": "f8b16625-d8da-410c-8632-f0318ea4d944",
   "metadata": {},
   "source": [
    "## SECTION TWO ##\n",
    "### Compound/Composite Python Data Types: Lists and Numpy Arrays ###"
   ]
  },
  {
   "cell_type": "markdown",
   "id": "35db9993-c6b5-4302-af83-4eb48fa624db",
   "metadata": {
    "tags": []
   },
   "source": [
    "### Lists ###\n",
    "\n",
    "A Python of <b>list</b> is a sequence of elements. \n",
    "\n",
    "Each Python <b> list element</b> is also a Python Data Type. \n",
    "\n",
    "Each list element is assigned an <b> index number</b> starting with <b>0</b>.\n",
    "\n",
    "Just as strings are enclosed with quotation symbols, lists are enclosed with <b> square brackets [ ]</b>.\n",
    "\n",
    "Let's begin exploring Python lists by opening a file with timestamps and measured heart rates."
   ]
  },
  {
   "cell_type": "markdown",
   "id": "a0157f27-4f74-4188-b18f-a9fd64738bf2",
   "metadata": {},
   "source": [
    "Let's start with opening a demonstration file."
   ]
  },
  {
   "cell_type": "code",
   "execution_count": null,
   "id": "529237ac-e50e-4921-83ef-7dc392b1975d",
   "metadata": {},
   "outputs": [],
   "source": [
    "#f=open('~/IaC_Literacy_Project/heartrate_list_demo.csv')\n",
    "f=open('/home/abcaslow/IaC_Literacy_Project/heartrate_list_demo.csv')"
   ]
  },
  {
   "cell_type": "markdown",
   "id": "386ea4bf-f9b7-4d33-8141-2cc4c0859984",
   "metadata": {},
   "source": [
    "Let's read this file into memory and review it's contents."
   ]
  },
  {
   "cell_type": "code",
   "execution_count": null,
   "id": "b4ced9a5-39d6-4e84-aa27-65aecbee996f",
   "metadata": {},
   "outputs": [],
   "source": [
    "s=f.read()\n",
    "s #Notice the output begins and ends with quotation symbols. What is the Data Type?"
   ]
  },
  {
   "cell_type": "markdown",
   "id": "7f0b06cf-243a-4914-9f14-2ba638a2bf45",
   "metadata": {},
   "source": [
    "It is a <b> string </b>! \n",
    "\n",
    "Notice the several <b>\\n</b> symbols in this string. This is the <b>New Line</b> character sequence.\n",
    "\n",
    "Let's run the Python <b>print</b> statement with <b>s</b> to see the effects of <b>\\n</b>."
   ]
  },
  {
   "cell_type": "code",
   "execution_count": null,
   "id": "fa740754-07a4-485f-9065-fd536a9f6b81",
   "metadata": {},
   "outputs": [],
   "source": [
    "print(s) #Notice the Python print statement actually applies the \\n character sequence."
   ]
  },
  {
   "cell_type": "markdown",
   "id": "76493bfd-0d2e-47b7-9130-891c9dca7e51",
   "metadata": {},
   "source": [
    "How can one and only one row of this table be accessed?\n",
    "\n",
    "This can't be done at this time easily. The entire table is one big <b>string</b> divided up by the new line <b>\\n</b> character sequence.\n",
    "\n",
    "What needs to be done is this <b>\"one big string\"</b> Python object must be converted to a <b>list</b> by spliting it up at each <b>\\n</b> character sequence.\n",
    "\n",
    "This will be performed using the Python string <b>split</b> method."
   ]
  },
  {
   "cell_type": "code",
   "execution_count": null,
   "id": "983d963f-20f3-4db7-b517-af0514e32264",
   "metadata": {},
   "outputs": [],
   "source": [
    "heartrate_list=s.split('\\n') #Notice the string is being split on \"\\n\".\n",
    "heartrate_list #Notice how the list begins and ends with square brackets []."
   ]
  },
  {
   "cell_type": "code",
   "execution_count": null,
   "id": "cb89b7a5-7f7a-48b7-a986-7589f9df51b2",
   "metadata": {},
   "outputs": [],
   "source": [
    "len(heartrate_list) #Explore a list with the len statement to count its elements. "
   ]
  },
  {
   "cell_type": "markdown",
   "id": "78a5d476-c978-4efd-abc5-3c485f7dfc39",
   "metadata": {},
   "source": [
    "#### <b>Pay Attention Here! How to Access Specific Elements of a List with [ ]</b> ####\n",
    "\n",
    "Once you have created a Python list and you know what Data Type(s) the list elements are, you can access specific elements of the list with pinpoint accuracy using the following syntax:\n",
    "\n",
    "<b>list_name[ index number]</b>\n",
    "\n",
    "Here is an example:\n"
   ]
  },
  {
   "cell_type": "code",
   "execution_count": null,
   "id": "147b54a8-ae2e-4d7c-bd0f-ffd45e2059d2",
   "metadata": {},
   "outputs": [],
   "source": [
    "heartrate_list[0]  #Use this syntax to view a specific element (row) of a list."
   ]
  },
  {
   "cell_type": "markdown",
   "id": "8bf8037c-d35a-4022-b78c-f090be0399eb",
   "metadata": {},
   "source": [
    "You can also extract ranges of Python list elements by specifying a starting list element index number and an ending list element list number separated by a <b>:</b>\n",
    "\n",
    "Here is an example that lists the first five elements of a list:"
   ]
  },
  {
   "cell_type": "code",
   "execution_count": null,
   "id": "53572fcc-fac3-43c9-b367-f49df9143e2a",
   "metadata": {},
   "outputs": [],
   "source": [
    "heartrate_list[0:5]  #Use this syntax to view a specific range of list elements."
   ]
  },
  {
   "cell_type": "markdown",
   "id": "00f80a62-6f83-47cd-a645-bb11ed47e355",
   "metadata": {},
   "source": [
    "Let's check the Python Data Types of both <b>heartrate_list</b> and <b>heartrate_list[0]</b>"
   ]
  },
  {
   "cell_type": "code",
   "execution_count": null,
   "id": "fe9e56b7-d9ff-4136-86be-18149677f11b",
   "metadata": {},
   "outputs": [],
   "source": [
    "type(heartrate_list) # This is a list. Uncomment the next 'type' statement to run it.\n",
    "#type(heartrate_list[0]) # This is a string\n",
    "#This heartrate_list is technically a 'list of strings'; a Data Type within a Data Type"
   ]
  },
  {
   "cell_type": "markdown",
   "id": "75240c55-bdb7-45fb-981d-a8132671fae6",
   "metadata": {},
   "source": [
    "### While we are making progress, but.... ### \n",
    "\n",
    "By converting our big multi-line string object into a list of strings, we still have a problem. Each line is a single string. Our timestamp on the left and the associated heart rate measurement are continuous string. If we want to access only the timestamp or only the heart rate measurement, we cannot do so easily because they are a single undifferentiated string.\n",
    "\n",
    "We want to separate out the timestamp and the heartrate into two separate columns. This is where the key Python Data Science modules can help. There are three key Python Data Science modules that will be used throughout this DS4HS course to solve this specific problem:\n",
    "\n",
    "\n",
    "1. <b>numpy</b>\n",
    "    \n",
    "1. <b>the University of California Berkeley datacience module</b>\n",
    "    \n",
    "1. <b>pandas</b>\n",
    "\n",
    "\n",
    "In this exercise, we will use the most simple and intuitive method to import our heartrate data into ready to use rows and columns and not a list of strings.\n",
    "\n",
    "We will use the University of California Berkeley datascience module to accomplish this goal because this module was 100% designed for educational purposes. Specifically, to reduce the confusing computer science syntax so that students can focus more on the intuitive and then mathematical aspects of Data Science rather than on the arcane computer programming syntax. We assure you, you will eventually need to learn more computer programming syntax as you develop as a Data Scientist! However at this point of your Data Science education, at the very beginning of your Data Science education, use the Berkeley datascience module to build a solid foundation of Data Science principles without being distracted by annoying arcane computer programming syntax. Once you have built your Data Science foundation, the Berkeley datascience module will act as your personal educational stepping stone to more powerful Data Science modules such as pandas that will also use the more arcane computer programming syntax."
   ]
  },
  {
   "cell_type": "markdown",
   "id": "f1eb366e-d7ba-4f1f-899f-00595cd9a704",
   "metadata": {},
   "source": [
    "Let's start with importing the needed Python modules. "
   ]
  },
  {
   "cell_type": "code",
   "execution_count": null,
   "id": "13bed882-8b15-469d-a641-8b67f4585e0b",
   "metadata": {},
   "outputs": [],
   "source": [
    "from datascience import Table #Import the Berkeley Data Science Table Python statement.\n",
    "import numpy as np #Import the numpy \"numeric python\" with the alias \"np\"."
   ]
  },
  {
   "cell_type": "markdown",
   "id": "aeb06850-031a-406e-ac3e-468213535118",
   "metadata": {},
   "source": [
    "Now, let's take the exact same csv file of timestamps and heartrates that was imported into Python above and now import it with the Berkeley datascience Python module along with the numpy Python module \"under the hood\"."
   ]
  },
  {
   "cell_type": "code",
   "execution_count": null,
   "id": "12a43cff-e5b6-4ff3-a88b-ee076977bc08",
   "metadata": {},
   "outputs": [],
   "source": [
    "arraydata=Table.read_table('/home/abcaslow/IaC_Literacy_Project/heartrate_datascience_demo1.csv')\n",
    "arraydata "
   ]
  },
  {
   "cell_type": "markdown",
   "id": "436efb6e-c2ea-4aca-83a3-cebd0b9147e4",
   "metadata": {},
   "source": [
    "structureNotice how the data table generated is <b>NOT</b> one big Python <b>string</b> that needs to be converted into a Python <b>list of strings</b>.\n",
    "\n",
    "The table above is actually constructed as two columns each of which is a separate numpy array.\n",
    "\n",
    "Let's make this \"numpy\" theory come to life with our <b>proof by Python</b> learning method."
   ]
  },
  {
   "cell_type": "code",
   "execution_count": null,
   "id": "0b49a81a-b91c-4cad-bb99-977cfc83ef7d",
   "metadata": {},
   "outputs": [],
   "source": [
    "type(arraydata) # Run this command. Comment it out by placing a \"#\" at the beginning of the line. And uncomment the next command.\n",
    "#type(arraydata[0]) # Run this command. Comment it out by placing a \"#\" at the beginning of the line. And uncomment the next command.\n",
    "#type(arraydata[1])"
   ]
  },
  {
   "cell_type": "markdown",
   "id": "3c55db6b-fd3d-4424-a6c0-fe8fae5ac83f",
   "metadata": {},
   "source": [
    "This is a very important point to remember.\n",
    "\n",
    "Notice that <b>type arraydata</b> returned a Python Data Type of <b> Table.datascience</b>.\n",
    "\n",
    "However, <b>type arraydata[0] and type arraydata[1]</b> returned a Python Data Type of <b>numpy.ndarray</b>.\n",
    "\n",
    "This proves that \"under the hood\" of the Berkeley datascience table are sets of numpy arrays.\n",
    "\n",
    "Each column of a Berkeley datascience table is actually a numpy array.\n",
    "\n",
    "Let's continue with our \"proof by Python\" learning method to convert this theoretical talk into actual Python output. \n",
    "\n",
    "Let's make our Python \"theory come to life\" by actually interacting with Python!"
   ]
  },
  {
   "cell_type": "code",
   "execution_count": null,
   "id": "77ddbb97-66ca-4fa9-ae21-b4078b14c244",
   "metadata": {},
   "outputs": [],
   "source": [
    "arraydata\n",
    "arraydata[0] # Run this command. Comment it out by placing a \"#\" at the beginning of the line. And uncomment the next command.\n",
    "arraydata[1]\n",
    "len(arraydata) #Notice how only the number 2 is returned. This is because only the number of table columns are counted.\n",
    "#len(arraydata[0]) #Notice how the 9 is returned. This is the number of rows of data in this column or number of array elements.\n",
    "#len(arraydata[1])"
   ]
  },
  {
   "cell_type": "markdown",
   "id": "717b3289-9c8f-4819-a028-a748f2932179",
   "metadata": {},
   "source": [
    "Once you understand that the Berkeley datascience module imports csv files and converts them into columns of numpy array, you will begin to activate your Data Science superpowers! :) \n",
    "***\n",
    "I am very serious! Let's prove this with Python."
   ]
  },
  {
   "cell_type": "code",
   "execution_count": null,
   "id": "aa3eda31-b7df-466d-81a1-cc1bf960ef73",
   "metadata": {},
   "outputs": [],
   "source": [
    "arraydata[1]\n",
    "arraydata[1]*10\n",
    "arraydata[1]/2\n",
    "np.sum(arraydata[1])\n",
    "np.mean(arraydata[1])\n",
    "#arraydata[1][:5] \n",
    "#np.sum(arraydata[1][:5])\n",
    "#np.mean(arraydata[1][:5])\n",
    "arraydata[1]\n",
    "hb= arraydata[1]\n",
    "hb\n",
    "hbunder90=hb[hb< 90]\n",
    "hbunder90\n",
    "#len(hbunder90)\n",
    "#np.mean(hbunder90)"
   ]
  },
  {
   "cell_type": "markdown",
   "id": "7a262d74-68be-4f65-8cc2-c02c87ed1a82",
   "metadata": {},
   "source": [
    "# Conclusion #\n",
    "Python is a flexible and feature rich data manipulation programming language. Given that Python can do so much, it is hard to figure out where to learn Python.\n",
    "\n",
    "For Data Science, we suggest you begin by following four step process:\n",
    "\n",
    "1. Learn and master the following simple Python Data Types: <b>string, integer,\n",
    "float and boolean</b>.\n",
    "\n",
    "1.  <b>Learn out to group and cluster these simple Data Types using only two and only two Python Data Structures: (1) list and (2) numpy array.\n",
    "\n",
    "1. <b>Learn the relationship between the Python list and array data structures and the Python simple Data Types:</b> a list of strings, a list of integer, an array of strings, an array of integers \n",
    "\n",
    "1. <b> Use the University of California Berkeley datascience Python module to act as a learning stepping to master the concepts of Python:</b> You are getting starting on a complicated multi-topic: Data Science. As a Data Scientist, you will need to learn and be literate in many subjects: programming, mathematics, domain expertise. You must have a very strong foundational base of hands-on programming. This is what the Berkeley datascience module allows you to attain. It is a stepping stone to developing the foundational knowledge you need to know before you embark on more feature rich and complicated Data Science Python modules such as pandas, scipy, seaborn and more. \n",
    "\n",
    "Given that you are at the beginning of your Data Science education journey, you want to focus only on three Python Data Structues at this stage:\n",
    "    \n",
    "1. The UC Berkeley datascience module <b> Table </b> data structure. Over time, you will learn that the Berkeley Table data structure can possess one and only one constituent Python Data Type which is itself a multi-element Data Structure: <b>the numpy array</b>. This fact leads us very naturally to the next bullet point below.\n",
    "1. The <b> numpy array </b> data structure and its relationship to the Berkeley <b> Table</b> data structure\n",
    "1. The native Python <b>list</b> data structure and how is compares and contrasts to the <b> numpy array </b> data structure.\n",
    "    \n",
    "Once you have mastered these three data structures, you will expand into exploring othter Python multi-element data structures such as a dictionary, a tuple and other data structures.\n",
    "\n",
    "#### <b> A Regimen for Re-enforcing Concepts Covered in this Notebook</b> #### \n",
    "<b>Repetitive Hands-on Python Practice Using 3 Different Jupyter User Interfaces: \n",
    "    (1) Jupyter Notebook (2) Jupyter Console (3) Jupyter Terminal</b>\n",
    "    \n",
    "The contents of this 65 cell Jupyter Notebook is absolutely foundational for moving forward with your Data Science studies. It is suggested that you review the basic concepts covered in this notebook until you have them mastered and fully internalized. To achieve this, apply our \"proof by Python\" learning approach and repeat all of the hands-on steps in this Jupyter Notebook several times using three different Jupyter interfaces the following order:\n",
    "    \n",
    "1. <b> With Training Wheels Using This Very Same Jupyter Notebook Over and Over:</b>  Just as you have been doing inside of this Jupyter Notebook, use <b>CONTROL+ENTER</b> to advance to the next cell. You should get to a point where you outgrow using this Jupyter Notebook interface. At first, you will find the Jupyter Notebook interface helpful and supportive; however, as you master the hands-on concepts and you want to interact with Python more fluidly and rapidly, you will find moving to the next Jupyter interface - <b>the Jupyter Console interface</b> - more supportive of your next stage of learning.\n",
    "1. <b> With Some Assistance Using the Jupyter Console Interface: </b> enter in the exact same Python commands used in this Jupyter Notebook using the <b>Jupyter Python console interface</b> where there is no embedded explanatory text and you still use <b>CONTROL+ENTER</b> to advance to the next cell BUT you can use the <b>arrow up</b> key to repeat a command without completely re-entering the entire command again. You will find you can think faster and move along faster.\n",
    "1. <b> Flying Solo with the Jupyter Terminal Interface:  open a </b> the <b> Jupyter terminal mode</b> tab and enter <b>ipython3</b> at the command prompt. Then enter in the exact same commands you entered in the previous two Jupyter interface modes. You will no longer need to enter the <b>CONTROL+ENTER</b> key sequence. Now that you know what you are doing, you can move faster and interact with the Python interface more fluidly by simply pressing <b>ENTER</b> to execute a Python statement and press the <b>arrow up</b> key to go back in your command history. In Jupyter Terminal Mode, you can also you the <b>CONTROL+R</b> to perform a reverse search of your command history to replay a command you once entered before. \n",
    "    \n",
    "    \n",
    "By performing the contents of this Jupyter Notebook using the three different Jupyter interfaces, you will internalize the concepts and hands-on tasks in this lesson through cross-training (using the different interfaces) and repetition. At the end of this process, everything in this lesson should be second nature to you and you should be able to predict the output of the commands you enter before you actually enter the commands themselves."
   ]
  }
 ],
 "metadata": {
  "kernelspec": {
   "display_name": "Python 3",
   "language": "python",
   "name": "python3"
  },
  "language_info": {
   "codemirror_mode": {
    "name": "ipython",
    "version": 3
   },
   "file_extension": ".py",
   "mimetype": "text/x-python",
   "name": "python",
   "nbconvert_exporter": "python",
   "pygments_lexer": "ipython3",
   "version": "3.6.9"
  }
 },
 "nbformat": 4,
 "nbformat_minor": 5
}
