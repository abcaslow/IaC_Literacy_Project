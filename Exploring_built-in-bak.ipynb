{
 "cells": [
  {
   "cell_type": "markdown",
   "metadata": {},
   "source": [
    "### Exploring Built-in Python Functions ###\n",
    "\n",
    "Start with clicking on this link and reviewing the following built-in Python functions.\n",
    "Every Python function in this list is available when you open any Python shell.\n",
    "You don't need to import any other Python modules such as <b>numpy</b> or Berkelely <b>datascience</b> or <b>pandas</b> to use these built-in functions.\n",
    "https://docs.python.org/3/library/functions.html\n",
    "\n",
    "Explore what you can do with Python without importing any Python modules.\n",
    "\n",
    "Andrew, feel free to change this notebook and perform the following seven steps:\n",
    "\n",
    "1. From the Jupyter Notebook tool bar, click <b>Cell</b>, click on <b>All Output</b> and finally <b>clear</b> \n",
    "1. Save it in Jupyter Notebooks with <b>CONTROL+S</b> or on an f-in Apple Mac <b>COMMAND+S</b>\n",
    "1. Make sure the notebook is saved in the IaC_Literacy_Project subdirectory with <b>pwd</b>\n",
    "1. Perform a <b>git pull</b> to make sure your local git repository is up to date.\n",
    "1. Perform a <b>git add</b> and specify this file name.\n",
    "1. Perform a <b>git commit</b> and add comments. Save your comments <b>:w</b> and exit with<b>:q</b>.\n",
    "1. Perform a <b>git push</b> to push the file up to github."
   ]
  },
  {
   "cell_type": "code",
   "execution_count": null,
   "metadata": {},
   "outputs": [],
   "source": [
    "list((1,2,3,4,3,2,1))"
   ]
  },
  {
   "cell_type": "code",
   "execution_count": null,
   "metadata": {},
   "outputs": [],
   "source": [
    "x=list((1,2,3,4,3,2,1))"
   ]
  },
  {
   "cell_type": "code",
   "execution_count": null,
   "metadata": {},
   "outputs": [],
   "source": [
    "x"
   ]
  },
  {
   "cell_type": "code",
   "execution_count": null,
   "metadata": {},
   "outputs": [],
   "source": [
    "sum(x)"
   ]
  },
  {
   "cell_type": "code",
   "execution_count": null,
   "metadata": {},
   "outputs": [],
   "source": [
    "min(x)"
   ]
  },
  {
   "cell_type": "code",
   "execution_count": null,
   "metadata": {},
   "outputs": [],
   "source": [
    "max(x)"
   ]
  },
  {
   "cell_type": "code",
   "execution_count": null,
   "metadata": {},
   "outputs": [],
   "source": [
    "sorted(x)"
   ]
  },
  {
   "cell_type": "code",
   "execution_count": null,
   "metadata": {},
   "outputs": [],
   "source": [
    "set(x)"
   ]
  },
  {
   "cell_type": "code",
   "execution_count": null,
   "metadata": {},
   "outputs": [],
   "source": [
    "type(set(x))"
   ]
  },
  {
   "cell_type": "code",
   "execution_count": null,
   "metadata": {},
   "outputs": [],
   "source": [
    "x.count(1)"
   ]
  },
  {
   "cell_type": "code",
   "execution_count": null,
   "metadata": {},
   "outputs": [],
   "source": [
    "y=range(10)"
   ]
  },
  {
   "cell_type": "code",
   "execution_count": null,
   "metadata": {},
   "outputs": [],
   "source": [
    "y"
   ]
  },
  {
   "cell_type": "code",
   "execution_count": null,
   "metadata": {},
   "outputs": [],
   "source": [
    "y1=list(range(10))"
   ]
  },
  {
   "cell_type": "code",
   "execution_count": null,
   "metadata": {},
   "outputs": [],
   "source": [
    "y"
   ]
  },
  {
   "cell_type": "markdown",
   "metadata": {},
   "source": [
    "Review Python built-in functions that convert one basic Python Data Type to another:\n",
    "1. str\n",
    "2. int\n",
    "3. float"
   ]
  },
  {
   "cell_type": "code",
   "execution_count": null,
   "metadata": {},
   "outputs": [],
   "source": [
    "z=10"
   ]
  },
  {
   "cell_type": "code",
   "execution_count": null,
   "metadata": {},
   "outputs": [],
   "source": [
    "z"
   ]
  },
  {
   "cell_type": "code",
   "execution_count": null,
   "metadata": {},
   "outputs": [],
   "source": [
    "str(z)"
   ]
  },
  {
   "cell_type": "markdown",
   "metadata": {},
   "source": [
    "Review what the following very helpful general Python buit-in functions perform:\n",
    "1. type (specify a Python object/name/variable)\n",
    "2. dir (specify a Python object/name/variable or simply enter \"dir()\" and see all defined Python objects for this session )\n",
    "3. help (specify a Python object/name/variable)\n",
    "4. globals (globals takes no arguments)"
   ]
  },
  {
   "cell_type": "code",
   "execution_count": null,
   "metadata": {},
   "outputs": [],
   "source": [
    "globals()['_ih'] # This shows you want is in your current IPython session's history.\n",
    "dir(x)"
   ]
  },
  {
   "cell_type": "markdown",
   "metadata": {},
   "source": [
    "## Assessment of Understanding ## \n",
    "\n",
    "Using only Python built-in functions, find the statistical mean of any range of numbers starting from 1. \n",
    "Assign the end of the range with the variable <b>exam</b>\n",
    "\n",
    "To start you off, the varialbe <b> exam </b> is set to <b> 4 </b>"
   ]
  },
  {
   "cell_type": "code",
   "execution_count": null,
   "metadata": {},
   "outputs": [],
   "source": [
    "exam=4"
   ]
  },
  {
   "cell_type": "code",
   "execution_count": null,
   "metadata": {},
   "outputs": [],
   "source": [
    "sum(list(range(exam)))/len(list(range(exam)))"
   ]
  },
  {
   "cell_type": "markdown",
   "metadata": {},
   "source": [
    "Why is the answer 1.5? This is wrong from a basic math perspective but it is 100% correct from a Python perspective:\n",
    "\n",
    "1+2+3+4=10  and 10/4 = 2.5  Why did Python give the correct \"Pythonic\" answer of 1.5?"
   ]
  },
  {
   "cell_type": "code",
   "execution_count": null,
   "metadata": {},
   "outputs": [],
   "source": [
    "sum(list(range(exam)))/len(sum(list(range(exam))))"
   ]
  },
  {
   "cell_type": "code",
   "execution_count": null,
   "metadata": {},
   "outputs": [],
   "source": [
    "What caused the error above?"
   ]
  },
  {
   "cell_type": "markdown",
   "metadata": {},
   "source": [
    "## Section Two of Exploring Built-in Python Functions ##"
   ]
  },
  {
   "cell_type": "code",
   "execution_count": null,
   "metadata": {},
   "outputs": [],
   "source": [
    "demo=\"cat, dog, horse\""
   ]
  },
  {
   "cell_type": "code",
   "execution_count": null,
   "metadata": {},
   "outputs": [],
   "source": [
    "demo.split()"
   ]
  },
  {
   "cell_type": "code",
   "execution_count": null,
   "metadata": {},
   "outputs": [],
   "source": [
    "type(demo)"
   ]
  },
  {
   "cell_type": "code",
   "execution_count": null,
   "metadata": {},
   "outputs": [],
   "source": [
    "type(demo.split())"
   ]
  },
  {
   "cell_type": "code",
   "execution_count": null,
   "metadata": {},
   "outputs": [],
   "source": []
  }
 ],
 "metadata": {
  "kernelspec": {
   "display_name": "Python 3",
   "language": "python",
   "name": "python3"
  },
  "language_info": {
   "codemirror_mode": {
    "name": "ipython",
    "version": 3
   },
   "file_extension": ".py",
   "mimetype": "text/x-python",
   "name": "python",
   "nbconvert_exporter": "python",
   "pygments_lexer": "ipython3",
   "version": "3.8.5"
  }
 },
 "nbformat": 4,
 "nbformat_minor": 5
}
