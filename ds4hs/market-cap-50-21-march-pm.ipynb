{
 "cells": [
  {
   "cell_type": "code",
   "execution_count": 41,
   "id": "growing-pressing",
   "metadata": {},
   "outputs": [],
   "source": [
    "#! /usr/bin/env python3\n",
    "\n",
    "from datascience import *\n",
    "import numpy as np\n",
    "import matplotlib.pyplot as plt\n",
    "%matplotlib inline\n",
    "import datetime\n",
    "import sys"
   ]
  },
  {
   "cell_type": "code",
   "execution_count": 42,
   "id": "false-seven",
   "metadata": {},
   "outputs": [],
   "source": [
    "rawdata=Table.read_table('/home/abcaslow/data8/market-cap50billions-21-march.csv')"
   ]
  },
  {
   "cell_type": "code",
   "execution_count": 43,
   "id": "enclosed-median",
   "metadata": {},
   "outputs": [
    {
     "name": "stdout",
     "output_type": "stream",
     "text": [
      "Shape of the csv imported data to the Python object name: rawdata\n",
      "Number of columns: 8\n",
      "Number of rows: 54\n"
     ]
    }
   ],
   "source": [
    "#print(rawdata.shape)\n",
    "print(\"Shape of the csv imported data to the Python object name: rawdata\")\n",
    "print(\"Number of columns:\", rawdata.num_columns)\n",
    "print(\"Number of rows:\", rawdata.num_rows)"
   ]
  },
  {
   "cell_type": "code",
   "execution_count": 44,
   "id": "certain-campbell",
   "metadata": {},
   "outputs": [
    {
     "name": "stdout",
     "output_type": "stream",
     "text": [
      "rank int64\n",
      "date <U9\n",
      "company <U21\n",
      "sector <U12\n",
      "symbol <U5\n",
      "market-cap int64\n",
      "ipo-date <U9\n",
      "data-source <U32\n"
     ]
    }
   ],
   "source": [
    "for i in rawdata:\n",
    "  print(i,rawdata.column(i).dtype)"
   ]
  },
  {
   "cell_type": "code",
   "execution_count": 45,
   "id": "instrumental-penalty",
   "metadata": {},
   "outputs": [
    {
     "name": "stdout",
     "output_type": "stream",
     "text": [
      "Start analyzing your data with the SQL-like commands 'select', 'where' and 'group'.\n",
      "Have fun! Build some pivot tables and draw graphs to visualize your data\n"
     ]
    }
   ],
   "source": [
    "print(\"Start analyzing your data with the SQL-like commands 'select', 'where' and 'group'.\")\n",
    "print(\"Have fun! Build some pivot tables and draw graphs to visualize your data\")"
   ]
  },
  {
   "cell_type": "code",
   "execution_count": 46,
   "id": "mature-alignment",
   "metadata": {},
   "outputs": [
    {
     "name": "stdout",
     "output_type": "stream",
     "text": [
      "rank | date      | company             | sector       | symbol | market-cap | ipo-date | data-source\n",
      "1    | 10/6/2020 | Apple (G-MAFIA)     | tech         | aapl   | 1961       | 1980     | nan\n",
      "2    | 10/6/2020 | Microsoft (G-MAFIA) | tech         | msft   | 1558       | 1986     | nan\n",
      "3    | 10/6/2020 | Amazon (G-MAFIA)    | tech/retail  | amzn   | 1552       | 1997     | nan\n",
      "4    | 10/6/2020 | Alphabet  (G-MAFIA) | tech         | goog   | 987        | 2004     | nan\n",
      "5    | 10/6/2020 | Facebook (G-MAFIA)  | tech         | fb     | 736        | 2012     | nan\n",
      "6    | 10/6/2020 | Berkshire Hathaway  | conglomorate | brk.a  | 501        | nan      | nan\n",
      "7    | 10/6/2020 | VISA                | finance      | v      | 426        | 2008     | fool.com\n",
      "8    | 10/6/2020 | Walmart             | retail       | wmt    | 398        | 1972     | nan\n",
      "9    | 10/6/2020 | Tesla               | tech/auto    | tsla   | 385        | 2010     | bloomberg.com\n",
      "10   | 10/6/2020 | Johnson & Johnson   | consumer     | jnj    | 385        | 1944     | nan\n",
      "... (44 rows omitted)\n"
     ]
    }
   ],
   "source": [
    "print(rawdata)"
   ]
  },
  {
   "cell_type": "code",
   "execution_count": 40,
   "id": "sapphire-patient",
   "metadata": {
    "scrolled": true
   },
   "outputs": [
    {
     "data": {
      "image/png": "[encoded data removed]",
      "text/plain": [
       "<Figure size 432x396 with 1 Axes>"
      ]
     },
     "metadata": {
      "needs_background": "light"
     },
     "output_type": "display_data"
    }
   ],
   "source": [
    "marketcapgraph=rawdata.select('company','market-cap').sort('market-cap', descending=True).take[0:11].barh('company')"
   ]
  },
  {
   "cell_type": "code",
   "execution_count": null,
   "id": "prospective-mileage",
   "metadata": {},
   "outputs": [],
   "source": []
  }
 ],
 "metadata": {
  "kernelspec": {
   "display_name": "Python 3",
   "language": "python",
   "name": "python3"
  },
  "language_info": {
   "codemirror_mode": {
    "name": "ipython",
    "version": 3
   },
   "file_extension": ".py",
   "mimetype": "text/x-python",
   "name": "python",
   "nbconvert_exporter": "python",
   "pygments_lexer": "ipython3",
   "version": "3.6.9"
  }
 },
 "nbformat": 4,
 "nbformat_minor": 5
}
