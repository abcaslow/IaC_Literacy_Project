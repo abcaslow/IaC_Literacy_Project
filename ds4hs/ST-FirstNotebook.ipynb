{
 "cells": [
  {
   "cell_type": "markdown",
   "id": "c8331ffb-5e8d-4ba2-97d8-2ad9fe0cd73e",
   "metadata": {},
   "source": [
    "I am the best computer scientist at Chantilly High school."
   ]
  },
  {
   "cell_type": "code",
   "execution_count": 2,
   "id": "eb24b65d-4cd7-4a23-92ff-5db930f4df5e",
   "metadata": {},
   "outputs": [],
   "source": [
    "import datascience\n"
   ]
  },
  {
   "cell_type": "markdown",
   "id": "fb793fe5-ace7-47b1-9399-738d54b1c24d",
   "metadata": {},
   "source": [
    "lets check datascience for its python object type."
   ]
  },
  {
   "cell_type": "code",
   "execution_count": 3,
   "id": "7b3dc208-3cf4-43e5-a65f-7bcb16ebc079",
   "metadata": {},
   "outputs": [
    {
     "data": {
      "text/plain": [
       "module"
      ]
     },
     "execution_count": 3,
     "metadata": {},
     "output_type": "execute_result"
    }
   ],
   "source": [
    "type(datascience)"
   ]
  },
  {
   "cell_type": "code",
   "execution_count": 4,
   "id": "53f3d6cc-ae45-407b-9363-1ba09714bea8",
   "metadata": {},
   "outputs": [
    {
     "data": {
      "text/plain": [
       "'/home/ShreejaTangutur/IaC_Literacy_Project/ds4hs'"
      ]
     },
     "execution_count": 4,
     "metadata": {},
     "output_type": "execute_result"
    }
   ],
   "source": [
    "pwd\n"
   ]
  },
  {
   "cell_type": "code",
   "execution_count": 5,
   "id": "e005f4d7-72dd-4a43-b30d-7859c714ea3c",
   "metadata": {},
   "outputs": [
    {
     "name": "stdout",
     "output_type": "stream",
     "text": [
      "/home/ShreejaTangutur/IaC_Literacy_Project\n"
     ]
    }
   ],
   "source": [
    "cd .."
   ]
  },
  {
   "cell_type": "code",
   "execution_count": 6,
   "id": "f9895a3b-8ca7-40f3-973a-84eef48d88ee",
   "metadata": {},
   "outputs": [
    {
     "data": {
      "text/plain": [
       "'/home/ShreejaTangutur/IaC_Literacy_Project'"
      ]
     },
     "execution_count": 6,
     "metadata": {},
     "output_type": "execute_result"
    }
   ],
   "source": [
    "pwd\n"
   ]
  },
  {
   "cell_type": "code",
   "execution_count": null,
   "id": "385c94c8-3c86-4c8f-a33f-7681b18267b6",
   "metadata": {},
   "outputs": [],
   "source": []
  }
 ],
 "metadata": {
  "kernelspec": {
   "display_name": "Python 3",
   "language": "python",
   "name": "python3"
  },
  "language_info": {
   "codemirror_mode": {
    "name": "ipython",
    "version": 3
   },
   "file_extension": ".py",
   "mimetype": "text/x-python",
   "name": "python",
   "nbconvert_exporter": "python",
   "pygments_lexer": "ipython3",
   "version": "3.6.9"
  }
 },
 "nbformat": 4,
 "nbformat_minor": 5
}
