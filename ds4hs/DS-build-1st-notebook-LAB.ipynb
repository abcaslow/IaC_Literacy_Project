{
 "cells": [
  {
   "cell_type": "markdown",
   "id": "0ca255ec-3382-4e0d-9eae-b7e056537604",
   "metadata": {},
   "source": [
    "Start with importing the necessary Python modules for Data Science."
   ]
  },
  {
   "cell_type": "code",
   "execution_count": 1,
   "id": "8caee35f-6ec2-431a-9211-9a9244d821cf",
   "metadata": {},
   "outputs": [],
   "source": [
    "from datascience import *"
   ]
  },
  {
   "cell_type": "markdown",
   "id": "c12476fa-487d-4435-954f-97efb2ee422d",
   "metadata": {},
   "source": [
    "Next, import the desired csv file containing the actual data you want to explore\n",
    "NOTE: If this step fails, it is very likely due to an error in specifying the \n",
    "exact file system path for the desired csv file you want to load.\n",
    "\n",
    "Do you understand every single character in the following file with path statement?\n",
    "\n",
    "'~/IaC_Literacy_Project/ds4hs/sat2014.csv'\n",
    "\n",
    "What exactly does the ~ mean? Does it mean \"home directory\"?\n",
    "\n",
    "What is the specific role of each / symbol?\n",
    "\n",
    "This is all very, very important to thoroughly understand.\n",
    "\n",
    "Perhaps you want to use the following LINUX utility to search for your csv file:\n",
    "\n",
    "find . -name \"d*.ipynb\" 2>/dev/null\n"
   ]
  },
  {
   "cell_type": "code",
   "execution_count": 2,
   "id": "74bf9e46-ca52-4665-a48a-e5fa196bbb61",
   "metadata": {},
   "outputs": [],
   "source": [
    "rawdata=Table.read_table('~/IaC_Literacy_Project/ds4hs/sat2014.csv')"
   ]
  },
  {
   "cell_type": "markdown",
   "id": "220f9a7c-78d0-4a0b-9bd4-545e2765ded4",
   "metadata": {},
   "source": [
    "Explore the \"shape\" of the data.\n",
    "Determine the number of rows and columns in the data."
   ]
  },
  {
   "cell_type": "code",
   "execution_count": 3,
   "id": "b1ec23a0-21d8-4568-9eef-a61455c6849a",
   "metadata": {},
   "outputs": [
    {
     "name": "stdout",
     "output_type": "stream",
     "text": [
      "Number of columns: 6\n",
      "Number of rows: 51\n"
     ]
    }
   ],
   "source": [
    "print(\"Number of columns:\", rawdata.num_columns)\n",
    "print(\"Number of rows:\", rawdata.num_rows)"
   ]
  },
  {
   "cell_type": "markdown",
   "id": "c30c47a1-4f88-4ad6-9ad1-b5c76e90895b",
   "metadata": {},
   "source": [
    "How big is this data set you are working with? \n",
    "Does it have lots of rows and columns?"
   ]
  },
  {
   "cell_type": "code",
   "execution_count": 4,
   "id": "07c89354-e48e-4989-9007-57f8503c50c2",
   "metadata": {},
   "outputs": [
    {
     "name": "stdout",
     "output_type": "stream",
     "text": [
      "State        | Participation Rate | Critical Reading | Math | Writing | Combined\n",
      "North Dakota | 2.3                | 612              | 620  | 584     | 1816\n",
      "Illinois     | 4.6                | 599              | 616  | 587     | 1802\n",
      "Iowa         | 3.1                | 605              | 611  | 578     | 1794\n",
      "South Dakota | 2.9                | 604              | 609  | 579     | 1792\n",
      "Minnesota    | 5.9                | 598              | 610  | 578     | 1786\n",
      "Michigan     | 3.8                | 593              | 610  | 581     | 1784\n",
      "Wisconsin    | 3.9                | 596              | 608  | 578     | 1782\n",
      "Missouri     | 4.2                | 595              | 597  | 579     | 1771\n",
      "Wyoming      | 3.3                | 590              | 599  | 573     | 1762\n",
      "Kansas       | 5.3                | 591              | 596  | 566     | 1753\n",
      "... (41 rows omitted)\n"
     ]
    }
   ],
   "source": [
    "print(rawdata)"
   ]
  },
  {
   "cell_type": "markdown",
   "id": "c4c7787d-a76e-492b-a1e3-581763a6b904",
   "metadata": {},
   "source": [
    "Select only 3 columns.\n",
    "For the SAT2014 data set, select: State, Participation Rage and Combined."
   ]
  },
  {
   "cell_type": "code",
   "execution_count": 5,
   "id": "26851565-e21d-48ea-9125-ea7a82f1d5d2",
   "metadata": {},
   "outputs": [
    {
     "data": {
      "text/html": [
       "<table border=\"1\" class=\"dataframe\">\n",
       "    <thead>\n",
       "        <tr>\n",
       "            <th>State</th> <th>Participation Rate</th> <th>Combined</th>\n",
       "        </tr>\n",
       "    </thead>\n",
       "    <tbody>\n",
       "        <tr>\n",
       "            <td>North Dakota</td> <td>2.3               </td> <td>1816    </td>\n",
       "        </tr>\n",
       "        <tr>\n",
       "            <td>Illinois    </td> <td>4.6               </td> <td>1802    </td>\n",
       "        </tr>\n",
       "        <tr>\n",
       "            <td>Iowa        </td> <td>3.1               </td> <td>1794    </td>\n",
       "        </tr>\n",
       "        <tr>\n",
       "            <td>South Dakota</td> <td>2.9               </td> <td>1792    </td>\n",
       "        </tr>\n",
       "        <tr>\n",
       "            <td>Minnesota   </td> <td>5.9               </td> <td>1786    </td>\n",
       "        </tr>\n",
       "        <tr>\n",
       "            <td>Michigan    </td> <td>3.8               </td> <td>1784    </td>\n",
       "        </tr>\n",
       "        <tr>\n",
       "            <td>Wisconsin   </td> <td>3.9               </td> <td>1782    </td>\n",
       "        </tr>\n",
       "        <tr>\n",
       "            <td>Missouri    </td> <td>4.2               </td> <td>1771    </td>\n",
       "        </tr>\n",
       "        <tr>\n",
       "            <td>Wyoming     </td> <td>3.3               </td> <td>1762    </td>\n",
       "        </tr>\n",
       "        <tr>\n",
       "            <td>Kansas      </td> <td>5.3               </td> <td>1753    </td>\n",
       "        </tr>\n",
       "    </tbody>\n",
       "</table>\n",
       "<p>... (41 rows omitted)</p>"
      ],
      "text/plain": [
       "State        | Participation Rate | Combined\n",
       "North Dakota | 2.3                | 1816\n",
       "Illinois     | 4.6                | 1802\n",
       "Iowa         | 3.1                | 1794\n",
       "South Dakota | 2.9                | 1792\n",
       "Minnesota    | 5.9                | 1786\n",
       "Michigan     | 3.8                | 1784\n",
       "Wisconsin    | 3.9                | 1782\n",
       "Missouri     | 4.2                | 1771\n",
       "Wyoming      | 3.3                | 1762\n",
       "Kansas       | 5.3                | 1753\n",
       "... (41 rows omitted)"
      ]
     },
     "execution_count": 5,
     "metadata": {},
     "output_type": "execute_result"
    }
   ],
   "source": [
    "rawdata.select('State','Participation Rate', 'Combined')"
   ]
  },
  {
   "cell_type": "markdown",
   "id": "ee757aab-eed8-48a5-9335-765719d7ca9d",
   "metadata": {},
   "source": [
    "Enter the Python \"type\" statement to determine the Python Data Type of the object \"rawdata\""
   ]
  },
  {
   "cell_type": "code",
   "execution_count": 6,
   "id": "efeb4b0b-ea5e-4923-95db-7f439d145f0a",
   "metadata": {},
   "outputs": [
    {
     "data": {
      "text/plain": [
       "datascience.tables.Table"
      ]
     },
     "execution_count": 6,
     "metadata": {},
     "output_type": "execute_result"
    }
   ],
   "source": [
    "type(rawdata)"
   ]
  },
  {
   "cell_type": "markdown",
   "id": "54a23751-658c-48e2-81f1-a3d29b85c276",
   "metadata": {},
   "source": [
    "Enter the following Python \"dtype\" expression to determine the Python \"Data Science\" specific Data Type of the object \"rawdata\""
   ]
  },
  {
   "cell_type": "code",
   "execution_count": 7,
   "id": "aa1e6259-3a70-4fa1-b281-e77154220e8e",
   "metadata": {},
   "outputs": [
    {
     "name": "stderr",
     "output_type": "stream",
     "text": [
      "/home/abcaslow/.local/lib/python3.6/site-packages/datascience/tables.py:222: FutureWarning: Implicit column method lookup is deprecated.\n",
      "  warnings.warn(\"Implicit column method lookup is deprecated.\", FutureWarning)\n"
     ]
    },
    {
     "data": {
      "text/html": [
       "<table border=\"1\" class=\"dataframe\">\n",
       "    <thead>\n",
       "        <tr>\n",
       "            <th>State</th> <th>Participation Rate</th> <th>Critical Reading</th> <th>Math</th> <th>Writing</th> <th>Combined</th>\n",
       "        </tr>\n",
       "    </thead>\n",
       "    <tbody>\n",
       "        <tr>\n",
       "            <td><U20 </td> <td>float64           </td> <td>int64           </td> <td>int64</td> <td>int64  </td> <td>int64   </td>\n",
       "        </tr>\n",
       "    </tbody>\n",
       "</table>"
      ],
      "text/plain": [
       "State | Participation Rate | Critical Reading | Math  | Writing | Combined\n",
       "<U20  | float64            | int64            | int64 | int64   | int64"
      ]
     },
     "execution_count": 7,
     "metadata": {},
     "output_type": "execute_result"
    }
   ],
   "source": [
    "rawdata.dtype"
   ]
  },
  {
   "cell_type": "markdown",
   "id": "0f558aaf-4479-47f4-95f1-328d92139b00",
   "metadata": {},
   "source": [
    "The data generated above was confusing and not very useful. Let's extract the same data using the following Python \"for\" loop:"
   ]
  },
  {
   "cell_type": "code",
   "execution_count": 8,
   "id": "317be019-eeb5-47d5-a1b1-52cadb3e25d0",
   "metadata": {},
   "outputs": [
    {
     "name": "stdout",
     "output_type": "stream",
     "text": [
      "State <U20\n",
      "Participation Rate float64\n",
      "Critical Reading int64\n",
      "Math int64\n",
      "Writing int64\n",
      "Combined int64\n"
     ]
    }
   ],
   "source": [
    "rawdata_labels=rawdata.labels\n",
    "for i in rawdata_labels:\n",
    "  print(i,rawdata.column(i).dtype)"
   ]
  },
  {
   "cell_type": "markdown",
   "id": "143c9670-273a-4dc0-af40-1dddaf858943",
   "metadata": {},
   "source": [
    "Reviewing the output above, which colum from the rawdata table is a string and which columns are numeric?"
   ]
  },
  {
   "cell_type": "markdown",
   "id": "2ff5f8b3-cdff-416d-9e80-7f7a115fe467",
   "metadata": {},
   "source": [
    "Now let's attempt to sort or Data Science Table with the .sort method."
   ]
  },
  {
   "cell_type": "code",
   "execution_count": 10,
   "id": "28e0b814-2dfe-441f-8b62-3e582cadc8dc",
   "metadata": {},
   "outputs": [
    {
     "data": {
      "text/plain": [
       "<bound method Table.sort of State        | Participation Rate | Critical Reading | Math | Writing | Combined\n",
       "North Dakota | 2.3                | 612              | 620  | 584     | 1816\n",
       "Illinois     | 4.6                | 599              | 616  | 587     | 1802\n",
       "Iowa         | 3.1                | 605              | 611  | 578     | 1794\n",
       "South Dakota | 2.9                | 604              | 609  | 579     | 1792\n",
       "Minnesota    | 5.9                | 598              | 610  | 578     | 1786\n",
       "Michigan     | 3.8                | 593              | 610  | 581     | 1784\n",
       "Wisconsin    | 3.9                | 596              | 608  | 578     | 1782\n",
       "Missouri     | 4.2                | 595              | 597  | 579     | 1771\n",
       "Wyoming      | 3.3                | 590              | 599  | 573     | 1762\n",
       "Kansas       | 5.3                | 591              | 596  | 566     | 1753\n",
       "... (41 rows omitted)>"
      ]
     },
     "execution_count": 10,
     "metadata": {},
     "output_type": "execute_result"
    }
   ],
   "source": [
    "rawdata.sort"
   ]
  },
  {
   "cell_type": "markdown",
   "id": "f7bfdc52-9cc7-4e42-8729-8bc3416365fa",
   "metadata": {},
   "source": [
    "Notice how nothing really happened at all. This command simply printed the following statement:\n",
    "\n",
    "<bound method Table.sort of State ... followed by the imported data set.\n",
    "       \n",
    "Since it is a Python method, let's add a pair of parentheses after the sort method:"
   ]
  },
  {
   "cell_type": "code",
   "execution_count": 11,
   "id": "19427d2c-cbb0-4234-9d6c-d6f128394545",
   "metadata": {},
   "outputs": [
    {
     "ename": "TypeError",
     "evalue": "sort() missing 1 required positional argument: 'column_or_label'",
     "output_type": "error",
     "traceback": [
      "\u001b[0;31m---------------------------------------------------------------------------\u001b[0m",
      "\u001b[0;31mTypeError\u001b[0m                                 Traceback (most recent call last)",
      "\u001b[0;32m<ipython-input-11-f698343df2b9>\u001b[0m in \u001b[0;36m<module>\u001b[0;34m\u001b[0m\n\u001b[0;32m----> 1\u001b[0;31m \u001b[0mrawdata\u001b[0m\u001b[0;34m.\u001b[0m\u001b[0msort\u001b[0m\u001b[0;34m(\u001b[0m\u001b[0;34m)\u001b[0m\u001b[0;34m\u001b[0m\u001b[0;34m\u001b[0m\u001b[0m\n\u001b[0m",
      "\u001b[0;31mTypeError\u001b[0m: sort() missing 1 required positional argument: 'column_or_label'"
     ]
    }
   ],
   "source": [
    "rawdata.sort()"
   ]
  },
  {
   "cell_type": "markdown",
   "id": "676a687d-c466-47de-baab-1f1cc3e49bfd",
   "metadata": {},
   "source": [
    "Notice that an error message was generated. What exactly is this error message telling you?\n",
    "\n",
    "Run the following help command to obtain more information and instructions on how to use the Data Science \"sort\" method."
   ]
  },
  {
   "cell_type": "code",
   "execution_count": 12,
   "id": "8742dc76-4f5b-4325-a2d9-d54616a68502",
   "metadata": {},
   "outputs": [
    {
     "data": {
      "text/plain": [
       "\u001b[0;31mSignature:\u001b[0m \u001b[0mrawdata\u001b[0m\u001b[0;34m.\u001b[0m\u001b[0msort\u001b[0m\u001b[0;34m(\u001b[0m\u001b[0mcolumn_or_label\u001b[0m\u001b[0;34m,\u001b[0m \u001b[0mdescending\u001b[0m\u001b[0;34m=\u001b[0m\u001b[0;32mFalse\u001b[0m\u001b[0;34m,\u001b[0m \u001b[0mdistinct\u001b[0m\u001b[0;34m=\u001b[0m\u001b[0;32mFalse\u001b[0m\u001b[0;34m)\u001b[0m\u001b[0;34m\u001b[0m\u001b[0;34m\u001b[0m\u001b[0m\n",
       "\u001b[0;31mDocstring:\u001b[0m\n",
       "Return a Table of rows sorted according to the values in a column.\n",
       "\n",
       "Args:\n",
       "    ``column_or_label``: the column whose values are used for sorting.\n",
       "\n",
       "    ``descending``: if True, sorting will be in descending, rather than\n",
       "        ascending order.\n",
       "\n",
       "    ``distinct``: if True, repeated values in ``column_or_label`` will\n",
       "        be omitted.\n",
       "\n",
       "Returns:\n",
       "    An instance of ``Table`` containing rows sorted based on the values\n",
       "    in ``column_or_label``.\n",
       "\n",
       ">>> marbles = Table().with_columns(\n",
       "...    \"Color\", make_array(\"Red\", \"Green\", \"Blue\", \"Red\", \"Green\", \"Green\"),\n",
       "...    \"Shape\", make_array(\"Round\", \"Rectangular\", \"Rectangular\", \"Round\", \"Rectangular\", \"Round\"),\n",
       "...    \"Amount\", make_array(4, 6, 12, 7, 9, 2),\n",
       "...    \"Price\", make_array(1.30, 1.30, 2.00, 1.75, 1.40, 1.00))\n",
       ">>> marbles\n",
       "Color | Shape       | Amount | Price\n",
       "Red   | Round       | 4      | 1.3\n",
       "Green | Rectangular | 6      | 1.3\n",
       "Blue  | Rectangular | 12     | 2\n",
       "Red   | Round       | 7      | 1.75\n",
       "Green | Rectangular | 9      | 1.4\n",
       "Green | Round       | 2      | 1\n",
       ">>> marbles.sort(\"Amount\")\n",
       "Color | Shape       | Amount | Price\n",
       "Green | Round       | 2      | 1\n",
       "Red   | Round       | 4      | 1.3\n",
       "Green | Rectangular | 6      | 1.3\n",
       "Red   | Round       | 7      | 1.75\n",
       "Green | Rectangular | 9      | 1.4\n",
       "Blue  | Rectangular | 12     | 2\n",
       ">>> marbles.sort(\"Amount\", descending = True)\n",
       "Color | Shape       | Amount | Price\n",
       "Blue  | Rectangular | 12     | 2\n",
       "Green | Rectangular | 9      | 1.4\n",
       "Red   | Round       | 7      | 1.75\n",
       "Green | Rectangular | 6      | 1.3\n",
       "Red   | Round       | 4      | 1.3\n",
       "Green | Round       | 2      | 1\n",
       ">>> marbles.sort(3) # the Price column\n",
       "Color | Shape       | Amount | Price\n",
       "Green | Round       | 2      | 1\n",
       "Red   | Round       | 4      | 1.3\n",
       "Green | Rectangular | 6      | 1.3\n",
       "Green | Rectangular | 9      | 1.4\n",
       "Red   | Round       | 7      | 1.75\n",
       "Blue  | Rectangular | 12     | 2\n",
       ">>> marbles.sort(3, distinct = True)\n",
       "Color | Shape       | Amount | Price\n",
       "Green | Round       | 2      | 1\n",
       "Red   | Round       | 4      | 1.3\n",
       "Green | Rectangular | 9      | 1.4\n",
       "Red   | Round       | 7      | 1.75\n",
       "Blue  | Rectangular | 12     | 2\n",
       "\u001b[0;31mFile:\u001b[0m      ~/.local/lib/python3.6/site-packages/datascience/tables.py\n",
       "\u001b[0;31mType:\u001b[0m      method\n"
      ]
     },
     "metadata": {},
     "output_type": "display_data"
    }
   ],
   "source": [
    "?rawdata.sort"
   ]
  },
  {
   "cell_type": "markdown",
   "id": "740086df-e5b9-44e2-a0e8-4b32b316fd34",
   "metadata": {},
   "source": [
    "Here is a second option for obtaining help in iPython in particular and in all Python shell's in general"
   ]
  },
  {
   "cell_type": "code",
   "execution_count": 13,
   "id": "a68546b1-92fd-4e66-a950-bf4d1a3024a0",
   "metadata": {},
   "outputs": [
    {
     "name": "stdout",
     "output_type": "stream",
     "text": [
      "Help on method sort in module datascience.tables:\n",
      "\n",
      "sort(column_or_label, descending=False, distinct=False) method of datascience.tables.Table instance\n",
      "    Return a Table of rows sorted according to the values in a column.\n",
      "    \n",
      "    Args:\n",
      "        ``column_or_label``: the column whose values are used for sorting.\n",
      "    \n",
      "        ``descending``: if True, sorting will be in descending, rather than\n",
      "            ascending order.\n",
      "    \n",
      "        ``distinct``: if True, repeated values in ``column_or_label`` will\n",
      "            be omitted.\n",
      "    \n",
      "    Returns:\n",
      "        An instance of ``Table`` containing rows sorted based on the values\n",
      "        in ``column_or_label``.\n",
      "    \n",
      "    >>> marbles = Table().with_columns(\n",
      "    ...    \"Color\", make_array(\"Red\", \"Green\", \"Blue\", \"Red\", \"Green\", \"Green\"),\n",
      "    ...    \"Shape\", make_array(\"Round\", \"Rectangular\", \"Rectangular\", \"Round\", \"Rectangular\", \"Round\"),\n",
      "    ...    \"Amount\", make_array(4, 6, 12, 7, 9, 2),\n",
      "    ...    \"Price\", make_array(1.30, 1.30, 2.00, 1.75, 1.40, 1.00))\n",
      "    >>> marbles\n",
      "    Color | Shape       | Amount | Price\n",
      "    Red   | Round       | 4      | 1.3\n",
      "    Green | Rectangular | 6      | 1.3\n",
      "    Blue  | Rectangular | 12     | 2\n",
      "    Red   | Round       | 7      | 1.75\n",
      "    Green | Rectangular | 9      | 1.4\n",
      "    Green | Round       | 2      | 1\n",
      "    >>> marbles.sort(\"Amount\")\n",
      "    Color | Shape       | Amount | Price\n",
      "    Green | Round       | 2      | 1\n",
      "    Red   | Round       | 4      | 1.3\n",
      "    Green | Rectangular | 6      | 1.3\n",
      "    Red   | Round       | 7      | 1.75\n",
      "    Green | Rectangular | 9      | 1.4\n",
      "    Blue  | Rectangular | 12     | 2\n",
      "    >>> marbles.sort(\"Amount\", descending = True)\n",
      "    Color | Shape       | Amount | Price\n",
      "    Blue  | Rectangular | 12     | 2\n",
      "    Green | Rectangular | 9      | 1.4\n",
      "    Red   | Round       | 7      | 1.75\n",
      "    Green | Rectangular | 6      | 1.3\n",
      "    Red   | Round       | 4      | 1.3\n",
      "    Green | Round       | 2      | 1\n",
      "    >>> marbles.sort(3) # the Price column\n",
      "    Color | Shape       | Amount | Price\n",
      "    Green | Round       | 2      | 1\n",
      "    Red   | Round       | 4      | 1.3\n",
      "    Green | Rectangular | 6      | 1.3\n",
      "    Green | Rectangular | 9      | 1.4\n",
      "    Red   | Round       | 7      | 1.75\n",
      "    Blue  | Rectangular | 12     | 2\n",
      "    >>> marbles.sort(3, distinct = True)\n",
      "    Color | Shape       | Amount | Price\n",
      "    Green | Round       | 2      | 1\n",
      "    Red   | Round       | 4      | 1.3\n",
      "    Green | Rectangular | 9      | 1.4\n",
      "    Red   | Round       | 7      | 1.75\n",
      "    Blue  | Rectangular | 12     | 2\n",
      "\n"
     ]
    }
   ],
   "source": [
    "help(rawdata.sort)"
   ]
  },
  {
   "cell_type": "markdown",
   "id": "9532a05c-3b7b-4699-bbe6-e86d57cf8d77",
   "metadata": {},
   "source": [
    "Exactly why does the following Python statement generate an error"
   ]
  },
  {
   "cell_type": "code",
   "execution_count": 16,
   "id": "2971def1-21c3-42df-8115-1c4c2a21f533",
   "metadata": {},
   "outputs": [
    {
     "ename": "NameError",
     "evalue": "name 'State' is not defined",
     "output_type": "error",
     "traceback": [
      "\u001b[0;31m---------------------------------------------------------------------------\u001b[0m",
      "\u001b[0;31mNameError\u001b[0m                                 Traceback (most recent call last)",
      "\u001b[0;32m<ipython-input-16-22bff3a1a937>\u001b[0m in \u001b[0;36m<module>\u001b[0;34m\u001b[0m\n\u001b[0;32m----> 1\u001b[0;31m \u001b[0mrawdata\u001b[0m\u001b[0;34m.\u001b[0m\u001b[0msort\u001b[0m\u001b[0;34m(\u001b[0m\u001b[0mState\u001b[0m\u001b[0;34m)\u001b[0m\u001b[0;34m\u001b[0m\u001b[0;34m\u001b[0m\u001b[0m\n\u001b[0m",
      "\u001b[0;31mNameError\u001b[0m: name 'State' is not defined"
     ]
    }
   ],
   "source": [
    "rawdata.sort(State)"
   ]
  },
  {
   "cell_type": "code",
   "execution_count": 17,
   "id": "30bf531d-7c84-423c-beae-da3694891366",
   "metadata": {},
   "outputs": [
    {
     "data": {
      "text/html": [
       "<table border=\"1\" class=\"dataframe\">\n",
       "    <thead>\n",
       "        <tr>\n",
       "            <th>State</th> <th>Participation Rate</th> <th>Critical Reading</th> <th>Math</th> <th>Writing</th> <th>Combined</th>\n",
       "        </tr>\n",
       "    </thead>\n",
       "    <tbody>\n",
       "        <tr>\n",
       "            <td>Alabama             </td> <td>6.7               </td> <td>547             </td> <td>538 </td> <td>532    </td> <td>1617    </td>\n",
       "        </tr>\n",
       "        <tr>\n",
       "            <td>Alaska              </td> <td>54.2              </td> <td>507             </td> <td>503 </td> <td>475    </td> <td>1485    </td>\n",
       "        </tr>\n",
       "        <tr>\n",
       "            <td>Arizona             </td> <td>36.4              </td> <td>522             </td> <td>525 </td> <td>500    </td> <td>1547    </td>\n",
       "        </tr>\n",
       "        <tr>\n",
       "            <td>Arkansas            </td> <td>4.2               </td> <td>573             </td> <td>571 </td> <td>554    </td> <td>1698    </td>\n",
       "        </tr>\n",
       "        <tr>\n",
       "            <td>California          </td> <td>60.3              </td> <td>498             </td> <td>510 </td> <td>496    </td> <td>1504    </td>\n",
       "        </tr>\n",
       "        <tr>\n",
       "            <td>Colorado            </td> <td>14.3              </td> <td>582             </td> <td>586 </td> <td>567    </td> <td>1735    </td>\n",
       "        </tr>\n",
       "        <tr>\n",
       "            <td>Connecticut         </td> <td>88.4              </td> <td>507             </td> <td>510 </td> <td>508    </td> <td>1525    </td>\n",
       "        </tr>\n",
       "        <tr>\n",
       "            <td>Delaware            </td> <td>100               </td> <td>456             </td> <td>459 </td> <td>444    </td> <td>1359    </td>\n",
       "        </tr>\n",
       "        <tr>\n",
       "            <td>District of Columbia</td> <td>100               </td> <td>440             </td> <td>438 </td> <td>431    </td> <td>1309    </td>\n",
       "        </tr>\n",
       "        <tr>\n",
       "            <td>Florida             </td> <td>72.2              </td> <td>491             </td> <td>485 </td> <td>472    </td> <td>1448    </td>\n",
       "        </tr>\n",
       "    </tbody>\n",
       "</table>\n",
       "<p>... (41 rows omitted)</p>"
      ],
      "text/plain": [
       "State                | Participation Rate | Critical Reading | Math | Writing | Combined\n",
       "Alabama              | 6.7                | 547              | 538  | 532     | 1617\n",
       "Alaska               | 54.2               | 507              | 503  | 475     | 1485\n",
       "Arizona              | 36.4               | 522              | 525  | 500     | 1547\n",
       "Arkansas             | 4.2                | 573              | 571  | 554     | 1698\n",
       "California           | 60.3               | 498              | 510  | 496     | 1504\n",
       "Colorado             | 14.3               | 582              | 586  | 567     | 1735\n",
       "Connecticut          | 88.4               | 507              | 510  | 508     | 1525\n",
       "Delaware             | 100                | 456              | 459  | 444     | 1359\n",
       "District of Columbia | 100                | 440              | 438  | 431     | 1309\n",
       "Florida              | 72.2               | 491              | 485  | 472     | 1448\n",
       "... (41 rows omitted)"
      ]
     },
     "execution_count": 17,
     "metadata": {},
     "output_type": "execute_result"
    }
   ],
   "source": [
    "rawdata.sort('State')"
   ]
  },
  {
   "cell_type": "markdown",
   "id": "ce34aedb-4bb2-4632-bd70-652a7c9e01ea",
   "metadata": {},
   "source": [
    "Make the following multi-function/method Data Science Python statement work.\n",
    "\n",
    "rawdata.select('company','mrkt-cap').sort('mrkt-cap').take[0:11].barh('Combined')\n",
    "\n",
    "The Data Science functions/methods featured in this sample statement are:\n",
    "    select, group,sort and graph (barh).\n",
    "Note: Carefully examine the column headings of the specific data set you have loaded\n",
    "    to work with. Are the column names in this sample Python statement match the\n",
    "    column names used in your data set? If not, you need to change them.\n",
    "    \n",
    "Start with only selecting specific columns and sorting the data.\n",
    "Do NOT attempt to generate a graph in this next step."
   ]
  },
  {
   "cell_type": "code",
   "execution_count": 18,
   "id": "b1a1d9c3-bac0-4681-8692-62322f82ac15",
   "metadata": {},
   "outputs": [
    {
     "data": {
      "text/html": [
       "<table border=\"1\" class=\"dataframe\">\n",
       "    <thead>\n",
       "        <tr>\n",
       "            <th>State</th> <th>Combined</th>\n",
       "        </tr>\n",
       "    </thead>\n",
       "    <tbody>\n",
       "        <tr>\n",
       "            <td>District of Columbia</td> <td>1309    </td>\n",
       "        </tr>\n",
       "        <tr>\n",
       "            <td>Delaware            </td> <td>1359    </td>\n",
       "        </tr>\n",
       "        <tr>\n",
       "            <td>Idaho               </td> <td>1364    </td>\n",
       "        </tr>\n",
       "        <tr>\n",
       "            <td>Maine               </td> <td>1387    </td>\n",
       "        </tr>\n",
       "        <tr>\n",
       "            <td>Texas               </td> <td>1432    </td>\n",
       "        </tr>\n",
       "        <tr>\n",
       "            <td>South Carolina      </td> <td>1443    </td>\n",
       "        </tr>\n",
       "        <tr>\n",
       "            <td>Georgia             </td> <td>1445    </td>\n",
       "        </tr>\n",
       "        <tr>\n",
       "            <td>Florida             </td> <td>1448    </td>\n",
       "        </tr>\n",
       "        <tr>\n",
       "            <td>Nevada              </td> <td>1458    </td>\n",
       "        </tr>\n",
       "        <tr>\n",
       "            <td>Hawaii              </td> <td>1460    </td>\n",
       "        </tr>\n",
       "    </tbody>\n",
       "</table>\n",
       "<p>... (41 rows omitted)</p>"
      ],
      "text/plain": [
       "State                | Combined\n",
       "District of Columbia | 1309\n",
       "Delaware             | 1359\n",
       "Idaho                | 1364\n",
       "Maine                | 1387\n",
       "Texas                | 1432\n",
       "South Carolina       | 1443\n",
       "Georgia              | 1445\n",
       "Florida              | 1448\n",
       "Nevada               | 1458\n",
       "Hawaii               | 1460\n",
       "... (41 rows omitted)"
      ]
     },
     "execution_count": 18,
     "metadata": {},
     "output_type": "execute_result"
    }
   ],
   "source": [
    "rawdata.select('State','Combined').sort('Combined')"
   ]
  },
  {
   "cell_type": "markdown",
   "id": "988cbf76-0aa4-4c0f-a42c-3d4b0e51ed7c",
   "metadata": {},
   "source": [
    "Now generate a graph for this data by adding on the '.barh' Python method to \n",
    "the end of the previous statement:"
   ]
  },
  {
   "cell_type": "code",
   "execution_count": 19,
   "id": "b49d75b0-5bcb-4faf-a6b4-77151fee99c0",
   "metadata": {},
   "outputs": [],
   "source": [
    "rawdata.select('State','Combined').sort('Combined').barh('State')"
   ]
  },
  {
   "cell_type": "markdown",
   "id": "f6ab55eb-83b7-441b-8505-bebbadad555b",
   "metadata": {},
   "source": [
    "Why did the statement above not display a horizontal bar graph?\n",
    "Are all of the appropriate Python modules loaded?\n",
    "\n",
    "Perhaps the following Python module import commands are needed:\n",
    "\n",
    "import matplotlib.pyplot as plt\n",
    "%matplotlib inline\n",
    "\n",
    "Now, re-run the command again below:"
   ]
  },
  {
   "cell_type": "code",
   "execution_count": 21,
   "id": "8f93d4d4-c3bf-4aa1-8909-77a3e934650b",
   "metadata": {},
   "outputs": [],
   "source": [
    "import matplotlib.pyplot as plt\n",
    "%matplotlib inline"
   ]
  },
  {
   "cell_type": "code",
   "execution_count": 23,
   "id": "d2b3bdef-be5a-4d58-a22c-8e0eb0308262",
   "metadata": {},
   "outputs": [
    {
     "data": {
      "image/png": "[encoded data removed]",
      "text/plain": [
       "<Figure size 432x1836 with 1 Axes>"
      ]
     },
     "metadata": {
      "needs_background": "light"
     },
     "output_type": "display_data"
    }
   ],
   "source": [
    "rawdata.select('State','Combined').sort('Combined').barh('State')"
   ]
  },
  {
   "cell_type": "markdown",
   "id": "7f8d1679-0b35-4546-adaa-79b66fb9a52a",
   "metadata": {},
   "source": [
    "We don't want to see all 50 states + DC in our graph we only want to see the top ten states. Insert the \".take[X:Y]\" method before the \".barh\" method to achieve this."
   ]
  },
  {
   "cell_type": "code",
   "execution_count": 24,
   "id": "9738f8c4-529e-4bb9-a5b1-7f691f3f5fd7",
   "metadata": {},
   "outputs": [
    {
     "data": {
      "image/png": "[encoded data removed]",
      "text/plain": [
       "<Figure size 432x360 with 1 Axes>"
      ]
     },
     "metadata": {
      "needs_background": "light"
     },
     "output_type": "display_data"
    }
   ],
   "source": [
    "rawdata.select('State','Combined').sort('Combined').take[0:10].barh('State')"
   ]
  },
  {
   "cell_type": "code",
   "execution_count": null,
   "id": "c22d682a-029f-4c7c-b47a-947e094268e0",
   "metadata": {},
   "outputs": [],
   "source": []
  }
 ],
 "metadata": {
  "kernelspec": {
   "display_name": "Python 3",
   "language": "python",
   "name": "python3"
  },
  "language_info": {
   "codemirror_mode": {
    "name": "ipython",
    "version": 3
   },
   "file_extension": ".py",
   "mimetype": "text/x-python",
   "name": "python",
   "nbconvert_exporter": "python",
   "pygments_lexer": "ipython3",
   "version": "3.6.9"
  }
 },
 "nbformat": 4,
 "nbformat_minor": 5
}
