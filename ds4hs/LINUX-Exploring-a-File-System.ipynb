{
 "cells": [
  {
   "cell_type": "markdown",
   "id": "96330b8c-d4b1-4145-ad28-a7525af65ec6",
   "metadata": {},
   "source": [
    "This exercise will cover using the following UNIX/LINUX/MAC OSX commands:\n",
    "ls, pwd, cd, cd .., etc."
   ]
  },
  {
   "cell_type": "code",
   "execution_count": 1,
   "id": "a53669de-3e14-4966-8aac-f218250e0640",
   "metadata": {},
   "outputs": [
    {
     "data": {
      "text/plain": [
       "'/home/abcaslow/IaC_Literacy_Project/ds4hs'"
      ]
     },
     "execution_count": 1,
     "metadata": {},
     "output_type": "execute_result"
    }
   ],
   "source": [
    "pwd"
   ]
  },
  {
   "cell_type": "code",
   "execution_count": 2,
   "id": "4d9219cf-7617-456d-a53f-6eef11cd2dc3",
   "metadata": {},
   "outputs": [
    {
     "name": "stdout",
     "output_type": "stream",
     "text": [
      "amzn-ip-prefixes.json\n",
      "arp.py\n",
      "arpSearchResults.csv\n",
      "arpSearchResults.xlsx\n",
      "arp-total-pandas.json\n",
      "aws_event_history.csv\n",
      "babies-21-march.ipynb\n",
      "baby.csv\n",
      "baby-notes-24-feb\n",
      "baby-weight-21-march.ipynb\n",
      "banknote.csv\n",
      "banknotes-17-4-amazing-3d-lot-COOL\n",
      "breast-cancer-17-5-cool-scatter-plot-woth-smudges\n",
      "breast-cancer.csv\n",
      "build-1st-notebook-AK.ipynb\n",
      "build-1st-notebook-LAB.ipynb\n",
      "cam-master.csv\n",
      "camTableSearchResults.csv\n",
      "census-2014-buds-week-2\n",
      "census-wk2-mon-weds.py\n",
      "chess-games.csv\n",
      "ckd-classifiers-lesson_17-25feb\n",
      "ckd.csv\n",
      "covid_by_county.csv\n",
      "covid_by_state.csv\n",
      "covid-cases.py\n",
      "covid-scripts\n",
      "CreditCard_Aug1_Oct15_2020.csv\n",
      "creditcard_categorized.csv\n",
      "\u001b[0m\u001b[01;32mdata8-23feb.bak\u001b[0m*\n",
      "data8-internal-notes-feb-8\n",
      "\u001b[01;32mdata8.py\u001b[0m*\n",
      "ds4hs-demo.ipynb\n",
      "ds4hs-log-analysis.ipynb\n",
      "ds4hs-logins-17april\n",
      "ds4hs-logins-21-april.json\n",
      "ds4hs-notes-24feb\n",
      "groups-week-3.py\n",
      "html\n",
      "html-test\n",
      "LINUX-Exploring-a-File-System.ipynb\n",
      "logins-21-april.csv\n",
      "market-cap11.csv\n",
      "market-cap20billions.csv\n",
      "market-cap-50-21-march-pm.ipynb\n",
      "market-cap50billions-21-march.csv\n",
      "market-cap50billions.csv\n",
      "market-cap-50-billions.ipynb\n",
      "market-cap50.csv\n",
      "market-cap-notes-24-feb\n",
      "movie-ratings-wk1-wednesday.py\n",
      "nba-21-march.ipynb\n",
      "nba-notes-feb22\n",
      "nba_salaries.csv\n",
      "nba_salaries-mar-2021.ipynb\n",
      "nc-est2015-agesex-res.csv\n",
      "new-york-times-source-us-counties.csv\n",
      "numpy-under-the-hood\n",
      "pandas-notes-27-feb\n",
      "pandas-notes-groupby4arp-with-sort-28feb\n",
      "Police_Incidents_2019.csv\n",
      "police-incidents-notes\n",
      "Police_Use_of_Force.csv\n",
      "Police-Use-of-Force-Notes-23feb\n",
      "prisons1.csv\n",
      "prisons2.csv\n",
      "prisons3.csv\n",
      "sat2014.csv\n",
      "sat2014-from-data8-tutorial.csv\n",
      "sat.ipynb\n",
      "stockmarket.csv\n",
      "timestamp-json-csv-log\n",
      "Untitled1.ipynb\n",
      "Untitled2.ipynb\n",
      "Untitled.ipynb\n"
     ]
    }
   ],
   "source": [
    "ls"
   ]
  },
  {
   "cell_type": "code",
   "execution_count": 3,
   "id": "9878cad6-4e0b-419a-8a7c-98a7a9b016b5",
   "metadata": {},
   "outputs": [
    {
     "name": "stdout",
     "output_type": "stream",
     "text": [
      "total 47512\n",
      "-rw-r--r-- 1 abcaslow abcaslow   498813 Apr 16 12:19 amzn-ip-prefixes.json\n",
      "-rw-r--r-- 1 abcaslow abcaslow     2174 Apr 16 12:19 arp.py\n",
      "-rw-r--r-- 1 abcaslow abcaslow    13743 Apr 16 12:19 arpSearchResults.csv\n",
      "-rw-r--r-- 1 abcaslow abcaslow    57824 Apr 16 12:19 arpSearchResults.xlsx\n",
      "-rw-r--r-- 1 abcaslow abcaslow  1796071 Apr 16 12:19 arp-total-pandas.json\n",
      "-rw-r--r-- 1 abcaslow abcaslow   944060 Apr 16 12:19 aws_event_history.csv\n",
      "-rw-r--r-- 1 abcaslow abcaslow    16881 Apr 16 12:19 babies-21-march.ipynb\n",
      "-rw-r--r-- 1 abcaslow abcaslow    27639 Apr 16 12:19 baby.csv\n",
      "-rw-r--r-- 1 abcaslow abcaslow     1001 Apr 16 12:19 baby-notes-24-feb\n",
      "-rw-r--r-- 1 abcaslow abcaslow    17383 Apr 16 12:19 baby-weight-21-march.ipynb\n",
      "-rw-r--r-- 1 abcaslow abcaslow    46452 Apr 16 12:19 banknote.csv\n",
      "-rw-r--r-- 1 abcaslow abcaslow      542 Apr 16 12:19 banknotes-17-4-amazing-3d-lot-COOL\n",
      "-rw-r--r-- 1 abcaslow abcaslow      869 Apr 16 12:19 breast-cancer-17-5-cool-scatter-plot-woth-smudges\n",
      "-rw-r--r-- 1 abcaslow abcaslow    19620 Apr 16 12:19 breast-cancer.csv\n",
      "-rw-r--r-- 1 abcaslow abcaslow     7023 May  6 10:08 build-1st-notebook-AK.ipynb\n",
      "-rw-r--r-- 1 abcaslow abcaslow   100453 May  6 13:36 build-1st-notebook-LAB.ipynb\n",
      "-rw-r--r-- 1 abcaslow abcaslow   189401 Apr 16 12:19 cam-master.csv\n",
      "-rw-r--r-- 1 abcaslow abcaslow    32536 Apr 16 12:19 camTableSearchResults.csv\n",
      "-rw-r--r-- 1 abcaslow abcaslow      155 Apr 16 12:19 census-2014-buds-week-2\n",
      "-rw-r--r-- 1 abcaslow abcaslow     4204 Apr 16 12:19 census-wk2-mon-weds.py\n",
      "-rw-r--r-- 1 abcaslow abcaslow  7672655 Apr 16 12:19 chess-games.csv\n",
      "-rw-r--r-- 1 abcaslow abcaslow     4161 Apr 16 12:19 ckd-classifiers-lesson_17-25feb\n",
      "-rw-r--r-- 1 abcaslow abcaslow    17975 Apr 16 12:19 ckd.csv\n",
      "-rw-r--r-- 1 abcaslow abcaslow   168890 Apr 16 12:19 covid_by_county.csv\n",
      "-rw-r--r-- 1 abcaslow abcaslow    26600 Apr 16 12:19 covid_by_state.csv\n",
      "-rw-r--r-- 1 abcaslow abcaslow     1477 Apr 16 12:19 covid-cases.py\n",
      "-rw-r--r-- 1 abcaslow abcaslow      121 Apr 16 12:19 covid-scripts\n",
      "-rw-r--r-- 1 abcaslow abcaslow    18272 Apr 16 12:19 CreditCard_Aug1_Oct15_2020.csv\n",
      "-rw-r--r-- 1 abcaslow abcaslow    20414 Apr 16 12:19 creditcard_categorized.csv\n",
      "-rwxr-xr-x 1 abcaslow abcaslow      810 Apr 16 12:19 \u001b[0m\u001b[01;32mdata8-23feb.bak\u001b[0m*\n",
      "-rw-r--r-- 1 abcaslow abcaslow      463 Apr 16 12:19 data8-internal-notes-feb-8\n",
      "-rwxr-xr-x 1 abcaslow abcaslow      844 Apr 16 12:19 \u001b[01;32mdata8.py\u001b[0m*\n",
      "-rw-r--r-- 1 abcaslow abcaslow     3344 Apr 28 18:49 ds4hs-demo.ipynb\n",
      "-rw-r--r-- 1 abcaslow abcaslow     2385 Apr 21 19:56 ds4hs-log-analysis.ipynb\n",
      "-rw-r--r-- 1 abcaslow abcaslow    20481 Apr 22 13:11 ds4hs-logins-17april\n",
      "-rw-r--r-- 1 abcaslow abcaslow   145515 Apr 22 13:12 ds4hs-logins-21-april.json\n",
      "-rw-r--r-- 1 abcaslow abcaslow      329 Apr 16 12:19 ds4hs-notes-24feb\n",
      "-rw-r--r-- 1 abcaslow abcaslow     2052 Apr 16 12:19 groups-week-3.py\n",
      "-rw-r--r-- 1 abcaslow abcaslow       14 Apr 16 12:19 html\n",
      "-rw-r--r-- 1 abcaslow abcaslow       14 Apr 16 12:19 html-test\n",
      "-rw-r--r-- 1 abcaslow abcaslow      859 May  6 13:42 LINUX-Exploring-a-File-System.ipynb\n",
      "-rw-r--r-- 1 abcaslow abcaslow    15511 Apr 22 14:53 logins-21-april.csv\n",
      "-rw-r--r-- 1 abcaslow abcaslow      693 Apr 16 12:19 market-cap11.csv\n",
      "-rw-r--r-- 1 abcaslow abcaslow     1019 Apr 16 12:19 market-cap20billions.csv\n",
      "-rw-r--r-- 1 abcaslow abcaslow    24771 Apr 16 12:19 market-cap-50-21-march-pm.ipynb\n",
      "-rw-r--r-- 1 abcaslow abcaslow     2543 Apr 16 12:19 market-cap50billions-21-march.csv\n",
      "-rw-r--r-- 1 abcaslow abcaslow     3104 Apr 16 12:19 market-cap50billions.csv\n",
      "-rw-r--r-- 1 abcaslow abcaslow    28265 Apr 16 12:19 market-cap-50-billions.ipynb\n",
      "-rw-r--r-- 1 abcaslow abcaslow     3462 Apr 16 12:19 market-cap50.csv\n",
      "-rw-r--r-- 1 abcaslow abcaslow      567 Apr 16 12:19 market-cap-notes-24-feb\n",
      "-rw-r--r-- 1 abcaslow abcaslow      402 Apr 16 12:19 movie-ratings-wk1-wednesday.py\n",
      "-rw-r--r-- 1 abcaslow abcaslow    23889 Apr 16 12:19 nba-21-march.ipynb\n",
      "-rw-r--r-- 1 abcaslow abcaslow     1725 Apr 16 12:19 nba-notes-feb22\n",
      "-rw-r--r-- 1 abcaslow abcaslow    18025 Apr 16 12:19 nba_salaries.csv\n",
      "-rw-r--r-- 1 abcaslow abcaslow    23774 Apr 16 12:19 nba_salaries-mar-2021.ipynb\n",
      "-rw-r--r-- 1 abcaslow abcaslow    20831 Apr 16 12:19 nc-est2015-agesex-res.csv\n",
      "-rw-r--r-- 1 abcaslow abcaslow 22713017 Apr 16 12:19 new-york-times-source-us-counties.csv\n",
      "-rw-r--r-- 1 abcaslow abcaslow     1773 Apr 16 12:19 numpy-under-the-hood\n",
      "-rw-r--r-- 1 abcaslow abcaslow     1716 Apr 16 12:19 pandas-notes-27-feb\n",
      "-rw-r--r-- 1 abcaslow abcaslow     1559 Apr 16 12:19 pandas-notes-groupby4arp-with-sort-28feb\n",
      "-rw-r--r-- 1 abcaslow abcaslow  3397729 Apr 16 12:19 Police_Incidents_2019.csv\n",
      "-rw-r--r-- 1 abcaslow abcaslow     1941 Apr 16 12:19 police-incidents-notes\n",
      "-rw-r--r-- 1 abcaslow abcaslow  8313499 Apr 16 12:19 Police_Use_of_Force.csv\n",
      "-rw-r--r-- 1 abcaslow abcaslow     1398 Apr 16 12:19 Police-Use-of-Force-Notes-23feb\n",
      "-rw-r--r-- 1 abcaslow abcaslow   624345 Apr 16 12:19 prisons1.csv\n",
      "-rw-r--r-- 1 abcaslow abcaslow   625753 Apr 16 12:19 prisons2.csv\n",
      "-rw-r--r-- 1 abcaslow abcaslow   625697 Apr 16 12:19 prisons3.csv\n",
      "-rw-r--r-- 1 abcaslow abcaslow     1652 Apr 16 12:19 sat2014.csv\n",
      "-rw-r--r-- 1 abcaslow abcaslow     1652 Apr 16 12:19 sat2014-from-data8-tutorial.csv\n",
      "-rw-r--r-- 1 abcaslow abcaslow    59873 Apr 16 12:19 sat.ipynb\n",
      "-rw-r--r-- 1 abcaslow abcaslow     2492 Apr 16 12:19 stockmarket.csv\n",
      "-rw-r--r-- 1 abcaslow abcaslow     2884 Apr 19 21:44 timestamp-json-csv-log\n",
      "-rw-r--r-- 1 abcaslow abcaslow       72 Apr 26 18:32 Untitled1.ipynb\n",
      "-rw-r--r-- 1 abcaslow abcaslow    38956 May  6 07:44 Untitled2.ipynb\n",
      "-rw-r--r-- 1 abcaslow abcaslow     1901 Apr 16 12:19 Untitled.ipynb\n"
     ]
    }
   ],
   "source": [
    "ls -l"
   ]
  },
  {
   "cell_type": "code",
   "execution_count": 4,
   "id": "86e82f7d-7762-4706-af47-b7e18bd6261b",
   "metadata": {},
   "outputs": [
    {
     "name": "stdout",
     "output_type": "stream",
     "text": [
      "ds4hs-demo.ipynb          ds4hs-logins-17april        ds4hs-notes-24feb\n",
      "ds4hs-log-analysis.ipynb  ds4hs-logins-21-april.json\n"
     ]
    }
   ],
   "source": [
    "ls ds*"
   ]
  },
  {
   "cell_type": "code",
   "execution_count": 5,
   "id": "662b9e48-1546-4246-8b00-92f5d14d618e",
   "metadata": {},
   "outputs": [
    {
     "name": "stdout",
     "output_type": "stream",
     "text": [
      "-rw-r--r-- 1 abcaslow abcaslow   3344 Apr 28 18:49 ds4hs-demo.ipynb\n",
      "-rw-r--r-- 1 abcaslow abcaslow   2385 Apr 21 19:56 ds4hs-log-analysis.ipynb\n",
      "-rw-r--r-- 1 abcaslow abcaslow  20481 Apr 22 13:11 ds4hs-logins-17april\n",
      "-rw-r--r-- 1 abcaslow abcaslow 145515 Apr 22 13:12 ds4hs-logins-21-april.json\n",
      "-rw-r--r-- 1 abcaslow abcaslow    329 Apr 16 12:19 ds4hs-notes-24feb\n"
     ]
    }
   ],
   "source": [
    "ls ds* -l"
   ]
  },
  {
   "cell_type": "code",
   "execution_count": 6,
   "id": "9c60adb8-8ee3-4300-8bab-662e916c2806",
   "metadata": {},
   "outputs": [
    {
     "name": "stdout",
     "output_type": "stream",
     "text": [
      "-rw-r--r-- 1 abcaslow abcaslow  498813 Apr 16 12:19 amzn-ip-prefixes.json\n",
      "-rw-r--r-- 1 abcaslow abcaslow 1796071 Apr 16 12:19 arp-total-pandas.json\n",
      "-rw-r--r-- 1 abcaslow abcaslow  145515 Apr 22 13:12 ds4hs-logins-21-april.json\n"
     ]
    }
   ],
   "source": [
    "ls *.json -l"
   ]
  },
  {
   "cell_type": "code",
   "execution_count": 9,
   "id": "bcc9a020-80d8-4d8b-a049-2c0e06fd5242",
   "metadata": {},
   "outputs": [
    {
     "name": "stdout",
     "output_type": "stream",
     "text": [
      "-rw-r--r-- 1 abcaslow abcaslow  16881 Apr 16 12:19 babies-21-march.ipynb\n",
      "-rw-r--r-- 1 abcaslow abcaslow  17383 Apr 16 12:19 baby-weight-21-march.ipynb\n",
      "-rw-r--r-- 1 abcaslow abcaslow   7023 May  6 10:08 build-1st-notebook-AK.ipynb\n",
      "-rw-r--r-- 1 abcaslow abcaslow 100453 May  6 13:36 build-1st-notebook-LAB.ipynb\n",
      "-rw-r--r-- 1 abcaslow abcaslow   3344 Apr 28 18:49 ds4hs-demo.ipynb\n",
      "-rw-r--r-- 1 abcaslow abcaslow   2385 Apr 21 19:56 ds4hs-log-analysis.ipynb\n",
      "-rw-r--r-- 1 abcaslow abcaslow  12934 May  6 13:45 LINUX-Exploring-a-File-System.ipynb\n",
      "-rw-r--r-- 1 abcaslow abcaslow  24771 Apr 16 12:19 market-cap-50-21-march-pm.ipynb\n",
      "-rw-r--r-- 1 abcaslow abcaslow  28265 Apr 16 12:19 market-cap-50-billions.ipynb\n",
      "-rw-r--r-- 1 abcaslow abcaslow  23889 Apr 16 12:19 nba-21-march.ipynb\n",
      "-rw-r--r-- 1 abcaslow abcaslow  23774 Apr 16 12:19 nba_salaries-mar-2021.ipynb\n",
      "-rw-r--r-- 1 abcaslow abcaslow  59873 Apr 16 12:19 sat.ipynb\n",
      "-rw-r--r-- 1 abcaslow abcaslow     72 Apr 26 18:32 Untitled1.ipynb\n",
      "-rw-r--r-- 1 abcaslow abcaslow  38956 May  6 07:44 Untitled2.ipynb\n",
      "-rw-r--r-- 1 abcaslow abcaslow   1901 Apr 16 12:19 Untitled.ipynb\n"
     ]
    }
   ],
   "source": [
    "ls *.ipynb -l -R"
   ]
  },
  {
   "cell_type": "markdown",
   "id": "86c06ea2-76e4-42e5-a382-67355a76e0ff",
   "metadata": {},
   "source": [
    "In the following cell, type ls b \"press your tab key\"\n",
    "\n",
    "A dialog box will appear listing all files starting with \"b\". \n",
    "\n",
    "Pick the file that starts with \"b\" you want."
   ]
  },
  {
   "cell_type": "code",
   "execution_count": null,
   "id": "3cee7b9c-407c-4c65-b491-272304b2aea0",
   "metadata": {},
   "outputs": [],
   "source": [
    "ls b"
   ]
  },
  {
   "cell_type": "markdown",
   "id": "8887a3f9-038e-4772-92b8-99c1eeef50b0",
   "metadata": {},
   "source": [
    "Using the \"|\" pipe with LINUX commands.\n"
   ]
  },
  {
   "cell_type": "code",
   "execution_count": 10,
   "id": "57a53036-fc09-42d5-b8dd-84cd2b3e0f03",
   "metadata": {},
   "outputs": [
    {
     "name": "stdout",
     "output_type": "stream",
     "text": [
      "76\n"
     ]
    }
   ],
   "source": [
    "ls -l | wc -l"
   ]
  },
  {
   "cell_type": "code",
   "execution_count": null,
   "id": "35bc3660-890a-4890-bd1a-c1c8d0efc00d",
   "metadata": {},
   "outputs": [],
   "source": []
  }
 ],
 "metadata": {
  "kernelspec": {
   "display_name": "Python 3",
   "language": "python",
   "name": "python3"
  },
  "language_info": {
   "codemirror_mode": {
    "name": "ipython",
    "version": 3
   },
   "file_extension": ".py",
   "mimetype": "text/x-python",
   "name": "python",
   "nbconvert_exporter": "python",
   "pygments_lexer": "ipython3",
   "version": "3.6.9"
  }
 },
 "nbformat": 4,
 "nbformat_minor": 5
}
