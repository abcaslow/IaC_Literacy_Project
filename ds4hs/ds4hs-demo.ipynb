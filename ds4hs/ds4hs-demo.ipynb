{
 "cells": [
  {
   "cell_type": "code",
   "execution_count": 4,
   "id": "exotic-boards",
   "metadata": {},
   "outputs": [],
   "source": [
    "#! /usr/bin/env python3\n",
    "\n",
    "from datascience import *\n",
    "import numpy as np\n",
    "import matplotlib.pyplot as plt\n",
    "%matplotlib inline"
   ]
  },
  {
   "cell_type": "code",
   "execution_count": 5,
   "id": "undefined-edmonton",
   "metadata": {},
   "outputs": [
    {
     "name": "stdout",
     "output_type": "stream",
     "text": [
      "../market-cap11.csv  ../new-york-times-source-us-counties.csv\r\n",
      "../market-cap50.csv  ../Silas_classes.csv\r\n"
     ]
    }
   ],
   "source": [
    "ls ../*.csv"
   ]
  },
  {
   "cell_type": "code",
   "execution_count": 6,
   "id": "cooked-reviewer",
   "metadata": {},
   "outputs": [
    {
     "name": "stdout",
     "output_type": "stream",
     "text": [
      "Hello, name is Gauss\n"
     ]
    }
   ],
   "source": [
    "print('Hello, name is Sias')"
   ]
  },
  {
   "cell_type": "markdown",
   "id": "leading-evanescence",
   "metadata": {},
   "source": [
    "Select any data set below: (1) nba_salaries.csv, (2) stockmarket.csv, (3) sat2014.csv"
   ]
  },
  {
   "cell_type": "code",
   "execution_count": 7,
   "id": "developed-shift",
   "metadata": {},
   "outputs": [],
   "source": [
    "rawdata=Table.read_table('../Silas_classes.csv')\n",
    "#rawdata=Table.read_table('~/dat..a8/stockmarket.csv')\n",
    "#rawdata=Table.read_table('~/data8/sat2014.csv')"
   ]
  },
  {
   "cell_type": "code",
   "execution_count": 8,
   "id": "mechanical-simon",
   "metadata": {},
   "outputs": [
    {
     "name": "stdout",
     "output_type": "stream",
     "text": [
      "Shape of the csv imported data to the Python object name: rawdata\n",
      "Number of columns: 2\n",
      "Number of rows: 4\n"
     ]
    }
   ],
   "source": [
    "#print(rawdata.shape)\n",
    "print(\"Shape of the csv imported data to the Python object name: rawdata\")\n",
    "print(\"Number of columns:\", rawdata.num_columns)\n",
    "print(\"Number of rows:\", rawdata.num_rows)"
   ]
  },
  {
   "cell_type": "markdown",
   "id": "prostate-slovakia",
   "metadata": {},
   "source": [
    "Start analyzing your data with easy to use Berkeley Data Science functions: 'select', 'where' and 'group'\n",
    "Have fun! Generate graphs to visualize your data."
   ]
  },
  {
   "cell_type": "code",
   "execution_count": 9,
   "id": "protective-cooperative",
   "metadata": {},
   "outputs": [
    {
     "name": "stdout",
     "output_type": "stream",
     "text": [
      "Subject   | Rating\n",
      "Math      | 5\n",
      "Geography | 4\n",
      "Biology   | 4\n",
      "English   | 3\n"
     ]
    }
   ],
   "source": [
    "print(rawdata)"
   ]
  },
  {
   "cell_type": "code",
   "execution_count": 11,
   "id": "polished-violence",
   "metadata": {
    "scrolled": true
   },
   "outputs": [
    {
     "data": {
      "image/png": "[encoded data removed]",
      "text/plain": [
       "<Figure size 432x288 with 1 Axes>"
      ]
     },
     "metadata": {
      "needs_background": "light"
     },
     "output_type": "display_data"
    }
   ],
   "source": [
    "rawdata.sort('Rating').barh('Subject')\n",
    "#rawdata.select('PLAYER','2015-2016 SALARY').sort('2015-2016 SALARY', descending=True).take[0:11].barh('PLAYER')\n",
    "#rawdata.select('company','market-cap').sort('market-cap',descending=True).take[0:11].barh('company')\n",
    "#rawdata.select('State','Combined').sort('Combined',descending=True).take[0:11].barh('State')"
   ]
  },
  {
   "cell_type": "code",
   "execution_count": null,
   "id": "attached-blogger",
   "metadata": {},
   "outputs": [],
   "source": []
  }
 ],
 "metadata": {
  "kernelspec": {
   "display_name": "Python 3",
   "language": "python",
   "name": "python3"
  },
  "language_info": {
   "codemirror_mode": {
    "name": "ipython",
    "version": 3
   },
   "file_extension": ".py",
   "mimetype": "text/x-python",
   "name": "python",
   "nbconvert_exporter": "python",
   "pygments_lexer": "ipython3",
   "version": "3.6.9"
  }
 },
 "nbformat": 4,
 "nbformat_minor": 5
}
