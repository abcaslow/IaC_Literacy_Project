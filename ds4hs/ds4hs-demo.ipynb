{
 "cells": [
  {
   "cell_type": "code",
   "execution_count": 10,
   "id": "addressed-gardening",
   "metadata": {},
   "outputs": [],
   "source": [
    "#! /usr/bin/env python3\n",
    "\n",
    "from datascience import *\n",
    "import numpy as np\n",
    "import matplotlib.pyplot as plt\n",
    "%matplotlib inline"
   ]
  },
  {
   "cell_type": "code",
   "execution_count": 11,
   "id": "induced-network",
   "metadata": {},
   "outputs": [
    {
     "name": "stdout",
     "output_type": "stream",
     "text": [
      "Hello, name is Einstein\n"
     ]
    }
   ],
   "source": [
    "print('Hello, name is Einstein')"
   ]
  },
  {
   "cell_type": "markdown",
   "id": "soviet-emphasis",
   "metadata": {},
   "source": [
    "Select any data set below: (1) nba_salaries.csv, (2) stockmarket.csv, (3) sat2014.csv"
   ]
  },
  {
   "cell_type": "code",
   "execution_count": 16,
   "id": "defined-sunset",
   "metadata": {},
   "outputs": [],
   "source": [
    "rawdata=Table.read_table('~/data8/nba_salaries.csv')\n",
    "#rawdata=Table.read_table('~/data8/stockmarket.csv')\n",
    "#rawdata=Table.read_table('~/data8/sat2014.csv')"
   ]
  },
  {
   "cell_type": "code",
   "execution_count": 17,
   "id": "choice-organic",
   "metadata": {},
   "outputs": [
    {
     "name": "stdout",
     "output_type": "stream",
     "text": [
      "Shape of the csv imported data to the Python object name: rawdata\n",
      "Number of columns: 4\n",
      "Number of rows: 417\n"
     ]
    }
   ],
   "source": [
    "#print(rawdata.shape)\n",
    "print(\"Shape of the csv imported data to the Python object name: rawdata\")\n",
    "print(\"Number of columns:\", rawdata.num_columns)\n",
    "print(\"Number of rows:\", rawdata.num_rows)"
   ]
  },
  {
   "cell_type": "markdown",
   "id": "armed-population",
   "metadata": {},
   "source": [
    "Start analyzing your data with easy to use Berkeley Data Science functions: 'select', 'where' and 'group'\n",
    "Have fun! Generate graphs to visualize your data."
   ]
  },
  {
   "cell_type": "code",
   "execution_count": 15,
   "id": "quarterly-amateur",
   "metadata": {},
   "outputs": [
    {
     "name": "stdout",
     "output_type": "stream",
     "text": [
      "State        | Participation Rate | Critical Reading | Math | Writing | Combined\n",
      "North Dakota | 2.3                | 612              | 620  | 584     | 1816\n",
      "Illinois     | 4.6                | 599              | 616  | 587     | 1802\n",
      "Iowa         | 3.1                | 605              | 611  | 578     | 1794\n",
      "South Dakota | 2.9                | 604              | 609  | 579     | 1792\n",
      "Minnesota    | 5.9                | 598              | 610  | 578     | 1786\n",
      "Michigan     | 3.8                | 593              | 610  | 581     | 1784\n",
      "Wisconsin    | 3.9                | 596              | 608  | 578     | 1782\n",
      "Missouri     | 4.2                | 595              | 597  | 579     | 1771\n",
      "Wyoming      | 3.3                | 590              | 599  | 573     | 1762\n",
      "Kansas       | 5.3                | 591              | 596  | 566     | 1753\n",
      "... (41 rows omitted)\n"
     ]
    }
   ],
   "source": [
    "print(rawdata)"
   ]
  },
  {
   "cell_type": "code",
   "execution_count": 7,
   "id": "opposed-boulder",
   "metadata": {
    "scrolled": true
   },
   "outputs": [
    {
     "data": {
      "image/png": "[encoded data removed]",
      "text/plain": [
       "<Figure size 432x396 with 1 Axes>"
      ]
     },
     "metadata": {
      "needs_background": "light"
     },
     "output_type": "display_data"
    }
   ],
   "source": [
    "rawdata.select('PLAYER','2015-2016 SALARY').sort('2015-2016 SALARY', descending=True).take[0:11].barh('PLAYER')\n",
    "#rawdata.select('company','market-cap').sort('market-cap',descending=True).take[0:11].barh('company')\n",
    "#rawdata.select('State','Combined').sort('Combined',descending=True).take[0:11].barh('State')"
   ]
  },
  {
   "cell_type": "code",
   "execution_count": null,
   "id": "widespread-westminster",
   "metadata": {},
   "outputs": [],
   "source": []
  }
 ],
 "metadata": {
  "kernelspec": {
   "display_name": "Python 3",
   "language": "python",
   "name": "python3"
  },
  "language_info": {
   "codemirror_mode": {
    "name": "ipython",
    "version": 3
   },
   "file_extension": ".py",
   "mimetype": "text/x-python",
   "name": "python",
   "nbconvert_exporter": "python",
   "pygments_lexer": "ipython3",
   "version": "3.6.9"
  }
 },
 "nbformat": 4,
 "nbformat_minor": 5
}
