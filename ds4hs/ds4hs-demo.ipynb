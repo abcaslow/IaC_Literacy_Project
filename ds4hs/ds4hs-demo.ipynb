{
 "cells": [
  {
   "cell_type": "code",
   "execution_count": 1,
   "id": "latest-rebel",
   "metadata": {},
   "outputs": [],
   "source": [
    "#! /usr/bin/env python3\n",
    "\n",
    "from datascience import *\n",
    "import numpy as np\n",
    "import matplotlib.pyplot as plt\n",
    "%matplotlib inline"
   ]
  },
  {
   "cell_type": "code",
   "execution_count": 5,
   "id": "undefined-edmonton",
   "metadata": {},
   "outputs": [
    {
     "name": "stdout",
     "output_type": "stream",
     "text": [
      "../market-cap11.csv  ../new-york-times-source-us-counties.csv\r\n",
      "../market-cap50.csv  ../Silas_classes.csv\r\n"
     ]
    }
   ],
   "source": [
    "ls ../*.csv"
   ]
  },
  {
   "cell_type": "code",
   "execution_count": 6,
   "id": "cooked-reviewer",
   "metadata": {},
   "outputs": [
    {
     "name": "stdout",
     "output_type": "stream",
     "text": [
      "Hello, name is Gauss\n"
     ]
    }
   ],
   "source": [
    "print('Hello, name is Sias')"
   ]
  },
  {
   "cell_type": "markdown",
   "id": "practical-omaha",
   "metadata": {},
   "source": [
    "Select any data set below: (1) nba_salaries.csv, (2) stockmarket.csv, (3) sat2014.csv"
   ]
  },
  {
   "cell_type": "code",
   "execution_count": 8,
   "id": "seeing-bracket",
   "metadata": {},
   "outputs": [],
   "source": [
    "rawdata=Table.read_table('~/data8/covid_by_state.csv')\n",
    "#rawdata=Table.read_table('~/data8/stockmarket.csv')\n",
    "#rawdata=Table.read_table('~/data8/sat2014.csv')"
   ]
  },
  {
   "cell_type": "code",
   "execution_count": 9,
   "id": "unusual-nigeria",
   "metadata": {},
   "outputs": [
    {
     "name": "stdout",
     "output_type": "stream",
     "text": [
      "Shape of the csv imported data to the Python object name: rawdata\n",
      "Number of columns: 57\n",
      "Number of rows: 101\n"
     ]
    }
   ],
   "source": [
    "#print(rawdata.shape)\n",
    "print(\"Shape of the csv imported data to the Python object name: rawdata\")\n",
    "print(\"Number of columns:\", rawdata.num_columns)\n",
    "print(\"Number of rows:\", rawdata.num_rows)"
   ]
  },
  {
   "cell_type": "markdown",
   "id": "naked-product",
   "metadata": {},
   "source": [
    "Start analyzing your data with easy to use Berkeley Data Science functions: 'select', 'where' and 'group'\n",
    "Have fun! Generate graphs to visualize your data."
   ]
  },
  {
   "cell_type": "code",
   "execution_count": 10,
   "id": "compatible-organization",
   "metadata": {},
   "outputs": [
    {
     "name": "stdout",
     "output_type": "stream",
     "text": [
      "Days since 3/1/20 | Alabama | Alaska | American Samoa | Arizona | Arkansas | California | Colorado | Connecticut | Delaware | District of Columbia | Florida | Georgia | Guam | Hawaii | Idaho | Illinois | Indiana | Iowa | Kansas | Kentucky | Louisiana | Maine | Maryland | Massachusetts | Michigan | Minnesota | Mississippi | Missouri | Montana | Nebraska | Nevada | New Hampshire | New Jersey | New Mexico | New York | North Carolina | North Dakota | Northern Mariana Islands | Ohio | Oklahoma | Oregon | Pennsylvania | Puerto Rico | Rhode Island | South Carolina | South Dakota | Tennessee | Texas | Utah | Vermont | Virgin Islands | Virginia | Washington | West Virginia | Wisconsin | Wyoming\n",
      "0                 | 0       | 0      | 0              | 1       | 0        | 12         | 0        | 0           | 0        | 0                    | 0       | 0       | 0    | 0      | 0     | 3        | 0       | 0    | 0      | 0        | 0         | 0     | 0        | 1             | 0        | 0         | 0           | 0        | 0       | 0        | 0      | 0             | 0          | 0          | 0        | 0              | 0            | 0                        | 0    | 0        | 1      | 0            | 0           | 1            | 0              | 0            | 0         | 0     | 0    | 0       | 0              | 0        | 11         | 0             | 0         | 0\n",
      "1                 | 0       | 0      | 0              | 1       | 0        | 21         | 0        | 0           | 0        | 0                    | 1       | 0       | 0    | 0      | 0     | 4        | 0       | 0    | 0      | 0        | 0         | 0     | 0        | 1             | 0        | 0         | 0           | 0        | 0       | 0        | 0      | 1             | 0          | 0          | 1        | 0              | 0            | 0                        | 0    | 0        | 3      | 0            | 0           | 2            | 0              | 0            | 0         | 0     | 0    | 0       | 0              | 0        | 18         | 0             | 0         | 0\n",
      "2                 | 0       | 0      | 0              | 1       | 0        | 25         | 0        | 0           | 0        | 0                    | 2       | 2       | 0    | 0      | 0     | 4        | 0       | 0    | 0      | 0        | 0         | 0     | 0        | 2             | 0        | 0         | 0           | 0        | 0       | 0        | 0      | 2             | 0          | 0          | 2        | 1              | 0            | 0                        | 0    | 0        | 3      | 0            | 0           | 2            | 0              | 0            | 0         | 0     | 0    | 0       | 0              | 0        | 27         | 0             | 0         | 0\n",
      "3                 | 0       | 0      | 0              | 1       | 0        | 35         | 0        | 0           | 0        | 0                    | 2       | 2       | 0    | 0      | 0     | 4        | 0       | 0    | 0      | 0        | 0         | 0     | 0        | 2             | 0        | 0         | 0           | 0        | 0       | 0        | 0      | 2             | 0          | 0          | 11       | 1              | 0            | 0                        | 0    | 0        | 3      | 0            | 0           | 2            | 0              | 0            | 0         | 0     | 0    | 0       | 0              | 0        | 39         | 0             | 0         | 0\n",
      "4                 | 0       | 0      | 0              | 1       | 0        | 51         | 2        | 0           | 0        | 0                    | 3       | 2       | 0    | 0      | 0     | 5        | 0       | 0    | 0      | 0        | 0         | 0     | 0        | 2             | 0        | 0         | 0           | 0        | 0       | 0        | 1      | 2             | 2          | 0          | 23       | 1              | 0            | 0                        | 0    | 0        | 3      | 0            | 0           | 2            | 0              | 0            | 1         | 3     | 0    | 0       | 0              | 0        | 70         | 0             | 0         | 0\n",
      "5                 | 0       | 0      | 0              | 2       | 0        | 59         | 8        | 0           | 0        | 0                    | 3       | 3       | 0    | 0      | 0     | 5        | 1       | 0    | 0      | 1        | 0         | 0     | 3        | 6             | 0        | 1         | 0           | 0        | 0       | 1        | 2      | 2             | 2          | 0          | 31       | 2              | 0            | 0                        | 0    | 0        | 3      | 2            | 0           | 2            | 0              | 0            | 1         | 4     | 0    | 0       | 0              | 0        | 78         | 0             | 0         | 0\n",
      "6                 | 0       | 0      | 0              | 4       | 0        | 81         | 8        | 0           | 0        | 0                    | 7       | 5       | 0    | 1      | 0     | 6        | 1       | 0    | 0      | 1        | 0         | 0     | 3        | 6             | 0        | 1         | 0           | 0        | 0       | 1        | 2      | 2             | 4          | 0          | 76       | 2              | 0            | 0                        | 0    | 1        | 6      | 2            | 0           | 3            | 2              | 0            | 1         | 8     | 1    | 0       | 0              | 0        | 102        | 0             | 0         | 0\n",
      "7                 | 0       | 0      | 0              | 4       | 0        | 95         | 8        | 0           | 0        | 0                    | 10      | 5       | 0    | 1      | 0     | 7        | 2       | 0    | 1      | 1        | 0         | 0     | 5        | 22            | 0        | 1         | 0           | 1        | 0       | 1        | 4      | 4             | 5          | 0          | 106      | 2              | 0            | 0                        | 0    | 1        | 14     | 6            | 0           | 3            | 2              | 0            | 3         | 11    | 1    | 1       | 0              | 2        | 122        | 0             | 0         | 0\n",
      "8                 | 0       | 0      | 0              | 4       | 0        | 101        | 12       | 0           | 0        | 0                    | 13      | 10      | 0    | 1      | 0     | 7        | 3       | 3    | 1      | 4        | 0         | 0     | 5        | 22            | 0        | 2         | 0           | 1        | 0       | 3        | 4      | 4             | 5          | 0          | 142      | 2              | 0            | 0                        | 0    | 1        | 14     | 7            | 0           | 3            | 3              | 0            | 3         | 13    | 1    | 1       | 0              | 2        | 122        | 0             | 0         | 0\n",
      "9                 | 0       | 0      | 0              | 6       | 0        | 144        | 17       | 1           | 0        | 0                    | 15      | 17      | 0    | 3      | 0     | 12       | 6       | 8    | 1      | 5        | 0         | 0     | 8        | 41            | 0        | 2         | 0           | 1        | 0       | 3        | 4      | 4             | 15         | 0          | 150      | 7              | 0            | 0                        | 3    | 2        | 14     | 12           | 0           | 3            | 7              | 0            | 3         | 16    | 2    | 1       | 0              | 8        | 167        | 0             | 3         | 0\n",
      "... (91 rows omitted)\n"
     ]
    }
   ],
   "source": [
    "print(rawdata)"
   ]
  },
  {
   "cell_type": "code",
   "execution_count": 14,
   "id": "contemporary-baptist",
   "metadata": {
    "scrolled": true
   },
   "outputs": [
    {
     "data": {
      "image/png": "[encoded data removed]",
      "text/plain": [
       "<Figure size 432x288 with 1 Axes>"
      ]
     },
     "metadata": {
      "needs_background": "light"
     },
     "output_type": "display_data"
    }
   ],
   "source": [
    "rawdata.select('Alabama','Alaska').sort('Alabama', descending=True).take[0:11].barh('Alabama')\n",
    "#rawdata.select('PLAYER','2015-2016 SALARY').sort('2015-2016 SALARY', descending=True).take[0:11].barh('PLAYER')\n",
    "#rawdata.select('company','market-cap').sort('market-cap',descending=True).take[0:11].barh('company')\n",
    "#rawdata.select('State','Combined').sort('Combined',descending=True).take[0:11].barh('State')"
   ]
  },
  {
   "cell_type": "code",
   "execution_count": null,
   "id": "blank-selling",
   "metadata": {},
   "outputs": [],
   "source": []
  },
  {
   "cell_type": "code",
   "execution_count": null,
   "id": "alike-cincinnati",
   "metadata": {},
   "outputs": [],
   "source": []
  }
 ],
 "metadata": {
  "kernelspec": {
   "display_name": "Python 3",
   "language": "python",
   "name": "python3"
  },
  "language_info": {
   "codemirror_mode": {
    "name": "ipython",
    "version": 3
   },
   "file_extension": ".py",
   "mimetype": "text/x-python",
   "name": "python",
   "nbconvert_exporter": "python",
   "pygments_lexer": "ipython3",
   "version": "3.6.9"
  }
 },
 "nbformat": 4,
 "nbformat_minor": 5
}
