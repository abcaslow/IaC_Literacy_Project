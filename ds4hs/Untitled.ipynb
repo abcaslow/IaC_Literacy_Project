{
 "cells": [
  {
   "cell_type": "code",
   "execution_count": 1,
   "id": "nuclear-marketplace",
   "metadata": {},
   "outputs": [],
   "source": [
    "#! /usr/bin/env python3\n",
    "\n",
    "from datascience import *\n",
    "import numpy as np\n",
    "import matplotlib.pyplot as plt\n",
    "#%matplotlib inline\n",
    "import datetime\n",
    "import sys"
   ]
  },
  {
   "cell_type": "code",
   "execution_count": 6,
   "id": "correct-boating",
   "metadata": {},
   "outputs": [],
   "source": [
    "rawdata=Table.read_table('/home/abcaslow/data8/nba_salaries.csv')"
   ]
  },
  {
   "cell_type": "code",
   "execution_count": null,
   "id": "classified-ballet",
   "metadata": {},
   "outputs": [],
   "source": [
    "#print(rawdata.shape)\n",
    "print(\"\\n\")\n",
    "print(\"Shape of the csv imported data to the Python object name: rawdata\")\n",
    "print(\"Number of columns:\", rawdata.num_columns)\n",
    "print(\"Number of rows:\", rawdata.num_rows)\n",
    "x=rawdata.labels\n",
    "print(\"\\n\")\n",
    "\n",
    "for i in x:\n",
    "  print(i,rawdata.column(i).dtype)\n",
    "print(\"\\n\")\n",
    "#print(\"rawdata.select('offense','precinct').pivot('precinct','offense')\")\n",
    "print(\"Start analyzing your data with the SQL-like commands 'select', 'where' and 'group'.\")\n",
    "print(\"Have fun! Build some pivot tables and draw graphs to visualize your data\")\n",
    "print(\"\\n\")\n",
    "print(rawdata)"
   ]
  }
 ],
 "metadata": {
  "kernelspec": {
   "display_name": "Python 3",
   "language": "python",
   "name": "python3"
  },
  "language_info": {
   "codemirror_mode": {
    "name": "ipython",
    "version": 3
   },
   "file_extension": ".py",
   "mimetype": "text/x-python",
   "name": "python",
   "nbconvert_exporter": "python",
   "pygments_lexer": "ipython3",
   "version": "3.6.9"
  }
 },
 "nbformat": 4,
 "nbformat_minor": 5
}
