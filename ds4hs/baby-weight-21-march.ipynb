{
 "cells": [
  {
   "cell_type": "code",
   "execution_count": 1,
   "id": "quality-catholic",
   "metadata": {},
   "outputs": [],
   "source": [
    "#! /usr/bin/env python3\n",
    "\n",
    "from datascience import *\n",
    "import numpy as np\n",
    "import matplotlib.pyplot as plt\n",
    "%matplotlib inline\n",
    "import datetime\n",
    "import sys"
   ]
  },
  {
   "cell_type": "code",
   "execution_count": 2,
   "id": "dress-punch",
   "metadata": {},
   "outputs": [],
   "source": [
    "rawdata=Table.read_table('/home/abcaslow/data8/baby.csv')"
   ]
  },
  {
   "cell_type": "code",
   "execution_count": 3,
   "id": "vital-soundtrack",
   "metadata": {},
   "outputs": [
    {
     "name": "stdout",
     "output_type": "stream",
     "text": [
      "Shape of the csv imported data to the Python object name: rawdata\n",
      "Number of columns: 6\n",
      "Number of rows: 1174\n"
     ]
    }
   ],
   "source": [
    "#print(rawdata.shape)\n",
    "print(\"Shape of the csv imported data to the Python object name: rawdata\")\n",
    "print(\"Number of columns:\", rawdata.num_columns)\n",
    "print(\"Number of rows:\", rawdata.num_rows)"
   ]
  },
  {
   "cell_type": "code",
   "execution_count": 4,
   "id": "presidential-korean",
   "metadata": {},
   "outputs": [
    {
     "name": "stdout",
     "output_type": "stream",
     "text": [
      "Birth Weight int64\n",
      "Gestational Days int64\n",
      "Maternal Age int64\n",
      "Maternal Height int64\n",
      "Maternal Pregnancy Weight int64\n",
      "Maternal Smoker bool\n"
     ]
    }
   ],
   "source": [
    "for i in rawdata:\n",
    "  print(i,rawdata.column(i).dtype)"
   ]
  },
  {
   "cell_type": "code",
   "execution_count": 5,
   "id": "scheduled-shirt",
   "metadata": {},
   "outputs": [
    {
     "name": "stdout",
     "output_type": "stream",
     "text": [
      "Start analyzing your data with the SQL-like commands 'select', 'where' and 'group'.\n",
      "Have fun! Build some pivot tables and draw graphs to visualize your data\n"
     ]
    }
   ],
   "source": [
    "print(\"Start analyzing your data with the SQL-like commands 'select', 'where' and 'group'.\")\n",
    "print(\"Have fun! Build some pivot tables and draw graphs to visualize your data\")"
   ]
  },
  {
   "cell_type": "code",
   "execution_count": 6,
   "id": "adopted-banking",
   "metadata": {},
   "outputs": [
    {
     "name": "stdout",
     "output_type": "stream",
     "text": [
      "Birth Weight | Gestational Days | Maternal Age | Maternal Height | Maternal Pregnancy Weight | Maternal Smoker\n",
      "120          | 284              | 27           | 62              | 100                       | False\n",
      "113          | 282              | 33           | 64              | 135                       | False\n",
      "128          | 279              | 28           | 64              | 115                       | True\n",
      "108          | 282              | 23           | 67              | 125                       | True\n",
      "136          | 286              | 25           | 62              | 93                        | False\n",
      "138          | 244              | 33           | 62              | 178                       | False\n",
      "132          | 245              | 23           | 65              | 140                       | False\n",
      "120          | 289              | 25           | 62              | 125                       | False\n",
      "143          | 299              | 30           | 66              | 136                       | True\n",
      "140          | 351              | 27           | 68              | 120                       | False\n",
      "... (1164 rows omitted)\n"
     ]
    }
   ],
   "source": [
    "print(rawdata)"
   ]
  },
  {
   "cell_type": "code",
   "execution_count": 13,
   "id": "compound-overall",
   "metadata": {
    "scrolled": true
   },
   "outputs": [
    {
     "data": {
      "image/png": "[encoded data removed]",
      "text/plain": [
       "<Figure size 432x396 with 1 Axes>"
      ]
     },
     "metadata": {
      "needs_background": "light"
     },
     "output_type": "display_data"
    }
   ],
   "source": [
    "babygraph=rawdata.select('Birth Weight','Maternal Age').sort('Birth Weight', descending=True).take[0:11].barh('Birth Weight')"
   ]
  },
  {
   "cell_type": "code",
   "execution_count": null,
   "id": "small-providence",
   "metadata": {},
   "outputs": [],
   "source": []
  },
  {
   "cell_type": "code",
   "execution_count": null,
   "id": "center-engine",
   "metadata": {},
   "outputs": [],
   "source": []
  }
 ],
 "metadata": {
  "kernelspec": {
   "display_name": "Python 3",
   "language": "python",
   "name": "python3"
  },
  "language_info": {
   "codemirror_mode": {
    "name": "ipython",
    "version": 3
   },
   "file_extension": ".py",
   "mimetype": "text/x-python",
   "name": "python",
   "nbconvert_exporter": "python",
   "pygments_lexer": "ipython3",
   "version": "3.6.9"
  }
 },
 "nbformat": 4,
 "nbformat_minor": 5
}
