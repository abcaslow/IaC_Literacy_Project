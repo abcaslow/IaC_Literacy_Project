{
 "cells": [
  {
   "cell_type": "code",
   "execution_count": null,
   "id": "5c9df920-e584-4269-a4b7-c6c59cd185e2",
   "metadata": {},
   "outputs": [],
   "source": [
    "import math"
   ]
  },
  {
   "cell_type": "code",
   "execution_count": null,
   "id": "3f581bb8-9100-4f17-a8ff-5db3e8e7dd02",
   "metadata": {},
   "outputs": [],
   "source": [
    "help(math)"
   ]
  },
  {
   "cell_type": "code",
   "execution_count": null,
   "id": "c84ab069-d541-48de-8df8-4cd6cc89612b",
   "metadata": {},
   "outputs": [],
   "source": [
    "help(math.sqrt)"
   ]
  },
  {
   "cell_type": "code",
   "execution_count": null,
   "id": "0ab88d53-0500-4036-8be1-742c17391993",
   "metadata": {},
   "outputs": [],
   "source": [
    "type(math)"
   ]
  },
  {
   "cell_type": "code",
   "execution_count": null,
   "id": "2f398cce-5d45-4592-9a3e-0b8c2b30a316",
   "metadata": {},
   "outputs": [],
   "source": [
    "type(math.sqrt)"
   ]
  },
  {
   "cell_type": "code",
   "execution_count": null,
   "id": "d089b022-971d-455e-a507-4e9aaadde00c",
   "metadata": {},
   "outputs": [],
   "source": [
    "type(math.sqrt(10))"
   ]
  },
  {
   "cell_type": "code",
   "execution_count": null,
   "id": "171f4ccc-b3ba-428d-aca0-218b9193f012",
   "metadata": {},
   "outputs": [],
   "source": [
    "math.sqrt(10)"
   ]
  },
  {
   "cell_type": "code",
   "execution_count": null,
   "id": "13dc401b-5bd3-4b26-893a-6cef945ef205",
   "metadata": {},
   "outputs": [],
   "source": [
    "for i in range(1,10): print(i,'   ',math.sqrt(i))"
   ]
  },
  {
   "cell_type": "code",
   "execution_count": null,
   "id": "909b5408-95f3-4423-9ad6-9bb674afaa6b",
   "metadata": {},
   "outputs": [],
   "source": [
    "for i in range(3,30,3): print(i,'   ',math.sqrt(i))"
   ]
  },
  {
   "cell_type": "code",
   "execution_count": null,
   "id": "7b42489c-ae8a-4581-a4a1-23805da5103b",
   "metadata": {},
   "outputs": [],
   "source": [
    "for i in range(3,30,3): print('{:2}'.format(i),'   ',math.sqrt(i))"
   ]
  },
  {
   "cell_type": "code",
   "execution_count": null,
   "id": "046db8e6-3e69-4437-a423-1231c68e82fb",
   "metadata": {},
   "outputs": [],
   "source": [
    "for i in range(3,30):\n",
    "    if math.sqrt(i)==math.floor(math.sqrt(i)):\n",
    "        print(i,'   ',math.sqrt(i))"
   ]
  },
  {
   "cell_type": "code",
   "execution_count": null,
   "id": "072f7e8a-500f-4e2a-a12c-8ec7ae8a41d5",
   "metadata": {},
   "outputs": [],
   "source": [
    "for i in range(3,30):\n",
    "    if math.sqrt(i)==int(math.sqrt(i)):\n",
    "        print('{:2}'.format(i), '   ',math.sqrt(i))"
   ]
  },
  {
   "cell_type": "code",
   "execution_count": null,
   "id": "2f5c4acc-b71a-40ad-a640-f2d1768844e9",
   "metadata": {},
   "outputs": [],
   "source": [
    "for i in range(3,30):\n",
    "    if math.sqrt(i)!=int(math.sqrt(i)):\n",
    "        print('{:2}'.format(i), '   ',math.sqrt(i))"
   ]
  },
  {
   "cell_type": "code",
   "execution_count": null,
   "id": "083390a6-f0be-4a61-832f-41066b3dff45",
   "metadata": {},
   "outputs": [],
   "source": [
    "1/7"
   ]
  },
  {
   "cell_type": "code",
   "execution_count": null,
   "id": "3e558d68-fd11-493d-a33d-2f46d631c497",
   "metadata": {},
   "outputs": [],
   "source": [
    "for i in range(1,8): print(i,'   ',i/7)"
   ]
  },
  {
   "cell_type": "markdown",
   "id": "4e8062ce-8fdc-49dd-b9c6-bc5237a4f939",
   "metadata": {},
   "source": [
    "For the cell below, set the variable 'n' to 5, 6, 7, 8 and 9 and see how the results change."
   ]
  },
  {
   "cell_type": "code",
   "execution_count": null,
   "id": "20e327ca-98a1-41d2-b40a-d816f7715859",
   "metadata": {},
   "outputs": [],
   "source": [
    "n=9\n",
    "for i in range(1,n+1): print(i,'   ',i/n)"
   ]
  },
  {
   "cell_type": "code",
   "execution_count": null,
   "id": "8902b770-c044-4188-9094-5d6d7afa73a6",
   "metadata": {},
   "outputs": [],
   "source": [
    "from sympy import Symbol, solve"
   ]
  },
  {
   "cell_type": "code",
   "execution_count": null,
   "id": "6f879083-f665-4980-bc6f-8b64a319edd9",
   "metadata": {},
   "outputs": [],
   "source": [
    "x=Symbol('x')"
   ]
  },
  {
   "cell_type": "code",
   "execution_count": null,
   "id": "8842f45c-224e-4814-8f5c-9442a52055f2",
   "metadata": {},
   "outputs": [],
   "source": [
    "expr=x-5-7"
   ]
  },
  {
   "cell_type": "code",
   "execution_count": null,
   "id": "eef58199-5bc6-473a-9138-d9347d02f758",
   "metadata": {},
   "outputs": [],
   "source": [
    "solve(expr)"
   ]
  },
  {
   "cell_type": "code",
   "execution_count": null,
   "id": "9bb4c7db-0156-45ee-926c-36890d85c422",
   "metadata": {},
   "outputs": [],
   "source": [
    "quadratic=x**2+5*x+4"
   ]
  },
  {
   "cell_type": "code",
   "execution_count": null,
   "id": "96f49a68-d242-4893-aa0d-72bb2b0a6283",
   "metadata": {},
   "outputs": [],
   "source": [
    "solve(quadratic)"
   ]
  },
  {
   "cell_type": "code",
   "execution_count": null,
   "id": "e8f550f6-0eec-422f-827a-268d3c347e39",
   "metadata": {},
   "outputs": [],
   "source": [
    "x=Symbol('x')\n",
    "y=Symbol('y')\n",
    "expr1=x+y-6\n",
    "expr2=x-y-1"
   ]
  },
  {
   "cell_type": "code",
   "execution_count": null,
   "id": "a8c304f0-27d9-4692-a984-01ff58e2a79a",
   "metadata": {},
   "outputs": [],
   "source": [
    "solve((expr1,expr2),dict=True)"
   ]
  },
  {
   "cell_type": "code",
   "execution_count": null,
   "id": "03e28980-fb5f-4dc0-be8d-45b2a913e694",
   "metadata": {},
   "outputs": [],
   "source": [
    "import numpy as np"
   ]
  },
  {
   "cell_type": "code",
   "execution_count": null,
   "id": "7fbc4f8b-39da-40d1-8368-cd16aa33a142",
   "metadata": {},
   "outputs": [],
   "source": [
    "sqrts = np.sqrt([6, 10, 18])"
   ]
  },
  {
   "cell_type": "code",
   "execution_count": null,
   "id": "3cf255f5-ed19-42ee-b0ff-feb2b18a4776",
   "metadata": {},
   "outputs": [],
   "source": [
    "sqrts"
   ]
  },
  {
   "cell_type": "code",
   "execution_count": null,
   "id": "977067b7-eb9b-4631-b239-443378eec6a8",
   "metadata": {},
   "outputs": [],
   "source": [
    "demo_matrix=np.matrix([[1,2],[3,4]])"
   ]
  },
  {
   "cell_type": "code",
   "execution_count": null,
   "id": "e746a957-5625-415c-8f9f-3dc4864393d6",
   "metadata": {},
   "outputs": [],
   "source": [
    "np.sqrt(demo_matrix)"
   ]
  },
  {
   "cell_type": "code",
   "execution_count": null,
   "id": "e3ca451b-6ab9-469d-bbd0-b8f351a7d889",
   "metadata": {},
   "outputs": [],
   "source": [
    "b = np.arange(9).reshape(3,3)"
   ]
  },
  {
   "cell_type": "code",
   "execution_count": null,
   "id": "5e7bb15a-b7f1-49e7-94c6-417d8cac0a47",
   "metadata": {},
   "outputs": [],
   "source": [
    "b"
   ]
  },
  {
   "cell_type": "code",
   "execution_count": null,
   "id": "81d8730d-8e96-40c6-b1b4-2fd8d6bbe5db",
   "metadata": {},
   "outputs": [],
   "source": [
    "np.sqrt(b)"
   ]
  },
  {
   "cell_type": "code",
   "execution_count": null,
   "id": "694b58f7-62f7-44c3-8575-f33dfb058944",
   "metadata": {},
   "outputs": [],
   "source": []
  }
 ],
 "metadata": {
  "kernelspec": {
   "display_name": "Python 3",
   "language": "python",
   "name": "python3"
  },
  "language_info": {
   "codemirror_mode": {
    "name": "ipython",
    "version": 3
   },
   "file_extension": ".py",
   "mimetype": "text/x-python",
   "name": "python",
   "nbconvert_exporter": "python",
   "pygments_lexer": "ipython3",
   "version": "3.6.9"
  }
 },
 "nbformat": 4,
 "nbformat_minor": 5
}
