{
 "cells": [
  {
   "cell_type": "markdown",
   "id": "bdca4237-a2e7-4f94-bc03-039996ed9c84",
   "metadata": {},
   "source": [
    "Go to your Applications tab in the lower left corner.\n",
    "\n",
    "Click on Office.\n",
    "\n",
    "Select Libre Office Calc from the menu (it has a green icon)."
   ]
  },
  {
   "cell_type": "markdown",
   "id": "44c2ce79-9541-4389-80f5-c2702e6d99cf",
   "metadata": {},
   "source": [
    "Create your own Data Science table.\n",
    "\n",
    "When you have completed your Data Science table, click on \"File\" & select \"Save As\".\n",
    "\n",
    "Provide your Data Science table a name.\n",
    "\n",
    "Access the drop down menu in the lower right corner and select the \"csv\" file format.\n",
    "\n",
    "Save your Data Science Table as a 'csv' file.\n"
   ]
  },
  {
   "cell_type": "code",
   "execution_count": null,
   "id": "ea32738a-3460-4531-8aa4-bb08fca680e0",
   "metadata": {},
   "outputs": [],
   "source": []
  }
 ],
 "metadata": {
  "kernelspec": {
   "display_name": "Python 3",
   "language": "python",
   "name": "python3"
  },
  "language_info": {
   "codemirror_mode": {
    "name": "ipython",
    "version": 3
   },
   "file_extension": ".py",
   "mimetype": "text/x-python",
   "name": "python",
   "nbconvert_exporter": "python",
   "pygments_lexer": "ipython3",
   "version": "3.6.9"
  }
 },
 "nbformat": 4,
 "nbformat_minor": 5
}
