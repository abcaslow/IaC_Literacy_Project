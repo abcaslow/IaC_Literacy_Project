{
 "cells": [
  {
   "cell_type": "code",
   "execution_count": null,
   "id": "5c9df920-e584-4269-a4b7-c6c59cd185e2",
   "metadata": {},
   "outputs": [],
   "source": [
    "import math"
   ]
  },
  {
   "cell_type": "code",
   "execution_count": null,
   "id": "3f581bb8-9100-4f17-a8ff-5db3e8e7dd02",
   "metadata": {},
   "outputs": [],
   "source": [
    "help(math)"
   ]
  },
  {
   "cell_type": "code",
   "execution_count": null,
   "id": "c84ab069-d541-48de-8df8-4cd6cc89612b",
   "metadata": {},
   "outputs": [],
   "source": [
    "help(math.sqrt)"
   ]
  },
  {
   "cell_type": "code",
   "execution_count": null,
   "id": "0ab88d53-0500-4036-8be1-742c17391993",
   "metadata": {},
   "outputs": [],
   "source": [
    "type(math)"
   ]
  },
  {
   "cell_type": "code",
   "execution_count": null,
   "id": "2f398cce-5d45-4592-9a3e-0b8c2b30a316",
   "metadata": {},
   "outputs": [],
   "source": [
    "type(math.sqrt)"
   ]
  },
  {
   "cell_type": "code",
   "execution_count": null,
   "id": "d089b022-971d-455e-a507-4e9aaadde00c",
   "metadata": {},
   "outputs": [],
   "source": [
    "type(math.sqrt(10))"
   ]
  },
  {
   "cell_type": "code",
   "execution_count": null,
   "id": "171f4ccc-b3ba-428d-aca0-218b9193f012",
   "metadata": {},
   "outputs": [],
   "source": [
    "math.sqrt(10)"
   ]
  },
  {
   "cell_type": "code",
   "execution_count": null,
   "id": "13dc401b-5bd3-4b26-893a-6cef945ef205",
   "metadata": {},
   "outputs": [],
   "source": [
    "for i in range(1,10): print(i,'   ',math.sqrt(i))"
   ]
  },
  {
   "cell_type": "code",
   "execution_count": null,
   "id": "909b5408-95f3-4423-9ad6-9bb674afaa6b",
   "metadata": {},
   "outputs": [],
   "source": [
    "for i in range(3,30,3): print(i,'   ',math.sqrt(i))"
   ]
  },
  {
   "cell_type": "code",
   "execution_count": null,
   "id": "7b42489c-ae8a-4581-a4a1-23805da5103b",
   "metadata": {},
   "outputs": [],
   "source": [
    "for i in range(3,30,3): print('{:2}'.format(i),'   ',math.sqrt(i))"
   ]
  },
  {
   "cell_type": "code",
   "execution_count": null,
   "id": "046db8e6-3e69-4437-a423-1231c68e82fb",
   "metadata": {},
   "outputs": [],
   "source": [
    "for i in range(3,30):\n",
    "    if math.sqrt(i)==math.floor(math.sqrt(i)):\n",
    "        print(i,'   ',math.sqrt(i))"
   ]
  },
  {
   "cell_type": "code",
   "execution_count": null,
   "id": "072f7e8a-500f-4e2a-a12c-8ec7ae8a41d5",
   "metadata": {},
   "outputs": [],
   "source": [
    "for i in range(3,30):\n",
    "    if math.sqrt(i)==int(math.sqrt(i)):\n",
    "        print('{:2}'.format(i), '   ',math.sqrt(i))"
   ]
  },
  {
   "cell_type": "code",
   "execution_count": null,
   "id": "2f5c4acc-b71a-40ad-a640-f2d1768844e9",
   "metadata": {},
   "outputs": [],
   "source": [
    "for i in range(3,30):\n",
    "    if math.sqrt(i)!=int(math.sqrt(i)):\n",
    "        print('{:2}'.format(i), '   ',math.sqrt(i))"
   ]
  },
  {
   "cell_type": "code",
   "execution_count": null,
   "id": "083390a6-f0be-4a61-832f-41066b3dff45",
   "metadata": {},
   "outputs": [],
   "source": [
    "1/7"
   ]
  },
  {
   "cell_type": "code",
   "execution_count": null,
   "id": "3e558d68-fd11-493d-a33d-2f46d631c497",
   "metadata": {},
   "outputs": [],
   "source": [
    "for i in range(1,8): print(i,'   ',i/7)"
   ]
  },
  {
   "cell_type": "markdown",
   "id": "4e8062ce-8fdc-49dd-b9c6-bc5237a4f939",
   "metadata": {},
   "source": [
    "For the cell below, set the variable 'n' to 5, 6, 7, 8 and 9 and see how the results change."
   ]
  },
  {
   "cell_type": "code",
   "execution_count": null,
   "id": "20e327ca-98a1-41d2-b40a-d816f7715859",
   "metadata": {},
   "outputs": [],
   "source": [
    "n=9\n",
    "for i in range(1,n+1): print(i,'   ',i/n)"
   ]
  },
  {
   "cell_type": "code",
   "execution_count": null,
   "id": "8902b770-c044-4188-9094-5d6d7afa73a6",
   "metadata": {},
   "outputs": [],
   "source": [
    "from sympy import Symbol, solve"
   ]
  },
  {
   "cell_type": "code",
   "execution_count": null,
   "id": "6f879083-f665-4980-bc6f-8b64a319edd9",
   "metadata": {},
   "outputs": [],
   "source": [
    "x=Symbol('x')"
   ]
  },
  {
   "cell_type": "code",
   "execution_count": null,
   "id": "8842f45c-224e-4814-8f5c-9442a52055f2",
   "metadata": {},
   "outputs": [],
   "source": [
    "expr=x-5-7"
   ]
  },
  {
   "cell_type": "code",
   "execution_count": null,
   "id": "eef58199-5bc6-473a-9138-d9347d02f758",
   "metadata": {},
   "outputs": [],
   "source": [
    "solve(expr)"
   ]
  },
  {
   "cell_type": "code",
   "execution_count": null,
   "id": "9bb4c7db-0156-45ee-926c-36890d85c422",
   "metadata": {},
   "outputs": [],
   "source": [
    "quadratic=x**2+5*x+4"
   ]
  },
  {
   "cell_type": "code",
   "execution_count": null,
   "id": "96f49a68-d242-4893-aa0d-72bb2b0a6283",
   "metadata": {},
   "outputs": [],
   "source": [
    "solve(quadratic)"
   ]
  },
  {
   "cell_type": "code",
   "execution_count": null,
   "id": "e8f550f6-0eec-422f-827a-268d3c347e39",
   "metadata": {},
   "outputs": [],
   "source": [
    "x=Symbol('x')\n",
    "y=Symbol('y')\n",
    "expr1=x+y-6\n",
    "expr2=x-y-1"
   ]
  },
  {
   "cell_type": "code",
   "execution_count": null,
   "id": "a8c304f0-27d9-4692-a984-01ff58e2a79a",
   "metadata": {},
   "outputs": [],
   "source": [
    "solve((expr1,expr2),dict=True)"
   ]
  },
  {
   "cell_type": "code",
   "execution_count": null,
   "id": "03e28980-fb5f-4dc0-be8d-45b2a913e694",
   "metadata": {},
   "outputs": [],
   "source": [
    "import numpy as np"
   ]
  },
  {
   "cell_type": "code",
   "execution_count": null,
   "id": "7fbc4f8b-39da-40d1-8368-cd16aa33a142",
   "metadata": {},
   "outputs": [],
   "source": [
    "sqrts = np.sqrt([6, 10, 18])"
   ]
  },
  {
   "cell_type": "code",
   "execution_count": null,
   "id": "3cf255f5-ed19-42ee-b0ff-feb2b18a4776",
   "metadata": {},
   "outputs": [],
   "source": [
    "sqrts"
   ]
  },
  {
   "cell_type": "code",
   "execution_count": null,
   "id": "977067b7-eb9b-4631-b239-443378eec6a8",
   "metadata": {},
   "outputs": [],
   "source": [
    "demo_matrix=np.matrix([[1,2],[3,4]])"
   ]
  },
  {
   "cell_type": "code",
   "execution_count": null,
   "id": "e746a957-5625-415c-8f9f-3dc4864393d6",
   "metadata": {},
   "outputs": [],
   "source": [
    "np.sqrt(demo_matrix)"
   ]
  },
  {
   "cell_type": "code",
   "execution_count": null,
   "id": "e3ca451b-6ab9-469d-bbd0-b8f351a7d889",
   "metadata": {},
   "outputs": [],
   "source": [
    "b = np.arange(9).reshape(3,3)"
   ]
  },
  {
   "cell_type": "code",
   "execution_count": null,
   "id": "5e7bb15a-b7f1-49e7-94c6-417d8cac0a47",
   "metadata": {},
   "outputs": [],
   "source": [
    "b"
   ]
  },
  {
   "cell_type": "code",
   "execution_count": null,
   "id": "81d8730d-8e96-40c6-b1b4-2fd8d6bbe5db",
   "metadata": {},
   "outputs": [],
   "source": [
    "np.sqrt(b)"
   ]
  },
  {
   "cell_type": "code",
   "execution_count": null,
   "id": "694b58f7-62f7-44c3-8575-f33dfb058944",
   "metadata": {},
   "outputs": [],
   "source": [
    "np.format_float_positional(np.float16(0.3), unique=False, precision=10)"
   ]
  },
  {
   "cell_type": "code",
   "execution_count": null,
   "id": "c0299534-37b8-4466-ae94-532e28a623d3",
   "metadata": {},
   "outputs": [],
   "source": [
    "np.float128(np.pi)"
   ]
  },
  {
   "cell_type": "code",
   "execution_count": null,
   "id": "ea68f0ad-0eeb-426d-9be6-e13c07724c36",
   "metadata": {},
   "outputs": [],
   "source": [
    "pi=np.pi"
   ]
  },
  {
   "cell_type": "code",
   "execution_count": null,
   "id": "6320de69-2a5c-439b-9702-65e9c4874452",
   "metadata": {},
   "outputs": [],
   "source": [
    "??pi"
   ]
  },
  {
   "cell_type": "code",
   "execution_count": null,
   "id": "fe0b539e-f6a2-4dc0-ad05-bf8ac08c21f4",
   "metadata": {},
   "outputs": [],
   "source": [
    "np.float128(1)/7"
   ]
  },
  {
   "cell_type": "code",
   "execution_count": null,
   "id": "95e110c8-4c0a-4747-a694-35d75e2b269b",
   "metadata": {},
   "outputs": [],
   "source": [
    "80/math.log(10,2)"
   ]
  },
  {
   "cell_type": "code",
   "execution_count": null,
   "id": "6e7f7e42-5f57-4672-ab67-40ffb37f28cf",
   "metadata": {},
   "outputs": [],
   "source": [
    "np"
   ]
  },
  {
   "cell_type": "code",
   "execution_count": null,
   "id": "6770a151-c589-484e-ac00-764ea02a9885",
   "metadata": {},
   "outputs": [],
   "source": [
    "np.format_float_positional(np.arange(8), unique=True, precision=60)"
   ]
  },
  {
   "cell_type": "code",
   "execution_count": null,
   "id": "2c7c53c8-01de-4721-b5fa-6e0e876ca9df",
   "metadata": {},
   "outputs": [],
   "source": [
    "dir(np)"
   ]
  },
  {
   "cell_type": "code",
   "execution_count": null,
   "id": "f9fb6caf-888c-4be1-aa6a-087456007f7a",
   "metadata": {},
   "outputs": [],
   "source": [
    "np.version()"
   ]
  },
  {
   "cell_type": "code",
   "execution_count": null,
   "id": "9ecb4ee1-0168-4e69-ba61-06ffa64a2ac6",
   "metadata": {},
   "outputs": [],
   "source": [
    "np.sqrt(3)"
   ]
  },
  {
   "cell_type": "code",
   "execution_count": null,
   "id": "6d536713-160e-45c4-b797-21d5e8ea8e8d",
   "metadata": {},
   "outputs": [],
   "source": [
    "np.sqrt(np.arange(8))"
   ]
  },
  {
   "cell_type": "code",
   "execution_count": null,
   "id": "47f94b4f-2714-4767-85f0-1dd9e8e987c3",
   "metadata": {},
   "outputs": [],
   "source": [
    "(np.arange(8))**0.5"
   ]
  },
  {
   "cell_type": "code",
   "execution_count": null,
   "id": "a1416e8e-0cc0-46da-bbf2-a06210321d17",
   "metadata": {},
   "outputs": [],
   "source": [
    "npsquares=(np.arange(8))**2"
   ]
  },
  {
   "cell_type": "code",
   "execution_count": null,
   "id": "fca3c7e4-aaa3-48e0-aabf-6b80fa8d0dbc",
   "metadata": {},
   "outputs": [],
   "source": [
    "npexps=2**np.arange(8)"
   ]
  },
  {
   "cell_type": "code",
   "execution_count": null,
   "id": "3f7f86a4-d5b7-427e-9dbb-47077d0271aa",
   "metadata": {},
   "outputs": [],
   "source": [
    "npexps"
   ]
  },
  {
   "cell_type": "code",
   "execution_count": null,
   "id": "ef30e7a3-d7ad-4ecc-911a-cbc254ee4077",
   "metadata": {},
   "outputs": [],
   "source": [
    "type(npexps)"
   ]
  },
  {
   "cell_type": "code",
   "execution_count": null,
   "id": "01c95f60-57ff-4548-b651-fc5fe999078b",
   "metadata": {},
   "outputs": [],
   "source": [
    "npsquares"
   ]
  },
  {
   "cell_type": "code",
   "execution_count": null,
   "id": "83dcecae-5037-4ed0-8387-c5db3064ba35",
   "metadata": {},
   "outputs": [],
   "source": [
    "npcounter=np.arange(8)"
   ]
  },
  {
   "cell_type": "code",
   "execution_count": null,
   "id": "72983df6-3694-4f21-8129-ef724dca100b",
   "metadata": {},
   "outputs": [],
   "source": [
    "npcounter"
   ]
  },
  {
   "cell_type": "code",
   "execution_count": null,
   "id": "ea8f8acd-f2bd-4b87-a44f-ab1fca75c2cf",
   "metadata": {},
   "outputs": [],
   "source": [
    "import pandas as pd"
   ]
  },
  {
   "cell_type": "code",
   "execution_count": null,
   "id": "9bc37df3-8d2b-4433-91f1-b0329b908fd7",
   "metadata": {},
   "outputs": [],
   "source": [
    "df1 = pd.DataFrame({'x**2':npsquares,'2**x':npexps})"
   ]
  },
  {
   "cell_type": "code",
   "execution_count": null,
   "id": "32db3d65-787f-4a29-8146-4461184c99b5",
   "metadata": {},
   "outputs": [],
   "source": [
    "df1"
   ]
  },
  {
   "cell_type": "code",
   "execution_count": null,
   "id": "17173264-7acc-427c-af43-7a35bd894710",
   "metadata": {},
   "outputs": [],
   "source": [
    "for i in range(0,8): print(math.factorial(i))"
   ]
  },
  {
   "cell_type": "code",
   "execution_count": null,
   "id": "5e52a4de-73c1-4570-9bb1-3aa73dc989b1",
   "metadata": {},
   "outputs": [],
   "source": [
    "factorials=[math.factorial(i) for i in range(0,8)]\n",
    "#xx=[(i) for i in (dir(math)) if not i.startswith('_')]"
   ]
  },
  {
   "cell_type": "code",
   "execution_count": null,
   "id": "2a62245c-e282-47f8-83a2-2b2eb4372de7",
   "metadata": {},
   "outputs": [],
   "source": [
    "factorials"
   ]
  },
  {
   "cell_type": "code",
   "execution_count": null,
   "id": "070f28b1-0627-45e9-9f69-decf88a0428f",
   "metadata": {},
   "outputs": [],
   "source": [
    "factorials=np.array(factorials)"
   ]
  },
  {
   "cell_type": "code",
   "execution_count": null,
   "id": "eb3426f2-1417-4080-9dcf-f80253a4ca02",
   "metadata": {},
   "outputs": [],
   "source": [
    "df1 = pd.DataFrame({'x**2':npsquares,'2**x':npexps, 'x!':factorials})"
   ]
  },
  {
   "cell_type": "code",
   "execution_count": null,
   "id": "b5ba36e2-1c2d-49ad-812e-1db949644486",
   "metadata": {},
   "outputs": [],
   "source": [
    "df1"
   ]
  },
  {
   "cell_type": "code",
   "execution_count": null,
   "id": "c6079206-5e8f-42b3-b22c-3b6fc3f550dd",
   "metadata": {},
   "outputs": [],
   "source": [
    "df1.columns"
   ]
  },
  {
   "cell_type": "code",
   "execution_count": null,
   "id": "a842f648-f2e9-4d7b-8d23-c5505a04828d",
   "metadata": {},
   "outputs": [],
   "source": [
    "for index, row in df1.iterrows():\n",
    "    print(row.to_frame().T)"
   ]
  },
  {
   "cell_type": "code",
   "execution_count": null,
   "id": "fe0f7ae6-b0fb-4cb2-9ef8-e5250f5bf183",
   "metadata": {},
   "outputs": [],
   "source": [
    "df1.T  "
   ]
  },
  {
   "cell_type": "code",
   "execution_count": null,
   "id": "c492b718-a627-4d90-b955-72816aa986ec",
   "metadata": {},
   "outputs": [],
   "source": []
  }
 ],
 "metadata": {
  "kernelspec": {
   "display_name": "Python 3",
   "language": "python",
   "name": "python3"
  },
  "language_info": {
   "codemirror_mode": {
    "name": "ipython",
    "version": 3
   },
   "file_extension": ".py",
   "mimetype": "text/x-python",
   "name": "python",
   "nbconvert_exporter": "python",
   "pygments_lexer": "ipython3",
   "version": "3.6.9"
  }
 },
 "nbformat": 4,
 "nbformat_minor": 5
}
