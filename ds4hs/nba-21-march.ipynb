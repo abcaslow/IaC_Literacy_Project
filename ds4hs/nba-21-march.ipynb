{
 "cells": [
  {
   "cell_type": "code",
   "execution_count": 35,
   "id": "individual-parish",
   "metadata": {},
   "outputs": [],
   "source": [
    "#! /usr/bin/env python3\n",
    "\n",
    "from datascience import *\n",
    "import numpy as np\n",
    "import matplotlib.pyplot as plt\n",
    "%matplotlib inline\n",
    "import datetime\n",
    "import sys"
   ]
  },
  {
   "cell_type": "code",
   "execution_count": 36,
   "id": "extraordinary-typing",
   "metadata": {},
   "outputs": [],
   "source": [
    "rawdata=Table.read_table('/home/abcaslow/data8/nba_salaries.csv')"
   ]
  },
  {
   "cell_type": "code",
   "execution_count": 37,
   "id": "appropriate-spider",
   "metadata": {},
   "outputs": [
    {
     "name": "stdout",
     "output_type": "stream",
     "text": [
      "Shape of the csv imported data to the Python object name: rawdata\n",
      "Number of columns: 4\n",
      "Number of rows: 417\n"
     ]
    }
   ],
   "source": [
    "#print(rawdata.shape)\n",
    "print(\"Shape of the csv imported data to the Python object name: rawdata\")\n",
    "print(\"Number of columns:\", rawdata.num_columns)\n",
    "print(\"Number of rows:\", rawdata.num_rows)"
   ]
  },
  {
   "cell_type": "code",
   "execution_count": 38,
   "id": "elegant-remainder",
   "metadata": {},
   "outputs": [
    {
     "name": "stdout",
     "output_type": "stream",
     "text": [
      "PLAYER <U24\n",
      "POSITION <U2\n",
      "TEAM <U22\n",
      "2015-2016 SALARY float64\n"
     ]
    }
   ],
   "source": [
    "for i in rawdata:\n",
    "  print(i,rawdata.column(i).dtype)"
   ]
  },
  {
   "cell_type": "code",
   "execution_count": 39,
   "id": "lesser-cabinet",
   "metadata": {},
   "outputs": [
    {
     "name": "stdout",
     "output_type": "stream",
     "text": [
      "Start analyzing your data with the SQL-like commands 'select', 'where' and 'group'.\n",
      "Have fun! Build some pivot tables and draw graphs to visualize your data\n"
     ]
    }
   ],
   "source": [
    "print(\"Start analyzing your data with the SQL-like commands 'select', 'where' and 'group'.\")\n",
    "print(\"Have fun! Build some pivot tables and draw graphs to visualize your data\")"
   ]
  },
  {
   "cell_type": "code",
   "execution_count": 40,
   "id": "sporting-stupid",
   "metadata": {},
   "outputs": [
    {
     "name": "stdout",
     "output_type": "stream",
     "text": [
      "PLAYER           | POSITION | TEAM          | 2015-2016 SALARY\n",
      "Paul Millsap     | PF       | Atlanta Hawks | 18.6717\n",
      "Al Horford       | C        | Atlanta Hawks | 12\n",
      "Tiago Splitter   | C        | Atlanta Hawks | 9.75625\n",
      "Jeff Teague      | PG       | Atlanta Hawks | 8\n",
      "Kyle Korver      | SG       | Atlanta Hawks | 5.74648\n",
      "Thabo Sefolosha  | SF       | Atlanta Hawks | 4\n",
      "Mike Scott       | PF       | Atlanta Hawks | 3.33333\n",
      "Kent Bazemore    | SF       | Atlanta Hawks | 2\n",
      "Dennis Schroder  | PG       | Atlanta Hawks | 1.7634\n",
      "Tim Hardaway Jr. | SG       | Atlanta Hawks | 1.30452\n",
      "... (407 rows omitted)\n"
     ]
    }
   ],
   "source": [
    "print(rawdata)"
   ]
  },
  {
   "cell_type": "code",
   "execution_count": 41,
   "id": "proprietary-limitation",
   "metadata": {},
   "outputs": [],
   "source": [
    "x=rawdata.relabel('2015-2016 SALARY', 'SALARY')"
   ]
  },
  {
   "cell_type": "code",
   "execution_count": 42,
   "id": "proved-penalty",
   "metadata": {},
   "outputs": [
    {
     "data": {
      "text/html": [
       "<table border=\"1\" class=\"dataframe\">\n",
       "    <thead>\n",
       "        <tr>\n",
       "            <th>PLAYER</th> <th>POSITION</th> <th>TEAM</th> <th>SALARY</th>\n",
       "        </tr>\n",
       "    </thead>\n",
       "    <tbody>\n",
       "        <tr>\n",
       "            <td>Paul Millsap    </td> <td>PF      </td> <td>Atlanta Hawks</td> <td>18.6717</td>\n",
       "        </tr>\n",
       "        <tr>\n",
       "            <td>Al Horford      </td> <td>C       </td> <td>Atlanta Hawks</td> <td>12     </td>\n",
       "        </tr>\n",
       "        <tr>\n",
       "            <td>Tiago Splitter  </td> <td>C       </td> <td>Atlanta Hawks</td> <td>9.75625</td>\n",
       "        </tr>\n",
       "        <tr>\n",
       "            <td>Jeff Teague     </td> <td>PG      </td> <td>Atlanta Hawks</td> <td>8      </td>\n",
       "        </tr>\n",
       "        <tr>\n",
       "            <td>Kyle Korver     </td> <td>SG      </td> <td>Atlanta Hawks</td> <td>5.74648</td>\n",
       "        </tr>\n",
       "        <tr>\n",
       "            <td>Thabo Sefolosha </td> <td>SF      </td> <td>Atlanta Hawks</td> <td>4      </td>\n",
       "        </tr>\n",
       "        <tr>\n",
       "            <td>Mike Scott      </td> <td>PF      </td> <td>Atlanta Hawks</td> <td>3.33333</td>\n",
       "        </tr>\n",
       "        <tr>\n",
       "            <td>Kent Bazemore   </td> <td>SF      </td> <td>Atlanta Hawks</td> <td>2      </td>\n",
       "        </tr>\n",
       "        <tr>\n",
       "            <td>Dennis Schroder </td> <td>PG      </td> <td>Atlanta Hawks</td> <td>1.7634 </td>\n",
       "        </tr>\n",
       "        <tr>\n",
       "            <td>Tim Hardaway Jr.</td> <td>SG      </td> <td>Atlanta Hawks</td> <td>1.30452</td>\n",
       "        </tr>\n",
       "    </tbody>\n",
       "</table>\n",
       "<p>... (407 rows omitted)</p>"
      ],
      "text/plain": [
       "PLAYER           | POSITION | TEAM          | SALARY\n",
       "Paul Millsap     | PF       | Atlanta Hawks | 18.6717\n",
       "Al Horford       | C        | Atlanta Hawks | 12\n",
       "Tiago Splitter   | C        | Atlanta Hawks | 9.75625\n",
       "Jeff Teague      | PG       | Atlanta Hawks | 8\n",
       "Kyle Korver      | SG       | Atlanta Hawks | 5.74648\n",
       "Thabo Sefolosha  | SF       | Atlanta Hawks | 4\n",
       "Mike Scott       | PF       | Atlanta Hawks | 3.33333\n",
       "Kent Bazemore    | SF       | Atlanta Hawks | 2\n",
       "Dennis Schroder  | PG       | Atlanta Hawks | 1.7634\n",
       "Tim Hardaway Jr. | SG       | Atlanta Hawks | 1.30452\n",
       "... (407 rows omitted)"
      ]
     },
     "execution_count": 42,
     "metadata": {},
     "output_type": "execute_result"
    }
   ],
   "source": [
    "x"
   ]
  },
  {
   "cell_type": "code",
   "execution_count": 43,
   "id": "fiscal-canadian",
   "metadata": {
    "scrolled": true
   },
   "outputs": [
    {
     "data": {
      "image/png": "[encoded data removed]",
      "text/plain": [
       "<Figure size 432x396 with 1 Axes>"
      ]
     },
     "metadata": {
      "needs_background": "light"
     },
     "output_type": "display_data"
    }
   ],
   "source": [
    "nbagraph=rawdata.select('PLAYER','SALARY').sort('SALARY', descending=True).take[0:11].barh('PLAYER','SALARY')"
   ]
  },
  {
   "cell_type": "code",
   "execution_count": null,
   "id": "competitive-stack",
   "metadata": {},
   "outputs": [],
   "source": []
  },
  {
   "cell_type": "code",
   "execution_count": null,
   "id": "practical-croatia",
   "metadata": {},
   "outputs": [],
   "source": []
  }
 ],
 "metadata": {
  "kernelspec": {
   "display_name": "Python 3",
   "language": "python",
   "name": "python3"
  },
  "language_info": {
   "codemirror_mode": {
    "name": "ipython",
    "version": 3
   },
   "file_extension": ".py",
   "mimetype": "text/x-python",
   "name": "python",
   "nbconvert_exporter": "python",
   "pygments_lexer": "ipython3",
   "version": "3.6.9"
  }
 },
 "nbformat": 4,
 "nbformat_minor": 5
}
