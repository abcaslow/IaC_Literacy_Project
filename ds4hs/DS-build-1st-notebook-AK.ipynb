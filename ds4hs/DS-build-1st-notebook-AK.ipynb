{
 "cells": [
  {
   "cell_type": "markdown",
   "id": "0ca255ec-3382-4e0d-9eae-b7e056537604",
   "metadata": {},
   "source": [
    "Start with importing the necessary Python modules for Data Science."
   ]
  },
  {
   "cell_type": "code",
   "execution_count": null,
   "id": "8caee35f-6ec2-431a-9211-9a9244d821cf",
   "metadata": {},
   "outputs": [],
   "source": [
    "#insert Python statement and press CONTROL+ENTER."
   ]
  },
  {
   "cell_type": "markdown",
   "id": "c12476fa-487d-4435-954f-97efb2ee422d",
   "metadata": {},
   "source": [
    "Next, import the desired csv file containing the actual data you want to explore\n",
    "NOTE: If this step fails, it is very likely due to an error in specifying the \n",
    "exact file system path for the desired csv file you want to load.\n",
    "\n",
    "Do you understand every single character in the following file with path statement?\n",
    "\n",
    "'~/IaC_Literacy_Project/ds4hs/sat2014.csv'\n",
    "\n",
    "What exactly does the ~ mean? Does it mean \"home directory\"?\n",
    "\n",
    "What is the specific role of each / symbol?\n",
    "\n",
    "This is all very, very important to thoroughly understand.\n",
    "\n",
    "Perhaps you want to use the following LINUX utility to search for your csv file:\n",
    "\n",
    "find . -name \"d*.ipynb\" 2>/dev/null\n"
   ]
  },
  {
   "cell_type": "code",
   "execution_count": null,
   "id": "74bf9e46-ca52-4665-a48a-e5fa196bbb61",
   "metadata": {},
   "outputs": [],
   "source": [
    "#insert Python statement and press CONTROL+ENTER."
   ]
  },
  {
   "cell_type": "markdown",
   "id": "220f9a7c-78d0-4a0b-9bd4-545e2765ded4",
   "metadata": {},
   "source": [
    "Explore the \"shape\" of the data.\n",
    "Determine the number of rows and columns in the data."
   ]
  },
  {
   "cell_type": "code",
   "execution_count": null,
   "id": "b1ec23a0-21d8-4568-9eef-a61455c6849a",
   "metadata": {},
   "outputs": [],
   "source": [
    "#insert Python statement and press CONTROL+ENTER."
   ]
  },
  {
   "cell_type": "markdown",
   "id": "c30c47a1-4f88-4ad6-9ad1-b5c76e90895b",
   "metadata": {},
   "source": [
    "How big is this data set you are working with? \n",
    "Does it have lots of rows and columns?"
   ]
  },
  {
   "cell_type": "code",
   "execution_count": null,
   "id": "07c89354-e48e-4989-9007-57f8503c50c2",
   "metadata": {},
   "outputs": [],
   "source": [
    "#insert Python statement and press CONTROL+ENTER."
   ]
  },
  {
   "cell_type": "markdown",
   "id": "c4c7787d-a76e-492b-a1e3-581763a6b904",
   "metadata": {},
   "source": [
    "Select only 3 columns.\n",
    "For the SAT2014 data set, select: State, Participation Rage and Combined."
   ]
  },
  {
   "cell_type": "code",
   "execution_count": null,
   "id": "26851565-e21d-48ea-9125-ea7a82f1d5d2",
   "metadata": {},
   "outputs": [],
   "source": [
    "#insert Python statement and press CONTROL+ENTER."
   ]
  },
  {
   "cell_type": "code",
   "execution_count": null,
   "id": "efeb4b0b-ea5e-4923-95db-7f439d145f0a",
   "metadata": {},
   "outputs": [],
   "source": [
    "type(rawdata)"
   ]
  },
  {
   "cell_type": "code",
   "execution_count": null,
   "id": "aa1e6259-3a70-4fa1-b281-e77154220e8e",
   "metadata": {},
   "outputs": [],
   "source": [
    "rawdata.dtype"
   ]
  },
  {
   "cell_type": "code",
   "execution_count": null,
   "id": "317be019-eeb5-47d5-a1b1-52cadb3e25d0",
   "metadata": {},
   "outputs": [],
   "source": [
    "rawdata_labels=rawdata.labels\n",
    "for i in rawdata_labels:\n",
    "  print(i,rawdata.column(i).dtype)"
   ]
  },
  {
   "cell_type": "code",
   "execution_count": null,
   "id": "28e0b814-2dfe-441f-8b62-3e582cadc8dc",
   "metadata": {},
   "outputs": [],
   "source": [
    "rawdata.sort"
   ]
  },
  {
   "cell_type": "code",
   "execution_count": null,
   "id": "19427d2c-cbb0-4234-9d6c-d6f128394545",
   "metadata": {},
   "outputs": [],
   "source": [
    "rawdata.sort()"
   ]
  },
  {
   "cell_type": "code",
   "execution_count": null,
   "id": "8742dc76-4f5b-4325-a2d9-d54616a68502",
   "metadata": {},
   "outputs": [],
   "source": [
    "?rawdata.sort"
   ]
  },
  {
   "cell_type": "code",
   "execution_count": null,
   "id": "a68546b1-92fd-4e66-a950-bf4d1a3024a0",
   "metadata": {},
   "outputs": [],
   "source": [
    "help(rawdata.sort)"
   ]
  },
  {
   "cell_type": "code",
   "execution_count": null,
   "id": "2971def1-21c3-42df-8115-1c4c2a21f533",
   "metadata": {},
   "outputs": [],
   "source": [
    "rawdata.sort(State)"
   ]
  },
  {
   "cell_type": "code",
   "execution_count": null,
   "id": "30bf531d-7c84-423c-beae-da3694891366",
   "metadata": {},
   "outputs": [],
   "source": [
    "rawdata.sort('State')"
   ]
  },
  {
   "cell_type": "markdown",
   "id": "ce34aedb-4bb2-4632-bd70-652a7c9e01ea",
   "metadata": {},
   "source": [
    "Make the following multi-function/method Data Science Python statement work.\n",
    "\n",
    "rawdata.select('company','mrkt-cap').sort('mrkt-cap').take[0:11].barh('Combined')\n",
    "\n",
    "The Data Science functions/methods featured in this sample statement are:\n",
    "    select, group,sort and graph (barh).\n",
    "Note: Carefully examine the column headings of the specific data set you have loaded\n",
    "    to work with. Are the column names in this sample Python statement match the\n",
    "    column names used in your data set? If not, you need to change them."
   ]
  },
  {
   "cell_type": "code",
   "execution_count": null,
   "id": "90ea3a70-6b37-4775-9796-450382a4ff07",
   "metadata": {},
   "outputs": [],
   "source": [
    "import matplotlib.pyplot as plt\n",
    "%matplotlib inline"
   ]
  },
  {
   "cell_type": "code",
   "execution_count": null,
   "id": "b49d75b0-5bcb-4faf-a6b4-77151fee99c0",
   "metadata": {},
   "outputs": [],
   "source": [
    "rawdata.select('State','Combined').sort('Combined').barh('State')"
   ]
  },
  {
   "cell_type": "markdown",
   "id": "f6ab55eb-83b7-441b-8505-bebbadad555b",
   "metadata": {},
   "source": [
    "Why did the statement above not display a horizontal bar graph?\n",
    "Are all of the appropriate Python modules loaded?"
   ]
  },
  {
   "cell_type": "code",
   "execution_count": null,
   "id": "d2b3bdef-be5a-4d58-a22c-8e0eb0308262",
   "metadata": {},
   "outputs": [],
   "source": [
    "rawdata.select('State','Combined').sort('Combined').take[0:10].barh('State')"
   ]
  },
  {
   "cell_type": "code",
   "execution_count": null,
   "id": "c330e76c-f7b5-4d11-a578-852b647f80a2",
   "metadata": {},
   "outputs": [],
   "source": []
  }
 ],
 "metadata": {
  "kernelspec": {
   "display_name": "Python 3",
   "language": "python",
   "name": "python3"
  },
  "language_info": {
   "codemirror_mode": {
    "name": "ipython",
    "version": 3
   },
   "file_extension": ".py",
   "mimetype": "text/x-python",
   "name": "python",
   "nbconvert_exporter": "python",
   "pygments_lexer": "ipython3",
   "version": "3.6.9"
  }
 },
 "nbformat": 4,
 "nbformat_minor": 5
}
