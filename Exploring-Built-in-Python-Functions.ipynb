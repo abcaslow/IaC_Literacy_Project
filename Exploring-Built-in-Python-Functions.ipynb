{
 "cells": [
  {
   "cell_type": "markdown",
   "id": "caf83559-4f52-4a96-9399-b6b5f34437d6",
   "metadata": {},
   "source": [
    "### Exploring Built-in Python Functions ###\n",
    "\n",
    "Start with clicking on this link and reviewing the following built-in Python functions.\n",
    "Every Python function in this list is available when you open any Python shell.\n",
    "You don't need to import any other Python modules such as <b>numpy</b> or Berkelely <b>datascience</b> or <b>pandas</b> to use these built-in functions.\n",
    "https://docs.python.org/3/library/functions.html\n",
    "\n",
    "Explore what you can do with Python without importing any Python modules."
   ]
  },
  {
   "cell_type": "code",
   "execution_count": 2,
   "id": "f2fe4415-021e-4d93-a4c6-2dd7e88d11d9",
   "metadata": {},
   "outputs": [
    {
     "data": {
      "text/plain": [
       "[1, 2, 3, 4, 3, 2, 1]"
      ]
     },
     "execution_count": 2,
     "metadata": {},
     "output_type": "execute_result"
    }
   ],
   "source": [
    "list((1,2,3,4,3,2,1))"
   ]
  },
  {
   "cell_type": "code",
   "execution_count": 3,
   "id": "f73dfabd-56d5-4f01-a74b-c00b360468f8",
   "metadata": {},
   "outputs": [],
   "source": [
    "x=list((1,2,3,4,3,2,1))"
   ]
  },
  {
   "cell_type": "code",
   "execution_count": 4,
   "id": "4204a88f-780a-4b31-9eb5-a2c8743bc08a",
   "metadata": {},
   "outputs": [
    {
     "data": {
      "text/plain": [
       "[1, 2, 3, 4, 3, 2, 1]"
      ]
     },
     "execution_count": 4,
     "metadata": {},
     "output_type": "execute_result"
    }
   ],
   "source": [
    "x"
   ]
  },
  {
   "cell_type": "code",
   "execution_count": 5,
   "id": "8e056a9f-2b25-41a2-9a57-9f08a1e1a154",
   "metadata": {},
   "outputs": [
    {
     "data": {
      "text/plain": [
       "16"
      ]
     },
     "execution_count": 5,
     "metadata": {},
     "output_type": "execute_result"
    }
   ],
   "source": [
    "sum(x)"
   ]
  },
  {
   "cell_type": "code",
   "execution_count": 6,
   "id": "4c75da37-b1c4-41ba-882f-dd9e950c04d4",
   "metadata": {},
   "outputs": [
    {
     "data": {
      "text/plain": [
       "1"
      ]
     },
     "execution_count": 6,
     "metadata": {},
     "output_type": "execute_result"
    }
   ],
   "source": [
    "min(x)"
   ]
  },
  {
   "cell_type": "code",
   "execution_count": 7,
   "id": "86790d11-2ac3-4471-a24a-0863ec7839f1",
   "metadata": {},
   "outputs": [
    {
     "data": {
      "text/plain": [
       "4"
      ]
     },
     "execution_count": 7,
     "metadata": {},
     "output_type": "execute_result"
    }
   ],
   "source": [
    "max(x)"
   ]
  },
  {
   "cell_type": "code",
   "execution_count": 17,
   "id": "4e750244-1739-4c9d-ab45-b6fa89237c87",
   "metadata": {},
   "outputs": [
    {
     "data": {
      "text/plain": [
       "[1, 1, 2, 2, 3, 3, 4]"
      ]
     },
     "execution_count": 17,
     "metadata": {},
     "output_type": "execute_result"
    }
   ],
   "source": [
    "sorted(x)"
   ]
  },
  {
   "cell_type": "code",
   "execution_count": 8,
   "id": "fdb5141b-e5ff-4a83-a31d-b8f4d7dab75b",
   "metadata": {},
   "outputs": [
    {
     "data": {
      "text/plain": [
       "{1, 2, 3, 4}"
      ]
     },
     "execution_count": 8,
     "metadata": {},
     "output_type": "execute_result"
    }
   ],
   "source": [
    "set(x)"
   ]
  },
  {
   "cell_type": "code",
   "execution_count": 9,
   "id": "4750e415-82bd-4b31-b3d5-374cca276690",
   "metadata": {},
   "outputs": [
    {
     "data": {
      "text/plain": [
       "set"
      ]
     },
     "execution_count": 9,
     "metadata": {},
     "output_type": "execute_result"
    }
   ],
   "source": [
    "type(set(x))"
   ]
  },
  {
   "cell_type": "code",
   "execution_count": 10,
   "id": "b51eb7ac-f91b-4d10-ac86-f8498742b673",
   "metadata": {},
   "outputs": [
    {
     "data": {
      "text/plain": [
       "2"
      ]
     },
     "execution_count": 10,
     "metadata": {},
     "output_type": "execute_result"
    }
   ],
   "source": [
    "x.count(1)"
   ]
  },
  {
   "cell_type": "code",
   "execution_count": 11,
   "id": "509789d9-e6c2-48fd-9951-f35673930bba",
   "metadata": {},
   "outputs": [],
   "source": [
    "y=range(10)"
   ]
  },
  {
   "cell_type": "code",
   "execution_count": 12,
   "id": "d96b0ae6-88ee-496a-8076-b50f196a9219",
   "metadata": {},
   "outputs": [
    {
     "data": {
      "text/plain": [
       "range(0, 10)"
      ]
     },
     "execution_count": 12,
     "metadata": {},
     "output_type": "execute_result"
    }
   ],
   "source": [
    "y"
   ]
  },
  {
   "cell_type": "code",
   "execution_count": 15,
   "id": "a6adb1bf-88eb-401d-a6e5-5382d264e2ba",
   "metadata": {},
   "outputs": [],
   "source": [
    "y1=list(range(10))"
   ]
  },
  {
   "cell_type": "code",
   "execution_count": 16,
   "id": "1b3770af-5dfd-4fed-8dde-604786282172",
   "metadata": {},
   "outputs": [
    {
     "data": {
      "text/plain": [
       "[0, 1, 2, 3, 4, 5, 6, 7, 8, 9]"
      ]
     },
     "execution_count": 16,
     "metadata": {},
     "output_type": "execute_result"
    }
   ],
   "source": [
    "y"
   ]
  },
  {
   "cell_type": "markdown",
   "id": "83bdb38e-71f0-4b05-99cc-7cbce04cb56c",
   "metadata": {},
   "source": [
    "Review Python built-in functions that convert one basic Python Data Type to another:\n",
    "1. str\n",
    "2. int\n",
    "3. float\n",
    "4. bool"
   ]
  },
  {
   "cell_type": "markdown",
   "id": "9d5a0071-f079-4cea-94a6-337df199c001",
   "metadata": {},
   "source": [
    "Review what the following very helpful general Python buit-in functions perform:\n",
    "1. type (specify a Python object/name/variable)\n",
    "2. dir (specify a Python object/name/variable or simply enter \"dir()\" and see all defined Python objects for this session )\n",
    "3. help (specify a Python object/name/variable)\n",
    "4. globals (globals takes no arguments)"
   ]
  },
  {
   "cell_type": "code",
   "execution_count": 26,
   "id": "53b2b531-7406-4f1a-a279-93c7eaef5c65",
   "metadata": {},
   "outputs": [
    {
     "data": {
      "text/plain": [
       "['__and__',\n",
       " '__class__',\n",
       " '__contains__',\n",
       " '__delattr__',\n",
       " '__dir__',\n",
       " '__doc__',\n",
       " '__eq__',\n",
       " '__format__',\n",
       " '__ge__',\n",
       " '__getattribute__',\n",
       " '__gt__',\n",
       " '__hash__',\n",
       " '__iand__',\n",
       " '__init__',\n",
       " '__init_subclass__',\n",
       " '__ior__',\n",
       " '__isub__',\n",
       " '__iter__',\n",
       " '__ixor__',\n",
       " '__le__',\n",
       " '__len__',\n",
       " '__lt__',\n",
       " '__ne__',\n",
       " '__new__',\n",
       " '__or__',\n",
       " '__rand__',\n",
       " '__reduce__',\n",
       " '__reduce_ex__',\n",
       " '__repr__',\n",
       " '__ror__',\n",
       " '__rsub__',\n",
       " '__rxor__',\n",
       " '__setattr__',\n",
       " '__sizeof__',\n",
       " '__str__',\n",
       " '__sub__',\n",
       " '__subclasshook__',\n",
       " '__xor__',\n",
       " 'add',\n",
       " 'clear',\n",
       " 'copy',\n",
       " 'difference',\n",
       " 'difference_update',\n",
       " 'discard',\n",
       " 'intersection',\n",
       " 'intersection_update',\n",
       " 'isdisjoint',\n",
       " 'issubset',\n",
       " 'issuperset',\n",
       " 'pop',\n",
       " 'remove',\n",
       " 'symmetric_difference',\n",
       " 'symmetric_difference_update',\n",
       " 'union',\n",
       " 'update']"
      ]
     },
     "execution_count": 26,
     "metadata": {},
     "output_type": "execute_result"
    }
   ],
   "source": [
    "globals()['_ih'] # This shows you want is in your current IPython session's history.\n",
    "dir(set(x))"
   ]
  },
  {
   "cell_type": "markdown",
   "id": "00f76692-7cf0-44a4-95f8-f63647b0f28f",
   "metadata": {},
   "source": [
    "## Assessment of Understanding ## \n",
    "\n",
    "Using only Python built-in functions, find the statistical mean of any range of numbers starting from 1. \n",
    "Assign the end of the range with the variable <b>exam</b>\n",
    "\n",
    "To start you off, the varialbe <b> exam </b> is set to <b> 4 </b>"
   ]
  },
  {
   "cell_type": "code",
   "execution_count": 36,
   "id": "6b819eaa-9d3f-4a26-ba0c-47664155d8c8",
   "metadata": {},
   "outputs": [],
   "source": [
    "exam=4"
   ]
  },
  {
   "cell_type": "code",
   "execution_count": 37,
   "id": "ae5230c1-2cf4-4959-8c52-996a8fcfa074",
   "metadata": {},
   "outputs": [
    {
     "data": {
      "text/plain": [
       "1.5"
      ]
     },
     "execution_count": 37,
     "metadata": {},
     "output_type": "execute_result"
    }
   ],
   "source": [
    "sum(list(range(exam)))/len(list(range(exam)))"
   ]
  },
  {
   "cell_type": "markdown",
   "id": "ec14813f-0415-4b69-8675-301b4cf99a90",
   "metadata": {},
   "source": [
    "Why is the answer 1.5? This is wrong from a basic math perspective but it is 100% correct from a Python perspective:\n",
    "\n",
    "1+2+3+4=10  and 10/4 = 2.5  Why did Python give the correct \"Pythonic\" answer of 1.5?"
   ]
  },
  {
   "cell_type": "code",
   "execution_count": null,
   "id": "8b1fa851-590c-40b0-955f-f0f6d62a1b8f",
   "metadata": {},
   "outputs": [],
   "source": [
    "sum(list(range(exam)))/len(sum(list(range(exam))))"
   ]
  },
  {
   "cell_type": "code",
   "execution_count": null,
   "id": "40e651f6-26ac-49cd-b64c-3ab95bcfc09b",
   "metadata": {},
   "outputs": [],
   "source": [
    "What caused the error above?"
   ]
  },
  {
   "cell_type": "markdown",
   "id": "92a635e2-a7a5-4d34-8f0d-d7b3ee16a86b",
   "metadata": {},
   "source": [
    "## Section Two of Exploring Built-in Python Functions ##"
   ]
  },
  {
   "cell_type": "code",
   "execution_count": 41,
   "id": "106e1e32-fe6b-48fc-97ac-0e28b9c18c70",
   "metadata": {},
   "outputs": [],
   "source": [
    "demo=\"cat, dog, horse\""
   ]
  },
  {
   "cell_type": "code",
   "execution_count": 42,
   "id": "5d8f0b9e-b5b1-4cd7-88b6-59d3c4a73c5d",
   "metadata": {},
   "outputs": [
    {
     "data": {
      "text/plain": [
       "['cat,', 'dog,', 'horse']"
      ]
     },
     "execution_count": 42,
     "metadata": {},
     "output_type": "execute_result"
    }
   ],
   "source": [
    "demo.split()"
   ]
  },
  {
   "cell_type": "code",
   "execution_count": 43,
   "id": "1dc672b8-e13e-4034-ad9b-77a242970801",
   "metadata": {},
   "outputs": [
    {
     "data": {
      "text/plain": [
       "str"
      ]
     },
     "execution_count": 43,
     "metadata": {},
     "output_type": "execute_result"
    }
   ],
   "source": [
    "type(demo)"
   ]
  },
  {
   "cell_type": "code",
   "execution_count": 44,
   "id": "f8d8dcc6-5291-4b5c-88a8-d9e363523715",
   "metadata": {},
   "outputs": [
    {
     "data": {
      "text/plain": [
       "list"
      ]
     },
     "execution_count": 44,
     "metadata": {},
     "output_type": "execute_result"
    }
   ],
   "source": [
    "type(demo.split())"
   ]
  },
  {
   "cell_type": "code",
   "execution_count": null,
   "id": "1ed440ce-94b7-46dc-9547-8c5be4888961",
   "metadata": {},
   "outputs": [],
   "source": []
  }
 ],
 "metadata": {
  "kernelspec": {
   "display_name": "Python 3",
   "language": "python",
   "name": "python3"
  },
  "language_info": {
   "codemirror_mode": {
    "name": "ipython",
    "version": 3
   },
   "file_extension": ".py",
   "mimetype": "text/x-python",
   "name": "python",
   "nbconvert_exporter": "python",
   "pygments_lexer": "ipython3",
   "version": "3.6.9"
  }
 },
 "nbformat": 4,
 "nbformat_minor": 5
}
