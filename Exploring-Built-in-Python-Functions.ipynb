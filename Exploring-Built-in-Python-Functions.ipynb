{
 "cells": [
  {
   "cell_type": "markdown",
   "id": "caf83559-4f52-4a96-9399-b6b5f34437d6",
   "metadata": {},
   "source": [
    "## Exploring Built-in Python Functions ##\n",
    "\n",
    "Start with clicking on this link and reviewing the following built-in Python functions.\n",
    "Every Python function in this list is available when you open any Python shell.\n",
    "You don't need to import other Python modules such as <b>numpy</b> or Berkelely <b>datascience</b> or <b>pandas</b> to use these built-in functions.\n",
    "https://docs.python.org/3/library/functions.html\n",
    "\n",
    "Explore what you can do with Python without importing any Python modules. "
   ]
  },
  {
   "cell_type": "code",
   "execution_count": 1,
   "id": "f2fe4415-021e-4d93-a4c6-2dd7e88d11d9",
   "metadata": {},
   "outputs": [
    {
     "data": {
      "text/plain": [
       "[1, 2, 3, 4, 3, 2, 1]"
      ]
     },
     "execution_count": 1,
     "metadata": {},
     "output_type": "execute_result"
    }
   ],
   "source": [
    "list([1,2,3,4,3,2,1])"
   ]
  },
  {
   "cell_type": "code",
   "execution_count": 2,
   "id": "f73dfabd-56d5-4f01-a74b-c00b360468f8",
   "metadata": {},
   "outputs": [],
   "source": [
    "x=list([1,2,3,4,3,2,1])"
   ]
  },
  {
   "cell_type": "code",
   "execution_count": 3,
   "id": "4204a88f-780a-4b31-9eb5-a2c8743bc08a",
   "metadata": {},
   "outputs": [
    {
     "data": {
      "text/plain": [
       "[1, 2, 3, 4, 3, 2, 1]"
      ]
     },
     "execution_count": 3,
     "metadata": {},
     "output_type": "execute_result"
    }
   ],
   "source": [
    "x"
   ]
  },
  {
   "cell_type": "code",
   "execution_count": 4,
   "id": "ea7ef7c4-a352-4286-8760-b06d1535cd05",
   "metadata": {},
   "outputs": [
    {
     "name": "stdout",
     "output_type": "stream",
     "text": [
      "[1, 2, 3, 4, 3, 2, 1]\n"
     ]
    }
   ],
   "source": [
    "print(x)"
   ]
  },
  {
   "cell_type": "code",
   "execution_count": 5,
   "id": "0a0b13b0-5a19-430a-9aaf-9eb789574fed",
   "metadata": {},
   "outputs": [
    {
     "name": "stdout",
     "output_type": "stream",
     "text": [
      "Here is a list I created: [1, 2, 3, 4, 3, 2, 1]\n"
     ]
    }
   ],
   "source": [
    "print('Here is a list I created:', x)"
   ]
  },
  {
   "cell_type": "code",
   "execution_count": 6,
   "id": "8e056a9f-2b25-41a2-9a57-9f08a1e1a154",
   "metadata": {},
   "outputs": [
    {
     "data": {
      "text/plain": [
       "[1, 2, 3]"
      ]
     },
     "execution_count": 6,
     "metadata": {},
     "output_type": "execute_result"
    }
   ],
   "source": [
    "x[0]\n",
    "x[:3]"
   ]
  },
  {
   "cell_type": "code",
   "execution_count": 7,
   "id": "25383ace-ea58-4945-8165-753d9b55a967",
   "metadata": {},
   "outputs": [],
   "source": [
    "y='Berkeley'"
   ]
  },
  {
   "cell_type": "code",
   "execution_count": 8,
   "id": "16d76c9c-09f1-422d-b3da-8485b160718e",
   "metadata": {},
   "outputs": [
    {
     "data": {
      "text/plain": [
       "'Ber'"
      ]
     },
     "execution_count": 8,
     "metadata": {},
     "output_type": "execute_result"
    }
   ],
   "source": [
    "y[0]\n",
    "y[:3]  "
   ]
  },
  {
   "cell_type": "code",
   "execution_count": 9,
   "id": "ea6a45ba-6e5a-4ebf-b7ea-74f0f386bdd7",
   "metadata": {},
   "outputs": [
    {
     "data": {
      "text/plain": [
       "16"
      ]
     },
     "execution_count": 9,
     "metadata": {},
     "output_type": "execute_result"
    }
   ],
   "source": [
    "sum(x)"
   ]
  },
  {
   "cell_type": "code",
   "execution_count": 10,
   "id": "4c75da37-b1c4-41ba-882f-dd9e950c04d4",
   "metadata": {},
   "outputs": [
    {
     "data": {
      "text/plain": [
       "1"
      ]
     },
     "execution_count": 10,
     "metadata": {},
     "output_type": "execute_result"
    }
   ],
   "source": [
    "min(x)"
   ]
  },
  {
   "cell_type": "code",
   "execution_count": 11,
   "id": "86790d11-2ac3-4471-a24a-0863ec7839f1",
   "metadata": {},
   "outputs": [
    {
     "data": {
      "text/plain": [
       "4"
      ]
     },
     "execution_count": 11,
     "metadata": {},
     "output_type": "execute_result"
    }
   ],
   "source": [
    "max(x)"
   ]
  },
  {
   "cell_type": "code",
   "execution_count": 12,
   "id": "4e750244-1739-4c9d-ab45-b6fa89237c87",
   "metadata": {},
   "outputs": [
    {
     "data": {
      "text/plain": [
       "[1, 1, 2, 2, 3, 3, 4]"
      ]
     },
     "execution_count": 12,
     "metadata": {},
     "output_type": "execute_result"
    }
   ],
   "source": [
    "sorted(x)"
   ]
  },
  {
   "cell_type": "code",
   "execution_count": 13,
   "id": "fdb5141b-e5ff-4a83-a31d-b8f4d7dab75b",
   "metadata": {},
   "outputs": [
    {
     "data": {
      "text/plain": [
       "{1, 2, 3, 4}"
      ]
     },
     "execution_count": 13,
     "metadata": {},
     "output_type": "execute_result"
    }
   ],
   "source": [
    "set(x)"
   ]
  },
  {
   "cell_type": "markdown",
   "id": "7cbcc9cf-7cb4-4088-a5a3-34bc5d28569a",
   "metadata": {},
   "source": [
    "Type is a very useful Python Built-in function to determine the data type of any Python object."
   ]
  },
  {
   "cell_type": "code",
   "execution_count": 14,
   "id": "4750e415-82bd-4b31-b3d5-374cca276690",
   "metadata": {},
   "outputs": [
    {
     "data": {
      "text/plain": [
       "set"
      ]
     },
     "execution_count": 14,
     "metadata": {},
     "output_type": "execute_result"
    }
   ],
   "source": [
    "type(set(x))"
   ]
  },
  {
   "cell_type": "code",
   "execution_count": 15,
   "id": "509789d9-e6c2-48fd-9951-f35673930bba",
   "metadata": {},
   "outputs": [],
   "source": [
    "y=range(10)"
   ]
  },
  {
   "cell_type": "code",
   "execution_count": 16,
   "id": "d96b0ae6-88ee-496a-8076-b50f196a9219",
   "metadata": {},
   "outputs": [
    {
     "data": {
      "text/plain": [
       "range(0, 10)"
      ]
     },
     "execution_count": 16,
     "metadata": {},
     "output_type": "execute_result"
    }
   ],
   "source": [
    "y"
   ]
  },
  {
   "cell_type": "code",
   "execution_count": 17,
   "id": "a6adb1bf-88eb-401d-a6e5-5382d264e2ba",
   "metadata": {},
   "outputs": [],
   "source": [
    "y1=list(range(10))"
   ]
  },
  {
   "cell_type": "code",
   "execution_count": 18,
   "id": "1b3770af-5dfd-4fed-8dde-604786282172",
   "metadata": {},
   "outputs": [
    {
     "data": {
      "text/plain": [
       "range(0, 10)"
      ]
     },
     "execution_count": 18,
     "metadata": {},
     "output_type": "execute_result"
    }
   ],
   "source": [
    "y"
   ]
  },
  {
   "cell_type": "markdown",
   "id": "83bdb38e-71f0-4b05-99cc-7cbce04cb56c",
   "metadata": {},
   "source": [
    "Review Python built-in functions that converts one basic Python Data Type to another.\n",
    "1. str\n",
    "2. int\n",
    "3. float\n",
    "\n",
    "These built-in functions can be very helpful when importing data in from csv file. Many times, the data in csv files are converted as 100% string data types, even numbers! The <b>int</b> and <b>float</b> built-in functions can be useful to convert numbers inadvertantly imported as strings into numeric values."
   ]
  },
  {
   "cell_type": "code",
   "execution_count": 19,
   "id": "798f1875-b0b7-4235-a483-8617579e9c62",
   "metadata": {},
   "outputs": [
    {
     "data": {
      "text/plain": [
       "10.0"
      ]
     },
     "execution_count": 19,
     "metadata": {},
     "output_type": "execute_result"
    }
   ],
   "source": [
    "str(10)\n",
    "float(10)"
   ]
  },
  {
   "cell_type": "markdown",
   "id": "00f76692-7cf0-44a4-95f8-f63647b0f28f",
   "metadata": {},
   "source": [
    "### Assessment of Understanding ### \n",
    "\n",
    "Using only Python built-in functions, find the statistical mean of any range of numbers starting from 1. \n",
    "Assign the end of the range with the variable <b>exam</b>\n",
    "\n",
    "To start you off, the varialbe <b> exam </b> is set to <b> 4 </b>"
   ]
  },
  {
   "cell_type": "code",
   "execution_count": 20,
   "id": "6b819eaa-9d3f-4a26-ba0c-47664155d8c8",
   "metadata": {},
   "outputs": [],
   "source": [
    "exam=4"
   ]
  },
  {
   "cell_type": "code",
   "execution_count": 21,
   "id": "ae5230c1-2cf4-4959-8c52-996a8fcfa074",
   "metadata": {},
   "outputs": [
    {
     "data": {
      "text/plain": [
       "1.5"
      ]
     },
     "execution_count": 21,
     "metadata": {},
     "output_type": "execute_result"
    }
   ],
   "source": [
    "sum(list(range(exam)))/len(list(range(exam)))"
   ]
  },
  {
   "cell_type": "markdown",
   "id": "ec14813f-0415-4b69-8675-301b4cf99a90",
   "metadata": {},
   "source": [
    "Why is the answer 1.5? This is wrong from a basic math perspective but it is 100% correct from a Python perspective:\n",
    "\n",
    "1+2+3+4=10  and 10/4 = 2.5  Why did Python give the correct \"Pythonic\" answer of 1.5?"
   ]
  },
  {
   "cell_type": "code",
   "execution_count": 22,
   "id": "8b1fa851-590c-40b0-955f-f0f6d62a1b8f",
   "metadata": {},
   "outputs": [
    {
     "ename": "TypeError",
     "evalue": "object of type 'int' has no len()",
     "output_type": "error",
     "traceback": [
      "\u001b[0;31m---------------------------------------------------------------------------\u001b[0m",
      "\u001b[0;31mTypeError\u001b[0m                                 Traceback (most recent call last)",
      "\u001b[0;32m<ipython-input-22-637009182b7f>\u001b[0m in \u001b[0;36m<module>\u001b[0;34m\u001b[0m\n\u001b[0;32m----> 1\u001b[0;31m \u001b[0msum\u001b[0m\u001b[0;34m(\u001b[0m\u001b[0mlist\u001b[0m\u001b[0;34m(\u001b[0m\u001b[0mrange\u001b[0m\u001b[0;34m(\u001b[0m\u001b[0mexam\u001b[0m\u001b[0;34m)\u001b[0m\u001b[0;34m)\u001b[0m\u001b[0;34m)\u001b[0m\u001b[0;34m/\u001b[0m\u001b[0mlen\u001b[0m\u001b[0;34m(\u001b[0m\u001b[0msum\u001b[0m\u001b[0;34m(\u001b[0m\u001b[0mlist\u001b[0m\u001b[0;34m(\u001b[0m\u001b[0mrange\u001b[0m\u001b[0;34m(\u001b[0m\u001b[0mexam\u001b[0m\u001b[0;34m)\u001b[0m\u001b[0;34m)\u001b[0m\u001b[0;34m)\u001b[0m\u001b[0;34m)\u001b[0m\u001b[0;34m\u001b[0m\u001b[0;34m\u001b[0m\u001b[0m\n\u001b[0m",
      "\u001b[0;31mTypeError\u001b[0m: object of type 'int' has no len()"
     ]
    }
   ],
   "source": [
    "sum(list(range(exam)))/len(sum(list(range(exam))))"
   ]
  },
  {
   "cell_type": "markdown",
   "id": "6d9c063d-0a13-4f2d-94d6-8c0843cebd5c",
   "metadata": {},
   "source": [
    "What caused the error above?"
   ]
  },
  {
   "cell_type": "markdown",
   "id": "92a635e2-a7a5-4d34-8f0d-d7b3ee16a86b",
   "metadata": {},
   "source": [
    "## Section Two of Exploring Built-in Python Functions ##\n",
    "### <b><i> string.xxx</i></b>, <b><i> list.xxx</i></b> and more!\n",
    "\n",
    "<b><i>And Don't Forget to Check Out the Jupyter/iPython Tab Completion Feature!</i></b>"
   ]
  },
  {
   "cell_type": "code",
   "execution_count": 23,
   "id": "106e1e32-fe6b-48fc-97ac-0e28b9c18c70",
   "metadata": {},
   "outputs": [],
   "source": [
    "demo=\"cat, dog, horse\""
   ]
  },
  {
   "cell_type": "code",
   "execution_count": 24,
   "id": "5d8f0b9e-b5b1-4cd7-88b6-59d3c4a73c5d",
   "metadata": {},
   "outputs": [
    {
     "data": {
      "text/plain": [
       "['cat,', 'dog,', 'horse']"
      ]
     },
     "execution_count": 24,
     "metadata": {},
     "output_type": "execute_result"
    }
   ],
   "source": [
    "demo.split()"
   ]
  },
  {
   "cell_type": "markdown",
   "id": "6b550659-2a0a-42ec-9a74-9b8ed40cec88",
   "metadata": {},
   "source": [
    "Try out this interactive web page from w3schools: \n",
    "https://www.w3schools.com/python/trypython.asp?filename=demo_ref_string_split"
   ]
  },
  {
   "cell_type": "code",
   "execution_count": 25,
   "id": "1dc672b8-e13e-4034-ad9b-77a242970801",
   "metadata": {},
   "outputs": [
    {
     "data": {
      "text/plain": [
       "str"
      ]
     },
     "execution_count": 25,
     "metadata": {},
     "output_type": "execute_result"
    }
   ],
   "source": [
    "type(demo)"
   ]
  },
  {
   "cell_type": "code",
   "execution_count": 26,
   "id": "f8d8dcc6-5291-4b5c-88a8-d9e363523715",
   "metadata": {},
   "outputs": [
    {
     "data": {
      "text/plain": [
       "list"
      ]
     },
     "execution_count": 26,
     "metadata": {},
     "output_type": "execute_result"
    }
   ],
   "source": [
    "type(demo.split())"
   ]
  },
  {
   "cell_type": "markdown",
   "id": "74af1eff-828d-411d-a39c-6dac6e1a9942",
   "metadata": {},
   "source": [
    "Review what the following very helpful general Python buit-in functions perform:\n",
    "1. dir (specify a Python object/name/variable or simply enter \"dir()\" and see all defined Python objects for this session )\n",
    "1. help (specify a Python object/name/variable)\n",
    "1. globals (globals takes no arguments)"
   ]
  },
  {
   "cell_type": "code",
   "execution_count": 27,
   "id": "5d5e4d42-9fd4-405a-b61d-0201437e5eea",
   "metadata": {},
   "outputs": [
    {
     "name": "stdout",
     "output_type": "stream",
     "text": [
      "Help on list object:\n",
      "\n",
      "class list(object)\n",
      " |  list() -> new empty list\n",
      " |  list(iterable) -> new list initialized from iterable's items\n",
      " |  \n",
      " |  Methods defined here:\n",
      " |  \n",
      " |  __add__(self, value, /)\n",
      " |      Return self+value.\n",
      " |  \n",
      " |  __contains__(self, key, /)\n",
      " |      Return key in self.\n",
      " |  \n",
      " |  __delitem__(self, key, /)\n",
      " |      Delete self[key].\n",
      " |  \n",
      " |  __eq__(self, value, /)\n",
      " |      Return self==value.\n",
      " |  \n",
      " |  __ge__(self, value, /)\n",
      " |      Return self>=value.\n",
      " |  \n",
      " |  __getattribute__(self, name, /)\n",
      " |      Return getattr(self, name).\n",
      " |  \n",
      " |  __getitem__(...)\n",
      " |      x.__getitem__(y) <==> x[y]\n",
      " |  \n",
      " |  __gt__(self, value, /)\n",
      " |      Return self>value.\n",
      " |  \n",
      " |  __iadd__(self, value, /)\n",
      " |      Implement self+=value.\n",
      " |  \n",
      " |  __imul__(self, value, /)\n",
      " |      Implement self*=value.\n",
      " |  \n",
      " |  __init__(self, /, *args, **kwargs)\n",
      " |      Initialize self.  See help(type(self)) for accurate signature.\n",
      " |  \n",
      " |  __iter__(self, /)\n",
      " |      Implement iter(self).\n",
      " |  \n",
      " |  __le__(self, value, /)\n",
      " |      Return self<=value.\n",
      " |  \n",
      " |  __len__(self, /)\n",
      " |      Return len(self).\n",
      " |  \n",
      " |  __lt__(self, value, /)\n",
      " |      Return self<value.\n",
      " |  \n",
      " |  __mul__(self, value, /)\n",
      " |      Return self*value.\n",
      " |  \n",
      " |  __ne__(self, value, /)\n",
      " |      Return self!=value.\n",
      " |  \n",
      " |  __new__(*args, **kwargs) from builtins.type\n",
      " |      Create and return a new object.  See help(type) for accurate signature.\n",
      " |  \n",
      " |  __repr__(self, /)\n",
      " |      Return repr(self).\n",
      " |  \n",
      " |  __reversed__(...)\n",
      " |      L.__reversed__() -- return a reverse iterator over the list\n",
      " |  \n",
      " |  __rmul__(self, value, /)\n",
      " |      Return value*self.\n",
      " |  \n",
      " |  __setitem__(self, key, value, /)\n",
      " |      Set self[key] to value.\n",
      " |  \n",
      " |  __sizeof__(...)\n",
      " |      L.__sizeof__() -- size of L in memory, in bytes\n",
      " |  \n",
      " |  append(...)\n",
      " |      L.append(object) -> None -- append object to end\n",
      " |  \n",
      " |  clear(...)\n",
      " |      L.clear() -> None -- remove all items from L\n",
      " |  \n",
      " |  copy(...)\n",
      " |      L.copy() -> list -- a shallow copy of L\n",
      " |  \n",
      " |  count(...)\n",
      " |      L.count(value) -> integer -- return number of occurrences of value\n",
      " |  \n",
      " |  extend(...)\n",
      " |      L.extend(iterable) -> None -- extend list by appending elements from the iterable\n",
      " |  \n",
      " |  index(...)\n",
      " |      L.index(value, [start, [stop]]) -> integer -- return first index of value.\n",
      " |      Raises ValueError if the value is not present.\n",
      " |  \n",
      " |  insert(...)\n",
      " |      L.insert(index, object) -- insert object before index\n",
      " |  \n",
      " |  pop(...)\n",
      " |      L.pop([index]) -> item -- remove and return item at index (default last).\n",
      " |      Raises IndexError if list is empty or index is out of range.\n",
      " |  \n",
      " |  remove(...)\n",
      " |      L.remove(value) -> None -- remove first occurrence of value.\n",
      " |      Raises ValueError if the value is not present.\n",
      " |  \n",
      " |  reverse(...)\n",
      " |      L.reverse() -- reverse *IN PLACE*\n",
      " |  \n",
      " |  sort(...)\n",
      " |      L.sort(key=None, reverse=False) -> None -- stable sort *IN PLACE*\n",
      " |  \n",
      " |  ----------------------------------------------------------------------\n",
      " |  Data and other attributes defined here:\n",
      " |  \n",
      " |  __hash__ = None\n",
      "\n"
     ]
    }
   ],
   "source": [
    "help(demo.split()) #Python help can sometimes be helpful but many times its confusing\n",
    "# You are better off doing a Google search for any Python command or command combination."
   ]
  },
  {
   "cell_type": "markdown",
   "id": "d547fd9c-5ef3-4afb-a965-c6b9976c938d",
   "metadata": {},
   "source": [
    "The following sequence starting with a <b>?</b> is an additional help feature built into iPython/Jupyter only."
   ]
  },
  {
   "cell_type": "code",
   "execution_count": 28,
   "id": "962c6894-7db6-4c72-a4c8-210d130b38aa",
   "metadata": {},
   "outputs": [
    {
     "data": {
      "text/plain": [
       "\u001b[0;31mDocstring:\u001b[0m\n",
       "S.split(sep=None, maxsplit=-1) -> list of strings\n",
       "\n",
       "Return a list of the words in S, using sep as the\n",
       "delimiter string.  If maxsplit is given, at most maxsplit\n",
       "splits are done. If sep is not specified or is None, any\n",
       "whitespace string is a separator and empty strings are\n",
       "removed from the result.\n",
       "\u001b[0;31mType:\u001b[0m      builtin_function_or_method\n"
      ]
     },
     "metadata": {},
     "output_type": "display_data"
    }
   ],
   "source": [
    "?demo.split "
   ]
  },
  {
   "cell_type": "code",
   "execution_count": 29,
   "id": "171c3d69-8dd1-480f-aa09-65961cd65a78",
   "metadata": {},
   "outputs": [
    {
     "data": {
      "text/plain": [
       "['__and__',\n",
       " '__class__',\n",
       " '__contains__',\n",
       " '__delattr__',\n",
       " '__dir__',\n",
       " '__doc__',\n",
       " '__eq__',\n",
       " '__format__',\n",
       " '__ge__',\n",
       " '__getattribute__',\n",
       " '__gt__',\n",
       " '__hash__',\n",
       " '__iand__',\n",
       " '__init__',\n",
       " '__init_subclass__',\n",
       " '__ior__',\n",
       " '__isub__',\n",
       " '__iter__',\n",
       " '__ixor__',\n",
       " '__le__',\n",
       " '__len__',\n",
       " '__lt__',\n",
       " '__ne__',\n",
       " '__new__',\n",
       " '__or__',\n",
       " '__rand__',\n",
       " '__reduce__',\n",
       " '__reduce_ex__',\n",
       " '__repr__',\n",
       " '__ror__',\n",
       " '__rsub__',\n",
       " '__rxor__',\n",
       " '__setattr__',\n",
       " '__sizeof__',\n",
       " '__str__',\n",
       " '__sub__',\n",
       " '__subclasshook__',\n",
       " '__xor__',\n",
       " 'add',\n",
       " 'clear',\n",
       " 'copy',\n",
       " 'difference',\n",
       " 'difference_update',\n",
       " 'discard',\n",
       " 'intersection',\n",
       " 'intersection_update',\n",
       " 'isdisjoint',\n",
       " 'issubset',\n",
       " 'issuperset',\n",
       " 'pop',\n",
       " 'remove',\n",
       " 'symmetric_difference',\n",
       " 'symmetric_difference_update',\n",
       " 'union',\n",
       " 'update']"
      ]
     },
     "execution_count": 29,
     "metadata": {},
     "output_type": "execute_result"
    }
   ],
   "source": [
    "globals()['_ih'] # This shows you want is in your current IPython session's history.\n",
    "dir(set(x))"
   ]
  },
  {
   "cell_type": "code",
   "execution_count": 36,
   "id": "83067210-e5a3-4772-9422-0de988c80344",
   "metadata": {},
   "outputs": [],
   "source": [
    "sample_sog=[10,20.30,20,50,20,50,100,10,20,5]"
   ]
  },
  {
   "cell_type": "code",
   "execution_count": 37,
   "id": "1ed440ce-94b7-46dc-9547-8c5be4888961",
   "metadata": {},
   "outputs": [
    {
     "data": {
      "text/plain": [
       "3"
      ]
     },
     "execution_count": 37,
     "metadata": {},
     "output_type": "execute_result"
    }
   ],
   "source": [
    "sample_sog.count(20)"
   ]
  },
  {
   "cell_type": "code",
   "execution_count": 38,
   "id": "aa8450f1-c350-4cc8-a476-d617fea05d51",
   "metadata": {},
   "outputs": [
    {
     "data": {
      "text/plain": [
       "20.3"
      ]
     },
     "execution_count": 38,
     "metadata": {},
     "output_type": "execute_result"
    }
   ],
   "source": [
    "sample_sog.pop(1)"
   ]
  },
  {
   "cell_type": "code",
   "execution_count": 42,
   "id": "e56fbf52-a952-4530-a50c-77b077f136e0",
   "metadata": {},
   "outputs": [
    {
     "data": {
      "text/plain": [
       "[10, 20, 50, 20, 50, 100, 10, 20, 5]"
      ]
     },
     "execution_count": 42,
     "metadata": {},
     "output_type": "execute_result"
    }
   ],
   "source": [
    "sample_sog"
   ]
  },
  {
   "cell_type": "markdown",
   "id": "01f7a39d-81c5-401a-aa41-fbd1df1fd58c",
   "metadata": {},
   "source": [
    "## <b>Section Three of Exploring Built-in Python Functions</b> ##\n",
    "### <b><i>Reviewing Common Error Messages</i></b> and more! ###\n"
   ]
  },
  {
   "cell_type": "code",
   "execution_count": 43,
   "id": "88fc49bd-49d7-4346-adf4-687328a9e457",
   "metadata": {},
   "outputs": [
    {
     "ename": "NameError",
     "evalue": "name 'whatup' is not defined",
     "output_type": "error",
     "traceback": [
      "\u001b[0;31m---------------------------------------------------------------------------\u001b[0m",
      "\u001b[0;31mNameError\u001b[0m                                 Traceback (most recent call last)",
      "\u001b[0;32m<ipython-input-43-cbdfe441ec43>\u001b[0m in \u001b[0;36m<module>\u001b[0;34m\u001b[0m\n\u001b[0;32m----> 1\u001b[0;31m \u001b[0mwhatup\u001b[0m \u001b[0;31m#what does the following error message mean?\u001b[0m\u001b[0;34m\u001b[0m\u001b[0;34m\u001b[0m\u001b[0m\n\u001b[0m",
      "\u001b[0;31mNameError\u001b[0m: name 'whatup' is not defined"
     ]
    }
   ],
   "source": [
    "whatup #what does the following error message mean?"
   ]
  },
  {
   "cell_type": "code",
   "execution_count": 44,
   "id": "8ccbe915-a02c-4ed8-9c16-6dc60898e917",
   "metadata": {},
   "outputs": [],
   "source": [
    "test=\"Hello world!\""
   ]
  },
  {
   "cell_type": "code",
   "execution_count": 45,
   "id": "0007ad53-827a-45c6-b7b3-0a7d3fa92364",
   "metadata": {},
   "outputs": [
    {
     "ename": "AttributeError",
     "evalue": "'str' object has no attribute 'spit'",
     "output_type": "error",
     "traceback": [
      "\u001b[0;31m---------------------------------------------------------------------------\u001b[0m",
      "\u001b[0;31mAttributeError\u001b[0m                            Traceback (most recent call last)",
      "\u001b[0;32m<ipython-input-45-88393a24f69d>\u001b[0m in \u001b[0;36m<module>\u001b[0;34m\u001b[0m\n\u001b[0;32m----> 1\u001b[0;31m \u001b[0mtest\u001b[0m\u001b[0;34m.\u001b[0m\u001b[0mspit\u001b[0m\u001b[0;34m(\u001b[0m\u001b[0;34m)\u001b[0m\u001b[0;34m\u001b[0m\u001b[0;34m\u001b[0m\u001b[0m\n\u001b[0m",
      "\u001b[0;31mAttributeError\u001b[0m: 'str' object has no attribute 'spit'"
     ]
    }
   ],
   "source": [
    "test.spit()"
   ]
  },
  {
   "cell_type": "code",
   "execution_count": 46,
   "id": "f76a6068-c7b8-44b7-a0a2-43ff428abc43",
   "metadata": {},
   "outputs": [
    {
     "ename": "SyntaxError",
     "evalue": "invalid syntax (<ipython-input-46-10cb182148e3>, line 1)",
     "output_type": "error",
     "traceback": [
      "\u001b[0;36m  File \u001b[0;32m\"<ipython-input-46-10cb182148e3>\"\u001b[0;36m, line \u001b[0;32m1\u001b[0m\n\u001b[0;31m    print(Hello World)\u001b[0m\n\u001b[0m                    ^\u001b[0m\n\u001b[0;31mSyntaxError\u001b[0m\u001b[0;31m:\u001b[0m invalid syntax\n"
     ]
    }
   ],
   "source": [
    "print(Hello World)"
   ]
  },
  {
   "cell_type": "code",
   "execution_count": 47,
   "id": "1f56258b-e7e1-4c13-bae8-9e4e12955a1b",
   "metadata": {},
   "outputs": [],
   "source": [
    "x=10\n",
    "y='20'"
   ]
  },
  {
   "cell_type": "code",
   "execution_count": 48,
   "id": "a1e7b01e-e07e-4099-9d5c-c9f4ea141fd9",
   "metadata": {},
   "outputs": [
    {
     "ename": "TypeError",
     "evalue": "unsupported operand type(s) for +: 'int' and 'str'",
     "output_type": "error",
     "traceback": [
      "\u001b[0;31m---------------------------------------------------------------------------\u001b[0m",
      "\u001b[0;31mTypeError\u001b[0m                                 Traceback (most recent call last)",
      "\u001b[0;32m<ipython-input-48-259706549f3d>\u001b[0m in \u001b[0;36m<module>\u001b[0;34m\u001b[0m\n\u001b[0;32m----> 1\u001b[0;31m \u001b[0mx\u001b[0m\u001b[0;34m+\u001b[0m\u001b[0my\u001b[0m\u001b[0;34m\u001b[0m\u001b[0;34m\u001b[0m\u001b[0m\n\u001b[0m",
      "\u001b[0;31mTypeError\u001b[0m: unsupported operand type(s) for +: 'int' and 'str'"
     ]
    }
   ],
   "source": [
    "x+y"
   ]
  },
  {
   "cell_type": "code",
   "execution_count": 49,
   "id": "f70944c8-cefd-4398-8f27-24fd32721edf",
   "metadata": {},
   "outputs": [
    {
     "ename": "TypeError",
     "evalue": "list() takes at most 1 argument (7 given)",
     "output_type": "error",
     "traceback": [
      "\u001b[0;31m---------------------------------------------------------------------------\u001b[0m",
      "\u001b[0;31mTypeError\u001b[0m                                 Traceback (most recent call last)",
      "\u001b[0;32m<ipython-input-49-6c039d7a73f7>\u001b[0m in \u001b[0;36m<module>\u001b[0;34m\u001b[0m\n\u001b[0;32m----> 1\u001b[0;31m \u001b[0mlist\u001b[0m\u001b[0;34m(\u001b[0m\u001b[0;36m1\u001b[0m\u001b[0;34m,\u001b[0m\u001b[0;36m2\u001b[0m\u001b[0;34m,\u001b[0m\u001b[0;36m3\u001b[0m\u001b[0;34m,\u001b[0m\u001b[0;36m4\u001b[0m\u001b[0;34m,\u001b[0m\u001b[0;36m3\u001b[0m\u001b[0;34m,\u001b[0m\u001b[0;36m2\u001b[0m\u001b[0;34m,\u001b[0m\u001b[0;36m1\u001b[0m\u001b[0;34m)\u001b[0m\u001b[0;34m\u001b[0m\u001b[0;34m\u001b[0m\u001b[0m\n\u001b[0m",
      "\u001b[0;31mTypeError\u001b[0m: list() takes at most 1 argument (7 given)"
     ]
    }
   ],
   "source": [
    "list(1,2,3,4,3,2,1)"
   ]
  },
  {
   "cell_type": "code",
   "execution_count": null,
   "id": "b659e319-fd85-4fcf-858a-e9898cc724dd",
   "metadata": {},
   "outputs": [],
   "source": []
  },
  {
   "cell_type": "code",
   "execution_count": null,
   "id": "f9d972c7-5fa6-4b14-bc47-df0970d59cf9",
   "metadata": {},
   "outputs": [],
   "source": []
  }
 ],
 "metadata": {
  "kernelspec": {
   "display_name": "Python 3",
   "language": "python",
   "name": "python3"
  },
  "language_info": {
   "codemirror_mode": {
    "name": "ipython",
    "version": 3
   },
   "file_extension": ".py",
   "mimetype": "text/x-python",
   "name": "python",
   "nbconvert_exporter": "python",
   "pygments_lexer": "ipython3",
   "version": "3.6.9"
  }
 },
 "nbformat": 4,
 "nbformat_minor": 5
}
