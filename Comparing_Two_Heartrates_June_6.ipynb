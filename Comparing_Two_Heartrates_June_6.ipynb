{
 "cells": [
  {
   "cell_type": "code",
   "execution_count": null,
   "id": "69552988-afe5-40b6-b2b1-4be5e598a680",
   "metadata": {},
   "outputs": [],
   "source": [
    "from datascience import Table\n",
    "from datascience.predicates import are\n",
    "import numpy as np"
   ]
  },
  {
   "cell_type": "code",
   "execution_count": null,
   "id": "a10ec56d-36af-40df-8141-633c1fb69d3b",
   "metadata": {},
   "outputs": [],
   "source": [
    "heartrate=Table.read_table('heartrate.csv')"
   ]
  },
  {
   "cell_type": "code",
   "execution_count": null,
   "id": "49e5f4a3-689f-475b-8f42-7ab7b5b26315",
   "metadata": {},
   "outputs": [],
   "source": [
    "heartrate"
   ]
  },
  {
   "cell_type": "markdown",
   "id": "be0e04d6-6d55-4617-acb4-504738b98e7a",
   "metadata": {},
   "source": [
    "Here is the useful Berkeley datascience module references:\n",
    "\n",
    "http://data8.org/datascience/index.html\n",
    "\n",
    "http://data8.org/datascience/predicates.html"
   ]
  },
  {
   "cell_type": "code",
   "execution_count": null,
   "id": "fd3bf3d0-4768-4fb3-ab69-033780ec4c1b",
   "metadata": {},
   "outputs": [],
   "source": [
    "#hr_2_oct.show(100)\n",
    "heartrate[0][1026:1048]"
   ]
  },
  {
   "cell_type": "code",
   "execution_count": null,
   "id": "3c8c8398-b101-42ac-b628-e58e29baf666",
   "metadata": {},
   "outputs": [],
   "source": [
    "#hr_1_oct=heartrate.where('timestamp', are.containing('2020-10-01'))\n",
    "hr_2_oct=heartrate.where('timestamp', are.containing('2020-10-02 14:'))"
   ]
  },
  {
   "cell_type": "code",
   "execution_count": null,
   "id": "f832e3e1-e04f-4be7-ae78-33d923a8e6fe",
   "metadata": {},
   "outputs": [],
   "source": [
    "hr_17_oct=heartrate.where('timestamp', are.containing('2020-10-17 15:'))"
   ]
  },
  {
   "cell_type": "code",
   "execution_count": null,
   "id": "b972770e-6d2a-47b6-8b2f-b7cb9e938a0b",
   "metadata": {},
   "outputs": [],
   "source": [
    "len(hr_17_oct[0])\n",
    "hr_2_oct[0]"
   ]
  },
  {
   "cell_type": "code",
   "execution_count": null,
   "id": "80e69d0b-7478-453b-b1ba-aea766a74102",
   "metadata": {},
   "outputs": [],
   "source": [
    "hr_17_oct[0]"
   ]
  },
  {
   "cell_type": "code",
   "execution_count": null,
   "id": "15f03053-e923-4a88-9ed9-ecd646cdfb66",
   "metadata": {},
   "outputs": [],
   "source": [
    "hr_17_oct_trim=hr_17_oct[1][:11]"
   ]
  },
  {
   "cell_type": "code",
   "execution_count": null,
   "id": "09dd758b-cf66-47dd-a8e7-3260ca740099",
   "metadata": {},
   "outputs": [],
   "source": [
    "hr_2_oct_trim=hr_2_oct[1]"
   ]
  },
  {
   "cell_type": "code",
   "execution_count": null,
   "id": "b9f9ae9e-7497-4983-ac3c-b514795bb060",
   "metadata": {},
   "outputs": [],
   "source": [
    "len(hr_17_oct_trim)"
   ]
  },
  {
   "cell_type": "code",
   "execution_count": null,
   "id": "3e1392b0-aa4f-4844-9881-70f5a651e589",
   "metadata": {},
   "outputs": [],
   "source": [
    "hr_oct_2_and_17=Table().with_columns(['Index', np.arange(1,12),'Oct 2nd', hr_2_oct_trim, 'Oct 17th', hr_17_oct_trim])\n",
    "#hr_oct_2_and_17=Table().with_columns(['Index', np.arange(1,11),'Oct 2nd', hr_2_oct, 'Oct 17th', hr_17_oct])"
   ]
  },
  {
   "cell_type": "code",
   "execution_count": null,
   "id": "d320dfe6-f992-4d79-a616-06c71e7a9a75",
   "metadata": {},
   "outputs": [],
   "source": [
    "hr_oct_2_and_17"
   ]
  },
  {
   "cell_type": "code",
   "execution_count": null,
   "id": "2b437add-e867-401d-b7d3-c794f2c5151e",
   "metadata": {},
   "outputs": [],
   "source": [
    "import matplotlib.pyplot as plt\n",
    "%matplotlib inline\n",
    "hr_oct_2_and_17.plot('Index') \n",
    "plt.grid(True)"
   ]
  },
  {
   "cell_type": "code",
   "execution_count": null,
   "id": "00a48073-83c8-4a3f-9e43-73590f2fce86",
   "metadata": {},
   "outputs": [],
   "source": []
  }
 ],
 "metadata": {
  "kernelspec": {
   "display_name": "Python 3",
   "language": "python",
   "name": "python3"
  },
  "language_info": {
   "codemirror_mode": {
    "name": "ipython",
    "version": 3
   },
   "file_extension": ".py",
   "mimetype": "text/x-python",
   "name": "python",
   "nbconvert_exporter": "python",
   "pygments_lexer": "ipython3",
   "version": "3.6.9"
  }
 },
 "nbformat": 4,
 "nbformat_minor": 5
}
