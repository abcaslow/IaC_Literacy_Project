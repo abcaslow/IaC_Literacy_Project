{
 "cells": [
  {
   "cell_type": "code",
   "execution_count": 5,
   "id": "69552988-afe5-40b6-b2b1-4be5e598a680",
   "metadata": {},
   "outputs": [],
   "source": [
    "from datascience import Table\n",
    "from datascience.predicates import are\n",
    "import numpy as np"
   ]
  },
  {
   "cell_type": "code",
   "execution_count": 6,
   "id": "a10ec56d-36af-40df-8141-633c1fb69d3b",
   "metadata": {},
   "outputs": [],
   "source": [
    "heartrate=Table.read_table('heartrate.csv')"
   ]
  },
  {
   "cell_type": "code",
   "execution_count": 7,
   "id": "49e5f4a3-689f-475b-8f42-7ab7b5b26315",
   "metadata": {},
   "outputs": [
    {
     "data": {
      "text/html": [
       "<table border=\"1\" class=\"dataframe\">\n",
       "    <thead>\n",
       "        <tr>\n",
       "            <th>timestamp</th> <th>heartrate</th>\n",
       "        </tr>\n",
       "    </thead>\n",
       "    <tbody>\n",
       "        <tr>\n",
       "            <td>2020-10-01 20:42:22 -0400</td> <td>99       </td>\n",
       "        </tr>\n",
       "        <tr>\n",
       "            <td>2020-10-01 20:47:46 -0400</td> <td>67       </td>\n",
       "        </tr>\n",
       "        <tr>\n",
       "            <td>2020-10-01 20:50:14 -0400</td> <td>107      </td>\n",
       "        </tr>\n",
       "        <tr>\n",
       "            <td>2020-10-01 20:50:19 -0400</td> <td>107      </td>\n",
       "        </tr>\n",
       "        <tr>\n",
       "            <td>2020-10-01 20:57:39 -0400</td> <td>63       </td>\n",
       "        </tr>\n",
       "        <tr>\n",
       "            <td>2020-10-01 21:02:07 -0400</td> <td>57       </td>\n",
       "        </tr>\n",
       "        <tr>\n",
       "            <td>2020-10-01 21:05:08 -0400</td> <td>67       </td>\n",
       "        </tr>\n",
       "        <tr>\n",
       "            <td>2020-10-01 21:11:29 -0400</td> <td>77       </td>\n",
       "        </tr>\n",
       "        <tr>\n",
       "            <td>2020-10-01 21:16:27 -0400</td> <td>70       </td>\n",
       "        </tr>\n",
       "        <tr>\n",
       "            <td>2020-10-01 21:20:14 -0400</td> <td>74       </td>\n",
       "        </tr>\n",
       "    </tbody>\n",
       "</table>\n",
       "<p>... (12165 rows omitted)</p>"
      ],
      "text/plain": [
       "timestamp                 | heartrate\n",
       "2020-10-01 20:42:22 -0400 | 99\n",
       "2020-10-01 20:47:46 -0400 | 67\n",
       "2020-10-01 20:50:14 -0400 | 107\n",
       "2020-10-01 20:50:19 -0400 | 107\n",
       "2020-10-01 20:57:39 -0400 | 63\n",
       "2020-10-01 21:02:07 -0400 | 57\n",
       "2020-10-01 21:05:08 -0400 | 67\n",
       "2020-10-01 21:11:29 -0400 | 77\n",
       "2020-10-01 21:16:27 -0400 | 70\n",
       "2020-10-01 21:20:14 -0400 | 74\n",
       "... (12165 rows omitted)"
      ]
     },
     "execution_count": 7,
     "metadata": {},
     "output_type": "execute_result"
    }
   ],
   "source": [
    "heartrate"
   ]
  },
  {
   "cell_type": "markdown",
   "id": "be0e04d6-6d55-4617-acb4-504738b98e7a",
   "metadata": {},
   "source": [
    "Here is the useful Berkeley datascience module references:\n",
    "\n",
    "http://data8.org/datascience/index.html\n",
    "\n",
    "http://data8.org/datascience/predicates.html"
   ]
  },
  {
   "cell_type": "code",
   "execution_count": 8,
   "id": "fd3bf3d0-4768-4fb3-ab69-033780ec4c1b",
   "metadata": {},
   "outputs": [
    {
     "data": {
      "text/plain": [
       "array(['2020-10-17 15:15:10 -0400', '2020-10-17 15:25:54 -0400',\n",
       "       '2020-10-17 15:32:27 -0400', '2020-10-17 15:34:51 -0400',\n",
       "       '2020-10-17 15:20:20 -0400', '2020-10-17 15:37:05 -0400',\n",
       "       '2020-10-17 15:39:02 -0400', '2020-10-17 15:45:11 -0400',\n",
       "       '2020-10-17 15:51:57 -0400', '2020-10-17 15:54:35 -0400',\n",
       "       '2020-10-17 15:59:52 -0400', '2020-10-17 16:03:13 -0400',\n",
       "       '2020-10-17 16:09:37 -0400', '2020-10-17 16:17:30 -0400',\n",
       "       '2020-10-17 16:17:20 -0400', '2020-10-17 16:19:12 -0400',\n",
       "       '2020-10-17 16:26:41 -0400', '2020-10-17 16:32:38 -0400',\n",
       "       '2020-10-17 16:34:05 -0400', '2020-10-17 16:41:33 -0400',\n",
       "       '2020-10-17 16:43:45 -0400', '2020-10-17 16:50:39 -0400'],\n",
       "      dtype='<U25')"
      ]
     },
     "execution_count": 8,
     "metadata": {},
     "output_type": "execute_result"
    }
   ],
   "source": [
    "#hr_2_oct.show(100)\n",
    "heartrate[0][1026:1048]"
   ]
  },
  {
   "cell_type": "code",
   "execution_count": 9,
   "id": "3c8c8398-b101-42ac-b628-e58e29baf666",
   "metadata": {},
   "outputs": [],
   "source": [
    "#hr_1_oct=heartrate.where('timestamp', are.containing('2020-10-01'))\n",
    "hr_2_oct=heartrate.where('timestamp', are.containing('2020-10-02 14:'))"
   ]
  },
  {
   "cell_type": "code",
   "execution_count": 10,
   "id": "f832e3e1-e04f-4be7-ae78-33d923a8e6fe",
   "metadata": {},
   "outputs": [],
   "source": [
    "hr_17_oct=heartrate.where('timestamp', are.containing('2020-10-17 15:'))"
   ]
  },
  {
   "cell_type": "code",
   "execution_count": 19,
   "id": "b972770e-6d2a-47b6-8b2f-b7cb9e938a0b",
   "metadata": {},
   "outputs": [
    {
     "data": {
      "text/plain": [
       "array(['2020-10-02 14:05:59 -0400', '2020-10-02 14:12:04 -0400',\n",
       "       '2020-10-02 14:12:18 -0400', '2020-10-02 14:18:31 -0400',\n",
       "       '2020-10-02 14:15:27 -0400', '2020-10-02 14:23:07 -0400',\n",
       "       '2020-10-02 14:18:54 -0400', '2020-10-02 14:29:45 -0400',\n",
       "       '2020-10-02 14:32:32 -0400', '2020-10-02 14:35:35 -0400',\n",
       "       '2020-10-02 14:38:03 -0400'], dtype='<U25')"
      ]
     },
     "execution_count": 19,
     "metadata": {},
     "output_type": "execute_result"
    }
   ],
   "source": [
    "len(hr_17_oct[0])\n",
    "hr_2_oct[0]"
   ]
  },
  {
   "cell_type": "code",
   "execution_count": 23,
   "id": "80e69d0b-7478-453b-b1ba-aea766a74102",
   "metadata": {},
   "outputs": [
    {
     "data": {
      "text/plain": [
       "array(['2020-10-17 15:06:35 -0400', '2020-10-17 15:15:10 -0400',\n",
       "       '2020-10-17 15:25:54 -0400', '2020-10-17 15:32:27 -0400',\n",
       "       '2020-10-17 15:34:51 -0400', '2020-10-17 15:20:20 -0400',\n",
       "       '2020-10-17 15:37:05 -0400', '2020-10-17 15:39:02 -0400',\n",
       "       '2020-10-17 15:45:11 -0400', '2020-10-17 15:51:57 -0400',\n",
       "       '2020-10-17 15:54:35 -0400', '2020-10-17 15:59:52 -0400'],\n",
       "      dtype='<U25')"
      ]
     },
     "execution_count": 23,
     "metadata": {},
     "output_type": "execute_result"
    }
   ],
   "source": [
    "hr_17_oct[0]"
   ]
  },
  {
   "cell_type": "code",
   "execution_count": 24,
   "id": "15f03053-e923-4a88-9ed9-ecd646cdfb66",
   "metadata": {},
   "outputs": [],
   "source": [
    "hr_17_oct_trim=hr_17_oct[1][:11]"
   ]
  },
  {
   "cell_type": "code",
   "execution_count": 25,
   "id": "09dd758b-cf66-47dd-a8e7-3260ca740099",
   "metadata": {},
   "outputs": [],
   "source": [
    "hr_2_oct_trim=hr_2_oct[1]"
   ]
  },
  {
   "cell_type": "code",
   "execution_count": 26,
   "id": "b9f9ae9e-7497-4983-ac3c-b514795bb060",
   "metadata": {},
   "outputs": [
    {
     "data": {
      "text/plain": [
       "11"
      ]
     },
     "execution_count": 26,
     "metadata": {},
     "output_type": "execute_result"
    }
   ],
   "source": [
    "len(hr_17_oct_trim)"
   ]
  },
  {
   "cell_type": "code",
   "execution_count": 27,
   "id": "3e1392b0-aa4f-4844-9881-70f5a651e589",
   "metadata": {},
   "outputs": [],
   "source": [
    "hr_oct_2_and_17=Table().with_columns(['Index', np.arange(1,12),'Oct 2nd', hr_2_oct_trim, 'Oct 17th', hr_17_oct_trim])\n",
    "#hr_oct_2_and_17=Table().with_columns(['Index', np.arange(1,11),'Oct 2nd', hr_2_oct, 'Oct 17th', hr_17_oct])"
   ]
  },
  {
   "cell_type": "code",
   "execution_count": 102,
   "id": "d320dfe6-f992-4d79-a616-06c71e7a9a75",
   "metadata": {},
   "outputs": [
    {
     "data": {
      "text/html": [
       "<table border=\"1\" class=\"dataframe\">\n",
       "    <thead>\n",
       "        <tr>\n",
       "            <th>Index</th> <th>Oct 2nd</th> <th>Oct 17th</th>\n",
       "        </tr>\n",
       "    </thead>\n",
       "    <tbody>\n",
       "        <tr>\n",
       "            <td>1    </td> <td>81     </td> <td>66      </td>\n",
       "        </tr>\n",
       "        <tr>\n",
       "            <td>2    </td> <td>84     </td> <td>70      </td>\n",
       "        </tr>\n",
       "        <tr>\n",
       "            <td>3    </td> <td>84     </td> <td>84      </td>\n",
       "        </tr>\n",
       "        <tr>\n",
       "            <td>4    </td> <td>82     </td> <td>89      </td>\n",
       "        </tr>\n",
       "        <tr>\n",
       "            <td>5    </td> <td>87     </td> <td>87      </td>\n",
       "        </tr>\n",
       "        <tr>\n",
       "            <td>6    </td> <td>86     </td> <td>74      </td>\n",
       "        </tr>\n",
       "        <tr>\n",
       "            <td>7    </td> <td>84     </td> <td>82      </td>\n",
       "        </tr>\n",
       "        <tr>\n",
       "            <td>8    </td> <td>104    </td> <td>79      </td>\n",
       "        </tr>\n",
       "        <tr>\n",
       "            <td>9    </td> <td>114    </td> <td>81      </td>\n",
       "        </tr>\n",
       "        <tr>\n",
       "            <td>10   </td> <td>96     </td> <td>75      </td>\n",
       "        </tr>\n",
       "    </tbody>\n",
       "</table>\n",
       "<p>... (1 rows omitted)</p>"
      ],
      "text/plain": [
       "Index | Oct 2nd | Oct 17th\n",
       "1     | 81      | 66\n",
       "2     | 84      | 70\n",
       "3     | 84      | 84\n",
       "4     | 82      | 89\n",
       "5     | 87      | 87\n",
       "6     | 86      | 74\n",
       "7     | 84      | 82\n",
       "8     | 104     | 79\n",
       "9     | 114     | 81\n",
       "10    | 96      | 75\n",
       "... (1 rows omitted)"
      ]
     },
     "execution_count": 102,
     "metadata": {},
     "output_type": "execute_result"
    }
   ],
   "source": [
    "hr_oct_2_and_17"
   ]
  },
  {
   "cell_type": "code",
   "execution_count": 103,
   "id": "2b437add-e867-401d-b7d3-c794f2c5151e",
   "metadata": {},
   "outputs": [
    {
     "data": {
      "image/png": "[encoded data removed]",
      "text/plain": [
       "<Figure size 432x432 with 1 Axes>"
      ]
     },
     "metadata": {
      "needs_background": "light"
     },
     "output_type": "display_data"
    }
   ],
   "source": [
    "import matplotlib.pyplot as plt\n",
    "%matplotlib inline\n",
    "hr_oct_2_and_17.plot('Index') \n",
    "plt.grid(True)"
   ]
  },
  {
   "cell_type": "code",
   "execution_count": null,
   "id": "00a48073-83c8-4a3f-9e43-73590f2fce86",
   "metadata": {},
   "outputs": [],
   "source": []
  }
 ],
 "metadata": {
  "kernelspec": {
   "display_name": "Python 3",
   "language": "python",
   "name": "python3"
  },
  "language_info": {
   "codemirror_mode": {
    "name": "ipython",
    "version": 3
   },
   "file_extension": ".py",
   "mimetype": "text/x-python",
   "name": "python",
   "nbconvert_exporter": "python",
   "pygments_lexer": "ipython3",
   "version": "3.6.9"
  }
 },
 "nbformat": 4,
 "nbformat_minor": 5
}
