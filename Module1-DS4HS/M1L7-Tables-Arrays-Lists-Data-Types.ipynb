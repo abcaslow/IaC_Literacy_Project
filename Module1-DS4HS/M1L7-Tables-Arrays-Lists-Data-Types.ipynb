{
 "cells": [
  {
   "cell_type": "markdown",
   "id": "6d2eedd8-e00d-45f9-ad3c-f39c1c16d1d7",
   "metadata": {},
   "source": [
    "A Berkeley datascience Table is a collection of numpy arrays.\n",
    "Proof by Python\n",
    "\n",
    "The following exercise applies the famous computer programming principle of <b><i>\"Divide, Conquer and Combine\"</i></b>\n"
   ]
  },
  {
   "cell_type": "code",
   "execution_count": null,
   "id": "21a41b6d-6258-4cc4-aa5f-30f006609296",
   "metadata": {},
   "outputs": [],
   "source": [
    "from datascience import Table\n",
    "import numpy as np"
   ]
  },
  {
   "cell_type": "code",
   "execution_count": null,
   "id": "83432003-5340-4a68-a43e-8f174747e3ca",
   "metadata": {},
   "outputs": [],
   "source": [
    "demo=Table.read_table('stockmarket.csv')"
   ]
  },
  {
   "cell_type": "code",
   "execution_count": null,
   "id": "64957de6-f812-4539-8b24-b435d17cd05d",
   "metadata": {},
   "outputs": [],
   "source": [
    "demo"
   ]
  },
  {
   "cell_type": "code",
   "execution_count": null,
   "id": "ffaa6d46-898a-4ecd-830f-2b3d30d03009",
   "metadata": {},
   "outputs": [],
   "source": [
    "demo.num_rows"
   ]
  },
  {
   "cell_type": "code",
   "execution_count": null,
   "id": "ffb7e7f8-97f4-43bf-8545-8511eb83e063",
   "metadata": {},
   "outputs": [],
   "source": [
    "demo.columns #This command displayes in numpy arrays in the Berkeley Table."
   ]
  },
  {
   "cell_type": "code",
   "execution_count": null,
   "id": "2968030a-885a-487d-9c3f-cde38637b7a3",
   "metadata": {},
   "outputs": [],
   "source": [
    "len(demo)"
   ]
  },
  {
   "cell_type": "code",
   "execution_count": null,
   "id": "7c068708-4ec8-435b-be10-473d2be89440",
   "metadata": {},
   "outputs": [],
   "source": [
    "len(demo[0])"
   ]
  },
  {
   "cell_type": "code",
   "execution_count": null,
   "id": "fc34250d-c056-488a-92a3-500dfb75431f",
   "metadata": {},
   "outputs": [],
   "source": [
    "demo[0]"
   ]
  },
  {
   "cell_type": "code",
   "execution_count": null,
   "id": "4734340d-002c-4529-a9a2-16774557de91",
   "metadata": {},
   "outputs": [],
   "source": [
    "demo.labels"
   ]
  },
  {
   "cell_type": "code",
   "execution_count": null,
   "id": "b63e4959-9b99-4e9c-8dbe-da09f14e4266",
   "metadata": {},
   "outputs": [],
   "source": [
    "demo[1]"
   ]
  },
  {
   "cell_type": "code",
   "execution_count": null,
   "id": "7369f205-920d-4ebd-aa19-baff865c05dc",
   "metadata": {},
   "outputs": [],
   "source": [
    "demo.labels"
   ]
  },
  {
   "cell_type": "code",
   "execution_count": null,
   "id": "1a7d3938-4d6e-4213-a774-3fb3506ed65b",
   "metadata": {},
   "outputs": [],
   "source": [
    "demo[2]"
   ]
  },
  {
   "cell_type": "code",
   "execution_count": null,
   "id": "361b6a03-f13d-4267-a711-4baeb400a936",
   "metadata": {},
   "outputs": [],
   "source": [
    "demo[2][0]\n",
    "demo[2][:5]"
   ]
  },
  {
   "cell_type": "markdown",
   "id": "466a028b-dd93-4f23-af5c-fc33da5ad1fe",
   "metadata": {},
   "source": [
    "<b>Defining a Numpy Array</b>\n",
    "\n",
    "From Berkeley BUDS-su21 Week One/Tuesday:\n",
    "<i>Arrays are how we put many values in one place so that we can operate on them as a group....Concretely, an array is a <b>collection of values of the same type</b>.</i>\n",
    "https://github.com/ds-modules/BUDS-su21/blob/main/Week_1/Tuesday/Strings_and_Arrays.ipynb\n"
   ]
  },
  {
   "cell_type": "markdown",
   "id": "1053b798-6ce0-4339-ac3d-1e90527602aa",
   "metadata": {},
   "source": [
    "<b> Numpy Arrays Are an Evolutionary Extenstion of Python Lists: Compare a Numpy Array to a Python List</b>"
   ]
  },
  {
   "cell_type": "code",
   "execution_count": null,
   "id": "49d31157-5698-4cc5-b6d1-4a62dfdf4906",
   "metadata": {},
   "outputs": [],
   "source": [
    "demolist=['dog,',8,'horse','anteater']\n",
    "demolist"
   ]
  },
  {
   "cell_type": "code",
   "execution_count": null,
   "id": "b73f013f-8269-4cd5-aea7-df64ea06b421",
   "metadata": {},
   "outputs": [],
   "source": [
    "type(demolist[1])"
   ]
  },
  {
   "cell_type": "code",
   "execution_count": null,
   "id": "5ad3c6d8-65f1-40d7-8eca-5f4ec9107526",
   "metadata": {},
   "outputs": [],
   "source": [
    "demolist[-1]"
   ]
  },
  {
   "cell_type": "code",
   "execution_count": null,
   "id": "096b7eda-25a1-421f-b83c-15802e312eb3",
   "metadata": {},
   "outputs": [],
   "source": [
    "demoarray=np.array(demolist)"
   ]
  },
  {
   "cell_type": "code",
   "execution_count": null,
   "id": "b5167c0d-ddc3-4664-9e36-c9cbf72f1ab5",
   "metadata": {},
   "outputs": [],
   "source": [
    "demoarray"
   ]
  },
  {
   "cell_type": "code",
   "execution_count": null,
   "id": "21c50a12-ebbe-4707-b0c3-9a23437789c2",
   "metadata": {},
   "outputs": [],
   "source": [
    "demoarray[0]"
   ]
  },
  {
   "cell_type": "code",
   "execution_count": null,
   "id": "10a12e66-d32a-40a4-ac89-ac11267e3d25",
   "metadata": {},
   "outputs": [],
   "source": [
    "demoarray[-1]"
   ]
  },
  {
   "cell_type": "markdown",
   "id": "7adcad57-079c-4b9e-95ae-d2070c2ed38c",
   "metadata": {},
   "source": [
    "<b> Both Python Lists and Numpy Arrays are Composed of Data Elements Possessing Well Defined Python Data Types: Such as String, Integer, Float, etc.</b>\n",
    "    \n",
    "<i> It is a good practice to always reference a Python List and/or Python Array with the Data Type of Its Constituent Elements: A List of Strings, An Array of Strings, A List of Integers, An Array of Integers, etc.</i>"
   ]
  },
  {
   "cell_type": "markdown",
   "id": "3568b945-d856-4d37-94fa-20a34975d97c",
   "metadata": {},
   "source": [
    "<b>Exercise</b>\n",
    "Convert the following two strings into: two separate lists\n",
    "Convert the two separate lists into two Numpy arrays\n",
    "Combine the two Numpy arrays into a Berkeley Data Science Table\n",
    "\n",
    "state='MD, VA, NY, CA'\n",
    "\n",
    "statepop='4.2,6.4,18.1,32.7'\n",
    "\n",
    "(Note: this string of state populations is in millions)"
   ]
  },
  {
   "cell_type": "code",
   "execution_count": null,
   "id": "583f6c87-1a70-42be-80b8-0c7f066e0746",
   "metadata": {},
   "outputs": [],
   "source": [
    "state='MD, VA, NY, CA' #Start with converting this string to the list: statelist"
   ]
  },
  {
   "cell_type": "code",
   "execution_count": null,
   "id": "4b073d0b-cdfc-45f9-8135-e7bb93f58b1f",
   "metadata": {},
   "outputs": [],
   "source": [
    "statelist=state.split(\",\")"
   ]
  },
  {
   "cell_type": "code",
   "execution_count": null,
   "id": "3a4d6200-be06-4a31-8969-644b011bd725",
   "metadata": {},
   "outputs": [],
   "source": [
    "statelist"
   ]
  },
  {
   "cell_type": "code",
   "execution_count": null,
   "id": "fe814a77-36e0-47f5-a23a-66d3be39b820",
   "metadata": {},
   "outputs": [],
   "source": [
    "statepop='4.2,6.4,18.1,32.7' #Convert this string to a list called statepoplist"
   ]
  },
  {
   "cell_type": "code",
   "execution_count": null,
   "id": "4cc72e45-5c4b-4171-b547-9461b7f3d02b",
   "metadata": {},
   "outputs": [],
   "source": [
    "statepoplist=statepop.split(\",\")"
   ]
  },
  {
   "cell_type": "code",
   "execution_count": null,
   "id": "11b5821b-ec95-4fa5-b91b-c802a48c26fc",
   "metadata": {},
   "outputs": [],
   "source": [
    "statepoplist"
   ]
  },
  {
   "cell_type": "markdown",
   "id": "d4cbc8ee-b002-4458-85fd-146a4d0c4a43",
   "metadata": {},
   "source": [
    "Convert statelist to statearray and statepoplist to statepoparray"
   ]
  },
  {
   "cell_type": "code",
   "execution_count": null,
   "id": "ebe258f9-2340-4e5f-94c4-a569be7fdbe1",
   "metadata": {},
   "outputs": [],
   "source": [
    "statearray=np.array(statelist)"
   ]
  },
  {
   "cell_type": "code",
   "execution_count": null,
   "id": "6cffb0ed-bb65-4e7a-85dc-9b59763205ae",
   "metadata": {},
   "outputs": [],
   "source": [
    "statearray"
   ]
  },
  {
   "cell_type": "code",
   "execution_count": null,
   "id": "342dd338-de47-46a6-985b-4ba1978966b9",
   "metadata": {},
   "outputs": [],
   "source": [
    "statepoparray=np.array(statepoplist)"
   ]
  },
  {
   "cell_type": "code",
   "execution_count": null,
   "id": "64a683e1-6036-4f35-b5bd-84fbefa74698",
   "metadata": {},
   "outputs": [],
   "source": [
    "statepoparrayf=statepoparray.astype(float)\n",
    "#statepoparray.dtype\n",
    "#statepoparray\n",
    "statepoparrayf"
   ]
  },
  {
   "cell_type": "markdown",
   "id": "b8c7baf0-cb80-4222-9357-cf0dd0240551",
   "metadata": {},
   "source": [
    "Combine statearray and statepoparray into a single Berkeley datascience table\n",
    "\n",
    "http://data8.org/datascience/_autosummary/datascience.tables.Table.column.html?highlight=columns"
   ]
  },
  {
   "cell_type": "code",
   "execution_count": null,
   "id": "26c3587b-db6c-487e-aee3-312f92616e13",
   "metadata": {},
   "outputs": [],
   "source": [
    "#demo=Table.read_table('stockmarket.csv')\n",
    "#demo=Table.read_table(statepoparray, statearray)\n",
    "#tiles = Table().with_columns\n",
    "statetable=Table().with_columns(\"state\", statearray, \n",
    "                                \"state population\", statepoparrayf,\n",
    "                                \"state pop 2030\", statepoparrayf*1.1\n",
    "                                )"
   ]
  },
  {
   "cell_type": "code",
   "execution_count": null,
   "id": "dd8a8951-6a27-429b-9ed2-f85d898cc7e3",
   "metadata": {},
   "outputs": [],
   "source": [
    "statetable"
   ]
  },
  {
   "cell_type": "code",
   "execution_count": null,
   "id": "3e246426-65d6-4fba-8db5-fdf34da9f8e0",
   "metadata": {},
   "outputs": [],
   "source": [
    "type(statetable[1][0])"
   ]
  },
  {
   "cell_type": "code",
   "execution_count": null,
   "id": "b60f4d77-dc38-44ba-a006-fde2c57b1fa1",
   "metadata": {},
   "outputs": [],
   "source": [
    "ratingstable=Table.read_table('abc-course-rating.csv')"
   ]
  },
  {
   "cell_type": "code",
   "execution_count": null,
   "id": "b3b84da7-ce42-4210-adbe-1a7325934210",
   "metadata": {},
   "outputs": [],
   "source": [
    "ratingstable"
   ]
  },
  {
   "cell_type": "code",
   "execution_count": null,
   "id": "d52adc42-53f1-47ae-9b36-257e23127de5",
   "metadata": {},
   "outputs": [],
   "source": [
    "type(ratingstable)"
   ]
  },
  {
   "cell_type": "code",
   "execution_count": null,
   "id": "30634072-3009-4d4c-8d98-af94c0230f6e",
   "metadata": {},
   "outputs": [],
   "source": [
    "type(ratingstable[0][1])"
   ]
  },
  {
   "cell_type": "code",
   "execution_count": null,
   "id": "2da4e48b-960c-4802-8477-c03db24ff6ac",
   "metadata": {},
   "outputs": [],
   "source": [
    "coursearray=ratingstable[0]"
   ]
  },
  {
   "cell_type": "code",
   "execution_count": null,
   "id": "382a7937-058b-4772-bc5d-3d26a473857e",
   "metadata": {},
   "outputs": [],
   "source": [
    "coursearray"
   ]
  },
  {
   "cell_type": "code",
   "execution_count": null,
   "id": "92eb108d-3711-4fd1-8a3a-f4017dbb62ea",
   "metadata": {},
   "outputs": [],
   "source": [
    "ratingsarray=ratingstable[1]"
   ]
  },
  {
   "cell_type": "code",
   "execution_count": null,
   "id": "bf0101f8-66a4-4e88-abd7-defc041a8b8b",
   "metadata": {},
   "outputs": [],
   "source": [
    "ratingsarray"
   ]
  },
  {
   "cell_type": "code",
   "execution_count": null,
   "id": "c7700bdd-bc5b-449a-ad26-81d73f10c840",
   "metadata": {},
   "outputs": [],
   "source": [
    "type(ratingsarray[0])"
   ]
  },
  {
   "cell_type": "code",
   "execution_count": null,
   "id": "f26f82e8-1528-4d54-933a-a63230511e15",
   "metadata": {},
   "outputs": [],
   "source": [
    "type(coursearray[1])"
   ]
  },
  {
   "cell_type": "code",
   "execution_count": null,
   "id": "77c899b7-3da8-417b-af66-42d5da3d23a0",
   "metadata": {},
   "outputs": [],
   "source": [
    "ratingsarray.dtype"
   ]
  },
  {
   "cell_type": "code",
   "execution_count": null,
   "id": "9ba0bed0-14bf-4247-b42c-80ef180280bc",
   "metadata": {},
   "outputs": [],
   "source": [
    "coursearray.dtype"
   ]
  },
  {
   "cell_type": "code",
   "execution_count": null,
   "id": "9479b92c-aec8-4d16-8268-73e677e6afc4",
   "metadata": {},
   "outputs": [],
   "source": [
    "coursearray"
   ]
  },
  {
   "cell_type": "markdown",
   "id": "1c6b34e8-1057-4424-a441-7547b6b224d1",
   "metadata": {},
   "source": [
    "This is how to convert a numpy array into a python list\n",
    "\n",
    "arr = np.array([1, 2, 3])\n",
    "\n",
    "list1 = arr.tolist()"
   ]
  },
  {
   "cell_type": "code",
   "execution_count": null,
   "id": "f4396eaa-28c8-4a80-acce-5ef58e328d32",
   "metadata": {},
   "outputs": [],
   "source": [
    "courselist=coursearray.tolist()"
   ]
  },
  {
   "cell_type": "code",
   "execution_count": null,
   "id": "c22c9d81-3012-4b22-8278-72962f0c42de",
   "metadata": {},
   "outputs": [],
   "source": [
    "courselist"
   ]
  },
  {
   "cell_type": "code",
   "execution_count": null,
   "id": "96abcbab-8fce-46c9-b249-9694c4314edf",
   "metadata": {},
   "outputs": [],
   "source": [
    "#'Baltimore'.capitalize()\n",
    "#courselist[0:7].capitalize()\n",
    "for i in courselist: print(i.capitalize())"
   ]
  },
  {
   "cell_type": "code",
   "execution_count": null,
   "id": "6b3d581b-c51a-41fc-848a-77c8cdf58c5e",
   "metadata": {},
   "outputs": [],
   "source": [
    "coursearray=np.array(courselist)"
   ]
  },
  {
   "cell_type": "code",
   "execution_count": null,
   "id": "7058365e-0904-44de-9ce3-75b1582fbb95",
   "metadata": {},
   "outputs": [],
   "source": [
    "coursearray"
   ]
  },
  {
   "cell_type": "code",
   "execution_count": null,
   "id": "f907b7c4-985c-46ea-bdb2-f5a7268eab88",
   "metadata": {},
   "outputs": [],
   "source": [
    "np.char.upper(coursearray[1:5])"
   ]
  },
  {
   "cell_type": "code",
   "execution_count": null,
   "id": "4174f3f4-d71c-40c5-abc1-e007ca723f98",
   "metadata": {},
   "outputs": [],
   "source": [
    "np.char.capitalize(coursearray[1:3])"
   ]
  },
  {
   "cell_type": "code",
   "execution_count": null,
   "id": "24eab73d-7d45-475c-bd43-82af5821f3c9",
   "metadata": {},
   "outputs": [],
   "source": [
    "coursearray"
   ]
  },
  {
   "cell_type": "code",
   "execution_count": null,
   "id": "173f83c0-8499-493e-9972-f82767e019a8",
   "metadata": {},
   "outputs": [],
   "source": [
    "heartrate=Table.read_table(\"heartrate.csv\")"
   ]
  },
  {
   "cell_type": "code",
   "execution_count": null,
   "id": "ec79a7da-dc5c-4c7c-a4d0-9a54fbf0a2c3",
   "metadata": {},
   "outputs": [],
   "source": [
    "heartrate"
   ]
  },
  {
   "cell_type": "code",
   "execution_count": null,
   "id": "5b110111-e58a-48be-b732-8efae7241e69",
   "metadata": {},
   "outputs": [],
   "source": [
    "heartrate.take[-10:]"
   ]
  },
  {
   "cell_type": "code",
   "execution_count": null,
   "id": "14a89fcb-df85-4725-ac46-0bb314fbd1f3",
   "metadata": {},
   "outputs": [],
   "source": [
    "hr1=heartrate[1]"
   ]
  },
  {
   "cell_type": "code",
   "execution_count": null,
   "id": "8ee469ee-17b4-42cf-972f-e15592c1a59b",
   "metadata": {},
   "outputs": [],
   "source": [
    "hr1"
   ]
  },
  {
   "cell_type": "code",
   "execution_count": null,
   "id": "77ea6f4a-c6ef-47f0-804e-b788ed649211",
   "metadata": {},
   "outputs": [],
   "source": [
    "len(hr1)"
   ]
  },
  {
   "cell_type": "code",
   "execution_count": null,
   "id": "bacd56c0-1d3f-4960-8339-4b5e04375d64",
   "metadata": {},
   "outputs": [],
   "source": [
    "hr1[90>hr1>60].all()"
   ]
  },
  {
   "cell_type": "code",
   "execution_count": null,
   "id": "2ee8c8e3-a498-498e-859a-bef1efc55698",
   "metadata": {},
   "outputs": [],
   "source": [
    "len(hr1[hr1>85])"
   ]
  },
  {
   "cell_type": "code",
   "execution_count": null,
   "id": "1efd04fa-7619-4482-9e5c-31a2e78b38b3",
   "metadata": {},
   "outputs": [],
   "source": [
    "from datascience.predicates import are"
   ]
  },
  {
   "cell_type": "code",
   "execution_count": null,
   "id": "d9437f20-eb02-4dbc-bc90-aa5cb47244ed",
   "metadata": {},
   "outputs": [],
   "source": [
    "#t.where('Waists', are.between_or_equal_to(30, 38))\n",
    "heartrate.where('heartrate', are.below(48))"
   ]
  },
  {
   "cell_type": "code",
   "execution_count": null,
   "id": "66c3ca6e-0b28-45c3-b977-2b14f8099d1c",
   "metadata": {},
   "outputs": [],
   "source": [
    "heartrate.where('heartrate', are.between_or_equal_to(82, 200)).sort(\"heartrate\",descending=True)"
   ]
  },
  {
   "cell_type": "code",
   "execution_count": null,
   "id": "b78521a0-9e50-4441-82a0-e3c3b7d3e111",
   "metadata": {},
   "outputs": [],
   "source": [
    "heartrate[0]"
   ]
  },
  {
   "cell_type": "code",
   "execution_count": null,
   "id": "0439857c-7205-4695-8247-3cf23c059688",
   "metadata": {},
   "outputs": [],
   "source": [
    "globals()"
   ]
  },
  {
   "cell_type": "code",
   "execution_count": null,
   "id": "48146bf2-1777-4922-83f4-294dfe826570",
   "metadata": {},
   "outputs": [],
   "source": [
    "dir()"
   ]
  },
  {
   "cell_type": "code",
   "execution_count": null,
   "id": "8eafa073-6a12-4756-8c28-17f4dcb68e32",
   "metadata": {},
   "outputs": [],
   "source": [
    "demolist"
   ]
  },
  {
   "cell_type": "code",
   "execution_count": null,
   "id": "5dd5daa6-6d4a-4e9d-8f8d-6d7e38e90a90",
   "metadata": {},
   "outputs": [],
   "source": [
    "sorted(demolist)"
   ]
  },
  {
   "cell_type": "code",
   "execution_count": null,
   "id": "042e64aa-aff6-45b2-9e11-15c50c20c342",
   "metadata": {},
   "outputs": [],
   "source": [
    "demolist.pop(1)"
   ]
  },
  {
   "cell_type": "code",
   "execution_count": null,
   "id": "bcd61b96-94ec-4150-ac5e-961d7c41dfe0",
   "metadata": {},
   "outputs": [],
   "source": [
    "demolist"
   ]
  },
  {
   "cell_type": "code",
   "execution_count": null,
   "id": "24ededc4-9308-4ba1-b43d-6f7c22611fa2",
   "metadata": {},
   "outputs": [],
   "source": [
    "sorted(demolist)"
   ]
  },
  {
   "cell_type": "code",
   "execution_count": null,
   "id": "ca515a7b-20cf-48ff-b91f-c20439bba653",
   "metadata": {},
   "outputs": [],
   "source": [
    "demolist.sort()"
   ]
  },
  {
   "cell_type": "code",
   "execution_count": null,
   "id": "af237d35-b102-40a0-b3f3-970f3aff0b3f",
   "metadata": {},
   "outputs": [],
   "source": [
    "demolist.append('cat')"
   ]
  },
  {
   "cell_type": "code",
   "execution_count": null,
   "id": "df288d04-874e-4690-9e1c-d083c4a99587",
   "metadata": {},
   "outputs": [],
   "source": [
    "demolist"
   ]
  },
  {
   "cell_type": "code",
   "execution_count": null,
   "id": "dbd65b75-2079-4f36-84c9-8de771f48a9a",
   "metadata": {},
   "outputs": [],
   "source": [
    "sorted(demolist)"
   ]
  },
  {
   "cell_type": "code",
   "execution_count": null,
   "id": "9fccaf2a-f579-4551-8675-c1c9eb782802",
   "metadata": {},
   "outputs": [],
   "source": [
    "demolist"
   ]
  },
  {
   "cell_type": "code",
   "execution_count": null,
   "id": "e4b0ae91-27b7-40f1-af17-b41bab4c9bff",
   "metadata": {},
   "outputs": [],
   "source": [
    "demolist.sort()"
   ]
  },
  {
   "cell_type": "code",
   "execution_count": null,
   "id": "ba422f67-5c90-410a-a86f-5bfc7c4a5611",
   "metadata": {},
   "outputs": [],
   "source": [
    "demolist"
   ]
  },
  {
   "cell_type": "code",
   "execution_count": null,
   "id": "32c3b913-12b3-4885-95b9-abd423aab65f",
   "metadata": {},
   "outputs": [],
   "source": [
    "demolist"
   ]
  },
  {
   "cell_type": "code",
   "execution_count": null,
   "id": "5ef8de19-0e1e-4213-ba71-941bc3d519c1",
   "metadata": {},
   "outputs": [],
   "source": [
    "?Table.where"
   ]
  },
  {
   "cell_type": "code",
   "execution_count": null,
   "id": "f84117bc-88de-4300-bf1e-5c245eaaa45b",
   "metadata": {},
   "outputs": [],
   "source": []
  },
  {
   "cell_type": "code",
   "execution_count": null,
   "id": "66911bf3-2781-4071-b73e-9aef75f98629",
   "metadata": {},
   "outputs": [],
   "source": [
    "challenge=Table.read_table('/home/abcaslow/abc-course-rating-challenge.csv')"
   ]
  },
  {
   "cell_type": "code",
   "execution_count": null,
   "id": "1257994b-72d3-49cf-bfef-53d0eebd7c1a",
   "metadata": {},
   "outputs": [],
   "source": []
  }
 ],
 "metadata": {
  "kernelspec": {
   "display_name": "Python 3",
   "language": "python",
   "name": "python3"
  },
  "language_info": {
   "codemirror_mode": {
    "name": "ipython",
    "version": 3
   },
   "file_extension": ".py",
   "mimetype": "text/x-python",
   "name": "python",
   "nbconvert_exporter": "python",
   "pygments_lexer": "ipython3",
   "version": "3.6.9"
  }
 },
 "nbformat": 4,
 "nbformat_minor": 5
}
