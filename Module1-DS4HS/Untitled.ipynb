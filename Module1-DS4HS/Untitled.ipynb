{
 "cells": [
  {
   "cell_type": "markdown",
   "id": "a871278b-5c08-4406-b650-2ca82aa7514d",
   "metadata": {},
   "source": [
    "#### Introduction ####\n",
    "The Berkeley datascience Table acts as a wrapper for a set of related numpy arrays."
   ]
  },
  {
   "cell_type": "code",
   "execution_count": null,
   "id": "c13cb8b8-5dda-4908-83bb-847d8aafd879",
   "metadata": {},
   "outputs": [],
   "source": []
  }
 ],
 "metadata": {
  "kernelspec": {
   "display_name": "Python 3",
   "language": "python",
   "name": "python3"
  },
  "language_info": {
   "codemirror_mode": {
    "name": "ipython",
    "version": 3
   },
   "file_extension": ".py",
   "mimetype": "text/x-python",
   "name": "python",
   "nbconvert_exporter": "python",
   "pygments_lexer": "ipython3",
   "version": "3.6.9"
  }
 },
 "nbformat": 4,
 "nbformat_minor": 5
}
