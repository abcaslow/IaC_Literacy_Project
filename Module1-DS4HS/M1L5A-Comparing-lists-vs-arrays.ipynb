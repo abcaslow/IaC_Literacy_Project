{
 "cells": [
  {
   "cell_type": "code",
   "execution_count": 50,
   "id": "add7c4f4-22a9-48d5-8408-cbb855375444",
   "metadata": {},
   "outputs": [],
   "source": [
    "import csv"
   ]
  },
  {
   "cell_type": "code",
   "execution_count": 51,
   "id": "249f81a3-b6a2-4c83-b83d-1b03e0fad0fd",
   "metadata": {},
   "outputs": [],
   "source": [
    "def read_csv_file_as_lod(filename):\n",
    "    f = open(filename)\n",
    "    csv_reader = csv.reader(f)\n",
    "    headers = next(csv_reader)\n",
    "    return [dict(zip(headers,row)) for row in csv_reader if len(row)>0]\n"
   ]
  },
  {
   "cell_type": "code",
   "execution_count": 52,
   "id": "e0dc9496-473a-4a6c-bb2c-e66d11bf7090",
   "metadata": {},
   "outputs": [
    {
     "data": {
      "text/plain": [
       "'/home/abcaslow/IaC_Literacy_Project'"
      ]
     },
     "execution_count": 52,
     "metadata": {},
     "output_type": "execute_result"
    }
   ],
   "source": [
    "pwd"
   ]
  },
  {
   "cell_type": "code",
   "execution_count": 53,
   "id": "3f3b8430-e0c4-42ed-b8e4-4760bbf7ee56",
   "metadata": {},
   "outputs": [],
   "source": [
    "heartrate_list = read_csv_file_as_lod('/home/abcaslow/heartrate.csv')"
   ]
  },
  {
   "cell_type": "code",
   "execution_count": 54,
   "id": "83870e8c-eeb4-4d71-8793-8143c17e71dc",
   "metadata": {},
   "outputs": [
    {
     "data": {
      "text/plain": [
       "12175"
      ]
     },
     "execution_count": 54,
     "metadata": {},
     "output_type": "execute_result"
    }
   ],
   "source": [
    "len(heartrate_list)"
   ]
  },
  {
   "cell_type": "markdown",
   "id": "078a2346-b8bc-419e-960c-f1ebf20bb209",
   "metadata": {},
   "source": [
    "Review the heartrate_list. It is a list of dictionaries.\n",
    "Ask yourself, how do you find the mean, median, min and max of these heartrates?\n",
    "Compare your answer to finding the mean, median, min and max with a numpy array."
   ]
  },
  {
   "cell_type": "code",
   "execution_count": 55,
   "id": "9dcc0052-601c-44bd-bd7c-7e75d75b3354",
   "metadata": {},
   "outputs": [
    {
     "data": {
      "text/plain": [
       "[{'timestamp': '2020-10-01 20:42:22 -0400', 'heartrate': '99'},\n",
       " {'timestamp': '2020-10-01 20:47:46 -0400', 'heartrate': '67'},\n",
       " {'timestamp': '2020-10-01 20:50:14 -0400', 'heartrate': '107'},\n",
       " {'timestamp': '2020-10-01 20:50:19 -0400', 'heartrate': '107'},\n",
       " {'timestamp': '2020-10-01 20:57:39 -0400', 'heartrate': '63'},\n",
       " {'timestamp': '2020-10-01 21:02:07 -0400', 'heartrate': '57'},\n",
       " {'timestamp': '2020-10-01 21:05:08 -0400', 'heartrate': '67'},\n",
       " {'timestamp': '2020-10-01 21:11:29 -0400', 'heartrate': '77'},\n",
       " {'timestamp': '2020-10-01 21:16:27 -0400', 'heartrate': '70'},\n",
       " {'timestamp': '2020-10-01 21:20:14 -0400', 'heartrate': '74'}]"
      ]
     },
     "execution_count": 55,
     "metadata": {},
     "output_type": "execute_result"
    }
   ],
   "source": [
    "heartrate_list[:10]"
   ]
  },
  {
   "cell_type": "markdown",
   "id": "de7718c0-fafa-410d-b0d3-4cd0c154a0e2",
   "metadata": {},
   "source": [
    "What Python Data Type is inside the heartrate_list? Let's check with the Python 'type' statement."
   ]
  },
  {
   "cell_type": "code",
   "execution_count": 58,
   "id": "b5604be7-3670-4471-843d-f06d6607893e",
   "metadata": {},
   "outputs": [
    {
     "data": {
      "text/plain": [
       "dict"
      ]
     },
     "execution_count": 58,
     "metadata": {},
     "output_type": "execute_result"
    }
   ],
   "source": [
    "type(heartrate_list[0])"
   ]
  },
  {
   "cell_type": "markdown",
   "id": "6063e6a4-37d3-4f8b-bba6-251ac98a6db5",
   "metadata": {},
   "source": [
    "Like peeling the layers of an onion, what Python Data Types are in the nested dictionary?\n",
    "Let's begin this investigation with the Python dictionary 'keys()' method."
   ]
  },
  {
   "cell_type": "code",
   "execution_count": null,
   "id": "3e377938-64c5-4675-8f2c-de058fef339b",
   "metadata": {},
   "outputs": [],
   "source": [
    "heartrate_list[0].keys()"
   ]
  },
  {
   "cell_type": "markdown",
   "id": "9c1339af-5f8c-4549-b040-b960dd1ef4fa",
   "metadata": {},
   "source": [
    "Still peeling down into the nested Python Data Types, let's check exactly what the Data Types are of each Dictionary key. Make sure you run each 'type' statement at a time by reversing the comment symbol at the beginning of the line."
   ]
  },
  {
   "cell_type": "code",
   "execution_count": null,
   "id": "44795a19-1a2e-4bb6-8fc9-20e415bb7dfa",
   "metadata": {},
   "outputs": [],
   "source": [
    "type(heartrate_list[0]['timestamp'])\n",
    "#type(heartrate_list[0]['heartrate'])"
   ]
  },
  {
   "cell_type": "markdown",
   "id": "6945dc74-2917-4ca7-bc9a-4540e8dbb89f",
   "metadata": {},
   "source": [
    "As you can see, both the timestamp and the heartrate are Python 'string' Data Types.\n",
    "Now let's perform a similar analysis with a Berkeley datascience Table.\n",
    "We will start by loading the Berkeley datascience Python module and then loading the exact same csv file we loaded to create our heartrate_list in raw Python above."
   ]
  },
  {
   "cell_type": "code",
   "execution_count": null,
   "id": "8c35a781-ce4e-4601-a242-6aa7f1812793",
   "metadata": {},
   "outputs": [],
   "source": [
    "from datascience import Table\n",
    "import numpy as np"
   ]
  },
  {
   "cell_type": "code",
   "execution_count": null,
   "id": "74c9d31b-e995-4ea2-8820-d8a7b62819b8",
   "metadata": {},
   "outputs": [],
   "source": [
    "heartrate_table=Table.read_table('/home/abcaslow/heartrate.csv')"
   ]
  },
  {
   "cell_type": "code",
   "execution_count": null,
   "id": "70ca57a7-2bab-46b6-8426-cdb26ad447ea",
   "metadata": {},
   "outputs": [],
   "source": [
    "heartrate_table"
   ]
  },
  {
   "cell_type": "code",
   "execution_count": null,
   "id": "db8f6e16-42ac-434c-8718-88bd5075be6d",
   "metadata": {},
   "outputs": [],
   "source": [
    "len(heartrate_table)"
   ]
  },
  {
   "cell_type": "code",
   "execution_count": null,
   "id": "f9a61021-33cd-41ec-ad6d-d35b12d68559",
   "metadata": {},
   "outputs": [],
   "source": [
    "heartrate_table.shape"
   ]
  },
  {
   "cell_type": "code",
   "execution_count": null,
   "id": "784dad15-537a-421f-ad97-0b1c76ddb4f6",
   "metadata": {},
   "outputs": [],
   "source": [
    "heartrate_table.column(0)[:10]"
   ]
  },
  {
   "cell_type": "code",
   "execution_count": null,
   "id": "0c9a1a7e-484e-41ad-aeac-b97b31a35fc8",
   "metadata": {},
   "outputs": [],
   "source": [
    "heartrate_table.column(1)[:10]"
   ]
  },
  {
   "cell_type": "code",
   "execution_count": null,
   "id": "32e22e2b-1288-4f09-a9b1-4db8dc9abd86",
   "metadata": {},
   "outputs": [],
   "source": [
    "heartrate_table.column('timestamp').dtype"
   ]
  },
  {
   "cell_type": "code",
   "execution_count": null,
   "id": "ca3cc779-1761-45b6-aeba-0b63bf8b65c8",
   "metadata": {},
   "outputs": [],
   "source": [
    "heartrate_table.column('heartrate').dtype"
   ]
  },
  {
   "cell_type": "markdown",
   "id": "e98c0f61-b6a1-4f43-8856-33562c19a8a5",
   "metadata": {},
   "source": [
    "Remember, the table produced by the Berkeley DataScience module is a set of columns of numpy arrays. The following cell separates the heartrate columns for easy statistical analysis."
   ]
  },
  {
   "cell_type": "code",
   "execution_count": 89,
   "id": "05a3b0ed-5ad6-46b5-9726-150c25120828",
   "metadata": {},
   "outputs": [
    {
     "data": {
      "text/plain": [
       "54.0"
      ]
     },
     "execution_count": 89,
     "metadata": {},
     "output_type": "execute_result"
    }
   ],
   "source": [
    "#np.min(heartrate_table.column(1))\n",
    "#np.max(heartrate_table.column(1))\n",
    "#np.mean(heartrate_table.column(1))\n",
    "#np.median(heartrate_table.column(1))\n",
    "#np.var(heartrate_table.column(1))\n",
    "#np.std(heartrate_table.column(1))\n",
    "np.percentile(heartrate_table.column(1),4)"
   ]
  },
  {
   "cell_type": "code",
   "execution_count": 168,
   "id": "43382db1-6c31-4e98-a149-989c98fbaaa1",
   "metadata": {},
   "outputs": [
    {
     "name": "stdout",
     "output_type": "stream",
     "text": [
      "70.0\n",
      "70.0\n",
      "71.0\n",
      "71.0\n",
      "72.0\n",
      "72.0\n",
      "73.0\n",
      "74.0\n",
      "74.0\n",
      "75.0\n",
      "75.0\n",
      "76.0\n",
      "76.0\n",
      "77.0\n",
      "78.0\n",
      "78.0\n",
      "79.0\n",
      "80.0\n",
      "80.0\n"
     ]
    }
   ],
   "source": [
    "for i in range(40,59):\n",
    "    print(np.percentile(heartrate_table.column(1),i))"
   ]
  },
  {
   "cell_type": "code",
   "execution_count": 74,
   "id": "54d5f90d-bca9-407e-a573-b76fce70eea9",
   "metadata": {},
   "outputs": [],
   "source": [
    "m=np.percentile(heartrate_table.column(1),50)"
   ]
  },
  {
   "cell_type": "code",
   "execution_count": 79,
   "id": "6a3f1463-87a8-415a-87e1-f2bd7ec504ce",
   "metadata": {},
   "outputs": [
    {
     "data": {
      "text/plain": [
       "array(68.)"
      ]
     },
     "execution_count": 79,
     "metadata": {},
     "output_type": "execute_result"
    }
   ],
   "source": [
    "test=np.zeros_like(m)\n",
    "np.percentile(heartrate_table.column(1),35, out=test)\n",
    "#heartrate_table.shape"
   ]
  },
  {
   "cell_type": "code",
   "execution_count": 91,
   "id": "4db2ef44-d5b7-4a0e-ad54-f67d580c2afb",
   "metadata": {},
   "outputs": [
    {
     "name": "stdout",
     "output_type": "stream",
     "text": [
      "0  percentile:  44.0\n",
      "1  percentile:  52.0\n",
      "2  percentile:  53.0\n",
      "3  percentile:  54.0\n",
      "4  percentile:  54.0\n",
      "5  percentile:  55.0\n",
      "6  percentile:  56.0\n",
      "7  percentile:  56.0\n",
      "8  percentile:  56.0\n",
      "9  percentile:  57.0\n",
      "10  percentile:  57.0\n",
      "11  percentile:  58.0\n",
      "12  percentile:  58.0\n",
      "13  percentile:  59.0\n",
      "14  percentile:  59.0\n",
      "15  percentile:  59.0\n",
      "16  percentile:  60.0\n",
      "17  percentile:  60.0\n",
      "18  percentile:  60.0\n",
      "19  percentile:  61.0\n",
      "20  percentile:  61.0\n",
      "21  percentile:  61.1952\n",
      "22  percentile:  62.0\n",
      "23  percentile:  62.0\n",
      "24  percentile:  63.0\n",
      "25  percentile:  63.0\n",
      "26  percentile:  64.0\n",
      "27  percentile:  64.0\n",
      "28  percentile:  65.0\n",
      "29  percentile:  65.0\n",
      "30  percentile:  66.0\n",
      "31  percentile:  66.0\n",
      "32  percentile:  66.0\n",
      "33  percentile:  67.0\n",
      "34  percentile:  67.0\n",
      "35  percentile:  68.0\n",
      "36  percentile:  68.0\n",
      "37  percentile:  69.0\n",
      "38  percentile:  69.0\n",
      "39  percentile:  69.8182\n",
      "40  percentile:  70.0\n",
      "41  percentile:  70.0\n",
      "42  percentile:  71.0\n",
      "43  percentile:  71.0\n",
      "44  percentile:  72.0\n",
      "45  percentile:  72.0\n",
      "46  percentile:  73.0\n",
      "47  percentile:  74.0\n",
      "48  percentile:  74.0\n",
      "49  percentile:  75.0\n",
      "50  percentile:  75.0\n",
      "51  percentile:  76.0\n",
      "52  percentile:  76.0\n",
      "53  percentile:  77.0\n",
      "54  percentile:  78.0\n",
      "55  percentile:  78.0\n",
      "56  percentile:  79.0\n",
      "57  percentile:  80.0\n",
      "58  percentile:  80.0\n",
      "59  percentile:  81.0\n",
      "60  percentile:  82.0\n",
      "61  percentile:  83.0\n",
      "62  percentile:  83.0\n",
      "63  percentile:  84.0\n",
      "64  percentile:  85.0\n",
      "65  percentile:  86.0\n",
      "66  percentile:  87.0\n",
      "67  percentile:  88.0\n",
      "68  percentile:  89.0\n",
      "69  percentile:  91.0\n",
      "70  percentile:  92.0\n",
      "71  percentile:  93.0\n",
      "72  percentile:  94.0\n",
      "73  percentile:  95.26432000000005\n",
      "74  percentile:  96.0\n",
      "75  percentile:  97.5\n",
      "76  percentile:  99.0\n",
      "77  percentile:  100.0\n",
      "78  percentile:  101.0\n",
      "79  percentile:  102.0\n",
      "80  percentile:  102.0\n",
      "81  percentile:  103.0\n",
      "82  percentile:  105.0\n",
      "83  percentile:  108.0\n",
      "84  percentile:  111.0\n",
      "85  percentile:  117.0\n",
      "86  percentile:  123.0\n",
      "87  percentile:  125.0\n",
      "88  percentile:  127.0\n",
      "89  percentile:  128.86000000000058\n",
      "90  percentile:  129.0\n",
      "91  percentile:  130.0\n",
      "92  percentile:  131.0\n",
      "93  percentile:  132.0\n",
      "94  percentile:  133.0\n",
      "95  percentile:  134.0\n",
      "96  percentile:  136.0\n",
      "97  percentile:  137.0\n",
      "98  percentile:  139.0\n",
      "99  percentile:  142.0\n",
      "100  percentile:  202.0\n"
     ]
    }
   ],
   "source": [
    "for i in np.arange(0,101):\n",
    "        print(i, \" percentile: \", np.percentile(heartrate_table.column(1),i, out=test))"
   ]
  },
  {
   "cell_type": "markdown",
   "id": "4af071cd-fcfd-4ded-9bc2-925fd5e11452",
   "metadata": {},
   "source": [
    "???? Why the duplicate values in contiguous ranges of percentiles.\n",
    "Example: 79 and 80 have the heartrate value of 102.0\n",
    "???? Why the broad std?"
   ]
  },
  {
   "cell_type": "code",
   "execution_count": 92,
   "id": "11299435-b8e0-4d85-9daf-ac0bf29479cd",
   "metadata": {},
   "outputs": [],
   "source": [
    "import pandas as pd\n",
    "df=pd.read_csv('/home/abcaslow/heartrate.csv')"
   ]
  },
  {
   "cell_type": "code",
   "execution_count": 94,
   "id": "5e80a645-adc6-4fb0-9ae2-da522741d114",
   "metadata": {},
   "outputs": [
    {
     "data": {
      "text/plain": [
       "(12175, 2)"
      ]
     },
     "execution_count": 94,
     "metadata": {},
     "output_type": "execute_result"
    }
   ],
   "source": [
    "df.shape"
   ]
  },
  {
   "cell_type": "code",
   "execution_count": 96,
   "id": "9bfaef29-dcf8-46fb-9468-3779c9188589",
   "metadata": {},
   "outputs": [
    {
     "data": {
      "text/html": [
       "<div>\n",
       "<style scoped>\n",
       "    .dataframe tbody tr th:only-of-type {\n",
       "        vertical-align: middle;\n",
       "    }\n",
       "\n",
       "    .dataframe tbody tr th {\n",
       "        vertical-align: top;\n",
       "    }\n",
       "\n",
       "    .dataframe thead th {\n",
       "        text-align: right;\n",
       "    }\n",
       "</style>\n",
       "<table border=\"1\" class=\"dataframe\">\n",
       "  <thead>\n",
       "    <tr style=\"text-align: right;\">\n",
       "      <th></th>\n",
       "      <th>heartrate</th>\n",
       "    </tr>\n",
       "  </thead>\n",
       "  <tbody>\n",
       "    <tr>\n",
       "      <th>count</th>\n",
       "      <td>12175.000000</td>\n",
       "    </tr>\n",
       "    <tr>\n",
       "      <th>mean</th>\n",
       "      <td>83.195208</td>\n",
       "    </tr>\n",
       "    <tr>\n",
       "      <th>std</th>\n",
       "      <td>25.372930</td>\n",
       "    </tr>\n",
       "    <tr>\n",
       "      <th>min</th>\n",
       "      <td>44.000000</td>\n",
       "    </tr>\n",
       "    <tr>\n",
       "      <th>25%</th>\n",
       "      <td>63.000000</td>\n",
       "    </tr>\n",
       "    <tr>\n",
       "      <th>50%</th>\n",
       "      <td>75.000000</td>\n",
       "    </tr>\n",
       "    <tr>\n",
       "      <th>75%</th>\n",
       "      <td>97.500000</td>\n",
       "    </tr>\n",
       "    <tr>\n",
       "      <th>max</th>\n",
       "      <td>202.000000</td>\n",
       "    </tr>\n",
       "  </tbody>\n",
       "</table>\n",
       "</div>"
      ],
      "text/plain": [
       "          heartrate\n",
       "count  12175.000000\n",
       "mean      83.195208\n",
       "std       25.372930\n",
       "min       44.000000\n",
       "25%       63.000000\n",
       "50%       75.000000\n",
       "75%       97.500000\n",
       "max      202.000000"
      ]
     },
     "execution_count": 96,
     "metadata": {},
     "output_type": "execute_result"
    }
   ],
   "source": [
    "df.describe()"
   ]
  },
  {
   "cell_type": "code",
   "execution_count": 108,
   "id": "dcebb3f1-155a-409e-8b9e-dd8daae2d02c",
   "metadata": {},
   "outputs": [
    {
     "data": {
      "text/plain": [
       "294"
      ]
     },
     "execution_count": 108,
     "metadata": {},
     "output_type": "execute_result"
    }
   ],
   "source": [
    "#np.unique(heartrate_table.column(1))\n",
    "len(np.unique(heartrate_table.column(1)))"
   ]
  },
  {
   "cell_type": "code",
   "execution_count": 101,
   "id": "c31c478c-923f-4839-87f7-7c8567a7d3d3",
   "metadata": {},
   "outputs": [],
   "source": [
    "#from kite.com numpy.unique\n",
    "(unique,counts)=np.unique(heartrate_table.column(1),return_counts=True)"
   ]
  },
  {
   "cell_type": "code",
   "execution_count": 111,
   "id": "667df33f-6874-4c3e-944c-e8bc7d56af83",
   "metadata": {},
   "outputs": [
    {
     "data": {
      "text/plain": [
       "array([  1,   1,   1,   2,   3,   5,   1,  29,   1,  65,   1,   1,  76,\n",
       "         1,   1,   1, 129,   2,   1,   1,   1, 174,   1,   2,   1,   3,\n",
       "         2,   1, 209,   2,   2,   1,   1,   1, 253,   2,   1,   1,   1,\n",
       "         1,   1,   2,   2, 264,   1,   4,   2,   1,   1,   3, 303,   2,\n",
       "         2,   1,   2,   1,   1,   2, 315,   3,   1,   2,   1,   1,   2,\n",
       "       317,   3,   2,   2,   1,   4,   1,   2, 319,   1,   3,   2,   1,\n",
       "         3,   2,   1,   1, 278,   1,   1,   2,   1,   1,   3, 265,   1,\n",
       "         2,   3,   1, 260,   1,   3,   1, 245,   1,   3,   3,   1,   1,\n",
       "         1, 269,   1,   1,   2,   2,   1,   2,   1, 281,   3,   2,   2,\n",
       "         3, 273,   1,   2,   1,   1, 247,   1,   1,   2,   1,   2, 266,\n",
       "         2,   2,   2, 234,   3,   4,   1, 221,   1,   1,   4, 208,   3,\n",
       "         2,   1,   2, 215,   1,   1,   1,   3, 224,   1,   1,   1,   1,\n",
       "         1, 179,   4,   2,   1,   1, 179,   3,   1,   1, 198,   1,   2,\n",
       "         1,   1, 192,   3, 157,   1,   3, 153, 154,   1,   1,   3,   1,\n",
       "       157,   2,   1,   1,   1, 148,   1,   4, 122,   1,   1,   1, 111,\n",
       "         1,   3, 123,   3,   1, 108,   1,   1,   2, 111,   1,   1,  88,\n",
       "         1,  96,   1, 101,   1,   1,  82,   1,  97,   1,   2,   1, 108,\n",
       "         1,   1,   1,   1, 121,   1, 118, 115,   1,  84,  93,   1, 140,\n",
       "       187, 130,  72,  46,  37,  41,  38,  42,  39,  39,  29,  27,  27,\n",
       "        16,  11,   1,  20,  23,  14,  16,  17,  24,  25,  44,  64,  69,\n",
       "        86,  86, 125, 144, 133, 101, 133, 106,  97,  85,  56,  67,  66,\n",
       "        45,  40,  51,  26,  10,  12,   7,   9,   5,   3,   2,   1,   1,\n",
       "         1,   1,   4,   3,   1,   2,   1,   2])"
      ]
     },
     "execution_count": 111,
     "metadata": {},
     "output_type": "execute_result"
    }
   ],
   "source": [
    "counts"
   ]
  },
  {
   "cell_type": "code",
   "execution_count": 104,
   "id": "057bcd7c-2844-468f-a52b-dd5179da2efd",
   "metadata": {},
   "outputs": [
    {
     "name": "stdout",
     "output_type": "stream",
     "text": [
      "[[ 44.      45.      46.      47.      48.      49.      49.1521  50.\n",
      "   50.6097  51.      51.4574  51.8919  52.      52.0678  52.4232  52.9655\n",
      "   53.      53.3333  53.7063  53.707   53.8947  54.      54.0845  54.1801\n",
      "   54.2756  54.565   54.7595  54.8571  55.      55.0538  55.2518  55.4513\n",
      "   55.6522  55.7534  56.      56.0584  56.1611  56.3672  56.5748  56.679\n",
      "   56.7839  56.8889  56.9946  57.      57.1004  57.3134  57.5281  57.6362\n",
      "   57.7444  57.9623  58.      58.1818  58.403   58.5145  58.626   58.7383\n",
      "   58.8506  58.9637  59.      59.0769  59.305   59.42    59.5349  59.6507\n",
      "   59.7665  60.      60.2353  60.4724  60.4734  60.592   60.7115  60.8319\n",
      "   60.9524  61.      61.0738  61.1952  61.44    61.441   61.6867  61.8111\n",
      "   61.8231  61.9355  62.      62.0609  62.3126  62.439   62.5665  62.8223\n",
      "   62.9508  63.      63.0803  63.2099  63.4711  63.6028  64.      64.2678\n",
      "   64.5378  64.8101  65.      65.0847  65.3617  65.641   65.6422  65.7819\n",
      "   65.9227  66.      66.0648  66.0673  66.2069  66.4935  66.6381  66.7826\n",
      "   66.9284  67.      67.0742  67.3684  67.6652  67.9646  68.      68.1156\n",
      "   68.2667  68.5714  68.8803  69.      69.0341  69.1892  69.5023  69.6602\n",
      "   69.8182  70.      70.137   70.4587  70.7834  71.      71.1111  71.4419\n",
      "   71.7757  72.      72.4528  72.6245  72.7962  73.      73.1429  73.4928\n",
      "   73.6695  73.8462  74.      74.3865  74.5631  74.745   74.9268  75.\n",
      "   75.2941  75.2959  75.4796  75.665   75.8523  76.      76.0396  76.4179\n",
      "   76.8     76.993   77.      77.1859  77.5758  77.9695  78.      78.1684\n",
      "   78.3673  78.7692  78.9722  79.      79.1753  80.      80.4188  80.8421\n",
      "   81.      82.      82.139   82.3598  82.5806  82.8038  83.      83.027\n",
      "   83.4783  83.7063  83.9344  84.      84.3956  84.8619  85.      85.0976\n",
      "   85.3333  85.5717  86.      86.5954  86.7797  87.      87.2727  87.7714\n",
      "   88.      88.4945  88.7693  88.7861  89.      89.5634  89.8246  90.\n",
      "   90.3529  91.      91.4286  92.      92.3732  92.5301  93.      93.2697\n",
      "   94.      94.1138  94.8148  94.8659  95.      95.2614  95.4074  95.5238\n",
      "   95.6818  96.      96.0994  97.      98.      98.0048  99.     100.\n",
      "  100.671  101.     102.     103.     104.     105.     106.     107.\n",
      "  108.     109.     110.     111.     112.     113.     114.     115.\n",
      "  116.     116.614  117.     118.     119.     120.     121.     122.\n",
      "  123.     124.     125.     126.     127.     128.     129.     130.\n",
      "  131.     132.     133.     134.     135.     136.     137.     138.\n",
      "  139.     140.     141.     142.     143.     144.     145.     146.\n",
      "  147.     148.     149.     150.     153.     154.     164.     173.\n",
      "  175.     176.     198.     200.     201.     202.    ]\n",
      " [  1.       1.       1.       2.       3.       5.       1.      29.\n",
      "    1.      65.       1.       1.      76.       1.       1.       1.\n",
      "  129.       2.       1.       1.       1.     174.       1.       2.\n",
      "    1.       3.       2.       1.     209.       2.       2.       1.\n",
      "    1.       1.     253.       2.       1.       1.       1.       1.\n",
      "    1.       2.       2.     264.       1.       4.       2.       1.\n",
      "    1.       3.     303.       2.       2.       1.       2.       1.\n",
      "    1.       2.     315.       3.       1.       2.       1.       1.\n",
      "    2.     317.       3.       2.       2.       1.       4.       1.\n",
      "    2.     319.       1.       3.       2.       1.       3.       2.\n",
      "    1.       1.     278.       1.       1.       2.       1.       1.\n",
      "    3.     265.       1.       2.       3.       1.     260.       1.\n",
      "    3.       1.     245.       1.       3.       3.       1.       1.\n",
      "    1.     269.       1.       1.       2.       2.       1.       2.\n",
      "    1.     281.       3.       2.       2.       3.     273.       1.\n",
      "    2.       1.       1.     247.       1.       1.       2.       1.\n",
      "    2.     266.       2.       2.       2.     234.       3.       4.\n",
      "    1.     221.       1.       1.       4.     208.       3.       2.\n",
      "    1.       2.     215.       1.       1.       1.       3.     224.\n",
      "    1.       1.       1.       1.       1.     179.       4.       2.\n",
      "    1.       1.     179.       3.       1.       1.     198.       1.\n",
      "    2.       1.       1.     192.       3.     157.       1.       3.\n",
      "  153.     154.       1.       1.       3.       1.     157.       2.\n",
      "    1.       1.       1.     148.       1.       4.     122.       1.\n",
      "    1.       1.     111.       1.       3.     123.       3.       1.\n",
      "  108.       1.       1.       2.     111.       1.       1.      88.\n",
      "    1.      96.       1.     101.       1.       1.      82.       1.\n",
      "   97.       1.       2.       1.     108.       1.       1.       1.\n",
      "    1.     121.       1.     118.     115.       1.      84.      93.\n",
      "    1.     140.     187.     130.      72.      46.      37.      41.\n",
      "   38.      42.      39.      39.      29.      27.      27.      16.\n",
      "   11.       1.      20.      23.      14.      16.      17.      24.\n",
      "   25.      44.      64.      69.      86.      86.     125.     144.\n",
      "  133.     101.     133.     106.      97.      85.      56.      67.\n",
      "   66.      45.      40.      51.      26.      10.      12.       7.\n",
      "    9.       5.       3.       2.       1.       1.       1.       1.\n",
      "    4.       3.       1.       2.       1.       2.    ]]\n"
     ]
    }
   ],
   "source": [
    "frequencies=np.asarray((unique,counts))\n",
    "print(frequencies)"
   ]
  },
  {
   "cell_type": "code",
   "execution_count": 136,
   "id": "51c28641-3667-45b5-86f5-6ac7d2ef9026",
   "metadata": {},
   "outputs": [
    {
     "data": {
      "text/html": [
       "<div>\n",
       "<style scoped>\n",
       "    .dataframe tbody tr th:only-of-type {\n",
       "        vertical-align: middle;\n",
       "    }\n",
       "\n",
       "    .dataframe tbody tr th {\n",
       "        vertical-align: top;\n",
       "    }\n",
       "\n",
       "    .dataframe thead th {\n",
       "        text-align: right;\n",
       "    }\n",
       "</style>\n",
       "<table border=\"1\" class=\"dataframe\">\n",
       "  <thead>\n",
       "    <tr style=\"text-align: right;\">\n",
       "      <th></th>\n",
       "      <th>Unique Heart Rates</th>\n",
       "      <th>Frequency</th>\n",
       "    </tr>\n",
       "  </thead>\n",
       "  <tbody>\n",
       "    <tr>\n",
       "      <th>0</th>\n",
       "      <td>44.0</td>\n",
       "      <td>1</td>\n",
       "    </tr>\n",
       "    <tr>\n",
       "      <th>1</th>\n",
       "      <td>45.0</td>\n",
       "      <td>1</td>\n",
       "    </tr>\n",
       "    <tr>\n",
       "      <th>2</th>\n",
       "      <td>46.0</td>\n",
       "      <td>1</td>\n",
       "    </tr>\n",
       "    <tr>\n",
       "      <th>3</th>\n",
       "      <td>47.0</td>\n",
       "      <td>2</td>\n",
       "    </tr>\n",
       "    <tr>\n",
       "      <th>4</th>\n",
       "      <td>48.0</td>\n",
       "      <td>3</td>\n",
       "    </tr>\n",
       "    <tr>\n",
       "      <th>...</th>\n",
       "      <td>...</td>\n",
       "      <td>...</td>\n",
       "    </tr>\n",
       "    <tr>\n",
       "      <th>289</th>\n",
       "      <td>176.0</td>\n",
       "      <td>3</td>\n",
       "    </tr>\n",
       "    <tr>\n",
       "      <th>290</th>\n",
       "      <td>198.0</td>\n",
       "      <td>1</td>\n",
       "    </tr>\n",
       "    <tr>\n",
       "      <th>291</th>\n",
       "      <td>200.0</td>\n",
       "      <td>2</td>\n",
       "    </tr>\n",
       "    <tr>\n",
       "      <th>292</th>\n",
       "      <td>201.0</td>\n",
       "      <td>1</td>\n",
       "    </tr>\n",
       "    <tr>\n",
       "      <th>293</th>\n",
       "      <td>202.0</td>\n",
       "      <td>2</td>\n",
       "    </tr>\n",
       "  </tbody>\n",
       "</table>\n",
       "<p>294 rows × 2 columns</p>\n",
       "</div>"
      ],
      "text/plain": [
       "     Unique Heart Rates  Frequency\n",
       "0                  44.0          1\n",
       "1                  45.0          1\n",
       "2                  46.0          1\n",
       "3                  47.0          2\n",
       "4                  48.0          3\n",
       "..                  ...        ...\n",
       "289               176.0          3\n",
       "290               198.0          1\n",
       "291               200.0          2\n",
       "292               201.0          1\n",
       "293               202.0          2\n",
       "\n",
       "[294 rows x 2 columns]"
      ]
     },
     "execution_count": 136,
     "metadata": {},
     "output_type": "execute_result"
    }
   ],
   "source": [
    "df1 = pd.DataFrame({'Unique Heart Rates':unique,'Frequency':counts})\n",
    "df1"
   ]
  },
  {
   "cell_type": "code",
   "execution_count": 129,
   "id": "5ef2a12d-4d2f-4367-bc53-5e1b76de5189",
   "metadata": {},
   "outputs": [],
   "source": [
    "freq1= df1.sort_values(by=['Frequency'], ascending=False)"
   ]
  },
  {
   "cell_type": "code",
   "execution_count": 153,
   "id": "e14ed499-8f65-409d-a15f-99c79ffb9104",
   "metadata": {},
   "outputs": [
    {
     "data": {
      "text/html": [
       "<div>\n",
       "<style scoped>\n",
       "    .dataframe tbody tr th:only-of-type {\n",
       "        vertical-align: middle;\n",
       "    }\n",
       "\n",
       "    .dataframe tbody tr th {\n",
       "        vertical-align: top;\n",
       "    }\n",
       "\n",
       "    .dataframe thead th {\n",
       "        text-align: right;\n",
       "    }\n",
       "</style>\n",
       "<table border=\"1\" class=\"dataframe\">\n",
       "  <thead>\n",
       "    <tr style=\"text-align: right;\">\n",
       "      <th></th>\n",
       "      <th>Unique Heart Rates</th>\n",
       "      <th>Frequency</th>\n",
       "    </tr>\n",
       "  </thead>\n",
       "  <tbody>\n",
       "    <tr>\n",
       "      <th>73</th>\n",
       "      <td>61.0</td>\n",
       "      <td>319</td>\n",
       "    </tr>\n",
       "    <tr>\n",
       "      <th>65</th>\n",
       "      <td>60.0</td>\n",
       "      <td>317</td>\n",
       "    </tr>\n",
       "    <tr>\n",
       "      <th>58</th>\n",
       "      <td>59.0</td>\n",
       "      <td>315</td>\n",
       "    </tr>\n",
       "    <tr>\n",
       "      <th>50</th>\n",
       "      <td>58.0</td>\n",
       "      <td>303</td>\n",
       "    </tr>\n",
       "    <tr>\n",
       "      <th>113</th>\n",
       "      <td>67.0</td>\n",
       "      <td>281</td>\n",
       "    </tr>\n",
       "    <tr>\n",
       "      <th>82</th>\n",
       "      <td>62.0</td>\n",
       "      <td>278</td>\n",
       "    </tr>\n",
       "    <tr>\n",
       "      <th>118</th>\n",
       "      <td>68.0</td>\n",
       "      <td>273</td>\n",
       "    </tr>\n",
       "    <tr>\n",
       "      <th>105</th>\n",
       "      <td>66.0</td>\n",
       "      <td>269</td>\n",
       "    </tr>\n",
       "    <tr>\n",
       "      <th>129</th>\n",
       "      <td>70.0</td>\n",
       "      <td>266</td>\n",
       "    </tr>\n",
       "    <tr>\n",
       "      <th>89</th>\n",
       "      <td>63.0</td>\n",
       "      <td>265</td>\n",
       "    </tr>\n",
       "  </tbody>\n",
       "</table>\n",
       "</div>"
      ],
      "text/plain": [
       "     Unique Heart Rates  Frequency\n",
       "73                 61.0        319\n",
       "65                 60.0        317\n",
       "58                 59.0        315\n",
       "50                 58.0        303\n",
       "113                67.0        281\n",
       "82                 62.0        278\n",
       "118                68.0        273\n",
       "105                66.0        269\n",
       "129                70.0        266\n",
       "89                 63.0        265"
      ]
     },
     "execution_count": 153,
     "metadata": {},
     "output_type": "execute_result"
    }
   ],
   "source": [
    "freq1[0:10]"
   ]
  },
  {
   "cell_type": "code",
   "execution_count": 154,
   "id": "90f4a778-a250-4bbf-bf1c-d9c95efd4cba",
   "metadata": {},
   "outputs": [],
   "source": [
    "freq1.to_csv('heartrate_freq1.csv')"
   ]
  },
  {
   "cell_type": "code",
   "execution_count": 155,
   "id": "afd26893-0f8c-429e-b4de-f7d9687ade5c",
   "metadata": {},
   "outputs": [],
   "source": [
    "freq2=Table.read_table('heartrate_freq1.csv')"
   ]
  },
  {
   "cell_type": "code",
   "execution_count": 160,
   "id": "a55a20e7-5d3b-4b44-838a-c167ac73d18a",
   "metadata": {},
   "outputs": [
    {
     "data": {
      "text/html": [
       "<table border=\"1\" class=\"dataframe\">\n",
       "    <thead>\n",
       "        <tr>\n",
       "            <th>Unique Heart Rates</th> <th>Frequency</th>\n",
       "        </tr>\n",
       "    </thead>\n",
       "    <tbody>\n",
       "        <tr>\n",
       "            <td>61                </td> <td>319      </td>\n",
       "        </tr>\n",
       "        <tr>\n",
       "            <td>60                </td> <td>317      </td>\n",
       "        </tr>\n",
       "        <tr>\n",
       "            <td>59                </td> <td>315      </td>\n",
       "        </tr>\n",
       "        <tr>\n",
       "            <td>58                </td> <td>303      </td>\n",
       "        </tr>\n",
       "        <tr>\n",
       "            <td>67                </td> <td>281      </td>\n",
       "        </tr>\n",
       "        <tr>\n",
       "            <td>62                </td> <td>278      </td>\n",
       "        </tr>\n",
       "        <tr>\n",
       "            <td>68                </td> <td>273      </td>\n",
       "        </tr>\n",
       "        <tr>\n",
       "            <td>66                </td> <td>269      </td>\n",
       "        </tr>\n",
       "        <tr>\n",
       "            <td>70                </td> <td>266      </td>\n",
       "        </tr>\n",
       "        <tr>\n",
       "            <td>63                </td> <td>265      </td>\n",
       "        </tr>\n",
       "    </tbody>\n",
       "</table>\n",
       "<p>... (284 rows omitted)</p>"
      ],
      "text/plain": [
       "Unique Heart Rates | Frequency\n",
       "61                 | 319\n",
       "60                 | 317\n",
       "59                 | 315\n",
       "58                 | 303\n",
       "67                 | 281\n",
       "62                 | 278\n",
       "68                 | 273\n",
       "66                 | 269\n",
       "70                 | 266\n",
       "63                 | 265\n",
       "... (284 rows omitted)"
      ]
     },
     "execution_count": 160,
     "metadata": {},
     "output_type": "execute_result"
    }
   ],
   "source": [
    "freq2a=freq2.drop(0)\n",
    "freq2a"
   ]
  },
  {
   "cell_type": "code",
   "execution_count": 163,
   "id": "7302ecaa-42b7-4f5c-bb66-d25ba5c21bb5",
   "metadata": {},
   "outputs": [
    {
     "data": {
      "text/plain": [
       "83.45321836734695"
      ]
     },
     "execution_count": 163,
     "metadata": {},
     "output_type": "execute_result"
    }
   ],
   "source": [
    "np.mean(freq2a.column(0))"
   ]
  },
  {
   "cell_type": "code",
   "execution_count": null,
   "id": "ace5333b-392a-471f-b5e8-8130cfbf9469",
   "metadata": {},
   "outputs": [],
   "source": []
  }
 ],
 "metadata": {
  "kernelspec": {
   "display_name": "Python 3",
   "language": "python",
   "name": "python3"
  },
  "language_info": {
   "codemirror_mode": {
    "name": "ipython",
    "version": 3
   },
   "file_extension": ".py",
   "mimetype": "text/x-python",
   "name": "python",
   "nbconvert_exporter": "python",
   "pygments_lexer": "ipython3",
   "version": "3.6.9"
  }
 },
 "nbformat": 4,
 "nbformat_minor": 5
}
