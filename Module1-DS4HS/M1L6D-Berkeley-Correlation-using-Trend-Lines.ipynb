{
 "cells": [
  {
   "cell_type": "markdown",
   "id": "203c5788-a96f-4486-afea-674eded26396",
   "metadata": {},
   "source": [
    "#### Prediction by Creating a Trend Line from Collected Data ####\n",
    "\n",
    "\n",
    "https://inferentialthinking.com/chapters/15/Prediction.html"
   ]
  },
  {
   "cell_type": "markdown",
   "id": "812aa3f1-ae1e-45f4-b12a-0971db52c973",
   "metadata": {},
   "source": [
    "Add Williams/Brown paper info"
   ]
  },
  {
   "cell_type": "markdown",
   "id": "5e26350f-57e1-433f-9bcb-ad63b6e2f7f0",
   "metadata": {},
   "source": [
    "Add geogebra classic file: linear_regression.ggb"
   ]
  },
  {
   "cell_type": "markdown",
   "id": "b0fa5c7c-4118-4d7a-989c-be087513440a",
   "metadata": {},
   "source": [
    "Add more history on least square from the Stats History book on Legrende and Buskovich"
   ]
  },
  {
   "cell_type": "code",
   "execution_count": null,
   "id": "beccbcb7-2129-4029-9771-2f59fbecbb16",
   "metadata": {},
   "outputs": [],
   "source": []
  }
 ],
 "metadata": {
  "kernelspec": {
   "display_name": "Python 3",
   "language": "python",
   "name": "python3"
  },
  "language_info": {
   "codemirror_mode": {
    "name": "ipython",
    "version": 3
   },
   "file_extension": ".py",
   "mimetype": "text/x-python",
   "name": "python",
   "nbconvert_exporter": "python",
   "pygments_lexer": "ipython3",
   "version": "3.6.9"
  }
 },
 "nbformat": 4,
 "nbformat_minor": 5
}
