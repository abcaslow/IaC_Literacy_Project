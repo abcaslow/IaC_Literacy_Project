{
 "cells": [
  {
   "cell_type": "markdown",
   "id": "203c5788-a96f-4486-afea-674eded26396",
   "metadata": {},
   "source": [
    "#### Prediction by Creating a Trend Line from Collected Data ####\n",
    "\n",
    "\n",
    "https://inferentialthinking.com/chapters/15/Prediction.html"
   ]
  },
  {
   "cell_type": "code",
   "execution_count": null,
   "id": "0724f1d2-e4ae-45da-9cae-6e43bd394b3d",
   "metadata": {},
   "outputs": [],
   "source": []
  }
 ],
 "metadata": {
  "kernelspec": {
   "display_name": "Python 3",
   "language": "python",
   "name": "python3"
  },
  "language_info": {
   "codemirror_mode": {
    "name": "ipython",
    "version": 3
   },
   "file_extension": ".py",
   "mimetype": "text/x-python",
   "name": "python",
   "nbconvert_exporter": "python",
   "pygments_lexer": "ipython3",
   "version": "3.6.9"
  }
 },
 "nbformat": 4,
 "nbformat_minor": 5
}
