{
 "cells": [
  {
   "cell_type": "markdown",
   "id": "e8221765-b13c-4453-8124-1b1cc8e694b8",
   "metadata": {},
   "source": [
    "### Explore Your First DS4HS Jupyter Notebook ###\n",
    "\n",
    "In this Notebook, you will:\n",
    "\n",
    "1. Load necessary Python Modules\n",
    "1. Load real world data sets\n",
    "1. Explore the general shape of the data (number of rows and columns, etc)\n",
    "1. Perform interactive Exploratory Data Analysis\n",
    "1. Visualize the data\n",
    "\n",
    "Once you have performed these five steps, you will interact with the Notebook using the Python comment symbol <b>\"#\"</b>."
   ]
  },
  {
   "cell_type": "markdown",
   "id": "24eda155-45fd-44b8-916c-a476af92c517",
   "metadata": {},
   "source": [
    "Perform your first Jupyter Notebook by performing the following steps:\n",
    "    \n",
    "1. Read and execute each cell below with SHIFT+ENTER\n",
    "1. When you reach the cell with the heading of End of Notebook, read the contents of that cell and go through the Notebook again.\n",
    "\n",
    "DO NOT simply cursor down the Notebook without pressing either CONTROL+ENTER or SHIFT+ENTER. If you just cursor down through the Notebook, you will not execute the Python commands in every cell. This could cause subsequent cells to fail. Remember, this Jupyter Notebook is essentially an interactive Python program that is allowing you to step through it line by line or section by section for learning purposes."
   ]
  },
  {
   "cell_type": "markdown",
   "id": "d04f1da4-d4f5-4b21-b372-52fe6f2702ef",
   "metadata": {},
   "source": [
    "STEP ONE: Import Python Program Modules"
   ]
  },
  {
   "cell_type": "code",
   "execution_count": null,
   "id": "78c104f3-ea6e-423f-ab24-e56f7971e268",
   "metadata": {},
   "outputs": [],
   "source": [
    "#! /usr/bin/env python3\n",
    "\n",
    "from datascience import *\n",
    "import numpy as np\n",
    "import matplotlib.pyplot as plt\n",
    "%matplotlib inline"
   ]
  },
  {
   "cell_type": "markdown",
   "id": "practical-omaha",
   "metadata": {},
   "source": [
    "STEP TWO: Import your dataset that you want to explore and analyze."
   ]
  },
  {
   "cell_type": "code",
   "execution_count": null,
   "id": "seeing-bracket",
   "metadata": {},
   "outputs": [],
   "source": [
    "rawdata=Table.read_table('~/data8/stockmarket.csv')"
   ]
  },
  {
   "cell_type": "markdown",
   "id": "61e3e3cc-ecc2-49c8-8011-e9a3d6f35f0c",
   "metadata": {},
   "source": [
    "STEP THREE: Examine the general shape of the dataset by noting the number of rows and column."
   ]
  },
  {
   "cell_type": "code",
   "execution_count": null,
   "id": "unusual-nigeria",
   "metadata": {},
   "outputs": [],
   "source": [
    "print(\"Shape of the csv imported data to the Python object name: rawdata\")\n",
    "print(\"Number of columns:\", rawdata.num_columns)\n",
    "print(\"Number of rows:\", rawdata.num_rows)"
   ]
  },
  {
   "cell_type": "code",
   "execution_count": null,
   "id": "91905608-9a60-43ad-9b01-4a08d192e32a",
   "metadata": {},
   "outputs": [],
   "source": [
    "rawdata.shape #Here is a summarized view of the shape of the dataset."
   ]
  },
  {
   "cell_type": "code",
   "execution_count": null,
   "id": "compatible-organization",
   "metadata": {},
   "outputs": [],
   "source": [
    "rawdata #Here is a view of the first 10 rows and columns of the dataset."
   ]
  },
  {
   "cell_type": "markdown",
   "id": "6fe2ac8e-82ff-43a8-a75e-13f6f60f8c30",
   "metadata": {},
   "source": [
    "STEP FOUR: Perform Exploratory Data Analysis (EDA)"
   ]
  },
  {
   "cell_type": "code",
   "execution_count": null,
   "id": "83648a7c-6eac-4461-a080-3f8b94e54557",
   "metadata": {},
   "outputs": [],
   "source": [
    "rawdata.select('company','market-cap').sort('market-cap',descending=True).take[0:11]"
   ]
  },
  {
   "cell_type": "markdown",
   "id": "17158bdc-3ca4-464c-965c-a97d9d2e6aaa",
   "metadata": {},
   "source": [
    "STEP FIVE: Visualize Your Data"
   ]
  },
  {
   "cell_type": "code",
   "execution_count": null,
   "id": "contemporary-baptist",
   "metadata": {
    "scrolled": true
   },
   "outputs": [],
   "source": [
    "rawdata.select('company','market-cap').sort('market-cap',descending=True).take[0:11].barh('company')"
   ]
  },
  {
   "cell_type": "markdown",
   "id": "499a3586-2f2f-44ea-b370-f9b67c99af7e",
   "metadata": {},
   "source": [
    "#### <b> Section Two</b> ####\n",
    "\n",
    "Now that you have executed the set of cells above, please know that you can perform the following:\n",
    "\n",
    "1. Access a given cell with Python code.\n",
    "1. Highlight a line of Python code, copy it with CONTROL+C and paste the line to the next free line with CONTROL+V\n",
    "1. Place the Python comment symbol <b>\"#\"</b> in front of the orginal line that was copied to back the line up.\n",
    "1. Edit and manipulate the working copy that you have made of the copied line for learning and experimentation purposes."
   ]
  },
  {
   "cell_type": "markdown",
   "id": "3d87706f-b258-4889-9358-62033bb039ee",
   "metadata": {},
   "source": [
    "Remove the Python comment symbol <b>\"#\"</b> at the very beginning of a line to select any data set below: (1) nba_salaries.csv, (2) stockmarket.csv, (3) sat2014.csv\n",
    "\n",
    "Also, remember that the very last uncommented line in the cell for a specific Python statement will be the statement that Jupyter Notebooks will run."
   ]
  },
  {
   "cell_type": "code",
   "execution_count": null,
   "id": "f5567bcb-6812-478e-886a-ff5eb75df95e",
   "metadata": {},
   "outputs": [],
   "source": [
    "#rawdata=Table.read_table('~/data8/covid_by_state.csv')\n",
    "rawdata=Table.read_table('~/data8/stockmarket.csv')\n",
    "#rawdata=Table.read_table('~/data8/sat2014.csv')"
   ]
  },
  {
   "cell_type": "markdown",
   "id": "2c69335c-52ec-42b4-b069-c2636bf92e18",
   "metadata": {},
   "source": [
    "Remove the Python comment symbol <b>\"#\"</b> at the very beginning of a line to execute the datascience Python statement that corresponds to the dataset you loaded."
   ]
  },
  {
   "cell_type": "code",
   "execution_count": null,
   "id": "90877c89-17de-42a1-bfc2-413d93a799c4",
   "metadata": {},
   "outputs": [],
   "source": [
    "#rawdata.select('Alabama','Alaska').sort('Alabama', descending=True).take[0:11].barh('Alabama')\n",
    "#rawdata.select('PLAYER','2015-2016 SALARY').sort('2015-2016 SALARY', descending=True).take[0:11].barh('PLAYER')\n",
    "rawdata.select('company','market-cap').sort('market-cap',descending=True).take[0:11].barh('company')\n",
    "#rawdata.select('State','Combined').sort('Combined',descending=True).take[0:11].barh('State')"
   ]
  },
  {
   "cell_type": "markdown",
   "id": "c324006f-0138-4f12-80a7-d96221fe8191",
   "metadata": {},
   "source": [
    "<b>Exploring the Underlying Operating System from a Jupyter Notebook</b>"
   ]
  },
  {
   "cell_type": "code",
   "execution_count": null,
   "id": "efa2bd3b-40c8-485f-9cee-c60ed7614870",
   "metadata": {},
   "outputs": [],
   "source": [
    "ls ../*.csv"
   ]
  },
  {
   "cell_type": "markdown",
   "id": "64e350d2-0760-4b7a-98a5-5c3982037d54",
   "metadata": {},
   "source": [
    "<b>Maintaining Good Jupyter Notebook Hygene</b>"
   ]
  },
  {
   "cell_type": "markdown",
   "id": "564bfcb5-44aa-4524-8b64-66164d6b5dbe",
   "metadata": {},
   "source": [
    "1. From the main Jupyter Lab toolbar, select Edit and scroll down to <b>Clear All Outputs</b> to remove all of the output generated for all cells you have accessed. This is useful if you want to \"start fresh\" with stepping through a specific Notebook again.\n",
    "1. From either (1) the Jupyter Notebook toolbar above (see the circular \"reload\" icon or (2)from the Jupyter Lab toolbar in the upper left corner - Kernel/Restart Kernel, you can restart the Notebooks Python Kernel if you encounter any problems with the execuition of the Notebook. "
   ]
  },
  {
   "cell_type": "markdown",
   "id": "a8fc7fb1-22c5-4d09-abbc-03f424510665",
   "metadata": {},
   "source": [
    "<b>Recovering From a Jupyter Notebook Disaster\n",
    "Jupyter Notebook Saved File Checkpoints</b>\n",
    "\n",
    "If you screw everything up, do a revert notebook to checkpoint."
   ]
  },
  {
   "cell_type": "markdown",
   "id": "6c090b68-5979-49b8-8215-c91067384481",
   "metadata": {},
   "source": [
    "<b>Conclusion</b>\n",
    "\n",
    "Now that we are familiar with:\n",
    "\n",
    "1. The Jupyter Lab Work Space\n",
    "1. How to navigate and interact with a Jupyter Notebook\n",
    "1. The general structure of a Data Science Jupyter Notebook: import needed Python, modules, import the target dataset, explore and visualize data, etc.\n",
    "\n",
    "we now need to learn the nuts and bolts of Python for data science using the following three-step learning roadmap:\n",
    "\n",
    "1. Work with standard Python with NO imported Python modules. We will focus on basic Python Data Types and built-in Python functions. By limiting ourselves in this way, we will encounter that limits of using Python without importing any program modules. To overcome these limitations, we will import our first Python module: the numpy (numeric Python) module.\n",
    "1. Work with the incredible numpy Python module. We will see that numpy is the heart of most robust datascience and machine learning programming environments.\n",
    "1. Work with sets of numpy arrays using the Berkeley datascience Python modules. \n",
    "\n",
    "Each of the three learning steps in our Data Science roadmap will build neatly upon each other. Let's continue with our very exciting journey!"
   ]
  },
  {
   "cell_type": "markdown",
   "id": "c7b3287f-4d9d-4cc8-b41e-811323ba8471",
   "metadata": {},
   "source": [
    "<b>Extra Credit Brain Teaser</b> \n",
    "\n",
    "Run the following mysterious Notebook cell and guess what the output is:"
   ]
  },
  {
   "cell_type": "code",
   "execution_count": null,
   "id": "a08b96be-7167-4794-8b2a-b262e9c05d18",
   "metadata": {},
   "outputs": [],
   "source": [
    "!./jupyter2pythonwithjq < M1L1-Intro-to-Jupyter-Lab.ipynb"
   ]
  },
  {
   "cell_type": "code",
   "execution_count": null,
   "id": "1e057634-ead6-45e6-b8ef-e030132a1b39",
   "metadata": {},
   "outputs": [],
   "source": [
    "!cat jupyter2pythonwithjq"
   ]
  }
 ],
 "metadata": {
  "kernelspec": {
   "display_name": "Python 3",
   "language": "python",
   "name": "python3"
  },
  "language_info": {
   "codemirror_mode": {
    "name": "ipython",
    "version": 3
   },
   "file_extension": ".py",
   "mimetype": "text/x-python",
   "name": "python",
   "nbconvert_exporter": "python",
   "pygments_lexer": "ipython3",
   "version": "3.6.9"
  }
 },
 "nbformat": 4,
 "nbformat_minor": 5
}
