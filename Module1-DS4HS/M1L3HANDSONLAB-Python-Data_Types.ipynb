{
 "cells": [
  {
   "cell_type": "markdown",
   "id": "ca997948-5f32-41e8-b464-d2fce95c9111",
   "metadata": {},
   "source": [
    "Run each and every Jupyter Notebook cell below with CONTROL+ENTER. DO NOT SKIP ANY CELLS! "
   ]
  },
  {
   "cell_type": "code",
   "execution_count": null,
   "id": "4bbab75a-ae75-4c17-bbfb-0e4bcfa39797",
   "metadata": {},
   "outputs": [],
   "source": [
    "7+4"
   ]
  },
  {
   "cell_type": "code",
   "execution_count": null,
   "id": "046c9075-d678-4310-bd02-f1b9388c4294",
   "metadata": {},
   "outputs": [],
   "source": [
    "a=7\n",
    "b=4\n",
    "a+b"
   ]
  },
  {
   "cell_type": "code",
   "execution_count": null,
   "id": "ab9e7598-9124-4248-b96d-d66195495336",
   "metadata": {},
   "outputs": [],
   "source": [
    "a='7'\n",
    "b='4'\n",
    "a+b"
   ]
  },
  {
   "cell_type": "markdown",
   "id": "af5e10f8-847f-4384-b602-e1d9d16a33ab",
   "metadata": {},
   "source": [
    "Why did you get the answer above?\n",
    "It is 100% correct based upon Pyhton Data Types.\n",
    "It is 100% wrong based on basic addition in elementary school arithmetic\n",
    "Please correct the error with out changing ANYTHING related to the values assigend to <b>a</b> and <b>b</b>."
   ]
  },
  {
   "cell_type": "code",
   "execution_count": null,
   "id": "3df85ba9-70f1-406c-ae2e-60a85564ec7c",
   "metadata": {},
   "outputs": [],
   "source": [
    "#ENTER ANSWER HERE"
   ]
  },
  {
   "cell_type": "code",
   "execution_count": null,
   "id": "0b103668-5c06-4d31-9f72-f824319f16e6",
   "metadata": {},
   "outputs": [],
   "source": [
    "range(5)"
   ]
  },
  {
   "cell_type": "code",
   "execution_count": null,
   "id": "531dfdcb-8427-408c-85e2-cd8852d73a8e",
   "metadata": {},
   "outputs": [],
   "source": [
    "for i in range(5): print(i) #Here is a very simple Python \"for\" loop."
   ]
  },
  {
   "cell_type": "code",
   "execution_count": null,
   "id": "2dac7972-2ed6-4646-8f63-74c9d52cddc0",
   "metadata": {},
   "outputs": [],
   "source": [
    "x=range(5)\n",
    "x"
   ]
  },
  {
   "cell_type": "code",
   "execution_count": null,
   "id": "c4afbac9-be62-4073-b32c-d6c89e7fd02a",
   "metadata": {},
   "outputs": [],
   "source": [
    "for i in x: print(i) #Once again, here is a very simple Python \"for\" loop."
   ]
  },
  {
   "cell_type": "code",
   "execution_count": null,
   "id": "7ed19d9e-abbc-46fe-be27-d20dab1909b0",
   "metadata": {},
   "outputs": [],
   "source": [
    "sum(range(5))"
   ]
  },
  {
   "cell_type": "code",
   "execution_count": null,
   "id": "a6f293e7-4496-4de0-bec9-b709fc99b4b0",
   "metadata": {},
   "outputs": [],
   "source": [
    "xsum=[0,1,2,3,4] #this is a Python 'list' data structure. Notice the use of [ ] \n",
    "sum(xsum)"
   ]
  },
  {
   "cell_type": "code",
   "execution_count": null,
   "id": "9f69282f-ad89-4375-84f0-c0a6e7010168",
   "metadata": {},
   "outputs": [],
   "source": [
    "arange(5)"
   ]
  },
  {
   "cell_type": "markdown",
   "id": "8da8c00f-bda9-4da8-b42f-4e7e8ed30005",
   "metadata": {},
   "source": [
    "Why did this error occur?\n",
    "Open up a Google browser and search for \"python arange\""
   ]
  },
  {
   "cell_type": "code",
   "execution_count": null,
   "id": "23989d91-4315-4323-8837-0fe749f6c561",
   "metadata": {},
   "outputs": [],
   "source": [
    "import numpy as np"
   ]
  },
  {
   "cell_type": "code",
   "execution_count": null,
   "id": "c852c149-87dd-4807-8a35-6de86144b540",
   "metadata": {},
   "outputs": [],
   "source": [
    "np.arange(5)"
   ]
  },
  {
   "cell_type": "markdown",
   "id": "50918079-bab3-4895-bc81-163a93632c8e",
   "metadata": {},
   "source": [
    "What type of Python Data Type is <b>np.arange(5)</b>?"
   ]
  },
  {
   "cell_type": "code",
   "execution_count": null,
   "id": "8b6caeb0-0964-40ea-a75b-a77714482487",
   "metadata": {},
   "outputs": [],
   "source": [
    "#Your answer here."
   ]
  },
  {
   "cell_type": "code",
   "execution_count": null,
   "id": "c6fe222b-2b4b-4ead-9376-711cfe786ab0",
   "metadata": {},
   "outputs": [],
   "source": [
    "np.arange(5).dtype #What exactly is this Python statement telling you?"
   ]
  },
  {
   "cell_type": "code",
   "execution_count": null,
   "id": "740f6b61-91c4-4646-904b-482458e7a4c3",
   "metadata": {},
   "outputs": [],
   "source": [
    "np.arange(5).sum()"
   ]
  },
  {
   "cell_type": "code",
   "execution_count": null,
   "id": "b7df320d-0d18-43c2-b912-b440a69f3e7f",
   "metadata": {},
   "outputs": [],
   "source": [
    "np.arange(5).mean()"
   ]
  },
  {
   "cell_type": "code",
   "execution_count": null,
   "id": "9dd8bf49-71ac-49aa-ad95-12ba231f9212",
   "metadata": {},
   "outputs": [],
   "source": [
    "testlist=[0,1,2,3,4]"
   ]
  },
  {
   "cell_type": "code",
   "execution_count": null,
   "id": "d3b450a2-96a6-4536-855b-4188a0501156",
   "metadata": {},
   "outputs": [],
   "source": [
    "len(testlist)"
   ]
  },
  {
   "cell_type": "code",
   "execution_count": null,
   "id": "d750c9f2-25f8-4015-8d59-a69a38610446",
   "metadata": {},
   "outputs": [],
   "source": [
    "sum(testlist)"
   ]
  },
  {
   "cell_type": "code",
   "execution_count": null,
   "id": "14d01031-782e-4e9f-a3df-599905e1402f",
   "metadata": {},
   "outputs": [],
   "source": [
    "mean(testlist)"
   ]
  },
  {
   "cell_type": "markdown",
   "id": "673ed608-acb4-4d3a-9ae6-2fe3e9339667",
   "metadata": {},
   "source": [
    "While the Python functions <b>len</b> and <b>sum</b>, it appears that the Python function <b>mean></b> does not exist? Is there a way to calucate the arithmetic mean of this list using on the the Python <b>len</b> and <b>sum</b> functions?"
   ]
  },
  {
   "cell_type": "markdown",
   "id": "abf286fb-f351-4991-b35a-682517b2964d",
   "metadata": {},
   "source": [
    "#Calculate the arithmetic mean of the list 'testlist' with the <b>len</b> & <b>sum</b> functions."
   ]
  },
  {
   "cell_type": "code",
   "execution_count": null,
   "id": "650c3f4e-50ae-4bdd-9149-1b79fe3cd6a6",
   "metadata": {},
   "outputs": [],
   "source": [
    "#Your answer here."
   ]
  },
  {
   "cell_type": "code",
   "execution_count": null,
   "id": "305b5676-334b-424b-9d5e-47dda270d641",
   "metadata": {},
   "outputs": [],
   "source": [
    "testlist2=[0,1,'2',3]\n",
    "testlist2"
   ]
  },
  {
   "cell_type": "code",
   "execution_count": null,
   "id": "6b1139ea-4060-492b-b744-c4b48b7ffbe2",
   "metadata": {},
   "outputs": [],
   "source": [
    "sum(testlist2)"
   ]
  },
  {
   "cell_type": "markdown",
   "id": "0038cd12-8d4d-43e6-a8f0-c03bd1e379e3",
   "metadata": {},
   "source": [
    "<b>EXTRA CREDIT</b>: Can you interpret what is happening in the cell below?\n",
    "\n",
    "<b>HINT</b>: Do a Google search on \"Basic Python list comprehension\"\n",
    "The datacamp.com page provides a good explanation of \"list comprehension\".\n",
    "Don't stress if you can't understand list comprehension at this time. This is simply an EXTRA CREDIT exercise."
   ]
  },
  {
   "cell_type": "code",
   "execution_count": null,
   "id": "dc202048-0bf8-457d-8099-d32d20dd86d0",
   "metadata": {},
   "outputs": [],
   "source": [
    "xsum=[i for i in range(5)] #OH NO! This is getting complicated and confusing.\n",
    "xsum"
   ]
  },
  {
   "cell_type": "markdown",
   "id": "83a4538f-9912-4a0e-80f1-01b8073646f5",
   "metadata": {
    "slideshow": {
     "slide_type": "slide"
    },
    "tags": []
   },
   "source": [
    "<b>Conclusion</b>\n",
    "\n",
    "Attempt to perform hands-on concepts in this Jupyter Notebook using the Jupyter Console or Jupyter Terminal.\n",
    "\n",
    "Remember, for many of these concepts, you are using the Jupyter Notebook as a form of \"learning Python with training wheels\".\n",
    "\n",
    "To move off of these \"training wheels\" and move more quicky and flexibly use the Jupyter Console and then fly 100% solo (no training wheels!) by activating <b>ipython3</b> in a Jupyter terminal tab."
   ]
  },
  {
   "cell_type": "code",
   "execution_count": null,
   "id": "b3463413-1163-4029-aeaa-195bf253f676",
   "metadata": {},
   "outputs": [],
   "source": [
    "from datascience import *\n",
    "data=Table.read_table('/home/abcaslow/heartrate.csv')"
   ]
  },
  {
   "cell_type": "code",
   "execution_count": null,
   "id": "0ffd7e8b-b4fa-4344-bdd7-ad526865b667",
   "metadata": {},
   "outputs": [],
   "source": [
    "len(data[1])"
   ]
  },
  {
   "cell_type": "code",
   "execution_count": null,
   "id": "b3890f8a-737b-41ca-8915-045a5f4f127a",
   "metadata": {},
   "outputs": [],
   "source": [
    "hb=data[1]\n",
    "workout=hb[hb>145]"
   ]
  },
  {
   "cell_type": "code",
   "execution_count": null,
   "id": "fdfcc269-25ae-4e4b-b9fb-f2f386698e6c",
   "metadata": {},
   "outputs": [],
   "source": [
    "len(workout)\n",
    "data"
   ]
  },
  {
   "cell_type": "code",
   "execution_count": null,
   "id": "2cfbaf13-e116-42fa-bb7c-604b5dd1b18a",
   "metadata": {},
   "outputs": [],
   "source": [
    "data.where(data[1], are.above(145)) # marbles.where(\"Price\", are.above(1.5)\n",
    "#data.where(data[1], are.between(145, 250))\n",
    "#data.where(data[1], are.between(145, 250)).where(data[0],are.containing('10-02 09'))\n",
    "date=data.where(data[0],are.containing('10-02 11:'))\n",
    "workout=date.where(date[1], are.between(100,160))\n",
    "workout"
   ]
  },
  {
   "cell_type": "code",
   "execution_count": null,
   "id": "d460f822-14c3-49fb-a347-7d0d57fb26c0",
   "metadata": {},
   "outputs": [],
   "source": [
    "workout[1].mean()\n",
    "len(workout[1])\n",
    "workout.show(148)"
   ]
  },
  {
   "cell_type": "code",
   "execution_count": null,
   "id": "0ae60ec5-5465-4cb5-b214-0fc98a944399",
   "metadata": {},
   "outputs": [],
   "source": [
    "import matplotlib.pyplot as plt\n",
    "%matplotlib inline\n",
    "workout.bar('timestamp')\n",
    "plt.xticks(rotation=90)\n",
    "plt.grid(True)"
   ]
  },
  {
   "cell_type": "code",
   "execution_count": null,
   "id": "9bea8f84-36f3-4d56-a925-c6cb8b950dd7",
   "metadata": {},
   "outputs": [],
   "source": []
  },
  {
   "cell_type": "code",
   "execution_count": null,
   "id": "c4c1ff2f-9ea4-4d0b-b3b7-7b15390775a3",
   "metadata": {},
   "outputs": [],
   "source": []
  }
 ],
 "metadata": {
  "kernelspec": {
   "display_name": "Python 3",
   "language": "python",
   "name": "python3"
  },
  "language_info": {
   "codemirror_mode": {
    "name": "ipython",
    "version": 3
   },
   "file_extension": ".py",
   "mimetype": "text/x-python",
   "name": "python",
   "nbconvert_exporter": "python",
   "pygments_lexer": "ipython3",
   "version": "3.6.9"
  },
  "toc-autonumbering": true,
  "toc-showcode": true,
  "toc-showmarkdowntxt": true
 },
 "nbformat": 4,
 "nbformat_minor": 5
}
