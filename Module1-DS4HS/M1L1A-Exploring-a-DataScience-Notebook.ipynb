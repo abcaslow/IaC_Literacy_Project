{
 "cells": [
  {
   "cell_type": "code",
   "execution_count": null,
   "id": "latest-rebel",
   "metadata": {},
   "outputs": [],
   "source": [
    "#! /usr/bin/env python3\n",
    "\n",
    "from datascience import *\n",
    "import numpy as np\n",
    "import matplotlib.pyplot as plt\n",
    "%matplotlib inline"
   ]
  },
  {
   "cell_type": "code",
   "execution_count": null,
   "id": "undefined-edmonton",
   "metadata": {},
   "outputs": [],
   "source": [
    "ls ../*.csv"
   ]
  },
  {
   "cell_type": "code",
   "execution_count": null,
   "id": "cooked-reviewer",
   "metadata": {},
   "outputs": [],
   "source": [
    "print('Hello, name is Sias')"
   ]
  },
  {
   "cell_type": "markdown",
   "id": "practical-omaha",
   "metadata": {},
   "source": [
    "Select any data set below: (1) nba_salaries.csv, (2) stockmarket.csv, (3) sat2014.csv"
   ]
  },
  {
   "cell_type": "code",
   "execution_count": null,
   "id": "seeing-bracket",
   "metadata": {},
   "outputs": [],
   "source": [
    "#rawdata=Table.read_table('~/data8/covid_by_state.csv')\n",
    "rawdata=Table.read_table('~/data8/stockmarket.csv')\n",
    "#rawdata=Table.read_table('~/data8/sat2014.csv')"
   ]
  },
  {
   "cell_type": "code",
   "execution_count": null,
   "id": "unusual-nigeria",
   "metadata": {},
   "outputs": [],
   "source": [
    "#print(rawdata.shape)\n",
    "print(\"Shape of the csv imported data to the Python object name: rawdata\")\n",
    "print(\"Number of columns:\", rawdata.num_columns)\n",
    "print(\"Number of rows:\", rawdata.num_rows)"
   ]
  },
  {
   "cell_type": "markdown",
   "id": "naked-product",
   "metadata": {},
   "source": [
    "Start analyzing your data with easy to use Berkeley Data Science functions: 'select', 'where' and 'group'\n",
    "Have fun! Generate graphs to visualize your data."
   ]
  },
  {
   "cell_type": "code",
   "execution_count": null,
   "id": "compatible-organization",
   "metadata": {},
   "outputs": [],
   "source": [
    "print(rawdata)"
   ]
  },
  {
   "cell_type": "code",
   "execution_count": null,
   "id": "contemporary-baptist",
   "metadata": {
    "scrolled": true
   },
   "outputs": [],
   "source": [
    "rawdata.select('Alabama','Alaska').sort('Alabama', descending=True).take[0:11].barh('Alabama')\n",
    "#rawdata.select('PLAYER','2015-2016 SALARY').sort('2015-2016 SALARY', descending=True).take[0:11].barh('PLAYER')\n",
    "#rawdata.select('company','market-cap').sort('market-cap',descending=True).take[0:11].barh('company')\n",
    "#rawdata.select('State','Combined').sort('Combined',descending=True).take[0:11].barh('State')"
   ]
  }
 ],
 "metadata": {
  "kernelspec": {
   "display_name": "Python 3",
   "language": "python",
   "name": "python3"
  },
  "language_info": {
   "codemirror_mode": {
    "name": "ipython",
    "version": 3
   },
   "file_extension": ".py",
   "mimetype": "text/x-python",
   "name": "python",
   "nbconvert_exporter": "python",
   "pygments_lexer": "ipython3",
   "version": "3.6.9"
  }
 },
 "nbformat": 4,
 "nbformat_minor": 5
}
