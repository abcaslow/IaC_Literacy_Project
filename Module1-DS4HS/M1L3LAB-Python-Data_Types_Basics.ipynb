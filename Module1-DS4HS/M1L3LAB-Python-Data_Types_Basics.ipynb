{
 "cells": [
  {
   "cell_type": "markdown",
   "id": "ca997948-5f32-41e8-b464-d2fce95c9111",
   "metadata": {},
   "source": [
    "Run each and every Jupyter Notebook cell below with CONTROL+ENTER. DO NOT SKIP ANY CELLS! "
   ]
  },
  {
   "cell_type": "code",
   "execution_count": 234,
   "id": "4bbab75a-ae75-4c17-bbfb-0e4bcfa39797",
   "metadata": {},
   "outputs": [
    {
     "data": {
      "text/plain": [
       "11"
      ]
     },
     "execution_count": 234,
     "metadata": {},
     "output_type": "execute_result"
    }
   ],
   "source": [
    "7+4"
   ]
  },
  {
   "cell_type": "code",
   "execution_count": 235,
   "id": "046c9075-d678-4310-bd02-f1b9388c4294",
   "metadata": {},
   "outputs": [
    {
     "data": {
      "text/plain": [
       "11"
      ]
     },
     "execution_count": 235,
     "metadata": {},
     "output_type": "execute_result"
    }
   ],
   "source": [
    "a=7\n",
    "b=4\n",
    "a+b"
   ]
  },
  {
   "cell_type": "code",
   "execution_count": 236,
   "id": "ab9e7598-9124-4248-b96d-d66195495336",
   "metadata": {},
   "outputs": [
    {
     "data": {
      "text/plain": [
       "'74'"
      ]
     },
     "execution_count": 236,
     "metadata": {},
     "output_type": "execute_result"
    }
   ],
   "source": [
    "a='7'\n",
    "b='4'\n",
    "a+b"
   ]
  },
  {
   "cell_type": "markdown",
   "id": "af5e10f8-847f-4384-b602-e1d9d16a33ab",
   "metadata": {},
   "source": [
    "Why did you get the answer above?\n",
    "It is 100% correct based upon Pyhton Data Types.\n",
    "It is 100% wrong based on basic addition in elementary school arithmetic\n",
    "Please correct the error with out changing ANYTHING related to the values assigend to <b>a</b> and <b>b</b>."
   ]
  },
  {
   "cell_type": "code",
   "execution_count": 237,
   "id": "3df85ba9-70f1-406c-ae2e-60a85564ec7c",
   "metadata": {},
   "outputs": [],
   "source": [
    "#ENTER ANSWER HERE"
   ]
  },
  {
   "cell_type": "code",
   "execution_count": 238,
   "id": "0b103668-5c06-4d31-9f72-f824319f16e6",
   "metadata": {},
   "outputs": [
    {
     "data": {
      "text/plain": [
       "range(0, 5)"
      ]
     },
     "execution_count": 238,
     "metadata": {},
     "output_type": "execute_result"
    }
   ],
   "source": [
    "range(5)"
   ]
  },
  {
   "cell_type": "code",
   "execution_count": 239,
   "id": "531dfdcb-8427-408c-85e2-cd8852d73a8e",
   "metadata": {},
   "outputs": [
    {
     "name": "stdout",
     "output_type": "stream",
     "text": [
      "0\n",
      "1\n",
      "2\n",
      "3\n",
      "4\n"
     ]
    }
   ],
   "source": [
    "for i in range(5): print(i) #Here is a very simple Python \"for\" loop."
   ]
  },
  {
   "cell_type": "code",
   "execution_count": 240,
   "id": "2dac7972-2ed6-4646-8f63-74c9d52cddc0",
   "metadata": {},
   "outputs": [
    {
     "data": {
      "text/plain": [
       "range(0, 5)"
      ]
     },
     "execution_count": 240,
     "metadata": {},
     "output_type": "execute_result"
    }
   ],
   "source": [
    "x=range(5)\n",
    "x"
   ]
  },
  {
   "cell_type": "code",
   "execution_count": 241,
   "id": "c4afbac9-be62-4073-b32c-d6c89e7fd02a",
   "metadata": {},
   "outputs": [
    {
     "name": "stdout",
     "output_type": "stream",
     "text": [
      "0\n",
      "1\n",
      "2\n",
      "3\n",
      "4\n"
     ]
    }
   ],
   "source": [
    "for i in x: print(i) #Once again, here is a very simple Python \"for\" loop."
   ]
  },
  {
   "cell_type": "code",
   "execution_count": 242,
   "id": "7ed19d9e-abbc-46fe-be27-d20dab1909b0",
   "metadata": {},
   "outputs": [
    {
     "data": {
      "text/plain": [
       "10"
      ]
     },
     "execution_count": 242,
     "metadata": {},
     "output_type": "execute_result"
    }
   ],
   "source": [
    "sum(range(5))"
   ]
  },
  {
   "cell_type": "code",
   "execution_count": 243,
   "id": "a6f293e7-4496-4de0-bec9-b709fc99b4b0",
   "metadata": {},
   "outputs": [
    {
     "data": {
      "text/plain": [
       "10"
      ]
     },
     "execution_count": 243,
     "metadata": {},
     "output_type": "execute_result"
    }
   ],
   "source": [
    "xsum=[0,1,2,3,4] #this is a Python 'list' data structure. Notice the use of [ ] \n",
    "sum(xsum)"
   ]
  },
  {
   "cell_type": "code",
   "execution_count": 244,
   "id": "9f69282f-ad89-4375-84f0-c0a6e7010168",
   "metadata": {},
   "outputs": [
    {
     "ename": "NameError",
     "evalue": "name 'arange' is not defined",
     "output_type": "error",
     "traceback": [
      "\u001b[0;31m---------------------------------------------------------------------------\u001b[0m",
      "\u001b[0;31mNameError\u001b[0m                                 Traceback (most recent call last)",
      "\u001b[0;32m<ipython-input-244-b543ddd647ca>\u001b[0m in \u001b[0;36m<module>\u001b[0;34m\u001b[0m\n\u001b[0;32m----> 1\u001b[0;31m \u001b[0marange\u001b[0m\u001b[0;34m(\u001b[0m\u001b[0;36m5\u001b[0m\u001b[0;34m)\u001b[0m\u001b[0;34m\u001b[0m\u001b[0;34m\u001b[0m\u001b[0m\n\u001b[0m",
      "\u001b[0;31mNameError\u001b[0m: name 'arange' is not defined"
     ]
    }
   ],
   "source": [
    "arange(5)"
   ]
  },
  {
   "cell_type": "markdown",
   "id": "8da8c00f-bda9-4da8-b42f-4e7e8ed30005",
   "metadata": {},
   "source": [
    "Why did this error occur?\n",
    "Open up a Google browser and search for \"python arange\""
   ]
  },
  {
   "cell_type": "code",
   "execution_count": 245,
   "id": "23989d91-4315-4323-8837-0fe749f6c561",
   "metadata": {},
   "outputs": [],
   "source": [
    "import numpy as np"
   ]
  },
  {
   "cell_type": "code",
   "execution_count": 246,
   "id": "c852c149-87dd-4807-8a35-6de86144b540",
   "metadata": {},
   "outputs": [
    {
     "data": {
      "text/plain": [
       "array([0, 1, 2, 3, 4])"
      ]
     },
     "execution_count": 246,
     "metadata": {},
     "output_type": "execute_result"
    }
   ],
   "source": [
    "np.arange(5)"
   ]
  },
  {
   "cell_type": "markdown",
   "id": "50918079-bab3-4895-bc81-163a93632c8e",
   "metadata": {},
   "source": [
    "What type of Python Data Type is <b>np.arange(5)</b>?"
   ]
  },
  {
   "cell_type": "code",
   "execution_count": 247,
   "id": "8b6caeb0-0964-40ea-a75b-a77714482487",
   "metadata": {},
   "outputs": [],
   "source": [
    "#Your answer here."
   ]
  },
  {
   "cell_type": "code",
   "execution_count": 248,
   "id": "c6fe222b-2b4b-4ead-9376-711cfe786ab0",
   "metadata": {},
   "outputs": [
    {
     "data": {
      "text/plain": [
       "dtype('int64')"
      ]
     },
     "execution_count": 248,
     "metadata": {},
     "output_type": "execute_result"
    }
   ],
   "source": [
    "np.arange(5).dtype #What exactly is this Python statement telling you?"
   ]
  },
  {
   "cell_type": "code",
   "execution_count": 249,
   "id": "740f6b61-91c4-4646-904b-482458e7a4c3",
   "metadata": {},
   "outputs": [
    {
     "data": {
      "text/plain": [
       "10"
      ]
     },
     "execution_count": 249,
     "metadata": {},
     "output_type": "execute_result"
    }
   ],
   "source": [
    "np.arange(5).sum()"
   ]
  },
  {
   "cell_type": "code",
   "execution_count": 250,
   "id": "b7df320d-0d18-43c2-b912-b440a69f3e7f",
   "metadata": {},
   "outputs": [
    {
     "data": {
      "text/plain": [
       "2.0"
      ]
     },
     "execution_count": 250,
     "metadata": {},
     "output_type": "execute_result"
    }
   ],
   "source": [
    "np.arange(5).mean()"
   ]
  },
  {
   "cell_type": "code",
   "execution_count": 251,
   "id": "9dd8bf49-71ac-49aa-ad95-12ba231f9212",
   "metadata": {},
   "outputs": [],
   "source": [
    "testlist=[0,1,2,3,4]"
   ]
  },
  {
   "cell_type": "code",
   "execution_count": 252,
   "id": "d3b450a2-96a6-4536-855b-4188a0501156",
   "metadata": {},
   "outputs": [
    {
     "data": {
      "text/plain": [
       "5"
      ]
     },
     "execution_count": 252,
     "metadata": {},
     "output_type": "execute_result"
    }
   ],
   "source": [
    "len(testlist)"
   ]
  },
  {
   "cell_type": "code",
   "execution_count": 253,
   "id": "d750c9f2-25f8-4015-8d59-a69a38610446",
   "metadata": {},
   "outputs": [
    {
     "data": {
      "text/plain": [
       "10"
      ]
     },
     "execution_count": 253,
     "metadata": {},
     "output_type": "execute_result"
    }
   ],
   "source": [
    "sum(testlist)"
   ]
  },
  {
   "cell_type": "code",
   "execution_count": 254,
   "id": "14d01031-782e-4e9f-a3df-599905e1402f",
   "metadata": {},
   "outputs": [
    {
     "ename": "NameError",
     "evalue": "name 'mean' is not defined",
     "output_type": "error",
     "traceback": [
      "\u001b[0;31m---------------------------------------------------------------------------\u001b[0m",
      "\u001b[0;31mNameError\u001b[0m                                 Traceback (most recent call last)",
      "\u001b[0;32m<ipython-input-254-f0d5527eb944>\u001b[0m in \u001b[0;36m<module>\u001b[0;34m\u001b[0m\n\u001b[0;32m----> 1\u001b[0;31m \u001b[0mmean\u001b[0m\u001b[0;34m(\u001b[0m\u001b[0mtestlist\u001b[0m\u001b[0;34m)\u001b[0m\u001b[0;34m\u001b[0m\u001b[0;34m\u001b[0m\u001b[0m\n\u001b[0m",
      "\u001b[0;31mNameError\u001b[0m: name 'mean' is not defined"
     ]
    }
   ],
   "source": [
    "mean(testlist)"
   ]
  },
  {
   "cell_type": "markdown",
   "id": "673ed608-acb4-4d3a-9ae6-2fe3e9339667",
   "metadata": {},
   "source": [
    "While the Python functions <b>len</b> and <b>sum</b>, it appears that the Python function <b>mean></b> does not exist? Is there a way to calucate the arithmetic mean of this list using on the the Python <b>len</b> and <b>sum</b> functions?"
   ]
  },
  {
   "cell_type": "markdown",
   "id": "abf286fb-f351-4991-b35a-682517b2964d",
   "metadata": {},
   "source": [
    "#Calculate the arithmetic mean of the list 'testlist' with the <b>len</b> & <b>sum</b> functions."
   ]
  },
  {
   "cell_type": "code",
   "execution_count": 255,
   "id": "650c3f4e-50ae-4bdd-9149-1b79fe3cd6a6",
   "metadata": {},
   "outputs": [],
   "source": [
    "#Your answer here."
   ]
  },
  {
   "cell_type": "code",
   "execution_count": 256,
   "id": "305b5676-334b-424b-9d5e-47dda270d641",
   "metadata": {},
   "outputs": [
    {
     "data": {
      "text/plain": [
       "[0, 1, '2', 3]"
      ]
     },
     "execution_count": 256,
     "metadata": {},
     "output_type": "execute_result"
    }
   ],
   "source": [
    "testlist2=[0,1,'2',3]\n",
    "testlist2"
   ]
  },
  {
   "cell_type": "code",
   "execution_count": 257,
   "id": "6b1139ea-4060-492b-b744-c4b48b7ffbe2",
   "metadata": {},
   "outputs": [
    {
     "ename": "TypeError",
     "evalue": "unsupported operand type(s) for +: 'int' and 'str'",
     "output_type": "error",
     "traceback": [
      "\u001b[0;31m---------------------------------------------------------------------------\u001b[0m",
      "\u001b[0;31mTypeError\u001b[0m                                 Traceback (most recent call last)",
      "\u001b[0;32m<ipython-input-257-130c102c1bb6>\u001b[0m in \u001b[0;36m<module>\u001b[0;34m\u001b[0m\n\u001b[0;32m----> 1\u001b[0;31m \u001b[0msum\u001b[0m\u001b[0;34m(\u001b[0m\u001b[0mtestlist2\u001b[0m\u001b[0;34m)\u001b[0m\u001b[0;34m\u001b[0m\u001b[0;34m\u001b[0m\u001b[0m\n\u001b[0m",
      "\u001b[0;31mTypeError\u001b[0m: unsupported operand type(s) for +: 'int' and 'str'"
     ]
    }
   ],
   "source": [
    "sum(testlist2)"
   ]
  },
  {
   "cell_type": "markdown",
   "id": "0038cd12-8d4d-43e6-a8f0-c03bd1e379e3",
   "metadata": {},
   "source": [
    "<b>EXTRA CREDIT</b>: Can you interpret what is happening in the cell below?\n",
    "\n",
    "<b>HINT</b>: Do a Google search on \"Basic Python list comprehension\"\n",
    "The datacamp.com page provides a good explanation of \"list comprehension\".\n",
    "Don't stress if you can't understand list comprehension at this time. This is simply an EXTRA CREDIT exercise."
   ]
  },
  {
   "cell_type": "code",
   "execution_count": 258,
   "id": "dc202048-0bf8-457d-8099-d32d20dd86d0",
   "metadata": {},
   "outputs": [
    {
     "data": {
      "text/plain": [
       "[0, 1, 2, 3, 4]"
      ]
     },
     "execution_count": 258,
     "metadata": {},
     "output_type": "execute_result"
    }
   ],
   "source": [
    "xsum=[i for i in range(5)] #OH NO! This is getting complicated and confusing.\n",
    "xsum"
   ]
  },
  {
   "cell_type": "markdown",
   "id": "83a4538f-9912-4a0e-80f1-01b8073646f5",
   "metadata": {
    "slideshow": {
     "slide_type": "slide"
    },
    "tags": []
   },
   "source": [
    "<b>Conclusion</b>\n",
    "\n",
    "Attempt to perform hands-on concepts in this Jupyter Notebook using the Jupyter Console or Jupyter Terminal.\n",
    "\n",
    "Remember, for many of these concepts, you are using the Jupyter Notebook as a form of \"learning Python with training wheels\".\n",
    "\n",
    "To move off of these \"training wheels\" and move more quicky and flexibly use the Jupyter Console and then fly 100% solo (no training wheels!) by activating <b>ipython3</b> in a Jupyter terminal tab."
   ]
  },
  {
   "cell_type": "code",
   "execution_count": 259,
   "id": "b3463413-1163-4029-aeaa-195bf253f676",
   "metadata": {},
   "outputs": [],
   "source": [
    "from datascience import *\n",
    "data=Table.read_table('/home/abcaslow/heartrate.csv')"
   ]
  },
  {
   "cell_type": "code",
   "execution_count": 260,
   "id": "0ffd7e8b-b4fa-4344-bdd7-ad526865b667",
   "metadata": {},
   "outputs": [
    {
     "data": {
      "text/plain": [
       "12175"
      ]
     },
     "execution_count": 260,
     "metadata": {},
     "output_type": "execute_result"
    }
   ],
   "source": [
    "len(data[1])"
   ]
  },
  {
   "cell_type": "code",
   "execution_count": 261,
   "id": "b3890f8a-737b-41ca-8915-045a5f4f127a",
   "metadata": {},
   "outputs": [],
   "source": [
    "hb=data[1]\n",
    "workout=hb[hb>145]"
   ]
  },
  {
   "cell_type": "code",
   "execution_count": 262,
   "id": "fdfcc269-25ae-4e4b-b9fb-f2f386698e6c",
   "metadata": {},
   "outputs": [
    {
     "data": {
      "text/html": [
       "<table border=\"1\" class=\"dataframe\">\n",
       "    <thead>\n",
       "        <tr>\n",
       "            <th>timestamp</th> <th>heartrate</th>\n",
       "        </tr>\n",
       "    </thead>\n",
       "    <tbody>\n",
       "        <tr>\n",
       "            <td>2020-10-01 20:42:22 -0400</td> <td>99       </td>\n",
       "        </tr>\n",
       "        <tr>\n",
       "            <td>2020-10-01 20:47:46 -0400</td> <td>67       </td>\n",
       "        </tr>\n",
       "        <tr>\n",
       "            <td>2020-10-01 20:50:14 -0400</td> <td>107      </td>\n",
       "        </tr>\n",
       "        <tr>\n",
       "            <td>2020-10-01 20:50:19 -0400</td> <td>107      </td>\n",
       "        </tr>\n",
       "        <tr>\n",
       "            <td>2020-10-01 20:57:39 -0400</td> <td>63       </td>\n",
       "        </tr>\n",
       "        <tr>\n",
       "            <td>2020-10-01 21:02:07 -0400</td> <td>57       </td>\n",
       "        </tr>\n",
       "        <tr>\n",
       "            <td>2020-10-01 21:05:08 -0400</td> <td>67       </td>\n",
       "        </tr>\n",
       "        <tr>\n",
       "            <td>2020-10-01 21:11:29 -0400</td> <td>77       </td>\n",
       "        </tr>\n",
       "        <tr>\n",
       "            <td>2020-10-01 21:16:27 -0400</td> <td>70       </td>\n",
       "        </tr>\n",
       "        <tr>\n",
       "            <td>2020-10-01 21:20:14 -0400</td> <td>74       </td>\n",
       "        </tr>\n",
       "    </tbody>\n",
       "</table>\n",
       "<p>... (12165 rows omitted)</p>"
      ],
      "text/plain": [
       "timestamp                 | heartrate\n",
       "2020-10-01 20:42:22 -0400 | 99\n",
       "2020-10-01 20:47:46 -0400 | 67\n",
       "2020-10-01 20:50:14 -0400 | 107\n",
       "2020-10-01 20:50:19 -0400 | 107\n",
       "2020-10-01 20:57:39 -0400 | 63\n",
       "2020-10-01 21:02:07 -0400 | 57\n",
       "2020-10-01 21:05:08 -0400 | 67\n",
       "2020-10-01 21:11:29 -0400 | 77\n",
       "2020-10-01 21:16:27 -0400 | 70\n",
       "2020-10-01 21:20:14 -0400 | 74\n",
       "... (12165 rows omitted)"
      ]
     },
     "execution_count": 262,
     "metadata": {},
     "output_type": "execute_result"
    }
   ],
   "source": [
    "len(workout)\n",
    "data"
   ]
  },
  {
   "cell_type": "code",
   "execution_count": 263,
   "id": "2cfbaf13-e116-42fa-bb7c-604b5dd1b18a",
   "metadata": {},
   "outputs": [
    {
     "data": {
      "text/html": [
       "<table border=\"1\" class=\"dataframe\">\n",
       "    <thead>\n",
       "        <tr>\n",
       "            <th>timestamp</th> <th>heartrate</th>\n",
       "        </tr>\n",
       "    </thead>\n",
       "    <tbody>\n",
       "        <tr>\n",
       "            <td>2020-10-02 11:03:00 -0400</td> <td>112      </td>\n",
       "        </tr>\n",
       "        <tr>\n",
       "            <td>2020-10-02 11:07:44 -0400</td> <td>102      </td>\n",
       "        </tr>\n",
       "        <tr>\n",
       "            <td>2020-10-02 11:03:53 -0400</td> <td>106      </td>\n",
       "        </tr>\n",
       "        <tr>\n",
       "            <td>2020-10-02 11:28:32 -0400</td> <td>112      </td>\n",
       "        </tr>\n",
       "        <tr>\n",
       "            <td>2020-10-02 11:29:37 -0400</td> <td>100      </td>\n",
       "        </tr>\n",
       "        <tr>\n",
       "            <td>2020-10-02 11:40:21 -0400</td> <td>113      </td>\n",
       "        </tr>\n",
       "    </tbody>\n",
       "</table>"
      ],
      "text/plain": [
       "timestamp                 | heartrate\n",
       "2020-10-02 11:03:00 -0400 | 112\n",
       "2020-10-02 11:07:44 -0400 | 102\n",
       "2020-10-02 11:03:53 -0400 | 106\n",
       "2020-10-02 11:28:32 -0400 | 112\n",
       "2020-10-02 11:29:37 -0400 | 100\n",
       "2020-10-02 11:40:21 -0400 | 113"
      ]
     },
     "execution_count": 263,
     "metadata": {},
     "output_type": "execute_result"
    }
   ],
   "source": [
    "data.where(data[1], are.above(145)) # marbles.where(\"Price\", are.above(1.5)\n",
    "#data.where(data[1], are.between(145, 250))\n",
    "#data.where(data[1], are.between(145, 250)).where(data[0],are.containing('10-02 09'))\n",
    "date=data.where(data[0],are.containing('10-02 11:'))\n",
    "workout=date.where(date[1], are.between(100,160))\n",
    "workout"
   ]
  },
  {
   "cell_type": "code",
   "execution_count": 264,
   "id": "d460f822-14c3-49fb-a347-7d0d57fb26c0",
   "metadata": {},
   "outputs": [
    {
     "data": {
      "text/html": [
       "<table border=\"1\" class=\"dataframe\">\n",
       "    <thead>\n",
       "        <tr>\n",
       "            <th>timestamp</th> <th>heartrate</th>\n",
       "        </tr>\n",
       "    </thead>\n",
       "    <tbody>\n",
       "        <tr>\n",
       "            <td>2020-10-02 11:03:00 -0400</td> <td>112      </td>\n",
       "        </tr>\n",
       "        <tr>\n",
       "            <td>2020-10-02 11:07:44 -0400</td> <td>102      </td>\n",
       "        </tr>\n",
       "        <tr>\n",
       "            <td>2020-10-02 11:03:53 -0400</td> <td>106      </td>\n",
       "        </tr>\n",
       "        <tr>\n",
       "            <td>2020-10-02 11:28:32 -0400</td> <td>112      </td>\n",
       "        </tr>\n",
       "        <tr>\n",
       "            <td>2020-10-02 11:29:37 -0400</td> <td>100      </td>\n",
       "        </tr>\n",
       "        <tr>\n",
       "            <td>2020-10-02 11:40:21 -0400</td> <td>113      </td>\n",
       "        </tr>\n",
       "    </tbody>\n",
       "</table>"
      ],
      "text/plain": [
       "<IPython.core.display.HTML object>"
      ]
     },
     "metadata": {},
     "output_type": "display_data"
    }
   ],
   "source": [
    "workout[1].mean()\n",
    "len(workout[1])\n",
    "workout.show(148)"
   ]
  },
  {
   "cell_type": "code",
   "execution_count": 265,
   "id": "0ae60ec5-5465-4cb5-b214-0fc98a944399",
   "metadata": {},
   "outputs": [
    {
     "data": {
      "image/png": "[encoded data removed]",
      "text/plain": [
       "<Figure size 432x288 with 1 Axes>"
      ]
     },
     "metadata": {
      "needs_background": "light"
     },
     "output_type": "display_data"
    }
   ],
   "source": [
    "import matplotlib.pyplot as plt\n",
    "%matplotlib inline\n",
    "workout.bar('timestamp')\n",
    "plt.xticks(rotation=90)\n",
    "plt.grid(True)"
   ]
  },
  {
   "cell_type": "code",
   "execution_count": null,
   "id": "9bea8f84-36f3-4d56-a925-c6cb8b950dd7",
   "metadata": {},
   "outputs": [],
   "source": []
  },
  {
   "cell_type": "code",
   "execution_count": null,
   "id": "c4c1ff2f-9ea4-4d0b-b3b7-7b15390775a3",
   "metadata": {},
   "outputs": [],
   "source": []
  }
 ],
 "metadata": {
  "kernelspec": {
   "display_name": "Python 3",
   "language": "python",
   "name": "python3"
  },
  "language_info": {
   "codemirror_mode": {
    "name": "ipython",
    "version": 3
   },
   "file_extension": ".py",
   "mimetype": "text/x-python",
   "name": "python",
   "nbconvert_exporter": "python",
   "pygments_lexer": "ipython3",
   "version": "3.6.9"
  },
  "toc-autonumbering": true,
  "toc-showcode": true,
  "toc-showmarkdowntxt": true
 },
 "nbformat": 4,
 "nbformat_minor": 5
}
