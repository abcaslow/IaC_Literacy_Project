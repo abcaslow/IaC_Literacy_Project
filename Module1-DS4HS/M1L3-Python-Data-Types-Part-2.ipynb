{
 "cells": [
  {
   "cell_type": "markdown",
   "id": "db40f90a-dbfa-4c69-b0bb-f087ee5326de",
   "metadata": {},
   "source": [
    "Reference:\n",
    "https://inferentialthinking.com/chapters/04/Data_Types.html"
   ]
  },
  {
   "cell_type": "markdown",
   "id": "2bf40290-72af-4ac2-8015-b50347f13773",
   "metadata": {},
   "source": [
    "Let's start with inspecting the <b>heartrate_datascience_demo1.csv</b> file by clicking on the file name over in the left column of file names. The csv file data will appear in a new and separate Jupyter browser tab."
   ]
  },
  {
   "cell_type": "markdown",
   "id": "0077a69d-1a89-48c2-a27f-75c9ff1554e2",
   "metadata": {},
   "source": [
    "Let's begin the process importing the <b>heartrate_datascience_demo1.csv</b> file into Python using a Python <b>csv module</b>"
   ]
  },
  {
   "cell_type": "code",
   "execution_count": 1,
   "id": "50c38f2f-7050-43cf-80cc-991eaecd7eda",
   "metadata": {},
   "outputs": [],
   "source": [
    "import csv"
   ]
  },
  {
   "cell_type": "markdown",
   "id": "158bfe36-d3a8-42cf-b1f4-a05147e00daf",
   "metadata": {},
   "source": [
    "Let's use the following 5 line Python function that uses the csv module and auto-generates a Python <b>List of Dictionaries</b> data structure . At this stage of your DS4HS studies, do not attempt to understand every line of the following function that generates a <b> list of dictonaries</b> data structure. Scan through it to attain a high level understanding of the function. A detailed explanation of each line of this function will supplied in a future DS4HS lesson."
   ]
  },
  {
   "cell_type": "code",
   "execution_count": 2,
   "id": "47a5b177-6b6b-49ef-a6aa-6ed941b1b860",
   "metadata": {},
   "outputs": [],
   "source": [
    "def read_csv_file_as_lod(filename):  #define the function name & input variables.\n",
    "    f = open(filename) #open the desired csv file with the specified filename.\n",
    "    csv_reader = csv.reader(f) #read the csv file into the Python csv_reader\n",
    "    headers = next(csv_reader) #pull out the csv column names & make them headers\n",
    "    print(\"Function executing. Enter 'heartlist' to review contents\")\n",
    "    return [dict(zip(headers,row)) for row in csv_reader if len(row)>0]\n"
   ]
  },
  {
   "cell_type": "code",
   "execution_count": 3,
   "id": "b9d4f045-a338-49cb-9086-fc4fe93d6993",
   "metadata": {},
   "outputs": [
    {
     "data": {
      "text/plain": [
       "'/home/abcaslow/IaC_Literacy_Project/Module1-DS4HS'"
      ]
     },
     "execution_count": 3,
     "metadata": {},
     "output_type": "execute_result"
    }
   ],
   "source": [
    "pwd"
   ]
  },
  {
   "cell_type": "code",
   "execution_count": 4,
   "id": "b139199f-482d-4aeb-8b0c-6055bf568ceb",
   "metadata": {},
   "outputs": [
    {
     "name": "stdout",
     "output_type": "stream",
     "text": [
      "Function executing. Enter 'heartlist' to review contents\n"
     ]
    }
   ],
   "source": [
    "heartlist = read_csv_file_as_lod('heartrate_datascience_demo1.csv')\n"
   ]
  },
  {
   "cell_type": "code",
   "execution_count": 5,
   "id": "4fbfb432-cc32-445f-8f35-33eb7cac9ee0",
   "metadata": {},
   "outputs": [
    {
     "data": {
      "text/plain": [
       "[{'timestamp': '2020-10-01 20:42:22 -0400', 'heartrate': '99'},\n",
       " {'timestamp': '2020-10-01 20:47:46 -0400', 'heartrate': '67'},\n",
       " {'timestamp': '2020-10-01 20:50:14 -0400', 'heartrate': '107'},\n",
       " {'timestamp': '2020-10-01 20:50:19 -0400', 'heartrate': '107'},\n",
       " {'timestamp': '2020-10-01 20:57:39 -0400', 'heartrate': '63'},\n",
       " {'timestamp': '2020-10-01 21:02:07 -0400', 'heartrate': '57'},\n",
       " {'timestamp': '2020-10-01 21:05:08 -0400', 'heartrate': '67'},\n",
       " {'timestamp': '2020-10-01 21:11:29 -0400', 'heartrate': '77'},\n",
       " {'timestamp': '2020-10-01 21:16:27 -0400', 'heartrate': '70'}]"
      ]
     },
     "execution_count": 5,
     "metadata": {},
     "output_type": "execute_result"
    }
   ],
   "source": [
    "heartlist"
   ]
  },
  {
   "cell_type": "markdown",
   "id": "9586ea8e-3c1f-4fb2-a24b-cb925f46714f",
   "metadata": {},
   "source": [
    "Wonderful! Notice our csv file has been imported into Python as a list of dictionaries of strings. Let's repeat that:\n",
    "1. A list\n",
    "1. of dictionaries\n",
    "1. of strings\n",
    "\n",
    "Examine each row of this data structure carefully. We don't want all of our data to be strings. We want our heartrate data to be either a Python integer or float data type. While this can be changed with some additional Python programming, notice how easily the combination of the Berkeley datascience module + numpy automatically auto-detects the correct Python data-type and imports the heartrate data as either an integer or float. Only three commands are needed to accomplish this:\n",
    "\n",
    "1. from datascience import Table\n",
    "1. import numpy as np\n",
    "1. heartarray=Table.read_table(\"heartrate_datascience_demo1.csv\")\n"
   ]
  },
  {
   "cell_type": "code",
   "execution_count": 6,
   "id": "4783ff83-225d-4cc1-be9d-9c05f6f8d91d",
   "metadata": {},
   "outputs": [
    {
     "data": {
      "text/html": [
       "<table border=\"1\" class=\"dataframe\">\n",
       "    <thead>\n",
       "        <tr>\n",
       "            <th>timestamp</th> <th>heartrate</th>\n",
       "        </tr>\n",
       "    </thead>\n",
       "    <tbody>\n",
       "        <tr>\n",
       "            <td>2020-10-01 20:42:22 -0400</td> <td>99       </td>\n",
       "        </tr>\n",
       "        <tr>\n",
       "            <td>2020-10-01 20:47:46 -0400</td> <td>67       </td>\n",
       "        </tr>\n",
       "        <tr>\n",
       "            <td>2020-10-01 20:50:14 -0400</td> <td>107      </td>\n",
       "        </tr>\n",
       "        <tr>\n",
       "            <td>2020-10-01 20:50:19 -0400</td> <td>107      </td>\n",
       "        </tr>\n",
       "        <tr>\n",
       "            <td>2020-10-01 20:57:39 -0400</td> <td>63       </td>\n",
       "        </tr>\n",
       "        <tr>\n",
       "            <td>2020-10-01 21:02:07 -0400</td> <td>57       </td>\n",
       "        </tr>\n",
       "        <tr>\n",
       "            <td>2020-10-01 21:05:08 -0400</td> <td>67       </td>\n",
       "        </tr>\n",
       "        <tr>\n",
       "            <td>2020-10-01 21:11:29 -0400</td> <td>77       </td>\n",
       "        </tr>\n",
       "        <tr>\n",
       "            <td>2020-10-01 21:16:27 -0400</td> <td>70       </td>\n",
       "        </tr>\n",
       "    </tbody>\n",
       "</table>"
      ],
      "text/plain": [
       "timestamp                 | heartrate\n",
       "2020-10-01 20:42:22 -0400 | 99\n",
       "2020-10-01 20:47:46 -0400 | 67\n",
       "2020-10-01 20:50:14 -0400 | 107\n",
       "2020-10-01 20:50:19 -0400 | 107\n",
       "2020-10-01 20:57:39 -0400 | 63\n",
       "2020-10-01 21:02:07 -0400 | 57\n",
       "2020-10-01 21:05:08 -0400 | 67\n",
       "2020-10-01 21:11:29 -0400 | 77\n",
       "2020-10-01 21:16:27 -0400 | 70"
      ]
     },
     "execution_count": 6,
     "metadata": {},
     "output_type": "execute_result"
    }
   ],
   "source": [
    "from datascience import Table\n",
    "import numpy as np\n",
    "heartarrays=Table.read_table(\"heartrate_datascience_demo1.csv\")\n",
    "heartarrays"
   ]
  },
  {
   "cell_type": "markdown",
   "id": "38ab2255-b827-4b72-bcf6-072d73ac7c97",
   "metadata": {},
   "source": [
    "Notice how the data in the <b>heartlist</b> \"list of dictionaries\" is 100% identical to the Berkeley datascience Table <b>heartarrays</b>.\n",
    "\n",
    "Next, examine how the Python list of dictionaries can display a single line of its table data AND how the Python table of arrays can do the same with the <b> .row() </b> Berkeley datascience method. "
   ]
  },
  {
   "cell_type": "code",
   "execution_count": 7,
   "id": "1ffe2241-16e8-4ae8-9278-1dc24a052eb4",
   "metadata": {},
   "outputs": [
    {
     "data": {
      "text/plain": [
       "{'timestamp': '2020-10-01 20:42:22 -0400', 'heartrate': '99'}"
      ]
     },
     "execution_count": 7,
     "metadata": {},
     "output_type": "execute_result"
    }
   ],
   "source": [
    "heartlist[0]"
   ]
  },
  {
   "cell_type": "code",
   "execution_count": 8,
   "id": "ab74b519-c1e4-4d2d-90fc-b65b18f9ca93",
   "metadata": {},
   "outputs": [
    {
     "data": {
      "text/plain": [
       "Row(timestamp='2020-10-01 20:42:22 -0400', heartrate=99)"
      ]
     },
     "execution_count": 8,
     "metadata": {},
     "output_type": "execute_result"
    }
   ],
   "source": [
    "heartarrays.row(0)"
   ]
  },
  {
   "cell_type": "markdown",
   "id": "0c3994d6-a16a-4118-a48b-62964b5a980a",
   "metadata": {},
   "source": [
    "However, note how <b>heartlist[0]</b> and <heararrays[0]</b> generate different output:\n",
    "\n",
    "1. <b>heartlist[0]</b> generates <b>a single row </b>out of 10 total rows of data\n",
    "2. <b> heartarrays[0]</b> generates <b>a single column </b>of a 10 item array of timestamps values only"
   ]
  },
  {
   "cell_type": "code",
   "execution_count": 9,
   "id": "726c0d2f-6ef8-4d88-8f6d-1e24d365826c",
   "metadata": {},
   "outputs": [
    {
     "data": {
      "text/plain": [
       "{'timestamp': '2020-10-01 20:42:22 -0400', 'heartrate': '99'}"
      ]
     },
     "execution_count": 9,
     "metadata": {},
     "output_type": "execute_result"
    }
   ],
   "source": [
    "heartlist[0]"
   ]
  },
  {
   "cell_type": "code",
   "execution_count": 10,
   "id": "49751916-6fba-4892-a42a-45741b11e26e",
   "metadata": {},
   "outputs": [
    {
     "data": {
      "text/plain": [
       "array(['2020-10-01 20:42:22 -0400', '2020-10-01 20:47:46 -0400',\n",
       "       '2020-10-01 20:50:14 -0400', '2020-10-01 20:50:19 -0400',\n",
       "       '2020-10-01 20:57:39 -0400', '2020-10-01 21:02:07 -0400',\n",
       "       '2020-10-01 21:05:08 -0400', '2020-10-01 21:11:29 -0400',\n",
       "       '2020-10-01 21:16:27 -0400'], dtype='<U25')"
      ]
     },
     "execution_count": 10,
     "metadata": {},
     "output_type": "execute_result"
    }
   ],
   "source": [
    "heartarrays[0]"
   ]
  },
  {
   "cell_type": "code",
   "execution_count": 11,
   "id": "23e97b0e-52df-4fc7-a5f2-919874252f24",
   "metadata": {},
   "outputs": [
    {
     "data": {
      "text/plain": [
       "array([ 99,  67, 107, 107,  63,  57,  67,  77,  70])"
      ]
     },
     "execution_count": 11,
     "metadata": {},
     "output_type": "execute_result"
    }
   ],
   "source": [
    "heartarrays[1]"
   ]
  },
  {
   "cell_type": "code",
   "execution_count": 12,
   "id": "7af69479-adc4-4dba-b2ce-73d7fc719fb1",
   "metadata": {},
   "outputs": [
    {
     "data": {
      "text/plain": [
       "'99'"
      ]
     },
     "execution_count": 12,
     "metadata": {},
     "output_type": "execute_result"
    }
   ],
   "source": [
    "heartlist[0]['heartrate'] #Notice the quotes around the output: It is a string."
   ]
  },
  {
   "cell_type": "code",
   "execution_count": 13,
   "id": "9416d061-d3e4-4420-accb-b0104086a310",
   "metadata": {},
   "outputs": [
    {
     "data": {
      "text/plain": [
       "str"
      ]
     },
     "execution_count": 13,
     "metadata": {},
     "output_type": "execute_result"
    }
   ],
   "source": [
    "type(heartlist[0]['heartrate'])"
   ]
  },
  {
   "cell_type": "code",
   "execution_count": 14,
   "id": "0f5c7800-3ef0-4f65-8684-623e4fad02f7",
   "metadata": {},
   "outputs": [
    {
     "data": {
      "text/plain": [
       "99"
      ]
     },
     "execution_count": 14,
     "metadata": {},
     "output_type": "execute_result"
    }
   ],
   "source": [
    "heartarrays[1][0] #Notice no quotes around the output. It is NOT a string."
   ]
  },
  {
   "cell_type": "code",
   "execution_count": 15,
   "id": "83d2ed96-6ba6-4f47-9fe7-5b0030979ac0",
   "metadata": {},
   "outputs": [
    {
     "data": {
      "text/plain": [
       "numpy.int64"
      ]
     },
     "execution_count": 15,
     "metadata": {},
     "output_type": "execute_result"
    }
   ],
   "source": [
    "type(heartarrays[1][0]) #It is a 64-bit integer."
   ]
  },
  {
   "cell_type": "code",
   "execution_count": 16,
   "id": "b40905b4-205f-4528-9b63-8bbbd8c5dcce",
   "metadata": {},
   "outputs": [
    {
     "data": {
      "text/plain": [
       "79.33333333333333"
      ]
     },
     "execution_count": 16,
     "metadata": {},
     "output_type": "execute_result"
    }
   ],
   "source": [
    "np.sum(heartarrays[1]) #Sum up all of all of the elements of a numpy array. EASY! \n",
    "np.min(heartarrays[1])\n",
    "np.mean(heartarrays[1])"
   ]
  },
  {
   "cell_type": "code",
   "execution_count": 17,
   "id": "644531f6-5a8e-4213-ae4b-cea0cef35012",
   "metadata": {},
   "outputs": [
    {
     "data": {
      "text/plain": [
       "79.33333333333333"
      ]
     },
     "execution_count": 17,
     "metadata": {},
     "output_type": "execute_result"
    }
   ],
   "source": [
    "#for i in heartlist: print (i['heartrate'], type(i['heartrate']))\n",
    "#for i in heartlist: print (int(i['heartrate']))\n",
    "sum([int(i['heartrate']) for i in heartlist])\n",
    "min([int(i['heartrate']) for i in heartlist])\n",
    "sum([int(i['heartrate']) for i in heartlist])/len(heartlist)"
   ]
  },
  {
   "cell_type": "code",
   "execution_count": 18,
   "id": "0b526e0f-b18b-49de-84f6-086c1d4df4bc",
   "metadata": {},
   "outputs": [
    {
     "data": {
      "text/html": [
       "<table border=\"1\" class=\"dataframe\">\n",
       "    <thead>\n",
       "        <tr>\n",
       "            <th>rank</th> <th>date</th> <th>company</th> <th>sector</th> <th>symbol</th> <th>market-cap</th> <th>ipo-date</th> <th>data-source</th>\n",
       "        </tr>\n",
       "    </thead>\n",
       "    <tbody>\n",
       "        <tr>\n",
       "            <td>1   </td> <td>10/6/2020</td> <td>Apple (G-MAFIA)    </td> <td>tech        </td> <td>aapl  </td> <td>1,961,893,457,891.00</td> <td>1980    </td> <td>nan          </td>\n",
       "        </tr>\n",
       "        <tr>\n",
       "            <td>2   </td> <td>10/6/2020</td> <td>Microsoft (G-MAFIA)</td> <td>tech        </td> <td>msft  </td> <td>1,558,255,456,943.00</td> <td>1986    </td> <td>nan          </td>\n",
       "        </tr>\n",
       "        <tr>\n",
       "            <td>3   </td> <td>10/6/2020</td> <td>Amazon (G-MAFIA)   </td> <td>tech/retail </td> <td>amzn  </td> <td>1,552,738,944,833.00</td> <td>1997    </td> <td>nan          </td>\n",
       "        </tr>\n",
       "        <tr>\n",
       "            <td>4   </td> <td>10/6/2020</td> <td>Alphabet  (G-MAFIA)</td> <td>tech        </td> <td>goog  </td> <td>987,972,107,020.00  </td> <td>2004    </td> <td>nan          </td>\n",
       "        </tr>\n",
       "        <tr>\n",
       "            <td>5   </td> <td>10/6/2020</td> <td>Facebook (G-MAFIA) </td> <td>tech        </td> <td>fb    </td> <td>736,874,498,332.00  </td> <td>2012    </td> <td>nan          </td>\n",
       "        </tr>\n",
       "        <tr>\n",
       "            <td>6   </td> <td>10/6/2020</td> <td>Berkshire Hathaway </td> <td>conglomorate</td> <td>brk.a </td> <td>501,657,518,600.00  </td> <td>nan     </td> <td>nan          </td>\n",
       "        </tr>\n",
       "        <tr>\n",
       "            <td>7   </td> <td>10/6/2020</td> <td>VISA               </td> <td>finance     </td> <td>v     </td> <td>426,530,532,756.00  </td> <td>2008    </td> <td>fool.com     </td>\n",
       "        </tr>\n",
       "        <tr>\n",
       "            <td>8   </td> <td>10/6/2020</td> <td>Walmart            </td> <td>retail      </td> <td>wmt   </td> <td>398,510,698,226.00  </td> <td>1972    </td> <td>nan          </td>\n",
       "        </tr>\n",
       "        <tr>\n",
       "            <td>9   </td> <td>10/6/2020</td> <td>Tesla              </td> <td>tech/auto   </td> <td>tsla  </td> <td>385,750,134,465.00  </td> <td>2010    </td> <td>bloomberg.com</td>\n",
       "        </tr>\n",
       "        <tr>\n",
       "            <td>10  </td> <td>10/6/2020</td> <td>Johnson & Johnson  </td> <td>consumer    </td> <td>jnj   </td> <td>385,076,677,517.00  </td> <td>1944    </td> <td>nan          </td>\n",
       "        </tr>\n",
       "    </tbody>\n",
       "</table>\n",
       "<p>... (44 rows omitted)</p>"
      ],
      "text/plain": [
       "rank | date      | company             | sector       | symbol | market-cap           | ipo-date | data-source\n",
       "1    | 10/6/2020 | Apple (G-MAFIA)     | tech         | aapl   | 1,961,893,457,891.00 | 1980     | nan\n",
       "2    | 10/6/2020 | Microsoft (G-MAFIA) | tech         | msft   | 1,558,255,456,943.00 | 1986     | nan\n",
       "3    | 10/6/2020 | Amazon (G-MAFIA)    | tech/retail  | amzn   | 1,552,738,944,833.00 | 1997     | nan\n",
       "4    | 10/6/2020 | Alphabet  (G-MAFIA) | tech         | goog   | 987,972,107,020.00   | 2004     | nan\n",
       "5    | 10/6/2020 | Facebook (G-MAFIA)  | tech         | fb     | 736,874,498,332.00   | 2012     | nan\n",
       "6    | 10/6/2020 | Berkshire Hathaway  | conglomorate | brk.a  | 501,657,518,600.00   | nan      | nan\n",
       "7    | 10/6/2020 | VISA                | finance      | v      | 426,530,532,756.00   | 2008     | fool.com\n",
       "8    | 10/6/2020 | Walmart             | retail       | wmt    | 398,510,698,226.00   | 1972     | nan\n",
       "9    | 10/6/2020 | Tesla               | tech/auto    | tsla   | 385,750,134,465.00   | 2010     | bloomberg.com\n",
       "10   | 10/6/2020 | Johnson & Johnson   | consumer     | jnj    | 385,076,677,517.00   | 1944     | nan\n",
       "... (44 rows omitted)"
      ]
     },
     "execution_count": 18,
     "metadata": {},
     "output_type": "execute_result"
    }
   ],
   "source": [
    "marketcap=Table.read_table('market-cap11.csv')\n",
    "marketcap50=Table.read_table('market-cap50.csv')\n",
    "marketcap50"
   ]
  },
  {
   "cell_type": "code",
   "execution_count": 21,
   "id": "42cfe72b-e447-49f9-ad58-fdf4b02d1b78",
   "metadata": {},
   "outputs": [
    {
     "data": {
      "image/png": "[encoded data removed]",
      "text/plain": [
       "<Figure size 432x612 with 1 Axes>"
      ]
     },
     "metadata": {
      "needs_background": "light"
     },
     "output_type": "display_data"
    }
   ],
   "source": [
    "mcap50cl=marketcap50.select('company','sector','market-cap')\n",
    "#marketcap50clean.column(2)\n",
    "zz=np.char.replace(mcap50cl[2],',','').astype(np.float)\n",
    "mcap50rev2=mcap50cl.drop(2).with_columns('market_cap',zz)\n",
    "import matplotlib.pyplot as plt\n",
    "#plt.grid(True)\n",
    "%matplotlib inline\n",
    "mcap50rev2.group('sector', np.sum).sort('market_cap sum', descending=True).drop(1).barh('sector')"
   ]
  },
  {
   "cell_type": "code",
   "execution_count": 22,
   "id": "a0157861-806a-40ca-9b72-419d2df1850f",
   "metadata": {},
   "outputs": [
    {
     "ename": "NameError",
     "evalue": "name 'marketcap50clean' is not defined",
     "output_type": "error",
     "traceback": [
      "\u001b[0;31m---------------------------------------------------------------------------\u001b[0m",
      "\u001b[0;31mNameError\u001b[0m                                 Traceback (most recent call last)",
      "\u001b[0;32m<ipython-input-22-d47a30ef4847>\u001b[0m in \u001b[0;36m<module>\u001b[0;34m\u001b[0m\n\u001b[1;32m      1\u001b[0m \u001b[0;31m#x=marketcap[5].astype(np.int)\u001b[0m\u001b[0;34m\u001b[0m\u001b[0;34m\u001b[0m\u001b[0;34m\u001b[0m\u001b[0m\n\u001b[1;32m      2\u001b[0m \u001b[0mx\u001b[0m\u001b[0;34m=\u001b[0m\u001b[0mmarketcap\u001b[0m\u001b[0;34m[\u001b[0m\u001b[0;36m5\u001b[0m\u001b[0;34m]\u001b[0m\u001b[0;34m\u001b[0m\u001b[0;34m\u001b[0m\u001b[0m\n\u001b[0;32m----> 3\u001b[0;31m \u001b[0mxx\u001b[0m\u001b[0;34m=\u001b[0m\u001b[0mmarketcap50clean\u001b[0m\u001b[0;34m[\u001b[0m\u001b[0;36m2\u001b[0m\u001b[0;34m]\u001b[0m\u001b[0;34m\u001b[0m\u001b[0;34m\u001b[0m\u001b[0m\n\u001b[0m\u001b[1;32m      4\u001b[0m \u001b[0mmarketcapNOcommas\u001b[0m\u001b[0;34m=\u001b[0m\u001b[0mnp\u001b[0m\u001b[0;34m.\u001b[0m\u001b[0mchar\u001b[0m\u001b[0;34m.\u001b[0m\u001b[0mreplace\u001b[0m\u001b[0;34m(\u001b[0m\u001b[0mx\u001b[0m\u001b[0;34m,\u001b[0m\u001b[0;34m','\u001b[0m\u001b[0;34m,\u001b[0m\u001b[0;34m''\u001b[0m\u001b[0;34m)\u001b[0m\u001b[0;34m\u001b[0m\u001b[0;34m\u001b[0m\u001b[0m\n\u001b[1;32m      5\u001b[0m \u001b[0my\u001b[0m\u001b[0;34m=\u001b[0m\u001b[0mmarketcapNOcommas\u001b[0m\u001b[0;34m.\u001b[0m\u001b[0mastype\u001b[0m\u001b[0;34m(\u001b[0m\u001b[0mnp\u001b[0m\u001b[0;34m.\u001b[0m\u001b[0mint\u001b[0m\u001b[0;34m)\u001b[0m\u001b[0;34m\u001b[0m\u001b[0;34m\u001b[0m\u001b[0m\n",
      "\u001b[0;31mNameError\u001b[0m: name 'marketcap50clean' is not defined"
     ]
    }
   ],
   "source": [
    "#x=marketcap[5].astype(np.int)\n",
    "x=marketcap[5]\n",
    "xx=marketcap50clean[2]\n",
    "marketcapNOcommas=np.char.replace(x,',','')\n",
    "y=marketcapNOcommas.astype(np.int)\n",
    "xx\n",
    "#marketcap50NOcommas=np.char.replace(xx,',','')\n",
    "#yy=marketcap50NOcommas.astype(np.float)\n",
    "marketcap50NOcommas=np.char.replace(xx,',','').astype(np.float)\n",
    "marketcap50NOcommas\n",
    "#y\n",
    "#yy\n",
    "#xx.dtype\n",
    "#yy.dtype\n",
    "#np.sum(yy)/1000000000000"
   ]
  },
  {
   "cell_type": "markdown",
   "id": "d7987388-b6d0-4be7-bd17-e4c3b3f64a7c",
   "metadata": {},
   "source": [
    "Explore the variable \"x\" with dir(x) and help(x).\n",
    "\n",
    "For dir(x), ignore all items listed the start with an underscore or double underscore"
   ]
  },
  {
   "cell_type": "code",
   "execution_count": null,
   "id": "9a33d4e7-9aa5-4567-bc44-7a8b40ec8c51",
   "metadata": {},
   "outputs": [],
   "source": []
  },
  {
   "cell_type": "code",
   "execution_count": null,
   "id": "8f190e75-e1c2-423d-a816-b1db25f522c7",
   "metadata": {},
   "outputs": [],
   "source": [
    "#dir(x)\n",
    "#help(str)\n",
    "#??str\n",
    "x=\"Robinson Secondary School Fairfax VA\"\n",
    "xlist=x.split()\n",
    "type(xlist)"
   ]
  },
  {
   "cell_type": "code",
   "execution_count": null,
   "id": "7ed1e8d8-63b2-4297-bf14-78af7ef8543a",
   "metadata": {},
   "outputs": [],
   "source": [
    "for i in xlist: print(i)"
   ]
  },
  {
   "cell_type": "markdown",
   "id": "25e05f91-a9e3-46e0-ad75-6447931fcc26",
   "metadata": {},
   "source": [
    "Explore the variable \"y\" with dir(y) and help(y).\n",
    "\n",
    "For dir(y), ignore all items listed the start with an underscore or double underscore"
   ]
  },
  {
   "cell_type": "code",
   "execution_count": null,
   "id": "a8647fb7-b6c0-4f19-859c-eb67f9053bd4",
   "metadata": {},
   "outputs": [],
   "source": [
    "#dir(y)\n",
    "#help(y)\n",
    "#?y\n",
    "#??y\n",
    "#help(int)\n",
    "#??int"
   ]
  },
  {
   "cell_type": "markdown",
   "id": "6bd0b201-51fd-454a-bb8a-aac80e051bbc",
   "metadata": {},
   "source": [
    "Explore the variable \"z\" with dir(z) and help(z).\n",
    "\n",
    "For dir(y), ignore all items listed the start with an underscore or double underscore"
   ]
  },
  {
   "cell_type": "markdown",
   "id": "a8871839-ff62-4af4-a44f-5709d9a84686",
   "metadata": {},
   "source": [
    "Explore the variable \"z\" with dir(z) and help(z).\n",
    "\n",
    "For dir(z), ignore all items listed the start with an underscore or double underscore"
   ]
  },
  {
   "cell_type": "code",
   "execution_count": null,
   "id": "8b3bc566-dc57-4280-b899-8da369916fc8",
   "metadata": {},
   "outputs": [],
   "source": [
    "from datascience import Table\n",
    "import numpy as kp"
   ]
  },
  {
   "cell_type": "code",
   "execution_count": null,
   "id": "37734143-d799-4cef-a6b9-d6884b3c57cf",
   "metadata": {},
   "outputs": [],
   "source": [
    "arraydata=Table.read_table('/home/abcaslow/heartrate.csv')\n",
    "arraydata.column('heartrate')[800:850]"
   ]
  },
  {
   "cell_type": "code",
   "execution_count": null,
   "id": "1b8252d1-2bc8-4ee4-a83e-b130b92cbd36",
   "metadata": {},
   "outputs": [],
   "source": [
    "#np.max(arraydata.column('timestamp')) # this generated an error\n",
    "np.max(arraydata.column('heartrate'))"
   ]
  },
  {
   "cell_type": "code",
   "execution_count": null,
   "id": "6d2706a4-9ef5-49d3-a8d3-fa255545fd8f",
   "metadata": {},
   "outputs": [],
   "source": [
    "arraydata.column('heartrate').dtype"
   ]
  },
  {
   "cell_type": "code",
   "execution_count": null,
   "id": "57898c1e-61ce-4bb2-a463-9c62087d32ca",
   "metadata": {},
   "outputs": [],
   "source": [
    "f=open('/home/abcaslow/heartrate.csv')"
   ]
  },
  {
   "cell_type": "code",
   "execution_count": null,
   "id": "dc22ff60-bc00-4570-9c0f-f61fe6133f3f",
   "metadata": {},
   "outputs": [],
   "source": [
    "s=f.read()"
   ]
  },
  {
   "cell_type": "code",
   "execution_count": null,
   "id": "c210b545-ff16-4b07-a0db-2001e155abb0",
   "metadata": {},
   "outputs": [],
   "source": [
    "type(s)"
   ]
  },
  {
   "cell_type": "code",
   "execution_count": null,
   "id": "c8714a4b-8591-4d74-8e51-87d9ffa847d7",
   "metadata": {},
   "outputs": [],
   "source": [
    "robowiz=s.split('\\n')"
   ]
  },
  {
   "cell_type": "code",
   "execution_count": null,
   "id": "8a0ea6df-47d4-4d9b-aa33-90855873761c",
   "metadata": {},
   "outputs": [],
   "source": [
    "del robowiz[10:]"
   ]
  },
  {
   "cell_type": "code",
   "execution_count": null,
   "id": "3c67c533-50b2-4fff-8046-746a712d89b3",
   "metadata": {},
   "outputs": [],
   "source": [
    "robowiz"
   ]
  },
  {
   "cell_type": "code",
   "execution_count": null,
   "id": "3c22dd51-3510-4a24-8366-5b390b4eed0e",
   "metadata": {},
   "outputs": [],
   "source": [
    "robowiz2=robowiz.split(',')\n",
    "robowiz2"
   ]
  },
  {
   "cell_type": "code",
   "execution_count": null,
   "id": "b1e051e7-4d0c-4d43-a29c-5a72641e7360",
   "metadata": {},
   "outputs": [],
   "source": [
    "for i in robowiz: \n",
    "    print(i.split(','))"
   ]
  },
  {
   "cell_type": "code",
   "execution_count": null,
   "id": "3e88b26a-dd58-4df5-aecc-1ee08a897f1a",
   "metadata": {},
   "outputs": [],
   "source": [
    "wiz=[i.split(',') for i in robowiz] # This is called \"list comprehension\""
   ]
  },
  {
   "cell_type": "code",
   "execution_count": null,
   "id": "5064d9ef-c71d-45dd-8561-9d5b660dcff3",
   "metadata": {},
   "outputs": [],
   "source": [
    "wiz # It's a list of lists of strings!!!!"
   ]
  },
  {
   "cell_type": "code",
   "execution_count": null,
   "id": "48cebcb5-6a13-4781-a3dd-4aed4d8e9f48",
   "metadata": {},
   "outputs": [],
   "source": [
    "wiz[0] # Print the first element of the outer list."
   ]
  },
  {
   "cell_type": "code",
   "execution_count": null,
   "id": "7d7d5b43-156b-4959-91bf-0a572d25d29f",
   "metadata": {},
   "outputs": [],
   "source": [
    "x=wiz[0][1] #Assign to x: the 2nd element of the inner list inside of the 1st element of the outer list.\n",
    "x           #Double check that this is the correct value from the list of lists above."
   ]
  },
  {
   "cell_type": "code",
   "execution_count": null,
   "id": "df7c2201-f05b-422d-a980-e8cbf41a18e2",
   "metadata": {},
   "outputs": [],
   "source": [
    "y=wiz[1][1] #Assign to y: the 2nd element of the inner list inside of the 2nd element of the outer list.\n",
    "y           #Double check that this is the correct value from the list of lists above."
   ]
  },
  {
   "cell_type": "code",
   "execution_count": null,
   "id": "9005a597-b8a7-4410-a65f-1faae4f3c56b",
   "metadata": {},
   "outputs": [],
   "source": [
    "x+y"
   ]
  },
  {
   "cell_type": "code",
   "execution_count": null,
   "id": "a2fa75ef-9a5c-45f9-9af8-cf4dd91bfdd8",
   "metadata": {},
   "outputs": [],
   "source": [
    "int(x)+int(y)"
   ]
  },
  {
   "cell_type": "code",
   "execution_count": null,
   "id": "23066ed4-0ea8-47a2-a27b-cd775b989c60",
   "metadata": {},
   "outputs": [],
   "source": [
    "hbunder90\n",
    "len(hbunder90)\n",
    "for i in range(len(hbunder90)): print (i, hbunder90[i])"
   ]
  },
  {
   "cell_type": "code",
   "execution_count": null,
   "id": "951ad484-ba71-4f9f-8c0f-e8e311019714",
   "metadata": {},
   "outputs": [],
   "source": [
    "hbunder90[2:4]"
   ]
  },
  {
   "cell_type": "markdown",
   "id": "23c98696-3185-46ac-b366-11a3e35acf9a",
   "metadata": {},
   "source": [
    "[Orange Theory: What your heartrate is telling you.](https://www.orangetheory.com/en-us/articles/what-your-heartrate-is-telling-you/)\n",
    "\n",
    "Pay special attention to the arm band on Runner #1 and the wrist ban on Runner #2\n",
    "\n",
    "According to this article, Orange Theory has 1 MILLION members worldwide."
   ]
  },
  {
   "cell_type": "markdown",
   "id": "f654cb7f-04f7-46b3-80e0-7fe412abdaf7",
   "metadata": {},
   "source": [
    "\n",
    "In [19]: bwb = 'a,b,c,d'.split(',')\n",
    "\n",
    "In [20]: bwb\n",
    "Out[20]: ['a', 'b', 'c', 'd']\n",
    "\n",
    "In [21]: for i in range(len(bwb)): print (i, bwb[i])\n",
    "0 a\n",
    "1 b\n",
    "2 c\n",
    "3 d\n"
   ]
  }
 ],
 "metadata": {
  "kernelspec": {
   "display_name": "Python 3",
   "language": "python",
   "name": "python3"
  },
  "language_info": {
   "codemirror_mode": {
    "name": "ipython",
    "version": 3
   },
   "file_extension": ".py",
   "mimetype": "text/x-python",
   "name": "python",
   "nbconvert_exporter": "python",
   "pygments_lexer": "ipython3",
   "version": "3.6.9"
  }
 },
 "nbformat": 4,
 "nbformat_minor": 5
}
