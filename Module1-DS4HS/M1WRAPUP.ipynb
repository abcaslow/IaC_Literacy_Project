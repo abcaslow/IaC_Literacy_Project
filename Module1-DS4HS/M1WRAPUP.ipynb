{
 "cells": [
  {
   "cell_type": "markdown",
   "id": "19ec804f-aaf6-47c2-be45-0ced818970c4",
   "metadata": {},
   "source": [
    "Your goal is not to write your own code but to be able to search for code, download code, read code, edit code and upload your changes and contribution.\n",
    "\n",
    "Be part of this community."
   ]
  },
  {
   "cell_type": "markdown",
   "id": "b6fdf87a-253c-4105-9a53-e6e13254b503",
   "metadata": {},
   "source": [
    "We are just beginning. With the foundation laid in Module One of DS4HS we can now move onto other tracks:\n",
    "\n",
    "1. The Python Deep Dive Track\n",
    "1. The Math Track with a focus on Probability and Statistics\n",
    "1. A Berkeley Connector Course Track"
   ]
  },
  {
   "cell_type": "markdown",
   "id": "48fda86b-1d2f-4db6-a35a-c6cd84b1c46f",
   "metadata": {},
   "source": [
    "Venture Beyond Your Jupyter Notebook. Apply what you learned in the Jupyter Lab Console Mode or Jupyter Lab Terminal Mode."
   ]
  },
  {
   "cell_type": "markdown",
   "id": "0e4c0b45-d2bd-4cc9-baa2-63945ebc6f02",
   "metadata": {},
   "source": [
    "Remember to log as much hands on practice time on the Elastic Mentor. We will be logging each student's practice time! "
   ]
  }
 ],
 "metadata": {
  "kernelspec": {
   "display_name": "Python 3",
   "language": "python",
   "name": "python3"
  },
  "language_info": {
   "codemirror_mode": {
    "name": "ipython",
    "version": 3
   },
   "file_extension": ".py",
   "mimetype": "text/x-python",
   "name": "python",
   "nbconvert_exporter": "python",
   "pygments_lexer": "ipython3",
   "version": "3.6.9"
  }
 },
 "nbformat": 4,
 "nbformat_minor": 5
}
