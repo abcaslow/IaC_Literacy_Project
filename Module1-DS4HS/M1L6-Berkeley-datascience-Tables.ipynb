{
 "cells": [
  {
   "cell_type": "markdown",
   "id": "a871278b-5c08-4406-b650-2ca82aa7514d",
   "metadata": {},
   "source": [
    "#### Introduction ####\n",
    "The Berkeley datascience Table acts as a wrapper for a set of related numpy arrays.\n",
    "\n",
    "https://inferentialthinking.com/chapters/06/Tables.html\n",
    "\n",
    "http://data8.org/sp20/python-reference.html\n",
    "\n",
    "http://data8.org/datascience/tutorial.html#creating-a-table\n"
   ]
  },
  {
   "cell_type": "code",
   "execution_count": null,
   "id": "c13cb8b8-5dda-4908-83bb-847d8aafd879",
   "metadata": {},
   "outputs": [],
   "source": [
    "from datascience import Table"
   ]
  },
  {
   "cell_type": "code",
   "execution_count": null,
   "id": "cce0063e-f312-45f5-95b9-033f894244f4",
   "metadata": {},
   "outputs": [],
   "source": [
    "dir(Table)"
   ]
  },
  {
   "cell_type": "code",
   "execution_count": null,
   "id": "bed6574e-78f8-4d4f-9229-1bc9fb92b3b0",
   "metadata": {},
   "outputs": [],
   "source": [
    "?Table"
   ]
  },
  {
   "cell_type": "markdown",
   "id": "61e906b5-b39b-4aca-9efd-a72112266aa6",
   "metadata": {},
   "source": [
    "#### <b>START HERE: Import data with the datascience Table Class </b>####\n",
    "\n",
    "The two most basic ways to import data into the Berkeley datascience environment is:\n",
    "\n",
    "1. Table().with_columns\n",
    "1. Table.read_table\n",
    "\n",
    "At least two other methods exist that will be covered later:\n",
    "\n",
    "1. Import via an http/https operation\n",
    "1. Import a pandas dataframe"
   ]
  },
  {
   "cell_type": "markdown",
   "id": "4d79ddb1-c952-44b8-a3f7-a6794fc7bb08",
   "metadata": {},
   "source": [
    "#### Relationship of the datascience Table to Numpy Arrays ####\n",
    "\n",
    "1. len(table_name)\n",
    "1. len(table_name[0])\n",
    "\n",
    "http://data8.org/zero-to-data-8/datascience.html\n",
    "\n",
    "http://data8.org/sp20/python-reference.html"
   ]
  },
  {
   "cell_type": "markdown",
   "id": "bee0f59b-6884-4a97-bc72-10093711aaaf",
   "metadata": {},
   "source": [
    "Using the Berkeley datascience 'select' and 'relabel' statements."
   ]
  },
  {
   "cell_type": "code",
   "execution_count": null,
   "id": "48da7e7c-0d13-4075-bbde-46b5ff224c4b",
   "metadata": {},
   "outputs": [],
   "source": [
    "from datascience.predicates import are"
   ]
  },
  {
   "cell_type": "code",
   "execution_count": null,
   "id": "02c9f02d-1a13-4812-a9f6-44971a54e78c",
   "metadata": {},
   "outputs": [],
   "source": [
    "dir(are)"
   ]
  },
  {
   "cell_type": "code",
   "execution_count": null,
   "id": "8af41a6b-cf86-49dd-86b8-dfadca75a912",
   "metadata": {},
   "outputs": [],
   "source": [
    "?are"
   ]
  },
  {
   "cell_type": "code",
   "execution_count": null,
   "id": "7131d625-7cac-414d-8e77-7a44784ec287",
   "metadata": {},
   "outputs": [],
   "source": []
  }
 ],
 "metadata": {
  "kernelspec": {
   "display_name": "Python 3",
   "language": "python",
   "name": "python3"
  },
  "language_info": {
   "codemirror_mode": {
    "name": "ipython",
    "version": 3
   },
   "file_extension": ".py",
   "mimetype": "text/x-python",
   "name": "python",
   "nbconvert_exporter": "python",
   "pygments_lexer": "ipython3",
   "version": "3.6.9"
  }
 },
 "nbformat": 4,
 "nbformat_minor": 5
}
