{
 "cells": [
  {
   "cell_type": "markdown",
   "id": "be0f113f-34ee-431b-9f48-cc16c8b0f8a2",
   "metadata": {},
   "source": [
    "<b>Distance = Rate * Time</b>\n",
    "Flaw in the model used in this Notebook: We are applying constant velocity only in the following Notebook.  No runner acceleration is measured.  \n"
   ]
  },
  {
   "cell_type": "code",
   "execution_count": null,
   "id": "f82895ab-3679-4931-8ed4-de861ab97974",
   "metadata": {},
   "outputs": [],
   "source": [
    "import numpy as np"
   ]
  },
  {
   "cell_type": "code",
   "execution_count": null,
   "id": "00c05d5a-603c-442d-b27d-6ccb65dd2431",
   "metadata": {},
   "outputs": [],
   "source": [
    "time = np.arange(0,31)\n",
    "time = np.arange(0,16,0.5)"
   ]
  },
  {
   "cell_type": "code",
   "execution_count": null,
   "id": "0d3afabc-1d76-43a3-a934-5ee452ec1323",
   "metadata": {},
   "outputs": [],
   "source": [
    "time"
   ]
  },
  {
   "cell_type": "code",
   "execution_count": null,
   "id": "070a4497-3c1e-4b67-98d2-2d28d93f9157",
   "metadata": {},
   "outputs": [],
   "source": [
    "runner1=a*40"
   ]
  },
  {
   "cell_type": "code",
   "execution_count": null,
   "id": "90a196b5-6fda-4c32-a9c3-744093027bfe",
   "metadata": {},
   "outputs": [],
   "source": [
    "runner1"
   ]
  },
  {
   "cell_type": "code",
   "execution_count": null,
   "id": "f8e35920-48b5-4aac-8fda-0c90b3994001",
   "metadata": {},
   "outputs": [],
   "source": [
    "runner2=(a*20)+40"
   ]
  },
  {
   "cell_type": "code",
   "execution_count": null,
   "id": "89f5914d-f3bf-4f0a-a2c1-0ad1c955a39a",
   "metadata": {},
   "outputs": [],
   "source": [
    "runner2"
   ]
  },
  {
   "cell_type": "markdown",
   "id": "502a7eaa-d448-4b54-a607-de53a1fd8b9e",
   "metadata": {},
   "source": [
    "Let's subtract the <b>runner2</b> array from the <b>runner1</b> array."
   ]
  },
  {
   "cell_type": "code",
   "execution_count": null,
   "id": "1beefa0d-5dff-46f9-b50e-c47a745331a6",
   "metadata": {},
   "outputs": [],
   "source": [
    "x=runner2-runner1"
   ]
  },
  {
   "cell_type": "code",
   "execution_count": null,
   "id": "dba2d9ca-facc-4bdf-96b7-f49983a17b5f",
   "metadata": {},
   "outputs": [],
   "source": [
    "x"
   ]
  },
  {
   "cell_type": "markdown",
   "id": "793c7d97-8ff5-4ea0-a7a7-b9857a5b9ce7",
   "metadata": {},
   "source": [
    "Let' construct a Berkeley table with these three arrays"
   ]
  },
  {
   "cell_type": "code",
   "execution_count": null,
   "id": "661629c3-e277-4aab-8253-59a2d8949f83",
   "metadata": {},
   "outputs": [],
   "source": [
    "from datascience import Table"
   ]
  },
  {
   "cell_type": "code",
   "execution_count": null,
   "id": "e8fbc1a0-2d5b-4b11-b276-a1186cc9ddca",
   "metadata": {},
   "outputs": [],
   "source": [
    "runner_table=Table().with_columns(['Time',time,'Runner #1',runner1,'Runner #2',runner2])"
   ]
  },
  {
   "cell_type": "code",
   "execution_count": null,
   "id": "94264761-bf46-4fda-acf0-8d68f5b83f8f",
   "metadata": {},
   "outputs": [],
   "source": [
    "runner_table"
   ]
  },
  {
   "cell_type": "code",
   "execution_count": null,
   "id": "3f17cc7b-7bd5-45fc-9442-d28c65dfd754",
   "metadata": {},
   "outputs": [],
   "source": [
    "a = np.arange(1,16,0.5)"
   ]
  },
  {
   "cell_type": "code",
   "execution_count": null,
   "id": "ede5cd01-d221-4e6c-9ed3-12565cf13f4a",
   "metadata": {},
   "outputs": [],
   "source": [
    "t=Table().with_columns(['a',a,'bruce',bruce,'bolt',bolt])"
   ]
  },
  {
   "cell_type": "code",
   "execution_count": null,
   "id": "82b1e48e-f792-4d54-88c3-6ea2da126d03",
   "metadata": {},
   "outputs": [],
   "source": [
    "t"
   ]
  },
  {
   "cell_type": "code",
   "execution_count": null,
   "id": "b622006a-c055-476d-a938-c1353b42500f",
   "metadata": {},
   "outputs": [],
   "source": []
  },
  {
   "cell_type": "code",
   "execution_count": null,
   "id": "beadf6d1-1b38-4b8a-9029-89ef46f9c31a",
   "metadata": {},
   "outputs": [],
   "source": []
  }
 ],
 "metadata": {
  "kernelspec": {
   "display_name": "Python 3",
   "language": "python",
   "name": "python3"
  },
  "language_info": {
   "codemirror_mode": {
    "name": "ipython",
    "version": 3
   },
   "file_extension": ".py",
   "mimetype": "text/x-python",
   "name": "python",
   "nbconvert_exporter": "python",
   "pygments_lexer": "ipython3",
   "version": "3.6.9"
  }
 },
 "nbformat": 4,
 "nbformat_minor": 5
}
