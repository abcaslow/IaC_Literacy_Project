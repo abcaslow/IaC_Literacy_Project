{
 "cells": [
  {
   "cell_type": "markdown",
   "id": "17326418-4b39-4a39-9444-3a0f3cdf1906",
   "metadata": {},
   "source": [
    "#### <b>Exploring numpy Arrays and Array Arithmetic</b> ####\n",
    "\n",
    "The following Jupyter Notebook explores the use of numpy arrays through hands-on interaction with the cells of Python commands embedded in this Notebook. This hands-on interaction makes the theory of numpy arrays come to life.\n",
    "\n",
    "When you complete this exercise, remember numpy arrays are the building blocks of:\n",
    "\n",
    "1. Berkeley datascience tables\n",
    "1. pandas dataframes\n",
    "\n",
    "As always, let's start with importing the needed Python modules. In this case, let's import <b>numpy</b>."
   ]
  },
  {
   "cell_type": "code",
   "execution_count": 20,
   "id": "2e73c8ce-0b29-4c19-805d-2800520350d2",
   "metadata": {},
   "outputs": [],
   "source": [
    "import numpy as np"
   ]
  },
  {
   "cell_type": "markdown",
   "id": "b2e1ff7c-4dfa-47d5-8a67-7b0739e3a16f",
   "metadata": {},
   "source": [
    "Next, let's create two numpy arrays using the numpy <b>arange</b> function.\n",
    "\n",
    "Remember the the parameters used inside of the <b>arange</b> function are:\n",
    "    \n",
    "1. start of numeric range of the array: in this case \"2\"\n",
    "2. end of numeric range of the array: in this case \"101\" minus 1.\n",
    "3. finally, we square the entire range of numbers in the array with <b>**2</b>"
   ]
  },
  {
   "cell_type": "code",
   "execution_count": 21,
   "id": "e8f771c5-50d2-4eaf-8c50-8a10649ce844",
   "metadata": {},
   "outputs": [],
   "source": [
    "upper=np.arange(2,101)**2"
   ]
  },
  {
   "cell_type": "code",
   "execution_count": 22,
   "id": "7f5b1857-b3a6-4be0-8f82-5f060ea71ebc",
   "metadata": {},
   "outputs": [
    {
     "data": {
      "text/plain": [
       "array([    4,     9,    16,    25,    36,    49,    64,    81,   100,\n",
       "         121,   144,   169,   196,   225,   256,   289,   324,   361,\n",
       "         400,   441,   484,   529,   576,   625,   676,   729,   784,\n",
       "         841,   900,   961,  1024,  1089,  1156,  1225,  1296,  1369,\n",
       "        1444,  1521,  1600,  1681,  1764,  1849,  1936,  2025,  2116,\n",
       "        2209,  2304,  2401,  2500,  2601,  2704,  2809,  2916,  3025,\n",
       "        3136,  3249,  3364,  3481,  3600,  3721,  3844,  3969,  4096,\n",
       "        4225,  4356,  4489,  4624,  4761,  4900,  5041,  5184,  5329,\n",
       "        5476,  5625,  5776,  5929,  6084,  6241,  6400,  6561,  6724,\n",
       "        6889,  7056,  7225,  7396,  7569,  7744,  7921,  8100,  8281,\n",
       "        8464,  8649,  8836,  9025,  9216,  9409,  9604,  9801, 10000])"
      ]
     },
     "execution_count": 22,
     "metadata": {},
     "output_type": "execute_result"
    }
   ],
   "source": [
    "upper"
   ]
  },
  {
   "cell_type": "code",
   "execution_count": 23,
   "id": "93fa8e94-02f5-48bd-a6be-696a6b7f66d5",
   "metadata": {},
   "outputs": [],
   "source": [
    "lower=np.arange(1,100)**2"
   ]
  },
  {
   "cell_type": "code",
   "execution_count": 24,
   "id": "a75ce950-6ffe-4dcb-bd10-8717912f93ea",
   "metadata": {},
   "outputs": [
    {
     "data": {
      "text/plain": [
       "array([   1,    4,    9,   16,   25,   36,   49,   64,   81,  100,  121,\n",
       "        144,  169,  196,  225,  256,  289,  324,  361,  400,  441,  484,\n",
       "        529,  576,  625,  676,  729,  784,  841,  900,  961, 1024, 1089,\n",
       "       1156, 1225, 1296, 1369, 1444, 1521, 1600, 1681, 1764, 1849, 1936,\n",
       "       2025, 2116, 2209, 2304, 2401, 2500, 2601, 2704, 2809, 2916, 3025,\n",
       "       3136, 3249, 3364, 3481, 3600, 3721, 3844, 3969, 4096, 4225, 4356,\n",
       "       4489, 4624, 4761, 4900, 5041, 5184, 5329, 5476, 5625, 5776, 5929,\n",
       "       6084, 6241, 6400, 6561, 6724, 6889, 7056, 7225, 7396, 7569, 7744,\n",
       "       7921, 8100, 8281, 8464, 8649, 8836, 9025, 9216, 9409, 9604, 9801])"
      ]
     },
     "execution_count": 24,
     "metadata": {},
     "output_type": "execute_result"
    }
   ],
   "source": [
    "lower"
   ]
  },
  {
   "cell_type": "markdown",
   "id": "ea019ff6-c39d-4825-92f8-bf971d1dfaa4",
   "metadata": {},
   "source": [
    "Now let's substract the upper array we created from the lower array we created."
   ]
  },
  {
   "cell_type": "code",
   "execution_count": 25,
   "id": "6656f8e1-186d-4018-a283-5765f25a27e8",
   "metadata": {},
   "outputs": [],
   "source": [
    "delta=upper-lower"
   ]
  },
  {
   "cell_type": "code",
   "execution_count": 27,
   "id": "fe459c5d-f2a5-4032-af88-e293eb629902",
   "metadata": {},
   "outputs": [
    {
     "data": {
      "text/plain": [
       "array([  3,   5,   7,   9,  11,  13,  15,  17,  19,  21,  23,  25,  27,\n",
       "        29,  31,  33,  35,  37,  39,  41,  43,  45,  47,  49,  51,  53,\n",
       "        55,  57,  59,  61,  63,  65,  67,  69,  71,  73,  75,  77,  79,\n",
       "        81,  83,  85,  87,  89,  91,  93,  95,  97,  99, 101, 103, 105,\n",
       "       107, 109, 111, 113, 115, 117, 119, 121, 123, 125, 127, 129, 131,\n",
       "       133, 135, 137, 139, 141, 143, 145, 147, 149, 151, 153, 155, 157,\n",
       "       159, 161, 163, 165, 167, 169, 171, 173, 175, 177, 179, 181, 183,\n",
       "       185, 187, 189, 191, 193, 195, 197, 199])"
      ]
     },
     "execution_count": 27,
     "metadata": {},
     "output_type": "execute_result"
    }
   ],
   "source": [
    "delta"
   ]
  },
  {
   "cell_type": "markdown",
   "id": "b1aa2cab-d892-4cc3-8779-f4bd1d2d4074",
   "metadata": {},
   "source": [
    "Notice how the <b>delta</b> array is a series of odd numbers starting from 3 and ending at 199.\n",
    "\n",
    "This is the <b>2n+1</b> numeric pattern generated by subtracting the difference between two consecutive squares.\n",
    "\n",
    "For more information on this interest and surprising pattern, click on these two links:\n",
    "\n",
    "https://betterexplained.com/articles/surprising-patterns-in-the-square-numbers-1-4-9-16/\n",
    "\n",
    "https://nrich.maths.org/2275/note"
   ]
  },
  {
   "cell_type": "markdown",
   "id": "d1289a8e-8584-49af-8cbc-efec8137da93",
   "metadata": {},
   "source": [
    "Let's verify this <b>delta</b> array that we auto-generated by substracting the <b>upper</b> array from the <b>lower</b> array by creating yet another array using the numpy <b>arange</b> function:"
   ]
  },
  {
   "cell_type": "code",
   "execution_count": 28,
   "id": "e6878a48-b5bb-4109-b12f-c908975fa652",
   "metadata": {},
   "outputs": [],
   "source": [
    "allodds=np.arange(3,200,2)"
   ]
  },
  {
   "cell_type": "code",
   "execution_count": 29,
   "id": "da73abac-be97-4539-a935-a5bec3a80d03",
   "metadata": {},
   "outputs": [
    {
     "data": {
      "text/plain": [
       "array([  3,   5,   7,   9,  11,  13,  15,  17,  19,  21,  23,  25,  27,\n",
       "        29,  31,  33,  35,  37,  39,  41,  43,  45,  47,  49,  51,  53,\n",
       "        55,  57,  59,  61,  63,  65,  67,  69,  71,  73,  75,  77,  79,\n",
       "        81,  83,  85,  87,  89,  91,  93,  95,  97,  99, 101, 103, 105,\n",
       "       107, 109, 111, 113, 115, 117, 119, 121, 123, 125, 127, 129, 131,\n",
       "       133, 135, 137, 139, 141, 143, 145, 147, 149, 151, 153, 155, 157,\n",
       "       159, 161, 163, 165, 167, 169, 171, 173, 175, 177, 179, 181, 183,\n",
       "       185, 187, 189, 191, 193, 195, 197, 199])"
      ]
     },
     "execution_count": 29,
     "metadata": {},
     "output_type": "execute_result"
    }
   ],
   "source": [
    "allodds"
   ]
  },
  {
   "cell_type": "markdown",
   "id": "98bab10f-a6f6-4f88-b205-4d876d7e69f0",
   "metadata": {},
   "source": [
    "Let's perform a Boolean comparison between the <b>delta</b> array with this newly generated <b>allodds</b> array.\n",
    "\n",
    "Notice the difference betwee the use of a single <b>=</b> sign and a double <b>==</b> sign:\n",
    "\n",
    "1. The single <b>=</b> assigns a value to a variable name - this case <b>verify</b>.\n",
    "2. The double <b>==</b> is a <b>Boolean</b> comparision operator comparing the values in the <b>allodds</b> array with the values in the <b>delta</b> array."
   ]
  },
  {
   "cell_type": "code",
   "execution_count": 30,
   "id": "77aae573-f5ce-41b6-8d36-ac1c825186aa",
   "metadata": {},
   "outputs": [],
   "source": [
    "verify=allodds==delta"
   ]
  },
  {
   "cell_type": "code",
   "execution_count": 31,
   "id": "d312a154-3b9d-465d-9273-9bdfdbe5439c",
   "metadata": {},
   "outputs": [
    {
     "data": {
      "text/plain": [
       "array([ True,  True,  True,  True,  True,  True,  True,  True,  True,\n",
       "        True,  True,  True,  True,  True,  True,  True,  True,  True,\n",
       "        True,  True,  True,  True,  True,  True,  True,  True,  True,\n",
       "        True,  True,  True,  True,  True,  True,  True,  True,  True,\n",
       "        True,  True,  True,  True,  True,  True,  True,  True,  True,\n",
       "        True,  True,  True,  True,  True,  True,  True,  True,  True,\n",
       "        True,  True,  True,  True,  True,  True,  True,  True,  True,\n",
       "        True,  True,  True,  True,  True,  True,  True,  True,  True,\n",
       "        True,  True,  True,  True,  True,  True,  True,  True,  True,\n",
       "        True,  True,  True,  True,  True,  True,  True,  True,  True,\n",
       "        True,  True,  True,  True,  True,  True,  True,  True,  True])"
      ]
     },
     "execution_count": 31,
     "metadata": {},
     "output_type": "execute_result"
    }
   ],
   "source": [
    "verify"
   ]
  },
  {
   "cell_type": "markdown",
   "id": "e0badd28-5aaf-46c9-8bbc-c25065a51b31",
   "metadata": {},
   "source": [
    "Notice that all values are <b>True</b>."
   ]
  },
  {
   "cell_type": "markdown",
   "id": "47c506d4-331d-4d24-b958-e59e338c7aee",
   "metadata": {},
   "source": [
    "We can summarize this verification with the numpy <b>all</b> method."
   ]
  },
  {
   "cell_type": "code",
   "execution_count": 32,
   "id": "4aae3773-f4f7-44c4-a2eb-b8556f2b5e5c",
   "metadata": {},
   "outputs": [],
   "source": [
    "sumverify=np.all(verify)"
   ]
  },
  {
   "cell_type": "code",
   "execution_count": 33,
   "id": "69956e8b-89f8-4887-83b2-7eb4b13281a5",
   "metadata": {},
   "outputs": [
    {
     "data": {
      "text/plain": [
       "True"
      ]
     },
     "execution_count": 33,
     "metadata": {},
     "output_type": "execute_result"
    }
   ],
   "source": [
    "sumverify"
   ]
  },
  {
   "cell_type": "markdown",
   "id": "39c04598-b825-4883-ad03-3942dc95b13b",
   "metadata": {},
   "source": [
    "### Conclusion ###\n",
    "\n",
    "This Jupyter Notebook provided hands-on practice with:\n",
    "\n",
    "1. the numpy <b>arange</b> function to auto-generate numpy arrays\n",
    "1. performing arithmetic operations on numpy arrays\n",
    "\n",
    "remember numpy arrays are the building blocks of:\n",
    "\n",
    "1. <b>Berkeley datascience tables</b>\n",
    "1. <b>pandas dataframes</b>"
   ]
  },
  {
   "cell_type": "code",
   "execution_count": null,
   "id": "9682bce8-f843-4362-a96f-ef9c6a67fb54",
   "metadata": {},
   "outputs": [],
   "source": []
  }
 ],
 "metadata": {
  "kernelspec": {
   "display_name": "Python 3",
   "language": "python",
   "name": "python3"
  },
  "language_info": {
   "codemirror_mode": {
    "name": "ipython",
    "version": 3
   },
   "file_extension": ".py",
   "mimetype": "text/x-python",
   "name": "python",
   "nbconvert_exporter": "python",
   "pygments_lexer": "ipython3",
   "version": "3.6.9"
  }
 },
 "nbformat": 4,
 "nbformat_minor": 5
}
