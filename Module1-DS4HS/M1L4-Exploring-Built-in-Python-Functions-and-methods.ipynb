{
 "cells": [
  {
   "cell_type": "markdown",
   "id": "caf83559-4f52-4a96-9399-b6b5f34437d6",
   "metadata": {},
   "source": [
    "## Exploring Built-in Python Functions ##\n",
    "\n",
    "Start with clicking on this link and reviewing the following built-in Python functions.\n",
    "Every Python function in this list is available when you open any Python shell.\n",
    "You don't need to import other Python modules such as <b>numpy</b> or Berkelely <b>datascience</b> or <b>pandas</b> to use these built-in functions.\n",
    "https://docs.python.org/3/library/functions.html\n",
    "\n",
    "Explore what you can do with Python without importing any Python modules. "
   ]
  },
  {
   "cell_type": "code",
   "execution_count": null,
   "id": "f2fe4415-021e-4d93-a4c6-2dd7e88d11d9",
   "metadata": {},
   "outputs": [],
   "source": [
    "list([1,2,3,4,3,2,1])"
   ]
  },
  {
   "cell_type": "code",
   "execution_count": null,
   "id": "f73dfabd-56d5-4f01-a74b-c00b360468f8",
   "metadata": {},
   "outputs": [],
   "source": [
    "x=list([1,2,3,4,3,2,1])"
   ]
  },
  {
   "cell_type": "code",
   "execution_count": null,
   "id": "4204a88f-780a-4b31-9eb5-a2c8743bc08a",
   "metadata": {},
   "outputs": [],
   "source": [
    "x"
   ]
  },
  {
   "cell_type": "code",
   "execution_count": null,
   "id": "ea7ef7c4-a352-4286-8760-b06d1535cd05",
   "metadata": {},
   "outputs": [],
   "source": [
    "print(x)"
   ]
  },
  {
   "cell_type": "code",
   "execution_count": null,
   "id": "0a0b13b0-5a19-430a-9aaf-9eb789574fed",
   "metadata": {},
   "outputs": [],
   "source": [
    "print('Here is a list I created:', x)"
   ]
  },
  {
   "cell_type": "code",
   "execution_count": null,
   "id": "8e056a9f-2b25-41a2-9a57-9f08a1e1a154",
   "metadata": {},
   "outputs": [],
   "source": [
    "x[0]\n",
    "x[:3]"
   ]
  },
  {
   "cell_type": "code",
   "execution_count": null,
   "id": "25383ace-ea58-4945-8165-753d9b55a967",
   "metadata": {},
   "outputs": [],
   "source": [
    "y='Berkeley'"
   ]
  },
  {
   "cell_type": "code",
   "execution_count": null,
   "id": "16d76c9c-09f1-422d-b3da-8485b160718e",
   "metadata": {},
   "outputs": [],
   "source": [
    "y[0]\n",
    "y[:3]  "
   ]
  },
  {
   "cell_type": "code",
   "execution_count": null,
   "id": "ea6a45ba-6e5a-4ebf-b7ea-74f0f386bdd7",
   "metadata": {},
   "outputs": [],
   "source": [
    "sum(x)"
   ]
  },
  {
   "cell_type": "code",
   "execution_count": null,
   "id": "4c75da37-b1c4-41ba-882f-dd9e950c04d4",
   "metadata": {},
   "outputs": [],
   "source": [
    "min(x)"
   ]
  },
  {
   "cell_type": "code",
   "execution_count": null,
   "id": "86790d11-2ac3-4471-a24a-0863ec7839f1",
   "metadata": {},
   "outputs": [],
   "source": [
    "max(x)"
   ]
  },
  {
   "cell_type": "code",
   "execution_count": null,
   "id": "4e750244-1739-4c9d-ab45-b6fa89237c87",
   "metadata": {},
   "outputs": [],
   "source": [
    "sorted(x)"
   ]
  },
  {
   "cell_type": "code",
   "execution_count": null,
   "id": "fdb5141b-e5ff-4a83-a31d-b8f4d7dab75b",
   "metadata": {},
   "outputs": [],
   "source": [
    "set(x)"
   ]
  },
  {
   "cell_type": "markdown",
   "id": "7cbcc9cf-7cb4-4088-a5a3-34bc5d28569a",
   "metadata": {},
   "source": [
    "Type is a very useful Python Built-in function to determine the data type of any Python object."
   ]
  },
  {
   "cell_type": "code",
   "execution_count": null,
   "id": "4750e415-82bd-4b31-b3d5-374cca276690",
   "metadata": {},
   "outputs": [],
   "source": [
    "type(set(x))"
   ]
  },
  {
   "cell_type": "code",
   "execution_count": null,
   "id": "509789d9-e6c2-48fd-9951-f35673930bba",
   "metadata": {},
   "outputs": [],
   "source": [
    "y=range(10)"
   ]
  },
  {
   "cell_type": "code",
   "execution_count": null,
   "id": "d96b0ae6-88ee-496a-8076-b50f196a9219",
   "metadata": {},
   "outputs": [],
   "source": [
    "y"
   ]
  },
  {
   "cell_type": "code",
   "execution_count": null,
   "id": "a6adb1bf-88eb-401d-a6e5-5382d264e2ba",
   "metadata": {},
   "outputs": [],
   "source": [
    "y1=list(range(10))"
   ]
  },
  {
   "cell_type": "code",
   "execution_count": null,
   "id": "1b3770af-5dfd-4fed-8dde-604786282172",
   "metadata": {},
   "outputs": [],
   "source": [
    "y"
   ]
  },
  {
   "cell_type": "markdown",
   "id": "83bdb38e-71f0-4b05-99cc-7cbce04cb56c",
   "metadata": {},
   "source": [
    "Review Python built-in functions that converts one basic Python Data Type to another.\n",
    "1. str\n",
    "2. int\n",
    "3. float\n",
    "\n",
    "These built-in functions can be very helpful when importing data in from csv file. Many times, the data in csv files are converted as 100% string data types, even numbers! The <b>int</b> and <b>float</b> built-in functions can be useful to convert numbers inadvertantly imported as strings into numeric values."
   ]
  },
  {
   "cell_type": "code",
   "execution_count": null,
   "id": "798f1875-b0b7-4235-a483-8617579e9c62",
   "metadata": {},
   "outputs": [],
   "source": [
    "str(10)\n",
    "float(10)"
   ]
  },
  {
   "cell_type": "markdown",
   "id": "00f76692-7cf0-44a4-95f8-f63647b0f28f",
   "metadata": {},
   "source": [
    "### Assessment of Understanding ### \n",
    "\n",
    "Using only Python built-in functions, find the statistical mean of any range of numbers starting from 1. \n",
    "Assign the end of the range with the variable <b>exam</b>\n",
    "\n",
    "To start you off, the varialbe <b> exam </b> is set to <b> 4 </b>"
   ]
  },
  {
   "cell_type": "code",
   "execution_count": null,
   "id": "6b819eaa-9d3f-4a26-ba0c-47664155d8c8",
   "metadata": {},
   "outputs": [],
   "source": [
    "exam=4"
   ]
  },
  {
   "cell_type": "code",
   "execution_count": null,
   "id": "ae5230c1-2cf4-4959-8c52-996a8fcfa074",
   "metadata": {},
   "outputs": [],
   "source": [
    "sum(list(range(exam)))/len(list(range(exam)))"
   ]
  },
  {
   "cell_type": "markdown",
   "id": "ec14813f-0415-4b69-8675-301b4cf99a90",
   "metadata": {},
   "source": [
    "Why is the answer 1.5? This is wrong from a basic math perspective but it is 100% correct from a Python perspective:\n",
    "\n",
    "1+2+3+4=10  and 10/4 = 2.5  Why did Python give the correct \"Pythonic\" answer of 1.5?"
   ]
  },
  {
   "cell_type": "code",
   "execution_count": null,
   "id": "8b1fa851-590c-40b0-955f-f0f6d62a1b8f",
   "metadata": {},
   "outputs": [],
   "source": [
    "sum(list(range(exam)))/len(sum(list(range(exam))))"
   ]
  },
  {
   "cell_type": "markdown",
   "id": "6d9c063d-0a13-4f2d-94d6-8c0843cebd5c",
   "metadata": {},
   "source": [
    "What caused the error above?"
   ]
  },
  {
   "cell_type": "markdown",
   "id": "92a635e2-a7a5-4d34-8f0d-d7b3ee16a86b",
   "metadata": {},
   "source": [
    "## Section Two of Exploring Built-in Python Functions ##\n",
    "### <b><i> string.xxx</i></b>, <b><i> list.xxx</i></b> and more!\n",
    "\n",
    "<b><i>And Don't Forget to Check Out the Jupyter/iPython Tab Completion Feature!</i></b>"
   ]
  },
  {
   "cell_type": "code",
   "execution_count": null,
   "id": "106e1e32-fe6b-48fc-97ac-0e28b9c18c70",
   "metadata": {},
   "outputs": [],
   "source": [
    "demo=\"cat, dog, horse\""
   ]
  },
  {
   "cell_type": "code",
   "execution_count": null,
   "id": "5d8f0b9e-b5b1-4cd7-88b6-59d3c4a73c5d",
   "metadata": {},
   "outputs": [],
   "source": [
    "demo.split()"
   ]
  },
  {
   "cell_type": "markdown",
   "id": "6b550659-2a0a-42ec-9a74-9b8ed40cec88",
   "metadata": {},
   "source": [
    "Try out this interactive web page from w3schools: \n",
    "https://www.w3schools.com/python/trypython.asp?filename=demo_ref_string_split"
   ]
  },
  {
   "cell_type": "code",
   "execution_count": null,
   "id": "1dc672b8-e13e-4034-ad9b-77a242970801",
   "metadata": {},
   "outputs": [],
   "source": [
    "type(demo)"
   ]
  },
  {
   "cell_type": "code",
   "execution_count": null,
   "id": "f8d8dcc6-5291-4b5c-88a8-d9e363523715",
   "metadata": {},
   "outputs": [],
   "source": [
    "type(demo.split())"
   ]
  },
  {
   "cell_type": "markdown",
   "id": "74af1eff-828d-411d-a39c-6dac6e1a9942",
   "metadata": {},
   "source": [
    "Review what the following very helpful general Python buit-in functions perform:\n",
    "1. dir (specify a Python object/name/variable or simply enter \"dir()\" and see all defined Python objects for this session )\n",
    "1. help (specify a Python object/name/variable)\n",
    "1. globals (globals takes no arguments)"
   ]
  },
  {
   "cell_type": "code",
   "execution_count": null,
   "id": "5d5e4d42-9fd4-405a-b61d-0201437e5eea",
   "metadata": {},
   "outputs": [],
   "source": [
    "help(demo.split()) #Python help can sometimes be helpful but many times its confusing\n",
    "# You are better off doing a Google search for any Python command or command combination."
   ]
  },
  {
   "cell_type": "markdown",
   "id": "d547fd9c-5ef3-4afb-a965-c6b9976c938d",
   "metadata": {},
   "source": [
    "The following sequence starting with a <b>?</b> is an additional help feature built into iPython/Jupyter only."
   ]
  },
  {
   "cell_type": "code",
   "execution_count": null,
   "id": "962c6894-7db6-4c72-a4c8-210d130b38aa",
   "metadata": {},
   "outputs": [],
   "source": [
    "?demo.split "
   ]
  },
  {
   "cell_type": "code",
   "execution_count": null,
   "id": "171c3d69-8dd1-480f-aa09-65961cd65a78",
   "metadata": {},
   "outputs": [],
   "source": [
    "globals()['_ih'] # This shows you want is in your current IPython session's history.\n",
    "dir(set(x))"
   ]
  },
  {
   "cell_type": "code",
   "execution_count": null,
   "id": "83067210-e5a3-4772-9422-0de988c80344",
   "metadata": {},
   "outputs": [],
   "source": [
    "sample_sog=[10,20.30,20,50,20,50,100,10,20,5]"
   ]
  },
  {
   "cell_type": "code",
   "execution_count": null,
   "id": "1ed440ce-94b7-46dc-9547-8c5be4888961",
   "metadata": {},
   "outputs": [],
   "source": [
    "sample_sog.count(20)"
   ]
  },
  {
   "cell_type": "code",
   "execution_count": null,
   "id": "aa8450f1-c350-4cc8-a476-d617fea05d51",
   "metadata": {},
   "outputs": [],
   "source": [
    "sample_sog.pop(1)"
   ]
  },
  {
   "cell_type": "code",
   "execution_count": null,
   "id": "e56fbf52-a952-4530-a50c-77b077f136e0",
   "metadata": {},
   "outputs": [],
   "source": [
    "sample_sog"
   ]
  },
  {
   "cell_type": "markdown",
   "id": "01f7a39d-81c5-401a-aa41-fbd1df1fd58c",
   "metadata": {},
   "source": [
    "## <b>Section Three of Exploring Built-in Python Functions</b> ##\n",
    "### <b><i>Reviewing Common Error Messages</i></b> and more! ###\n"
   ]
  },
  {
   "cell_type": "code",
   "execution_count": null,
   "id": "88fc49bd-49d7-4346-adf4-687328a9e457",
   "metadata": {},
   "outputs": [],
   "source": [
    "whatup #what does the following error message mean?"
   ]
  },
  {
   "cell_type": "code",
   "execution_count": null,
   "id": "8ccbe915-a02c-4ed8-9c16-6dc60898e917",
   "metadata": {},
   "outputs": [],
   "source": [
    "test=\"Hello world!\""
   ]
  },
  {
   "cell_type": "code",
   "execution_count": null,
   "id": "0007ad53-827a-45c6-b7b3-0a7d3fa92364",
   "metadata": {},
   "outputs": [],
   "source": [
    "test.spit()"
   ]
  },
  {
   "cell_type": "code",
   "execution_count": null,
   "id": "f76a6068-c7b8-44b7-a0a2-43ff428abc43",
   "metadata": {},
   "outputs": [],
   "source": [
    "print(Hello World)"
   ]
  },
  {
   "cell_type": "code",
   "execution_count": null,
   "id": "1f56258b-e7e1-4c13-bae8-9e4e12955a1b",
   "metadata": {},
   "outputs": [],
   "source": [
    "x=10\n",
    "y='20'"
   ]
  },
  {
   "cell_type": "code",
   "execution_count": null,
   "id": "a1e7b01e-e07e-4099-9d5c-c9f4ea141fd9",
   "metadata": {},
   "outputs": [],
   "source": [
    "x+y"
   ]
  },
  {
   "cell_type": "code",
   "execution_count": null,
   "id": "f70944c8-cefd-4398-8f27-24fd32721edf",
   "metadata": {},
   "outputs": [],
   "source": [
    "list(1,2,3,4,3,2,1)"
   ]
  },
  {
   "cell_type": "code",
   "execution_count": null,
   "id": "b659e319-fd85-4fcf-858a-e9898cc724dd",
   "metadata": {},
   "outputs": [],
   "source": []
  },
  {
   "cell_type": "code",
   "execution_count": null,
   "id": "f9d972c7-5fa6-4b14-bc47-df0970d59cf9",
   "metadata": {},
   "outputs": [],
   "source": []
  }
 ],
 "metadata": {
  "kernelspec": {
   "display_name": "Python 3",
   "language": "python",
   "name": "python3"
  },
  "language_info": {
   "codemirror_mode": {
    "name": "ipython",
    "version": 3
   },
   "file_extension": ".py",
   "mimetype": "text/x-python",
   "name": "python",
   "nbconvert_exporter": "python",
   "pygments_lexer": "ipython3",
   "version": "3.6.9"
  }
 },
 "nbformat": 4,
 "nbformat_minor": 5
}
