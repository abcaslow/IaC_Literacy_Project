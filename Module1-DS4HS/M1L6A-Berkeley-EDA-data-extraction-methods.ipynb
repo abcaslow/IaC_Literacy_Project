{
 "cells": [
  {
   "cell_type": "markdown",
   "id": "e6f19acd-a98f-4691-b8da-40eae488008a",
   "metadata": {},
   "source": [
    "http://data8.org/datascience/predicates.html?highlight=predicate"
   ]
  },
  {
   "cell_type": "markdown",
   "id": "3fd36cd9-4457-4e9c-9018-2c56047d6c14",
   "metadata": {},
   "source": [
    "<b>Comparing the Berkeley datascience where method/predicte to Numpy Slices</b>"
   ]
  },
  {
   "cell_type": "code",
   "execution_count": 2,
   "id": "a4bfeb27-7326-480f-9ef3-6a21f5fd7c65",
   "metadata": {},
   "outputs": [],
   "source": [
    "from datascience import Table\n",
    "import numpy as np\n",
    "demo=Table.read_table('heartrate.csv')"
   ]
  },
  {
   "cell_type": "code",
   "execution_count": 3,
   "id": "4d2eeff2-12c7-41b2-84c9-dab92d422a6d",
   "metadata": {},
   "outputs": [
    {
     "data": {
      "text/html": [
       "<table border=\"1\" class=\"dataframe\">\n",
       "    <thead>\n",
       "        <tr>\n",
       "            <th>timestamp</th> <th>heartrate</th>\n",
       "        </tr>\n",
       "    </thead>\n",
       "    <tbody>\n",
       "        <tr>\n",
       "            <td>2020-10-01 20:42:22 -0400</td> <td>99       </td>\n",
       "        </tr>\n",
       "        <tr>\n",
       "            <td>2020-10-01 20:47:46 -0400</td> <td>67       </td>\n",
       "        </tr>\n",
       "        <tr>\n",
       "            <td>2020-10-01 20:50:14 -0400</td> <td>107      </td>\n",
       "        </tr>\n",
       "        <tr>\n",
       "            <td>2020-10-01 20:50:19 -0400</td> <td>107      </td>\n",
       "        </tr>\n",
       "        <tr>\n",
       "            <td>2020-10-01 20:57:39 -0400</td> <td>63       </td>\n",
       "        </tr>\n",
       "        <tr>\n",
       "            <td>2020-10-01 21:02:07 -0400</td> <td>57       </td>\n",
       "        </tr>\n",
       "        <tr>\n",
       "            <td>2020-10-01 21:05:08 -0400</td> <td>67       </td>\n",
       "        </tr>\n",
       "        <tr>\n",
       "            <td>2020-10-01 21:11:29 -0400</td> <td>77       </td>\n",
       "        </tr>\n",
       "        <tr>\n",
       "            <td>2020-10-01 21:16:27 -0400</td> <td>70       </td>\n",
       "        </tr>\n",
       "        <tr>\n",
       "            <td>2020-10-01 21:20:14 -0400</td> <td>74       </td>\n",
       "        </tr>\n",
       "    </tbody>\n",
       "</table>\n",
       "<p>... (12165 rows omitted)</p>"
      ],
      "text/plain": [
       "timestamp                 | heartrate\n",
       "2020-10-01 20:42:22 -0400 | 99\n",
       "2020-10-01 20:47:46 -0400 | 67\n",
       "2020-10-01 20:50:14 -0400 | 107\n",
       "2020-10-01 20:50:19 -0400 | 107\n",
       "2020-10-01 20:57:39 -0400 | 63\n",
       "2020-10-01 21:02:07 -0400 | 57\n",
       "2020-10-01 21:05:08 -0400 | 67\n",
       "2020-10-01 21:11:29 -0400 | 77\n",
       "2020-10-01 21:16:27 -0400 | 70\n",
       "2020-10-01 21:20:14 -0400 | 74\n",
       "... (12165 rows omitted)"
      ]
     },
     "execution_count": 3,
     "metadata": {},
     "output_type": "execute_result"
    }
   ],
   "source": [
    "demo"
   ]
  },
  {
   "cell_type": "code",
   "execution_count": 4,
   "id": "baad64ee-08e0-43ab-8d56-1eb8a46ab670",
   "metadata": {},
   "outputs": [],
   "source": [
    "hr=demo[1]"
   ]
  },
  {
   "cell_type": "code",
   "execution_count": 16,
   "id": "93555424-df94-4024-a6b7-54b1664bdf97",
   "metadata": {},
   "outputs": [
    {
     "data": {
      "text/plain": [
       "array([47., 44., 47., 46., 45.])"
      ]
     },
     "execution_count": 16,
     "metadata": {},
     "output_type": "execute_result"
    }
   ],
   "source": [
    "hr[hr<48]"
   ]
  },
  {
   "cell_type": "code",
   "execution_count": 6,
   "id": "ff05ffb6-8b58-49fe-8d01-d22e4b07175d",
   "metadata": {},
   "outputs": [
    {
     "data": {
      "text/plain": [
       "14"
      ]
     },
     "execution_count": 6,
     "metadata": {},
     "output_type": "execute_result"
    }
   ],
   "source": [
    "len(hr[hr<50])"
   ]
  },
  {
   "cell_type": "markdown",
   "id": "803ef7ea-aee9-44cc-beb7-99ff53dd6707",
   "metadata": {},
   "source": [
    "Let's see how to extract this same data with the Berkeley datascience module where predicate.\n",
    "\n",
    "http://data8.org/datascience/predicates.html?highlight=predicate"
   ]
  },
  {
   "cell_type": "code",
   "execution_count": 20,
   "id": "0546642f-d09a-4e28-8e87-cc04b9395d1b",
   "metadata": {},
   "outputs": [],
   "source": [
    "from datascience.predicates import are"
   ]
  },
  {
   "cell_type": "code",
   "execution_count": 21,
   "id": "9931d765-4ef9-4d13-a86e-c8a292301092",
   "metadata": {},
   "outputs": [
    {
     "data": {
      "text/plain": [
       "(array(['2020-10-01 20:42:22 -0400', '2020-10-01 20:47:46 -0400',\n",
       "        '2020-10-01 20:50:14 -0400', ..., '2021-03-18 02:39:51 -0400',\n",
       "        '2021-03-18 02:44:16 -0400', '2021-03-18 02:50:46 -0400'],\n",
       "       dtype='<U25'),\n",
       " array([ 99.,  67., 107., ...,  61.,  62.,  65.]))"
      ]
     },
     "execution_count": 21,
     "metadata": {},
     "output_type": "execute_result"
    }
   ],
   "source": [
    "demo.columns #A Berkeley datascience method to list arrays inside of the Table."
   ]
  },
  {
   "cell_type": "code",
   "execution_count": 22,
   "id": "08ff3677-e1fe-4ae8-9635-1a46a6242db3",
   "metadata": {},
   "outputs": [
    {
     "data": {
      "text/plain": [
       "('timestamp', 'heartrate')"
      ]
     },
     "execution_count": 22,
     "metadata": {},
     "output_type": "execute_result"
    }
   ],
   "source": [
    "demo.labels"
   ]
  },
  {
   "cell_type": "code",
   "execution_count": 15,
   "id": "d553050c-5a72-4a49-a442-a25c7f074c2b",
   "metadata": {},
   "outputs": [
    {
     "data": {
      "text/html": [
       "<table border=\"1\" class=\"dataframe\">\n",
       "    <thead>\n",
       "        <tr>\n",
       "            <th>timestamp</th> <th>heartrate</th>\n",
       "        </tr>\n",
       "    </thead>\n",
       "    <tbody>\n",
       "        <tr>\n",
       "            <td>2020-11-22 04:45:32 -0400</td> <td>47       </td>\n",
       "        </tr>\n",
       "        <tr>\n",
       "            <td>2020-11-22 05:10:26 -0400</td> <td>44       </td>\n",
       "        </tr>\n",
       "        <tr>\n",
       "            <td>2020-11-22 05:43:58 -0400</td> <td>47       </td>\n",
       "        </tr>\n",
       "        <tr>\n",
       "            <td>2021-01-21 02:51:31 -0400</td> <td>46       </td>\n",
       "        </tr>\n",
       "        <tr>\n",
       "            <td>2021-02-09 23:36:25 -0400</td> <td>45       </td>\n",
       "        </tr>\n",
       "    </tbody>\n",
       "</table>"
      ],
      "text/plain": [
       "timestamp                 | heartrate\n",
       "2020-11-22 04:45:32 -0400 | 47\n",
       "2020-11-22 05:10:26 -0400 | 44\n",
       "2020-11-22 05:43:58 -0400 | 47\n",
       "2021-01-21 02:51:31 -0400 | 46\n",
       "2021-02-09 23:36:25 -0400 | 45"
      ]
     },
     "execution_count": 15,
     "metadata": {},
     "output_type": "execute_result"
    }
   ],
   "source": [
    "#t.where('Waists', are.below(38)) Here is an example from the documentation.\n",
    "demo.where('heartrate', are.below(48))"
   ]
  },
  {
   "cell_type": "code",
   "execution_count": 17,
   "id": "52ad117d-e438-4913-8209-b1e09ce25fb8",
   "metadata": {},
   "outputs": [
    {
     "data": {
      "text/plain": [
       "array([47., 44., 47., 46., 45.])"
      ]
     },
     "execution_count": 17,
     "metadata": {},
     "output_type": "execute_result"
    }
   ],
   "source": [
    "hr[hr<48] #Compare this numpy slicing operation to the datascience where output.\n",
    "# The extracted heartrate data between the two methods is identical. "
   ]
  },
  {
   "cell_type": "code",
   "execution_count": 19,
   "id": "c18f2ca6-b13d-4226-afdd-123d2ffe12f3",
   "metadata": {},
   "outputs": [
    {
     "ename": "TypeError",
     "evalue": "'tuple' object is not callable",
     "output_type": "error",
     "traceback": [
      "\u001b[0;31m---------------------------------------------------------------------------\u001b[0m",
      "\u001b[0;31mTypeError\u001b[0m                                 Traceback (most recent call last)",
      "\u001b[0;32m<ipython-input-19-8412f783d07e>\u001b[0m in \u001b[0;36m<module>\u001b[0;34m\u001b[0m\n\u001b[0;32m----> 1\u001b[0;31m \u001b[0mdemo\u001b[0m\u001b[0;34m.\u001b[0m\u001b[0mcolumns\u001b[0m\u001b[0;34m(\u001b[0m\u001b[0mdemo\u001b[0m\u001b[0;34m[\u001b[0m\u001b[0;36m1\u001b[0m\u001b[0;34m]\u001b[0m\u001b[0;34m)\u001b[0m\u001b[0;34m\u001b[0m\u001b[0;34m\u001b[0m\u001b[0m\n\u001b[0m",
      "\u001b[0;31mTypeError\u001b[0m: 'tuple' object is not callable"
     ]
    }
   ],
   "source": []
  },
  {
   "cell_type": "code",
   "execution_count": null,
   "id": "2adb1514-4daf-4ee0-910f-07e0fdfde90a",
   "metadata": {},
   "outputs": [],
   "source": []
  }
 ],
 "metadata": {
  "kernelspec": {
   "display_name": "Python 3",
   "language": "python",
   "name": "python3"
  },
  "language_info": {
   "codemirror_mode": {
    "name": "ipython",
    "version": 3
   },
   "file_extension": ".py",
   "mimetype": "text/x-python",
   "name": "python",
   "nbconvert_exporter": "python",
   "pygments_lexer": "ipython3",
   "version": "3.6.9"
  }
 },
 "nbformat": 4,
 "nbformat_minor": 5
}
