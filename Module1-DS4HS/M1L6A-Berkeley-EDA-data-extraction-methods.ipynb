{
 "cells": [
  {
   "cell_type": "markdown",
   "id": "e6f19acd-a98f-4691-b8da-40eae488008a",
   "metadata": {},
   "source": [
    "http://data8.org/datascience/predicates.html?highlight=predicate"
   ]
  },
  {
   "cell_type": "code",
   "execution_count": null,
   "id": "dc3771bd-4a52-47df-b989-413b3373ab7b",
   "metadata": {},
   "outputs": [],
   "source": []
  }
 ],
 "metadata": {
  "kernelspec": {
   "display_name": "Python 3",
   "language": "python",
   "name": "python3"
  },
  "language_info": {
   "codemirror_mode": {
    "name": "ipython",
    "version": 3
   },
   "file_extension": ".py",
   "mimetype": "text/x-python",
   "name": "python",
   "nbconvert_exporter": "python",
   "pygments_lexer": "ipython3",
   "version": "3.6.9"
  }
 },
 "nbformat": 4,
 "nbformat_minor": 5
}
