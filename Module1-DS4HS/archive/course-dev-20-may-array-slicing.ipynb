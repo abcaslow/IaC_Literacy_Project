{
 "cells": [
  {
   "cell_type": "code",
   "execution_count": 63,
   "id": "81964e1e-d188-4c3d-a605-7cf0cb165706",
   "metadata": {},
   "outputs": [],
   "source": [
    "from datascience import *\n",
    "import matplotlib.pyplot as plt\n",
    "%matplotlib inline\n",
    "import numpy as np"
   ]
  },
  {
   "cell_type": "code",
   "execution_count": 64,
   "id": "85c691c3-da67-44d3-80a4-3f5ea4074df5",
   "metadata": {},
   "outputs": [],
   "source": [
    "rawdata=Table.read_table('/home/abcaslow/heartrate.csv')"
   ]
  },
  {
   "cell_type": "code",
   "execution_count": 65,
   "id": "b31fb863-de6c-4732-8b37-b636060fd6e7",
   "metadata": {},
   "outputs": [
    {
     "data": {
      "text/plain": [
       "array(['2020-10-01 20:42:22 -0400', '2020-10-01 20:47:46 -0400',\n",
       "       '2020-10-01 20:50:14 -0400', ..., '2021-03-18 02:39:51 -0400',\n",
       "       '2021-03-18 02:44:16 -0400', '2021-03-18 02:50:46 -0400'],\n",
       "      dtype='<U25')"
      ]
     },
     "execution_count": 65,
     "metadata": {},
     "output_type": "execute_result"
    }
   ],
   "source": [
    "rawdata.column(0)"
   ]
  },
  {
   "cell_type": "code",
   "execution_count": 66,
   "id": "117de7ba-2128-4383-a5a9-5d00b40fb8dd",
   "metadata": {},
   "outputs": [
    {
     "data": {
      "text/plain": [
       "array(['2020-10-01 20:42:22', '2020-10-01 20:47:46', '2020-10-01 20:50:1',\n",
       "       ..., '2021-03-18 02:39:51', '2021-03-18 02:44:16',\n",
       "       '2021-03-18 02:50:46'], dtype='<U25')"
      ]
     },
     "execution_count": 66,
     "metadata": {},
     "output_type": "execute_result"
    }
   ],
   "source": [
    "np.char.rstrip(rawdata.column(0),' -0400')\n",
    "#xstrip=rawdata.column(0)\n",
    "#outarray=np.char.rstrip(xstrip,'-0400')\n",
    "#print(outarray)"
   ]
  },
  {
   "cell_type": "code",
   "execution_count": 67,
   "id": "5ea48eaa-6bc7-45e5-8f70-cc0165327f54",
   "metadata": {},
   "outputs": [
    {
     "data": {
      "text/plain": [
       "('timestamp', 'heartrate')"
      ]
     },
     "execution_count": 67,
     "metadata": {},
     "output_type": "execute_result"
    }
   ],
   "source": [
    "rawdata.labels"
   ]
  },
  {
   "cell_type": "code",
   "execution_count": 119,
   "id": "bf283137-5cee-43fa-a431-f4018b0de465",
   "metadata": {},
   "outputs": [
    {
     "data": {
      "text/plain": [
       "array(['2020-10-01 20:42:22 -0400', '2020-10-01 20:47:46 -0400',\n",
       "       '2020-10-01 20:50:14 -0400', ..., '2021-03-18 02:39:51 -0400',\n",
       "       '2021-03-18 02:44:16 -0400', '2021-03-18 02:50:46 -0400'],\n",
       "      dtype='<U25')"
      ]
     },
     "execution_count": 119,
     "metadata": {},
     "output_type": "execute_result"
    }
   ],
   "source": [
    "rawdata.column(0)"
   ]
  },
  {
   "cell_type": "code",
   "execution_count": 68,
   "id": "73229923-a6e5-4595-ad3d-569684a2f1fc",
   "metadata": {},
   "outputs": [],
   "source": [
    "#help(rawdata.where)"
   ]
  },
  {
   "cell_type": "code",
   "execution_count": 108,
   "id": "3eca38da-3cab-4f68-8a8a-5e0abf029ce3",
   "metadata": {},
   "outputs": [
    {
     "data": {
      "text/plain": [
       "48.0"
      ]
     },
     "execution_count": 108,
     "metadata": {},
     "output_type": "execute_result"
    }
   ],
   "source": [
    "#rawdata.where('heartrate', are.above(120)).plot('timestamp')\n",
    "#rawdata.where('heartrate', are.above(50))\n",
    "#orange=rawdata.where('heartrate', are.between(180, 220)).take(np.arange(5,20))\n",
    "orange=rawdata.where('timestamp', are.containing('11-22')).where('heartrate', are.between(10, 50))\n",
    "np.mean(orange.column(1))\n",
    "np.percentile(orange.column(1),50,axis=0)\n",
    "#orange=rawdata.where('heartrate', are.between(10, 50))\n",
    "#orange=rawdata.where('heartrate', are.between(10, 50))\n",
    "#green=rawdata.where('heartrate', are.between(35, 100)).column(1).mean()\n",
    "#rawdata.where('heartrate', are.equal_to(141)).plot('timestamp')"
   ]
  },
  {
   "cell_type": "code",
   "execution_count": 122,
   "id": "e5c54a09-330d-4515-b172-4a5915045e47",
   "metadata": {},
   "outputs": [
    {
     "data": {
      "text/plain": [
       "array(['20-11-22 03:52:36', '20-11-22 04:45:32', '20-11-22 05:10:26',\n",
       "       '20-11-22 05:15:41', '20-11-22 05:43:58', '20-11-22 05:45:25',\n",
       "       '20-11-22 06:22:23'], dtype='<U17')"
      ]
     },
     "execution_count": 122,
     "metadata": {},
     "output_type": "execute_result"
    }
   ],
   "source": [
    "x=np.char.rstrip(orange.column(0),' -0400')\n",
    "x=np.char.replace(x,'20', \"\",count=1)\n",
    "x"
   ]
  },
  {
   "cell_type": "code",
   "execution_count": 128,
   "id": "5b1b59ba-dae6-4c21-b257-75869e1a5394",
   "metadata": {},
   "outputs": [
    {
     "data": {
      "text/plain": [
       "\u001b[0;31mDocstring:\u001b[0m\n",
       "reduce(function, sequence[, initial]) -> value\n",
       "\n",
       "Apply a function of two arguments cumulatively to the items of a sequence,\n",
       "from left to right, so as to reduce the sequence to a single value.\n",
       "For example, reduce(lambda x, y: x+y, [1, 2, 3, 4, 5]) calculates\n",
       "((((1+2)+3)+4)+5).  If initial is present, it is placed before the items\n",
       "of the sequence in the calculation, and serves as a default when the\n",
       "sequence is empty.\n",
       "\u001b[0;31mType:\u001b[0m      builtin_function_or_method\n"
      ]
     },
     "metadata": {},
     "output_type": "display_data"
    }
   ],
   "source": [
    "import functools\n",
    "?functools.reduce"
   ]
  },
  {
   "cell_type": "code",
   "execution_count": 129,
   "id": "3c25fc92-079f-44a1-81c1-3365608d0a94",
   "metadata": {},
   "outputs": [
    {
     "data": {
      "text/plain": [
       "49.0"
      ]
     },
     "execution_count": 129,
     "metadata": {},
     "output_type": "execute_result"
    }
   ],
   "source": [
    "#x=orange.column(0)\n",
    "y=orange.column(1)\n",
    "functools.reduce(max, y)"
   ]
  },
  {
   "cell_type": "code",
   "execution_count": 117,
   "id": "2e8f21ac-36a1-4606-8217-ec80723e0e2f",
   "metadata": {},
   "outputs": [],
   "source": [
    "plt.plot(x,y)\n",
    "plt.xticks(rotation=45)\n",
    "plt.grid(True)\n",
    "manager=plt.get_current_fig_manager()\n",
    "manager.full_screen_toggle()\n",
    "#fig=plt.figure()\n",
    "#fig.canvas.manager.full_screen_toggle()\n",
    "#fig.show()\n",
    "#manager.window.showMaximized() # error\n",
    "#manager.show()\n",
    "plt.show()\n",
    "orange.rows\n",
    "\n",
    "rawdata.column(1).mean()"
   ]
  },
  {
   "cell_type": "markdown",
   "id": "0736e792-f138-4186-bbe5-f17efc4f5a63",
   "metadata": {},
   "source": [
    "x=np.arange(0,6)\n",
    "x**2"
   ]
  },
  {
   "cell_type": "code",
   "execution_count": 23,
   "id": "4d3e6215-df5c-4e91-8f0c-d03f4d4990af",
   "metadata": {},
   "outputs": [
    {
     "data": {
      "text/plain": [
       "numpy.ndarray"
      ]
     },
     "execution_count": 23,
     "metadata": {},
     "output_type": "execute_result"
    }
   ],
   "source": [
    "type(hb)"
   ]
  },
  {
   "cell_type": "code",
   "execution_count": 24,
   "id": "04d915b0-49eb-42c7-9937-5ad5dc114f8c",
   "metadata": {},
   "outputs": [],
   "source": [
    "import numpy as np"
   ]
  },
  {
   "cell_type": "code",
   "execution_count": 46,
   "id": "87536fae-e012-43b5-ab01-10efdfbadf17",
   "metadata": {},
   "outputs": [
    {
     "data": {
      "text/plain": [
       "array([ 99.,  67., 107., ...,  61.,  62.,  65.])"
      ]
     },
     "execution_count": 46,
     "metadata": {},
     "output_type": "execute_result"
    }
   ],
   "source": [
    "hb"
   ]
  },
  {
   "cell_type": "code",
   "execution_count": 48,
   "id": "a6be776c-cec4-435e-a381-11f13ee0889d",
   "metadata": {},
   "outputs": [
    {
     "data": {
      "text/plain": [
       "array([107.,  63.,  57.,  67.,  77.,  70.,  74.])"
      ]
     },
     "execution_count": 48,
     "metadata": {},
     "output_type": "execute_result"
    }
   ],
   "source": []
  },
  {
   "cell_type": "code",
   "execution_count": 43,
   "id": "84155148-711f-4c6b-a860-1740f8f724d9",
   "metadata": {},
   "outputs": [
    {
     "data": {
      "text/plain": [
       "array([0.   , 0.125, 0.25 , 0.375, 0.5  , 0.625, 0.75 , 0.875, 1.   ,\n",
       "       1.125, 1.25 ])"
      ]
     },
     "execution_count": 43,
     "metadata": {},
     "output_type": "execute_result"
    }
   ],
   "source": [
    "number_patterns=np.arange(11)\n",
    "number_patterns/8"
   ]
  },
  {
   "cell_type": "code",
   "execution_count": null,
   "id": "69dd8fd6-7a6b-4845-89df-f292ea5b7ceb",
   "metadata": {},
   "outputs": [],
   "source": []
  },
  {
   "cell_type": "code",
   "execution_count": null,
   "id": "8b5c9bf6-76e9-4211-b835-1254e1b0132f",
   "metadata": {},
   "outputs": [],
   "source": []
  },
  {
   "cell_type": "code",
   "execution_count": 82,
   "id": "8748bc76-02bf-40d9-9c61-c2cfa319d0d1",
   "metadata": {},
   "outputs": [
    {
     "data": {
      "text/plain": [
       "array([False, False,  True, ..., False, False, False])"
      ]
     },
     "execution_count": 82,
     "metadata": {},
     "output_type": "execute_result"
    }
   ],
   "source": [
    "hb>100"
   ]
  },
  {
   "cell_type": "code",
   "execution_count": 88,
   "id": "ffef0bf2-0491-478f-8a08-3841f4be162a",
   "metadata": {},
   "outputs": [
    {
     "data": {
      "text/plain": [
       "array([ 99.,  67., 107., ...,  61.,  62.,  65.])"
      ]
     },
     "execution_count": 88,
     "metadata": {},
     "output_type": "execute_result"
    }
   ],
   "source": [
    "hb[hb >50]"
   ]
  },
  {
   "cell_type": "code",
   "execution_count": 30,
   "id": "b7c01eea-920a-46b7-9df5-09356b073156",
   "metadata": {},
   "outputs": [],
   "source": [
    "list=[21,100,5,-10,52]"
   ]
  },
  {
   "cell_type": "code",
   "execution_count": 59,
   "id": "3c25a8dc-0052-403d-9ea7-86837296e10c",
   "metadata": {},
   "outputs": [
    {
     "ename": "TypeError",
     "evalue": "unsupported operand type(s) for /: 'list' and 'int'",
     "output_type": "error",
     "traceback": [
      "\u001b[0;31m---------------------------------------------------------------------------\u001b[0m",
      "\u001b[0;31mTypeError\u001b[0m                                 Traceback (most recent call last)",
      "\u001b[0;32m<ipython-input-59-41ef7ce9c5d3>\u001b[0m in \u001b[0;36m<module>\u001b[0;34m\u001b[0m\n\u001b[1;32m      1\u001b[0m \u001b[0mlistvar\u001b[0m\u001b[0;34m=\u001b[0m\u001b[0;34m[\u001b[0m\u001b[0mi\u001b[0m \u001b[0;32mfor\u001b[0m \u001b[0mi\u001b[0m \u001b[0;32min\u001b[0m \u001b[0mrange\u001b[0m\u001b[0;34m(\u001b[0m\u001b[0;36m11\u001b[0m\u001b[0;34m)\u001b[0m\u001b[0;34m]\u001b[0m\u001b[0;34m\u001b[0m\u001b[0;34m\u001b[0m\u001b[0m\n\u001b[0;32m----> 2\u001b[0;31m \u001b[0mlistvar\u001b[0m\u001b[0;34m/\u001b[0m\u001b[0;36m2\u001b[0m\u001b[0;34m\u001b[0m\u001b[0;34m\u001b[0m\u001b[0m\n\u001b[0m",
      "\u001b[0;31mTypeError\u001b[0m: unsupported operand type(s) for /: 'list' and 'int'"
     ]
    }
   ],
   "source": [
    "listvar=[i for i in range(11)]\n",
    "listvar/2"
   ]
  },
  {
   "cell_type": "code",
   "execution_count": 60,
   "id": "34f56732-0d77-48c6-b793-0ed50c0f6732",
   "metadata": {},
   "outputs": [
    {
     "data": {
      "text/plain": [
       "array([0. , 0.5, 1. , 1.5, 2. , 2.5, 3. , 3.5, 4. , 4.5, 5. ])"
      ]
     },
     "execution_count": 60,
     "metadata": {},
     "output_type": "execute_result"
    }
   ],
   "source": [
    "arrayvar=np.arange(11)\n",
    "arrayvar/2"
   ]
  },
  {
   "cell_type": "code",
   "execution_count": 100,
   "id": "8cb89a98-d1d8-42ae-95bd-9b45999f50f5",
   "metadata": {},
   "outputs": [
    {
     "data": {
      "text/plain": [
       "3781"
      ]
     },
     "execution_count": 100,
     "metadata": {},
     "output_type": "execute_result"
    }
   ],
   "source": [
    "len(np.arange(0,hb.shape[0])[hb > 90])"
   ]
  },
  {
   "cell_type": "code",
   "execution_count": 28,
   "id": "959d9f9b-67cd-4825-b22d-fa7868fa96cb",
   "metadata": {},
   "outputs": [],
   "source": [
    "mask=hb>100"
   ]
  },
  {
   "cell_type": "code",
   "execution_count": 30,
   "id": "3a310ea4-ac08-4eda-82ac-6d67f1dfcf84",
   "metadata": {},
   "outputs": [
    {
     "name": "stdout",
     "output_type": "stream",
     "text": [
      "[False False  True ... False False False]\n"
     ]
    }
   ],
   "source": [
    "print(mask)"
   ]
  },
  {
   "cell_type": "code",
   "execution_count": 31,
   "id": "67904557-8270-4c8a-9b09-3536416e4054",
   "metadata": {},
   "outputs": [],
   "source": [
    "hb[mask]=0"
   ]
  },
  {
   "cell_type": "code",
   "execution_count": 32,
   "id": "9d22e483-a28e-464f-a4e2-41dd62394048",
   "metadata": {},
   "outputs": [
    {
     "name": "stdout",
     "output_type": "stream",
     "text": [
      "[99. 67.  0. ... 61. 62. 65.]\n"
     ]
    }
   ],
   "source": [
    "print(hb)"
   ]
  },
  {
   "cell_type": "code",
   "execution_count": 70,
   "id": "64c1fe65-60f2-4ebf-97d5-7aa22fe35735",
   "metadata": {},
   "outputs": [],
   "source": [
    "demo_matrix=np.matrix([[1,2],[3,4]])"
   ]
  },
  {
   "cell_type": "markdown",
   "id": "a099e3d3-5e73-40af-9d8d-38b2602456bb",
   "metadata": {},
   "source": [
    "I am thinking of 2 numbers. Add them together you get X. Subtract them Y."
   ]
  },
  {
   "cell_type": "markdown",
   "id": "762a0bc7-3cb5-41ab-8f03-436e8bda07fd",
   "metadata": {},
   "source": [
    "$a+b = X$\n",
    "\n",
    "$a-b = Y$\n",
    "\n",
    "$\\begin{bmatrix}1&1\\\\1&-1\\end{bmatrix} \\begin{bmatrix}a\\\\b\\end{bmatrix} = \\begin{bmatrix}X\\\\Y\\end{bmatrix}$"
   ]
  },
  {
   "cell_type": "code",
   "execution_count": 71,
   "id": "c65a0db5-3981-479a-bff5-6bbdcb6189c4",
   "metadata": {},
   "outputs": [],
   "source": [
    "demo_matrix=np.matrix([[1,1],[1,-1]])"
   ]
  },
  {
   "cell_type": "code",
   "execution_count": 72,
   "id": "09dc434f-5976-4d72-a4d8-11e9144d9cf3",
   "metadata": {},
   "outputs": [
    {
     "data": {
      "text/plain": [
       "matrix([[ 1,  1],\n",
       "        [ 1, -1]])"
      ]
     },
     "execution_count": 72,
     "metadata": {},
     "output_type": "execute_result"
    }
   ],
   "source": [
    "demo_matrix"
   ]
  },
  {
   "cell_type": "code",
   "execution_count": 75,
   "id": "886e3758-35a6-4ae9-9efe-d46c4916245b",
   "metadata": {},
   "outputs": [
    {
     "data": {
      "text/plain": [
       "matrix([[ 0.5,  0.5],\n",
       "        [ 0.5, -0.5]])"
      ]
     },
     "execution_count": 75,
     "metadata": {},
     "output_type": "execute_result"
    }
   ],
   "source": [
    "np.linalg.inv(demo_matrix)"
   ]
  },
  {
   "cell_type": "markdown",
   "id": "45266f92-6f49-4399-b714-c7b2a5ca13da",
   "metadata": {},
   "source": [
    "$\\begin{bmatrix}a\\\\b\\end{bmatrix} = \\begin{bmatrix}0.5&0.5\\\\0.5&-0.5\\end{bmatrix} \\begin{bmatrix}X\\\\Y\\end{bmatrix}$"
   ]
  },
  {
   "cell_type": "markdown",
   "id": "cad09c1f-f934-4f92-8ac9-95a5997efd78",
   "metadata": {},
   "source": [
    "$a = 0.5X + 0.5Y$\n",
    "\n",
    "$b = 0.5X - 0.5Y$"
   ]
  },
  {
   "cell_type": "code",
   "execution_count": null,
   "id": "4bcdc939-340f-42e4-89de-94267be582da",
   "metadata": {},
   "outputs": [],
   "source": []
  }
 ],
 "metadata": {
  "kernelspec": {
   "display_name": "Python 3",
   "language": "python",
   "name": "python3"
  },
  "language_info": {
   "codemirror_mode": {
    "name": "ipython",
    "version": 3
   },
   "file_extension": ".py",
   "mimetype": "text/x-python",
   "name": "python",
   "nbconvert_exporter": "python",
   "pygments_lexer": "ipython3",
   "version": "3.6.9"
  }
 },
 "nbformat": 4,
 "nbformat_minor": 5
}
