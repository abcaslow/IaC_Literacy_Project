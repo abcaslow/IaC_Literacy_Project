{
 "cells": [
  {
   "cell_type": "markdown",
   "id": "8eff33d4-99b5-4943-9cdc-adac0d9e5d98",
   "metadata": {},
   "source": [
    "#### DS4HS Summer Diagnostic Test ####"
   ]
  },
  {
   "cell_type": "code",
   "execution_count": 1,
   "id": "a3b01be6-6db0-4859-83c6-3fc26bc12732",
   "metadata": {},
   "outputs": [],
   "source": [
    "x=['dog cat horse anteater']"
   ]
  },
  {
   "cell_type": "code",
   "execution_count": 2,
   "id": "c7c32e6a-2acb-4628-96e0-296ec41185af",
   "metadata": {},
   "outputs": [
    {
     "ename": "IndexError",
     "evalue": "list index out of range",
     "output_type": "error",
     "traceback": [
      "\u001b[0;31m---------------------------------------------------------------------------\u001b[0m",
      "\u001b[0;31mIndexError\u001b[0m                                Traceback (most recent call last)",
      "\u001b[0;32m<ipython-input-2-63312fd0f44c>\u001b[0m in \u001b[0;36m<module>\u001b[0;34m\u001b[0m\n\u001b[0;32m----> 1\u001b[0;31m \u001b[0mx\u001b[0m\u001b[0;34m[\u001b[0m\u001b[0;36m1\u001b[0m\u001b[0;34m]\u001b[0m \u001b[0;31m#What happened?\u001b[0m\u001b[0;34m\u001b[0m\u001b[0;34m\u001b[0m\u001b[0m\n\u001b[0m",
      "\u001b[0;31mIndexError\u001b[0m: list index out of range"
     ]
    }
   ],
   "source": [
    "x[1] #What happened? "
   ]
  },
  {
   "cell_type": "code",
   "execution_count": null,
   "id": "743b269b-6c33-43da-b21e-7fe5295041f9",
   "metadata": {},
   "outputs": [],
   "source": []
  },
  {
   "cell_type": "code",
   "execution_count": 7,
   "id": "34010879-a7a5-4294-8c05-d02864d7ac67",
   "metadata": {},
   "outputs": [
    {
     "data": {
      "text/plain": [
       "['dog', 'cat', 'horse', 'anteater']"
      ]
     },
     "execution_count": 7,
     "metadata": {},
     "output_type": "execute_result"
    }
   ],
   "source": [
    "y=['dog','cat','horse','anteater']"
   ]
  },
  {
   "cell_type": "code",
   "execution_count": 8,
   "id": "fc853702-7bf6-46a4-9b77-7a98a447ec38",
   "metadata": {},
   "outputs": [
    {
     "data": {
      "text/plain": [
       "'cat'"
      ]
     },
     "execution_count": 8,
     "metadata": {},
     "output_type": "execute_result"
    }
   ],
   "source": [
    "y[1] #What happened?"
   ]
  },
  {
   "cell_type": "code",
   "execution_count": 9,
   "id": "9703950b-1fd0-4515-b7e3-9d2ed8840f83",
   "metadata": {},
   "outputs": [
    {
     "data": {
      "text/plain": [
       "'r'"
      ]
     },
     "execution_count": 9,
     "metadata": {},
     "output_type": "execute_result"
    }
   ],
   "source": [
    "y[-1][-1] #What happened?"
   ]
  },
  {
   "cell_type": "code",
   "execution_count": 15,
   "id": "c0935f00-7b39-4325-ae40-b90e686c7c20",
   "metadata": {},
   "outputs": [
    {
     "data": {
      "text/plain": [
       "'h'"
      ]
     },
     "execution_count": 15,
     "metadata": {},
     "output_type": "execute_result"
    }
   ],
   "source": [
    "y[2][0] #What happened?"
   ]
  },
  {
   "cell_type": "code",
   "execution_count": 17,
   "id": "df1e6b1b-4414-4e62-8959-6744158eb18e",
   "metadata": {},
   "outputs": [
    {
     "ename": "SyntaxError",
     "evalue": "invalid syntax (<ipython-input-17-e7f4a755c1c8>, line 1)",
     "output_type": "error",
     "traceback": [
      "\u001b[0;36m  File \u001b[0;32m\"<ipython-input-17-e7f4a755c1c8>\"\u001b[0;36m, line \u001b[0;32m1\u001b[0m\n\u001b[0;31m    y(:2) #What happened?\u001b[0m\n\u001b[0m      ^\u001b[0m\n\u001b[0;31mSyntaxError\u001b[0m\u001b[0;31m:\u001b[0m invalid syntax\n"
     ]
    }
   ],
   "source": [
    "y(:2) #What happened?"
   ]
  },
  {
   "cell_type": "code",
   "execution_count": 18,
   "id": "f0bf66c0-da7e-406b-9a1f-23b0ce60fe53",
   "metadata": {},
   "outputs": [
    {
     "ename": "AttributeError",
     "evalue": "'list' object has no attribute 'split'",
     "output_type": "error",
     "traceback": [
      "\u001b[0;31m---------------------------------------------------------------------------\u001b[0m",
      "\u001b[0;31mAttributeError\u001b[0m                            Traceback (most recent call last)",
      "\u001b[0;32m<ipython-input-18-c18f0dd105aa>\u001b[0m in \u001b[0;36m<module>\u001b[0;34m\u001b[0m\n\u001b[0;32m----> 1\u001b[0;31m \u001b[0mx1\u001b[0m\u001b[0;34m=\u001b[0m\u001b[0mx\u001b[0m\u001b[0;34m.\u001b[0m\u001b[0msplit\u001b[0m\u001b[0;34m(\u001b[0m\u001b[0;34m)\u001b[0m\u001b[0;34m\u001b[0m\u001b[0;34m\u001b[0m\u001b[0m\n\u001b[0m\u001b[1;32m      2\u001b[0m \u001b[0mx1\u001b[0m \u001b[0;31m#What happened?\u001b[0m\u001b[0;34m\u001b[0m\u001b[0;34m\u001b[0m\u001b[0m\n",
      "\u001b[0;31mAttributeError\u001b[0m: 'list' object has no attribute 'split'"
     ]
    }
   ],
   "source": [
    "x1=x.split()\n",
    "x1 #What happened?"
   ]
  },
  {
   "cell_type": "code",
   "execution_count": 19,
   "id": "babef690-f7cc-4df1-8359-20acd22d0e94",
   "metadata": {},
   "outputs": [
    {
     "data": {
      "text/plain": [
       "['dog', 'cat', 'horse', 'anteater']"
      ]
     },
     "execution_count": 19,
     "metadata": {},
     "output_type": "execute_result"
    }
   ],
   "source": [
    "x1=x[0].split()\n",
    "x1 #What happened?"
   ]
  },
  {
   "cell_type": "code",
   "execution_count": 29,
   "id": "baaa0cbf-b39c-450d-ba42-f786aabc1727",
   "metadata": {},
   "outputs": [
    {
     "name": "stdout",
     "output_type": "stream",
     "text": [
      "'dog','cat','horse','anteater'\n"
     ]
    }
   ],
   "source": [
    "x2=[\"'dog','cat','horse','anteater'\"]\n",
    "print(x2[0])\n",
    "x2=x2[0].split(',')\n",
    "#x2 #What happened?"
   ]
  },
  {
   "cell_type": "code",
   "execution_count": null,
   "id": "640ee24b-ba1b-4f09-9e2f-e46817bb43d3",
   "metadata": {},
   "outputs": [],
   "source": []
  }
 ],
 "metadata": {
  "kernelspec": {
   "display_name": "Python 3",
   "language": "python",
   "name": "python3"
  },
  "language_info": {
   "codemirror_mode": {
    "name": "ipython",
    "version": 3
   },
   "file_extension": ".py",
   "mimetype": "text/x-python",
   "name": "python",
   "nbconvert_exporter": "python",
   "pygments_lexer": "ipython3",
   "version": "3.6.9"
  }
 },
 "nbformat": 4,
 "nbformat_minor": 5
}
