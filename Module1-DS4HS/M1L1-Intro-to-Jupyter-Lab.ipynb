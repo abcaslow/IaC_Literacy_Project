{
 "cells": [
  {
   "cell_type": "markdown",
   "id": "011aaa00-e3a0-4dd2-94b8-74fa79ae8668",
   "metadata": {},
   "source": [
    "## <b>Jupyter Lab Basics</b> ##"
   ]
  },
  {
   "cell_type": "markdown",
   "id": "10d0d0a4-df62-472a-ad36-2752812e12fe",
   "metadata": {},
   "source": [
    "Remember the following three most basic Jupyter Notebook operations:\n",
    "\n",
    "1. <b>CONTROL+ENTER</b> runs your current cell <b><i>WITHOUT</i></b> advanced to the next cell.\n",
    "1. <b>SHIFT+ENTER</b> runs your cell <b><i>AND</i></b> advances you to the next cell.\n",
    "1. <b>CONTROL+S</b> saves all of the contents of your current Notebook."
   ]
  },
  {
   "cell_type": "markdown",
   "id": "162f7bce-701a-44e5-8ce7-fbbbd3557c98",
   "metadata": {},
   "source": [
    "### <b>Task One</b> ###\n",
    "#### <b>Explore Two Jupyter Lab Horizontal Toolbars</b> ####\n",
    "\n",
    "Notice the two separate and completely distinct toolbars in your Jupyter Lab console:\n",
    "\n",
    "1. The Jupyter Notebook toolbar directly above your Jupyter Notebook. This toolbar consists of icons such as: <b>(1) a computer disk, (2) a plus sign, (3) scissors, etc<b>.\n",
    "\n",
    "2. The Jupyter Lab Master Toolbar in the upper lefthand corner of your entire Jupyter Lab work space. This Master Toolbar consists of: <b>File, Edit, View, Run, Kernel, Tabs, Settings, Help</b>.\n",
    "    \n",
    "To review:\n",
    "    \n",
    "1. <b>The Jupyter Lab Master Toolbar </b>is for performing tasks such as: opening and closing a new Jupyter Notebook tab within the Jupyter Lab workspace, opening and closing a Terminal tab within the Jupyter lab workspace, starting and stopping the Jupyter Lab Python Kernel for a specific Jupyter and more.     \n",
    "\n",
    "2. <b>The Jupyter Notebook Toolbar </b>is for performing tasks such as adding or deleting a cell within a specific notebook, changing the editing mode for a specific cell and more."
   ]
  },
  {
   "cell_type": "markdown",
   "id": "a1de3fb0-063e-446e-9748-1b7d2f5c8301",
   "metadata": {},
   "source": [
    "### <b>Task Two</b> ###\n",
    "#### <b> Interact with Python in a Jupyter Cell </b> #### \n",
    "##### <b><i>Just Press CONTROL+ENTER</i></b> #####"
   ]
  },
  {
   "cell_type": "code",
   "execution_count": null,
   "id": "acc75d3d-e295-4133-88c4-fa3ab2664edc",
   "metadata": {},
   "outputs": [],
   "source": [
    "print ('I will empower myself with my Data Science education!')"
   ]
  },
  {
   "cell_type": "code",
   "execution_count": null,
   "id": "43dd43a2-b502-4c27-ab85-5ad016e202e0",
   "metadata": {},
   "outputs": [],
   "source": [
    "print('Type in whatever you want between these single quotes')"
   ]
  },
  {
   "cell_type": "markdown",
   "id": "4ad5d165-3e34-4970-91af-0fd2971401ff",
   "metadata": {},
   "source": [
    "#### <b> Interact Jupyter Notebooks Built-in Help Facility </b> #### \n",
    "##### <b><i>Just type in a single letter and  press the TAB Key</i></b> \n",
    "\n",
    "By performing this simple operation, Jupyter Notebooks popup window will appear with all of the commands that begin with this single letter. While all of these commands may seem foreign to you now, this is an immensely helpful learning feature of Jupyter Notebooks."
   ]
  },
  {
   "cell_type": "code",
   "execution_count": null,
   "id": "6478f3d0-c54f-40e1-9c7b-720efd9c64ac",
   "metadata": {},
   "outputs": [],
   "source": [
    "p #Delete 'p' to the left, replace with another letter press TAB again."
   ]
  },
  {
   "cell_type": "markdown",
   "id": "b0869149-012a-4fb5-8f27-540b71cd8596",
   "metadata": {},
   "source": [
    "Don't worry that the Jupyter cell above generated an error. Your purpose of interacting with the cell above was to demonstrate the popup help facility built into Jupyer Lab."
   ]
  },
  {
   "cell_type": "markdown",
   "id": "b912b5ee-5e12-479a-be67-509dae148a15",
   "metadata": {},
   "source": [
    "### <b>Task Three</b> ###\n",
    "#### <b>Explore the Jupyter Launcher </b> #### \n",
    "#### <b><i>The Big Blue + Button Directly Under the Main Jupyter Lab Took Bar</i></b> ####\n",
    "\n",
    "When you click on the Big Blue \"+\" button directly under the main Jupyter Lab Toolbar, you access the Jupyter Launcher. The Jupyter Launcher provides easy access to three different methods of interacting with Python for Data Science:\n",
    "\n",
    "1. via a Jupyter Notebook\n",
    "1. via a Jupyter Lab console\n",
    "1. via the Operating System terminal mode\n",
    "\n",
    "These three mode can also be accessed in the following manner as well:\n",
    "\n",
    "Within your Jupyter Lab console, click on the <b>File</b> option in the Jupyter Lab Tool Bar in the upper left corner.\n",
    "\n",
    "Once you have clicked on the File option, select the first item in the menu: <b>New</b>.\n",
    "\n",
    "Select the third item in the dropdown menu: <b>Terminal</b>.\n",
    "\n",
    "Once the <b>Terminal</b> tab is open, you are now at the Operating System prompt. For this system, the underlying Operating System is Ubuntu LINUX.\n",
    "\n",
    "Enter the following three LINUX commands at the <b>Terminal</b> prompt:\n",
    "\n",
    "1. <b>pwd</b>\n",
    "1. <b>ls</b>\n",
    "1. <b>!pip3 show datascience</b>         <i>###DO NOT FORGET TO BEGIN WITH <b>\"!\"</b>.</i>\n",
    "\n",
    "<b>NOTE:</b> It is worth noting that for the most basic LINUX commands, you do not need to begin the command with the exclamation point symbol <b>\"!\"</b> when running a LINUX command in a Jupyter Notebook cell. However, for non-standard LINUX commands like <b>pip3 show datascience</b>, starting with a <b>!</b> is mandatory. It is a good practice to always start any LINUX command you run in a Jupyter Notebook cell with the <b>\"!\"</b> symbol\n",
    "\n",
    "Close the <b>Terminal</b> tab in your Jupyter Lab workspace."
   ]
  },
  {
   "cell_type": "code",
   "execution_count": null,
   "id": "2d033bdb-eefb-4f34-844d-4bb2c6a98dfc",
   "metadata": {},
   "outputs": [],
   "source": [
    "!pwd #Press SHIFT+ENTER to run basic LINUX commands inside of a Jupyter Notebook. This can be very useful."
   ]
  },
  {
   "cell_type": "code",
   "execution_count": null,
   "id": "752b2059-387d-4afe-916d-3caa7884f2f4",
   "metadata": {},
   "outputs": [],
   "source": [
    "!ls *.ipynb"
   ]
  },
  {
   "cell_type": "code",
   "execution_count": null,
   "id": "74b282d9-57d4-463d-92de-9ee8a070e450",
   "metadata": {},
   "outputs": [],
   "source": [
    "!pip3 show datascience"
   ]
  },
  {
   "cell_type": "markdown",
   "id": "9b1e1697-6028-4d62-82ed-f6668c614907",
   "metadata": {},
   "source": [
    "#### <b>Task Four: Exploring the Jupyter Lab File Manager</b> ####\n"
   ]
  },
  {
   "cell_type": "markdown",
   "id": "c49de31f-2e40-4f35-bab9-74b6ce06cb71",
   "metadata": {},
   "source": [
    "Click on the <b>Last Modified</b> column heading three times to see how the order of the files are sorted in ascending and then descending order by date and time. "
   ]
  },
  {
   "cell_type": "markdown",
   "id": "a9ad515a-0736-462a-a56b-b54bb02f45ff",
   "metadata": {},
   "source": [
    "Press <b>CONTROL+B</b> four times to see the Jupyter Lab File Manager appear and disappear."
   ]
  },
  {
   "cell_type": "markdown",
   "id": "27217365-9e87-4f33-99a4-1046b9ebff9e",
   "metadata": {},
   "source": [
    "Enter the following in the <b>Filter files by name</b> dialog box and watch what files appear:\n",
    "\n",
    "1. ipynb\n",
    "1. csv"
   ]
  },
  {
   "cell_type": "markdown",
   "id": "983e428f-ad3d-412b-a240-bc8c474d81ce",
   "metadata": {},
   "source": [
    "Highlight any file in the file list and right click on the file and review all of the options available for each file."
   ]
  },
  {
   "cell_type": "markdown",
   "id": "a76d5b44-83f7-491a-ab5d-dbdaf30642bb",
   "metadata": {},
   "source": [
    "#### <b>Task Five: Cell Configuration Modes - (1) Code, (2) Markdown, (3) Raw </b> ####\n"
   ]
  },
  {
   "cell_type": "markdown",
   "id": "b5934d17-cb39-4709-a0a3-726128c3527d",
   "metadata": {},
   "source": [
    "At the very top of this Jupyter Notebook and at the very top of any Jupyter Notebook \n",
    "is another Toolbar - the <b>Jupyter Notebook Toolbar</b>.\n",
    "\n",
    "At the end of of this toolbar is a dropdown menu with three options to set specific cell editing modes:\n",
    "\n",
    "1. Code\n",
    "1. Markdown\n",
    "1. Raw\n",
    "\n",
    "<b>Code</b> is for entering interactive Python code into a specific Jupyter Notebook cell.\n",
    "\n",
    "<b>Markdown</b> is for entering text, images and complex math equations with symbols into a specific Jupyter Notebook cell. Consider <b>Markdown</b> as activating a Jupyter Word Processer on specific cells. \n",
    "\n",
    "The default cell editing mode is <b>Code</b>.  \n",
    "\n",
    "To change the cell editing mode to <b>Markdown</b>, select <b>Markdown</b> from the drop down menu or press <b>ESCAPE, M</b> while your cursor is in the cell.\n"
   ]
  },
  {
   "cell_type": "markdown",
   "id": "248c6649-883b-44c8-ab0a-dcad7d5bb9ce",
   "metadata": {},
   "source": []
  }
 ],
 "metadata": {
  "kernelspec": {
   "display_name": "Python 3",
   "language": "python",
   "name": "python3"
  },
  "language_info": {
   "codemirror_mode": {
    "name": "ipython",
    "version": 3
   },
   "file_extension": ".py",
   "mimetype": "text/x-python",
   "name": "python",
   "nbconvert_exporter": "python",
   "pygments_lexer": "ipython3",
   "version": "3.6.9"
  },
  "toc-autonumbering": false,
  "toc-showcode": false,
  "toc-showmarkdowntxt": false
 },
 "nbformat": 4,
 "nbformat_minor": 5
}
