{
 "cells": [
  {
   "cell_type": "markdown",
   "id": "011aaa00-e3a0-4dd2-94b8-74fa79ae8668",
   "metadata": {},
   "source": [
    "## <b>Jupyter Lab Basics</b> ##"
   ]
  },
  {
   "cell_type": "markdown",
   "id": "162f7bce-701a-44e5-8ce7-fbbbd3557c98",
   "metadata": {},
   "source": [
    "### <b>Task One</b> ###\n",
    "#### <b>Explore Two Jupyter Lab Horizontal Toolbars</b> ####\n",
    "\n",
    "Notice the two separate and completely distinct toolbars in your Jupyter Lab console:\n",
    "\n",
    "1. The Jupyter Notebook toolbar directly above your Jupyter Notebook. This toolbar consists of icons such as: <b>(1) a computer disk, (2) a plus sign, (3) scissors, etc<b>.\n",
    "\n",
    "2. The Jupyter Lab Master Toolbar in the upper lefthand corner of your entire Jupyter Lab work space. This Master Toolbar consists of: <b>File, Edit, View, Run, Kernel, Tabs, Settings, Help</b>.\n",
    "    \n",
    "To review:\n",
    "    \n",
    "1. <b>The Jupyter Lab Master Toolbar </b>is for performing tasks such as: opening and closing a new Jupyter Notebook tab within the Jupyter Lab workspace, opening and closing a Terminal tab within the Jupyter lab workspace, starting and stopping the Jupyter Lab Python Kernel for a specific Jupyter and more.     \n",
    "\n",
    "2. <b>The Jupyter Notebook Toolbar </b>is for performing tasks such as adding or deleting a cell within a specific notebook, changing the editing mode for a specific cell and more."
   ]
  },
  {
   "cell_type": "markdown",
   "id": "b912b5ee-5e12-479a-be67-509dae148a15",
   "metadata": {},
   "source": [
    "### <b>Task Two</b> ###\n",
    "#### <b>Explore the Two Most Commonly Used Jupyter Tabs: Jupyter Notebook & Jupyter Terminal</b> ####\n",
    "\n",
    "Within your Jupyter Lab console, click on the <b>File</b> option in the Jupyter Lab Tool Bar in the upper left corner.\n",
    "\n",
    "Once you have clicked on the File option, select the first item in the menu: <b>New</b>.\n",
    "\n",
    "Select the third item in the dropdown menu: <b>Terminal</b>.\n",
    "\n",
    "Once the <b>Terminal</b> tab is open, you are now at the Operating System prompt. For this system, the underlying Operating System is Ubuntu LINUX.\n",
    "\n",
    "Enter the following three LINUX commands at the <b>Terminal</b> prompt:\n",
    "\n",
    "1. <b>pwd</b>\n",
    "1. <b>ls</b>\n",
    "1. <b>pip3 show datascience</b>\n",
    "\n",
    "Close the <b>Terminal</b> tab in your Jupyter Lab workspace."
   ]
  },
  {
   "cell_type": "code",
   "execution_count": 12,
   "id": "2d033bdb-eefb-4f34-844d-4bb2c6a98dfc",
   "metadata": {},
   "outputs": [
    {
     "data": {
      "text/plain": [
       "'/home/abcaslow/IaC_Literacy_Project/Module1-DS4HS'"
      ]
     },
     "execution_count": 12,
     "metadata": {},
     "output_type": "execute_result"
    }
   ],
   "source": [
    "pwd #Press SHIFT+ENTER to run basic LINUX commands inside of a Jupyter Notebook. This can be very useful."
   ]
  },
  {
   "cell_type": "code",
   "execution_count": 13,
   "id": "752b2059-387d-4afe-916d-3caa7884f2f4",
   "metadata": {},
   "outputs": [
    {
     "name": "stdout",
     "output_type": "stream",
     "text": [
      "M1L1DS4HS-Intro-to-Jupyter-Lab.ipynb\n"
     ]
    }
   ],
   "source": [
    "ls *.ipynb"
   ]
  },
  {
   "cell_type": "markdown",
   "id": "9b1e1697-6028-4d62-82ed-f6668c614907",
   "metadata": {},
   "source": [
    "#### <b>Task Three: Exploring the Jupyter Lab File Manager</b> ####\n"
   ]
  },
  {
   "cell_type": "markdown",
   "id": "c49de31f-2e40-4f35-bab9-74b6ce06cb71",
   "metadata": {},
   "source": [
    "Click on the <b>Last Modified</b> column heading three times to see how the order of the files are sorted in ascending and then descending order by date and time. "
   ]
  },
  {
   "cell_type": "markdown",
   "id": "a9ad515a-0736-462a-a56b-b54bb02f45ff",
   "metadata": {},
   "source": [
    "Press <b>CONTROL+B</b> four times to see the Jupyter Lab File Manager appear and disappear."
   ]
  },
  {
   "cell_type": "markdown",
   "id": "27217365-9e87-4f33-99a4-1046b9ebff9e",
   "metadata": {},
   "source": [
    "Enter the following in the <b>Filter files by name</b> dialog box and watch what files appear:\n",
    "\n",
    "1. ipynb\n",
    "1. csv"
   ]
  },
  {
   "cell_type": "markdown",
   "id": "983e428f-ad3d-412b-a240-bc8c474d81ce",
   "metadata": {},
   "source": [
    "Highlight any file in the file list and right click on the file and review all of the options available for each file."
   ]
  },
  {
   "cell_type": "markdown",
   "id": "a76d5b44-83f7-491a-ab5d-dbdaf30642bb",
   "metadata": {},
   "source": [
    "#### <b>Task Four: Cell Configuration Modes - (1) Code, (2) Markdown, (3) Raw </b> ####\n"
   ]
  },
  {
   "cell_type": "markdown",
   "id": "b5934d17-cb39-4709-a0a3-726128c3527d",
   "metadata": {},
   "source": [
    "At the very top of this Jupyter Notebook and at the very top of any Jupyter Notebook \n",
    "is another Toolbar - the <b>Jupyter Notebook Toolbar</b>.\n",
    "\n",
    "At the end of of this toolbar is a dropdown menu with three options to set specific cell editing modes:\n",
    "\n",
    "1. Code\n",
    "1. Markdown\n",
    "1. Raw\n",
    "\n",
    "<b>Code</b> is for entering interactive Python code into a specific Jupyter Notebook cell.\n",
    "\n",
    "<b>Markdown</b> is for entering text, images and complex math equations with symbols into a specific Jupyter Notebook cell. Consider <b>Markdown</b> as activating a Jupyter Word Processer on specific cells. \n",
    "\n",
    "The default cell editing mode is <b>Code</b>.  \n",
    "\n",
    "To change the cell editing mode to <b>Markdown</b>, select <b>Markdown</b> from the drop down menu or press <b>ESCAPE, M</b> while your cursor is in the cell.\n"
   ]
  },
  {
   "cell_type": "markdown",
   "id": "248c6649-883b-44c8-ab0a-dcad7d5bb9ce",
   "metadata": {},
   "source": []
  }
 ],
 "metadata": {
  "kernelspec": {
   "display_name": "Python 3",
   "language": "python",
   "name": "python3"
  },
  "language_info": {
   "codemirror_mode": {
    "name": "ipython",
    "version": 3
   },
   "file_extension": ".py",
   "mimetype": "text/x-python",
   "name": "python",
   "nbconvert_exporter": "python",
   "pygments_lexer": "ipython3",
   "version": "3.6.9"
  },
  "toc-autonumbering": false,
  "toc-showcode": false,
  "toc-showmarkdowntxt": false
 },
 "nbformat": 4,
 "nbformat_minor": 5
}
