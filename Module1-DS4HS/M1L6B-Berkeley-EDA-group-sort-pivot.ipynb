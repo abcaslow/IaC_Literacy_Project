{
 "cells": [
  {
   "cell_type": "markdown",
   "id": "11ff9f57-01c2-4267-93dd-20293a2efdac",
   "metadata": {},
   "source": [
    "https://inferentialthinking.com/chapters/08/3/Cross-Classifying_by_More_than_One_Variable.html"
   ]
  },
  {
   "cell_type": "code",
   "execution_count": null,
   "id": "1f5aa673-2ff1-4c18-84d2-ecb9440665ec",
   "metadata": {},
   "outputs": [],
   "source": []
  }
 ],
 "metadata": {
  "kernelspec": {
   "display_name": "Python 3",
   "language": "python",
   "name": "python3"
  },
  "language_info": {
   "codemirror_mode": {
    "name": "ipython",
    "version": 3
   },
   "file_extension": ".py",
   "mimetype": "text/x-python",
   "name": "python",
   "nbconvert_exporter": "python",
   "pygments_lexer": "ipython3",
   "version": "3.6.9"
  }
 },
 "nbformat": 4,
 "nbformat_minor": 5
}
