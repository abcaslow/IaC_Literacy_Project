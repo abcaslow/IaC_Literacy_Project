{
 "cells": [
  {
   "cell_type": "markdown",
   "id": "1d6449a9-01f7-4204-ae6c-1b5108e527de",
   "metadata": {},
   "source": [
    "#### <b> LINUX and git Fundamentals</b> ####"
   ]
  },
  {
   "cell_type": "markdown",
   "id": "ed75d569-b293-45fc-8713-88e566692bc9",
   "metadata": {},
   "source": [
    "Always Start with Git Pull"
   ]
  },
  {
   "cell_type": "code",
   "execution_count": 5,
   "id": "b18a8e29-7b43-4277-b312-c46734c51ab2",
   "metadata": {},
   "outputs": [
    {
     "name": "stdout",
     "output_type": "stream",
     "text": [
      "Already up to date.\n"
     ]
    }
   ],
   "source": [
    "!git pull"
   ]
  },
  {
   "cell_type": "code",
   "execution_count": 4,
   "id": "24ef3ca3-363c-499e-8e81-696c39523530",
   "metadata": {},
   "outputs": [
    {
     "name": "stdout",
     "output_type": "stream",
     "text": [
      "\u001b[33mcommit 57a215bc7227ec415ed88d740b469bcf140981b4\u001b[m\u001b[33m (\u001b[m\u001b[1;36mHEAD -> \u001b[m\u001b[1;32mmaster\u001b[m\u001b[33m, \u001b[m\u001b[1;31morigin/master\u001b[m\u001b[33m, \u001b[m\u001b[1;31morigin/HEAD\u001b[m\u001b[33m)\u001b[m\n",
      "Author: Bruce DS4HS Instructor <abcaslow@gmail.com>\n",
      "Date:   Sat Jun 12 09:49:04 2021 -0400\n",
      "\n",
      "    Adding the new subdirectory DS4HS-Module1 with all of its constituent Notebooks.\n",
      "\n",
      " Module1-DS4HS/M1L1-Intro-to-Jupyter-Lab.ipynb      |   201 \u001b[32m+\u001b[m\n",
      " .../M1L1A-Exploring-a-DataScience-Notebook.ipynb   |   127 \u001b[32m+\u001b[m\n",
      " Module1-DS4HS/M1L2-Python-Data-Types-Part-1.ipynb  |   740 \u001b[32m++\u001b[m\n",
      " Module1-DS4HS/M1L3-Python-Data-Types-Part-2.ipynb  |  1024 \u001b[32m++\u001b[m\n",
      " .../M1L3LAB-Python-Data_Types_Basics.ipynb         |   867 \u001b[32m++\u001b[m\n",
      " .../M1L4-Exploring-Built-in-Python-Functions.ipynb |  1075 \u001b[32m++\u001b[m\n",
      " .../M1L5-Exploring-numpy-arrays-Part-One.ipynb     |   381 \u001b[32m+\u001b[m\n",
      " .../M1L5A-Comparing-lists-vs-arrays.ipynb          |  1193 \u001b[32m++\u001b[m\n",
      " .../M1L6-Exploring-numpy-arrays-Part-Two.ipynb     |   398 \u001b[32m+\u001b[m\n",
      " .../M1L7-Exploring-numpy-arrays-Part-Three.ipynb   |   324 \u001b[32m+\u001b[m\n",
      " .../M1L8-Berkeley-datascience-Tables.ipynb         |    42 \u001b[32m+\u001b[m\n",
      " ...ECT1-Building-Your-First-Jupyter-Notebook.ipynb |   290 \u001b[32m+\u001b[m\n",
      " ...1PROJECT2-Comparing_Two_Heartrates_June_6.ipynb |   270 \u001b[32m+\u001b[m\n",
      " ...PROJECT2A-Comparing_Two_Heartrates_June_6.ipynb |   324 \u001b[32m+\u001b[m\n",
      " Module1-DS4HS/Untitled.ipynb                       |    42 \u001b[32m+\u001b[m\n",
      " .../Getting-Started-Python-Data-Types-Master.ipynb |  1167 \u001b[32m++\u001b[m\n",
      " .../Getting-Started-Python-Data-Types.ipynb        |   636 \u001b[32m+\u001b[m\n",
      " .../archive/course-dev-20-may-array-slicing.ipynb  |   687 \u001b[32m++\u001b[m\n",
      " Module1-DS4HS/heartrate.csv                        | 12176 \u001b[32m+++++++++++++++++++\u001b[m\n",
      " 19 files changed, 21964 insertions(+)\n"
     ]
    }
   ],
   "source": [
    "!git log -1 --stat"
   ]
  },
  {
   "cell_type": "markdown",
   "id": "ace48e3a-f760-40e0-8935-dc2965d32936",
   "metadata": {},
   "source": [
    "#### Exploring github Repositories ####"
   ]
  },
  {
   "cell_type": "code",
   "execution_count": null,
   "id": "938813dc-02bd-4f48-a2c2-9e1d8b7ccf8e",
   "metadata": {},
   "outputs": [],
   "source": [
    "#Discuss grep and find.\n",
    "#Discuss piping commands such as 'cat test | grep Apple'"
   ]
  }
 ],
 "metadata": {
  "kernelspec": {
   "display_name": "Python 3",
   "language": "python",
   "name": "python3"
  },
  "language_info": {
   "codemirror_mode": {
    "name": "ipython",
    "version": 3
   },
   "file_extension": ".py",
   "mimetype": "text/x-python",
   "name": "python",
   "nbconvert_exporter": "python",
   "pygments_lexer": "ipython3",
   "version": "3.6.9"
  }
 },
 "nbformat": 4,
 "nbformat_minor": 5
}
