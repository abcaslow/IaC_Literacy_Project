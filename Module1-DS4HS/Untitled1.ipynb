{
 "cells": [
  {
   "cell_type": "code",
   "execution_count": 7,
   "id": "a91d3b18-ac8a-4b22-a261-b69648c7faa3",
   "metadata": {},
   "outputs": [],
   "source": [
    "from datascience import Table\n",
    "import numpy as np"
   ]
  },
  {
   "cell_type": "code",
   "execution_count": 8,
   "id": "ff82d506-23b7-46cf-a57e-0ce3e990fe06",
   "metadata": {},
   "outputs": [],
   "source": [
    "demo=Table.read_table('stockmarket.csv')"
   ]
  },
  {
   "cell_type": "code",
   "execution_count": 10,
   "id": "8db79c17-a584-448c-9cd9-c93d365f61b2",
   "metadata": {},
   "outputs": [
    {
     "ename": "AttributeError",
     "evalue": "'numpy.ndarray' object has no attribute 'np'",
     "output_type": "error",
     "traceback": [
      "\u001b[0;31m---------------------------------------------------------------------------\u001b[0m",
      "\u001b[0;31mAttributeError\u001b[0m                            Traceback (most recent call last)",
      "\u001b[0;32m<ipython-input-10-ec9fe83ab559>\u001b[0m in \u001b[0;36m<module>\u001b[0;34m\u001b[0m\n\u001b[0;32m----> 1\u001b[0;31m \u001b[0mdemo\u001b[0m\u001b[0;34m[\u001b[0m\u001b[0;36m2\u001b[0m\u001b[0;34m]\u001b[0m\u001b[0;34m.\u001b[0m\u001b[0mnp\u001b[0m\u001b[0;34m.\u001b[0m\u001b[0mupper\u001b[0m\u001b[0;34m(\u001b[0m\u001b[0;34m)\u001b[0m\u001b[0;34m\u001b[0m\u001b[0;34m\u001b[0m\u001b[0m\n\u001b[0m",
      "\u001b[0;31mAttributeError\u001b[0m: 'numpy.ndarray' object has no attribute 'np'"
     ]
    }
   ],
   "source": [
    "demo[2].np.upper()"
   ]
  },
  {
   "cell_type": "code",
   "execution_count": 13,
   "id": "951412cd-bab8-42d8-a59e-e91839738fd6",
   "metadata": {},
   "outputs": [
    {
     "data": {
      "text/plain": [
       "array(['APPLE', 'MICROSOFT', 'AMAZON', 'ALPHABET', 'FACEBOOK',\n",
       "       'BERKSHIRE HATHAWAY', 'VISA', 'WALMART', 'TESLA',\n",
       "       'JOHNSON & JOHNSON', 'PROCTOR & GAMBLE', 'NVIDA', 'MASTERCARD',\n",
       "       'UNITED HEALTH', 'JP MORGAN', 'HOME DEPOT', 'VERIZON', 'ADOBE',\n",
       "       'SALESFORCE', 'PAYPAL', 'NETFLIX', 'DISNEY', 'INTEL', 'NOVARTIS',\n",
       "       'COCA COLA', 'ATT', 'COMCAST', 'MERCK', 'PFIZER', 'ABBOTT LABS',\n",
       "       'PEPSI', 'SAP', 'ORACLE', 'MC DONALDS', 'CISCO', 'NIKE', 'COSTCO',\n",
       "       'AMGEN', 'BROADCOM', 'EXXON', 'ASTRA ZENECA', 'ACCENTURE', 'ZOOM',\n",
       "       'UNITED PARCEL SERVICE', 'IBM (G-MAFIA)', 'WELLS FARGO',\n",
       "       'CITIGROUP', 'BOEING', 'SNOWFLAKE', 'GENERAL ELECTRIC',\n",
       "       'GENERAL MOTORS', 'FORD', 'PALO ALTO NETWORKS', 'PALANTIR'],\n",
       "      dtype='<U21')"
      ]
     },
     "execution_count": 13,
     "metadata": {},
     "output_type": "execute_result"
    }
   ],
   "source": [
    "#np.char.rfind(a,'geek')\n",
    "#np.char.rfind(a,'geek')\n",
    "np.char.upper(demo[2])"
   ]
  },
  {
   "cell_type": "code",
   "execution_count": 26,
   "id": "b5e3d87a-7eac-4b8c-922a-22cbc59fc453",
   "metadata": {},
   "outputs": [
    {
     "data": {
      "text/plain": [
       "array(['Apple', 'Microsoft', 'Amazon', 'Alphabet', 'Facebook',\n",
       "       'Berkshire Hathaway', 'VISA', 'Walmart', 'Tesla',\n",
       "       'Johnson & Johnson'], dtype='<U21')"
      ]
     },
     "execution_count": 26,
     "metadata": {},
     "output_type": "execute_result"
    }
   ],
   "source": [
    "from datascience.predicates import are\n",
    "#marbles.where(\"Price\", are.above(1.5))\n",
    "#demo.where('market-cap', are.above(1000))\n",
    "#demo[5][demo[5]>1000]\n",
    "demo[2][:10]"
   ]
  },
  {
   "cell_type": "code",
   "execution_count": 18,
   "id": "a636b15a-89fd-4572-9de3-93d20025828c",
   "metadata": {},
   "outputs": [
    {
     "data": {
      "text/plain": [
       "\u001b[0;31mSignature:\u001b[0m \u001b[0mdemo\u001b[0m\u001b[0;34m.\u001b[0m\u001b[0mwhere\u001b[0m\u001b[0;34m(\u001b[0m\u001b[0mcolumn_or_label\u001b[0m\u001b[0;34m,\u001b[0m \u001b[0mvalue_or_predicate\u001b[0m\u001b[0;34m=\u001b[0m\u001b[0;32mNone\u001b[0m\u001b[0;34m,\u001b[0m \u001b[0mother\u001b[0m\u001b[0;34m=\u001b[0m\u001b[0;32mNone\u001b[0m\u001b[0;34m)\u001b[0m\u001b[0;34m\u001b[0m\u001b[0;34m\u001b[0m\u001b[0m\n",
       "\u001b[0;31mDocstring:\u001b[0m\n",
       "Return a new ``Table`` containing rows where ``value_or_predicate``\n",
       "returns True for values in ``column_or_label``.\n",
       "\n",
       "Args:\n",
       "    ``column_or_label``: A column of the ``Table`` either as a label\n",
       "    (``str``) or an index (``int``). Can also be an array of booleans;\n",
       "    only the rows where the array value is ``True`` are kept.\n",
       "\n",
       "    ``value_or_predicate``: If a function, it is applied to every value\n",
       "    in ``column_or_label``. Only the rows where ``value_or_predicate``\n",
       "    returns True are kept. If a single value, only the rows where the\n",
       "    values in ``column_or_label`` are equal to ``value_or_predicate``\n",
       "    are kept.\n",
       "\n",
       "    ``other``: Optional additional column label for\n",
       "    ``value_or_predicate`` to make pairwise comparisons. See the\n",
       "    examples below for usage. When ``other`` is supplied,\n",
       "    ``value_or_predicate`` must be a callable function.\n",
       "\n",
       "Returns:\n",
       "    If ``value_or_predicate`` is a function, returns a new ``Table``\n",
       "    containing only the rows where ``value_or_predicate(val)`` is True\n",
       "    for the ``val``s in ``column_or_label``.\n",
       "\n",
       "    If ``value_or_predicate`` is a value, returns a new ``Table``\n",
       "    containing only the rows where the values in ``column_or_label``\n",
       "    are equal to ``value_or_predicate``.\n",
       "\n",
       "    If ``column_or_label`` is an array of booleans, returns a new\n",
       "    ``Table`` containing only the rows where ``column_or_label`` is\n",
       "    ``True``.\n",
       "\n",
       ">>> marbles = Table().with_columns(\n",
       "...    \"Color\", make_array(\"Red\", \"Green\", \"Blue\",\n",
       "...                        \"Red\", \"Green\", \"Green\"),\n",
       "...    \"Shape\", make_array(\"Round\", \"Rectangular\", \"Rectangular\",\n",
       "...                        \"Round\", \"Rectangular\", \"Round\"),\n",
       "...    \"Amount\", make_array(4, 6, 12, 7, 9, 2),\n",
       "...    \"Price\", make_array(1.30, 1.20, 2.00, 1.75, 0, 3.00))\n",
       "\n",
       ">>> marbles\n",
       "Color | Shape       | Amount | Price\n",
       "Red   | Round       | 4      | 1.3\n",
       "Green | Rectangular | 6      | 1.2\n",
       "Blue  | Rectangular | 12     | 2\n",
       "Red   | Round       | 7      | 1.75\n",
       "Green | Rectangular | 9      | 0\n",
       "Green | Round       | 2      | 3\n",
       "\n",
       "Use a value to select matching rows\n",
       "\n",
       ">>> marbles.where(\"Price\", 1.3)\n",
       "Color | Shape | Amount | Price\n",
       "Red   | Round | 4      | 1.3\n",
       "\n",
       "In general, a higher order predicate function such as the functions in\n",
       "``datascience.predicates.are`` can be used.\n",
       "\n",
       ">>> from datascience.predicates import are\n",
       ">>> # equivalent to previous example\n",
       ">>> marbles.where(\"Price\", are.equal_to(1.3))\n",
       "Color | Shape | Amount | Price\n",
       "Red   | Round | 4      | 1.3\n",
       "\n",
       ">>> marbles.where(\"Price\", are.above(1.5))\n",
       "Color | Shape       | Amount | Price\n",
       "Blue  | Rectangular | 12     | 2\n",
       "Red   | Round       | 7      | 1.75\n",
       "Green | Round       | 2      | 3\n",
       "\n",
       "Use the optional argument ``other`` to apply predicates to compare\n",
       "columns.\n",
       "\n",
       ">>> marbles.where(\"Price\", are.above, \"Amount\")\n",
       "Color | Shape | Amount | Price\n",
       "Green | Round | 2      | 3\n",
       "\n",
       ">>> marbles.where(\"Price\", are.equal_to, \"Amount\") # empty table\n",
       "Color | Shape | Amount | Price\n",
       "\u001b[0;31mFile:\u001b[0m      ~/.local/lib/python3.6/site-packages/datascience/tables.py\n",
       "\u001b[0;31mType:\u001b[0m      method\n"
      ]
     },
     "metadata": {},
     "output_type": "display_data"
    }
   ],
   "source": [
    "?demo.where"
   ]
  },
  {
   "cell_type": "code",
   "execution_count": null,
   "id": "9fcef4bf-ea87-41e6-b864-3dbc5f3e7113",
   "metadata": {},
   "outputs": [],
   "source": []
  }
 ],
 "metadata": {
  "kernelspec": {
   "display_name": "Python 3",
   "language": "python",
   "name": "python3"
  },
  "language_info": {
   "codemirror_mode": {
    "name": "ipython",
    "version": 3
   },
   "file_extension": ".py",
   "mimetype": "text/x-python",
   "name": "python",
   "nbconvert_exporter": "python",
   "pygments_lexer": "ipython3",
   "version": "3.6.9"
  }
 },
 "nbformat": 4,
 "nbformat_minor": 5
}
