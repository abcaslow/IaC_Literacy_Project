{
 "cells": [
  {
   "cell_type": "markdown",
   "id": "520d20b4-d230-4304-b616-59a19f832a3b",
   "metadata": {},
   "source": [
    "Visualizing Data\n",
    "\n",
    "https://inferentialthinking.com/chapters/07/Visualization.html"
   ]
  },
  {
   "cell_type": "code",
   "execution_count": null,
   "id": "7f67ee57-a128-4635-a7d7-99ac09ffbde2",
   "metadata": {},
   "outputs": [],
   "source": [
    "import matplotlib.pyplot as plt\n",
    "%matplotlib inline"
   ]
  }
 ],
 "metadata": {
  "kernelspec": {
   "display_name": "Python 3",
   "language": "python",
   "name": "python3"
  },
  "language_info": {
   "codemirror_mode": {
    "name": "ipython",
    "version": 3
   },
   "file_extension": ".py",
   "mimetype": "text/x-python",
   "name": "python",
   "nbconvert_exporter": "python",
   "pygments_lexer": "ipython3",
   "version": "3.6.9"
  }
 },
 "nbformat": 4,
 "nbformat_minor": 5
}
