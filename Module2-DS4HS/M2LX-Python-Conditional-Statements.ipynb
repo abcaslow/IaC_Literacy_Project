{
 "cells": [
  {
   "cell_type": "markdown",
   "id": "611f52db-defb-4b41-9521-4b3e3731125a",
   "metadata": {},
   "source": [
    "The second half of this Inferential Thinking page introduces the Python Boolean Data Type:\n",
    "https://inferentialthinking.com/chapters/09/Randomness.html\n",
    "\n",
    "https://inferentialthinking.com/chapters/09/1/Conditional_Statements.html\n",
    "\n",
    "Iterating Conditional Statements:\n",
    "https://inferentialthinking.com/chapters/09/2/Iteration.html\n"
   ]
  }
 ],
 "metadata": {
  "kernelspec": {
   "display_name": "Python 3",
   "language": "python",
   "name": "python3"
  },
  "language_info": {
   "codemirror_mode": {
    "name": "ipython",
    "version": 3
   },
   "file_extension": ".py",
   "mimetype": "text/x-python",
   "name": "python",
   "nbconvert_exporter": "python",
   "pygments_lexer": "ipython3",
   "version": "3.6.9"
  }
 },
 "nbformat": 4,
 "nbformat_minor": 5
}
