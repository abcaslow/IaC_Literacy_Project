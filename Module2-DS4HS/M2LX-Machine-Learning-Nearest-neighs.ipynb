{
 "cells": [
  {
   "cell_type": "markdown",
   "id": "c92177e5-4272-4eef-9e88-aad5495c989e",
   "metadata": {},
   "source": [
    "Machine Learning with K Nearest Neighbors \n",
    "https://inferentialthinking.com/chapters/17/1/Nearest_Neighbors.html?highlight=show_closest"
   ]
  },
  {
   "cell_type": "code",
   "execution_count": null,
   "id": "8d93702e-3231-4bff-9600-6ab0ca3f3bf8",
   "metadata": {},
   "outputs": [],
   "source": []
  }
 ],
 "metadata": {
  "kernelspec": {
   "display_name": "Python 3",
   "language": "python",
   "name": "python3"
  },
  "language_info": {
   "codemirror_mode": {
    "name": "ipython",
    "version": 3
   },
   "file_extension": ".py",
   "mimetype": "text/x-python",
   "name": "python",
   "nbconvert_exporter": "python",
   "pygments_lexer": "ipython3",
   "version": "3.6.9"
  }
 },
 "nbformat": 4,
 "nbformat_minor": 5
}
