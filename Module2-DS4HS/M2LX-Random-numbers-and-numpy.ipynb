{
 "cells": [
  {
   "cell_type": "markdown",
   "id": "06994b5c-0631-4ccf-8cff-60ec1fe2ff0d",
   "metadata": {},
   "source": [
    "https://inferentialthinking.com/chapters/09/Randomness.html"
   ]
  },
  {
   "cell_type": "markdown",
   "id": "3bf44110-2c76-4cf1-99a7-83f16507eca2",
   "metadata": {},
   "source": [
    "https://chrisalbon.com/python/basics/generating_random_numbers_with_numpy/"
   ]
  },
  {
   "cell_type": "code",
   "execution_count": 2,
   "id": "2b485950-3b3b-4956-964d-cb59ce5a853a",
   "metadata": {},
   "outputs": [
    {
     "data": {
      "text/plain": [
       "array([45, 51, 68, 73])"
      ]
     },
     "execution_count": 2,
     "metadata": {},
     "output_type": "execute_result"
    }
   ],
   "source": [
    "import numpy as np\n",
    "np.random.randint(low=1, high=100, size=4)"
   ]
  },
  {
   "cell_type": "markdown",
   "id": "67ae0dbc-26d4-4c28-bf72-1da464e3c69f",
   "metadata": {},
   "source": [
    "https://www.sharpsightlabs.com/blog/numpy-random-choice/"
   ]
  },
  {
   "cell_type": "code",
   "execution_count": 4,
   "id": "0e9e3807-b0d5-4b41-8da1-6d51cce47874",
   "metadata": {},
   "outputs": [
    {
     "data": {
      "text/plain": [
       "array([1, 6, 4, 2, 1, 1, 1, 5, 3, 4, 1, 6, 5, 1, 1, 1, 1, 2, 1, 1])"
      ]
     },
     "execution_count": 4,
     "metadata": {},
     "output_type": "execute_result"
    }
   ],
   "source": [
    "array_1_to_6 = np.arange(start = 1, stop =7)\n",
    "np.random.seed(42)\n",
    "np.random.choice(a = array_1_to_6, p = [.5,.1,.1,.1,.1,.1], size = 20)"
   ]
  },
  {
   "cell_type": "markdown",
   "id": "2dca5567-cf64-4675-86d0-b192a62eb6cb",
   "metadata": {},
   "source": [
    "Here are great examples of numpy's random.choice method from\n",
    "Inferential Thinking:\n",
    "https://inferentialthinking.com/chapters/09/3/Simulation.html"
   ]
  },
  {
   "cell_type": "markdown",
   "id": "6762c7ca-bd33-4dc1-96ce-f1e6b98952b3",
   "metadata": {},
   "source": [
    "### <b>Binomial Distribution vs. Normal Distribution</b> ###\n",
    "\n",
    "\n",
    "Binomial Distribution is a Discrete Distribution.\n",
    "It describes the outcome of binary scenarios, e.g. toss of a coin, it will either be head or tails.\n",
    "It has three parameters:\n",
    "n - number of trials.\n",
    "p - probability of occurence of each trial (e.g. for toss of a coin 0.5 each).\n",
    "size - The shape of the returned array.\n",
    "\n",
    "from: https://www.w3schools.com/python/numpy/numpy_random_binomial.asp\n",
    "\n",
    "Inferential Thinking discusses coin tossing and discrete distributions in Chapter 10:\n",
    "https://inferentialthinking.com/chapters/10/1/Empirical_Distributions.html\n"
   ]
  },
  {
   "cell_type": "code",
   "execution_count": 6,
   "id": "b9d15fc6-ac77-4d04-bf56-dbcbdba7ac98",
   "metadata": {},
   "outputs": [
    {
     "name": "stdout",
     "output_type": "stream",
     "text": [
      "[5 3 4 4 5 6 4 5 5 2]\n"
     ]
    }
   ],
   "source": [
    "from numpy import random\n",
    "\n",
    "x = random.binomial(n=10, p=0.5, size=10)\n",
    "\n",
    "print(x)"
   ]
  },
  {
   "cell_type": "code",
   "execution_count": 7,
   "id": "3060fd78-2750-45ea-b751-070e401bad96",
   "metadata": {},
   "outputs": [
    {
     "name": "stderr",
     "output_type": "stream",
     "text": [
      "/home/abcaslow/.local/lib/python3.6/site-packages/seaborn/distributions.py:2557: FutureWarning: `distplot` is a deprecated function and will be removed in a future version. Please adapt your code to use either `displot` (a figure-level function with similar flexibility) or `histplot` (an axes-level function for histograms).\n",
      "  warnings.warn(msg, FutureWarning)\n"
     ]
    },
    {
     "data": {
      "image/png": "[encoded data removed]",
      "text/plain": [
       "<Figure size 432x288 with 1 Axes>"
      ]
     },
     "metadata": {
      "needs_background": "light"
     },
     "output_type": "display_data"
    }
   ],
   "source": [
    "# One more example\n",
    "import matplotlib.pyplot as plt\n",
    "import seaborn as sns\n",
    "\n",
    "sns.distplot(random.binomial(n=10, p=0.5, size=1000), hist=True, kde=False)\n",
    "\n",
    "plt.show()"
   ]
  },
  {
   "cell_type": "markdown",
   "id": "1d367078-e6cc-41ab-a334-634c13b2df60",
   "metadata": {},
   "source": [
    "Bibliogrpaphy\n",
    "\n",
    "Probability With The Binomial Distribution And Pascal's Triangle: A Key Idea In Statistics Kindle Edition\n",
    "by Scott Hartshorn  (Author)  Format: Kindle Edition\n",
    "\n",
    "https://www.linkedin.com/in/scott-hartshorn-9b619061/"
   ]
  },
  {
   "cell_type": "markdown",
   "id": "a3db6c78-2c0f-4234-8566-ef285edd0ca3",
   "metadata": {},
   "source": [
    "Pascal's Triangle and Probability\n",
    "https://www.youtube.com/watch?v=t0nPIzjrUzw\n",
    "Fermat: 6:00\n",
    "Decision Tree/Playing out all possible outcomes: 7:00\n",
    "Problem of the Points https://en.wikipedia.org/wiki/Problem_of_points\n",
    "10:00 re-visiting how many games Player and Player B need to win the tennis game\n",
    "11:00 solving the points problem as an additive array\n",
    "12:00 an example from the intelligence community: attacker v. defender\n",
    "Enumerate all possible outcomes.\n",
    "14:00 number of favorable outcomes/number of all possible outcomes\n",
    "14:30 an array of outcomes and statistics.\n"
   ]
  },
  {
   "cell_type": "code",
   "execution_count": 1,
   "id": "f327d521-b7b2-42ec-9e09-13932d0a79ef",
   "metadata": {},
   "outputs": [],
   "source": [
    "import numpy as np"
   ]
  },
  {
   "cell_type": "code",
   "execution_count": 11,
   "id": "81274d3a-32dd-4ec5-9648-8eb2eb1875ca",
   "metadata": {},
   "outputs": [],
   "source": [
    "def binom(n,k):\n",
    "    return 1 if k == 0 or k == n else np.prod([n+1-i/i for i in range(1,k+1)])\n",
    "#https://stackoverflow.com/questions/58340600/printing-binomial-coefficient-using-numpy"
   ]
  },
  {
   "cell_type": "code",
   "execution_count": 5,
   "id": "96bce374-615b-46d0-97a7-957276b6af26",
   "metadata": {},
   "outputs": [
    {
     "data": {
      "text/plain": [
       "1048576.0"
      ]
     },
     "execution_count": 5,
     "metadata": {},
     "output_type": "execute_result"
    }
   ],
   "source": [
    "binom(4,10)"
   ]
  },
  {
   "cell_type": "code",
   "execution_count": 7,
   "id": "927349e7-9cc2-4fa2-8442-75a188e3865a",
   "metadata": {},
   "outputs": [
    {
     "data": {
      "text/plain": [
       "1.2676506002282302e+130"
      ]
     },
     "execution_count": 7,
     "metadata": {},
     "output_type": "execute_result"
    }
   ],
   "source": [
    "k=100\n",
    "n=20\n",
    "\n",
    "np.prod([n+1-i/i for i in range(1,k+1)])"
   ]
  },
  {
   "cell_type": "code",
   "execution_count": 8,
   "id": "2702b3e6-05fc-40a2-957b-535a492a635e",
   "metadata": {},
   "outputs": [],
   "source": [
    "z=range(1,k+1)"
   ]
  },
  {
   "cell_type": "code",
   "execution_count": 10,
   "id": "6debc16f-a4a5-4b9f-a326-47dfcac17813",
   "metadata": {},
   "outputs": [
    {
     "name": "stdout",
     "output_type": "stream",
     "text": [
      "range(1, 101)\n"
     ]
    }
   ],
   "source": [
    "print(z)"
   ]
  },
  {
   "cell_type": "markdown",
   "id": "e817d1dc-18aa-4020-a0d4-6b962dad96a9",
   "metadata": {},
   "source": [
    "Law of Large Numbers - Cardano/Jacob Bernoulli/Poisson\n",
    "https://en.wikipedia.org/wiki/Law_of_large_numbers\n",
    "Monte Carlo Methods - Stefan Ulam https://en.wikipedia.org/wiki/Monte_Carlo_method\n",
    "    "
   ]
  },
  {
   "cell_type": "code",
   "execution_count": null,
   "id": "300c36e5-0820-4816-978a-ef0c2595ca6c",
   "metadata": {},
   "outputs": [],
   "source": []
  }
 ],
 "metadata": {
  "kernelspec": {
   "display_name": "Python 3",
   "language": "python",
   "name": "python3"
  },
  "language_info": {
   "codemirror_mode": {
    "name": "ipython",
    "version": 3
   },
   "file_extension": ".py",
   "mimetype": "text/x-python",
   "name": "python",
   "nbconvert_exporter": "python",
   "pygments_lexer": "ipython3",
   "version": "3.6.9"
  }
 },
 "nbformat": 4,
 "nbformat_minor": 5
}
