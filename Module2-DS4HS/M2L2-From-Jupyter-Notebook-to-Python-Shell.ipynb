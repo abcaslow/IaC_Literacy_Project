{
 "cells": [
  {
   "cell_type": "code",
   "execution_count": 2,
   "id": "02c4400a-cb5f-4ba1-97db-3d3080fff3fe",
   "metadata": {},
   "outputs": [
    {
     "name": "stdout",
     "output_type": "stream",
     "text": [
      "#! /usr/bin/env python3\n",
      "\n",
      "from datascience import *\n",
      "import numpy as np\n",
      "import matplotlib.pyplot as plt\n",
      "%matplotlib inline\n",
      "import datetime\n",
      "import sys\n",
      "rawdata=Table.read_table('/home/abcaslow/data8/market-cap50billions-21-march.csv')\n",
      "#print(rawdata.shape)\n",
      "print(\"Shape of the csv imported data to the Python object name: rawdata\")\n",
      "print(\"Number of columns:\", rawdata.num_columns)\n",
      "print(\"Number of rows:\", rawdata.num_rows)\n",
      "for i in rawdata:\n",
      "  print(i,rawdata.column(i).dtype)\n",
      "print(\"Start analyzing your data with the SQL-like commands 'select', 'where' and 'group'.\")\n",
      "print(\"Have fun! Build some pivot tables and draw graphs to visualize your data\")\n",
      "print(rawdata)\n",
      "marketcapgraph=rawdata.select('company','market-cap').sort('market-cap', descending=True).take[0:11].barh('company')\n"
     ]
    }
   ],
   "source": [
    "!../ds4hs/jupyter2pythonwithjq < ../ds4hs/market-cap-50-21-march-pm.ipynb"
   ]
  },
  {
   "cell_type": "code",
   "execution_count": null,
   "id": "5e84eaf6-01af-440b-a4ea-8b915e6fd6f9",
   "metadata": {},
   "outputs": [],
   "source": []
  }
 ],
 "metadata": {
  "kernelspec": {
   "display_name": "Python 3",
   "language": "python",
   "name": "python3"
  },
  "language_info": {
   "codemirror_mode": {
    "name": "ipython",
    "version": 3
   },
   "file_extension": ".py",
   "mimetype": "text/x-python",
   "name": "python",
   "nbconvert_exporter": "python",
   "pygments_lexer": "ipython3",
   "version": "3.6.9"
  }
 },
 "nbformat": 4,
 "nbformat_minor": 5
}
