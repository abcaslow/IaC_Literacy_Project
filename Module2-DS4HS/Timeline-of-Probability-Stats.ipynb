{
 "cells": [
  {
   "cell_type": "markdown",
   "id": "0c6674c3-1f5e-43b8-8767-8dd67b14cc43",
   "metadata": {},
   "source": [
    "#### <b>History of Probability and Statistics </b> ####\n",
    "Measuring: Certainity, Uncertainty, Complexity, Limits of Human Knowledge, Ignorance (an unawareness of accumulated human knowledge), randomness and pseudorandomness"
   ]
  },
  {
   "cell_type": "markdown",
   "id": "d69a6c48-8de7-4cc9-8beb-d6d80a23f92f",
   "metadata": {},
   "source": [
    "<b>al Kindi 801-873</b>\n",
    "\n",
    "https://en.wikipedia.org/wiki/Al-Kindi\n",
    "\n",
    "In the field of mathematics, al-Kindi played an important role in introducing Indian numerals to the Islamic world, and subsequently, relabeled as Arabic numerals, to the Christian world, along with Al-Khwarizmi.[16] Al-Kindi was also one of the fathers of cryptography.[17][18] Building on the work of Al-Khalil (717–786),[19] Al-Kindi's book entitled <b>Manuscript on Deciphering Cryptographic Messages</b> gave rise to the birth of cryptanalysis, was the earliest known use of <b>statistical inference</b>,[20] and introduced several new methods of breaking ciphers, notably <b>frequency analysis</b>."
   ]
  },
  {
   "cell_type": "markdown",
   "id": "6dd7810a-77b8-450d-ba8d-f49d4f6d7007",
   "metadata": {},
   "source": [
    "<b>1494: Luca Pacioli </b>considered such a problem in his <b>1494 textbook Summa de arithmetica, geometrica, proportioni et proportionalità</b>. His method was to divide the stakes in proportion to the number of rounds won by each player, and the number of rounds needed to win did not enter his calculations at all.[1]\n",
    "\n",
    "\n",
    "<b>In the mid-16th century Niccolò Tartaglia</b> noticed that Pacioli's method leads to counterintuitive results if the game is interrupted when only one round has been played. In that case, Pacioli's rule would award the entire pot to the winner of that single round, though a one-round lead early in a long game is far from decisive. Tartaglia constructed a method that avoids that particular problem by basing the division on the ratio between the size of the lead and the length of the game.[1] This solution is still not without problems, however; in a game to 100 it divides the stakes in the same way for a 65–55 lead as for a 99–89 lead, even though the former is still a relatively open game whereas in the latter situation victory for the leading player is almost certain. Tartaglia himself was unsure whether the problem was solvable at all in a way that would convince both players of its fairness: \"in whatever way the division is made there will be cause for litigation\".[2]\n",
    "\n",
    "from: https://en.wikipedia.org/wiki/Problem_of_points"
   ]
  },
  {
   "cell_type": "markdown",
   "id": "844fbe63-4afb-4f4a-96db-72586036f7d9",
   "metadata": {},
   "source": [
    "1563: Girolamo Cardono conducts the first study of probability focusing on gambling such as dice rolling.\n",
    "His book Liber de Ludo Aleae was published in 1663."
   ]
  },
  {
   "cell_type": "markdown",
   "id": "8e2dbf26-3e22-418c-a515-eb7b65b953a9",
   "metadata": {},
   "source": [
    "<b>1546-1601: Tycho Brahe</b> uses data for proving astronomy behavior\n",
    "    https://en.wikipedia.org/wiki/Tycho_Brahe"
   ]
  },
  {
   "cell_type": "markdown",
   "id": "8e71d4c1-2bbc-4d34-bbf9-3819438073ab",
   "metadata": {},
   "source": [
    "1654: Blaise Pascal in correspondence with Pierre de Fermat laid the foundation for the theory of probability. This correspondence consisted of five letters and occurred in the summer of 1654. They considered the dice problem, already studied by Cardano. The dice problem asks how many times one must throw a pair of dice before one expects a double six while the problem of points asks how to divide the stakes if a game of dice is incomplete."
   ]
  },
  {
   "cell_type": "markdown",
   "id": "27209c08-e149-41cc-b099-a92763c0fe83",
   "metadata": {},
   "source": [
    "Pascal's Problem of Points Problem (Pascal and Fermat\n",
    "Problem of the Points https://en.wikipedia.org/wiki/Problem_of_points\n",
    "\n",
    "<b>Pascal's Triangle and the variables \"r\" and \"s\"</b>\n",
    "Through clever manipulation of identities involving what is today known as Pascal's triangle (including several of the first explicit proofs by induction) Pascal finally showed that in a game where one player needs r points to win and the other needs s points to win, the correct division of the stakes is in the ratio of (using modern notation) See the wiki page above.\n",
    "\n",
    "Also, Pascal's Triangle ties into the binomial theorem which apparently is a special case of Viete's Formula: the Binomial Theorem is a special case of Viete's formulas when all of the roots are equal. "
   ]
  },
  {
   "cell_type": "markdown",
   "id": "e48a1b58-8070-474f-afbf-75d70db1199e",
   "metadata": {},
   "source": [
    "<b>Christian Huygens (1629-1695)</b>\n",
    "Tome XIV: Calcul des probabilités. Travaux de mathématiques pures 1655–1666 (1920).\n"
   ]
  },
  {
   "cell_type": "markdown",
   "id": "acd41de8-bbbf-4479-a74c-1b76f06bd5ed",
   "metadata": {},
   "source": [
    "<b>1713: Ars Conjectandi</b> is published 8 years after Jacob Bernoulli's death\n",
    "https://en.wikipedia.org/wiki/Ars_Conjectandi\n",
    "\n",
    "Bernoulli introduces <b>The Law of Large Numbers</b>\n"
   ]
  },
  {
   "cell_type": "code",
   "execution_count": null,
   "id": "178c2851-296f-4a7d-9715-eaa8ba0e164e",
   "metadata": {},
   "outputs": [],
   "source": []
  },
  {
   "cell_type": "markdown",
   "id": "d3d30580-69f8-45c3-bbcc-e984b7dc18b8",
   "metadata": {},
   "source": [
    "<b>1718:The Doctrine of Chances</b> is published by Abraham De Movrie\n",
    "https://en.wikipedia.org/wiki/The_Doctrine_of_Chances"
   ]
  },
  {
   "cell_type": "markdown",
   "id": "bf9922dd-df69-485f-8cd4-36283e2684c4",
   "metadata": {},
   "source": [
    "<b>1763: An Essay towards solving a Problem in the Doctrine of Chances</b> by Thomas Bayes published two years after his death by his friend Richard Price (the greatest Welsh thinker of all time).\n",
    "https://en.wikipedia.org/wiki/An_Essay_towards_solving_a_Problem_in_the_Doctrine_of_Chances\n",
    "https://en.wikipedia.org/wiki/Richard_Price\n",
    "\n",
    "<b>Bayesian: prior and posterior</b>\n",
    "Bayes built off of the medival logic construction of Modus Tollens\n",
    "\n",
    "Brent likes to say when new evidence is found to support a specific theory, \"Update your Bayesian probability\".\n"
   ]
  },
  {
   "cell_type": "markdown",
   "id": "b770ad3f-dc3e-4ec1-a352-b1c3b26a9106",
   "metadata": {},
   "source": [
    "<b>1755-1788?: Buffon's Needle Problem</b> \n",
    "    \n",
    "    https://en.wikipedia.org/wiki/Buffon%27s_needle_problem\n",
    "    This wiki page contains a neat Python simulation."
   ]
  },
  {
   "cell_type": "markdown",
   "id": "e24c15ff-8ca0-4292-a6a8-b544727ac710",
   "metadata": {},
   "source": [
    "<b>Laplace (1749-1827), Poisson (1781-1840) (LaPlace considered Poisson his son), Adolphe Quetlet (1796-1874)</b>: used least squares methods and formulated the body-mass index\n",
    "\n",
    "https://en.wikipedia.org/wiki/De_Moivre%E2%80%93Laplace_theorem\n",
    "\n",
    "https://en.wikipedia.org/wiki/Sim%C3%A9on_Denis_Poisson"
   ]
  },
  {
   "cell_type": "markdown",
   "id": "a8cc1ed0-043a-438d-bcb9-3efe6a57575c",
   "metadata": {},
   "source": [
    "<b>Gauss</b>\n",
    "https://en.wikipedia.org/wiki/Normal_distribution"
   ]
  },
  {
   "cell_type": "markdown",
   "id": "04cea847-f6e7-4560-b2d6-303504a612c7",
   "metadata": {},
   "source": [
    "<b>1849: John Snow and the Broad Street Pump</b>\n",
    "https://www.ph.ucla.edu/epi/snow/snowcricketarticle.html"
   ]
  },
  {
   "cell_type": "markdown",
   "id": "d1a89bea-67ec-4eca-a950-29ac976969ac",
   "metadata": {},
   "source": [
    "<b>Chebychev (1821-194) and Andrey Markov (1856-1922)</b>\n",
    "https://en.wikipedia.org/wiki/Pafnuty_Chebyshev\n",
    "\n",
    "Chebyshev's Theorem: The Empirical Rule does not apply to all data sets, only to those that are bell-shaped, and even then is stated in terms of approximations. A result that applies to every data set is known as Chebyshev’s Theorem.\n",
    "\n",
    "https://stats.libretexts.org/Bookshelves/Introductory_Statistics/Book%3A_Introductory_Statistics_(Shafer_and_Zhang)/02%3A_Descriptive_Statistics/2.05%3A_The_Empirical_Rule_and_Chebyshev's_Theorem#:~:text=Chebyshev's%20Theorem%20is%20a%20fact,standard%20deviations%20of%20the%20mean."
   ]
  },
  {
   "cell_type": "markdown",
   "id": "67ff74cc-ba8b-4f5d-a25e-f4ec79f920c8",
   "metadata": {},
   "source": [
    "<b>1891: Mark Twain or Benjamin Disraeli uses the quote</b>:\n",
    "        https://en.wikipedia.org/wiki/Lies,_damned_lies,_and_statistics"
   ]
  },
  {
   "cell_type": "markdown",
   "id": "3662aa85-1114-42db-a16a-a7f103b5ac48",
   "metadata": {},
   "source": [
    "<b>1901: From Bernoulli's Law of Large Numbers to the Central Limit Theorem </b> \n",
    "    \n",
    "The Central Limit Theorem is formally publish by the Russian Mathematicin Lyapunov\n",
    "\n",
    "The link below provides great comments on Galton, Polya and even Turing on the Central Limit Theorem\n",
    "\n",
    "https://en.wikipedia.org/wiki/Central_limit_theorem#History"
   ]
  },
  {
   "cell_type": "markdown",
   "id": "89f00429-35e6-46f5-bca3-0d240dd16300",
   "metadata": {},
   "source": [
    "<b>Galton, Pearson, Edgeworth, Gosset (student from Guiness) Fisher, Box</b>\n",
    "https://en.wikipedia.org/wiki/William_Sealy_Gosset "
   ]
  },
  {
   "cell_type": "markdown",
   "id": "d68926e6-0813-4aec-aeaf-7e0a6e2ab4e9",
   "metadata": {},
   "source": [
    "<b>1880-1890's: Francis Galton (1822-1911), Darwin's half-cousin, invents correlation</b>\n",
    "\n",
    "Galton also created the statistical concept of correlation and widely promoted regression toward the mean."
   ]
  },
  {
   "cell_type": "markdown",
   "id": "846b68a1-c663-4f18-80f2-5d15fa20e55e",
   "metadata": {},
   "source": [
    "<b> Karl Pearson's Correlation Coefficient</b>\n",
    "\n",
    "The Pearson correlation coefficient (named for Karl Pearson) can be used to summarize the strength of the linear relationship between two data samples. The Pearson's correlation coefficient is calculated as the covariance of the two variables divided by the product of the standard deviation of each data sample.\n",
    "\n",
    "https://medium.com/@vpsfahad/karl-pearsons-correlation-pearson-s-r-and-spearman-s-correlation-using-python-d57f3f3eed13\n",
    "\n"
   ]
  },
  {
   "cell_type": "markdown",
   "id": "24b0c151-f9cd-4925-b971-8fa34c76bb7b",
   "metadata": {},
   "source": [
    "<b>Karl Pearson (1857-1936) and Charles Spearman (1863-1945)\n",
    "Develop variations of Correlation Coefficients </b>\n",
    "\n",
    "Pearson devoted much time during 1893 to 1904 to developing statistical techniques for biometry.[30] These techniques, which are widely used today for statistical analysis, include the chi-squared test, standard deviation, and correlation and regression coefficients. \n",
    "https://en.wikipedia.org/wiki/Karl_Pearson\n",
    "\n",
    "Spearman developed rank correlation (1904), a non-parametric version of the conventional Pearson correlation, as well as both the widely used correction for attenuation (1907), and the earliest version of a 'factor analysis' (Lovie & Lovie, 1996, p. 81)."
   ]
  },
  {
   "cell_type": "markdown",
   "id": "907fc607-0c96-4eb7-8a79-d75bd7467e90",
   "metadata": {},
   "source": [
    "<b>1900: Pearson Publishes His Chi-Squared Hypothesis Test</b>\n",
    "\n",
    "In 1900, Pearson published a paper[1] on the χ2 test which is considered to be one of the foundations of modern statistics.[6] In this paper, Pearson investigated a test of goodness of fit.\n",
    "https://en.wikipedia.org/wiki/Degrees_of_freedom_(statistics)\n",
    "\n",
    "<b> From Investopedia: Chi Squared Tests</b>\n",
    "There are two different kinds of Chi-Square tests: the test of independence, which asks a question of relationship, such as, \"Is there a relationship between gender and SAT scores?\"; and the goodness-of-fit test, which asks something like \"If a coin is tossed 100 times, will it come up heads 50 times and tails 50 times?\"\n",
    "\n",
    "For these tests, degrees of freedom are utilized to determine if a certain null hypothesis can be rejected based on the total number of variables and samples within the experiment. For example, when considering students and course choice, a sample size of 30 or 40 students is likely not large enough to generate significant data. Getting the same or similar results from a study using a sample size of 400 or 500 students is more valid.\n",
    "https://www.investopedia.com/terms/d/degrees-of-freedom.asp\n"
   ]
  },
  {
   "cell_type": "markdown",
   "id": "a7de76c7-2e31-4101-90f5-6e7b069b6d93",
   "metadata": {},
   "source": [
    "<b>1908: Student (W.S. Gosset) publishes the t-Distribution & Degrees of Freedom</b>\n",
    "\n",
    "t-Distribution: a bell curve with fatter tails\n",
    "https://www.investopedia.com/terms/t/tdistribution.asp#:~:text=The%20T%20distribution%2C%20also%20known,distributions%2C%20hence%20the%20fatter%20tails.\n",
    "\n",
    "https://en.wikipedia.org/wiki/Student%27s_t-distribution\n",
    "\n",
    "<b>Degrees of Freedom</b>\n",
    "Although the basic concept of degrees of freedom was recognized as early as 1821 in the work of German astronomer and mathematician Carl Friedrich Gauss,[3] its modern definition and usage was first elaborated by English statistician William Sealy Gosset in his 1908 Biometrika article \"The Probable Error of a Mean\", published under the pen name \"Student\".[4] While Gosset did not actually use the term 'degrees of freedom', he explained the concept in the course of developing what became known as Student's t-distribution. The term itself was popularized by English statistician and biologist Ronald Fisher, beginning with his 1922 work on chi squares.[5]\n",
    "https://en.wikipedia.org/wiki/Degrees_of_freedom_(statistics)\n",
    "\n",
    "https://en.wikipedia.org/wiki/Degrees_of_freedom_(statistics)\n"
   ]
  },
  {
   "cell_type": "markdown",
   "id": "6f3b7a68-dd51-436d-b923-141aaf93248e",
   "metadata": {},
   "source": [
    "<b>1924-1925 Ronald Fisher (1890-1962) Publishes Key Statistics Concepts</b>\n",
    "\n",
    "Fisher's 1924 article On a distribution yielding the error functions of several well known statistics presented Pearson's chi-squared test and William Gosset's Student's t-distribution in the same framework as the Gaussian distribution, and is where he developed Fisher's z-distribution, a new statistical method commonly used decades later as the F-distribution. He pioneered the principles of the design of experiments and the statistics of small samples and the analysis of real data.[citation needed]\n",
    "\n",
    "In 1925 he published Statistical Methods for Research Workers, one of the 20th century's most influential books on statistical methods.[26] Fisher's method[27][28] is a technique for data fusion or \"meta-analysis\" (analysis of analyses). This book also popularized the p-value, which plays a central role in his approach. Fisher proposes the level p=0.05, or a 1 in 20 chance of being exceeded by chance, as a limit for statistical significance, and applies this to a normal distribution (as a two-tailed test), thus yielding the rule of two standard deviations (on a normal distribution) for statistical significance.[29] The significance of 1.96, the approximate value of the 97.5 percentile point of the normal distribution used in probability and statistics, also originated in this book.\n",
    "\n",
    "https://en.wikipedia.org/wiki/Ronald_Fisher"
   ]
  },
  {
   "cell_type": "markdown",
   "id": "86d7585a-ee9f-493a-8da6-88f701e0f516",
   "metadata": {},
   "source": [
    "<b>1933: Kolmogorov established Probability Axioms </b> a set theoretic/measure theory approach to probability using Lebesque Integration and countable infinities\n",
    "https://en.wikipedia.org/wiki/Probability_axioms\n",
    "https://www.stat.berkeley.edu/~aldous/Real_World/kolmogorov.html"
   ]
  },
  {
   "cell_type": "markdown",
   "id": "5a008a51-ba6e-41a6-8463-26496f662d94",
   "metadata": {},
   "source": [
    "<b>Sydney Chapman (1888-1970)- British</b>\n",
    "Chapman's most noted mathematical accomplishments were in the field of stochastic processes (random processes), especially Markov processes. \n",
    "https://en.wikipedia.org/wiki/Sydney_Chapman_(mathematician)"
   ]
  },
  {
   "cell_type": "markdown",
   "id": "b09df3ee-081b-4a2b-88fe-5a53ad912e7d",
   "metadata": {},
   "source": [
    "<b>George E. P. Box (1919-2013): All Models are Wrong, Some are Useful</b>\n",
    "https://en.wikipedia.org/wiki/George_E._P._Box    "
   ]
  },
  {
   "cell_type": "markdown",
   "id": "ce979287-2b2b-4700-87ea-6efff2afa790",
   "metadata": {},
   "source": [
    "<b>1937: Jerzey Neyman (1894-1981) Develops the Confidence Interval</b>\n",
    "    \n",
    "Confidence intervals were introduced to statistics by Jerzy Neyman in a paper published in 1937.[15] However, it took quite a while for confidence intervals to be accurately and routinely used. \n",
    "https://en.wikipedia.org/wiki/Confidence_interval#History\n"
   ]
  },
  {
   "cell_type": "markdown",
   "id": "c471a456-6945-4e61-8c16-8eb7bf1dd65b",
   "metadata": {},
   "source": [
    "<b>1970: John Tukey introduces the box plot</b>\n",
    "    https://en.wikipedia.org/wiki/John_Tukey"
   ]
  },
  {
   "cell_type": "markdown",
   "id": "1649ce9f-b94f-4286-8ebe-d4c8a1264190",
   "metadata": {},
   "source": [
    "<b>1979: Bootstrapping by Bradley Elfron</b>\n",
    "\n",
    "https://en.wikipedia.org/wiki/Bootstrapping_(statistics)\n",
    "\n",
    "Efron is especially known for proposing the bootstrap resampling technique,[3] which has had a major impact in the field of statistics and virtually every area of statistical application. The bootstrap was one of the first computer-intensive statistical techniques, replacing traditional algebraic derivations with data-based computer simulations."
   ]
  },
  {
   "cell_type": "markdown",
   "id": "b2bd5ee7-2cee-44c8-8a02-17f123ddd020",
   "metadata": {},
   "source": [
    "<b>Edwin Thompson Jaynes (1922-1998)</b> - Jaynes was a Bayesian\n",
    "https://en.wikipedia.org/wiki/Edwin_Thompson_Jaynes"
   ]
  },
  {
   "cell_type": "markdown",
   "id": "8dea952e-a3a5-4c48-b03c-2bb13c53f089",
   "metadata": {},
   "source": [
    "<b>Nicholas Nassim Talib: Black Swan Theory</b>\n",
    "Provides a challenge to measuring certainty with probability and statistics"
   ]
  },
  {
   "cell_type": "markdown",
   "id": "1b899dbd-e022-4392-8d0e-1ac03264b3da",
   "metadata": {},
   "source": [
    "<b>Nate Silver: The Signal and the Noise</b>\n",
    "popularizes Bayesian Analysis"
   ]
  },
  {
   "cell_type": "markdown",
   "id": "2a3ff9d7-4c50-48e0-b739-d894e10b1b6e",
   "metadata": {},
   "source": [
    "<b>2015: UC Berkeley delivers the first semester of Data8</b>"
   ]
  },
  {
   "cell_type": "markdown",
   "id": "85b391fc-9a33-4bbd-b129-6c39ecf986cd",
   "metadata": {},
   "source": [
    "<b>2017: The Wall TV Show co-developed by LeBron James</b>\n",
    "    Uses the DeMovrie-Laplace Theorem\n",
    "    https://en.wikipedia.org/wiki/De_Moivre%E2%80%93Laplace_theorem"
   ]
  },
  {
   "cell_type": "markdown",
   "id": "6cbcce17-6d6f-4215-9379-1b62470f1642",
   "metadata": {},
   "source": [
    "<b>Stephen Stigler University of Chicago</b>\n",
    "https://en.wikipedia.org/wiki/Stephen_Stigler"
   ]
  },
  {
   "cell_type": "markdown",
   "id": "3923dc75-715e-4fa3-9f79-5b4987254046",
   "metadata": {},
   "source": [
    "<b>Machine Learning Algorithms for Artificial Narrow Intelligence</b>\n",
    "1. Continuous ML Algorithms\n",
    "1. Discrete ML Algorithms"
   ]
  },
  {
   "cell_type": "markdown",
   "id": "7adec6e4-63b4-4980-8212-ab745c7a260a",
   "metadata": {},
   "source": [
    "<b>Bibliography</b>\n",
    "\n",
    "https://en.wikipedia.org/wiki/Founders_of_statistics\n",
    "https://en.wikipedia.org/wiki/Timeline_of_probability_and_statistics"
   ]
  },
  {
   "cell_type": "markdown",
   "id": "09089178-f476-41e0-bccf-891197d37955",
   "metadata": {},
   "source": [
    "<b>Conclusion</b>\n",
    "Throughout history, more ideas spring from a dialogue of exchanging ideas.\n",
    "While one person may get the credit for an idea, the idea was likely formulated over several years through dialogue among scholars.\n",
    "This is the essence of Newton's quote: <b><i>I see farther because I stand on the shoulders of giants.</i></b>\n",
    "Keep the conversation going through blogs and Elastic Mentor training sessions."
   ]
  },
  {
   "cell_type": "code",
   "execution_count": null,
   "id": "ab6de600-f7a2-467f-b0e2-d424beffb6da",
   "metadata": {},
   "outputs": [],
   "source": []
  }
 ],
 "metadata": {
  "kernelspec": {
   "display_name": "Python 3",
   "language": "python",
   "name": "python3"
  },
  "language_info": {
   "codemirror_mode": {
    "name": "ipython",
    "version": 3
   },
   "file_extension": ".py",
   "mimetype": "text/x-python",
   "name": "python",
   "nbconvert_exporter": "python",
   "pygments_lexer": "ipython3",
   "version": "3.6.9"
  }
 },
 "nbformat": 4,
 "nbformat_minor": 5
}
