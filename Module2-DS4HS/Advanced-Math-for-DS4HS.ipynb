{
 "cells": [
  {
   "cell_type": "markdown",
   "id": "8ab716f6-c7b5-455f-877d-74a41248396f",
   "metadata": {},
   "source": [
    "Calculus: integration to find the probability under a curve"
   ]
  },
  {
   "cell_type": "markdown",
   "id": "6bff0176-d859-44d9-9428-29b04914aff1",
   "metadata": {},
   "source": [
    "More Calculus: Lebesque integration to apply Kolmorgorov's Third Axiom"
   ]
  },
  {
   "cell_type": "markdown",
   "id": "b8a4a1f1-ffa8-4bb3-b335-b75ac7f20b05",
   "metadata": {},
   "source": [
    "Computational Calculus: Reisch integration "
   ]
  },
  {
   "cell_type": "markdown",
   "id": "ff0ac4fd-ba56-4628-a7d8-4cc348f3d574",
   "metadata": {},
   "source": [
    "Matrix Algebra: See Williams College/Brown U paper on Least Squares"
   ]
  }
 ],
 "metadata": {
  "kernelspec": {
   "display_name": "Python 3",
   "language": "python",
   "name": "python3"
  },
  "language_info": {
   "codemirror_mode": {
    "name": "ipython",
    "version": 3
   },
   "file_extension": ".py",
   "mimetype": "text/x-python",
   "name": "python",
   "nbconvert_exporter": "python",
   "pygments_lexer": "ipython3",
   "version": "3.6.9"
  }
 },
 "nbformat": 4,
 "nbformat_minor": 5
}
