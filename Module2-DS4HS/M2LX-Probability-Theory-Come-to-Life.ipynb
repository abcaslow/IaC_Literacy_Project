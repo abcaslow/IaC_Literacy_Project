{
 "cells": [
  {
   "cell_type": "markdown",
   "id": "24315fad-8545-4530-92fd-1d06adeb01f8",
   "metadata": {},
   "source": [
    "https://inferentialthinking.com/chapters/09/3/Simulation.html"
   ]
  },
  {
   "cell_type": "code",
   "execution_count": null,
   "id": "1ddf0442-e0fe-4175-bffb-c483e444791c",
   "metadata": {},
   "outputs": [],
   "source": []
  }
 ],
 "metadata": {
  "kernelspec": {
   "display_name": "Python 3",
   "language": "python",
   "name": "python3"
  },
  "language_info": {
   "codemirror_mode": {
    "name": "ipython",
    "version": 3
   },
   "file_extension": ".py",
   "mimetype": "text/x-python",
   "name": "python",
   "nbconvert_exporter": "python",
   "pygments_lexer": "ipython3",
   "version": "3.6.9"
  }
 },
 "nbformat": 4,
 "nbformat_minor": 5
}
