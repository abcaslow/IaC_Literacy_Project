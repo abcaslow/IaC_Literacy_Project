{
 "cells": [
  {
   "cell_type": "code",
   "execution_count": null,
   "id": "add7c4f4-22a9-48d5-8408-cbb855375444",
   "metadata": {},
   "outputs": [],
   "source": [
    "import csv"
   ]
  },
  {
   "cell_type": "code",
   "execution_count": null,
   "id": "249f81a3-b6a2-4c83-b83d-1b03e0fad0fd",
   "metadata": {},
   "outputs": [],
   "source": [
    "def read_csv_file_as_lod(filename):\n",
    "    f = open(filename)\n",
    "    csv_reader = csv.reader(f)\n",
    "    headers = next(csv_reader)\n",
    "    return [dict(zip(headers,row)) for row in csv_reader if len(row)>0]\n"
   ]
  },
  {
   "cell_type": "code",
   "execution_count": null,
   "id": "e0dc9496-473a-4a6c-bb2c-e66d11bf7090",
   "metadata": {},
   "outputs": [],
   "source": [
    "pwd"
   ]
  },
  {
   "cell_type": "code",
   "execution_count": null,
   "id": "3f3b8430-e0c4-42ed-b8e4-4760bbf7ee56",
   "metadata": {},
   "outputs": [],
   "source": [
    "heartrate_list = read_csv_file_as_lod('/home/abcaslow/heartrate.csv')"
   ]
  },
  {
   "cell_type": "code",
   "execution_count": null,
   "id": "83870e8c-eeb4-4d71-8793-8143c17e71dc",
   "metadata": {},
   "outputs": [],
   "source": [
    "len(heartrate_list)"
   ]
  },
  {
   "cell_type": "markdown",
   "id": "078a2346-b8bc-419e-960c-f1ebf20bb209",
   "metadata": {},
   "source": [
    "Review the heartrate_list. It is a list of dictionaries.\n",
    "Ask yourself, how do you find the mean, median, min and max of these heartrates?\n",
    "Compare your answer to finding the mean, median, min and max with a numpy array."
   ]
  },
  {
   "cell_type": "code",
   "execution_count": null,
   "id": "9dcc0052-601c-44bd-bd7c-7e75d75b3354",
   "metadata": {},
   "outputs": [],
   "source": [
    "heartrate_list[:10]"
   ]
  },
  {
   "cell_type": "markdown",
   "id": "de7718c0-fafa-410d-b0d3-4cd0c154a0e2",
   "metadata": {},
   "source": [
    "What Python Data Type is inside the heartrate_list? Let's check with the Python 'type' statement."
   ]
  },
  {
   "cell_type": "code",
   "execution_count": null,
   "id": "b5604be7-3670-4471-843d-f06d6607893e",
   "metadata": {},
   "outputs": [],
   "source": [
    "type(heartrate_list[0])"
   ]
  },
  {
   "cell_type": "markdown",
   "id": "6063e6a4-37d3-4f8b-bba6-251ac98a6db5",
   "metadata": {},
   "source": [
    "Like peeling the layers of an onion, what Python Data Types are in the nested dictionary?\n",
    "Let's begin this investigation with the Python dictionary 'keys()' method."
   ]
  },
  {
   "cell_type": "code",
   "execution_count": null,
   "id": "3e377938-64c5-4675-8f2c-de058fef339b",
   "metadata": {},
   "outputs": [],
   "source": [
    "heartrate_list[0].keys()"
   ]
  },
  {
   "cell_type": "markdown",
   "id": "9c1339af-5f8c-4549-b040-b960dd1ef4fa",
   "metadata": {},
   "source": [
    "Still peeling down into the nested Python Data Types, let's check exactly what the Data Types are of each Dictionary key. Make sure you run each 'type' statement at a time by reversing the comment symbol at the beginning of the line."
   ]
  },
  {
   "cell_type": "code",
   "execution_count": null,
   "id": "44795a19-1a2e-4bb6-8fc9-20e415bb7dfa",
   "metadata": {},
   "outputs": [],
   "source": [
    "type(heartrate_list[0]['timestamp'])\n",
    "#type(heartrate_list[0]['heartrate'])"
   ]
  },
  {
   "cell_type": "markdown",
   "id": "6945dc74-2917-4ca7-bc9a-4540e8dbb89f",
   "metadata": {},
   "source": [
    "As you can see, both the timestamp and the heartrate are Python 'string' Data Types.\n",
    "Now let's perform a similar analysis with a Berkeley datascience Table.\n",
    "We will start by loading the Berkeley datascience Python module and then loading the exact same csv file we loaded to create our heartrate_list in raw Python above."
   ]
  },
  {
   "cell_type": "code",
   "execution_count": null,
   "id": "8c35a781-ce4e-4601-a242-6aa7f1812793",
   "metadata": {},
   "outputs": [],
   "source": [
    "from datascience import Table\n",
    "import numpy as np"
   ]
  },
  {
   "cell_type": "code",
   "execution_count": null,
   "id": "74c9d31b-e995-4ea2-8820-d8a7b62819b8",
   "metadata": {},
   "outputs": [],
   "source": [
    "heartrate_table=Table.read_table('/home/abcaslow/heartrate.csv')"
   ]
  },
  {
   "cell_type": "code",
   "execution_count": null,
   "id": "70ca57a7-2bab-46b6-8426-cdb26ad447ea",
   "metadata": {},
   "outputs": [],
   "source": [
    "heartrate_table"
   ]
  },
  {
   "cell_type": "code",
   "execution_count": null,
   "id": "db8f6e16-42ac-434c-8718-88bd5075be6d",
   "metadata": {},
   "outputs": [],
   "source": [
    "len(heartrate_table)"
   ]
  },
  {
   "cell_type": "code",
   "execution_count": null,
   "id": "f9a61021-33cd-41ec-ad6d-d35b12d68559",
   "metadata": {},
   "outputs": [],
   "source": [
    "heartrate_table.shape"
   ]
  },
  {
   "cell_type": "code",
   "execution_count": null,
   "id": "784dad15-537a-421f-ad97-0b1c76ddb4f6",
   "metadata": {},
   "outputs": [],
   "source": [
    "heartrate_table.column(0)[:10]"
   ]
  },
  {
   "cell_type": "code",
   "execution_count": null,
   "id": "0c9a1a7e-484e-41ad-aeac-b97b31a35fc8",
   "metadata": {},
   "outputs": [],
   "source": [
    "heartrate_table.column(1)[:10]"
   ]
  },
  {
   "cell_type": "code",
   "execution_count": null,
   "id": "32e22e2b-1288-4f09-a9b1-4db8dc9abd86",
   "metadata": {},
   "outputs": [],
   "source": [
    "heartrate_table.column('timestamp').dtype"
   ]
  },
  {
   "cell_type": "code",
   "execution_count": null,
   "id": "ca3cc779-1761-45b6-aeba-0b63bf8b65c8",
   "metadata": {},
   "outputs": [],
   "source": [
    "heartrate_table.column('heartrate').dtype"
   ]
  },
  {
   "cell_type": "markdown",
   "id": "e98c0f61-b6a1-4f43-8856-33562c19a8a5",
   "metadata": {},
   "source": [
    "Remember, the table produced by the Berkeley DataScience module is a set of columns of numpy arrays. The following cell separates the heartrate columns for easy statistical analysis."
   ]
  },
  {
   "cell_type": "code",
   "execution_count": null,
   "id": "5abc09db-614a-49e8-99ae-c03984cda2dd",
   "metadata": {},
   "outputs": [],
   "source": [
    "np.min(heartrate_table.column(1))"
   ]
  },
  {
   "cell_type": "code",
   "execution_count": null,
   "id": "4db2ef44-d5b7-4a0e-ad54-f67d580c2afb",
   "metadata": {},
   "outputs": [],
   "source": []
  }
 ],
 "metadata": {
  "kernelspec": {
   "display_name": "Python 3",
   "language": "python",
   "name": "python3"
  },
  "language_info": {
   "codemirror_mode": {
    "name": "ipython",
    "version": 3
   },
   "file_extension": ".py",
   "mimetype": "text/x-python",
   "name": "python",
   "nbconvert_exporter": "python",
   "pygments_lexer": "ipython3",
   "version": "3.6.9"
  }
 },
 "nbformat": 4,
 "nbformat_minor": 5
}
